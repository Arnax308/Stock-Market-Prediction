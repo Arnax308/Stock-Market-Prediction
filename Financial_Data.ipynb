{
 "cells": [
  {
   "cell_type": "code",
   "execution_count": 2,
   "id": "ca2d5302",
   "metadata": {},
   "outputs": [],
   "source": [
    "import yfinance as yf\n",
    "import requests\n",
    "import numpy as np\n",
    "import pandas as pd\n",
    "from matplotlib import pyplot as plt\n",
    "import matplotlib.dates as mdates\n",
    "from scipy.signal import argrelextrema\n",
    "import matplotlib.colors as mcolors\n",
    "from matplotlib.transforms import blended_transform_factory\n",
    "import plotly.graph_objects as go\n",
    "from plotly.subplots import make_subplots"
   ]
  },
  {
   "cell_type": "code",
   "execution_count": 3,
   "id": "ba90117e",
   "metadata": {},
   "outputs": [],
   "source": [
    "def search_stock_symbol(company_name):\n",
    "    url = f'https://www.alphavantage.co/query?function=SYMBOL_SEARCH&keywords={company_name}&apikey=Y9DN79N2PBBK2X1O'\n",
    "    \n",
    "    # Send request to Alpha Vantage API\n",
    "    response = requests.get(url)\n",
    "    data = response.json()\n",
    "    \n",
    "    # Extract and print best matches\n",
    "    if 'bestMatches' in data:\n",
    "        matches = data['bestMatches']\n",
    "        for match in matches:\n",
    "        \n",
    "            if match['4. region'] == 'India/Bombay':\n",
    "                symbol = match['1. symbol']\n",
    "                name = match['2. name']\n",
    "\n",
    "                return symbol,name\n",
    "\n",
    "            else:\n",
    "                continue\n",
    "    \n",
    "    else:\n",
    "        \n",
    "        raise ValueError(\"No such company found\")"
   ]
  },
  {
   "cell_type": "code",
   "execution_count": 4,
   "id": "1a19b4f5",
   "metadata": {},
   "outputs": [],
   "source": [
    "def symbol_changes(symbol):\n",
    "    symbol = symbol[:-3]\n",
    "    symbol += \"NS\"\n",
    "    \n",
    "    return symbol"
   ]
  },
  {
   "cell_type": "code",
   "execution_count": 5,
   "id": "687a8850",
   "metadata": {},
   "outputs": [],
   "source": [
    "# Calculate EPS and check for -ve growth (quartely-quartely yearly)\n",
    "def pe_and_market_cap(all_info):\n",
    "    \n",
    "    share_price = all_info['currentPrice']\n",
    "    no_shares = all_info['sharesOutstanding']\n",
    "    eps = all_info['trailingEps']\n",
    "    \n",
    "    market_cap = share_price * no_shares\n",
    "    pe = market_cap/ (eps * no_shares)\n",
    "    \n",
    "    if market_cap < (5000 * (10 **7)):\n",
    "        Id ='s' #Small Cap\n",
    "\n",
    "    elif (5000 * (10 ** 7)) < market_cap < 20000 * (10 ** 7):\n",
    "        Id ='m' #Middle Cap\n",
    "\n",
    "    else:\n",
    "           Id ='l' #Large Cap\n",
    "    \n",
    "    if Id == 'l':\n",
    "        id2 = 1\n",
    "        \n",
    "    else:\n",
    "        id2 = 0\n",
    "    \n",
    "    return market_cap, pe, id2"
   ]
  },
  {
   "cell_type": "code",
   "execution_count": 6,
   "id": "aef0676d",
   "metadata": {},
   "outputs": [],
   "source": [
    "def macd(data):\n",
    "    ma12 = data['Close'].ewm(span=12, adjust=False).mean()\n",
    "    ma26 = data['Close'].ewm(span=26, adjust=False).mean()\n",
    "    macd = ma12 - ma26\n",
    "    signal_line = macd.ewm(span=9, adjust=False).mean()\n",
    "    \n",
    "    histogram = macd - signal_line\n",
    "    \n",
    "    data[\"MACD\"] = macd\n",
    "    data['Signal Line'] = signal_line\n",
    "    data['Histogram'] = histogram\n",
    "    \n",
    "    # Calculate slopes for MACD and Signal Line\n",
    "    data['MACD_slope'] = macd - macd.shift(1)\n",
    "    data['Signal_slope'] = signal_line - signal_line.shift(1)\n",
    "    \n",
    "    # Initialize Signal column\n",
    "    data['Signal'] = 0\n",
    "    \n",
    "    # Define conditions for Buy, Sell, and Hold\n",
    "    buy_condition = (\n",
    "        ((data['MACD'] > data['Signal Line']) & (data['MACD'].shift(1) <= data['Signal Line'].shift(1))) |  # Bullish crossover\n",
    "        ((data['MACD_slope'] > 0) & (data['Signal_slope'] > 0))  # Both lines rising\n",
    "    )\n",
    "    \n",
    "    sell_condition = (\n",
    "        ((data['MACD'] < data['Signal Line']) & (data['MACD'].shift(1) >= data['Signal Line'].shift(1))) |  # Bearish crossover\n",
    "        ((data['MACD_slope'] < 0) & (data['Signal_slope'] < 0))  # Both lines falling\n",
    "    )\n",
    "    \n",
    "    # Apply conditions\n",
    "    data.loc[buy_condition, 'Signal'] = 1\n",
    "    data.loc[sell_condition, 'Signal'] = -1\n",
    "    \n",
    "    # Creating a column for prediction (Buy, Sell, or Hold)\n",
    "    data['Prediction'] = data['Signal'].apply(lambda x: 'Buy' if x == 1 else ('Sell' if x == -1 else 'Hold'))\n",
    "    \n",
    "    return data[['Close', 'MACD', 'Signal Line', 'Histogram', 'MACD_slope', 'Signal_slope', 'Prediction']]"
   ]
  },
  {
   "cell_type": "code",
   "execution_count": 7,
   "id": "200215ee",
   "metadata": {},
   "outputs": [],
   "source": [
    "def rsi(data, window=14):\n",
    "    delta = data['Close'].diff()\n",
    "    gain = delta.where(delta > 0, 0)\n",
    "    loss = -delta.where(delta < 0, 0)\n",
    "    \n",
    "    # Calculate initial average gains and losses\n",
    "    avg_gain = gain[:window].mean()\n",
    "    avg_loss = loss[:window].mean()\n",
    "    \n",
    "    # Initialize RSI values\n",
    "    rsi_values = []\n",
    "    \n",
    "    # Iterate through the rest of the data\n",
    "    for i in range(window, len(data)):\n",
    "        avg_gain = (avg_gain * (window - 1) + gain.iloc[i]) / window\n",
    "        avg_loss = (avg_loss * (window - 1) + loss.iloc[i]) / window\n",
    "        \n",
    "        rs = avg_gain / avg_loss\n",
    "        rsi = 100 - (100 / (1 + rs))\n",
    "        \n",
    "        rsi_values.append(rsi)\n",
    "    \n",
    "    # Add RSI column to the DataFrame\n",
    "    data['RSI'] = pd.Series(rsi_values, index=data.index[window:])\n",
    "    \n",
    "    return data[window:], window"
   ]
  },
  {
   "cell_type": "code",
   "execution_count": 8,
   "id": "5d98cd36",
   "metadata": {},
   "outputs": [],
   "source": [
    "# # Not giving the right answer\n",
    "# def lifetime_high(company_name):\n",
    "    \n",
    "#     symbol = inp(company_name)\n",
    "#     comp = yf.Ticker(symbol)\n",
    "#     data = comp.history(period='1y', interval='1d')\n",
    "    \n",
    "#     return round(data['High'].max(), 3)"
   ]
  },
  {
   "cell_type": "code",
   "execution_count": 9,
   "id": "cbc39a23",
   "metadata": {},
   "outputs": [],
   "source": [
    "def fibonacci_retracement(data, window_size=10):\n",
    "    close_prices = data['Close'].values\n",
    "    \n",
    "    # Function to identify trends\n",
    "    def identify_trend(prices, window):\n",
    "        trends = np.zeros(len(prices))\n",
    "        for i in range(window, len(prices)):\n",
    "            if prices[i] > prices[i-window]:\n",
    "                trends[i] = 1  # Uptrend\n",
    "            elif prices[i] < prices[i-window]:\n",
    "                trends[i] = -1  # Downtrend\n",
    "        return trends\n",
    "    \n",
    "    # Identify trends\n",
    "    trends = identify_trend(close_prices, window_size)\n",
    "    \n",
    "    # Find the most recent significant trend change\n",
    "    trend_changes = np.diff(trends)\n",
    "    significant_changes = np.where(np.abs(trend_changes) > 0)[0]\n",
    "    \n",
    "    if len(significant_changes) > 0:\n",
    "        last_change = significant_changes[-1]\n",
    "        current_trend = \"uptrend\" if trends[last_change + 1] == 1 else \"downtrend\"\n",
    "        \n",
    "        # Find high and low prices since the trend change\n",
    "        if current_trend == \"uptrend\":\n",
    "            low_price = np.min(close_prices[max(0, last_change-window_size):last_change+1])\n",
    "            high_price = np.max(close_prices[last_change+1:])\n",
    "        else:\n",
    "            high_price = np.max(close_prices[max(0, last_change-window_size):last_change+1])\n",
    "            low_price = np.min(close_prices[last_change+1:])\n",
    "    else:\n",
    "        # If no significant trend change, use the entire dataset\n",
    "        current_trend = \"uptrend\" if close_prices[-1] > close_prices[0] else \"downtrend\"\n",
    "        high_price = np.max(close_prices)\n",
    "        low_price = np.min(close_prices)\n",
    "    \n",
    "    # Ensure we have valid high and low prices\n",
    "    if high_price == low_price:\n",
    "        high_price = np.max(close_prices)\n",
    "        low_price = np.min(close_prices)\n",
    "        current_trend = \"uptrend\" if close_prices[-1] > close_prices[0] else \"downtrend\"\n",
    "    \n",
    "    # Calculate Fibonacci levels\n",
    "    diff = high_price - low_price\n",
    "    retracement_levels = {\n",
    "        \"23.6%\": high_price - 0.236 * diff if current_trend == \"uptrend\" else low_price + 0.236 * diff,\n",
    "        \"38.2%\": high_price - 0.382 * diff if current_trend == \"uptrend\" else low_price + 0.382 * diff,\n",
    "        \"50%\": high_price - 0.500 * diff if current_trend == \"uptrend\" else low_price + 0.500 * diff,\n",
    "        \"61.8%\": high_price - 0.618 * diff if current_trend == \"uptrend\" else low_price + 0.618 * diff,\n",
    "        \"78.6%\": high_price - 0.786 * diff if current_trend == \"uptrend\" else low_price + 0.786 * diff\n",
    "    }\n",
    "    \n",
    "    extension_levels = {\n",
    "        \"123.6%\": high_price + 0.236 * diff,\n",
    "        \"138.2%\": high_price + 0.382 * diff,\n",
    "        \"150%\": high_price + 0.500 * diff,\n",
    "        \"161.8%\": high_price + 0.618 * diff,\n",
    "        \"200%\": high_price + diff,\n",
    "    }\n",
    "    \n",
    "    return {\n",
    "        \"trend\": current_trend,\n",
    "        \"prices\": {\n",
    "            \"high_price\": high_price,\n",
    "            \"low_price\": low_price\n",
    "        },\n",
    "        \"retracement_levels\": retracement_levels,\n",
    "        \"extension_levels\": extension_levels,\n",
    "    }"
   ]
  },
  {
   "cell_type": "code",
   "execution_count": 10,
   "id": "84466c71",
   "metadata": {},
   "outputs": [],
   "source": [
    "def calculate_trend(df, short_window=14, long_window=50):\n",
    "    # Higher Highs (HH) and Lower Highs (LH)\n",
    "    df['Rolling_Max_High_Short'] = df['High'].rolling(window=short_window).max()\n",
    "    df['Rolling_Max_High_Long'] = df['High'].rolling(window=long_window).max()\n",
    "    df['HH_Short'] = df['High'] > df['Rolling_Max_High_Short'].shift(1)\n",
    "    df['HH_Long'] = df['High'] > df['Rolling_Max_High_Long'].shift(1)\n",
    "    df['LH_Short'] = df['High'] < df['Rolling_Max_High_Short'].shift(1)\n",
    "    df['LH_Long'] = df['High'] < df['Rolling_Max_High_Long'].shift(1)\n",
    "    \n",
    "    # Higher Lows (HL) and Lower Lows (LL)\n",
    "    df['Rolling_Min_Low_Short'] = df['Low'].rolling(window=short_window).min()\n",
    "    df['Rolling_Min_Low_Long'] = df['Low'].rolling(window=long_window).min()\n",
    "    df['HL_Short'] = df['Low'] > df['Rolling_Min_Low_Short'].shift(1)\n",
    "    df['HL_Long'] = df['Low'] > df['Rolling_Min_Low_Long'].shift(1)\n",
    "    df['LL_Short'] = df['Low'] < df['Rolling_Min_Low_Short'].shift(1)\n",
    "    df['LL_Long'] = df['Low'] < df['Rolling_Min_Low_Long'].shift(1)\n",
    "    \n",
    "    df['Bullish_Strength_Short'] = (df['HH_Short'].rolling(window=short_window).sum() + \n",
    "                                    df['HL_Short'].rolling(window=short_window).sum()) / (2 * short_window)\n",
    "    df['Bearish_Strength_Short'] = (df['LH_Short'].rolling(window=short_window).sum() + \n",
    "                                    df['LL_Short'].rolling(window=short_window).sum()) / (2 * short_window)\n",
    "    \n",
    "    df['Bullish_Strength_Long'] = (df['HH_Long'].rolling(window=long_window).sum() + \n",
    "                                   df['HL_Long'].rolling(window=long_window).sum()) / (2 * long_window)\n",
    "    df['Bearish_Strength_Long'] = (df['LH_Long'].rolling(window=long_window).sum() + \n",
    "                                   df['LL_Long'].rolling(window=long_window).sum()) / (2 * long_window)\n",
    "    \n",
    "    return df[long_window:]"
   ]
  },
  {
   "cell_type": "code",
   "execution_count": 11,
   "id": "a87412dd",
   "metadata": {},
   "outputs": [],
   "source": [
    "def interpret_macd(data):\n",
    "    result = data.iloc[-1]\n",
    "    \n",
    "    pred = result['Prediction']\n",
    "    macd_value = result['MACD']\n",
    "    signal_value = result['Signal Line']\n",
    "    histogram = result['Histogram']\n",
    "    macd_slope = result['MACD_slope']\n",
    "    signal_slope = result['Signal_slope']\n",
    "    \n",
    "    if pred == 'Buy':\n",
    "        if macd_value > signal_value and macd_slope > 0 and signal_slope > 0:\n",
    "            macd_response = \"Strong Buy: MACD is above Signal Line and both are rising.\"\n",
    "            macd_score = 1\n",
    "        elif macd_value > signal_value:\n",
    "            macd_response = \"Buy: MACD has just crossed above the Signal Line.\"\n",
    "            macd_score = 0.5\n",
    "        else:\n",
    "            macd_response = \"Weak Buy: MACD and Signal Line are rising, but MACD is still below Signal Line.\"\n",
    "            macd_score = 0.25\n",
    "    \n",
    "    elif pred == 'Sell':\n",
    "       \n",
    "        if macd_value < signal_value and macd_slope < 0 and signal_slope < 0:\n",
    "            macd_response = \"Strong Sell: MACD is below Signal Line and both are falling.\"\n",
    "            macd_score = -1\n",
    "        elif macd_value < signal_value:\n",
    "            macd_response = \"Sell: MACD has just crossed below the Signal Line.\"\n",
    "            macd_score = -0.5\n",
    "        else:\n",
    "            macd_response = \"Weak Sell: MACD and Signal Line are falling, but MACD is still above Signal Line.\"\n",
    "            macd_score = 0.25\n",
    "    \n",
    "    else:  # Hold\n",
    "        if histogram > 0:\n",
    "            if macd_slope > 0 and signal_slope > 0:\n",
    "                macd_response = \"Hold (Bullish): MACD is above Signal Line and both are rising, but no crossover yet.\"\n",
    "                macd_score = 0.25\n",
    "            elif macd_slope < 0 and signal_slope < 0:\n",
    "                macd_response = \"Hold (Bearish Divergence): MACD is above Signal Line but both are falling.\"\n",
    "                macd_score = -0.25\n",
    "            else:\n",
    "                macd_response = \"Hold: MACD is above Signal Line but trend is unclear.\"\n",
    "                macd_score = 0\n",
    "        else:\n",
    "            if macd_slope < 0 and signal_slope < 0:\n",
    "                macd_response = \"Hold (Bearish): MACD is below Signal Line and both are falling, but no crossover yet.\"\n",
    "                macd_score = 0.25\n",
    "            elif macd_slope > 0 and signal_slope > 0:\n",
    "                macd_response = \"Hold (Bullish Divergence): MACD is below Signal Line but both are rising.\"\n",
    "                macd_score = 0.25\n",
    "            else:\n",
    "                macd_response = \"Hold: MACD is below Signal Line but trend is unclear.\"\n",
    "                macd_score = 0\n",
    "    \n",
    "    return macd_score, macd_response"
   ]
  },
  {
   "cell_type": "code",
   "execution_count": 12,
   "id": "8901018b",
   "metadata": {},
   "outputs": [],
   "source": [
    "def analyze_rsi(data):\n",
    "    rsi_value = data['RSI']\n",
    "    current_rsi = rsi_value.iloc[-1]\n",
    "    prev_rsi = rsi_value.iloc[-2]\n",
    "    rsi_change = current_rsi - prev_rsi\n",
    "\n",
    "    if current_rsi > 70:\n",
    "        if rsi_change > 0:\n",
    "            rsi_score = -1  # Strong Sell\n",
    "            rsi_response = f'RSI is {round(current_rsi, 2)} and rising, indicating strong overbought conditions. Consider SELLING.'\n",
    "        else:\n",
    "            rsi_score = -0.75  # Moderate Sell\n",
    "            rsi_response = f'RSI is {round(current_rsi, 2)} but decreasing, suggesting potential reversal from overbought conditions. Monitor closely for selling opportunities.'\n",
    "\n",
    "    elif 70 >= current_rsi > 60:\n",
    "        if rsi_change > 0:\n",
    "            rsi_score = -0.5  # Mild Sell\n",
    "            rsi_response = f'RSI is {round(current_rsi, 2)} and rising towards overbought territory. Consider selling or holding for some more time before selling .'\n",
    "        else:\n",
    "            rsi_score = -0.25  # Weak Sell\n",
    "            rsi_response = f'RSI is {round(current_rsi, 2)} but decreasing, moving away from overbought levels. Hold positions but stay cautious.'\n",
    "\n",
    "    elif 60 >= current_rsi > 50:\n",
    "        if rsi_change > 0:\n",
    "            rsi_score = 0.25  # Weak Buy\n",
    "            rsi_response = f'RSI is {round(current_rsi, 2)} and rising, showing increasing bullish momentum. Consider BUYING.'\n",
    "        else:\n",
    "            rsi_score = -0.25  # Weak Sell\n",
    "            rsi_response = f'RSI is {round(current_rsi, 2)} but decreasing, indicating weakening bullish momentum. Hold current positions.'\n",
    "\n",
    "    elif 50 >= current_rsi > 40:\n",
    "        if rsi_change > 0:\n",
    "            rsi_score = 0.25  # Weak Buy\n",
    "            rsi_response = f'RSI is {round(current_rsi, 2)} and rising, showing potential recovery from bearish territory. Monitor for buying opportunities.'\n",
    "        else:\n",
    "            rsi_score = -0.25  # Weak Sell\n",
    "            rsi_response = f'RSI is {round(current_rsi, 2)} and decreasing, moving towards oversold levels. Hold current positions and watch for further decline to buy.'\n",
    "\n",
    "    elif 40 >= current_rsi > 30:\n",
    "        if rsi_change > 0:\n",
    "            rsi_score = 0.5  # Mild Buy\n",
    "            rsi_response = f'RSI is {round(current_rsi, 2)} and rising from oversold levels. Consider initiating buying.'\n",
    "        else:\n",
    "            rsi_score = 0.25  # Weak Buy\n",
    "            rsi_response = f'RSI is {round(current_rsi, 2)} and approaching oversold territory. Prepare for buying opportunities.'\n",
    "\n",
    "    else:  # RSI <= 30\n",
    "        if rsi_change > 0:\n",
    "            rsi_score = 0.75  # Moderate Buy\n",
    "            rsi_response = f'RSI is {round(current_rsi, 2)} and rising from oversold conditions. Strong buying opportunity, but be aware of potential false signals.'\n",
    "        else:\n",
    "            rsi_score = 1  # Strong Buy\n",
    "            rsi_response = f'RSI is {round(current_rsi, 2)} and still decreasing in oversold territory. Very strong buy signal, but confirm with other indicators.'\n",
    "\n",
    "    return rsi_score, rsi_response"
   ]
  },
  {
   "cell_type": "code",
   "execution_count": 13,
   "id": "1ccef26c",
   "metadata": {},
   "outputs": [],
   "source": [
    "def fib_insight(current_price, levels, trend, previous_price):\n",
    "    insights = []\n",
    "    weight = 0.5  # Start with a neutral weight\n",
    "    \n",
    "    def get_nearest_levels(price, level_dict):\n",
    "        sorted_levels = sorted(level_dict.items(), key=lambda x: x[1])\n",
    "        below = next(((name, value) for name, value in reversed(sorted_levels) if value < price), None)\n",
    "        above = next(((name, value) for name, value in sorted_levels if value > price), None)\n",
    "        return below, above\n",
    "\n",
    "    def calculate_slope(price1, price2):\n",
    "        return (price2 - price1) / price1\n",
    "\n",
    "    slope = calculate_slope(previous_price, current_price)\n",
    "    \n",
    "    if trend == 'uptrend':\n",
    "        below, above = get_nearest_levels(current_price, levels['extension'])\n",
    "        \n",
    "        if below and above:\n",
    "            below_name, below_value = below\n",
    "            above_name, above_value = above\n",
    "            progress = (current_price - below_value) / (above_value - below_value)\n",
    "            insights.append(f\"Price is between {below_name} ({round(below_value, 2)}) and {above_name} ({round(above_value, 2)}) extension levels.\")\n",
    "            insights.append(f\"Current price has retraced {round(progress * 100, 2)}% of the distance between these levels.\")\n",
    "            \n",
    "            if slope > 0:\n",
    "                insights.append(f\"Price is trending upwards towards {above_name} level. Recommendation: Hold and Buy in the future when the oppurtunity turns up.\")\n",
    "                weight = min(weight + 0.1, 1)\n",
    "            else:\n",
    "                insights.append(f\"Price is trending downwards towards {below_name} level. Recommendation: Buy in the future when the oppurtunity turns up\")\n",
    "                weight = max(weight - 0.1, 0)\n",
    "            \n",
    "            if progress < 0.2:\n",
    "                insights.append(f\"Price is close to {below_name} level, may act as support.\")\n",
    "                weight = min(weight + 0.1, 1)\n",
    "            elif progress > 0.8:\n",
    "                insights.append(f\"Price is approaching {above_name} level, may face resistance.\")\n",
    "                weight = max(weight - 0.1, 0)\n",
    "        \n",
    "        for level_name, level_value in levels['extension'].items():\n",
    "            price_diff_percent = (current_price - level_value) / level_value * 100\n",
    "            if abs(price_diff_percent) <= 1:  # Within 1% of a level\n",
    "                insights.append(f\"Price is very close to {level_name} extension level ({round(level_value, 2)}), indicating potential resistance.\")\n",
    "                if slope > 0:\n",
    "                    insights.append(\"Price is moving upwards. Recommendation: Hold.\")\n",
    "                    weight = max(weight - 0.2, 0)\n",
    "                else:\n",
    "                    insights.append(\"Price is moving downwards. Recommendation: Look for an oppturnity to Buy in the future.\")\n",
    "                    weight = min(weight + 0.1, 1)\n",
    "            elif price_diff_percent > 1:  # Above a level\n",
    "                weight = min(weight + 0.05 * (1 - price_diff_percent / 10), 1)  # Gradual weight increase\n",
    "            \n",
    "    elif trend == 'downtrend':\n",
    "        below, above = get_nearest_levels(current_price, levels['retracement'])\n",
    "        \n",
    "        if below and above:\n",
    "            below_name, below_value = below\n",
    "            above_name, above_value = above\n",
    "            progress = (current_price - below_value) / (above_value - below_value)\n",
    "            insights.append(f\"Price is between {below_name} ({round(below_value, 2)}) and {above_name} ({round(above_value, 2)}) retracement levels.\")\n",
    "            insights.append(f\"Current price has retraced {round(progress * 100, 2)}% of the distance between these levels.\")\n",
    "            \n",
    "            if slope > 0:\n",
    "                insights.append(f\"Price is trending upwards towards {above_name} level. Recommendation: Hold or Buy in the future when the oppurtunity turns up.\")\n",
    "                weight = min(weight + 0.1, 1)\n",
    "            else:\n",
    "                insights.append(f\"Price is trending downwards towards {below_name} level. Recommendation: Buy in the future when the oppurtunity turns up.\")\n",
    "                weight = max(weight - 0.1, 0)\n",
    "            \n",
    "            if progress < 0.2:\n",
    "                insights.append(f\"Price is close to {below_name} level, may act as support.\")\n",
    "                weight = min(weight + 0.1, 1)\n",
    "            elif progress > 0.8:\n",
    "                insights.append(f\"Price is approaching {above_name} level, may face resistance.\")\n",
    "                weight = max(weight - 0.1, 0)\n",
    "        \n",
    "        for level_name, level_value in levels['retracement'].items():\n",
    "            price_diff_percent = (current_price - level_value) / level_value * 100\n",
    "            if abs(price_diff_percent) <= 1:  # Within 1% of a level\n",
    "                insights.append(f\"Price is very close to {level_name} retracement level ({round(level_value, 2)}), indicating potential support.\")\n",
    "                if slope > 0:\n",
    "                    insights.append(\"Price is moving upwards. Recommendation: Hold or Sell in the future when the oppurtunity turns up.\")\n",
    "                    weight = min(weight + 0.2, 1)\n",
    "                else:\n",
    "                    insights.append(\"Price is moving downwards. Recommendation:Sell in the future when the oppurtunity turns up.\")\n",
    "                    weight = max(weight - 0.1, 0)\n",
    "            elif price_diff_percent < -1:  # Below a level\n",
    "                weight = max(weight - 0.05 * (1 + price_diff_percent / 10), 0)  # Gradual weight decrease\n",
    "\n",
    "    # Add overall trend insight based on slope\n",
    "    if slope > 0:\n",
    "        insights.append(f\"Overall, price is trending upwards. Recommendation: Hold or Buy in the future when the oppurtunity turns up.\")\n",
    "        weight = min(weight + 0.1, 1)\n",
    "    elif slope < 0:\n",
    "        insights.append(f\"Overall, price is trending downwards. Recommendation: Buy in the future when the oppurtunity turns up.\")\n",
    "        weight = max(weight - 0.1, 0)\n",
    "    else:\n",
    "        insights.append(\"Price is currently stable with no significant movement. Recommendation: Hold.\")\n",
    "\n",
    "    return insights, weight"
   ]
  },
  {
   "cell_type": "code",
   "execution_count": 14,
   "id": "c7b6e8e6",
   "metadata": {},
   "outputs": [],
   "source": [
    "def analyze_trend(df):\n",
    "    bullish_strength_short = df['Bullish_Strength_Short'].iloc[-1]\n",
    "    bearish_strength_short = df['Bearish_Strength_Short'].iloc[-1]\n",
    "    bullish_strength_long = df['Bullish_Strength_Long'].iloc[-1]\n",
    "    bearish_strength_long = df['Bearish_Strength_Long'].iloc[-1]\n",
    "    \n",
    "    short_term_bias = \"bullish\" if bullish_strength_short > bearish_strength_short else \"bearish\"\n",
    "    long_term_bias = \"bullish\" if bullish_strength_long > bearish_strength_long else \"bearish\"\n",
    "    \n",
    "    if short_term_bias == long_term_bias:\n",
    "        if short_term_bias == \"bullish\":\n",
    "            trend_score = 1  # Strong Bullish\n",
    "            trend_response = f\"The stock is in a strong uptrend, with both short-term and long-term indicators showing bullish signals.\"\n",
    "        else:\n",
    "            trend_score = -1  # Strong Bearish\n",
    "            trend_response = f\"The stock is in a strong downtrend, with both short-term and long-term indicators showing bearish signals.\"\n",
    "    else:\n",
    "        if short_term_bias == \"bullish\":\n",
    "            trend_score = 0.25  # Weak Bullish\n",
    "            trend_response = f\"While the stock is showing recent signs of recovery, it remains in an overall downtrend. Exercise caution with any bullish positions.\"\n",
    "        else:\n",
    "            trend_score = -0.25  # Weak Bearish\n",
    "            trend_response = f\"Although the stock has been falling recently, it remains in an overall uptrend. This could be a temporary pullback in a larger bullish move.\"\n",
    "    \n",
    "    return trend_score, trend_response"
   ]
  },
  {
   "cell_type": "code",
   "execution_count": 15,
   "id": "ffee8d3f",
   "metadata": {},
   "outputs": [],
   "source": [
    "def visualise_fib(d, data):\n",
    "    high = d[\"prices\"]['high_price']\n",
    "    low = d[\"prices\"]['low_price']\n",
    "    trend = d[\"trend\"]\n",
    "    \n",
    "    retracement_levels = d['retracement_levels']\n",
    "    extension_levels = d['extension_levels']\n",
    "    \n",
    "    trend_start_date = data.index[data['Close'] == low][0]\n",
    "    trend_end_date = data.index[data['Close'] == high][0]\n",
    "    \n",
    "    sorted_retracement = sorted(retracement_levels.items(), key=lambda x: float(x[0].strip('%')))\n",
    "    sorted_extension = sorted(extension_levels.items(), key=lambda x: float(x[0].strip('%')), reverse=True)\n",
    "    sorted_levels = sorted_extension + sorted_retracement\n",
    "    \n",
    "    extension_colors = ['#FF4136', '#FF851B', '#FFDC00', '#2ECC40', '#0074D9']  # Red, Orange, Yellow, Green, Blue\n",
    "    retracement_colors = ['#B10DC9', '#F012BE', '#85144b', '#001f3f', '#39CCCC']  # Purple, Pink, Maroon, Navy, Teal\n",
    "    \n",
    "    colors = extension_colors[:len(extension_levels)] + retracement_colors[:len(retracement_levels)]\n",
    "    \n",
    "    fig = make_subplots(specs=[[{\"secondary_y\": True}]])\n",
    "    \n",
    "    hover_template = \"<b>Date:</b> %{x|%d %b %y}<br><b>Close:</b> %{y:.2f}<extra></extra>\"\n",
    "    fig.add_trace(go.Scatter(\n",
    "        x=data.index, \n",
    "        y=data['Close'], \n",
    "        name='Close Price', \n",
    "        line=dict(color='#1e90ff', width=3),\n",
    "        hovertemplate=hover_template\n",
    "    ))\n",
    "    \n",
    "    # Add trend area\n",
    "#     fig.add_trace(go.Scatter(x=[trend_start_date, trend_start_date, trend_end_date, trend_end_date],\n",
    "#                              y=[data['Close'].min(), data['Close'].max(), data['Close'].max(), data['Close'].min()],\n",
    "#                              fill='toself',\n",
    "#                              fillcolor='rgba(255,255,0,0.3)',\n",
    "#                              line=dict(color='rgba(255,255,0,0)'),\n",
    "#                              name='Trend Area'))\n",
    "    \n",
    "    # Add Fibonacci levels\n",
    "    for i, (label, level) in enumerate(sorted_levels):\n",
    "        color = colors[i]\n",
    "        dash = 'dash' if label in retracement_levels else 'dot'\n",
    "        fig.add_trace(go.Scatter(x=[data.index[0], data.index[-1]], y=[level, level],\n",
    "                                 mode='lines',\n",
    "                                 name=f'{label} ({round(level, 2)})',\n",
    "                                 line=dict(color=color, width=2, dash=dash)))\n",
    "        \n",
    "        # Add level badges\n",
    "        fig.add_annotation(x=data.index[-1], y=level,\n",
    "                           text=f'{label} ({round(level, 2)})',\n",
    "                           showarrow=False,\n",
    "                           xanchor='left',\n",
    "                           xshift=10,\n",
    "                           font=dict(color=color, size=10),\n",
    "                           bgcolor='white',\n",
    "                           bordercolor=color,\n",
    "                           borderwidth=2,\n",
    "                           borderpad=4,\n",
    "                           opacity=0.8)\n",
    "    \n",
    "    # Update layout\n",
    "    fig.update_layout(\n",
    "        title='Fibonacci Retracement and Extension Levels',\n",
    "        xaxis_title='Date',\n",
    "        yaxis_title='Price',\n",
    "        legend_title='Levels',\n",
    "        hovermode='x unified',\n",
    "        xaxis=dict(\n",
    "            tickformat='%d %b %y',  # Updated date format\n",
    "            tickangle=45,\n",
    "            range=[data.index[-180], data.index[-1] + pd.Timedelta(days=20)],\n",
    "            tickmode='array',\n",
    "            tickvals=pd.date_range(start=data.index[-180], end=data.index[-1], freq='MS'),  # Monthly ticks\n",
    "            ticktext=pd.date_range(start=data.index[-180], end=data.index[-1], freq='MS').strftime('%d %b %y')  # Formatted tick labels\n",
    "        ),\n",
    "        showlegend=True\n",
    "    )\n",
    "    \n",
    "    fig.update_yaxes(tickformat='.2f')\n",
    "    \n",
    "    return fig"
   ]
  },
  {
   "cell_type": "code",
   "execution_count": 16,
   "id": "219435ff",
   "metadata": {},
   "outputs": [],
   "source": [
    "def visualise_macd(data):\n",
    "    \n",
    "    valid_data = data.dropna(subset=['MACD', 'Signal Line'])\n",
    "    \n",
    "    fig, ax1 = plt.subplots(1, figsize=(12,8))\n",
    "    \n",
    "    plt.style.use('ggplot')\n",
    "    \n",
    "    # Change colors to more pleasing options\n",
    "    macd_color = '#1e90ff'  # Dodger Blue\n",
    "    signal_color = '#ff6347'  # Tomato\n",
    "    \n",
    "    # Plot MACD and Signal lines\n",
    "    ax1.plot(valid_data.index, valid_data['MACD'], label='MACD', color=macd_color, linewidth=1.5)\n",
    "    ax1.plot(valid_data.index, valid_data['Signal Line'], label='Signal Line', color=signal_color, linestyle='--', linewidth=1.5)\n",
    "    \n",
    "    # Improve histogram appearance using fill_between instead of bar\n",
    "    histogram = valid_data['MACD'] - valid_data['Signal Line']\n",
    "    ax1.fill_between(valid_data.index, histogram, 0, where=histogram >= 0, facecolor='#2ecc71', alpha=0.7, interpolate=True, label='Positive Histogram')\n",
    "    ax1.fill_between(valid_data.index, histogram, 0, where=histogram < 0, facecolor='#e74c3c', alpha=0.7, interpolate=True, label='Negative Histogram')\n",
    "    \n",
    "    # Enhance the legend\n",
    "    ax1.legend(loc='upper left', frameon=True, fancybox=True, shadow=True)\n",
    "    \n",
    "    # Improve x-axis\n",
    "    ax1.xaxis.set_major_locator(mdates.MonthLocator())\n",
    "    ax1.xaxis.set_major_formatter(mdates.DateFormatter('%b'))\n",
    "    plt.xticks(rotation=45, ha='right')\n",
    "    \n",
    "    # Adding extra days\n",
    "    extra_days = pd.Timedelta(days=20)\n",
    "    ax1.set_xlim(data.index[0], data.index[-1]+extra_days)\n",
    "    \n",
    "    # Set title and labels\n",
    "    ax1.set_title(\"MACD Indicator\", fontsize=16, fontweight='bold')\n",
    "    ax1.set_xlabel(\"Date\", fontsize=12)\n",
    "    ax1.set_ylabel(\"MACD Value\", fontsize=12)\n",
    "    \n",
    "    \n",
    "    ax1.grid(True, linestyle='--', alpha=0.7)\n",
    "    \n",
    "    # Adjust layout\n",
    "    plt.tight_layout()\n",
    "    \n",
    "    plt.show()"
   ]
  },
  {
   "cell_type": "code",
   "execution_count": 17,
   "id": "a94ef505",
   "metadata": {},
   "outputs": [],
   "source": [
    "def visualise_rsi(data, window):\n",
    "    fig = go.Figure()\n",
    "\n",
    "    # Add the RSI line\n",
    "    fig.add_trace(go.Scatter(\n",
    "        x=data.index,\n",
    "        y=data['RSI'],\n",
    "        mode='lines',\n",
    "        name='RSI',\n",
    "        line=dict(color='dodgerblue', width=2),\n",
    "        hovertemplate='Date: %{x|%b %d}<br>RSI: %{y:.2f}<extra></extra>'\n",
    "    ))\n",
    "\n",
    "    # Add threshold lines for overbought (70) and oversold (30)\n",
    "    fig.add_hline(y=70, line_dash=\"dash\", line_color=\"red\", line_width=2)\n",
    "    fig.add_hline(y=30, line_dash=\"dash\", line_color=\"green\", line_width=2)\n",
    "\n",
    "    # Set axis labels and title\n",
    "    fig.update_layout(\n",
    "        title=\"RSI (Relative Strength Index)\",\n",
    "        yaxis_title=\"RSI Value\",\n",
    "        xaxis_title=\"Date\",\n",
    "        font=dict(size=14),\n",
    "        showlegend=True,\n",
    "        legend=dict(x=0.01, y=0.99, font=dict(size=12)),\n",
    "        hovermode=\"x unified\",\n",
    "    )\n",
    "\n",
    "    # Set y-axis range and tick values\n",
    "    fig.update_yaxes(\n",
    "        range=[0, 100],\n",
    "        tickmode='linear',\n",
    "        tick0=0,\n",
    "        dtick=10\n",
    "    )\n",
    "\n",
    "    # Set x-axis range and tick format\n",
    "    extra_days = pd.Timedelta(days=20)\n",
    "    fig.update_xaxes(\n",
    "        range=[data.index[window-2], data.index[-1]+extra_days],\n",
    "        tickmode='auto',\n",
    "        nticks=10\n",
    "    )\n",
    "\n",
    "    # Update the layout for a cleaner look\n",
    "    fig.update_layout(\n",
    "        plot_bgcolor='white',\n",
    "        xaxis=dict(\n",
    "            showgrid=True,\n",
    "            zeroline=False,\n",
    "            showline=True,\n",
    "            showticklabels=True,\n",
    "        ),\n",
    "        yaxis=dict(\n",
    "            showgrid=True,\n",
    "            zeroline=False,\n",
    "            showline=True,\n",
    "            showticklabels=True,\n",
    "        )\n",
    "    )\n",
    "\n",
    "    # Show the plot\n",
    "    fig.show()"
   ]
  },
  {
   "cell_type": "code",
   "execution_count": 18,
   "id": "16a8f068",
   "metadata": {},
   "outputs": [],
   "source": [
    "def plot_stock_trends_candlestick(df):\n",
    "    # Create the candlestick chart\n",
    "    fig = go.Figure(data=[go.Candlestick(\n",
    "        x=df.index,\n",
    "        open=df['Open'],\n",
    "        high=df['High'],\n",
    "        low=df['Low'],\n",
    "        close=df['Close'],\n",
    "        increasing_line_color='#26A69A',  # Green color for up candles\n",
    "        decreasing_line_color='#EF5350',  # Red color for down candles\n",
    "        line=dict(width=1),  # Thinner lines for candle wicks\n",
    "        increasing_fillcolor='#26A69A',  # Fill color for up candles\n",
    "        decreasing_fillcolor='#EF5350'   # Fill color for down candles\n",
    "    )])\n",
    "\n",
    "    # Update layout for a cleaner look\n",
    "    fig.update_layout(\n",
    "        title='Candle Chart',\n",
    "        yaxis_title= 'Price', \n",
    "        xaxis_title='Date',  \n",
    "        xaxis_rangeslider_visible=False,\n",
    "        plot_bgcolor='white',\n",
    "        hovermode='x unified',\n",
    "        showlegend=False, \n",
    "        margin=dict(l=0, r=0, t=0, b=0)  # Remove margins\n",
    "    )\n",
    "\n",
    "    # Update y-axis\n",
    "    fig.update_yaxes(\n",
    "        showgrid=True,\n",
    "        gridwidth=1,\n",
    "        gridcolor='lightgrey',\n",
    "        zeroline=False,\n",
    "        showticklabels=True\n",
    "    )\n",
    "\n",
    "    # Update x-axis\n",
    "    fig.update_xaxes(\n",
    "        showgrid=True,\n",
    "        gridwidth=1,\n",
    "        gridcolor='lightgrey',\n",
    "        zeroline=False,\n",
    "        rangeslider_visible=False,\n",
    "        showticklabels=True,\n",
    "        rangebreaks=[dict(bounds=[\"sat\", \"mon\"])]  # hide weekends\n",
    "    )\n",
    "\n",
    "    fig.show() "
   ]
  },
  {
   "cell_type": "code",
   "execution_count": 19,
   "id": "217fe659",
   "metadata": {},
   "outputs": [],
   "source": [
    "import warnings\n",
    "warnings.filterwarnings('ignore')"
   ]
  },
  {
   "cell_type": "code",
   "execution_count": 23,
   "id": "c6f409ba",
   "metadata": {
    "scrolled": true
   },
   "outputs": [
    {
     "name": "stdout",
     "output_type": "stream",
     "text": [
      "Enter a name: tcs\n",
      "\n",
      "Sell your stocks of Tata Consultancy Services Limited\n",
      "Current Price of Tata Consultancy Services Limited: 4139.9\n",
      "Market Cap of Tata Consultancy Services Limited: 1497853.07 Crores\n",
      "The P/E ratio is 31.67, which is above 20, hence SELL\n"
     ]
    },
    {
     "data": {
      "image/png": "[encoded data removed]",
      "text/plain": [
       "<Figure size 1200x800 with 1 Axes>"
      ]
     },
     "metadata": {},
     "output_type": "display_data"
    },
    {
     "name": "stdout",
     "output_type": "stream",
     "text": [
      "Strong Sell: MACD is below Signal Line and both are falling.\n"
     ]
    },
    {
     "data": {
      "application/vnd.plotly.v1+json": {
       "config": {
        "plotlyServerURL": "https://plot.ly"
       },
       "data": [
        {
         "hovertemplate": "Date: %{x|%b %d}<br>RSI: %{y:.2f}<extra></extra>",
         "line": {
          "color": "dodgerblue",
          "width": 2
         },
         "mode": "lines",
         "name": "RSI",
         "type": "scatter",
         "x": [
          "2023-11-06T00:00:00+05:30",
          "2023-11-07T00:00:00+05:30",
          "2023-11-08T00:00:00+05:30",
          "2023-11-09T00:00:00+05:30",
          "2023-11-10T00:00:00+05:30",
          "2023-11-13T00:00:00+05:30",
          "2023-11-15T00:00:00+05:30",
          "2023-11-16T00:00:00+05:30",
          "2023-11-17T00:00:00+05:30",
          "2023-11-20T00:00:00+05:30",
          "2023-11-21T00:00:00+05:30",
          "2023-11-22T00:00:00+05:30",
          "2023-11-23T00:00:00+05:30",
          "2023-11-24T00:00:00+05:30",
          "2023-11-28T00:00:00+05:30",
          "2023-11-29T00:00:00+05:30",
          "2023-11-30T00:00:00+05:30",
          "2023-12-01T00:00:00+05:30",
          "2023-12-04T00:00:00+05:30",
          "2023-12-05T00:00:00+05:30",
          "2023-12-06T00:00:00+05:30",
          "2023-12-07T00:00:00+05:30",
          "2023-12-08T00:00:00+05:30",
          "2023-12-11T00:00:00+05:30",
          "2023-12-12T00:00:00+05:30",
          "2023-12-13T00:00:00+05:30",
          "2023-12-14T00:00:00+05:30",
          "2023-12-15T00:00:00+05:30",
          "2023-12-18T00:00:00+05:30",
          "2023-12-19T00:00:00+05:30",
          "2023-12-20T00:00:00+05:30",
          "2023-12-21T00:00:00+05:30",
          "2023-12-22T00:00:00+05:30",
          "2023-12-26T00:00:00+05:30",
          "2023-12-27T00:00:00+05:30",
          "2023-12-28T00:00:00+05:30",
          "2023-12-29T00:00:00+05:30",
          "2024-01-01T00:00:00+05:30",
          "2024-01-02T00:00:00+05:30",
          "2024-01-03T00:00:00+05:30",
          "2024-01-04T00:00:00+05:30",
          "2024-01-05T00:00:00+05:30",
          "2024-01-08T00:00:00+05:30",
          "2024-01-09T00:00:00+05:30",
          "2024-01-10T00:00:00+05:30",
          "2024-01-11T00:00:00+05:30",
          "2024-01-12T00:00:00+05:30",
          "2024-01-15T00:00:00+05:30",
          "2024-01-16T00:00:00+05:30",
          "2024-01-17T00:00:00+05:30",
          "2024-01-18T00:00:00+05:30",
          "2024-01-19T00:00:00+05:30",
          "2024-01-23T00:00:00+05:30",
          "2024-01-24T00:00:00+05:30",
          "2024-01-25T00:00:00+05:30",
          "2024-01-29T00:00:00+05:30",
          "2024-01-30T00:00:00+05:30",
          "2024-01-31T00:00:00+05:30",
          "2024-02-01T00:00:00+05:30",
          "2024-02-02T00:00:00+05:30",
          "2024-02-05T00:00:00+05:30",
          "2024-02-06T00:00:00+05:30",
          "2024-02-07T00:00:00+05:30",
          "2024-02-08T00:00:00+05:30",
          "2024-02-09T00:00:00+05:30",
          "2024-02-12T00:00:00+05:30",
          "2024-02-13T00:00:00+05:30",
          "2024-02-14T00:00:00+05:30",
          "2024-02-15T00:00:00+05:30",
          "2024-02-16T00:00:00+05:30",
          "2024-02-19T00:00:00+05:30",
          "2024-02-20T00:00:00+05:30",
          "2024-02-21T00:00:00+05:30",
          "2024-02-22T00:00:00+05:30",
          "2024-02-23T00:00:00+05:30",
          "2024-02-26T00:00:00+05:30",
          "2024-02-27T00:00:00+05:30",
          "2024-02-28T00:00:00+05:30",
          "2024-02-29T00:00:00+05:30",
          "2024-03-01T00:00:00+05:30",
          "2024-03-04T00:00:00+05:30",
          "2024-03-05T00:00:00+05:30",
          "2024-03-06T00:00:00+05:30",
          "2024-03-07T00:00:00+05:30",
          "2024-03-11T00:00:00+05:30",
          "2024-03-12T00:00:00+05:30",
          "2024-03-13T00:00:00+05:30",
          "2024-03-14T00:00:00+05:30",
          "2024-03-15T00:00:00+05:30",
          "2024-03-18T00:00:00+05:30",
          "2024-03-19T00:00:00+05:30",
          "2024-03-20T00:00:00+05:30",
          "2024-03-21T00:00:00+05:30",
          "2024-03-22T00:00:00+05:30",
          "2024-03-26T00:00:00+05:30",
          "2024-03-27T00:00:00+05:30",
          "2024-03-28T00:00:00+05:30",
          "2024-04-01T00:00:00+05:30",
          "2024-04-02T00:00:00+05:30",
          "2024-04-03T00:00:00+05:30",
          "2024-04-04T00:00:00+05:30",
          "2024-04-05T00:00:00+05:30",
          "2024-04-08T00:00:00+05:30",
          "2024-04-09T00:00:00+05:30",
          "2024-04-10T00:00:00+05:30",
          "2024-04-12T00:00:00+05:30",
          "2024-04-15T00:00:00+05:30",
          "2024-04-16T00:00:00+05:30",
          "2024-04-18T00:00:00+05:30",
          "2024-04-19T00:00:00+05:30",
          "2024-04-22T00:00:00+05:30",
          "2024-04-23T00:00:00+05:30",
          "2024-04-24T00:00:00+05:30",
          "2024-04-25T00:00:00+05:30",
          "2024-04-26T00:00:00+05:30",
          "2024-04-29T00:00:00+05:30",
          "2024-04-30T00:00:00+05:30",
          "2024-05-02T00:00:00+05:30",
          "2024-05-03T00:00:00+05:30",
          "2024-05-06T00:00:00+05:30",
          "2024-05-07T00:00:00+05:30",
          "2024-05-08T00:00:00+05:30",
          "2024-05-09T00:00:00+05:30",
          "2024-05-10T00:00:00+05:30",
          "2024-05-13T00:00:00+05:30",
          "2024-05-14T00:00:00+05:30",
          "2024-05-15T00:00:00+05:30",
          "2024-05-16T00:00:00+05:30",
          "2024-05-17T00:00:00+05:30",
          "2024-05-21T00:00:00+05:30",
          "2024-05-22T00:00:00+05:30",
          "2024-05-23T00:00:00+05:30",
          "2024-05-24T00:00:00+05:30",
          "2024-05-27T00:00:00+05:30",
          "2024-05-28T00:00:00+05:30",
          "2024-05-29T00:00:00+05:30",
          "2024-05-30T00:00:00+05:30",
          "2024-05-31T00:00:00+05:30",
          "2024-06-03T00:00:00+05:30",
          "2024-06-04T00:00:00+05:30",
          "2024-06-05T00:00:00+05:30",
          "2024-06-06T00:00:00+05:30",
          "2024-06-07T00:00:00+05:30",
          "2024-06-10T00:00:00+05:30",
          "2024-06-11T00:00:00+05:30",
          "2024-06-12T00:00:00+05:30",
          "2024-06-13T00:00:00+05:30",
          "2024-06-14T00:00:00+05:30",
          "2024-06-18T00:00:00+05:30",
          "2024-06-19T00:00:00+05:30",
          "2024-06-20T00:00:00+05:30",
          "2024-06-21T00:00:00+05:30",
          "2024-06-24T00:00:00+05:30",
          "2024-06-25T00:00:00+05:30",
          "2024-06-26T00:00:00+05:30",
          "2024-06-27T00:00:00+05:30",
          "2024-06-28T00:00:00+05:30",
          "2024-07-01T00:00:00+05:30",
          "2024-07-02T00:00:00+05:30",
          "2024-07-03T00:00:00+05:30",
          "2024-07-04T00:00:00+05:30",
          "2024-07-05T00:00:00+05:30",
          "2024-07-08T00:00:00+05:30",
          "2024-07-09T00:00:00+05:30",
          "2024-07-10T00:00:00+05:30",
          "2024-07-11T00:00:00+05:30",
          "2024-07-12T00:00:00+05:30",
          "2024-07-15T00:00:00+05:30",
          "2024-07-16T00:00:00+05:30",
          "2024-07-18T00:00:00+05:30",
          "2024-07-19T00:00:00+05:30",
          "2024-07-22T00:00:00+05:30",
          "2024-07-23T00:00:00+05:30",
          "2024-07-24T00:00:00+05:30",
          "2024-07-25T00:00:00+05:30",
          "2024-07-26T00:00:00+05:30",
          "2024-07-29T00:00:00+05:30",
          "2024-07-30T00:00:00+05:30",
          "2024-07-31T00:00:00+05:30",
          "2024-08-01T00:00:00+05:30",
          "2024-08-02T00:00:00+05:30",
          "2024-08-05T00:00:00+05:30",
          "2024-08-06T00:00:00+05:30",
          "2024-08-07T00:00:00+05:30",
          "2024-08-08T00:00:00+05:30",
          "2024-08-09T00:00:00+05:30",
          "2024-08-12T00:00:00+05:30",
          "2024-08-13T00:00:00+05:30",
          "2024-08-14T00:00:00+05:30",
          "2024-08-16T00:00:00+05:30",
          "2024-08-19T00:00:00+05:30",
          "2024-08-20T00:00:00+05:30",
          "2024-08-21T00:00:00+05:30",
          "2024-08-22T00:00:00+05:30",
          "2024-08-23T00:00:00+05:30",
          "2024-08-26T00:00:00+05:30",
          "2024-08-27T00:00:00+05:30",
          "2024-08-28T00:00:00+05:30",
          "2024-08-29T00:00:00+05:30",
          "2024-08-30T00:00:00+05:30",
          "2024-09-02T00:00:00+05:30",
          "2024-09-03T00:00:00+05:30",
          "2024-09-04T00:00:00+05:30",
          "2024-09-05T00:00:00+05:30",
          "2024-09-06T00:00:00+05:30",
          "2024-09-09T00:00:00+05:30",
          "2024-09-10T00:00:00+05:30",
          "2024-09-11T00:00:00+05:30",
          "2024-09-12T00:00:00+05:30",
          "2024-09-13T00:00:00+05:30",
          "2024-09-16T00:00:00+05:30",
          "2024-09-17T00:00:00+05:30",
          "2024-09-18T00:00:00+05:30",
          "2024-09-19T00:00:00+05:30",
          "2024-09-20T00:00:00+05:30",
          "2024-09-23T00:00:00+05:30",
          "2024-09-24T00:00:00+05:30",
          "2024-09-25T00:00:00+05:30",
          "2024-09-26T00:00:00+05:30",
          "2024-09-27T00:00:00+05:30",
          "2024-09-30T00:00:00+05:30",
          "2024-10-01T00:00:00+05:30",
          "2024-10-03T00:00:00+05:30",
          "2024-10-04T00:00:00+05:30",
          "2024-10-07T00:00:00+05:30",
          "2024-10-08T00:00:00+05:30",
          "2024-10-09T00:00:00+05:30",
          "2024-10-10T00:00:00+05:30",
          "2024-10-11T00:00:00+05:30",
          "2024-10-14T00:00:00+05:30"
         ],
         "y": [
          34.07948981940844,
          33.173087811381635,
          35.27298209428727,
          31.951321432764473,
          30.67417774952706,
          30.496037299635887,
          43.925626012415265,
          55.76255089916314,
          56.251548901153726,
          58.11082801830642,
          56.688725246686225,
          58.98290217213139,
          55.50708490668537,
          48.34162544456069,
          50.111116933375776,
          55.58504253790654,
          51.90642035666087,
          54.8648920210916,
          54.96411518492764,
          57.37996871550368,
          65.02840843150408,
          66.00702364813921,
          67.09061658924517,
          68.57180564785045,
          71.09698285960752,
          57.67274971681789,
          64.45434631337902,
          75.54641896907474,
          75.31129113822722,
          69.72815606075402,
          65.34247775443907,
          65.81960274345576,
          68.13426583054881,
          64.46957083803888,
          65.56671420486754,
          64.02928516582392,
          63.11258042669709,
          64.59895334476653,
          60.46314123939797,
          49.317698091299484,
          46.783878868634524,
          54.03178006155787,
          48.115916822653126,
          49.279892903719244,
          51.61295136932302,
          53.83556557591483,
          65.12567212701904,
          66.38816494336433,
          61.53316933404172,
          63.125306405743196,
          64.35278988887052,
          68.08519863740338,
          58.513017774787244,
          56.84349278541207,
          53.68470977961556,
          52.7526388459761,
          52.70494779604743,
          54.22965995053085,
          57.85882261991851,
          66.30577393872242,
          66.75371065177066,
          75.05465614539182,
          69.05196117691096,
          71.4242825613024,
          71.37778960348196,
          69.78801104865298,
          71.31239945196592,
          65.23240647715801,
          65.43158796819817,
          67.07621516778633,
          63.88137679567282,
          55.39742116859118,
          51.458479379478554,
          59.1051585944786,
          55.64885707632181,
          50.96730712488042,
          58.56674686407433,
          59.51801904869243,
          57.19981945446769,
          57.12446389981547,
          55.686660109069585,
          49.01036710530404,
          53.57176008558947,
          57.08080135966542,
          58.1383392473008,
          63.1142449720101,
          58.48222011280618,
          62.498183632948816,
          63.25909961804221,
          56.220641594825864,
          42.76964019007452,
          42.37082274714067,
          42.555615389669086,
          38.52896315231573,
          36.52552936637506,
          34.413800740741706,
          38.139138876796274,
          42.180498241064214,
          39.894154428252605,
          45.97202289923353,
          50.7060085739836,
          48.73119638468691,
          48.168371010952214,
          45.95046930916844,
          49.61182562195053,
          51.177653393278284,
          45.683030575527376,
          40.378472979284524,
          39.59663203436799,
          37.036679916649405,
          41.41207000497474,
          42.54302821727547,
          39.035917297687604,
          41.550204321356794,
          39.02215992977011,
          44.7541244557779,
          40.58660075218524,
          45.307594529049496,
          43.56805310105278,
          51.407804364394835,
          56.284556501368016,
          56.0752328085706,
          54.255135465203345,
          47.66081744683487,
          52.69465795421476,
          48.363785483321514,
          46.525716115351045,
          51.219704277301005,
          45.320579734545106,
          44.18114017293148,
          45.435312269886566,
          51.541463962844944,
          47.45143794247471,
          47.226454046463445,
          46.53303994119287,
          43.079548198357465,
          37.49518892365763,
          33.045849952448194,
          36.988603886866386,
          38.47469113163455,
          42.27008541345478,
          50.96546184740407,
          56.328009154695366,
          52.87387255709302,
          52.228111580800665,
          50.18288946721898,
          54.5418997184814,
          49.881917647032616,
          48.24961969308344,
          46.94181120446992,
          45.5093206859754,
          48.27388714240503,
          48.99140236288151,
          51.579735803350765,
          53.616880511220025,
          61.472152687520044,
          57.45711861683126,
          63.750725254415386,
          66.57010136242036,
          59.89584578604753,
          64.04250600910144,
          62.892102069403016,
          60.51247141382143,
          59.50865388807293,
          50.55360248189611,
          52.03493425900957,
          69.58597033874995,
          68.06580173451181,
          68.5301004550332,
          74.45773949467024,
          74.11154043200847,
          72.37992040743067,
          73.05566003357896,
          73.23897769901839,
          74.031777103288,
          76.98471631317841,
          76.02310383902908,
          73.70954383979102,
          74.75995520549927,
          75.38225843284116,
          59.93544536901118,
          48.038017730785434,
          49.4027699888567,
          51.86838933518101,
          49.395765213078676,
          54.13837113897417,
          51.10075013860613,
          51.21654720565527,
          59.10149648771338,
          66.3083666096419,
          69.8149845999504,
          71.2652925079887,
          72.47156506573481,
          67.143376222116,
          63.286559275553394,
          65.4491337336994,
          64.88323935258444,
          65.42384211535295,
          65.79026351475162,
          68.41974744504651,
          64.27261590095532,
          63.175496307479946,
          59.04572693041825,
          58.63422491259036,
          56.18079600261309,
          55.24720656854172,
          60.911300015824644,
          57.106312922064504,
          60.666886330866646,
          61.1110655561565,
          59.72504457867278,
          58.56237492573862,
          40.66907770191184,
          36.866345165688415,
          36.04957694618145,
          34.837880338341506,
          35.238087213159716,
          35.76166862629866,
          38.51569552675274,
          41.00179939516466,
          37.00337459110017,
          40.04208026566059,
          34.889797527099915,
          37.9309133269672,
          41.06270909002349,
          39.04412250180417,
          39.01253110852514,
          36.315723510470235,
          29.5767947190364,
          28.890165341889244
         ]
        }
       ],
       "layout": {
        "font": {
         "size": 14
        },
        "hovermode": "x unified",
        "legend": {
         "font": {
          "size": 12
         },
         "x": 0.01,
         "y": 0.99
        },
        "plot_bgcolor": "white",
        "shapes": [
         {
          "line": {
           "color": "red",
           "dash": "dash",
           "width": 2
          },
          "type": "line",
          "x0": 0,
          "x1": 1,
          "xref": "x domain",
          "y0": 70,
          "y1": 70,
          "yref": "y"
         },
         {
          "line": {
           "color": "green",
           "dash": "dash",
           "width": 2
          },
          "type": "line",
          "x0": 0,
          "x1": 1,
          "xref": "x domain",
          "y0": 30,
          "y1": 30,
          "yref": "y"
         }
        ],
        "showlegend": true,
        "template": {
         "data": {
          "bar": [
           {
            "error_x": {
             "color": "#2a3f5f"
            },
            "error_y": {
             "color": "#2a3f5f"
            },
            "marker": {
             "line": {
              "color": "#E5ECF6",
              "width": 0.5
             },
             "pattern": {
              "fillmode": "overlay",
              "size": 10,
              "solidity": 0.2
             }
            },
            "type": "bar"
           }
          ],
          "barpolar": [
           {
            "marker": {
             "line": {
              "color": "#E5ECF6",
              "width": 0.5
             },
             "pattern": {
              "fillmode": "overlay",
              "size": 10,
              "solidity": 0.2
             }
            },
            "type": "barpolar"
           }
          ],
          "carpet": [
           {
            "aaxis": {
             "endlinecolor": "#2a3f5f",
             "gridcolor": "white",
             "linecolor": "white",
             "minorgridcolor": "white",
             "startlinecolor": "#2a3f5f"
            },
            "baxis": {
             "endlinecolor": "#2a3f5f",
             "gridcolor": "white",
             "linecolor": "white",
             "minorgridcolor": "white",
             "startlinecolor": "#2a3f5f"
            },
            "type": "carpet"
           }
          ],
          "choropleth": [
           {
            "colorbar": {
             "outlinewidth": 0,
             "ticks": ""
            },
            "type": "choropleth"
           }
          ],
          "contour": [
           {
            "colorbar": {
             "outlinewidth": 0,
             "ticks": ""
            },
            "colorscale": [
             [
              0,
              "#0d0887"
             ],
             [
              0.1111111111111111,
              "#46039f"
             ],
             [
              0.2222222222222222,
              "#7201a8"
             ],
             [
              0.3333333333333333,
              "#9c179e"
             ],
             [
              0.4444444444444444,
              "#bd3786"
             ],
             [
              0.5555555555555556,
              "#d8576b"
             ],
             [
              0.6666666666666666,
              "#ed7953"
             ],
             [
              0.7777777777777778,
              "#fb9f3a"
             ],
             [
              0.8888888888888888,
              "#fdca26"
             ],
             [
              1,
              "#f0f921"
             ]
            ],
            "type": "contour"
           }
          ],
          "contourcarpet": [
           {
            "colorbar": {
             "outlinewidth": 0,
             "ticks": ""
            },
            "type": "contourcarpet"
           }
          ],
          "heatmap": [
           {
            "colorbar": {
             "outlinewidth": 0,
             "ticks": ""
            },
            "colorscale": [
             [
              0,
              "#0d0887"
             ],
             [
              0.1111111111111111,
              "#46039f"
             ],
             [
              0.2222222222222222,
              "#7201a8"
             ],
             [
              0.3333333333333333,
              "#9c179e"
             ],
             [
              0.4444444444444444,
              "#bd3786"
             ],
             [
              0.5555555555555556,
              "#d8576b"
             ],
             [
              0.6666666666666666,
              "#ed7953"
             ],
             [
              0.7777777777777778,
              "#fb9f3a"
             ],
             [
              0.8888888888888888,
              "#fdca26"
             ],
             [
              1,
              "#f0f921"
             ]
            ],
            "type": "heatmap"
           }
          ],
          "heatmapgl": [
           {
            "colorbar": {
             "outlinewidth": 0,
             "ticks": ""
            },
            "colorscale": [
             [
              0,
              "#0d0887"
             ],
             [
              0.1111111111111111,
              "#46039f"
             ],
             [
              0.2222222222222222,
              "#7201a8"
             ],
             [
              0.3333333333333333,
              "#9c179e"
             ],
             [
              0.4444444444444444,
              "#bd3786"
             ],
             [
              0.5555555555555556,
              "#d8576b"
             ],
             [
              0.6666666666666666,
              "#ed7953"
             ],
             [
              0.7777777777777778,
              "#fb9f3a"
             ],
             [
              0.8888888888888888,
              "#fdca26"
             ],
             [
              1,
              "#f0f921"
             ]
            ],
            "type": "heatmapgl"
           }
          ],
          "histogram": [
           {
            "marker": {
             "pattern": {
              "fillmode": "overlay",
              "size": 10,
              "solidity": 0.2
             }
            },
            "type": "histogram"
           }
          ],
          "histogram2d": [
           {
            "colorbar": {
             "outlinewidth": 0,
             "ticks": ""
            },
            "colorscale": [
             [
              0,
              "#0d0887"
             ],
             [
              0.1111111111111111,
              "#46039f"
             ],
             [
              0.2222222222222222,
              "#7201a8"
             ],
             [
              0.3333333333333333,
              "#9c179e"
             ],
             [
              0.4444444444444444,
              "#bd3786"
             ],
             [
              0.5555555555555556,
              "#d8576b"
             ],
             [
              0.6666666666666666,
              "#ed7953"
             ],
             [
              0.7777777777777778,
              "#fb9f3a"
             ],
             [
              0.8888888888888888,
              "#fdca26"
             ],
             [
              1,
              "#f0f921"
             ]
            ],
            "type": "histogram2d"
           }
          ],
          "histogram2dcontour": [
           {
            "colorbar": {
             "outlinewidth": 0,
             "ticks": ""
            },
            "colorscale": [
             [
              0,
              "#0d0887"
             ],
             [
              0.1111111111111111,
              "#46039f"
             ],
             [
              0.2222222222222222,
              "#7201a8"
             ],
             [
              0.3333333333333333,
              "#9c179e"
             ],
             [
              0.4444444444444444,
              "#bd3786"
             ],
             [
              0.5555555555555556,
              "#d8576b"
             ],
             [
              0.6666666666666666,
              "#ed7953"
             ],
             [
              0.7777777777777778,
              "#fb9f3a"
             ],
             [
              0.8888888888888888,
              "#fdca26"
             ],
             [
              1,
              "#f0f921"
             ]
            ],
            "type": "histogram2dcontour"
           }
          ],
          "mesh3d": [
           {
            "colorbar": {
             "outlinewidth": 0,
             "ticks": ""
            },
            "type": "mesh3d"
           }
          ],
          "parcoords": [
           {
            "line": {
             "colorbar": {
              "outlinewidth": 0,
              "ticks": ""
             }
            },
            "type": "parcoords"
           }
          ],
          "pie": [
           {
            "automargin": true,
            "type": "pie"
           }
          ],
          "scatter": [
           {
            "fillpattern": {
             "fillmode": "overlay",
             "size": 10,
             "solidity": 0.2
            },
            "type": "scatter"
           }
          ],
          "scatter3d": [
           {
            "line": {
             "colorbar": {
              "outlinewidth": 0,
              "ticks": ""
             }
            },
            "marker": {
             "colorbar": {
              "outlinewidth": 0,
              "ticks": ""
             }
            },
            "type": "scatter3d"
           }
          ],
          "scattercarpet": [
           {
            "marker": {
             "colorbar": {
              "outlinewidth": 0,
              "ticks": ""
             }
            },
            "type": "scattercarpet"
           }
          ],
          "scattergeo": [
           {
            "marker": {
             "colorbar": {
              "outlinewidth": 0,
              "ticks": ""
             }
            },
            "type": "scattergeo"
           }
          ],
          "scattergl": [
           {
            "marker": {
             "colorbar": {
              "outlinewidth": 0,
              "ticks": ""
             }
            },
            "type": "scattergl"
           }
          ],
          "scattermapbox": [
           {
            "marker": {
             "colorbar": {
              "outlinewidth": 0,
              "ticks": ""
             }
            },
            "type": "scattermapbox"
           }
          ],
          "scatterpolar": [
           {
            "marker": {
             "colorbar": {
              "outlinewidth": 0,
              "ticks": ""
             }
            },
            "type": "scatterpolar"
           }
          ],
          "scatterpolargl": [
           {
            "marker": {
             "colorbar": {
              "outlinewidth": 0,
              "ticks": ""
             }
            },
            "type": "scatterpolargl"
           }
          ],
          "scatterternary": [
           {
            "marker": {
             "colorbar": {
              "outlinewidth": 0,
              "ticks": ""
             }
            },
            "type": "scatterternary"
           }
          ],
          "surface": [
           {
            "colorbar": {
             "outlinewidth": 0,
             "ticks": ""
            },
            "colorscale": [
             [
              0,
              "#0d0887"
             ],
             [
              0.1111111111111111,
              "#46039f"
             ],
             [
              0.2222222222222222,
              "#7201a8"
             ],
             [
              0.3333333333333333,
              "#9c179e"
             ],
             [
              0.4444444444444444,
              "#bd3786"
             ],
             [
              0.5555555555555556,
              "#d8576b"
             ],
             [
              0.6666666666666666,
              "#ed7953"
             ],
             [
              0.7777777777777778,
              "#fb9f3a"
             ],
             [
              0.8888888888888888,
              "#fdca26"
             ],
             [
              1,
              "#f0f921"
             ]
            ],
            "type": "surface"
           }
          ],
          "table": [
           {
            "cells": {
             "fill": {
              "color": "#EBF0F8"
             },
             "line": {
              "color": "white"
             }
            },
            "header": {
             "fill": {
              "color": "#C8D4E3"
             },
             "line": {
              "color": "white"
             }
            },
            "type": "table"
           }
          ]
         },
         "layout": {
          "annotationdefaults": {
           "arrowcolor": "#2a3f5f",
           "arrowhead": 0,
           "arrowwidth": 1
          },
          "autotypenumbers": "strict",
          "coloraxis": {
           "colorbar": {
            "outlinewidth": 0,
            "ticks": ""
           }
          },
          "colorscale": {
           "diverging": [
            [
             0,
             "#8e0152"
            ],
            [
             0.1,
             "#c51b7d"
            ],
            [
             0.2,
             "#de77ae"
            ],
            [
             0.3,
             "#f1b6da"
            ],
            [
             0.4,
             "#fde0ef"
            ],
            [
             0.5,
             "#f7f7f7"
            ],
            [
             0.6,
             "#e6f5d0"
            ],
            [
             0.7,
             "#b8e186"
            ],
            [
             0.8,
             "#7fbc41"
            ],
            [
             0.9,
             "#4d9221"
            ],
            [
             1,
             "#276419"
            ]
           ],
           "sequential": [
            [
             0,
             "#0d0887"
            ],
            [
             0.1111111111111111,
             "#46039f"
            ],
            [
             0.2222222222222222,
             "#7201a8"
            ],
            [
             0.3333333333333333,
             "#9c179e"
            ],
            [
             0.4444444444444444,
             "#bd3786"
            ],
            [
             0.5555555555555556,
             "#d8576b"
            ],
            [
             0.6666666666666666,
             "#ed7953"
            ],
            [
             0.7777777777777778,
             "#fb9f3a"
            ],
            [
             0.8888888888888888,
             "#fdca26"
            ],
            [
             1,
             "#f0f921"
            ]
           ],
           "sequentialminus": [
            [
             0,
             "#0d0887"
            ],
            [
             0.1111111111111111,
             "#46039f"
            ],
            [
             0.2222222222222222,
             "#7201a8"
            ],
            [
             0.3333333333333333,
             "#9c179e"
            ],
            [
             0.4444444444444444,
             "#bd3786"
            ],
            [
             0.5555555555555556,
             "#d8576b"
            ],
            [
             0.6666666666666666,
             "#ed7953"
            ],
            [
             0.7777777777777778,
             "#fb9f3a"
            ],
            [
             0.8888888888888888,
             "#fdca26"
            ],
            [
             1,
             "#f0f921"
            ]
           ]
          },
          "colorway": [
           "#636efa",
           "#EF553B",
           "#00cc96",
           "#ab63fa",
           "#FFA15A",
           "#19d3f3",
           "#FF6692",
           "#B6E880",
           "#FF97FF",
           "#FECB52"
          ],
          "font": {
           "color": "#2a3f5f"
          },
          "geo": {
           "bgcolor": "white",
           "lakecolor": "white",
           "landcolor": "#E5ECF6",
           "showlakes": true,
           "showland": true,
           "subunitcolor": "white"
          },
          "hoverlabel": {
           "align": "left"
          },
          "hovermode": "closest",
          "mapbox": {
           "style": "light"
          },
          "paper_bgcolor": "white",
          "plot_bgcolor": "#E5ECF6",
          "polar": {
           "angularaxis": {
            "gridcolor": "white",
            "linecolor": "white",
            "ticks": ""
           },
           "bgcolor": "#E5ECF6",
           "radialaxis": {
            "gridcolor": "white",
            "linecolor": "white",
            "ticks": ""
           }
          },
          "scene": {
           "xaxis": {
            "backgroundcolor": "#E5ECF6",
            "gridcolor": "white",
            "gridwidth": 2,
            "linecolor": "white",
            "showbackground": true,
            "ticks": "",
            "zerolinecolor": "white"
           },
           "yaxis": {
            "backgroundcolor": "#E5ECF6",
            "gridcolor": "white",
            "gridwidth": 2,
            "linecolor": "white",
            "showbackground": true,
            "ticks": "",
            "zerolinecolor": "white"
           },
           "zaxis": {
            "backgroundcolor": "#E5ECF6",
            "gridcolor": "white",
            "gridwidth": 2,
            "linecolor": "white",
            "showbackground": true,
            "ticks": "",
            "zerolinecolor": "white"
           }
          },
          "shapedefaults": {
           "line": {
            "color": "#2a3f5f"
           }
          },
          "ternary": {
           "aaxis": {
            "gridcolor": "white",
            "linecolor": "white",
            "ticks": ""
           },
           "baxis": {
            "gridcolor": "white",
            "linecolor": "white",
            "ticks": ""
           },
           "bgcolor": "#E5ECF6",
           "caxis": {
            "gridcolor": "white",
            "linecolor": "white",
            "ticks": ""
           }
          },
          "title": {
           "x": 0.05
          },
          "xaxis": {
           "automargin": true,
           "gridcolor": "white",
           "linecolor": "white",
           "ticks": "",
           "title": {
            "standoff": 15
           },
           "zerolinecolor": "white",
           "zerolinewidth": 2
          },
          "yaxis": {
           "automargin": true,
           "gridcolor": "white",
           "linecolor": "white",
           "ticks": "",
           "title": {
            "standoff": 15
           },
           "zerolinecolor": "white",
           "zerolinewidth": 2
          }
         }
        },
        "title": {
         "text": "RSI (Relative Strength Index)"
        },
        "xaxis": {
         "nticks": 10,
         "range": [
          "2023-11-23T00:00:00+05:30",
          "2024-11-03T00:00:00+05:30"
         ],
         "showgrid": true,
         "showline": true,
         "showticklabels": true,
         "tickmode": "auto",
         "title": {
          "text": "Date"
         },
         "zeroline": false
        },
        "yaxis": {
         "dtick": 10,
         "range": [
          0,
          100
         ],
         "showgrid": true,
         "showline": true,
         "showticklabels": true,
         "tick0": 0,
         "tickmode": "linear",
         "title": {
          "text": "RSI Value"
         },
         "zeroline": false
        }
       }
      },
      "text/html": [
       "<div>                            <div id=\"268e4d99-0702-43bd-8018-07ab5dc5b3b5\" class=\"plotly-graph-div\" style=\"height:525px; width:100%;\"></div>            <script type=\"text/javascript\">                require([\"plotly\"], function(Plotly) {                    window.PLOTLYENV=window.PLOTLYENV || {};                                    if (document.getElementById(\"268e4d99-0702-43bd-8018-07ab5dc5b3b5\")) {                    Plotly.newPlot(                        \"268e4d99-0702-43bd-8018-07ab5dc5b3b5\",                        [{\"hovertemplate\":\"Date: %{x|%b %d}\\u003cbr\\u003eRSI: %{y:.2f}\\u003cextra\\u003e\\u003c\\u002fextra\\u003e\",\"line\":{\"color\":\"dodgerblue\",\"width\":2},\"mode\":\"lines\",\"name\":\"RSI\",\"x\":[\"2023-11-06T00:00:00+05:30\",\"2023-11-07T00:00:00+05:30\",\"2023-11-08T00:00:00+05:30\",\"2023-11-09T00:00:00+05:30\",\"2023-11-10T00:00:00+05:30\",\"2023-11-13T00:00:00+05:30\",\"2023-11-15T00:00:00+05:30\",\"2023-11-16T00:00:00+05:30\",\"2023-11-17T00:00:00+05:30\",\"2023-11-20T00:00:00+05:30\",\"2023-11-21T00:00:00+05:30\",\"2023-11-22T00:00:00+05:30\",\"2023-11-23T00:00:00+05:30\",\"2023-11-24T00:00:00+05:30\",\"2023-11-28T00:00:00+05:30\",\"2023-11-29T00:00:00+05:30\",\"2023-11-30T00:00:00+05:30\",\"2023-12-01T00:00:00+05:30\",\"2023-12-04T00:00:00+05:30\",\"2023-12-05T00:00:00+05:30\",\"2023-12-06T00:00:00+05:30\",\"2023-12-07T00:00:00+05:30\",\"2023-12-08T00:00:00+05:30\",\"2023-12-11T00:00:00+05:30\",\"2023-12-12T00:00:00+05:30\",\"2023-12-13T00:00:00+05:30\",\"2023-12-14T00:00:00+05:30\",\"2023-12-15T00:00:00+05:30\",\"2023-12-18T00:00:00+05:30\",\"2023-12-19T00:00:00+05:30\",\"2023-12-20T00:00:00+05:30\",\"2023-12-21T00:00:00+05:30\",\"2023-12-22T00:00:00+05:30\",\"2023-12-26T00:00:00+05:30\",\"2023-12-27T00:00:00+05:30\",\"2023-12-28T00:00:00+05:30\",\"2023-12-29T00:00:00+05:30\",\"2024-01-01T00:00:00+05:30\",\"2024-01-02T00:00:00+05:30\",\"2024-01-03T00:00:00+05:30\",\"2024-01-04T00:00:00+05:30\",\"2024-01-05T00:00:00+05:30\",\"2024-01-08T00:00:00+05:30\",\"2024-01-09T00:00:00+05:30\",\"2024-01-10T00:00:00+05:30\",\"2024-01-11T00:00:00+05:30\",\"2024-01-12T00:00:00+05:30\",\"2024-01-15T00:00:00+05:30\",\"2024-01-16T00:00:00+05:30\",\"2024-01-17T00:00:00+05:30\",\"2024-01-18T00:00:00+05:30\",\"2024-01-19T00:00:00+05:30\",\"2024-01-23T00:00:00+05:30\",\"2024-01-24T00:00:00+05:30\",\"2024-01-25T00:00:00+05:30\",\"2024-01-29T00:00:00+05:30\",\"2024-01-30T00:00:00+05:30\",\"2024-01-31T00:00:00+05:30\",\"2024-02-01T00:00:00+05:30\",\"2024-02-02T00:00:00+05:30\",\"2024-02-05T00:00:00+05:30\",\"2024-02-06T00:00:00+05:30\",\"2024-02-07T00:00:00+05:30\",\"2024-02-08T00:00:00+05:30\",\"2024-02-09T00:00:00+05:30\",\"2024-02-12T00:00:00+05:30\",\"2024-02-13T00:00:00+05:30\",\"2024-02-14T00:00:00+05:30\",\"2024-02-15T00:00:00+05:30\",\"2024-02-16T00:00:00+05:30\",\"2024-02-19T00:00:00+05:30\",\"2024-02-20T00:00:00+05:30\",\"2024-02-21T00:00:00+05:30\",\"2024-02-22T00:00:00+05:30\",\"2024-02-23T00:00:00+05:30\",\"2024-02-26T00:00:00+05:30\",\"2024-02-27T00:00:00+05:30\",\"2024-02-28T00:00:00+05:30\",\"2024-02-29T00:00:00+05:30\",\"2024-03-01T00:00:00+05:30\",\"2024-03-04T00:00:00+05:30\",\"2024-03-05T00:00:00+05:30\",\"2024-03-06T00:00:00+05:30\",\"2024-03-07T00:00:00+05:30\",\"2024-03-11T00:00:00+05:30\",\"2024-03-12T00:00:00+05:30\",\"2024-03-13T00:00:00+05:30\",\"2024-03-14T00:00:00+05:30\",\"2024-03-15T00:00:00+05:30\",\"2024-03-18T00:00:00+05:30\",\"2024-03-19T00:00:00+05:30\",\"2024-03-20T00:00:00+05:30\",\"2024-03-21T00:00:00+05:30\",\"2024-03-22T00:00:00+05:30\",\"2024-03-26T00:00:00+05:30\",\"2024-03-27T00:00:00+05:30\",\"2024-03-28T00:00:00+05:30\",\"2024-04-01T00:00:00+05:30\",\"2024-04-02T00:00:00+05:30\",\"2024-04-03T00:00:00+05:30\",\"2024-04-04T00:00:00+05:30\",\"2024-04-05T00:00:00+05:30\",\"2024-04-08T00:00:00+05:30\",\"2024-04-09T00:00:00+05:30\",\"2024-04-10T00:00:00+05:30\",\"2024-04-12T00:00:00+05:30\",\"2024-04-15T00:00:00+05:30\",\"2024-04-16T00:00:00+05:30\",\"2024-04-18T00:00:00+05:30\",\"2024-04-19T00:00:00+05:30\",\"2024-04-22T00:00:00+05:30\",\"2024-04-23T00:00:00+05:30\",\"2024-04-24T00:00:00+05:30\",\"2024-04-25T00:00:00+05:30\",\"2024-04-26T00:00:00+05:30\",\"2024-04-29T00:00:00+05:30\",\"2024-04-30T00:00:00+05:30\",\"2024-05-02T00:00:00+05:30\",\"2024-05-03T00:00:00+05:30\",\"2024-05-06T00:00:00+05:30\",\"2024-05-07T00:00:00+05:30\",\"2024-05-08T00:00:00+05:30\",\"2024-05-09T00:00:00+05:30\",\"2024-05-10T00:00:00+05:30\",\"2024-05-13T00:00:00+05:30\",\"2024-05-14T00:00:00+05:30\",\"2024-05-15T00:00:00+05:30\",\"2024-05-16T00:00:00+05:30\",\"2024-05-17T00:00:00+05:30\",\"2024-05-21T00:00:00+05:30\",\"2024-05-22T00:00:00+05:30\",\"2024-05-23T00:00:00+05:30\",\"2024-05-24T00:00:00+05:30\",\"2024-05-27T00:00:00+05:30\",\"2024-05-28T00:00:00+05:30\",\"2024-05-29T00:00:00+05:30\",\"2024-05-30T00:00:00+05:30\",\"2024-05-31T00:00:00+05:30\",\"2024-06-03T00:00:00+05:30\",\"2024-06-04T00:00:00+05:30\",\"2024-06-05T00:00:00+05:30\",\"2024-06-06T00:00:00+05:30\",\"2024-06-07T00:00:00+05:30\",\"2024-06-10T00:00:00+05:30\",\"2024-06-11T00:00:00+05:30\",\"2024-06-12T00:00:00+05:30\",\"2024-06-13T00:00:00+05:30\",\"2024-06-14T00:00:00+05:30\",\"2024-06-18T00:00:00+05:30\",\"2024-06-19T00:00:00+05:30\",\"2024-06-20T00:00:00+05:30\",\"2024-06-21T00:00:00+05:30\",\"2024-06-24T00:00:00+05:30\",\"2024-06-25T00:00:00+05:30\",\"2024-06-26T00:00:00+05:30\",\"2024-06-27T00:00:00+05:30\",\"2024-06-28T00:00:00+05:30\",\"2024-07-01T00:00:00+05:30\",\"2024-07-02T00:00:00+05:30\",\"2024-07-03T00:00:00+05:30\",\"2024-07-04T00:00:00+05:30\",\"2024-07-05T00:00:00+05:30\",\"2024-07-08T00:00:00+05:30\",\"2024-07-09T00:00:00+05:30\",\"2024-07-10T00:00:00+05:30\",\"2024-07-11T00:00:00+05:30\",\"2024-07-12T00:00:00+05:30\",\"2024-07-15T00:00:00+05:30\",\"2024-07-16T00:00:00+05:30\",\"2024-07-18T00:00:00+05:30\",\"2024-07-19T00:00:00+05:30\",\"2024-07-22T00:00:00+05:30\",\"2024-07-23T00:00:00+05:30\",\"2024-07-24T00:00:00+05:30\",\"2024-07-25T00:00:00+05:30\",\"2024-07-26T00:00:00+05:30\",\"2024-07-29T00:00:00+05:30\",\"2024-07-30T00:00:00+05:30\",\"2024-07-31T00:00:00+05:30\",\"2024-08-01T00:00:00+05:30\",\"2024-08-02T00:00:00+05:30\",\"2024-08-05T00:00:00+05:30\",\"2024-08-06T00:00:00+05:30\",\"2024-08-07T00:00:00+05:30\",\"2024-08-08T00:00:00+05:30\",\"2024-08-09T00:00:00+05:30\",\"2024-08-12T00:00:00+05:30\",\"2024-08-13T00:00:00+05:30\",\"2024-08-14T00:00:00+05:30\",\"2024-08-16T00:00:00+05:30\",\"2024-08-19T00:00:00+05:30\",\"2024-08-20T00:00:00+05:30\",\"2024-08-21T00:00:00+05:30\",\"2024-08-22T00:00:00+05:30\",\"2024-08-23T00:00:00+05:30\",\"2024-08-26T00:00:00+05:30\",\"2024-08-27T00:00:00+05:30\",\"2024-08-28T00:00:00+05:30\",\"2024-08-29T00:00:00+05:30\",\"2024-08-30T00:00:00+05:30\",\"2024-09-02T00:00:00+05:30\",\"2024-09-03T00:00:00+05:30\",\"2024-09-04T00:00:00+05:30\",\"2024-09-05T00:00:00+05:30\",\"2024-09-06T00:00:00+05:30\",\"2024-09-09T00:00:00+05:30\",\"2024-09-10T00:00:00+05:30\",\"2024-09-11T00:00:00+05:30\",\"2024-09-12T00:00:00+05:30\",\"2024-09-13T00:00:00+05:30\",\"2024-09-16T00:00:00+05:30\",\"2024-09-17T00:00:00+05:30\",\"2024-09-18T00:00:00+05:30\",\"2024-09-19T00:00:00+05:30\",\"2024-09-20T00:00:00+05:30\",\"2024-09-23T00:00:00+05:30\",\"2024-09-24T00:00:00+05:30\",\"2024-09-25T00:00:00+05:30\",\"2024-09-26T00:00:00+05:30\",\"2024-09-27T00:00:00+05:30\",\"2024-09-30T00:00:00+05:30\",\"2024-10-01T00:00:00+05:30\",\"2024-10-03T00:00:00+05:30\",\"2024-10-04T00:00:00+05:30\",\"2024-10-07T00:00:00+05:30\",\"2024-10-08T00:00:00+05:30\",\"2024-10-09T00:00:00+05:30\",\"2024-10-10T00:00:00+05:30\",\"2024-10-11T00:00:00+05:30\",\"2024-10-14T00:00:00+05:30\"],\"y\":[34.07948981940844,33.173087811381635,35.27298209428727,31.951321432764473,30.67417774952706,30.496037299635887,43.925626012415265,55.76255089916314,56.251548901153726,58.11082801830642,56.688725246686225,58.98290217213139,55.50708490668537,48.34162544456069,50.111116933375776,55.58504253790654,51.90642035666087,54.8648920210916,54.96411518492764,57.37996871550368,65.02840843150408,66.00702364813921,67.09061658924517,68.57180564785045,71.09698285960752,57.67274971681789,64.45434631337902,75.54641896907474,75.31129113822722,69.72815606075402,65.34247775443907,65.81960274345576,68.13426583054881,64.46957083803888,65.56671420486754,64.02928516582392,63.11258042669709,64.59895334476653,60.46314123939797,49.317698091299484,46.783878868634524,54.03178006155787,48.115916822653126,49.279892903719244,51.61295136932302,53.83556557591483,65.12567212701904,66.38816494336433,61.53316933404172,63.125306405743196,64.35278988887052,68.08519863740338,58.513017774787244,56.84349278541207,53.68470977961556,52.7526388459761,52.70494779604743,54.22965995053085,57.85882261991851,66.30577393872242,66.75371065177066,75.05465614539182,69.05196117691096,71.4242825613024,71.37778960348196,69.78801104865298,71.31239945196592,65.23240647715801,65.43158796819817,67.07621516778633,63.88137679567282,55.39742116859118,51.458479379478554,59.1051585944786,55.64885707632181,50.96730712488042,58.56674686407433,59.51801904869243,57.19981945446769,57.12446389981547,55.686660109069585,49.01036710530404,53.57176008558947,57.08080135966542,58.1383392473008,63.1142449720101,58.48222011280618,62.498183632948816,63.25909961804221,56.220641594825864,42.76964019007452,42.37082274714067,42.555615389669086,38.52896315231573,36.52552936637506,34.413800740741706,38.139138876796274,42.180498241064214,39.894154428252605,45.97202289923353,50.7060085739836,48.73119638468691,48.168371010952214,45.95046930916844,49.61182562195053,51.177653393278284,45.683030575527376,40.378472979284524,39.59663203436799,37.036679916649405,41.41207000497474,42.54302821727547,39.035917297687604,41.550204321356794,39.02215992977011,44.7541244557779,40.58660075218524,45.307594529049496,43.56805310105278,51.407804364394835,56.284556501368016,56.0752328085706,54.255135465203345,47.66081744683487,52.69465795421476,48.363785483321514,46.525716115351045,51.219704277301005,45.320579734545106,44.18114017293148,45.435312269886566,51.541463962844944,47.45143794247471,47.226454046463445,46.53303994119287,43.079548198357465,37.49518892365763,33.045849952448194,36.988603886866386,38.47469113163455,42.27008541345478,50.96546184740407,56.328009154695366,52.87387255709302,52.228111580800665,50.18288946721898,54.5418997184814,49.881917647032616,48.24961969308344,46.94181120446992,45.5093206859754,48.27388714240503,48.99140236288151,51.579735803350765,53.616880511220025,61.472152687520044,57.45711861683126,63.750725254415386,66.57010136242036,59.89584578604753,64.04250600910144,62.892102069403016,60.51247141382143,59.50865388807293,50.55360248189611,52.03493425900957,69.58597033874995,68.06580173451181,68.5301004550332,74.45773949467024,74.11154043200847,72.37992040743067,73.05566003357896,73.23897769901839,74.031777103288,76.98471631317841,76.02310383902908,73.70954383979102,74.75995520549927,75.38225843284116,59.93544536901118,48.038017730785434,49.4027699888567,51.86838933518101,49.395765213078676,54.13837113897417,51.10075013860613,51.21654720565527,59.10149648771338,66.3083666096419,69.8149845999504,71.2652925079887,72.47156506573481,67.143376222116,63.286559275553394,65.4491337336994,64.88323935258444,65.42384211535295,65.79026351475162,68.41974744504651,64.27261590095532,63.175496307479946,59.04572693041825,58.63422491259036,56.18079600261309,55.24720656854172,60.911300015824644,57.106312922064504,60.666886330866646,61.1110655561565,59.72504457867278,58.56237492573862,40.66907770191184,36.866345165688415,36.04957694618145,34.837880338341506,35.238087213159716,35.76166862629866,38.51569552675274,41.00179939516466,37.00337459110017,40.04208026566059,34.889797527099915,37.9309133269672,41.06270909002349,39.04412250180417,39.01253110852514,36.315723510470235,29.5767947190364,28.890165341889244],\"type\":\"scatter\"}],                        {\"template\":{\"data\":{\"histogram2dcontour\":[{\"type\":\"histogram2dcontour\",\"colorbar\":{\"outlinewidth\":0,\"ticks\":\"\"},\"colorscale\":[[0.0,\"#0d0887\"],[0.1111111111111111,\"#46039f\"],[0.2222222222222222,\"#7201a8\"],[0.3333333333333333,\"#9c179e\"],[0.4444444444444444,\"#bd3786\"],[0.5555555555555556,\"#d8576b\"],[0.6666666666666666,\"#ed7953\"],[0.7777777777777778,\"#fb9f3a\"],[0.8888888888888888,\"#fdca26\"],[1.0,\"#f0f921\"]]}],\"choropleth\":[{\"type\":\"choropleth\",\"colorbar\":{\"outlinewidth\":0,\"ticks\":\"\"}}],\"histogram2d\":[{\"type\":\"histogram2d\",\"colorbar\":{\"outlinewidth\":0,\"ticks\":\"\"},\"colorscale\":[[0.0,\"#0d0887\"],[0.1111111111111111,\"#46039f\"],[0.2222222222222222,\"#7201a8\"],[0.3333333333333333,\"#9c179e\"],[0.4444444444444444,\"#bd3786\"],[0.5555555555555556,\"#d8576b\"],[0.6666666666666666,\"#ed7953\"],[0.7777777777777778,\"#fb9f3a\"],[0.8888888888888888,\"#fdca26\"],[1.0,\"#f0f921\"]]}],\"heatmap\":[{\"type\":\"heatmap\",\"colorbar\":{\"outlinewidth\":0,\"ticks\":\"\"},\"colorscale\":[[0.0,\"#0d0887\"],[0.1111111111111111,\"#46039f\"],[0.2222222222222222,\"#7201a8\"],[0.3333333333333333,\"#9c179e\"],[0.4444444444444444,\"#bd3786\"],[0.5555555555555556,\"#d8576b\"],[0.6666666666666666,\"#ed7953\"],[0.7777777777777778,\"#fb9f3a\"],[0.8888888888888888,\"#fdca26\"],[1.0,\"#f0f921\"]]}],\"heatmapgl\":[{\"type\":\"heatmapgl\",\"colorbar\":{\"outlinewidth\":0,\"ticks\":\"\"},\"colorscale\":[[0.0,\"#0d0887\"],[0.1111111111111111,\"#46039f\"],[0.2222222222222222,\"#7201a8\"],[0.3333333333333333,\"#9c179e\"],[0.4444444444444444,\"#bd3786\"],[0.5555555555555556,\"#d8576b\"],[0.6666666666666666,\"#ed7953\"],[0.7777777777777778,\"#fb9f3a\"],[0.8888888888888888,\"#fdca26\"],[1.0,\"#f0f921\"]]}],\"contourcarpet\":[{\"type\":\"contourcarpet\",\"colorbar\":{\"outlinewidth\":0,\"ticks\":\"\"}}],\"contour\":[{\"type\":\"contour\",\"colorbar\":{\"outlinewidth\":0,\"ticks\":\"\"},\"colorscale\":[[0.0,\"#0d0887\"],[0.1111111111111111,\"#46039f\"],[0.2222222222222222,\"#7201a8\"],[0.3333333333333333,\"#9c179e\"],[0.4444444444444444,\"#bd3786\"],[0.5555555555555556,\"#d8576b\"],[0.6666666666666666,\"#ed7953\"],[0.7777777777777778,\"#fb9f3a\"],[0.8888888888888888,\"#fdca26\"],[1.0,\"#f0f921\"]]}],\"surface\":[{\"type\":\"surface\",\"colorbar\":{\"outlinewidth\":0,\"ticks\":\"\"},\"colorscale\":[[0.0,\"#0d0887\"],[0.1111111111111111,\"#46039f\"],[0.2222222222222222,\"#7201a8\"],[0.3333333333333333,\"#9c179e\"],[0.4444444444444444,\"#bd3786\"],[0.5555555555555556,\"#d8576b\"],[0.6666666666666666,\"#ed7953\"],[0.7777777777777778,\"#fb9f3a\"],[0.8888888888888888,\"#fdca26\"],[1.0,\"#f0f921\"]]}],\"mesh3d\":[{\"type\":\"mesh3d\",\"colorbar\":{\"outlinewidth\":0,\"ticks\":\"\"}}],\"scatter\":[{\"fillpattern\":{\"fillmode\":\"overlay\",\"size\":10,\"solidity\":0.2},\"type\":\"scatter\"}],\"parcoords\":[{\"type\":\"parcoords\",\"line\":{\"colorbar\":{\"outlinewidth\":0,\"ticks\":\"\"}}}],\"scatterpolargl\":[{\"type\":\"scatterpolargl\",\"marker\":{\"colorbar\":{\"outlinewidth\":0,\"ticks\":\"\"}}}],\"bar\":[{\"error_x\":{\"color\":\"#2a3f5f\"},\"error_y\":{\"color\":\"#2a3f5f\"},\"marker\":{\"line\":{\"color\":\"#E5ECF6\",\"width\":0.5},\"pattern\":{\"fillmode\":\"overlay\",\"size\":10,\"solidity\":0.2}},\"type\":\"bar\"}],\"scattergeo\":[{\"type\":\"scattergeo\",\"marker\":{\"colorbar\":{\"outlinewidth\":0,\"ticks\":\"\"}}}],\"scatterpolar\":[{\"type\":\"scatterpolar\",\"marker\":{\"colorbar\":{\"outlinewidth\":0,\"ticks\":\"\"}}}],\"histogram\":[{\"marker\":{\"pattern\":{\"fillmode\":\"overlay\",\"size\":10,\"solidity\":0.2}},\"type\":\"histogram\"}],\"scattergl\":[{\"type\":\"scattergl\",\"marker\":{\"colorbar\":{\"outlinewidth\":0,\"ticks\":\"\"}}}],\"scatter3d\":[{\"type\":\"scatter3d\",\"line\":{\"colorbar\":{\"outlinewidth\":0,\"ticks\":\"\"}},\"marker\":{\"colorbar\":{\"outlinewidth\":0,\"ticks\":\"\"}}}],\"scattermapbox\":[{\"type\":\"scattermapbox\",\"marker\":{\"colorbar\":{\"outlinewidth\":0,\"ticks\":\"\"}}}],\"scatterternary\":[{\"type\":\"scatterternary\",\"marker\":{\"colorbar\":{\"outlinewidth\":0,\"ticks\":\"\"}}}],\"scattercarpet\":[{\"type\":\"scattercarpet\",\"marker\":{\"colorbar\":{\"outlinewidth\":0,\"ticks\":\"\"}}}],\"carpet\":[{\"aaxis\":{\"endlinecolor\":\"#2a3f5f\",\"gridcolor\":\"white\",\"linecolor\":\"white\",\"minorgridcolor\":\"white\",\"startlinecolor\":\"#2a3f5f\"},\"baxis\":{\"endlinecolor\":\"#2a3f5f\",\"gridcolor\":\"white\",\"linecolor\":\"white\",\"minorgridcolor\":\"white\",\"startlinecolor\":\"#2a3f5f\"},\"type\":\"carpet\"}],\"table\":[{\"cells\":{\"fill\":{\"color\":\"#EBF0F8\"},\"line\":{\"color\":\"white\"}},\"header\":{\"fill\":{\"color\":\"#C8D4E3\"},\"line\":{\"color\":\"white\"}},\"type\":\"table\"}],\"barpolar\":[{\"marker\":{\"line\":{\"color\":\"#E5ECF6\",\"width\":0.5},\"pattern\":{\"fillmode\":\"overlay\",\"size\":10,\"solidity\":0.2}},\"type\":\"barpolar\"}],\"pie\":[{\"automargin\":true,\"type\":\"pie\"}]},\"layout\":{\"autotypenumbers\":\"strict\",\"colorway\":[\"#636efa\",\"#EF553B\",\"#00cc96\",\"#ab63fa\",\"#FFA15A\",\"#19d3f3\",\"#FF6692\",\"#B6E880\",\"#FF97FF\",\"#FECB52\"],\"font\":{\"color\":\"#2a3f5f\"},\"hovermode\":\"closest\",\"hoverlabel\":{\"align\":\"left\"},\"paper_bgcolor\":\"white\",\"plot_bgcolor\":\"#E5ECF6\",\"polar\":{\"bgcolor\":\"#E5ECF6\",\"angularaxis\":{\"gridcolor\":\"white\",\"linecolor\":\"white\",\"ticks\":\"\"},\"radialaxis\":{\"gridcolor\":\"white\",\"linecolor\":\"white\",\"ticks\":\"\"}},\"ternary\":{\"bgcolor\":\"#E5ECF6\",\"aaxis\":{\"gridcolor\":\"white\",\"linecolor\":\"white\",\"ticks\":\"\"},\"baxis\":{\"gridcolor\":\"white\",\"linecolor\":\"white\",\"ticks\":\"\"},\"caxis\":{\"gridcolor\":\"white\",\"linecolor\":\"white\",\"ticks\":\"\"}},\"coloraxis\":{\"colorbar\":{\"outlinewidth\":0,\"ticks\":\"\"}},\"colorscale\":{\"sequential\":[[0.0,\"#0d0887\"],[0.1111111111111111,\"#46039f\"],[0.2222222222222222,\"#7201a8\"],[0.3333333333333333,\"#9c179e\"],[0.4444444444444444,\"#bd3786\"],[0.5555555555555556,\"#d8576b\"],[0.6666666666666666,\"#ed7953\"],[0.7777777777777778,\"#fb9f3a\"],[0.8888888888888888,\"#fdca26\"],[1.0,\"#f0f921\"]],\"sequentialminus\":[[0.0,\"#0d0887\"],[0.1111111111111111,\"#46039f\"],[0.2222222222222222,\"#7201a8\"],[0.3333333333333333,\"#9c179e\"],[0.4444444444444444,\"#bd3786\"],[0.5555555555555556,\"#d8576b\"],[0.6666666666666666,\"#ed7953\"],[0.7777777777777778,\"#fb9f3a\"],[0.8888888888888888,\"#fdca26\"],[1.0,\"#f0f921\"]],\"diverging\":[[0,\"#8e0152\"],[0.1,\"#c51b7d\"],[0.2,\"#de77ae\"],[0.3,\"#f1b6da\"],[0.4,\"#fde0ef\"],[0.5,\"#f7f7f7\"],[0.6,\"#e6f5d0\"],[0.7,\"#b8e186\"],[0.8,\"#7fbc41\"],[0.9,\"#4d9221\"],[1,\"#276419\"]]},\"xaxis\":{\"gridcolor\":\"white\",\"linecolor\":\"white\",\"ticks\":\"\",\"title\":{\"standoff\":15},\"zerolinecolor\":\"white\",\"automargin\":true,\"zerolinewidth\":2},\"yaxis\":{\"gridcolor\":\"white\",\"linecolor\":\"white\",\"ticks\":\"\",\"title\":{\"standoff\":15},\"zerolinecolor\":\"white\",\"automargin\":true,\"zerolinewidth\":2},\"scene\":{\"xaxis\":{\"backgroundcolor\":\"#E5ECF6\",\"gridcolor\":\"white\",\"linecolor\":\"white\",\"showbackground\":true,\"ticks\":\"\",\"zerolinecolor\":\"white\",\"gridwidth\":2},\"yaxis\":{\"backgroundcolor\":\"#E5ECF6\",\"gridcolor\":\"white\",\"linecolor\":\"white\",\"showbackground\":true,\"ticks\":\"\",\"zerolinecolor\":\"white\",\"gridwidth\":2},\"zaxis\":{\"backgroundcolor\":\"#E5ECF6\",\"gridcolor\":\"white\",\"linecolor\":\"white\",\"showbackground\":true,\"ticks\":\"\",\"zerolinecolor\":\"white\",\"gridwidth\":2}},\"shapedefaults\":{\"line\":{\"color\":\"#2a3f5f\"}},\"annotationdefaults\":{\"arrowcolor\":\"#2a3f5f\",\"arrowhead\":0,\"arrowwidth\":1},\"geo\":{\"bgcolor\":\"white\",\"landcolor\":\"#E5ECF6\",\"subunitcolor\":\"white\",\"showland\":true,\"showlakes\":true,\"lakecolor\":\"white\"},\"title\":{\"x\":0.05},\"mapbox\":{\"style\":\"light\"}}},\"shapes\":[{\"line\":{\"color\":\"red\",\"dash\":\"dash\",\"width\":2},\"type\":\"line\",\"x0\":0,\"x1\":1,\"xref\":\"x domain\",\"y0\":70,\"y1\":70,\"yref\":\"y\"},{\"line\":{\"color\":\"green\",\"dash\":\"dash\",\"width\":2},\"type\":\"line\",\"x0\":0,\"x1\":1,\"xref\":\"x domain\",\"y0\":30,\"y1\":30,\"yref\":\"y\"}],\"font\":{\"size\":14},\"legend\":{\"font\":{\"size\":12},\"x\":0.01,\"y\":0.99},\"title\":{\"text\":\"RSI (Relative Strength Index)\"},\"yaxis\":{\"title\":{\"text\":\"RSI Value\"},\"range\":[0,100],\"tickmode\":\"linear\",\"tick0\":0,\"dtick\":10,\"showgrid\":true,\"zeroline\":false,\"showline\":true,\"showticklabels\":true},\"xaxis\":{\"title\":{\"text\":\"Date\"},\"range\":[\"2023-11-23T00:00:00+05:30\",\"2024-11-03T00:00:00+05:30\"],\"tickmode\":\"auto\",\"nticks\":10,\"showgrid\":true,\"zeroline\":false,\"showline\":true,\"showticklabels\":true},\"showlegend\":true,\"hovermode\":\"x unified\",\"plot_bgcolor\":\"white\"},                        {\"responsive\": true}                    ).then(function(){\n",
       "                            \n",
       "var gd = document.getElementById('268e4d99-0702-43bd-8018-07ab5dc5b3b5');\n",
       "var x = new MutationObserver(function (mutations, observer) {{\n",
       "        var display = window.getComputedStyle(gd).display;\n",
       "        if (!display || display === 'none') {{\n",
       "            console.log([gd, 'removed!']);\n",
       "            Plotly.purge(gd);\n",
       "            observer.disconnect();\n",
       "        }}\n",
       "}});\n",
       "\n",
       "// Listen for the removal of the full notebook cells\n",
       "var notebookContainer = gd.closest('#notebook-container');\n",
       "if (notebookContainer) {{\n",
       "    x.observe(notebookContainer, {childList: true});\n",
       "}}\n",
       "\n",
       "// Listen for the clearing of the current output cell\n",
       "var outputEl = gd.closest('.output');\n",
       "if (outputEl) {{\n",
       "    x.observe(outputEl, {childList: true});\n",
       "}}\n",
       "\n",
       "                        })                };                });            </script>        </div>"
      ]
     },
     "metadata": {},
     "output_type": "display_data"
    },
    {
     "name": "stdout",
     "output_type": "stream",
     "text": [
      "RSI is 28.89 and still decreasing in oversold territory. Very strong buy signal, but confirm with other indicators.\n"
     ]
    },
    {
     "data": {
      "application/vnd.plotly.v1+json": {
       "config": {
        "plotlyServerURL": "https://plot.ly"
       },
       "data": [
        {
         "hovertemplate": "<b>Date:</b> %{x|%d %b %y}<br><b>Close:</b> %{y:.2f}<extra></extra>",
         "line": {
          "color": "#1e90ff",
          "width": 3
         },
         "name": "Close Price",
         "type": "scatter",
         "x": [
          "2023-10-16T00:00:00+05:30",
          "2023-10-17T00:00:00+05:30",
          "2023-10-18T00:00:00+05:30",
          "2023-10-19T00:00:00+05:30",
          "2023-10-20T00:00:00+05:30",
          "2023-10-23T00:00:00+05:30",
          "2023-10-25T00:00:00+05:30",
          "2023-10-26T00:00:00+05:30",
          "2023-10-27T00:00:00+05:30",
          "2023-10-30T00:00:00+05:30",
          "2023-10-31T00:00:00+05:30",
          "2023-11-01T00:00:00+05:30",
          "2023-11-02T00:00:00+05:30",
          "2023-11-03T00:00:00+05:30",
          "2023-11-06T00:00:00+05:30",
          "2023-11-07T00:00:00+05:30",
          "2023-11-08T00:00:00+05:30",
          "2023-11-09T00:00:00+05:30",
          "2023-11-10T00:00:00+05:30",
          "2023-11-13T00:00:00+05:30",
          "2023-11-15T00:00:00+05:30",
          "2023-11-16T00:00:00+05:30",
          "2023-11-17T00:00:00+05:30",
          "2023-11-20T00:00:00+05:30",
          "2023-11-21T00:00:00+05:30",
          "2023-11-22T00:00:00+05:30",
          "2023-11-23T00:00:00+05:30",
          "2023-11-24T00:00:00+05:30",
          "2023-11-28T00:00:00+05:30",
          "2023-11-29T00:00:00+05:30",
          "2023-11-30T00:00:00+05:30",
          "2023-12-01T00:00:00+05:30",
          "2023-12-04T00:00:00+05:30",
          "2023-12-05T00:00:00+05:30",
          "2023-12-06T00:00:00+05:30",
          "2023-12-07T00:00:00+05:30",
          "2023-12-08T00:00:00+05:30",
          "2023-12-11T00:00:00+05:30",
          "2023-12-12T00:00:00+05:30",
          "2023-12-13T00:00:00+05:30",
          "2023-12-14T00:00:00+05:30",
          "2023-12-15T00:00:00+05:30",
          "2023-12-18T00:00:00+05:30",
          "2023-12-19T00:00:00+05:30",
          "2023-12-20T00:00:00+05:30",
          "2023-12-21T00:00:00+05:30",
          "2023-12-22T00:00:00+05:30",
          "2023-12-26T00:00:00+05:30",
          "2023-12-27T00:00:00+05:30",
          "2023-12-28T00:00:00+05:30",
          "2023-12-29T00:00:00+05:30",
          "2024-01-01T00:00:00+05:30",
          "2024-01-02T00:00:00+05:30",
          "2024-01-03T00:00:00+05:30",
          "2024-01-04T00:00:00+05:30",
          "2024-01-05T00:00:00+05:30",
          "2024-01-08T00:00:00+05:30",
          "2024-01-09T00:00:00+05:30",
          "2024-01-10T00:00:00+05:30",
          "2024-01-11T00:00:00+05:30",
          "2024-01-12T00:00:00+05:30",
          "2024-01-15T00:00:00+05:30",
          "2024-01-16T00:00:00+05:30",
          "2024-01-17T00:00:00+05:30",
          "2024-01-18T00:00:00+05:30",
          "2024-01-19T00:00:00+05:30",
          "2024-01-23T00:00:00+05:30",
          "2024-01-24T00:00:00+05:30",
          "2024-01-25T00:00:00+05:30",
          "2024-01-29T00:00:00+05:30",
          "2024-01-30T00:00:00+05:30",
          "2024-01-31T00:00:00+05:30",
          "2024-02-01T00:00:00+05:30",
          "2024-02-02T00:00:00+05:30",
          "2024-02-05T00:00:00+05:30",
          "2024-02-06T00:00:00+05:30",
          "2024-02-07T00:00:00+05:30",
          "2024-02-08T00:00:00+05:30",
          "2024-02-09T00:00:00+05:30",
          "2024-02-12T00:00:00+05:30",
          "2024-02-13T00:00:00+05:30",
          "2024-02-14T00:00:00+05:30",
          "2024-02-15T00:00:00+05:30",
          "2024-02-16T00:00:00+05:30",
          "2024-02-19T00:00:00+05:30",
          "2024-02-20T00:00:00+05:30",
          "2024-02-21T00:00:00+05:30",
          "2024-02-22T00:00:00+05:30",
          "2024-02-23T00:00:00+05:30",
          "2024-02-26T00:00:00+05:30",
          "2024-02-27T00:00:00+05:30",
          "2024-02-28T00:00:00+05:30",
          "2024-02-29T00:00:00+05:30",
          "2024-03-01T00:00:00+05:30",
          "2024-03-04T00:00:00+05:30",
          "2024-03-05T00:00:00+05:30",
          "2024-03-06T00:00:00+05:30",
          "2024-03-07T00:00:00+05:30",
          "2024-03-11T00:00:00+05:30",
          "2024-03-12T00:00:00+05:30",
          "2024-03-13T00:00:00+05:30",
          "2024-03-14T00:00:00+05:30",
          "2024-03-15T00:00:00+05:30",
          "2024-03-18T00:00:00+05:30",
          "2024-03-19T00:00:00+05:30",
          "2024-03-20T00:00:00+05:30",
          "2024-03-21T00:00:00+05:30",
          "2024-03-22T00:00:00+05:30",
          "2024-03-26T00:00:00+05:30",
          "2024-03-27T00:00:00+05:30",
          "2024-03-28T00:00:00+05:30",
          "2024-04-01T00:00:00+05:30",
          "2024-04-02T00:00:00+05:30",
          "2024-04-03T00:00:00+05:30",
          "2024-04-04T00:00:00+05:30",
          "2024-04-05T00:00:00+05:30",
          "2024-04-08T00:00:00+05:30",
          "2024-04-09T00:00:00+05:30",
          "2024-04-10T00:00:00+05:30",
          "2024-04-12T00:00:00+05:30",
          "2024-04-15T00:00:00+05:30",
          "2024-04-16T00:00:00+05:30",
          "2024-04-18T00:00:00+05:30",
          "2024-04-19T00:00:00+05:30",
          "2024-04-22T00:00:00+05:30",
          "2024-04-23T00:00:00+05:30",
          "2024-04-24T00:00:00+05:30",
          "2024-04-25T00:00:00+05:30",
          "2024-04-26T00:00:00+05:30",
          "2024-04-29T00:00:00+05:30",
          "2024-04-30T00:00:00+05:30",
          "2024-05-02T00:00:00+05:30",
          "2024-05-03T00:00:00+05:30",
          "2024-05-06T00:00:00+05:30",
          "2024-05-07T00:00:00+05:30",
          "2024-05-08T00:00:00+05:30",
          "2024-05-09T00:00:00+05:30",
          "2024-05-10T00:00:00+05:30",
          "2024-05-13T00:00:00+05:30",
          "2024-05-14T00:00:00+05:30",
          "2024-05-15T00:00:00+05:30",
          "2024-05-16T00:00:00+05:30",
          "2024-05-17T00:00:00+05:30",
          "2024-05-21T00:00:00+05:30",
          "2024-05-22T00:00:00+05:30",
          "2024-05-23T00:00:00+05:30",
          "2024-05-24T00:00:00+05:30",
          "2024-05-27T00:00:00+05:30",
          "2024-05-28T00:00:00+05:30",
          "2024-05-29T00:00:00+05:30",
          "2024-05-30T00:00:00+05:30",
          "2024-05-31T00:00:00+05:30",
          "2024-06-03T00:00:00+05:30",
          "2024-06-04T00:00:00+05:30",
          "2024-06-05T00:00:00+05:30",
          "2024-06-06T00:00:00+05:30",
          "2024-06-07T00:00:00+05:30",
          "2024-06-10T00:00:00+05:30",
          "2024-06-11T00:00:00+05:30",
          "2024-06-12T00:00:00+05:30",
          "2024-06-13T00:00:00+05:30",
          "2024-06-14T00:00:00+05:30",
          "2024-06-18T00:00:00+05:30",
          "2024-06-19T00:00:00+05:30",
          "2024-06-20T00:00:00+05:30",
          "2024-06-21T00:00:00+05:30",
          "2024-06-24T00:00:00+05:30",
          "2024-06-25T00:00:00+05:30",
          "2024-06-26T00:00:00+05:30",
          "2024-06-27T00:00:00+05:30",
          "2024-06-28T00:00:00+05:30",
          "2024-07-01T00:00:00+05:30",
          "2024-07-02T00:00:00+05:30",
          "2024-07-03T00:00:00+05:30",
          "2024-07-04T00:00:00+05:30",
          "2024-07-05T00:00:00+05:30",
          "2024-07-08T00:00:00+05:30",
          "2024-07-09T00:00:00+05:30",
          "2024-07-10T00:00:00+05:30",
          "2024-07-11T00:00:00+05:30",
          "2024-07-12T00:00:00+05:30",
          "2024-07-15T00:00:00+05:30",
          "2024-07-16T00:00:00+05:30",
          "2024-07-18T00:00:00+05:30",
          "2024-07-19T00:00:00+05:30",
          "2024-07-22T00:00:00+05:30",
          "2024-07-23T00:00:00+05:30",
          "2024-07-24T00:00:00+05:30",
          "2024-07-25T00:00:00+05:30",
          "2024-07-26T00:00:00+05:30",
          "2024-07-29T00:00:00+05:30",
          "2024-07-30T00:00:00+05:30",
          "2024-07-31T00:00:00+05:30",
          "2024-08-01T00:00:00+05:30",
          "2024-08-02T00:00:00+05:30",
          "2024-08-05T00:00:00+05:30",
          "2024-08-06T00:00:00+05:30",
          "2024-08-07T00:00:00+05:30",
          "2024-08-08T00:00:00+05:30",
          "2024-08-09T00:00:00+05:30",
          "2024-08-12T00:00:00+05:30",
          "2024-08-13T00:00:00+05:30",
          "2024-08-14T00:00:00+05:30",
          "2024-08-16T00:00:00+05:30",
          "2024-08-19T00:00:00+05:30",
          "2024-08-20T00:00:00+05:30",
          "2024-08-21T00:00:00+05:30",
          "2024-08-22T00:00:00+05:30",
          "2024-08-23T00:00:00+05:30",
          "2024-08-26T00:00:00+05:30",
          "2024-08-27T00:00:00+05:30",
          "2024-08-28T00:00:00+05:30",
          "2024-08-29T00:00:00+05:30",
          "2024-08-30T00:00:00+05:30",
          "2024-09-02T00:00:00+05:30",
          "2024-09-03T00:00:00+05:30",
          "2024-09-04T00:00:00+05:30",
          "2024-09-05T00:00:00+05:30",
          "2024-09-06T00:00:00+05:30",
          "2024-09-09T00:00:00+05:30",
          "2024-09-10T00:00:00+05:30",
          "2024-09-11T00:00:00+05:30",
          "2024-09-12T00:00:00+05:30",
          "2024-09-13T00:00:00+05:30",
          "2024-09-16T00:00:00+05:30",
          "2024-09-17T00:00:00+05:30",
          "2024-09-18T00:00:00+05:30",
          "2024-09-19T00:00:00+05:30",
          "2024-09-20T00:00:00+05:30",
          "2024-09-23T00:00:00+05:30",
          "2024-09-24T00:00:00+05:30",
          "2024-09-25T00:00:00+05:30",
          "2024-09-26T00:00:00+05:30",
          "2024-09-27T00:00:00+05:30",
          "2024-09-30T00:00:00+05:30",
          "2024-10-01T00:00:00+05:30",
          "2024-10-03T00:00:00+05:30",
          "2024-10-04T00:00:00+05:30",
          "2024-10-07T00:00:00+05:30",
          "2024-10-08T00:00:00+05:30",
          "2024-10-09T00:00:00+05:30",
          "2024-10-10T00:00:00+05:30",
          "2024-10-11T00:00:00+05:30",
          "2024-10-14T00:00:00+05:30"
         ],
         "y": [
          3465.447998046875,
          3448.730712890625,
          3429.26025390625,
          3406.978515625,
          3445.330810546875,
          3362.119140625,
          3342.3515625,
          3289.753173828125,
          3303.753173828125,
          3330.96435546875,
          3321.302490234375,
          3283.73876953125,
          3312.7744140625,
          3303.70361328125,
          3332.640380859375,
          3322.978515625,
          3333.922119140625,
          3300.30224609375,
          3286.49951171875,
          3284.62646484375,
          3356.351806640625,
          3448.584228515625,
          3453.119140625,
          3470.02783203125,
          3460.760009765625,
          3480.428955078125,
          3458.837646484375,
          3408.407958984375,
          3421.274169921875,
          3464.26025390625,
          3438.478515625,
          3462.189697265625,
          3462.978271484375,
          3481.85888671875,
          3553.337646484375,
          3563.9853515625,
          3575.619140625,
          3591.5908203125,
          3620.379638671875,
          3542.93603515625,
          3615.59814453125,
          3806.619384765625,
          3804.8447265625,
          3762.4501953125,
          3726.809326171875,
          3734.154296875,
          3770.140380859375,
          3742.091064453125,
          3757.5205078125,
          3746.379638671875,
          3739.971435546875,
          3757.422119140625,
          3729.914794921875,
          3639.7529296875,
          3615.154296875,
          3685.252685546875,
          3626.492431640625,
          3637.928955078125,
          3660.753173828125,
          3682.936279296875,
          3828.1123046875,
          3848.81640625,
          3806.9150390625,
          3829.886962890625,
          3847.63330078125,
          3905.52734375,
          3821.5341796875,
          3805.24072265625,
          3774.04052734375,
          3764.828857421875,
          3764.383056640625,
          3779.636474609375,
          3817.472900390625,
          3928.555908203125,
          3935.4892578125,
          4096.64111328125,
          4044.541259765625,
          4094.75927734375,
          4094.363037109375,
          4081.48681640625,
          4110.01220703125,
          4061.082763671875,
          4064.1533203125,
          4089.01416015625,
          4064.7470703125,
          3992.293212890625,
          3953.51611328125,
          4048.206298828125,
          4013.539306640625,
          3962.97509765625,
          4065.341552734375,
          4079.75341796875,
          4056.13037109375,
          4055.387451171875,
          4041.8671875,
          3973.920166015625,
          4025.623291015625,
          4069.501953125,
          4083.120849609375,
          4152.35595703125,
          4109.517578125,
          4167.5595703125,
          4179.09912109375,
          4112.98388671875,
          3939.451171875,
          3933.11181640625,
          3935.142578125,
          3873.68310546875,
          3840.600830078125,
          3804.34912109375,
          3839.412353515625,
          3879.4775390625,
          3846.841064453125,
          3909.73681640625,
          3965.203857421875,
          3941.3828125,
          3934.74658203125,
          3908.993896484375,
          3946.731201171875,
          3963.32177734375,
          3903.694580078125,
          3835.94580078125,
          3825.248291015625,
          3789.7890625,
          3827.82373046875,
          3837.82763671875,
          3794.593017578125,
          3815.541748046875,
          3784.985107421875,
          3833.370361328125,
          3784.291748046875,
          3826.5361328125,
          3806.825439453125,
          3883.736572265625,
          3941.085205078125,
          3939.1044921875,
          3922.513916015625,
          3856.8447265625,
          3910.23193359375,
          3864.0751953125,
          3843.47314453125,
          3891.91064453125,
          3825.2158203125,
          3811.347900390625,
          3823.12060546875,
          3884.427978515625,
          3840.580078125,
          3838.1357421875,
          3831.002197265625,
          3794.836181640625,
          3727.44287109375,
          3662.443603515625,
          3694.269775390625,
          3706.3916015625,
          3737.768798828125,
          3821.524169921875,
          3884.927001953125,
          3849.758544921875,
          3843.174072265625,
          3822.771240234375,
          3869.16357421875,
          3823.17041015625,
          3806.259765625,
          3792.890625,
          3778.47412109375,
          3801.919677734375,
          3807.955810546875,
          3829.555419921875,
          3846.915283203125,
          3925.03369140625,
          3895.103271484375,
          3968.981689453125,
          4008.0908203125,
          3956.061767578125,
          4011.632568359375,
          4002.50390625,
          3983.947021484375,
          3976.264892578125,
          3900.091552734375,
          3914.60791015625,
          4174.25537109375,
          4159.53955078125,
          4168.76806640625,
          4305.5498046875,
          4302.39990234375,
          4287.35009765625,
          4302.35009765625,
          4306.25,
          4322.5,
          4387.85009765625,
          4381.10009765625,
          4365.35009765625,
          4385.35009765625,
          4397.10009765625,
          4283.0498046875,
          4155.0498046875,
          4171.2001953125,
          4200.4501953125,
          4172.5498046875,
          4228.75,
          4195.64990234375,
          4196.9501953125,
          4295.25,
          4416.0498046875,
          4490,
          4523.2998046875,
          4551.5,
          4502,
          4463.89990234375,
          4502.4501953125,
          4497.14990234375,
          4506.0498046875,
          4511.7998046875,
          4553.75,
          4521.0498046875,
          4512.35009765625,
          4479.25,
          4475.9501953125,
          4456.75,
          4449.5498046875,
          4507.85009765625,
          4479.35009765625,
          4517.7001953125,
          4522.60009765625,
          4513.25,
          4505.64990234375,
          4346.14990234375,
          4296.14990234375,
          4284.89990234375,
          4268.5,
          4271.2998046875,
          4274.75,
          4292.5,
          4308.7001953125,
          4268.5,
          4287.89990234375,
          4232.75,
          4252.25,
          4272.85009765625,
          4253.25,
          4252.9501953125,
          4227.39990234375,
          4149.2001953125,
          4139.89990234375
         ]
        },
        {
         "line": {
          "color": "#FF4136",
          "dash": "dot",
          "width": 2
         },
         "mode": "lines",
         "name": "200% (4967.6)",
         "type": "scatter",
         "x": [
          "2023-10-16T00:00:00+05:30",
          "2024-10-14T00:00:00+05:30"
         ],
         "y": [
          4967.60009765625,
          4967.60009765625
         ]
        },
        {
         "line": {
          "color": "#FF851B",
          "dash": "dot",
          "width": 2
         },
         "mode": "lines",
         "name": "161.8% (4809.51)",
         "type": "scatter",
         "x": [
          "2023-10-16T00:00:00+05:30",
          "2024-10-14T00:00:00+05:30"
         ],
         "y": [
          4809.5093603515625,
          4809.5093603515625
         ]
        },
        {
         "line": {
          "color": "#FFDC00",
          "dash": "dot",
          "width": 2
         },
         "mode": "lines",
         "name": "150% (4760.68)",
         "type": "scatter",
         "x": [
          "2023-10-16T00:00:00+05:30",
          "2024-10-14T00:00:00+05:30"
         ],
         "y": [
          4760.675048828125,
          4760.675048828125
         ]
        },
        {
         "line": {
          "color": "#2ECC40",
          "dash": "dot",
          "width": 2
         },
         "mode": "lines",
         "name": "138.2% (4711.84)",
         "type": "scatter",
         "x": [
          "2023-10-16T00:00:00+05:30",
          "2024-10-14T00:00:00+05:30"
         ],
         "y": [
          4711.8407373046875,
          4711.8407373046875
         ]
        },
        {
         "line": {
          "color": "#0074D9",
          "dash": "dot",
          "width": 2
         },
         "mode": "lines",
         "name": "123.6% (4651.42)",
         "type": "scatter",
         "x": [
          "2023-10-16T00:00:00+05:30",
          "2024-10-14T00:00:00+05:30"
         ],
         "y": [
          4651.418623046875,
          4651.418623046875
         ]
        },
        {
         "line": {
          "color": "#B10DC9",
          "dash": "dash",
          "width": 2
         },
         "mode": "lines",
         "name": "23.6% (4237.57)",
         "type": "scatter",
         "x": [
          "2023-10-16T00:00:00+05:30",
          "2024-10-14T00:00:00+05:30"
         ],
         "y": [
          4237.568525390625,
          4237.568525390625
         ]
        },
        {
         "line": {
          "color": "#F012BE",
          "dash": "dash",
          "width": 2
         },
         "mode": "lines",
         "name": "38.2% (4297.99)",
         "type": "scatter",
         "x": [
          "2023-10-16T00:00:00+05:30",
          "2024-10-14T00:00:00+05:30"
         ],
         "y": [
          4297.9906396484375,
          4297.9906396484375
         ]
        },
        {
         "line": {
          "color": "#85144b",
          "dash": "dash",
          "width": 2
         },
         "mode": "lines",
         "name": "50% (4346.82)",
         "type": "scatter",
         "x": [
          "2023-10-16T00:00:00+05:30",
          "2024-10-14T00:00:00+05:30"
         ],
         "y": [
          4346.824951171875,
          4346.824951171875
         ]
        },
        {
         "line": {
          "color": "#001f3f",
          "dash": "dash",
          "width": 2
         },
         "mode": "lines",
         "name": "61.8% (4395.66)",
         "type": "scatter",
         "x": [
          "2023-10-16T00:00:00+05:30",
          "2024-10-14T00:00:00+05:30"
         ],
         "y": [
          4395.6592626953125,
          4395.6592626953125
         ]
        },
        {
         "line": {
          "color": "#39CCCC",
          "dash": "dash",
          "width": 2
         },
         "mode": "lines",
         "name": "78.6% (4465.19)",
         "type": "scatter",
         "x": [
          "2023-10-16T00:00:00+05:30",
          "2024-10-14T00:00:00+05:30"
         ],
         "y": [
          4465.186079101562,
          4465.186079101562
         ]
        }
       ],
       "layout": {
        "annotations": [
         {
          "bgcolor": "white",
          "bordercolor": "#FF4136",
          "borderpad": 4,
          "borderwidth": 2,
          "font": {
           "color": "#FF4136",
           "size": 10
          },
          "opacity": 0.8,
          "showarrow": false,
          "text": "200% (4967.6)",
          "x": "2024-10-14T00:00:00+05:30",
          "xanchor": "left",
          "xshift": 10,
          "y": 4967.60009765625
         },
         {
          "bgcolor": "white",
          "bordercolor": "#FF851B",
          "borderpad": 4,
          "borderwidth": 2,
          "font": {
           "color": "#FF851B",
           "size": 10
          },
          "opacity": 0.8,
          "showarrow": false,
          "text": "161.8% (4809.51)",
          "x": "2024-10-14T00:00:00+05:30",
          "xanchor": "left",
          "xshift": 10,
          "y": 4809.5093603515625
         },
         {
          "bgcolor": "white",
          "bordercolor": "#FFDC00",
          "borderpad": 4,
          "borderwidth": 2,
          "font": {
           "color": "#FFDC00",
           "size": 10
          },
          "opacity": 0.8,
          "showarrow": false,
          "text": "150% (4760.68)",
          "x": "2024-10-14T00:00:00+05:30",
          "xanchor": "left",
          "xshift": 10,
          "y": 4760.675048828125
         },
         {
          "bgcolor": "white",
          "bordercolor": "#2ECC40",
          "borderpad": 4,
          "borderwidth": 2,
          "font": {
           "color": "#2ECC40",
           "size": 10
          },
          "opacity": 0.8,
          "showarrow": false,
          "text": "138.2% (4711.84)",
          "x": "2024-10-14T00:00:00+05:30",
          "xanchor": "left",
          "xshift": 10,
          "y": 4711.8407373046875
         },
         {
          "bgcolor": "white",
          "bordercolor": "#0074D9",
          "borderpad": 4,
          "borderwidth": 2,
          "font": {
           "color": "#0074D9",
           "size": 10
          },
          "opacity": 0.8,
          "showarrow": false,
          "text": "123.6% (4651.42)",
          "x": "2024-10-14T00:00:00+05:30",
          "xanchor": "left",
          "xshift": 10,
          "y": 4651.418623046875
         },
         {
          "bgcolor": "white",
          "bordercolor": "#B10DC9",
          "borderpad": 4,
          "borderwidth": 2,
          "font": {
           "color": "#B10DC9",
           "size": 10
          },
          "opacity": 0.8,
          "showarrow": false,
          "text": "23.6% (4237.57)",
          "x": "2024-10-14T00:00:00+05:30",
          "xanchor": "left",
          "xshift": 10,
          "y": 4237.568525390625
         },
         {
          "bgcolor": "white",
          "bordercolor": "#F012BE",
          "borderpad": 4,
          "borderwidth": 2,
          "font": {
           "color": "#F012BE",
           "size": 10
          },
          "opacity": 0.8,
          "showarrow": false,
          "text": "38.2% (4297.99)",
          "x": "2024-10-14T00:00:00+05:30",
          "xanchor": "left",
          "xshift": 10,
          "y": 4297.9906396484375
         },
         {
          "bgcolor": "white",
          "bordercolor": "#85144b",
          "borderpad": 4,
          "borderwidth": 2,
          "font": {
           "color": "#85144b",
           "size": 10
          },
          "opacity": 0.8,
          "showarrow": false,
          "text": "50% (4346.82)",
          "x": "2024-10-14T00:00:00+05:30",
          "xanchor": "left",
          "xshift": 10,
          "y": 4346.824951171875
         },
         {
          "bgcolor": "white",
          "bordercolor": "#001f3f",
          "borderpad": 4,
          "borderwidth": 2,
          "font": {
           "color": "#001f3f",
           "size": 10
          },
          "opacity": 0.8,
          "showarrow": false,
          "text": "61.8% (4395.66)",
          "x": "2024-10-14T00:00:00+05:30",
          "xanchor": "left",
          "xshift": 10,
          "y": 4395.6592626953125
         },
         {
          "bgcolor": "white",
          "bordercolor": "#39CCCC",
          "borderpad": 4,
          "borderwidth": 2,
          "font": {
           "color": "#39CCCC",
           "size": 10
          },
          "opacity": 0.8,
          "showarrow": false,
          "text": "78.6% (4465.19)",
          "x": "2024-10-14T00:00:00+05:30",
          "xanchor": "left",
          "xshift": 10,
          "y": 4465.186079101562
         }
        ],
        "hovermode": "x unified",
        "legend": {
         "title": {
          "text": "Levels"
         }
        },
        "showlegend": true,
        "template": {
         "data": {
          "bar": [
           {
            "error_x": {
             "color": "#2a3f5f"
            },
            "error_y": {
             "color": "#2a3f5f"
            },
            "marker": {
             "line": {
              "color": "#E5ECF6",
              "width": 0.5
             },
             "pattern": {
              "fillmode": "overlay",
              "size": 10,
              "solidity": 0.2
             }
            },
            "type": "bar"
           }
          ],
          "barpolar": [
           {
            "marker": {
             "line": {
              "color": "#E5ECF6",
              "width": 0.5
             },
             "pattern": {
              "fillmode": "overlay",
              "size": 10,
              "solidity": 0.2
             }
            },
            "type": "barpolar"
           }
          ],
          "carpet": [
           {
            "aaxis": {
             "endlinecolor": "#2a3f5f",
             "gridcolor": "white",
             "linecolor": "white",
             "minorgridcolor": "white",
             "startlinecolor": "#2a3f5f"
            },
            "baxis": {
             "endlinecolor": "#2a3f5f",
             "gridcolor": "white",
             "linecolor": "white",
             "minorgridcolor": "white",
             "startlinecolor": "#2a3f5f"
            },
            "type": "carpet"
           }
          ],
          "choropleth": [
           {
            "colorbar": {
             "outlinewidth": 0,
             "ticks": ""
            },
            "type": "choropleth"
           }
          ],
          "contour": [
           {
            "colorbar": {
             "outlinewidth": 0,
             "ticks": ""
            },
            "colorscale": [
             [
              0,
              "#0d0887"
             ],
             [
              0.1111111111111111,
              "#46039f"
             ],
             [
              0.2222222222222222,
              "#7201a8"
             ],
             [
              0.3333333333333333,
              "#9c179e"
             ],
             [
              0.4444444444444444,
              "#bd3786"
             ],
             [
              0.5555555555555556,
              "#d8576b"
             ],
             [
              0.6666666666666666,
              "#ed7953"
             ],
             [
              0.7777777777777778,
              "#fb9f3a"
             ],
             [
              0.8888888888888888,
              "#fdca26"
             ],
             [
              1,
              "#f0f921"
             ]
            ],
            "type": "contour"
           }
          ],
          "contourcarpet": [
           {
            "colorbar": {
             "outlinewidth": 0,
             "ticks": ""
            },
            "type": "contourcarpet"
           }
          ],
          "heatmap": [
           {
            "colorbar": {
             "outlinewidth": 0,
             "ticks": ""
            },
            "colorscale": [
             [
              0,
              "#0d0887"
             ],
             [
              0.1111111111111111,
              "#46039f"
             ],
             [
              0.2222222222222222,
              "#7201a8"
             ],
             [
              0.3333333333333333,
              "#9c179e"
             ],
             [
              0.4444444444444444,
              "#bd3786"
             ],
             [
              0.5555555555555556,
              "#d8576b"
             ],
             [
              0.6666666666666666,
              "#ed7953"
             ],
             [
              0.7777777777777778,
              "#fb9f3a"
             ],
             [
              0.8888888888888888,
              "#fdca26"
             ],
             [
              1,
              "#f0f921"
             ]
            ],
            "type": "heatmap"
           }
          ],
          "heatmapgl": [
           {
            "colorbar": {
             "outlinewidth": 0,
             "ticks": ""
            },
            "colorscale": [
             [
              0,
              "#0d0887"
             ],
             [
              0.1111111111111111,
              "#46039f"
             ],
             [
              0.2222222222222222,
              "#7201a8"
             ],
             [
              0.3333333333333333,
              "#9c179e"
             ],
             [
              0.4444444444444444,
              "#bd3786"
             ],
             [
              0.5555555555555556,
              "#d8576b"
             ],
             [
              0.6666666666666666,
              "#ed7953"
             ],
             [
              0.7777777777777778,
              "#fb9f3a"
             ],
             [
              0.8888888888888888,
              "#fdca26"
             ],
             [
              1,
              "#f0f921"
             ]
            ],
            "type": "heatmapgl"
           }
          ],
          "histogram": [
           {
            "marker": {
             "pattern": {
              "fillmode": "overlay",
              "size": 10,
              "solidity": 0.2
             }
            },
            "type": "histogram"
           }
          ],
          "histogram2d": [
           {
            "colorbar": {
             "outlinewidth": 0,
             "ticks": ""
            },
            "colorscale": [
             [
              0,
              "#0d0887"
             ],
             [
              0.1111111111111111,
              "#46039f"
             ],
             [
              0.2222222222222222,
              "#7201a8"
             ],
             [
              0.3333333333333333,
              "#9c179e"
             ],
             [
              0.4444444444444444,
              "#bd3786"
             ],
             [
              0.5555555555555556,
              "#d8576b"
             ],
             [
              0.6666666666666666,
              "#ed7953"
             ],
             [
              0.7777777777777778,
              "#fb9f3a"
             ],
             [
              0.8888888888888888,
              "#fdca26"
             ],
             [
              1,
              "#f0f921"
             ]
            ],
            "type": "histogram2d"
           }
          ],
          "histogram2dcontour": [
           {
            "colorbar": {
             "outlinewidth": 0,
             "ticks": ""
            },
            "colorscale": [
             [
              0,
              "#0d0887"
             ],
             [
              0.1111111111111111,
              "#46039f"
             ],
             [
              0.2222222222222222,
              "#7201a8"
             ],
             [
              0.3333333333333333,
              "#9c179e"
             ],
             [
              0.4444444444444444,
              "#bd3786"
             ],
             [
              0.5555555555555556,
              "#d8576b"
             ],
             [
              0.6666666666666666,
              "#ed7953"
             ],
             [
              0.7777777777777778,
              "#fb9f3a"
             ],
             [
              0.8888888888888888,
              "#fdca26"
             ],
             [
              1,
              "#f0f921"
             ]
            ],
            "type": "histogram2dcontour"
           }
          ],
          "mesh3d": [
           {
            "colorbar": {
             "outlinewidth": 0,
             "ticks": ""
            },
            "type": "mesh3d"
           }
          ],
          "parcoords": [
           {
            "line": {
             "colorbar": {
              "outlinewidth": 0,
              "ticks": ""
             }
            },
            "type": "parcoords"
           }
          ],
          "pie": [
           {
            "automargin": true,
            "type": "pie"
           }
          ],
          "scatter": [
           {
            "fillpattern": {
             "fillmode": "overlay",
             "size": 10,
             "solidity": 0.2
            },
            "type": "scatter"
           }
          ],
          "scatter3d": [
           {
            "line": {
             "colorbar": {
              "outlinewidth": 0,
              "ticks": ""
             }
            },
            "marker": {
             "colorbar": {
              "outlinewidth": 0,
              "ticks": ""
             }
            },
            "type": "scatter3d"
           }
          ],
          "scattercarpet": [
           {
            "marker": {
             "colorbar": {
              "outlinewidth": 0,
              "ticks": ""
             }
            },
            "type": "scattercarpet"
           }
          ],
          "scattergeo": [
           {
            "marker": {
             "colorbar": {
              "outlinewidth": 0,
              "ticks": ""
             }
            },
            "type": "scattergeo"
           }
          ],
          "scattergl": [
           {
            "marker": {
             "colorbar": {
              "outlinewidth": 0,
              "ticks": ""
             }
            },
            "type": "scattergl"
           }
          ],
          "scattermapbox": [
           {
            "marker": {
             "colorbar": {
              "outlinewidth": 0,
              "ticks": ""
             }
            },
            "type": "scattermapbox"
           }
          ],
          "scatterpolar": [
           {
            "marker": {
             "colorbar": {
              "outlinewidth": 0,
              "ticks": ""
             }
            },
            "type": "scatterpolar"
           }
          ],
          "scatterpolargl": [
           {
            "marker": {
             "colorbar": {
              "outlinewidth": 0,
              "ticks": ""
             }
            },
            "type": "scatterpolargl"
           }
          ],
          "scatterternary": [
           {
            "marker": {
             "colorbar": {
              "outlinewidth": 0,
              "ticks": ""
             }
            },
            "type": "scatterternary"
           }
          ],
          "surface": [
           {
            "colorbar": {
             "outlinewidth": 0,
             "ticks": ""
            },
            "colorscale": [
             [
              0,
              "#0d0887"
             ],
             [
              0.1111111111111111,
              "#46039f"
             ],
             [
              0.2222222222222222,
              "#7201a8"
             ],
             [
              0.3333333333333333,
              "#9c179e"
             ],
             [
              0.4444444444444444,
              "#bd3786"
             ],
             [
              0.5555555555555556,
              "#d8576b"
             ],
             [
              0.6666666666666666,
              "#ed7953"
             ],
             [
              0.7777777777777778,
              "#fb9f3a"
             ],
             [
              0.8888888888888888,
              "#fdca26"
             ],
             [
              1,
              "#f0f921"
             ]
            ],
            "type": "surface"
           }
          ],
          "table": [
           {
            "cells": {
             "fill": {
              "color": "#EBF0F8"
             },
             "line": {
              "color": "white"
             }
            },
            "header": {
             "fill": {
              "color": "#C8D4E3"
             },
             "line": {
              "color": "white"
             }
            },
            "type": "table"
           }
          ]
         },
         "layout": {
          "annotationdefaults": {
           "arrowcolor": "#2a3f5f",
           "arrowhead": 0,
           "arrowwidth": 1
          },
          "autotypenumbers": "strict",
          "coloraxis": {
           "colorbar": {
            "outlinewidth": 0,
            "ticks": ""
           }
          },
          "colorscale": {
           "diverging": [
            [
             0,
             "#8e0152"
            ],
            [
             0.1,
             "#c51b7d"
            ],
            [
             0.2,
             "#de77ae"
            ],
            [
             0.3,
             "#f1b6da"
            ],
            [
             0.4,
             "#fde0ef"
            ],
            [
             0.5,
             "#f7f7f7"
            ],
            [
             0.6,
             "#e6f5d0"
            ],
            [
             0.7,
             "#b8e186"
            ],
            [
             0.8,
             "#7fbc41"
            ],
            [
             0.9,
             "#4d9221"
            ],
            [
             1,
             "#276419"
            ]
           ],
           "sequential": [
            [
             0,
             "#0d0887"
            ],
            [
             0.1111111111111111,
             "#46039f"
            ],
            [
             0.2222222222222222,
             "#7201a8"
            ],
            [
             0.3333333333333333,
             "#9c179e"
            ],
            [
             0.4444444444444444,
             "#bd3786"
            ],
            [
             0.5555555555555556,
             "#d8576b"
            ],
            [
             0.6666666666666666,
             "#ed7953"
            ],
            [
             0.7777777777777778,
             "#fb9f3a"
            ],
            [
             0.8888888888888888,
             "#fdca26"
            ],
            [
             1,
             "#f0f921"
            ]
           ],
           "sequentialminus": [
            [
             0,
             "#0d0887"
            ],
            [
             0.1111111111111111,
             "#46039f"
            ],
            [
             0.2222222222222222,
             "#7201a8"
            ],
            [
             0.3333333333333333,
             "#9c179e"
            ],
            [
             0.4444444444444444,
             "#bd3786"
            ],
            [
             0.5555555555555556,
             "#d8576b"
            ],
            [
             0.6666666666666666,
             "#ed7953"
            ],
            [
             0.7777777777777778,
             "#fb9f3a"
            ],
            [
             0.8888888888888888,
             "#fdca26"
            ],
            [
             1,
             "#f0f921"
            ]
           ]
          },
          "colorway": [
           "#636efa",
           "#EF553B",
           "#00cc96",
           "#ab63fa",
           "#FFA15A",
           "#19d3f3",
           "#FF6692",
           "#B6E880",
           "#FF97FF",
           "#FECB52"
          ],
          "font": {
           "color": "#2a3f5f"
          },
          "geo": {
           "bgcolor": "white",
           "lakecolor": "white",
           "landcolor": "#E5ECF6",
           "showlakes": true,
           "showland": true,
           "subunitcolor": "white"
          },
          "hoverlabel": {
           "align": "left"
          },
          "hovermode": "closest",
          "mapbox": {
           "style": "light"
          },
          "paper_bgcolor": "white",
          "plot_bgcolor": "#E5ECF6",
          "polar": {
           "angularaxis": {
            "gridcolor": "white",
            "linecolor": "white",
            "ticks": ""
           },
           "bgcolor": "#E5ECF6",
           "radialaxis": {
            "gridcolor": "white",
            "linecolor": "white",
            "ticks": ""
           }
          },
          "scene": {
           "xaxis": {
            "backgroundcolor": "#E5ECF6",
            "gridcolor": "white",
            "gridwidth": 2,
            "linecolor": "white",
            "showbackground": true,
            "ticks": "",
            "zerolinecolor": "white"
           },
           "yaxis": {
            "backgroundcolor": "#E5ECF6",
            "gridcolor": "white",
            "gridwidth": 2,
            "linecolor": "white",
            "showbackground": true,
            "ticks": "",
            "zerolinecolor": "white"
           },
           "zaxis": {
            "backgroundcolor": "#E5ECF6",
            "gridcolor": "white",
            "gridwidth": 2,
            "linecolor": "white",
            "showbackground": true,
            "ticks": "",
            "zerolinecolor": "white"
           }
          },
          "shapedefaults": {
           "line": {
            "color": "#2a3f5f"
           }
          },
          "ternary": {
           "aaxis": {
            "gridcolor": "white",
            "linecolor": "white",
            "ticks": ""
           },
           "baxis": {
            "gridcolor": "white",
            "linecolor": "white",
            "ticks": ""
           },
           "bgcolor": "#E5ECF6",
           "caxis": {
            "gridcolor": "white",
            "linecolor": "white",
            "ticks": ""
           }
          },
          "title": {
           "x": 0.05
          },
          "xaxis": {
           "automargin": true,
           "gridcolor": "white",
           "linecolor": "white",
           "ticks": "",
           "title": {
            "standoff": 15
           },
           "zerolinecolor": "white",
           "zerolinewidth": 2
          },
          "yaxis": {
           "automargin": true,
           "gridcolor": "white",
           "linecolor": "white",
           "ticks": "",
           "title": {
            "standoff": 15
           },
           "zerolinecolor": "white",
           "zerolinewidth": 2
          }
         }
        },
        "title": {
         "text": "Fibonacci Retracement and Extension Levels"
        },
        "xaxis": {
         "anchor": "y",
         "domain": [
          0,
          0.94
         ],
         "range": [
          "2024-01-18T00:00:00+05:30",
          "2024-11-03T00:00:00+05:30"
         ],
         "tickangle": 45,
         "tickformat": "%d %b %y",
         "tickmode": "array",
         "ticktext": [
          "01 Feb 24",
          "01 Mar 24",
          "01 Apr 24",
          "01 May 24",
          "01 Jun 24",
          "01 Jul 24",
          "01 Aug 24",
          "01 Sep 24",
          "01 Oct 24"
         ],
         "tickvals": [
          "2024-02-01T00:00:00+05:30",
          "2024-03-01T00:00:00+05:30",
          "2024-04-01T00:00:00+05:30",
          "2024-05-01T00:00:00+05:30",
          "2024-06-01T00:00:00+05:30",
          "2024-07-01T00:00:00+05:30",
          "2024-08-01T00:00:00+05:30",
          "2024-09-01T00:00:00+05:30",
          "2024-10-01T00:00:00+05:30"
         ],
         "title": {
          "text": "Date"
         }
        },
        "yaxis": {
         "anchor": "x",
         "domain": [
          0,
          1
         ],
         "tickformat": ".2f",
         "title": {
          "text": "Price"
         }
        },
        "yaxis2": {
         "anchor": "x",
         "overlaying": "y",
         "side": "right",
         "tickformat": ".2f"
        }
       }
      },
      "text/html": [
       "<div>                            <div id=\"7a546e92-b7c0-42ed-92b7-640c20713fb5\" class=\"plotly-graph-div\" style=\"height:525px; width:100%;\"></div>            <script type=\"text/javascript\">                require([\"plotly\"], function(Plotly) {                    window.PLOTLYENV=window.PLOTLYENV || {};                                    if (document.getElementById(\"7a546e92-b7c0-42ed-92b7-640c20713fb5\")) {                    Plotly.newPlot(                        \"7a546e92-b7c0-42ed-92b7-640c20713fb5\",                        [{\"hovertemplate\":\"\\u003cb\\u003eDate:\\u003c\\u002fb\\u003e %{x|%d %b %y}\\u003cbr\\u003e\\u003cb\\u003eClose:\\u003c\\u002fb\\u003e %{y:.2f}\\u003cextra\\u003e\\u003c\\u002fextra\\u003e\",\"line\":{\"color\":\"#1e90ff\",\"width\":3},\"name\":\"Close Price\",\"x\":[\"2023-10-16T00:00:00+05:30\",\"2023-10-17T00:00:00+05:30\",\"2023-10-18T00:00:00+05:30\",\"2023-10-19T00:00:00+05:30\",\"2023-10-20T00:00:00+05:30\",\"2023-10-23T00:00:00+05:30\",\"2023-10-25T00:00:00+05:30\",\"2023-10-26T00:00:00+05:30\",\"2023-10-27T00:00:00+05:30\",\"2023-10-30T00:00:00+05:30\",\"2023-10-31T00:00:00+05:30\",\"2023-11-01T00:00:00+05:30\",\"2023-11-02T00:00:00+05:30\",\"2023-11-03T00:00:00+05:30\",\"2023-11-06T00:00:00+05:30\",\"2023-11-07T00:00:00+05:30\",\"2023-11-08T00:00:00+05:30\",\"2023-11-09T00:00:00+05:30\",\"2023-11-10T00:00:00+05:30\",\"2023-11-13T00:00:00+05:30\",\"2023-11-15T00:00:00+05:30\",\"2023-11-16T00:00:00+05:30\",\"2023-11-17T00:00:00+05:30\",\"2023-11-20T00:00:00+05:30\",\"2023-11-21T00:00:00+05:30\",\"2023-11-22T00:00:00+05:30\",\"2023-11-23T00:00:00+05:30\",\"2023-11-24T00:00:00+05:30\",\"2023-11-28T00:00:00+05:30\",\"2023-11-29T00:00:00+05:30\",\"2023-11-30T00:00:00+05:30\",\"2023-12-01T00:00:00+05:30\",\"2023-12-04T00:00:00+05:30\",\"2023-12-05T00:00:00+05:30\",\"2023-12-06T00:00:00+05:30\",\"2023-12-07T00:00:00+05:30\",\"2023-12-08T00:00:00+05:30\",\"2023-12-11T00:00:00+05:30\",\"2023-12-12T00:00:00+05:30\",\"2023-12-13T00:00:00+05:30\",\"2023-12-14T00:00:00+05:30\",\"2023-12-15T00:00:00+05:30\",\"2023-12-18T00:00:00+05:30\",\"2023-12-19T00:00:00+05:30\",\"2023-12-20T00:00:00+05:30\",\"2023-12-21T00:00:00+05:30\",\"2023-12-22T00:00:00+05:30\",\"2023-12-26T00:00:00+05:30\",\"2023-12-27T00:00:00+05:30\",\"2023-12-28T00:00:00+05:30\",\"2023-12-29T00:00:00+05:30\",\"2024-01-01T00:00:00+05:30\",\"2024-01-02T00:00:00+05:30\",\"2024-01-03T00:00:00+05:30\",\"2024-01-04T00:00:00+05:30\",\"2024-01-05T00:00:00+05:30\",\"2024-01-08T00:00:00+05:30\",\"2024-01-09T00:00:00+05:30\",\"2024-01-10T00:00:00+05:30\",\"2024-01-11T00:00:00+05:30\",\"2024-01-12T00:00:00+05:30\",\"2024-01-15T00:00:00+05:30\",\"2024-01-16T00:00:00+05:30\",\"2024-01-17T00:00:00+05:30\",\"2024-01-18T00:00:00+05:30\",\"2024-01-19T00:00:00+05:30\",\"2024-01-23T00:00:00+05:30\",\"2024-01-24T00:00:00+05:30\",\"2024-01-25T00:00:00+05:30\",\"2024-01-29T00:00:00+05:30\",\"2024-01-30T00:00:00+05:30\",\"2024-01-31T00:00:00+05:30\",\"2024-02-01T00:00:00+05:30\",\"2024-02-02T00:00:00+05:30\",\"2024-02-05T00:00:00+05:30\",\"2024-02-06T00:00:00+05:30\",\"2024-02-07T00:00:00+05:30\",\"2024-02-08T00:00:00+05:30\",\"2024-02-09T00:00:00+05:30\",\"2024-02-12T00:00:00+05:30\",\"2024-02-13T00:00:00+05:30\",\"2024-02-14T00:00:00+05:30\",\"2024-02-15T00:00:00+05:30\",\"2024-02-16T00:00:00+05:30\",\"2024-02-19T00:00:00+05:30\",\"2024-02-20T00:00:00+05:30\",\"2024-02-21T00:00:00+05:30\",\"2024-02-22T00:00:00+05:30\",\"2024-02-23T00:00:00+05:30\",\"2024-02-26T00:00:00+05:30\",\"2024-02-27T00:00:00+05:30\",\"2024-02-28T00:00:00+05:30\",\"2024-02-29T00:00:00+05:30\",\"2024-03-01T00:00:00+05:30\",\"2024-03-04T00:00:00+05:30\",\"2024-03-05T00:00:00+05:30\",\"2024-03-06T00:00:00+05:30\",\"2024-03-07T00:00:00+05:30\",\"2024-03-11T00:00:00+05:30\",\"2024-03-12T00:00:00+05:30\",\"2024-03-13T00:00:00+05:30\",\"2024-03-14T00:00:00+05:30\",\"2024-03-15T00:00:00+05:30\",\"2024-03-18T00:00:00+05:30\",\"2024-03-19T00:00:00+05:30\",\"2024-03-20T00:00:00+05:30\",\"2024-03-21T00:00:00+05:30\",\"2024-03-22T00:00:00+05:30\",\"2024-03-26T00:00:00+05:30\",\"2024-03-27T00:00:00+05:30\",\"2024-03-28T00:00:00+05:30\",\"2024-04-01T00:00:00+05:30\",\"2024-04-02T00:00:00+05:30\",\"2024-04-03T00:00:00+05:30\",\"2024-04-04T00:00:00+05:30\",\"2024-04-05T00:00:00+05:30\",\"2024-04-08T00:00:00+05:30\",\"2024-04-09T00:00:00+05:30\",\"2024-04-10T00:00:00+05:30\",\"2024-04-12T00:00:00+05:30\",\"2024-04-15T00:00:00+05:30\",\"2024-04-16T00:00:00+05:30\",\"2024-04-18T00:00:00+05:30\",\"2024-04-19T00:00:00+05:30\",\"2024-04-22T00:00:00+05:30\",\"2024-04-23T00:00:00+05:30\",\"2024-04-24T00:00:00+05:30\",\"2024-04-25T00:00:00+05:30\",\"2024-04-26T00:00:00+05:30\",\"2024-04-29T00:00:00+05:30\",\"2024-04-30T00:00:00+05:30\",\"2024-05-02T00:00:00+05:30\",\"2024-05-03T00:00:00+05:30\",\"2024-05-06T00:00:00+05:30\",\"2024-05-07T00:00:00+05:30\",\"2024-05-08T00:00:00+05:30\",\"2024-05-09T00:00:00+05:30\",\"2024-05-10T00:00:00+05:30\",\"2024-05-13T00:00:00+05:30\",\"2024-05-14T00:00:00+05:30\",\"2024-05-15T00:00:00+05:30\",\"2024-05-16T00:00:00+05:30\",\"2024-05-17T00:00:00+05:30\",\"2024-05-21T00:00:00+05:30\",\"2024-05-22T00:00:00+05:30\",\"2024-05-23T00:00:00+05:30\",\"2024-05-24T00:00:00+05:30\",\"2024-05-27T00:00:00+05:30\",\"2024-05-28T00:00:00+05:30\",\"2024-05-29T00:00:00+05:30\",\"2024-05-30T00:00:00+05:30\",\"2024-05-31T00:00:00+05:30\",\"2024-06-03T00:00:00+05:30\",\"2024-06-04T00:00:00+05:30\",\"2024-06-05T00:00:00+05:30\",\"2024-06-06T00:00:00+05:30\",\"2024-06-07T00:00:00+05:30\",\"2024-06-10T00:00:00+05:30\",\"2024-06-11T00:00:00+05:30\",\"2024-06-12T00:00:00+05:30\",\"2024-06-13T00:00:00+05:30\",\"2024-06-14T00:00:00+05:30\",\"2024-06-18T00:00:00+05:30\",\"2024-06-19T00:00:00+05:30\",\"2024-06-20T00:00:00+05:30\",\"2024-06-21T00:00:00+05:30\",\"2024-06-24T00:00:00+05:30\",\"2024-06-25T00:00:00+05:30\",\"2024-06-26T00:00:00+05:30\",\"2024-06-27T00:00:00+05:30\",\"2024-06-28T00:00:00+05:30\",\"2024-07-01T00:00:00+05:30\",\"2024-07-02T00:00:00+05:30\",\"2024-07-03T00:00:00+05:30\",\"2024-07-04T00:00:00+05:30\",\"2024-07-05T00:00:00+05:30\",\"2024-07-08T00:00:00+05:30\",\"2024-07-09T00:00:00+05:30\",\"2024-07-10T00:00:00+05:30\",\"2024-07-11T00:00:00+05:30\",\"2024-07-12T00:00:00+05:30\",\"2024-07-15T00:00:00+05:30\",\"2024-07-16T00:00:00+05:30\",\"2024-07-18T00:00:00+05:30\",\"2024-07-19T00:00:00+05:30\",\"2024-07-22T00:00:00+05:30\",\"2024-07-23T00:00:00+05:30\",\"2024-07-24T00:00:00+05:30\",\"2024-07-25T00:00:00+05:30\",\"2024-07-26T00:00:00+05:30\",\"2024-07-29T00:00:00+05:30\",\"2024-07-30T00:00:00+05:30\",\"2024-07-31T00:00:00+05:30\",\"2024-08-01T00:00:00+05:30\",\"2024-08-02T00:00:00+05:30\",\"2024-08-05T00:00:00+05:30\",\"2024-08-06T00:00:00+05:30\",\"2024-08-07T00:00:00+05:30\",\"2024-08-08T00:00:00+05:30\",\"2024-08-09T00:00:00+05:30\",\"2024-08-12T00:00:00+05:30\",\"2024-08-13T00:00:00+05:30\",\"2024-08-14T00:00:00+05:30\",\"2024-08-16T00:00:00+05:30\",\"2024-08-19T00:00:00+05:30\",\"2024-08-20T00:00:00+05:30\",\"2024-08-21T00:00:00+05:30\",\"2024-08-22T00:00:00+05:30\",\"2024-08-23T00:00:00+05:30\",\"2024-08-26T00:00:00+05:30\",\"2024-08-27T00:00:00+05:30\",\"2024-08-28T00:00:00+05:30\",\"2024-08-29T00:00:00+05:30\",\"2024-08-30T00:00:00+05:30\",\"2024-09-02T00:00:00+05:30\",\"2024-09-03T00:00:00+05:30\",\"2024-09-04T00:00:00+05:30\",\"2024-09-05T00:00:00+05:30\",\"2024-09-06T00:00:00+05:30\",\"2024-09-09T00:00:00+05:30\",\"2024-09-10T00:00:00+05:30\",\"2024-09-11T00:00:00+05:30\",\"2024-09-12T00:00:00+05:30\",\"2024-09-13T00:00:00+05:30\",\"2024-09-16T00:00:00+05:30\",\"2024-09-17T00:00:00+05:30\",\"2024-09-18T00:00:00+05:30\",\"2024-09-19T00:00:00+05:30\",\"2024-09-20T00:00:00+05:30\",\"2024-09-23T00:00:00+05:30\",\"2024-09-24T00:00:00+05:30\",\"2024-09-25T00:00:00+05:30\",\"2024-09-26T00:00:00+05:30\",\"2024-09-27T00:00:00+05:30\",\"2024-09-30T00:00:00+05:30\",\"2024-10-01T00:00:00+05:30\",\"2024-10-03T00:00:00+05:30\",\"2024-10-04T00:00:00+05:30\",\"2024-10-07T00:00:00+05:30\",\"2024-10-08T00:00:00+05:30\",\"2024-10-09T00:00:00+05:30\",\"2024-10-10T00:00:00+05:30\",\"2024-10-11T00:00:00+05:30\",\"2024-10-14T00:00:00+05:30\"],\"y\":[3465.447998046875,3448.730712890625,3429.26025390625,3406.978515625,3445.330810546875,3362.119140625,3342.3515625,3289.753173828125,3303.753173828125,3330.96435546875,3321.302490234375,3283.73876953125,3312.7744140625,3303.70361328125,3332.640380859375,3322.978515625,3333.922119140625,3300.30224609375,3286.49951171875,3284.62646484375,3356.351806640625,3448.584228515625,3453.119140625,3470.02783203125,3460.760009765625,3480.428955078125,3458.837646484375,3408.407958984375,3421.274169921875,3464.26025390625,3438.478515625,3462.189697265625,3462.978271484375,3481.85888671875,3553.337646484375,3563.9853515625,3575.619140625,3591.5908203125,3620.379638671875,3542.93603515625,3615.59814453125,3806.619384765625,3804.8447265625,3762.4501953125,3726.809326171875,3734.154296875,3770.140380859375,3742.091064453125,3757.5205078125,3746.379638671875,3739.971435546875,3757.422119140625,3729.914794921875,3639.7529296875,3615.154296875,3685.252685546875,3626.492431640625,3637.928955078125,3660.753173828125,3682.936279296875,3828.1123046875,3848.81640625,3806.9150390625,3829.886962890625,3847.63330078125,3905.52734375,3821.5341796875,3805.24072265625,3774.04052734375,3764.828857421875,3764.383056640625,3779.636474609375,3817.472900390625,3928.555908203125,3935.4892578125,4096.64111328125,4044.541259765625,4094.75927734375,4094.363037109375,4081.48681640625,4110.01220703125,4061.082763671875,4064.1533203125,4089.01416015625,4064.7470703125,3992.293212890625,3953.51611328125,4048.206298828125,4013.539306640625,3962.97509765625,4065.341552734375,4079.75341796875,4056.13037109375,4055.387451171875,4041.8671875,3973.920166015625,4025.623291015625,4069.501953125,4083.120849609375,4152.35595703125,4109.517578125,4167.5595703125,4179.09912109375,4112.98388671875,3939.451171875,3933.11181640625,3935.142578125,3873.68310546875,3840.600830078125,3804.34912109375,3839.412353515625,3879.4775390625,3846.841064453125,3909.73681640625,3965.203857421875,3941.3828125,3934.74658203125,3908.993896484375,3946.731201171875,3963.32177734375,3903.694580078125,3835.94580078125,3825.248291015625,3789.7890625,3827.82373046875,3837.82763671875,3794.593017578125,3815.541748046875,3784.985107421875,3833.370361328125,3784.291748046875,3826.5361328125,3806.825439453125,3883.736572265625,3941.085205078125,3939.1044921875,3922.513916015625,3856.8447265625,3910.23193359375,3864.0751953125,3843.47314453125,3891.91064453125,3825.2158203125,3811.347900390625,3823.12060546875,3884.427978515625,3840.580078125,3838.1357421875,3831.002197265625,3794.836181640625,3727.44287109375,3662.443603515625,3694.269775390625,3706.3916015625,3737.768798828125,3821.524169921875,3884.927001953125,3849.758544921875,3843.174072265625,3822.771240234375,3869.16357421875,3823.17041015625,3806.259765625,3792.890625,3778.47412109375,3801.919677734375,3807.955810546875,3829.555419921875,3846.915283203125,3925.03369140625,3895.103271484375,3968.981689453125,4008.0908203125,3956.061767578125,4011.632568359375,4002.50390625,3983.947021484375,3976.264892578125,3900.091552734375,3914.60791015625,4174.25537109375,4159.53955078125,4168.76806640625,4305.5498046875,4302.39990234375,4287.35009765625,4302.35009765625,4306.25,4322.5,4387.85009765625,4381.10009765625,4365.35009765625,4385.35009765625,4397.10009765625,4283.0498046875,4155.0498046875,4171.2001953125,4200.4501953125,4172.5498046875,4228.75,4195.64990234375,4196.9501953125,4295.25,4416.0498046875,4490.0,4523.2998046875,4551.5,4502.0,4463.89990234375,4502.4501953125,4497.14990234375,4506.0498046875,4511.7998046875,4553.75,4521.0498046875,4512.35009765625,4479.25,4475.9501953125,4456.75,4449.5498046875,4507.85009765625,4479.35009765625,4517.7001953125,4522.60009765625,4513.25,4505.64990234375,4346.14990234375,4296.14990234375,4284.89990234375,4268.5,4271.2998046875,4274.75,4292.5,4308.7001953125,4268.5,4287.89990234375,4232.75,4252.25,4272.85009765625,4253.25,4252.9501953125,4227.39990234375,4149.2001953125,4139.89990234375],\"type\":\"scatter\"},{\"line\":{\"color\":\"#FF4136\",\"dash\":\"dot\",\"width\":2},\"mode\":\"lines\",\"name\":\"200% (4967.6)\",\"x\":[\"2023-10-16T00:00:00+05:30\",\"2024-10-14T00:00:00+05:30\"],\"y\":[4967.60009765625,4967.60009765625],\"type\":\"scatter\"},{\"line\":{\"color\":\"#FF851B\",\"dash\":\"dot\",\"width\":2},\"mode\":\"lines\",\"name\":\"161.8% (4809.51)\",\"x\":[\"2023-10-16T00:00:00+05:30\",\"2024-10-14T00:00:00+05:30\"],\"y\":[4809.5093603515625,4809.5093603515625],\"type\":\"scatter\"},{\"line\":{\"color\":\"#FFDC00\",\"dash\":\"dot\",\"width\":2},\"mode\":\"lines\",\"name\":\"150% (4760.68)\",\"x\":[\"2023-10-16T00:00:00+05:30\",\"2024-10-14T00:00:00+05:30\"],\"y\":[4760.675048828125,4760.675048828125],\"type\":\"scatter\"},{\"line\":{\"color\":\"#2ECC40\",\"dash\":\"dot\",\"width\":2},\"mode\":\"lines\",\"name\":\"138.2% (4711.84)\",\"x\":[\"2023-10-16T00:00:00+05:30\",\"2024-10-14T00:00:00+05:30\"],\"y\":[4711.8407373046875,4711.8407373046875],\"type\":\"scatter\"},{\"line\":{\"color\":\"#0074D9\",\"dash\":\"dot\",\"width\":2},\"mode\":\"lines\",\"name\":\"123.6% (4651.42)\",\"x\":[\"2023-10-16T00:00:00+05:30\",\"2024-10-14T00:00:00+05:30\"],\"y\":[4651.418623046875,4651.418623046875],\"type\":\"scatter\"},{\"line\":{\"color\":\"#B10DC9\",\"dash\":\"dash\",\"width\":2},\"mode\":\"lines\",\"name\":\"23.6% (4237.57)\",\"x\":[\"2023-10-16T00:00:00+05:30\",\"2024-10-14T00:00:00+05:30\"],\"y\":[4237.568525390625,4237.568525390625],\"type\":\"scatter\"},{\"line\":{\"color\":\"#F012BE\",\"dash\":\"dash\",\"width\":2},\"mode\":\"lines\",\"name\":\"38.2% (4297.99)\",\"x\":[\"2023-10-16T00:00:00+05:30\",\"2024-10-14T00:00:00+05:30\"],\"y\":[4297.9906396484375,4297.9906396484375],\"type\":\"scatter\"},{\"line\":{\"color\":\"#85144b\",\"dash\":\"dash\",\"width\":2},\"mode\":\"lines\",\"name\":\"50% (4346.82)\",\"x\":[\"2023-10-16T00:00:00+05:30\",\"2024-10-14T00:00:00+05:30\"],\"y\":[4346.824951171875,4346.824951171875],\"type\":\"scatter\"},{\"line\":{\"color\":\"#001f3f\",\"dash\":\"dash\",\"width\":2},\"mode\":\"lines\",\"name\":\"61.8% (4395.66)\",\"x\":[\"2023-10-16T00:00:00+05:30\",\"2024-10-14T00:00:00+05:30\"],\"y\":[4395.6592626953125,4395.6592626953125],\"type\":\"scatter\"},{\"line\":{\"color\":\"#39CCCC\",\"dash\":\"dash\",\"width\":2},\"mode\":\"lines\",\"name\":\"78.6% (4465.19)\",\"x\":[\"2023-10-16T00:00:00+05:30\",\"2024-10-14T00:00:00+05:30\"],\"y\":[4465.186079101562,4465.186079101562],\"type\":\"scatter\"}],                        {\"template\":{\"data\":{\"histogram2dcontour\":[{\"type\":\"histogram2dcontour\",\"colorbar\":{\"outlinewidth\":0,\"ticks\":\"\"},\"colorscale\":[[0.0,\"#0d0887\"],[0.1111111111111111,\"#46039f\"],[0.2222222222222222,\"#7201a8\"],[0.3333333333333333,\"#9c179e\"],[0.4444444444444444,\"#bd3786\"],[0.5555555555555556,\"#d8576b\"],[0.6666666666666666,\"#ed7953\"],[0.7777777777777778,\"#fb9f3a\"],[0.8888888888888888,\"#fdca26\"],[1.0,\"#f0f921\"]]}],\"choropleth\":[{\"type\":\"choropleth\",\"colorbar\":{\"outlinewidth\":0,\"ticks\":\"\"}}],\"histogram2d\":[{\"type\":\"histogram2d\",\"colorbar\":{\"outlinewidth\":0,\"ticks\":\"\"},\"colorscale\":[[0.0,\"#0d0887\"],[0.1111111111111111,\"#46039f\"],[0.2222222222222222,\"#7201a8\"],[0.3333333333333333,\"#9c179e\"],[0.4444444444444444,\"#bd3786\"],[0.5555555555555556,\"#d8576b\"],[0.6666666666666666,\"#ed7953\"],[0.7777777777777778,\"#fb9f3a\"],[0.8888888888888888,\"#fdca26\"],[1.0,\"#f0f921\"]]}],\"heatmap\":[{\"type\":\"heatmap\",\"colorbar\":{\"outlinewidth\":0,\"ticks\":\"\"},\"colorscale\":[[0.0,\"#0d0887\"],[0.1111111111111111,\"#46039f\"],[0.2222222222222222,\"#7201a8\"],[0.3333333333333333,\"#9c179e\"],[0.4444444444444444,\"#bd3786\"],[0.5555555555555556,\"#d8576b\"],[0.6666666666666666,\"#ed7953\"],[0.7777777777777778,\"#fb9f3a\"],[0.8888888888888888,\"#fdca26\"],[1.0,\"#f0f921\"]]}],\"heatmapgl\":[{\"type\":\"heatmapgl\",\"colorbar\":{\"outlinewidth\":0,\"ticks\":\"\"},\"colorscale\":[[0.0,\"#0d0887\"],[0.1111111111111111,\"#46039f\"],[0.2222222222222222,\"#7201a8\"],[0.3333333333333333,\"#9c179e\"],[0.4444444444444444,\"#bd3786\"],[0.5555555555555556,\"#d8576b\"],[0.6666666666666666,\"#ed7953\"],[0.7777777777777778,\"#fb9f3a\"],[0.8888888888888888,\"#fdca26\"],[1.0,\"#f0f921\"]]}],\"contourcarpet\":[{\"type\":\"contourcarpet\",\"colorbar\":{\"outlinewidth\":0,\"ticks\":\"\"}}],\"contour\":[{\"type\":\"contour\",\"colorbar\":{\"outlinewidth\":0,\"ticks\":\"\"},\"colorscale\":[[0.0,\"#0d0887\"],[0.1111111111111111,\"#46039f\"],[0.2222222222222222,\"#7201a8\"],[0.3333333333333333,\"#9c179e\"],[0.4444444444444444,\"#bd3786\"],[0.5555555555555556,\"#d8576b\"],[0.6666666666666666,\"#ed7953\"],[0.7777777777777778,\"#fb9f3a\"],[0.8888888888888888,\"#fdca26\"],[1.0,\"#f0f921\"]]}],\"surface\":[{\"type\":\"surface\",\"colorbar\":{\"outlinewidth\":0,\"ticks\":\"\"},\"colorscale\":[[0.0,\"#0d0887\"],[0.1111111111111111,\"#46039f\"],[0.2222222222222222,\"#7201a8\"],[0.3333333333333333,\"#9c179e\"],[0.4444444444444444,\"#bd3786\"],[0.5555555555555556,\"#d8576b\"],[0.6666666666666666,\"#ed7953\"],[0.7777777777777778,\"#fb9f3a\"],[0.8888888888888888,\"#fdca26\"],[1.0,\"#f0f921\"]]}],\"mesh3d\":[{\"type\":\"mesh3d\",\"colorbar\":{\"outlinewidth\":0,\"ticks\":\"\"}}],\"scatter\":[{\"fillpattern\":{\"fillmode\":\"overlay\",\"size\":10,\"solidity\":0.2},\"type\":\"scatter\"}],\"parcoords\":[{\"type\":\"parcoords\",\"line\":{\"colorbar\":{\"outlinewidth\":0,\"ticks\":\"\"}}}],\"scatterpolargl\":[{\"type\":\"scatterpolargl\",\"marker\":{\"colorbar\":{\"outlinewidth\":0,\"ticks\":\"\"}}}],\"bar\":[{\"error_x\":{\"color\":\"#2a3f5f\"},\"error_y\":{\"color\":\"#2a3f5f\"},\"marker\":{\"line\":{\"color\":\"#E5ECF6\",\"width\":0.5},\"pattern\":{\"fillmode\":\"overlay\",\"size\":10,\"solidity\":0.2}},\"type\":\"bar\"}],\"scattergeo\":[{\"type\":\"scattergeo\",\"marker\":{\"colorbar\":{\"outlinewidth\":0,\"ticks\":\"\"}}}],\"scatterpolar\":[{\"type\":\"scatterpolar\",\"marker\":{\"colorbar\":{\"outlinewidth\":0,\"ticks\":\"\"}}}],\"histogram\":[{\"marker\":{\"pattern\":{\"fillmode\":\"overlay\",\"size\":10,\"solidity\":0.2}},\"type\":\"histogram\"}],\"scattergl\":[{\"type\":\"scattergl\",\"marker\":{\"colorbar\":{\"outlinewidth\":0,\"ticks\":\"\"}}}],\"scatter3d\":[{\"type\":\"scatter3d\",\"line\":{\"colorbar\":{\"outlinewidth\":0,\"ticks\":\"\"}},\"marker\":{\"colorbar\":{\"outlinewidth\":0,\"ticks\":\"\"}}}],\"scattermapbox\":[{\"type\":\"scattermapbox\",\"marker\":{\"colorbar\":{\"outlinewidth\":0,\"ticks\":\"\"}}}],\"scatterternary\":[{\"type\":\"scatterternary\",\"marker\":{\"colorbar\":{\"outlinewidth\":0,\"ticks\":\"\"}}}],\"scattercarpet\":[{\"type\":\"scattercarpet\",\"marker\":{\"colorbar\":{\"outlinewidth\":0,\"ticks\":\"\"}}}],\"carpet\":[{\"aaxis\":{\"endlinecolor\":\"#2a3f5f\",\"gridcolor\":\"white\",\"linecolor\":\"white\",\"minorgridcolor\":\"white\",\"startlinecolor\":\"#2a3f5f\"},\"baxis\":{\"endlinecolor\":\"#2a3f5f\",\"gridcolor\":\"white\",\"linecolor\":\"white\",\"minorgridcolor\":\"white\",\"startlinecolor\":\"#2a3f5f\"},\"type\":\"carpet\"}],\"table\":[{\"cells\":{\"fill\":{\"color\":\"#EBF0F8\"},\"line\":{\"color\":\"white\"}},\"header\":{\"fill\":{\"color\":\"#C8D4E3\"},\"line\":{\"color\":\"white\"}},\"type\":\"table\"}],\"barpolar\":[{\"marker\":{\"line\":{\"color\":\"#E5ECF6\",\"width\":0.5},\"pattern\":{\"fillmode\":\"overlay\",\"size\":10,\"solidity\":0.2}},\"type\":\"barpolar\"}],\"pie\":[{\"automargin\":true,\"type\":\"pie\"}]},\"layout\":{\"autotypenumbers\":\"strict\",\"colorway\":[\"#636efa\",\"#EF553B\",\"#00cc96\",\"#ab63fa\",\"#FFA15A\",\"#19d3f3\",\"#FF6692\",\"#B6E880\",\"#FF97FF\",\"#FECB52\"],\"font\":{\"color\":\"#2a3f5f\"},\"hovermode\":\"closest\",\"hoverlabel\":{\"align\":\"left\"},\"paper_bgcolor\":\"white\",\"plot_bgcolor\":\"#E5ECF6\",\"polar\":{\"bgcolor\":\"#E5ECF6\",\"angularaxis\":{\"gridcolor\":\"white\",\"linecolor\":\"white\",\"ticks\":\"\"},\"radialaxis\":{\"gridcolor\":\"white\",\"linecolor\":\"white\",\"ticks\":\"\"}},\"ternary\":{\"bgcolor\":\"#E5ECF6\",\"aaxis\":{\"gridcolor\":\"white\",\"linecolor\":\"white\",\"ticks\":\"\"},\"baxis\":{\"gridcolor\":\"white\",\"linecolor\":\"white\",\"ticks\":\"\"},\"caxis\":{\"gridcolor\":\"white\",\"linecolor\":\"white\",\"ticks\":\"\"}},\"coloraxis\":{\"colorbar\":{\"outlinewidth\":0,\"ticks\":\"\"}},\"colorscale\":{\"sequential\":[[0.0,\"#0d0887\"],[0.1111111111111111,\"#46039f\"],[0.2222222222222222,\"#7201a8\"],[0.3333333333333333,\"#9c179e\"],[0.4444444444444444,\"#bd3786\"],[0.5555555555555556,\"#d8576b\"],[0.6666666666666666,\"#ed7953\"],[0.7777777777777778,\"#fb9f3a\"],[0.8888888888888888,\"#fdca26\"],[1.0,\"#f0f921\"]],\"sequentialminus\":[[0.0,\"#0d0887\"],[0.1111111111111111,\"#46039f\"],[0.2222222222222222,\"#7201a8\"],[0.3333333333333333,\"#9c179e\"],[0.4444444444444444,\"#bd3786\"],[0.5555555555555556,\"#d8576b\"],[0.6666666666666666,\"#ed7953\"],[0.7777777777777778,\"#fb9f3a\"],[0.8888888888888888,\"#fdca26\"],[1.0,\"#f0f921\"]],\"diverging\":[[0,\"#8e0152\"],[0.1,\"#c51b7d\"],[0.2,\"#de77ae\"],[0.3,\"#f1b6da\"],[0.4,\"#fde0ef\"],[0.5,\"#f7f7f7\"],[0.6,\"#e6f5d0\"],[0.7,\"#b8e186\"],[0.8,\"#7fbc41\"],[0.9,\"#4d9221\"],[1,\"#276419\"]]},\"xaxis\":{\"gridcolor\":\"white\",\"linecolor\":\"white\",\"ticks\":\"\",\"title\":{\"standoff\":15},\"zerolinecolor\":\"white\",\"automargin\":true,\"zerolinewidth\":2},\"yaxis\":{\"gridcolor\":\"white\",\"linecolor\":\"white\",\"ticks\":\"\",\"title\":{\"standoff\":15},\"zerolinecolor\":\"white\",\"automargin\":true,\"zerolinewidth\":2},\"scene\":{\"xaxis\":{\"backgroundcolor\":\"#E5ECF6\",\"gridcolor\":\"white\",\"linecolor\":\"white\",\"showbackground\":true,\"ticks\":\"\",\"zerolinecolor\":\"white\",\"gridwidth\":2},\"yaxis\":{\"backgroundcolor\":\"#E5ECF6\",\"gridcolor\":\"white\",\"linecolor\":\"white\",\"showbackground\":true,\"ticks\":\"\",\"zerolinecolor\":\"white\",\"gridwidth\":2},\"zaxis\":{\"backgroundcolor\":\"#E5ECF6\",\"gridcolor\":\"white\",\"linecolor\":\"white\",\"showbackground\":true,\"ticks\":\"\",\"zerolinecolor\":\"white\",\"gridwidth\":2}},\"shapedefaults\":{\"line\":{\"color\":\"#2a3f5f\"}},\"annotationdefaults\":{\"arrowcolor\":\"#2a3f5f\",\"arrowhead\":0,\"arrowwidth\":1},\"geo\":{\"bgcolor\":\"white\",\"landcolor\":\"#E5ECF6\",\"subunitcolor\":\"white\",\"showland\":true,\"showlakes\":true,\"lakecolor\":\"white\"},\"title\":{\"x\":0.05},\"mapbox\":{\"style\":\"light\"}}},\"xaxis\":{\"anchor\":\"y\",\"domain\":[0.0,0.94],\"title\":{\"text\":\"Date\"},\"tickformat\":\"%d %b %y\",\"tickangle\":45,\"range\":[\"2024-01-18T00:00:00+05:30\",\"2024-11-03T00:00:00+05:30\"],\"tickmode\":\"array\",\"tickvals\":[\"2024-02-01T00:00:00+05:30\",\"2024-03-01T00:00:00+05:30\",\"2024-04-01T00:00:00+05:30\",\"2024-05-01T00:00:00+05:30\",\"2024-06-01T00:00:00+05:30\",\"2024-07-01T00:00:00+05:30\",\"2024-08-01T00:00:00+05:30\",\"2024-09-01T00:00:00+05:30\",\"2024-10-01T00:00:00+05:30\"],\"ticktext\":[\"01 Feb 24\",\"01 Mar 24\",\"01 Apr 24\",\"01 May 24\",\"01 Jun 24\",\"01 Jul 24\",\"01 Aug 24\",\"01 Sep 24\",\"01 Oct 24\"]},\"yaxis\":{\"anchor\":\"x\",\"domain\":[0.0,1.0],\"title\":{\"text\":\"Price\"},\"tickformat\":\".2f\"},\"yaxis2\":{\"anchor\":\"x\",\"overlaying\":\"y\",\"side\":\"right\",\"tickformat\":\".2f\"},\"annotations\":[{\"bgcolor\":\"white\",\"bordercolor\":\"#FF4136\",\"borderpad\":4,\"borderwidth\":2,\"font\":{\"color\":\"#FF4136\",\"size\":10},\"opacity\":0.8,\"showarrow\":false,\"text\":\"200% (4967.6)\",\"x\":\"2024-10-14T00:00:00+05:30\",\"xanchor\":\"left\",\"xshift\":10,\"y\":4967.60009765625},{\"bgcolor\":\"white\",\"bordercolor\":\"#FF851B\",\"borderpad\":4,\"borderwidth\":2,\"font\":{\"color\":\"#FF851B\",\"size\":10},\"opacity\":0.8,\"showarrow\":false,\"text\":\"161.8% (4809.51)\",\"x\":\"2024-10-14T00:00:00+05:30\",\"xanchor\":\"left\",\"xshift\":10,\"y\":4809.5093603515625},{\"bgcolor\":\"white\",\"bordercolor\":\"#FFDC00\",\"borderpad\":4,\"borderwidth\":2,\"font\":{\"color\":\"#FFDC00\",\"size\":10},\"opacity\":0.8,\"showarrow\":false,\"text\":\"150% (4760.68)\",\"x\":\"2024-10-14T00:00:00+05:30\",\"xanchor\":\"left\",\"xshift\":10,\"y\":4760.675048828125},{\"bgcolor\":\"white\",\"bordercolor\":\"#2ECC40\",\"borderpad\":4,\"borderwidth\":2,\"font\":{\"color\":\"#2ECC40\",\"size\":10},\"opacity\":0.8,\"showarrow\":false,\"text\":\"138.2% (4711.84)\",\"x\":\"2024-10-14T00:00:00+05:30\",\"xanchor\":\"left\",\"xshift\":10,\"y\":4711.8407373046875},{\"bgcolor\":\"white\",\"bordercolor\":\"#0074D9\",\"borderpad\":4,\"borderwidth\":2,\"font\":{\"color\":\"#0074D9\",\"size\":10},\"opacity\":0.8,\"showarrow\":false,\"text\":\"123.6% (4651.42)\",\"x\":\"2024-10-14T00:00:00+05:30\",\"xanchor\":\"left\",\"xshift\":10,\"y\":4651.418623046875},{\"bgcolor\":\"white\",\"bordercolor\":\"#B10DC9\",\"borderpad\":4,\"borderwidth\":2,\"font\":{\"color\":\"#B10DC9\",\"size\":10},\"opacity\":0.8,\"showarrow\":false,\"text\":\"23.6% (4237.57)\",\"x\":\"2024-10-14T00:00:00+05:30\",\"xanchor\":\"left\",\"xshift\":10,\"y\":4237.568525390625},{\"bgcolor\":\"white\",\"bordercolor\":\"#F012BE\",\"borderpad\":4,\"borderwidth\":2,\"font\":{\"color\":\"#F012BE\",\"size\":10},\"opacity\":0.8,\"showarrow\":false,\"text\":\"38.2% (4297.99)\",\"x\":\"2024-10-14T00:00:00+05:30\",\"xanchor\":\"left\",\"xshift\":10,\"y\":4297.9906396484375},{\"bgcolor\":\"white\",\"bordercolor\":\"#85144b\",\"borderpad\":4,\"borderwidth\":2,\"font\":{\"color\":\"#85144b\",\"size\":10},\"opacity\":0.8,\"showarrow\":false,\"text\":\"50% (4346.82)\",\"x\":\"2024-10-14T00:00:00+05:30\",\"xanchor\":\"left\",\"xshift\":10,\"y\":4346.824951171875},{\"bgcolor\":\"white\",\"bordercolor\":\"#001f3f\",\"borderpad\":4,\"borderwidth\":2,\"font\":{\"color\":\"#001f3f\",\"size\":10},\"opacity\":0.8,\"showarrow\":false,\"text\":\"61.8% (4395.66)\",\"x\":\"2024-10-14T00:00:00+05:30\",\"xanchor\":\"left\",\"xshift\":10,\"y\":4395.6592626953125},{\"bgcolor\":\"white\",\"bordercolor\":\"#39CCCC\",\"borderpad\":4,\"borderwidth\":2,\"font\":{\"color\":\"#39CCCC\",\"size\":10},\"opacity\":0.8,\"showarrow\":false,\"text\":\"78.6% (4465.19)\",\"x\":\"2024-10-14T00:00:00+05:30\",\"xanchor\":\"left\",\"xshift\":10,\"y\":4465.186079101562}],\"title\":{\"text\":\"Fibonacci Retracement and Extension Levels\"},\"legend\":{\"title\":{\"text\":\"Levels\"}},\"hovermode\":\"x unified\",\"showlegend\":true},                        {\"responsive\": true}                    ).then(function(){\n",
       "                            \n",
       "var gd = document.getElementById('7a546e92-b7c0-42ed-92b7-640c20713fb5');\n",
       "var x = new MutationObserver(function (mutations, observer) {{\n",
       "        var display = window.getComputedStyle(gd).display;\n",
       "        if (!display || display === 'none') {{\n",
       "            console.log([gd, 'removed!']);\n",
       "            Plotly.purge(gd);\n",
       "            observer.disconnect();\n",
       "        }}\n",
       "}});\n",
       "\n",
       "// Listen for the removal of the full notebook cells\n",
       "var notebookContainer = gd.closest('#notebook-container');\n",
       "if (notebookContainer) {{\n",
       "    x.observe(notebookContainer, {childList: true});\n",
       "}}\n",
       "\n",
       "// Listen for the clearing of the current output cell\n",
       "var outputEl = gd.closest('.output');\n",
       "if (outputEl) {{\n",
       "    x.observe(outputEl, {childList: true});\n",
       "}}\n",
       "\n",
       "                        })                };                });            </script>        </div>"
      ]
     },
     "metadata": {},
     "output_type": "display_data"
    },
    {
     "name": "stdout",
     "output_type": "stream",
     "text": [
      "Overall, price is trending downwards. Recommendation: Buy in the future when the oppurtunity turns up.\n",
      "\n",
      "Although the stock has been falling recently, it remains in an overall uptrend. This could be a temporary pullback in a larger bullish move.\n"
     ]
    },
    {
     "data": {
      "application/vnd.plotly.v1+json": {
       "config": {
        "plotlyServerURL": "https://plot.ly"
       },
       "data": [
        {
         "close": [
          3739.971435546875,
          3757.422119140625,
          3729.914794921875,
          3639.7529296875,
          3615.154296875,
          3685.252685546875,
          3626.492431640625,
          3637.928955078125,
          3660.753173828125,
          3682.936279296875,
          3828.1123046875,
          3848.81640625,
          3806.9150390625,
          3829.886962890625,
          3847.63330078125,
          3905.52734375,
          3821.5341796875,
          3805.24072265625,
          3774.04052734375,
          3764.828857421875,
          3764.383056640625,
          3779.636474609375,
          3817.472900390625,
          3928.555908203125,
          3935.4892578125,
          4096.64111328125,
          4044.541259765625,
          4094.75927734375,
          4094.363037109375,
          4081.48681640625,
          4110.01220703125,
          4061.082763671875,
          4064.1533203125,
          4089.01416015625,
          4064.7470703125,
          3992.293212890625,
          3953.51611328125,
          4048.206298828125,
          4013.539306640625,
          3962.97509765625,
          4065.341552734375,
          4079.75341796875,
          4056.13037109375,
          4055.387451171875,
          4041.8671875,
          3973.920166015625,
          4025.623291015625,
          4069.501953125,
          4083.120849609375,
          4152.35595703125,
          4109.517578125,
          4167.5595703125,
          4179.09912109375,
          4112.98388671875,
          3939.451171875,
          3933.11181640625,
          3935.142578125,
          3873.68310546875,
          3840.600830078125,
          3804.34912109375,
          3839.412353515625,
          3879.4775390625,
          3846.841064453125,
          3909.73681640625,
          3965.203857421875,
          3941.3828125,
          3934.74658203125,
          3908.993896484375,
          3946.731201171875,
          3963.32177734375,
          3903.694580078125,
          3835.94580078125,
          3825.248291015625,
          3789.7890625,
          3827.82373046875,
          3837.82763671875,
          3794.593017578125,
          3815.541748046875,
          3784.985107421875,
          3833.370361328125,
          3784.291748046875,
          3826.5361328125,
          3806.825439453125,
          3883.736572265625,
          3941.085205078125,
          3939.1044921875,
          3922.513916015625,
          3856.8447265625,
          3910.23193359375,
          3864.0751953125,
          3843.47314453125,
          3891.91064453125,
          3825.2158203125,
          3811.347900390625,
          3823.12060546875,
          3884.427978515625,
          3840.580078125,
          3838.1357421875,
          3831.002197265625,
          3794.836181640625,
          3727.44287109375,
          3662.443603515625,
          3694.269775390625,
          3706.3916015625,
          3737.768798828125,
          3821.524169921875,
          3884.927001953125,
          3849.758544921875,
          3843.174072265625,
          3822.771240234375,
          3869.16357421875,
          3823.17041015625,
          3806.259765625,
          3792.890625,
          3778.47412109375,
          3801.919677734375,
          3807.955810546875,
          3829.555419921875,
          3846.915283203125,
          3925.03369140625,
          3895.103271484375,
          3968.981689453125,
          4008.0908203125,
          3956.061767578125,
          4011.632568359375,
          4002.50390625,
          3983.947021484375,
          3976.264892578125,
          3900.091552734375,
          3914.60791015625,
          4174.25537109375,
          4159.53955078125,
          4168.76806640625,
          4305.5498046875,
          4302.39990234375,
          4287.35009765625,
          4302.35009765625,
          4306.25,
          4322.5,
          4387.85009765625,
          4381.10009765625,
          4365.35009765625,
          4385.35009765625,
          4397.10009765625,
          4283.0498046875,
          4155.0498046875,
          4171.2001953125,
          4200.4501953125,
          4172.5498046875,
          4228.75,
          4195.64990234375,
          4196.9501953125,
          4295.25,
          4416.0498046875,
          4490,
          4523.2998046875,
          4551.5,
          4502,
          4463.89990234375,
          4502.4501953125,
          4497.14990234375,
          4506.0498046875,
          4511.7998046875,
          4553.75,
          4521.0498046875,
          4512.35009765625,
          4479.25,
          4475.9501953125,
          4456.75,
          4449.5498046875,
          4507.85009765625,
          4479.35009765625,
          4517.7001953125,
          4522.60009765625,
          4513.25,
          4505.64990234375,
          4346.14990234375,
          4296.14990234375,
          4284.89990234375,
          4268.5,
          4271.2998046875,
          4274.75,
          4292.5,
          4308.7001953125,
          4268.5,
          4287.89990234375,
          4232.75,
          4252.25,
          4272.85009765625,
          4253.25,
          4252.9501953125,
          4227.39990234375,
          4149.2001953125,
          4139.89990234375
         ],
         "decreasing": {
          "fillcolor": "#EF5350",
          "line": {
           "color": "#EF5350"
          }
         },
         "high": [
          3768.760358200051,
          3778.0276538529197,
          3757.4219768037956,
          3718.7248441217357,
          3666.619027774624,
          3694.964047485121,
          3687.0768809490733,
          3699.4995612708085,
          3676.7249549483445,
          3719.8587624722945,
          3850.246056938437,
          3909.1543777613024,
          3844.084000104958,
          3854.8797732314515,
          3853.7459277466546,
          3925.832262418397,
          3896.464183574408,
          3846.692324720608,
          3824.2580083832954,
          3783.648049290072,
          3811.1834137313344,
          3797.5147549307167,
          3867.739951388566,
          3946.483519727984,
          3983.725769613172,
          4110.4087417657765,
          4115.459993198453,
          4118.4317440324885,
          4144.927041146526,
          4120.0165397664,
          4130.317123345057,
          4075.7417305972126,
          4106.842785171097,
          4108.477554124632,
          4089.0139224890863,
          4059.002389890646,
          4024.682471498666,
          4055.9814513048295,
          4090.6978941644,
          4011.4592293612377,
          4084.7551316583254,
          4115.361020192887,
          4098.721175176134,
          4100.602940003189,
          4078.7131364345755,
          4025.326178706722,
          4033.2499677877104,
          4084.755307351802,
          4113.47908031118,
          4189.697391961681,
          4200.6420941981505,
          4184.793891030286,
          4198.661177772449,
          4214.26085298413,
          4019.383164259625,
          3979.763697642628,
          3970.255180590015,
          3900.5253139294314,
          3909.142258811089,
          3857.934391265475,
          3877.7440277250735,
          3895.870094803637,
          3872.6432160322925,
          3943.116072651766,
          3990.3124767407444,
          3963.916319815292,
          3994.274515045195,
          3977.634472314814,
          3952.228434659089,
          3975.1582521979135,
          4025.5240836045423,
          3891.3137497990347,
          3898.5440894452354,
          3815.8884073245895,
          3841.0961164546834,
          3857.9345067734894,
          3860.905859750914,
          3836.787577761648,
          3839.9073820183694,
          3840.8981349486708,
          3844.8104035833494,
          3834.2619548561634,
          3856.5479209634677,
          3902.45661945467,
          3950.0491312343847,
          3946.3846448299087,
          3933.211189472596,
          3935.786477944449,
          3917.363368480109,
          3908.2508677258716,
          3889.580212629941,
          3900.440881130529,
          3910.9166776295724,
          3835.841062594571,
          3832.3491716484436,
          3895.951263361674,
          3874.8006481231846,
          3899.2937477810938,
          3861.0325478454984,
          3839.981329492805,
          3785.607584481623,
          3741.1109892438144,
          3742.856878009533,
          3736.322085558967,
          3775.0323500492077,
          3831.0021566960613,
          3905.9282742114406,
          3896.849124040015,
          3870.9593925413797,
          3884.478019442302,
          3880.9862131979157,
          3879.9883967184924,
          3833.0973356413565,
          3824.9662729362276,
          3801.1214715599253,
          3868.8143572679837,
          3848.0626109268537,
          3838.7340527870797,
          3857.989416027046,
          3932.865598818638,
          3950.8239542283923,
          3992.4272353902197,
          4014.076917167793,
          4016.7708640767783,
          4037.9715401775425,
          4017.419215396864,
          4021.9089018183804,
          3997.665140424629,
          3994.0235328746767,
          3970.777499887223,
          4190.218296754846,
          4230.175302001915,
          4184.830370444098,
          4314.97810198992,
          4358.75,
          4319.9501953125,
          4361.7001953125,
          4339.10009765625,
          4343,
          4422.4501953125,
          4431,
          4398,
          4414,
          4419.2998046875,
          4398,
          4239,
          4258.25,
          4244.9501953125,
          4232,
          4253.64990234375,
          4239,
          4234,
          4306.2001953125,
          4427,
          4494.25,
          4565,
          4560,
          4560.9501953125,
          4506,
          4552.14990234375,
          4510,
          4562.5,
          4556,
          4592.25,
          4588,
          4555.89990234375,
          4487,
          4499,
          4518.9501953125,
          4490.25,
          4539.9501953125,
          4549.35009765625,
          4532.60009765625,
          4547,
          4546.0498046875,
          4535.7998046875,
          4497.0498046875,
          4422.2001953125,
          4330.7001953125,
          4309.39990234375,
          4291,
          4289.60009765625,
          4316.7998046875,
          4378,
          4298.75,
          4295.75,
          4279,
          4298,
          4297.25,
          4279.39990234375,
          4295,
          4293.85009765625,
          4241.9501953125,
          4165.39990234375
         ],
         "increasing": {
          "fillcolor": "#26A69A",
          "line": {
           "color": "#26A69A"
          }
         },
         "line": {
          "width": 1
         },
         "low": [
          3712.365803952217,
          3719.8586477001736,
          3714.1894936895596,
          3635.119175763962,
          3599.576786879579,
          3623.09091874779,
          3620.6753867320745,
          3630.8797566037197,
          3636.0559452569532,
          3654.7883468022255,
          3767.774331271115,
          3830.281149458426,
          3801.2460257255925,
          3758.8517119650646,
          3807.6050417108486,
          3877.7937963004815,
          3806.181680553137,
          3769.385257351801,
          3742.741142073714,
          3744.870705930693,
          3750.9619534924177,
          3760.322041192278,
          3768.840292692864,
          3835.153238357955,
          3924.395887821996,
          3952.030474369484,
          4035.1812366644144,
          4047.166481192701,
          4060.9835399249073,
          4066.480599824494,
          4042.6593138927697,
          4010.9641861890045,
          4044.1453541050396,
          4061.0828066164436,
          4016.4116561656488,
          3971.8398202687877,
          3942.719936518327,
          3933.2110368094354,
          4007.8933558025697,
          3944.8491964786344,
          3960.944658463056,
          4050.088234875723,
          4025.871042155472,
          4047.909250103813,
          4037.112816904528,
          3942.1255391862096,
          3920.7804857694573,
          3999.2765046177083,
          4050.088119285436,
          4081.833312831203,
          4092.580207214898,
          4047.1166482247936,
          4137.25117705957,
          4078.6637205498823,
          3928.8530438319654,
          3922.5136886709647,
          3910.4300555950786,
          3818.3151562209137,
          3834.608354887587,
          3792.9585574224916,
          3803.9529855627443,
          3851.050701520283,
          3836.1437909560855,
          3814.3531765340244,
          3897.801386255614,
          3922.8112405368474,
          3922.3159616177054,
          3887.698494744983,
          3880.715552223541,
          3907.9538296960773,
          3881.7554613326156,
          3826.0905350989224,
          3813.3624858648773,
          3764.729774027588,
          3775.7241866748977,
          3823.8619598462515,
          3788.055727758745,
          3774.7338627588956,
          3766.3639648898416,
          3782.8556874367832,
          3773.743192542683,
          3742.097388423175,
          3761.4614736841613,
          3816.3341009665814,
          3876.258093050593,
          3901.1195836236852,
          3872.8412499241126,
          3848.07909012638,
          3833.172246780789,
          3855.854131742814,
          3838.6198707597364,
          3834.5938167605036,
          3821.12522329624,
          3801.2215170909353,
          3808.704137286805,
          3816.6354821997656,
          3835.3921760915086,
          3832.4489988273085,
          3821.1252346894726,
          3791.19473675765,
          3706.8405747718416,
          3645.2835081756966,
          3687.4355509249963,
          3583.177775777044,
          3691.4264799769107,
          3732.8302648018225,
          3828.4083671393905,
          3832.997425283242,
          3832.099695580016,
          3818.5810211487506,
          3843.0742656139773,
          3819.129746114268,
          3786.256176675868,
          3784.160900562247,
          3771.2908537688922,
          3789.2491550638724,
          3782.514898807535,
          3784.1109205571775,
          3832.0995963418513,
          3809.2527972902963,
          3888.818064598937,
          3875.0000178585597,
          3973.3217205562814,
          3945.835518762117,
          3972.872738087464,
          3978.7590068920827,
          3968.8322240647144,
          3965.889088644944,
          3892.9582182677136,
          3886.5731699326393,
          3962.097966084302,
          4147.417314382299,
          4135.295514764112,
          4150.360440295507,
          4285.25,
          4265,
          4266.2998046875,
          4268.10009765625,
          4274.2001953125,
          4337.0498046875,
          4371,
          4327.2998046875,
          4345,
          4365.0498046875,
          4270,
          4110.5,
          4160.7998046875,
          4180.2998046875,
          4160,
          4205.5498046875,
          4186.35009765625,
          4183,
          4188.14990234375,
          4325.10009765625,
          4390.35009765625,
          4500,
          4492.5498046875,
          4497.2001953125,
          4455,
          4485,
          4486.7998046875,
          4457.2998046875,
          4460,
          4487.7998046875,
          4512,
          4495.89990234375,
          4436.7001953125,
          4454.14990234375,
          4440,
          4430.5,
          4440.4501953125,
          4471.25,
          4431.2998046875,
          4505,
          4494.4501953125,
          4466,
          4321,
          4281.7998046875,
          4227.5,
          4253,
          4240,
          4240,
          4260,
          4300.0498046875,
          4260.0498046875,
          4242.9501953125,
          4210,
          4224.0498046875,
          4229.39990234375,
          4203.9501953125,
          4246.7001953125,
          4198.60009765625,
          4112.4501953125,
          4122.2001953125
         ],
         "open": [
          3738.591250247944,
          3736.6192087950326,
          3757.4219768037956,
          3713.943058477094,
          3649.611988724043,
          3623.2387097612755,
          3685.2528412951237,
          3657.696605993597,
          3638.0277760298695,
          3671.5489084142127,
          3793.802401152066,
          3904.2248009923724,
          3844.084000104958,
          3765.2108179948846,
          3843.097993938086,
          3907.4587388696227,
          3862.8868789687685,
          3843.077155566661,
          3803.358703167138,
          3764.630809028834,
          3771.217297774562,
          3774.9316767257233,
          3783.647976593817,
          3838.1742622836614,
          3945.0969021305973,
          3958.9638611666237,
          4113.479025692702,
          4051.0788439376815,
          4097.185529003787,
          4090.6981223562343,
          4086.191266955978,
          4067.917005229841,
          4088.7171250907672,
          4074.1075721209286,
          4083.8138827369607,
          4043.2537950608976,
          3974.8115151190423,
          3933.2110368094354,
          4090.6978941644,
          3997.592456716532,
          3960.944658463056,
          4056.625524645009,
          4059.9931612487053,
          4068.1152647536496,
          4065.9359921629944,
          4023.345211099091,
          3956.0418052010164,
          4026.3167614900767,
          4050.088119285436,
          4083.1212320284535,
          4164.984674865178,
          4113.924971370959,
          4152.702822352979,
          4175.136743766698,
          4012.6973987695433,
          3948.068217721134,
          3952.079947889086,
          3859.9154769890793,
          3838.1246206454502,
          3851.49624658172,
          3813.4617266488494,
          3860.608773747697,
          3852.9820157033755,
          3814.3531765340244,
          3938.0644561257936,
          3940.1447077024563,
          3945.097089677606,
          3946.0874664995245,
          3918.7500336501,
          3933.21116657537,
          3963.3216545788086,
          3864.867880069765,
          3839.907499065012,
          3801.4768196889827,
          3800.486281288453,
          3840.1553704395033,
          3852.981989335827,
          3774.9319111607256,
          3818.463264122152,
          3801.476831273921,
          3835.1531867520393,
          3742.097388423175,
          3853.1305583104954,
          3816.3341009665814,
          3893.3935100124404,
          3923.306323972486,
          3924.2968352280095,
          3924.89115627307,
          3847.5342616589082,
          3898.544078516507,
          3867.343900240328,
          3882.0836151603608,
          3909.9189948036465,
          3821.723947972851,
          3826.1136539594613,
          3832.049632465308,
          3869.2634596670428,
          3846.067271893154,
          3849.06035389869,
          3839.981329492805,
          3768.248000890802,
          3731.3336491487116,
          3724.1503259045967,
          3691.4263595642665,
          3707.38940529573,
          3772.23873612607,
          3828.4083671393905,
          3885.974479025462,
          3836.090426843312,
          3865.4221803476817,
          3847.8631919185095,
          3879.9883967184924,
          3817.1843436214385,
          3818.7804447604135,
          3787.2038454477197,
          3818.132023011075,
          3799.924415184769,
          3808.1551729960984,
          3835.591486106807,
          3822.122807984323,
          3908.721788077606,
          3875.0000178585597,
          3984.346164313094,
          4010.6849014977774,
          3990.5816076215465,
          4000.7080284947974,
          4012.6803356560686,
          3975.7660511664353,
          3974.4688529029318,
          3921.8910432303196,
          3970.7777581975392,
          4225.885460588591,
          4162.332817214816,
          4150.360440295507,
          4317.39990234375,
          4299.9501953125,
          4283,
          4287.5,
          4295,
          4350,
          4415,
          4391.10009765625,
          4350,
          4399.39990234375,
          4365,
          4239,
          4170.9501953125,
          4228,
          4181,
          4217,
          4230,
          4213,
          4209,
          4350,
          4421,
          4505,
          4518,
          4560,
          4500,
          4489,
          4505,
          4498.75,
          4460,
          4500,
          4576,
          4521.0498046875,
          4476.9501953125,
          4481,
          4473.9501953125,
          4455,
          4442.4501953125,
          4521.4501953125,
          4510.25,
          4530,
          4527,
          4513.25,
          4497.0498046875,
          4390.0498046875,
          4316.89990234375,
          4300,
          4251.64990234375,
          4252.35009765625,
          4260,
          4335,
          4286.89990234375,
          4255.5498046875,
          4262.60009765625,
          4225,
          4273.89990234375,
          4272.60009765625,
          4260,
          4253.25,
          4143,
          4140
         ],
         "type": "candlestick",
         "x": [
          "2023-12-29T00:00:00+05:30",
          "2024-01-01T00:00:00+05:30",
          "2024-01-02T00:00:00+05:30",
          "2024-01-03T00:00:00+05:30",
          "2024-01-04T00:00:00+05:30",
          "2024-01-05T00:00:00+05:30",
          "2024-01-08T00:00:00+05:30",
          "2024-01-09T00:00:00+05:30",
          "2024-01-10T00:00:00+05:30",
          "2024-01-11T00:00:00+05:30",
          "2024-01-12T00:00:00+05:30",
          "2024-01-15T00:00:00+05:30",
          "2024-01-16T00:00:00+05:30",
          "2024-01-17T00:00:00+05:30",
          "2024-01-18T00:00:00+05:30",
          "2024-01-19T00:00:00+05:30",
          "2024-01-23T00:00:00+05:30",
          "2024-01-24T00:00:00+05:30",
          "2024-01-25T00:00:00+05:30",
          "2024-01-29T00:00:00+05:30",
          "2024-01-30T00:00:00+05:30",
          "2024-01-31T00:00:00+05:30",
          "2024-02-01T00:00:00+05:30",
          "2024-02-02T00:00:00+05:30",
          "2024-02-05T00:00:00+05:30",
          "2024-02-06T00:00:00+05:30",
          "2024-02-07T00:00:00+05:30",
          "2024-02-08T00:00:00+05:30",
          "2024-02-09T00:00:00+05:30",
          "2024-02-12T00:00:00+05:30",
          "2024-02-13T00:00:00+05:30",
          "2024-02-14T00:00:00+05:30",
          "2024-02-15T00:00:00+05:30",
          "2024-02-16T00:00:00+05:30",
          "2024-02-19T00:00:00+05:30",
          "2024-02-20T00:00:00+05:30",
          "2024-02-21T00:00:00+05:30",
          "2024-02-22T00:00:00+05:30",
          "2024-02-23T00:00:00+05:30",
          "2024-02-26T00:00:00+05:30",
          "2024-02-27T00:00:00+05:30",
          "2024-02-28T00:00:00+05:30",
          "2024-02-29T00:00:00+05:30",
          "2024-03-01T00:00:00+05:30",
          "2024-03-04T00:00:00+05:30",
          "2024-03-05T00:00:00+05:30",
          "2024-03-06T00:00:00+05:30",
          "2024-03-07T00:00:00+05:30",
          "2024-03-11T00:00:00+05:30",
          "2024-03-12T00:00:00+05:30",
          "2024-03-13T00:00:00+05:30",
          "2024-03-14T00:00:00+05:30",
          "2024-03-15T00:00:00+05:30",
          "2024-03-18T00:00:00+05:30",
          "2024-03-19T00:00:00+05:30",
          "2024-03-20T00:00:00+05:30",
          "2024-03-21T00:00:00+05:30",
          "2024-03-22T00:00:00+05:30",
          "2024-03-26T00:00:00+05:30",
          "2024-03-27T00:00:00+05:30",
          "2024-03-28T00:00:00+05:30",
          "2024-04-01T00:00:00+05:30",
          "2024-04-02T00:00:00+05:30",
          "2024-04-03T00:00:00+05:30",
          "2024-04-04T00:00:00+05:30",
          "2024-04-05T00:00:00+05:30",
          "2024-04-08T00:00:00+05:30",
          "2024-04-09T00:00:00+05:30",
          "2024-04-10T00:00:00+05:30",
          "2024-04-12T00:00:00+05:30",
          "2024-04-15T00:00:00+05:30",
          "2024-04-16T00:00:00+05:30",
          "2024-04-18T00:00:00+05:30",
          "2024-04-19T00:00:00+05:30",
          "2024-04-22T00:00:00+05:30",
          "2024-04-23T00:00:00+05:30",
          "2024-04-24T00:00:00+05:30",
          "2024-04-25T00:00:00+05:30",
          "2024-04-26T00:00:00+05:30",
          "2024-04-29T00:00:00+05:30",
          "2024-04-30T00:00:00+05:30",
          "2024-05-02T00:00:00+05:30",
          "2024-05-03T00:00:00+05:30",
          "2024-05-06T00:00:00+05:30",
          "2024-05-07T00:00:00+05:30",
          "2024-05-08T00:00:00+05:30",
          "2024-05-09T00:00:00+05:30",
          "2024-05-10T00:00:00+05:30",
          "2024-05-13T00:00:00+05:30",
          "2024-05-14T00:00:00+05:30",
          "2024-05-15T00:00:00+05:30",
          "2024-05-16T00:00:00+05:30",
          "2024-05-17T00:00:00+05:30",
          "2024-05-21T00:00:00+05:30",
          "2024-05-22T00:00:00+05:30",
          "2024-05-23T00:00:00+05:30",
          "2024-05-24T00:00:00+05:30",
          "2024-05-27T00:00:00+05:30",
          "2024-05-28T00:00:00+05:30",
          "2024-05-29T00:00:00+05:30",
          "2024-05-30T00:00:00+05:30",
          "2024-05-31T00:00:00+05:30",
          "2024-06-03T00:00:00+05:30",
          "2024-06-04T00:00:00+05:30",
          "2024-06-05T00:00:00+05:30",
          "2024-06-06T00:00:00+05:30",
          "2024-06-07T00:00:00+05:30",
          "2024-06-10T00:00:00+05:30",
          "2024-06-11T00:00:00+05:30",
          "2024-06-12T00:00:00+05:30",
          "2024-06-13T00:00:00+05:30",
          "2024-06-14T00:00:00+05:30",
          "2024-06-18T00:00:00+05:30",
          "2024-06-19T00:00:00+05:30",
          "2024-06-20T00:00:00+05:30",
          "2024-06-21T00:00:00+05:30",
          "2024-06-24T00:00:00+05:30",
          "2024-06-25T00:00:00+05:30",
          "2024-06-26T00:00:00+05:30",
          "2024-06-27T00:00:00+05:30",
          "2024-06-28T00:00:00+05:30",
          "2024-07-01T00:00:00+05:30",
          "2024-07-02T00:00:00+05:30",
          "2024-07-03T00:00:00+05:30",
          "2024-07-04T00:00:00+05:30",
          "2024-07-05T00:00:00+05:30",
          "2024-07-08T00:00:00+05:30",
          "2024-07-09T00:00:00+05:30",
          "2024-07-10T00:00:00+05:30",
          "2024-07-11T00:00:00+05:30",
          "2024-07-12T00:00:00+05:30",
          "2024-07-15T00:00:00+05:30",
          "2024-07-16T00:00:00+05:30",
          "2024-07-18T00:00:00+05:30",
          "2024-07-19T00:00:00+05:30",
          "2024-07-22T00:00:00+05:30",
          "2024-07-23T00:00:00+05:30",
          "2024-07-24T00:00:00+05:30",
          "2024-07-25T00:00:00+05:30",
          "2024-07-26T00:00:00+05:30",
          "2024-07-29T00:00:00+05:30",
          "2024-07-30T00:00:00+05:30",
          "2024-07-31T00:00:00+05:30",
          "2024-08-01T00:00:00+05:30",
          "2024-08-02T00:00:00+05:30",
          "2024-08-05T00:00:00+05:30",
          "2024-08-06T00:00:00+05:30",
          "2024-08-07T00:00:00+05:30",
          "2024-08-08T00:00:00+05:30",
          "2024-08-09T00:00:00+05:30",
          "2024-08-12T00:00:00+05:30",
          "2024-08-13T00:00:00+05:30",
          "2024-08-14T00:00:00+05:30",
          "2024-08-16T00:00:00+05:30",
          "2024-08-19T00:00:00+05:30",
          "2024-08-20T00:00:00+05:30",
          "2024-08-21T00:00:00+05:30",
          "2024-08-22T00:00:00+05:30",
          "2024-08-23T00:00:00+05:30",
          "2024-08-26T00:00:00+05:30",
          "2024-08-27T00:00:00+05:30",
          "2024-08-28T00:00:00+05:30",
          "2024-08-29T00:00:00+05:30",
          "2024-08-30T00:00:00+05:30",
          "2024-09-02T00:00:00+05:30",
          "2024-09-03T00:00:00+05:30",
          "2024-09-04T00:00:00+05:30",
          "2024-09-05T00:00:00+05:30",
          "2024-09-06T00:00:00+05:30",
          "2024-09-09T00:00:00+05:30",
          "2024-09-10T00:00:00+05:30",
          "2024-09-11T00:00:00+05:30",
          "2024-09-12T00:00:00+05:30",
          "2024-09-13T00:00:00+05:30",
          "2024-09-16T00:00:00+05:30",
          "2024-09-17T00:00:00+05:30",
          "2024-09-18T00:00:00+05:30",
          "2024-09-19T00:00:00+05:30",
          "2024-09-20T00:00:00+05:30",
          "2024-09-23T00:00:00+05:30",
          "2024-09-24T00:00:00+05:30",
          "2024-09-25T00:00:00+05:30",
          "2024-09-26T00:00:00+05:30",
          "2024-09-27T00:00:00+05:30",
          "2024-09-30T00:00:00+05:30",
          "2024-10-01T00:00:00+05:30",
          "2024-10-03T00:00:00+05:30",
          "2024-10-04T00:00:00+05:30",
          "2024-10-07T00:00:00+05:30",
          "2024-10-08T00:00:00+05:30",
          "2024-10-09T00:00:00+05:30",
          "2024-10-10T00:00:00+05:30",
          "2024-10-11T00:00:00+05:30",
          "2024-10-14T00:00:00+05:30"
         ]
        }
       ],
       "layout": {
        "hovermode": "x unified",
        "margin": {
         "b": 0,
         "l": 0,
         "r": 0,
         "t": 0
        },
        "plot_bgcolor": "white",
        "showlegend": false,
        "template": {
         "data": {
          "bar": [
           {
            "error_x": {
             "color": "#2a3f5f"
            },
            "error_y": {
             "color": "#2a3f5f"
            },
            "marker": {
             "line": {
              "color": "#E5ECF6",
              "width": 0.5
             },
             "pattern": {
              "fillmode": "overlay",
              "size": 10,
              "solidity": 0.2
             }
            },
            "type": "bar"
           }
          ],
          "barpolar": [
           {
            "marker": {
             "line": {
              "color": "#E5ECF6",
              "width": 0.5
             },
             "pattern": {
              "fillmode": "overlay",
              "size": 10,
              "solidity": 0.2
             }
            },
            "type": "barpolar"
           }
          ],
          "carpet": [
           {
            "aaxis": {
             "endlinecolor": "#2a3f5f",
             "gridcolor": "white",
             "linecolor": "white",
             "minorgridcolor": "white",
             "startlinecolor": "#2a3f5f"
            },
            "baxis": {
             "endlinecolor": "#2a3f5f",
             "gridcolor": "white",
             "linecolor": "white",
             "minorgridcolor": "white",
             "startlinecolor": "#2a3f5f"
            },
            "type": "carpet"
           }
          ],
          "choropleth": [
           {
            "colorbar": {
             "outlinewidth": 0,
             "ticks": ""
            },
            "type": "choropleth"
           }
          ],
          "contour": [
           {
            "colorbar": {
             "outlinewidth": 0,
             "ticks": ""
            },
            "colorscale": [
             [
              0,
              "#0d0887"
             ],
             [
              0.1111111111111111,
              "#46039f"
             ],
             [
              0.2222222222222222,
              "#7201a8"
             ],
             [
              0.3333333333333333,
              "#9c179e"
             ],
             [
              0.4444444444444444,
              "#bd3786"
             ],
             [
              0.5555555555555556,
              "#d8576b"
             ],
             [
              0.6666666666666666,
              "#ed7953"
             ],
             [
              0.7777777777777778,
              "#fb9f3a"
             ],
             [
              0.8888888888888888,
              "#fdca26"
             ],
             [
              1,
              "#f0f921"
             ]
            ],
            "type": "contour"
           }
          ],
          "contourcarpet": [
           {
            "colorbar": {
             "outlinewidth": 0,
             "ticks": ""
            },
            "type": "contourcarpet"
           }
          ],
          "heatmap": [
           {
            "colorbar": {
             "outlinewidth": 0,
             "ticks": ""
            },
            "colorscale": [
             [
              0,
              "#0d0887"
             ],
             [
              0.1111111111111111,
              "#46039f"
             ],
             [
              0.2222222222222222,
              "#7201a8"
             ],
             [
              0.3333333333333333,
              "#9c179e"
             ],
             [
              0.4444444444444444,
              "#bd3786"
             ],
             [
              0.5555555555555556,
              "#d8576b"
             ],
             [
              0.6666666666666666,
              "#ed7953"
             ],
             [
              0.7777777777777778,
              "#fb9f3a"
             ],
             [
              0.8888888888888888,
              "#fdca26"
             ],
             [
              1,
              "#f0f921"
             ]
            ],
            "type": "heatmap"
           }
          ],
          "heatmapgl": [
           {
            "colorbar": {
             "outlinewidth": 0,
             "ticks": ""
            },
            "colorscale": [
             [
              0,
              "#0d0887"
             ],
             [
              0.1111111111111111,
              "#46039f"
             ],
             [
              0.2222222222222222,
              "#7201a8"
             ],
             [
              0.3333333333333333,
              "#9c179e"
             ],
             [
              0.4444444444444444,
              "#bd3786"
             ],
             [
              0.5555555555555556,
              "#d8576b"
             ],
             [
              0.6666666666666666,
              "#ed7953"
             ],
             [
              0.7777777777777778,
              "#fb9f3a"
             ],
             [
              0.8888888888888888,
              "#fdca26"
             ],
             [
              1,
              "#f0f921"
             ]
            ],
            "type": "heatmapgl"
           }
          ],
          "histogram": [
           {
            "marker": {
             "pattern": {
              "fillmode": "overlay",
              "size": 10,
              "solidity": 0.2
             }
            },
            "type": "histogram"
           }
          ],
          "histogram2d": [
           {
            "colorbar": {
             "outlinewidth": 0,
             "ticks": ""
            },
            "colorscale": [
             [
              0,
              "#0d0887"
             ],
             [
              0.1111111111111111,
              "#46039f"
             ],
             [
              0.2222222222222222,
              "#7201a8"
             ],
             [
              0.3333333333333333,
              "#9c179e"
             ],
             [
              0.4444444444444444,
              "#bd3786"
             ],
             [
              0.5555555555555556,
              "#d8576b"
             ],
             [
              0.6666666666666666,
              "#ed7953"
             ],
             [
              0.7777777777777778,
              "#fb9f3a"
             ],
             [
              0.8888888888888888,
              "#fdca26"
             ],
             [
              1,
              "#f0f921"
             ]
            ],
            "type": "histogram2d"
           }
          ],
          "histogram2dcontour": [
           {
            "colorbar": {
             "outlinewidth": 0,
             "ticks": ""
            },
            "colorscale": [
             [
              0,
              "#0d0887"
             ],
             [
              0.1111111111111111,
              "#46039f"
             ],
             [
              0.2222222222222222,
              "#7201a8"
             ],
             [
              0.3333333333333333,
              "#9c179e"
             ],
             [
              0.4444444444444444,
              "#bd3786"
             ],
             [
              0.5555555555555556,
              "#d8576b"
             ],
             [
              0.6666666666666666,
              "#ed7953"
             ],
             [
              0.7777777777777778,
              "#fb9f3a"
             ],
             [
              0.8888888888888888,
              "#fdca26"
             ],
             [
              1,
              "#f0f921"
             ]
            ],
            "type": "histogram2dcontour"
           }
          ],
          "mesh3d": [
           {
            "colorbar": {
             "outlinewidth": 0,
             "ticks": ""
            },
            "type": "mesh3d"
           }
          ],
          "parcoords": [
           {
            "line": {
             "colorbar": {
              "outlinewidth": 0,
              "ticks": ""
             }
            },
            "type": "parcoords"
           }
          ],
          "pie": [
           {
            "automargin": true,
            "type": "pie"
           }
          ],
          "scatter": [
           {
            "fillpattern": {
             "fillmode": "overlay",
             "size": 10,
             "solidity": 0.2
            },
            "type": "scatter"
           }
          ],
          "scatter3d": [
           {
            "line": {
             "colorbar": {
              "outlinewidth": 0,
              "ticks": ""
             }
            },
            "marker": {
             "colorbar": {
              "outlinewidth": 0,
              "ticks": ""
             }
            },
            "type": "scatter3d"
           }
          ],
          "scattercarpet": [
           {
            "marker": {
             "colorbar": {
              "outlinewidth": 0,
              "ticks": ""
             }
            },
            "type": "scattercarpet"
           }
          ],
          "scattergeo": [
           {
            "marker": {
             "colorbar": {
              "outlinewidth": 0,
              "ticks": ""
             }
            },
            "type": "scattergeo"
           }
          ],
          "scattergl": [
           {
            "marker": {
             "colorbar": {
              "outlinewidth": 0,
              "ticks": ""
             }
            },
            "type": "scattergl"
           }
          ],
          "scattermapbox": [
           {
            "marker": {
             "colorbar": {
              "outlinewidth": 0,
              "ticks": ""
             }
            },
            "type": "scattermapbox"
           }
          ],
          "scatterpolar": [
           {
            "marker": {
             "colorbar": {
              "outlinewidth": 0,
              "ticks": ""
             }
            },
            "type": "scatterpolar"
           }
          ],
          "scatterpolargl": [
           {
            "marker": {
             "colorbar": {
              "outlinewidth": 0,
              "ticks": ""
             }
            },
            "type": "scatterpolargl"
           }
          ],
          "scatterternary": [
           {
            "marker": {
             "colorbar": {
              "outlinewidth": 0,
              "ticks": ""
             }
            },
            "type": "scatterternary"
           }
          ],
          "surface": [
           {
            "colorbar": {
             "outlinewidth": 0,
             "ticks": ""
            },
            "colorscale": [
             [
              0,
              "#0d0887"
             ],
             [
              0.1111111111111111,
              "#46039f"
             ],
             [
              0.2222222222222222,
              "#7201a8"
             ],
             [
              0.3333333333333333,
              "#9c179e"
             ],
             [
              0.4444444444444444,
              "#bd3786"
             ],
             [
              0.5555555555555556,
              "#d8576b"
             ],
             [
              0.6666666666666666,
              "#ed7953"
             ],
             [
              0.7777777777777778,
              "#fb9f3a"
             ],
             [
              0.8888888888888888,
              "#fdca26"
             ],
             [
              1,
              "#f0f921"
             ]
            ],
            "type": "surface"
           }
          ],
          "table": [
           {
            "cells": {
             "fill": {
              "color": "#EBF0F8"
             },
             "line": {
              "color": "white"
             }
            },
            "header": {
             "fill": {
              "color": "#C8D4E3"
             },
             "line": {
              "color": "white"
             }
            },
            "type": "table"
           }
          ]
         },
         "layout": {
          "annotationdefaults": {
           "arrowcolor": "#2a3f5f",
           "arrowhead": 0,
           "arrowwidth": 1
          },
          "autotypenumbers": "strict",
          "coloraxis": {
           "colorbar": {
            "outlinewidth": 0,
            "ticks": ""
           }
          },
          "colorscale": {
           "diverging": [
            [
             0,
             "#8e0152"
            ],
            [
             0.1,
             "#c51b7d"
            ],
            [
             0.2,
             "#de77ae"
            ],
            [
             0.3,
             "#f1b6da"
            ],
            [
             0.4,
             "#fde0ef"
            ],
            [
             0.5,
             "#f7f7f7"
            ],
            [
             0.6,
             "#e6f5d0"
            ],
            [
             0.7,
             "#b8e186"
            ],
            [
             0.8,
             "#7fbc41"
            ],
            [
             0.9,
             "#4d9221"
            ],
            [
             1,
             "#276419"
            ]
           ],
           "sequential": [
            [
             0,
             "#0d0887"
            ],
            [
             0.1111111111111111,
             "#46039f"
            ],
            [
             0.2222222222222222,
             "#7201a8"
            ],
            [
             0.3333333333333333,
             "#9c179e"
            ],
            [
             0.4444444444444444,
             "#bd3786"
            ],
            [
             0.5555555555555556,
             "#d8576b"
            ],
            [
             0.6666666666666666,
             "#ed7953"
            ],
            [
             0.7777777777777778,
             "#fb9f3a"
            ],
            [
             0.8888888888888888,
             "#fdca26"
            ],
            [
             1,
             "#f0f921"
            ]
           ],
           "sequentialminus": [
            [
             0,
             "#0d0887"
            ],
            [
             0.1111111111111111,
             "#46039f"
            ],
            [
             0.2222222222222222,
             "#7201a8"
            ],
            [
             0.3333333333333333,
             "#9c179e"
            ],
            [
             0.4444444444444444,
             "#bd3786"
            ],
            [
             0.5555555555555556,
             "#d8576b"
            ],
            [
             0.6666666666666666,
             "#ed7953"
            ],
            [
             0.7777777777777778,
             "#fb9f3a"
            ],
            [
             0.8888888888888888,
             "#fdca26"
            ],
            [
             1,
             "#f0f921"
            ]
           ]
          },
          "colorway": [
           "#636efa",
           "#EF553B",
           "#00cc96",
           "#ab63fa",
           "#FFA15A",
           "#19d3f3",
           "#FF6692",
           "#B6E880",
           "#FF97FF",
           "#FECB52"
          ],
          "font": {
           "color": "#2a3f5f"
          },
          "geo": {
           "bgcolor": "white",
           "lakecolor": "white",
           "landcolor": "#E5ECF6",
           "showlakes": true,
           "showland": true,
           "subunitcolor": "white"
          },
          "hoverlabel": {
           "align": "left"
          },
          "hovermode": "closest",
          "mapbox": {
           "style": "light"
          },
          "paper_bgcolor": "white",
          "plot_bgcolor": "#E5ECF6",
          "polar": {
           "angularaxis": {
            "gridcolor": "white",
            "linecolor": "white",
            "ticks": ""
           },
           "bgcolor": "#E5ECF6",
           "radialaxis": {
            "gridcolor": "white",
            "linecolor": "white",
            "ticks": ""
           }
          },
          "scene": {
           "xaxis": {
            "backgroundcolor": "#E5ECF6",
            "gridcolor": "white",
            "gridwidth": 2,
            "linecolor": "white",
            "showbackground": true,
            "ticks": "",
            "zerolinecolor": "white"
           },
           "yaxis": {
            "backgroundcolor": "#E5ECF6",
            "gridcolor": "white",
            "gridwidth": 2,
            "linecolor": "white",
            "showbackground": true,
            "ticks": "",
            "zerolinecolor": "white"
           },
           "zaxis": {
            "backgroundcolor": "#E5ECF6",
            "gridcolor": "white",
            "gridwidth": 2,
            "linecolor": "white",
            "showbackground": true,
            "ticks": "",
            "zerolinecolor": "white"
           }
          },
          "shapedefaults": {
           "line": {
            "color": "#2a3f5f"
           }
          },
          "ternary": {
           "aaxis": {
            "gridcolor": "white",
            "linecolor": "white",
            "ticks": ""
           },
           "baxis": {
            "gridcolor": "white",
            "linecolor": "white",
            "ticks": ""
           },
           "bgcolor": "#E5ECF6",
           "caxis": {
            "gridcolor": "white",
            "linecolor": "white",
            "ticks": ""
           }
          },
          "title": {
           "x": 0.05
          },
          "xaxis": {
           "automargin": true,
           "gridcolor": "white",
           "linecolor": "white",
           "ticks": "",
           "title": {
            "standoff": 15
           },
           "zerolinecolor": "white",
           "zerolinewidth": 2
          },
          "yaxis": {
           "automargin": true,
           "gridcolor": "white",
           "linecolor": "white",
           "ticks": "",
           "title": {
            "standoff": 15
           },
           "zerolinecolor": "white",
           "zerolinewidth": 2
          }
         }
        },
        "title": {
         "text": "Candle Chart"
        },
        "xaxis": {
         "gridcolor": "lightgrey",
         "gridwidth": 1,
         "rangebreaks": [
          {
           "bounds": [
            "sat",
            "mon"
           ]
          }
         ],
         "rangeslider": {
          "visible": false
         },
         "showgrid": true,
         "showticklabels": true,
         "title": {
          "text": "Date"
         },
         "zeroline": false
        },
        "yaxis": {
         "gridcolor": "lightgrey",
         "gridwidth": 1,
         "showgrid": true,
         "showticklabels": true,
         "title": {
          "text": "Price"
         },
         "zeroline": false
        }
       }
      },
      "text/html": [
       "<div>                            <div id=\"ebacdf78-b467-4ad8-a1a1-514e7698754f\" class=\"plotly-graph-div\" style=\"height:525px; width:100%;\"></div>            <script type=\"text/javascript\">                require([\"plotly\"], function(Plotly) {                    window.PLOTLYENV=window.PLOTLYENV || {};                                    if (document.getElementById(\"ebacdf78-b467-4ad8-a1a1-514e7698754f\")) {                    Plotly.newPlot(                        \"ebacdf78-b467-4ad8-a1a1-514e7698754f\",                        [{\"close\":[3739.971435546875,3757.422119140625,3729.914794921875,3639.7529296875,3615.154296875,3685.252685546875,3626.492431640625,3637.928955078125,3660.753173828125,3682.936279296875,3828.1123046875,3848.81640625,3806.9150390625,3829.886962890625,3847.63330078125,3905.52734375,3821.5341796875,3805.24072265625,3774.04052734375,3764.828857421875,3764.383056640625,3779.636474609375,3817.472900390625,3928.555908203125,3935.4892578125,4096.64111328125,4044.541259765625,4094.75927734375,4094.363037109375,4081.48681640625,4110.01220703125,4061.082763671875,4064.1533203125,4089.01416015625,4064.7470703125,3992.293212890625,3953.51611328125,4048.206298828125,4013.539306640625,3962.97509765625,4065.341552734375,4079.75341796875,4056.13037109375,4055.387451171875,4041.8671875,3973.920166015625,4025.623291015625,4069.501953125,4083.120849609375,4152.35595703125,4109.517578125,4167.5595703125,4179.09912109375,4112.98388671875,3939.451171875,3933.11181640625,3935.142578125,3873.68310546875,3840.600830078125,3804.34912109375,3839.412353515625,3879.4775390625,3846.841064453125,3909.73681640625,3965.203857421875,3941.3828125,3934.74658203125,3908.993896484375,3946.731201171875,3963.32177734375,3903.694580078125,3835.94580078125,3825.248291015625,3789.7890625,3827.82373046875,3837.82763671875,3794.593017578125,3815.541748046875,3784.985107421875,3833.370361328125,3784.291748046875,3826.5361328125,3806.825439453125,3883.736572265625,3941.085205078125,3939.1044921875,3922.513916015625,3856.8447265625,3910.23193359375,3864.0751953125,3843.47314453125,3891.91064453125,3825.2158203125,3811.347900390625,3823.12060546875,3884.427978515625,3840.580078125,3838.1357421875,3831.002197265625,3794.836181640625,3727.44287109375,3662.443603515625,3694.269775390625,3706.3916015625,3737.768798828125,3821.524169921875,3884.927001953125,3849.758544921875,3843.174072265625,3822.771240234375,3869.16357421875,3823.17041015625,3806.259765625,3792.890625,3778.47412109375,3801.919677734375,3807.955810546875,3829.555419921875,3846.915283203125,3925.03369140625,3895.103271484375,3968.981689453125,4008.0908203125,3956.061767578125,4011.632568359375,4002.50390625,3983.947021484375,3976.264892578125,3900.091552734375,3914.60791015625,4174.25537109375,4159.53955078125,4168.76806640625,4305.5498046875,4302.39990234375,4287.35009765625,4302.35009765625,4306.25,4322.5,4387.85009765625,4381.10009765625,4365.35009765625,4385.35009765625,4397.10009765625,4283.0498046875,4155.0498046875,4171.2001953125,4200.4501953125,4172.5498046875,4228.75,4195.64990234375,4196.9501953125,4295.25,4416.0498046875,4490.0,4523.2998046875,4551.5,4502.0,4463.89990234375,4502.4501953125,4497.14990234375,4506.0498046875,4511.7998046875,4553.75,4521.0498046875,4512.35009765625,4479.25,4475.9501953125,4456.75,4449.5498046875,4507.85009765625,4479.35009765625,4517.7001953125,4522.60009765625,4513.25,4505.64990234375,4346.14990234375,4296.14990234375,4284.89990234375,4268.5,4271.2998046875,4274.75,4292.5,4308.7001953125,4268.5,4287.89990234375,4232.75,4252.25,4272.85009765625,4253.25,4252.9501953125,4227.39990234375,4149.2001953125,4139.89990234375],\"decreasing\":{\"fillcolor\":\"#EF5350\",\"line\":{\"color\":\"#EF5350\"}},\"high\":[3768.760358200051,3778.0276538529197,3757.4219768037956,3718.7248441217357,3666.619027774624,3694.964047485121,3687.0768809490733,3699.4995612708085,3676.7249549483445,3719.8587624722945,3850.246056938437,3909.1543777613024,3844.084000104958,3854.8797732314515,3853.7459277466546,3925.832262418397,3896.464183574408,3846.692324720608,3824.2580083832954,3783.648049290072,3811.1834137313344,3797.5147549307167,3867.739951388566,3946.483519727984,3983.725769613172,4110.4087417657765,4115.459993198453,4118.4317440324885,4144.927041146526,4120.0165397664,4130.317123345057,4075.7417305972126,4106.842785171097,4108.477554124632,4089.0139224890863,4059.002389890646,4024.682471498666,4055.9814513048295,4090.6978941644,4011.4592293612377,4084.7551316583254,4115.361020192887,4098.721175176134,4100.602940003189,4078.7131364345755,4025.326178706722,4033.2499677877104,4084.755307351802,4113.47908031118,4189.697391961681,4200.6420941981505,4184.793891030286,4198.661177772449,4214.26085298413,4019.383164259625,3979.763697642628,3970.255180590015,3900.5253139294314,3909.142258811089,3857.934391265475,3877.7440277250735,3895.870094803637,3872.6432160322925,3943.116072651766,3990.3124767407444,3963.916319815292,3994.274515045195,3977.634472314814,3952.228434659089,3975.1582521979135,4025.5240836045423,3891.3137497990347,3898.5440894452354,3815.8884073245895,3841.0961164546834,3857.9345067734894,3860.905859750914,3836.787577761648,3839.9073820183694,3840.8981349486708,3844.8104035833494,3834.2619548561634,3856.5479209634677,3902.45661945467,3950.0491312343847,3946.3846448299087,3933.211189472596,3935.786477944449,3917.363368480109,3908.2508677258716,3889.580212629941,3900.440881130529,3910.9166776295724,3835.841062594571,3832.3491716484436,3895.951263361674,3874.8006481231846,3899.2937477810938,3861.0325478454984,3839.981329492805,3785.607584481623,3741.1109892438144,3742.856878009533,3736.322085558967,3775.0323500492077,3831.0021566960613,3905.9282742114406,3896.849124040015,3870.9593925413797,3884.478019442302,3880.9862131979157,3879.9883967184924,3833.0973356413565,3824.9662729362276,3801.1214715599253,3868.8143572679837,3848.0626109268537,3838.7340527870797,3857.989416027046,3932.865598818638,3950.8239542283923,3992.4272353902197,4014.076917167793,4016.7708640767783,4037.9715401775425,4017.419215396864,4021.9089018183804,3997.665140424629,3994.0235328746767,3970.777499887223,4190.218296754846,4230.175302001915,4184.830370444098,4314.97810198992,4358.75,4319.9501953125,4361.7001953125,4339.10009765625,4343.0,4422.4501953125,4431.0,4398.0,4414.0,4419.2998046875,4398.0,4239.0,4258.25,4244.9501953125,4232.0,4253.64990234375,4239.0,4234.0,4306.2001953125,4427.0,4494.25,4565.0,4560.0,4560.9501953125,4506.0,4552.14990234375,4510.0,4562.5,4556.0,4592.25,4588.0,4555.89990234375,4487.0,4499.0,4518.9501953125,4490.25,4539.9501953125,4549.35009765625,4532.60009765625,4547.0,4546.0498046875,4535.7998046875,4497.0498046875,4422.2001953125,4330.7001953125,4309.39990234375,4291.0,4289.60009765625,4316.7998046875,4378.0,4298.75,4295.75,4279.0,4298.0,4297.25,4279.39990234375,4295.0,4293.85009765625,4241.9501953125,4165.39990234375],\"increasing\":{\"fillcolor\":\"#26A69A\",\"line\":{\"color\":\"#26A69A\"}},\"line\":{\"width\":1},\"low\":[3712.365803952217,3719.8586477001736,3714.1894936895596,3635.119175763962,3599.576786879579,3623.09091874779,3620.6753867320745,3630.8797566037197,3636.0559452569532,3654.7883468022255,3767.774331271115,3830.281149458426,3801.2460257255925,3758.8517119650646,3807.6050417108486,3877.7937963004815,3806.181680553137,3769.385257351801,3742.741142073714,3744.870705930693,3750.9619534924177,3760.322041192278,3768.840292692864,3835.153238357955,3924.395887821996,3952.030474369484,4035.1812366644144,4047.166481192701,4060.9835399249073,4066.480599824494,4042.6593138927697,4010.9641861890045,4044.1453541050396,4061.0828066164436,4016.4116561656488,3971.8398202687877,3942.719936518327,3933.2110368094354,4007.8933558025697,3944.8491964786344,3960.944658463056,4050.088234875723,4025.871042155472,4047.909250103813,4037.112816904528,3942.1255391862096,3920.7804857694573,3999.2765046177083,4050.088119285436,4081.833312831203,4092.580207214898,4047.1166482247936,4137.25117705957,4078.6637205498823,3928.8530438319654,3922.5136886709647,3910.4300555950786,3818.3151562209137,3834.608354887587,3792.9585574224916,3803.9529855627443,3851.050701520283,3836.1437909560855,3814.3531765340244,3897.801386255614,3922.8112405368474,3922.3159616177054,3887.698494744983,3880.715552223541,3907.9538296960773,3881.7554613326156,3826.0905350989224,3813.3624858648773,3764.729774027588,3775.7241866748977,3823.8619598462515,3788.055727758745,3774.7338627588956,3766.3639648898416,3782.8556874367832,3773.743192542683,3742.097388423175,3761.4614736841613,3816.3341009665814,3876.258093050593,3901.1195836236852,3872.8412499241126,3848.07909012638,3833.172246780789,3855.854131742814,3838.6198707597364,3834.5938167605036,3821.12522329624,3801.2215170909353,3808.704137286805,3816.6354821997656,3835.3921760915086,3832.4489988273085,3821.1252346894726,3791.19473675765,3706.8405747718416,3645.2835081756966,3687.4355509249963,3583.177775777044,3691.4264799769107,3732.8302648018225,3828.4083671393905,3832.997425283242,3832.099695580016,3818.5810211487506,3843.0742656139773,3819.129746114268,3786.256176675868,3784.160900562247,3771.2908537688922,3789.2491550638724,3782.514898807535,3784.1109205571775,3832.0995963418513,3809.2527972902963,3888.818064598937,3875.0000178585597,3973.3217205562814,3945.835518762117,3972.872738087464,3978.7590068920827,3968.8322240647144,3965.889088644944,3892.9582182677136,3886.5731699326393,3962.097966084302,4147.417314382299,4135.295514764112,4150.360440295507,4285.25,4265.0,4266.2998046875,4268.10009765625,4274.2001953125,4337.0498046875,4371.0,4327.2998046875,4345.0,4365.0498046875,4270.0,4110.5,4160.7998046875,4180.2998046875,4160.0,4205.5498046875,4186.35009765625,4183.0,4188.14990234375,4325.10009765625,4390.35009765625,4500.0,4492.5498046875,4497.2001953125,4455.0,4485.0,4486.7998046875,4457.2998046875,4460.0,4487.7998046875,4512.0,4495.89990234375,4436.7001953125,4454.14990234375,4440.0,4430.5,4440.4501953125,4471.25,4431.2998046875,4505.0,4494.4501953125,4466.0,4321.0,4281.7998046875,4227.5,4253.0,4240.0,4240.0,4260.0,4300.0498046875,4260.0498046875,4242.9501953125,4210.0,4224.0498046875,4229.39990234375,4203.9501953125,4246.7001953125,4198.60009765625,4112.4501953125,4122.2001953125],\"open\":[3738.591250247944,3736.6192087950326,3757.4219768037956,3713.943058477094,3649.611988724043,3623.2387097612755,3685.2528412951237,3657.696605993597,3638.0277760298695,3671.5489084142127,3793.802401152066,3904.2248009923724,3844.084000104958,3765.2108179948846,3843.097993938086,3907.4587388696227,3862.8868789687685,3843.077155566661,3803.358703167138,3764.630809028834,3771.217297774562,3774.9316767257233,3783.647976593817,3838.1742622836614,3945.0969021305973,3958.9638611666237,4113.479025692702,4051.0788439376815,4097.185529003787,4090.6981223562343,4086.191266955978,4067.917005229841,4088.7171250907672,4074.1075721209286,4083.8138827369607,4043.2537950608976,3974.8115151190423,3933.2110368094354,4090.6978941644,3997.592456716532,3960.944658463056,4056.625524645009,4059.9931612487053,4068.1152647536496,4065.9359921629944,4023.345211099091,3956.0418052010164,4026.3167614900767,4050.088119285436,4083.1212320284535,4164.984674865178,4113.924971370959,4152.702822352979,4175.136743766698,4012.6973987695433,3948.068217721134,3952.079947889086,3859.9154769890793,3838.1246206454502,3851.49624658172,3813.4617266488494,3860.608773747697,3852.9820157033755,3814.3531765340244,3938.0644561257936,3940.1447077024563,3945.097089677606,3946.0874664995245,3918.7500336501,3933.21116657537,3963.3216545788086,3864.867880069765,3839.907499065012,3801.4768196889827,3800.486281288453,3840.1553704395033,3852.981989335827,3774.9319111607256,3818.463264122152,3801.476831273921,3835.1531867520393,3742.097388423175,3853.1305583104954,3816.3341009665814,3893.3935100124404,3923.306323972486,3924.2968352280095,3924.89115627307,3847.5342616589082,3898.544078516507,3867.343900240328,3882.0836151603608,3909.9189948036465,3821.723947972851,3826.1136539594613,3832.049632465308,3869.2634596670428,3846.067271893154,3849.06035389869,3839.981329492805,3768.248000890802,3731.3336491487116,3724.1503259045967,3691.4263595642665,3707.38940529573,3772.23873612607,3828.4083671393905,3885.974479025462,3836.090426843312,3865.4221803476817,3847.8631919185095,3879.9883967184924,3817.1843436214385,3818.7804447604135,3787.2038454477197,3818.132023011075,3799.924415184769,3808.1551729960984,3835.591486106807,3822.122807984323,3908.721788077606,3875.0000178585597,3984.346164313094,4010.6849014977774,3990.5816076215465,4000.7080284947974,4012.6803356560686,3975.7660511664353,3974.4688529029318,3921.8910432303196,3970.7777581975392,4225.885460588591,4162.332817214816,4150.360440295507,4317.39990234375,4299.9501953125,4283.0,4287.5,4295.0,4350.0,4415.0,4391.10009765625,4350.0,4399.39990234375,4365.0,4239.0,4170.9501953125,4228.0,4181.0,4217.0,4230.0,4213.0,4209.0,4350.0,4421.0,4505.0,4518.0,4560.0,4500.0,4489.0,4505.0,4498.75,4460.0,4500.0,4576.0,4521.0498046875,4476.9501953125,4481.0,4473.9501953125,4455.0,4442.4501953125,4521.4501953125,4510.25,4530.0,4527.0,4513.25,4497.0498046875,4390.0498046875,4316.89990234375,4300.0,4251.64990234375,4252.35009765625,4260.0,4335.0,4286.89990234375,4255.5498046875,4262.60009765625,4225.0,4273.89990234375,4272.60009765625,4260.0,4253.25,4143.0,4140.0],\"x\":[\"2023-12-29T00:00:00+05:30\",\"2024-01-01T00:00:00+05:30\",\"2024-01-02T00:00:00+05:30\",\"2024-01-03T00:00:00+05:30\",\"2024-01-04T00:00:00+05:30\",\"2024-01-05T00:00:00+05:30\",\"2024-01-08T00:00:00+05:30\",\"2024-01-09T00:00:00+05:30\",\"2024-01-10T00:00:00+05:30\",\"2024-01-11T00:00:00+05:30\",\"2024-01-12T00:00:00+05:30\",\"2024-01-15T00:00:00+05:30\",\"2024-01-16T00:00:00+05:30\",\"2024-01-17T00:00:00+05:30\",\"2024-01-18T00:00:00+05:30\",\"2024-01-19T00:00:00+05:30\",\"2024-01-23T00:00:00+05:30\",\"2024-01-24T00:00:00+05:30\",\"2024-01-25T00:00:00+05:30\",\"2024-01-29T00:00:00+05:30\",\"2024-01-30T00:00:00+05:30\",\"2024-01-31T00:00:00+05:30\",\"2024-02-01T00:00:00+05:30\",\"2024-02-02T00:00:00+05:30\",\"2024-02-05T00:00:00+05:30\",\"2024-02-06T00:00:00+05:30\",\"2024-02-07T00:00:00+05:30\",\"2024-02-08T00:00:00+05:30\",\"2024-02-09T00:00:00+05:30\",\"2024-02-12T00:00:00+05:30\",\"2024-02-13T00:00:00+05:30\",\"2024-02-14T00:00:00+05:30\",\"2024-02-15T00:00:00+05:30\",\"2024-02-16T00:00:00+05:30\",\"2024-02-19T00:00:00+05:30\",\"2024-02-20T00:00:00+05:30\",\"2024-02-21T00:00:00+05:30\",\"2024-02-22T00:00:00+05:30\",\"2024-02-23T00:00:00+05:30\",\"2024-02-26T00:00:00+05:30\",\"2024-02-27T00:00:00+05:30\",\"2024-02-28T00:00:00+05:30\",\"2024-02-29T00:00:00+05:30\",\"2024-03-01T00:00:00+05:30\",\"2024-03-04T00:00:00+05:30\",\"2024-03-05T00:00:00+05:30\",\"2024-03-06T00:00:00+05:30\",\"2024-03-07T00:00:00+05:30\",\"2024-03-11T00:00:00+05:30\",\"2024-03-12T00:00:00+05:30\",\"2024-03-13T00:00:00+05:30\",\"2024-03-14T00:00:00+05:30\",\"2024-03-15T00:00:00+05:30\",\"2024-03-18T00:00:00+05:30\",\"2024-03-19T00:00:00+05:30\",\"2024-03-20T00:00:00+05:30\",\"2024-03-21T00:00:00+05:30\",\"2024-03-22T00:00:00+05:30\",\"2024-03-26T00:00:00+05:30\",\"2024-03-27T00:00:00+05:30\",\"2024-03-28T00:00:00+05:30\",\"2024-04-01T00:00:00+05:30\",\"2024-04-02T00:00:00+05:30\",\"2024-04-03T00:00:00+05:30\",\"2024-04-04T00:00:00+05:30\",\"2024-04-05T00:00:00+05:30\",\"2024-04-08T00:00:00+05:30\",\"2024-04-09T00:00:00+05:30\",\"2024-04-10T00:00:00+05:30\",\"2024-04-12T00:00:00+05:30\",\"2024-04-15T00:00:00+05:30\",\"2024-04-16T00:00:00+05:30\",\"2024-04-18T00:00:00+05:30\",\"2024-04-19T00:00:00+05:30\",\"2024-04-22T00:00:00+05:30\",\"2024-04-23T00:00:00+05:30\",\"2024-04-24T00:00:00+05:30\",\"2024-04-25T00:00:00+05:30\",\"2024-04-26T00:00:00+05:30\",\"2024-04-29T00:00:00+05:30\",\"2024-04-30T00:00:00+05:30\",\"2024-05-02T00:00:00+05:30\",\"2024-05-03T00:00:00+05:30\",\"2024-05-06T00:00:00+05:30\",\"2024-05-07T00:00:00+05:30\",\"2024-05-08T00:00:00+05:30\",\"2024-05-09T00:00:00+05:30\",\"2024-05-10T00:00:00+05:30\",\"2024-05-13T00:00:00+05:30\",\"2024-05-14T00:00:00+05:30\",\"2024-05-15T00:00:00+05:30\",\"2024-05-16T00:00:00+05:30\",\"2024-05-17T00:00:00+05:30\",\"2024-05-21T00:00:00+05:30\",\"2024-05-22T00:00:00+05:30\",\"2024-05-23T00:00:00+05:30\",\"2024-05-24T00:00:00+05:30\",\"2024-05-27T00:00:00+05:30\",\"2024-05-28T00:00:00+05:30\",\"2024-05-29T00:00:00+05:30\",\"2024-05-30T00:00:00+05:30\",\"2024-05-31T00:00:00+05:30\",\"2024-06-03T00:00:00+05:30\",\"2024-06-04T00:00:00+05:30\",\"2024-06-05T00:00:00+05:30\",\"2024-06-06T00:00:00+05:30\",\"2024-06-07T00:00:00+05:30\",\"2024-06-10T00:00:00+05:30\",\"2024-06-11T00:00:00+05:30\",\"2024-06-12T00:00:00+05:30\",\"2024-06-13T00:00:00+05:30\",\"2024-06-14T00:00:00+05:30\",\"2024-06-18T00:00:00+05:30\",\"2024-06-19T00:00:00+05:30\",\"2024-06-20T00:00:00+05:30\",\"2024-06-21T00:00:00+05:30\",\"2024-06-24T00:00:00+05:30\",\"2024-06-25T00:00:00+05:30\",\"2024-06-26T00:00:00+05:30\",\"2024-06-27T00:00:00+05:30\",\"2024-06-28T00:00:00+05:30\",\"2024-07-01T00:00:00+05:30\",\"2024-07-02T00:00:00+05:30\",\"2024-07-03T00:00:00+05:30\",\"2024-07-04T00:00:00+05:30\",\"2024-07-05T00:00:00+05:30\",\"2024-07-08T00:00:00+05:30\",\"2024-07-09T00:00:00+05:30\",\"2024-07-10T00:00:00+05:30\",\"2024-07-11T00:00:00+05:30\",\"2024-07-12T00:00:00+05:30\",\"2024-07-15T00:00:00+05:30\",\"2024-07-16T00:00:00+05:30\",\"2024-07-18T00:00:00+05:30\",\"2024-07-19T00:00:00+05:30\",\"2024-07-22T00:00:00+05:30\",\"2024-07-23T00:00:00+05:30\",\"2024-07-24T00:00:00+05:30\",\"2024-07-25T00:00:00+05:30\",\"2024-07-26T00:00:00+05:30\",\"2024-07-29T00:00:00+05:30\",\"2024-07-30T00:00:00+05:30\",\"2024-07-31T00:00:00+05:30\",\"2024-08-01T00:00:00+05:30\",\"2024-08-02T00:00:00+05:30\",\"2024-08-05T00:00:00+05:30\",\"2024-08-06T00:00:00+05:30\",\"2024-08-07T00:00:00+05:30\",\"2024-08-08T00:00:00+05:30\",\"2024-08-09T00:00:00+05:30\",\"2024-08-12T00:00:00+05:30\",\"2024-08-13T00:00:00+05:30\",\"2024-08-14T00:00:00+05:30\",\"2024-08-16T00:00:00+05:30\",\"2024-08-19T00:00:00+05:30\",\"2024-08-20T00:00:00+05:30\",\"2024-08-21T00:00:00+05:30\",\"2024-08-22T00:00:00+05:30\",\"2024-08-23T00:00:00+05:30\",\"2024-08-26T00:00:00+05:30\",\"2024-08-27T00:00:00+05:30\",\"2024-08-28T00:00:00+05:30\",\"2024-08-29T00:00:00+05:30\",\"2024-08-30T00:00:00+05:30\",\"2024-09-02T00:00:00+05:30\",\"2024-09-03T00:00:00+05:30\",\"2024-09-04T00:00:00+05:30\",\"2024-09-05T00:00:00+05:30\",\"2024-09-06T00:00:00+05:30\",\"2024-09-09T00:00:00+05:30\",\"2024-09-10T00:00:00+05:30\",\"2024-09-11T00:00:00+05:30\",\"2024-09-12T00:00:00+05:30\",\"2024-09-13T00:00:00+05:30\",\"2024-09-16T00:00:00+05:30\",\"2024-09-17T00:00:00+05:30\",\"2024-09-18T00:00:00+05:30\",\"2024-09-19T00:00:00+05:30\",\"2024-09-20T00:00:00+05:30\",\"2024-09-23T00:00:00+05:30\",\"2024-09-24T00:00:00+05:30\",\"2024-09-25T00:00:00+05:30\",\"2024-09-26T00:00:00+05:30\",\"2024-09-27T00:00:00+05:30\",\"2024-09-30T00:00:00+05:30\",\"2024-10-01T00:00:00+05:30\",\"2024-10-03T00:00:00+05:30\",\"2024-10-04T00:00:00+05:30\",\"2024-10-07T00:00:00+05:30\",\"2024-10-08T00:00:00+05:30\",\"2024-10-09T00:00:00+05:30\",\"2024-10-10T00:00:00+05:30\",\"2024-10-11T00:00:00+05:30\",\"2024-10-14T00:00:00+05:30\"],\"type\":\"candlestick\"}],                        {\"template\":{\"data\":{\"histogram2dcontour\":[{\"type\":\"histogram2dcontour\",\"colorbar\":{\"outlinewidth\":0,\"ticks\":\"\"},\"colorscale\":[[0.0,\"#0d0887\"],[0.1111111111111111,\"#46039f\"],[0.2222222222222222,\"#7201a8\"],[0.3333333333333333,\"#9c179e\"],[0.4444444444444444,\"#bd3786\"],[0.5555555555555556,\"#d8576b\"],[0.6666666666666666,\"#ed7953\"],[0.7777777777777778,\"#fb9f3a\"],[0.8888888888888888,\"#fdca26\"],[1.0,\"#f0f921\"]]}],\"choropleth\":[{\"type\":\"choropleth\",\"colorbar\":{\"outlinewidth\":0,\"ticks\":\"\"}}],\"histogram2d\":[{\"type\":\"histogram2d\",\"colorbar\":{\"outlinewidth\":0,\"ticks\":\"\"},\"colorscale\":[[0.0,\"#0d0887\"],[0.1111111111111111,\"#46039f\"],[0.2222222222222222,\"#7201a8\"],[0.3333333333333333,\"#9c179e\"],[0.4444444444444444,\"#bd3786\"],[0.5555555555555556,\"#d8576b\"],[0.6666666666666666,\"#ed7953\"],[0.7777777777777778,\"#fb9f3a\"],[0.8888888888888888,\"#fdca26\"],[1.0,\"#f0f921\"]]}],\"heatmap\":[{\"type\":\"heatmap\",\"colorbar\":{\"outlinewidth\":0,\"ticks\":\"\"},\"colorscale\":[[0.0,\"#0d0887\"],[0.1111111111111111,\"#46039f\"],[0.2222222222222222,\"#7201a8\"],[0.3333333333333333,\"#9c179e\"],[0.4444444444444444,\"#bd3786\"],[0.5555555555555556,\"#d8576b\"],[0.6666666666666666,\"#ed7953\"],[0.7777777777777778,\"#fb9f3a\"],[0.8888888888888888,\"#fdca26\"],[1.0,\"#f0f921\"]]}],\"heatmapgl\":[{\"type\":\"heatmapgl\",\"colorbar\":{\"outlinewidth\":0,\"ticks\":\"\"},\"colorscale\":[[0.0,\"#0d0887\"],[0.1111111111111111,\"#46039f\"],[0.2222222222222222,\"#7201a8\"],[0.3333333333333333,\"#9c179e\"],[0.4444444444444444,\"#bd3786\"],[0.5555555555555556,\"#d8576b\"],[0.6666666666666666,\"#ed7953\"],[0.7777777777777778,\"#fb9f3a\"],[0.8888888888888888,\"#fdca26\"],[1.0,\"#f0f921\"]]}],\"contourcarpet\":[{\"type\":\"contourcarpet\",\"colorbar\":{\"outlinewidth\":0,\"ticks\":\"\"}}],\"contour\":[{\"type\":\"contour\",\"colorbar\":{\"outlinewidth\":0,\"ticks\":\"\"},\"colorscale\":[[0.0,\"#0d0887\"],[0.1111111111111111,\"#46039f\"],[0.2222222222222222,\"#7201a8\"],[0.3333333333333333,\"#9c179e\"],[0.4444444444444444,\"#bd3786\"],[0.5555555555555556,\"#d8576b\"],[0.6666666666666666,\"#ed7953\"],[0.7777777777777778,\"#fb9f3a\"],[0.8888888888888888,\"#fdca26\"],[1.0,\"#f0f921\"]]}],\"surface\":[{\"type\":\"surface\",\"colorbar\":{\"outlinewidth\":0,\"ticks\":\"\"},\"colorscale\":[[0.0,\"#0d0887\"],[0.1111111111111111,\"#46039f\"],[0.2222222222222222,\"#7201a8\"],[0.3333333333333333,\"#9c179e\"],[0.4444444444444444,\"#bd3786\"],[0.5555555555555556,\"#d8576b\"],[0.6666666666666666,\"#ed7953\"],[0.7777777777777778,\"#fb9f3a\"],[0.8888888888888888,\"#fdca26\"],[1.0,\"#f0f921\"]]}],\"mesh3d\":[{\"type\":\"mesh3d\",\"colorbar\":{\"outlinewidth\":0,\"ticks\":\"\"}}],\"scatter\":[{\"fillpattern\":{\"fillmode\":\"overlay\",\"size\":10,\"solidity\":0.2},\"type\":\"scatter\"}],\"parcoords\":[{\"type\":\"parcoords\",\"line\":{\"colorbar\":{\"outlinewidth\":0,\"ticks\":\"\"}}}],\"scatterpolargl\":[{\"type\":\"scatterpolargl\",\"marker\":{\"colorbar\":{\"outlinewidth\":0,\"ticks\":\"\"}}}],\"bar\":[{\"error_x\":{\"color\":\"#2a3f5f\"},\"error_y\":{\"color\":\"#2a3f5f\"},\"marker\":{\"line\":{\"color\":\"#E5ECF6\",\"width\":0.5},\"pattern\":{\"fillmode\":\"overlay\",\"size\":10,\"solidity\":0.2}},\"type\":\"bar\"}],\"scattergeo\":[{\"type\":\"scattergeo\",\"marker\":{\"colorbar\":{\"outlinewidth\":0,\"ticks\":\"\"}}}],\"scatterpolar\":[{\"type\":\"scatterpolar\",\"marker\":{\"colorbar\":{\"outlinewidth\":0,\"ticks\":\"\"}}}],\"histogram\":[{\"marker\":{\"pattern\":{\"fillmode\":\"overlay\",\"size\":10,\"solidity\":0.2}},\"type\":\"histogram\"}],\"scattergl\":[{\"type\":\"scattergl\",\"marker\":{\"colorbar\":{\"outlinewidth\":0,\"ticks\":\"\"}}}],\"scatter3d\":[{\"type\":\"scatter3d\",\"line\":{\"colorbar\":{\"outlinewidth\":0,\"ticks\":\"\"}},\"marker\":{\"colorbar\":{\"outlinewidth\":0,\"ticks\":\"\"}}}],\"scattermapbox\":[{\"type\":\"scattermapbox\",\"marker\":{\"colorbar\":{\"outlinewidth\":0,\"ticks\":\"\"}}}],\"scatterternary\":[{\"type\":\"scatterternary\",\"marker\":{\"colorbar\":{\"outlinewidth\":0,\"ticks\":\"\"}}}],\"scattercarpet\":[{\"type\":\"scattercarpet\",\"marker\":{\"colorbar\":{\"outlinewidth\":0,\"ticks\":\"\"}}}],\"carpet\":[{\"aaxis\":{\"endlinecolor\":\"#2a3f5f\",\"gridcolor\":\"white\",\"linecolor\":\"white\",\"minorgridcolor\":\"white\",\"startlinecolor\":\"#2a3f5f\"},\"baxis\":{\"endlinecolor\":\"#2a3f5f\",\"gridcolor\":\"white\",\"linecolor\":\"white\",\"minorgridcolor\":\"white\",\"startlinecolor\":\"#2a3f5f\"},\"type\":\"carpet\"}],\"table\":[{\"cells\":{\"fill\":{\"color\":\"#EBF0F8\"},\"line\":{\"color\":\"white\"}},\"header\":{\"fill\":{\"color\":\"#C8D4E3\"},\"line\":{\"color\":\"white\"}},\"type\":\"table\"}],\"barpolar\":[{\"marker\":{\"line\":{\"color\":\"#E5ECF6\",\"width\":0.5},\"pattern\":{\"fillmode\":\"overlay\",\"size\":10,\"solidity\":0.2}},\"type\":\"barpolar\"}],\"pie\":[{\"automargin\":true,\"type\":\"pie\"}]},\"layout\":{\"autotypenumbers\":\"strict\",\"colorway\":[\"#636efa\",\"#EF553B\",\"#00cc96\",\"#ab63fa\",\"#FFA15A\",\"#19d3f3\",\"#FF6692\",\"#B6E880\",\"#FF97FF\",\"#FECB52\"],\"font\":{\"color\":\"#2a3f5f\"},\"hovermode\":\"closest\",\"hoverlabel\":{\"align\":\"left\"},\"paper_bgcolor\":\"white\",\"plot_bgcolor\":\"#E5ECF6\",\"polar\":{\"bgcolor\":\"#E5ECF6\",\"angularaxis\":{\"gridcolor\":\"white\",\"linecolor\":\"white\",\"ticks\":\"\"},\"radialaxis\":{\"gridcolor\":\"white\",\"linecolor\":\"white\",\"ticks\":\"\"}},\"ternary\":{\"bgcolor\":\"#E5ECF6\",\"aaxis\":{\"gridcolor\":\"white\",\"linecolor\":\"white\",\"ticks\":\"\"},\"baxis\":{\"gridcolor\":\"white\",\"linecolor\":\"white\",\"ticks\":\"\"},\"caxis\":{\"gridcolor\":\"white\",\"linecolor\":\"white\",\"ticks\":\"\"}},\"coloraxis\":{\"colorbar\":{\"outlinewidth\":0,\"ticks\":\"\"}},\"colorscale\":{\"sequential\":[[0.0,\"#0d0887\"],[0.1111111111111111,\"#46039f\"],[0.2222222222222222,\"#7201a8\"],[0.3333333333333333,\"#9c179e\"],[0.4444444444444444,\"#bd3786\"],[0.5555555555555556,\"#d8576b\"],[0.6666666666666666,\"#ed7953\"],[0.7777777777777778,\"#fb9f3a\"],[0.8888888888888888,\"#fdca26\"],[1.0,\"#f0f921\"]],\"sequentialminus\":[[0.0,\"#0d0887\"],[0.1111111111111111,\"#46039f\"],[0.2222222222222222,\"#7201a8\"],[0.3333333333333333,\"#9c179e\"],[0.4444444444444444,\"#bd3786\"],[0.5555555555555556,\"#d8576b\"],[0.6666666666666666,\"#ed7953\"],[0.7777777777777778,\"#fb9f3a\"],[0.8888888888888888,\"#fdca26\"],[1.0,\"#f0f921\"]],\"diverging\":[[0,\"#8e0152\"],[0.1,\"#c51b7d\"],[0.2,\"#de77ae\"],[0.3,\"#f1b6da\"],[0.4,\"#fde0ef\"],[0.5,\"#f7f7f7\"],[0.6,\"#e6f5d0\"],[0.7,\"#b8e186\"],[0.8,\"#7fbc41\"],[0.9,\"#4d9221\"],[1,\"#276419\"]]},\"xaxis\":{\"gridcolor\":\"white\",\"linecolor\":\"white\",\"ticks\":\"\",\"title\":{\"standoff\":15},\"zerolinecolor\":\"white\",\"automargin\":true,\"zerolinewidth\":2},\"yaxis\":{\"gridcolor\":\"white\",\"linecolor\":\"white\",\"ticks\":\"\",\"title\":{\"standoff\":15},\"zerolinecolor\":\"white\",\"automargin\":true,\"zerolinewidth\":2},\"scene\":{\"xaxis\":{\"backgroundcolor\":\"#E5ECF6\",\"gridcolor\":\"white\",\"linecolor\":\"white\",\"showbackground\":true,\"ticks\":\"\",\"zerolinecolor\":\"white\",\"gridwidth\":2},\"yaxis\":{\"backgroundcolor\":\"#E5ECF6\",\"gridcolor\":\"white\",\"linecolor\":\"white\",\"showbackground\":true,\"ticks\":\"\",\"zerolinecolor\":\"white\",\"gridwidth\":2},\"zaxis\":{\"backgroundcolor\":\"#E5ECF6\",\"gridcolor\":\"white\",\"linecolor\":\"white\",\"showbackground\":true,\"ticks\":\"\",\"zerolinecolor\":\"white\",\"gridwidth\":2}},\"shapedefaults\":{\"line\":{\"color\":\"#2a3f5f\"}},\"annotationdefaults\":{\"arrowcolor\":\"#2a3f5f\",\"arrowhead\":0,\"arrowwidth\":1},\"geo\":{\"bgcolor\":\"white\",\"landcolor\":\"#E5ECF6\",\"subunitcolor\":\"white\",\"showland\":true,\"showlakes\":true,\"lakecolor\":\"white\"},\"title\":{\"x\":0.05},\"mapbox\":{\"style\":\"light\"}}},\"xaxis\":{\"rangeslider\":{\"visible\":false},\"title\":{\"text\":\"Date\"},\"showgrid\":true,\"gridwidth\":1,\"gridcolor\":\"lightgrey\",\"zeroline\":false,\"showticklabels\":true,\"rangebreaks\":[{\"bounds\":[\"sat\",\"mon\"]}]},\"margin\":{\"l\":0,\"r\":0,\"t\":0,\"b\":0},\"title\":{\"text\":\"Candle Chart\"},\"yaxis\":{\"title\":{\"text\":\"Price\"},\"showgrid\":true,\"gridwidth\":1,\"gridcolor\":\"lightgrey\",\"zeroline\":false,\"showticklabels\":true},\"plot_bgcolor\":\"white\",\"hovermode\":\"x unified\",\"showlegend\":false},                        {\"responsive\": true}                    ).then(function(){\n",
       "                            \n",
       "var gd = document.getElementById('ebacdf78-b467-4ad8-a1a1-514e7698754f');\n",
       "var x = new MutationObserver(function (mutations, observer) {{\n",
       "        var display = window.getComputedStyle(gd).display;\n",
       "        if (!display || display === 'none') {{\n",
       "            console.log([gd, 'removed!']);\n",
       "            Plotly.purge(gd);\n",
       "            observer.disconnect();\n",
       "        }}\n",
       "}});\n",
       "\n",
       "// Listen for the removal of the full notebook cells\n",
       "var notebookContainer = gd.closest('#notebook-container');\n",
       "if (notebookContainer) {{\n",
       "    x.observe(notebookContainer, {childList: true});\n",
       "}}\n",
       "\n",
       "// Listen for the clearing of the current output cell\n",
       "var outputEl = gd.closest('.output');\n",
       "if (outputEl) {{\n",
       "    x.observe(outputEl, {childList: true});\n",
       "}}\n",
       "\n",
       "                        })                };                });            </script>        </div>"
      ]
     },
     "metadata": {},
     "output_type": "display_data"
    }
   ],
   "source": [
    "#INPUT\n",
    "name = input('Enter a name: ')\n",
    "\n",
    "# PREPROCESSING THE NAME\n",
    "symbol,st_name = search_stock_symbol(name)\n",
    "symbol = symbol_changes(symbol)\n",
    "\n",
    "# API CALL\n",
    "comp = yf.Ticker(symbol)\n",
    "data = comp.history(period='1y', interval='1d')\n",
    "info = comp.info\n",
    "\n",
    "curr_price = info['currentPrice']\n",
    "\n",
    "weights = {\n",
    "    'pe': 0.3,\n",
    "    'rsi': 0.5,\n",
    "    'macd': 0.5,\n",
    "    'fib': 0.4,\n",
    "    'trend': 0.4\n",
    "}\n",
    "\n",
    "# PE RATIO AND CAP ID\n",
    "info = pe_and_market_cap(info)\n",
    "\n",
    "if info[2] != 1:\n",
    "    print('The company is not large cap')\n",
    "\n",
    "\n",
    "pe = info[1]\n",
    "\n",
    "if pe <= 20:\n",
    "    pe_score = 1  # Buy\n",
    "    pe_response = f'The P/E ratio is {round(pe,2)}, which is below 20, hence BUY'\n",
    "\n",
    "else:\n",
    "    pe_score = -1  # Sell\n",
    "    pe_response = f'The P/E ratio is {round(pe,2)}, which is above 20, hence SELL'\n",
    "\n",
    "\n",
    "# RSI\n",
    "r, window = rsi(data)\n",
    "rsi_score, rsi_response = analyze_rsi(r)\n",
    "\n",
    "# MACD\n",
    "ma = macd(data)\n",
    "macd_score, macd_response = interpret_macd(ma)\n",
    "\n",
    "\n",
    "# Fibonacci Retracement\n",
    "fib = fibonacci_retracement(data)\n",
    "\n",
    "current_price = data['Close'].iloc[-1]\n",
    "prev_price = data['Close'].iloc[-2]\n",
    "\n",
    "trend = fib['trend']\n",
    "\n",
    "levels = dict()\n",
    "levels['retracement'] = fib['retracement_levels']\n",
    "levels ['extension'] = fib['extension_levels']\n",
    "\n",
    "fib_response, fib_score = fib_insight(current_price=current_price, trend=trend, levels=levels, previous_price=prev_price)\n",
    "\n",
    "data_trend = calculate_trend(data, short_window=14, long_window=50)\n",
    "trend_score, trend_response = analyze_trend(data_trend)\n",
    "\n",
    "final_score = (\n",
    "    (pe_score * weights['pe']) + \n",
    "    (rsi_score * weights['rsi']) + \n",
    "    (macd_score * weights['macd']) + \n",
    "    (fib_score * weights['fib']) +\n",
    "    (trend_score * weights['trend'])\n",
    ")\n",
    "\n",
    "# Decision based on final score\n",
    "if final_score > 0:\n",
    "    print(f'\\nBuy stocks of {st_name}')\n",
    "else:\n",
    "    print(f'\\nSell your stocks of {st_name}')\n",
    "\n",
    "\n",
    "print(f'Current Price of {st_name}: {curr_price}')\n",
    "print(f'Market Cap of {st_name}: {round(info[0] / (10 ** 7) , 2)} Crores')\n",
    "\n",
    "print(pe_response)  \n",
    "\n",
    "visualise_macd(ma)\n",
    "print(macd_response)\n",
    "\n",
    "visualise_rsi(r, window)\n",
    "print(rsi_response)\n",
    "\n",
    "fig = visualise_fib(fib, data)\n",
    "fig.show()\n",
    "print(*fib_response)\n",
    "\n",
    "print('\\n' + trend_response)\n",
    "plot_stock_trends_candlestick(data_trend)"
   ]
  },
  {
   "cell_type": "markdown",
   "id": "61f9b94d",
   "metadata": {},
   "source": [
    "<center> <h1>BACKTESTING</h1> </center>"
   ]
  },
  {
   "cell_type": "code",
   "execution_count": 42,
   "id": "b5524591",
   "metadata": {},
   "outputs": [],
   "source": [
    "# def calculate_signal(symbol, data, current_date):\n",
    "#     # Slice the data up to the current date\n",
    "#     current_data = data.loc[:current_date]\n",
    "    \n",
    "#     # Get the latest info\n",
    "#     comp = yf.Ticker(symbol)\n",
    "#     info = comp.info\n",
    "    \n",
    "#     curr_price = current_data['Close'].iloc[-1]\n",
    "    \n",
    "#     weights = {\n",
    "#     'pe': 0.5,\n",
    "#     'rsi': 0.8,\n",
    "#     'macd': 0.8,\n",
    "#     'fib': 0.6,\n",
    "#     'trend': 0.6\n",
    "# }\n",
    "    \n",
    "#     # PE RATIO AND CAP ID\n",
    "#     market_cap, pe, is_large_cap = pe_and_market_cap(info)\n",
    "    \n",
    "#     if not is_large_cap:\n",
    "#         return 0  \n",
    "    \n",
    "#     if pe <= 20:\n",
    "#         pe_score = 1  # Buy\n",
    "#     else:\n",
    "#         pe_score = -1  # Sell\n",
    "    \n",
    "#     # RSI\n",
    "#     r, window = rsi(current_data)\n",
    "#     rsi_score, _ = analyze_rsi(r)\n",
    "    \n",
    "#     # MACD\n",
    "#     ma = macd(current_data)\n",
    "#     macd_score, _ = interpret_macd(ma)\n",
    "    \n",
    "#     # Fibonacci Retracement\n",
    "#     fib = fibonacci_retracement(current_data)\n",
    "#     current_price = current_data['Close'].iloc[-1]\n",
    "#     prev_price = current_data['Close'].iloc[-2]\n",
    "#     trend = fib['trend']\n",
    "#     levels = {\n",
    "#         'retracement': fib['retracement_levels'],\n",
    "#         'extension': fib['extension_levels']\n",
    "#     }\n",
    "#     _, fib_score = fib_insight(current_price=current_price, trend=trend, levels=levels,previous_price=prev_price)\n",
    "    \n",
    "#     trend_score, _ = analyze_trend(data_trend)\n",
    "    \n",
    "#     final_score = (\n",
    "#     (pe_score * weights['pe']) + \n",
    "#     (rsi_score * weights['rsi']) + \n",
    "#     (macd_score * weights['macd']) + \n",
    "#     (fib_score * weights['fib']) +\n",
    "#     (trend_score * weights['trend']))\n",
    "    \n",
    "#     if final_score > -0.3 and final_score < 0.3:\n",
    "#         ans = 0\n",
    "        \n",
    "#     elif final_score >= 0.3:\n",
    "#         ans = 1\n",
    "        \n",
    "#     elif final_score <= -0.3:\n",
    "#         ans = -1\n",
    "    \n",
    "#     return ans"
   ]
  },
  {
   "cell_type": "code",
   "execution_count": 44,
   "id": "304caf75",
   "metadata": {},
   "outputs": [],
   "source": [
    "# def backtest(symbol, initial_balance=10000, holding_period=5, stop_loss=-5, take_profit=10, future_window=5):\n",
    "#     # Download data\n",
    "#     stock = yf.Ticker(symbol)\n",
    "#     data = stock.history(period='2y', interval='1d')\n",
    "    \n",
    "#     # Initialize variables\n",
    "#     position = 0\n",
    "#     balance = initial_balance\n",
    "#     shares = 0\n",
    "#     trades = []\n",
    "#     good_predictions = 0\n",
    "#     bad_predictions = 0\n",
    "    \n",
    "#     # Iterate through each day\n",
    "#     for i, current_date in enumerate(data.index[:-future_window]):\n",
    "#         current_price = data.loc[current_date, 'Close']\n",
    "        \n",
    "#         if len(data.loc[:current_date]) < 60:  # Skip the first 60 days to have enough data for indicators\n",
    "#             continue\n",
    "        \n",
    "#         # Get the signal\n",
    "#         signal = calculate_signal(symbol, data, current_date)\n",
    "        \n",
    "#         # Check if we need to sell due to stop loss, take profit, or holding period\n",
    "#         if position == 1:\n",
    "#             days_held = (current_date - trade_entry_date).days\n",
    "#             price_change = (current_price - entry_price) / entry_price * 100\n",
    "            \n",
    "#             if price_change <= stop_loss or price_change >= take_profit or days_held >= holding_period:\n",
    "#                 # Sell\n",
    "#                 balance += shares * current_price\n",
    "#                 trade_type = 'sell'\n",
    "#                 trades.append((trade_type, current_date, current_price, shares, balance))\n",
    "                \n",
    "#                 future_price = data['Close'].iloc[i + future_window]\n",
    "#                 if (signal == 1 and future_price > current_price) or (signal == -1 and future_price < current_price):\n",
    "#                     good_predictions += 1\n",
    "#                 else:\n",
    "#                     bad_predictions += 1\n",
    "                \n",
    "#                 shares = 0\n",
    "#                 position = 0\n",
    "        \n",
    "#         # Execute trades based on signal\n",
    "#         if signal == 1 and position == 0:  # Buy signal\n",
    "#             shares_to_buy = balance // current_price\n",
    "#             cost = shares_to_buy * current_price\n",
    "#             balance -= cost\n",
    "#             shares += shares_to_buy\n",
    "#             position = 1\n",
    "#             trade_type = 'buy'\n",
    "#             trades.append((trade_type, current_date, current_price, shares_to_buy, balance))\n",
    "#             entry_price = current_price\n",
    "#             trade_entry_date = current_date\n",
    "            \n",
    "#             # Check if the buy prediction was good\n",
    "#             future_price = data['Close'].iloc[i + future_window]\n",
    "#             if future_price > current_price:\n",
    "#                 good_predictions += 1\n",
    "#             else:\n",
    "#                 bad_predictions += 1\n",
    "            \n",
    "#         elif signal == -1 and position == 1:  # Sell signal\n",
    "#             balance += shares * current_price\n",
    "#             trade_type = 'sell'\n",
    "#             trades.append((trade_type, current_date, current_price, shares, balance))\n",
    "            \n",
    "#             # Check if the sell prediction was good\n",
    "#             future_price = data['Close'].iloc[i + future_window]\n",
    "#             if future_price < current_price:\n",
    "#                 good_predictions += 1\n",
    "#             else:\n",
    "#                 bad_predictions += 1\n",
    "            \n",
    "#             shares = 0\n",
    "#             position = 0\n",
    "    \n",
    "#     # Final value\n",
    "#     final_balance = balance + shares * data['Close'].iloc[-1]\n",
    "#     return_pct = (final_balance - initial_balance) / initial_balance * 100\n",
    "    \n",
    "#     total_predictions = good_predictions + bad_predictions\n",
    "#     prediction_accuracy = (good_predictions / total_predictions * 100) if total_predictions > 0 else 0\n",
    "    \n",
    "#     return {\n",
    "#         'final_balance': final_balance,\n",
    "#         'return_pct': return_pct,\n",
    "#         'trades': trades,\n",
    "#         'good_predictions': good_predictions,\n",
    "#         'bad_predictions': bad_predictions,\n",
    "#         'prediction_accuracy': prediction_accuracy\n",
    "#     }"
   ]
  },
  {
   "cell_type": "code",
   "execution_count": 21,
   "id": "f3d23284",
   "metadata": {},
   "outputs": [],
   "source": [
    "# symbols = ['RELIANCE.NS','TCS.NS', 'HDFCBANK.NS', 'INFY.NS', 'HINDUNILVR.NS', 'BHARTIARTL.NS', 'ICICIBANK.NS','SBIN.NS', 'LICI.NS', 'ITC.NS'] \n",
    "# results = {}\n",
    "# for symbol in symbols:\n",
    "#     result = backtest(symbol, holding_period=26, future_window=26)\n",
    "#     results[symbol] = result\n",
    "\n",
    "# # Analyze results\n",
    "# for symbol, result in results.items():\n",
    "#     print(f\"\\nResults for {symbol}:\")\n",
    "#     print(f\"Final Balance: Rs{result['final_balance']:.2f}\")\n",
    "#     print(f\"Return: {result['return_pct']:.2f}%\")\n",
    "#     print(f\"Number of trades: {len(result['trades'])}\")\n",
    "#     print(f\"Good trades: {result['good_predictions']}\")\n",
    "#     print(f\"Bad trades: {result['bad_predictions']}\")\n",
    "#     print(f\"Accuracy: {result['prediction_accuracy']:.2f}%\")"
   ]
  },
  {
   "cell_type": "code",
   "execution_count": null,
   "id": "348ada35",
   "metadata": {},
   "outputs": [],
   "source": []
  }
 ],
 "metadata": {
  "kernelspec": {
   "display_name": "Python 3 (ipykernel)",
   "language": "python",
   "name": "python3"
  },
  "language_info": {
   "codemirror_mode": {
    "name": "ipython",
    "version": 3
   },
   "file_extension": ".py",
   "mimetype": "text/x-python",
   "name": "python",
   "nbconvert_exporter": "python",
   "pygments_lexer": "ipython3",
   "version": "3.11.7"
  }
 },
 "nbformat": 4,
 "nbformat_minor": 5
}
