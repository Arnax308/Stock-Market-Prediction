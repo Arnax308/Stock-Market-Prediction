{
 "cells": [
  {
   "cell_type": "code",
   "execution_count": 1,
   "id": "ca2d5302",
   "metadata": {},
   "outputs": [],
   "source": [
    "import yfinance as yf\n",
    "import requests\n",
    "import numpy as np\n",
    "import pandas as pd\n",
    "from matplotlib import pyplot as plt\n",
    "import matplotlib.dates as mdates\n",
    "from scipy.signal import argrelextrema\n",
    "import matplotlib.colors as mcolors\n",
    "from matplotlib.transforms import blended_transform_factory\n",
    "import plotly.graph_objects as go\n",
    "from plotly.subplots import make_subplots"
   ]
  },
  {
   "cell_type": "code",
   "execution_count": 2,
   "id": "ba90117e",
   "metadata": {},
   "outputs": [],
   "source": [
    "def search_stock_symbol(company_name):\n",
    "    url = f'https://www.alphavantage.co/query?function=SYMBOL_SEARCH&keywords={company_name}&apikey=Y9DN79N2PBBK2X1O'\n",
    "    \n",
    "    # Send request to Alpha Vantage API\n",
    "    response = requests.get(url)\n",
    "    data = response.json()\n",
    "    \n",
    "    # Extract and print best matches\n",
    "    if 'bestMatches' in data:\n",
    "        matches = data['bestMatches']\n",
    "        for match in matches:\n",
    "        \n",
    "            if match['4. region'] == 'India/Bombay':\n",
    "                symbol = match['1. symbol']\n",
    "                name = match['2. name']\n",
    "\n",
    "                return symbol,name\n",
    "\n",
    "            else:\n",
    "                continue\n",
    "    \n",
    "    else:\n",
    "        \n",
    "        raise ValueError(\"No such company found\")"
   ]
  },
  {
   "cell_type": "code",
   "execution_count": 3,
   "id": "1a19b4f5",
   "metadata": {},
   "outputs": [],
   "source": [
    "def symbol_changes(symbol):\n",
    "    symbol = symbol[:-3]\n",
    "    symbol += \"NS\"\n",
    "    \n",
    "    return symbol"
   ]
  },
  {
   "cell_type": "code",
   "execution_count": 4,
   "id": "687a8850",
   "metadata": {},
   "outputs": [],
   "source": [
    "# Calculate EPS and check for -ve growth (quartely-quartely yearly)\n",
    "def pe_and_market_cap(all_info):\n",
    "    \n",
    "    share_price = all_info['currentPrice']\n",
    "    no_shares = all_info['sharesOutstanding']\n",
    "    eps = all_info['trailingEps']\n",
    "    \n",
    "    market_cap = share_price * no_shares\n",
    "    pe = market_cap/ (eps * no_shares)\n",
    "    \n",
    "    if market_cap < (5000 * (10 **7)):\n",
    "        Id ='s' #Small Cap\n",
    "\n",
    "    elif (5000 * (10 ** 7)) < market_cap < 20000 * (10 ** 7):\n",
    "        Id ='m' #Middle Cap\n",
    "\n",
    "    else:\n",
    "           Id ='l' #Large Cap\n",
    "    \n",
    "    if Id == 'l':\n",
    "        id2 = 1\n",
    "        \n",
    "    else:\n",
    "        id2 = 0\n",
    "    \n",
    "    return market_cap, pe, id2"
   ]
  },
  {
   "cell_type": "code",
   "execution_count": 5,
   "id": "aef0676d",
   "metadata": {},
   "outputs": [],
   "source": [
    "def macd(data):\n",
    "    ma12 = data['Close'].ewm(span=12, adjust=False).mean()\n",
    "    ma26 = data['Close'].ewm(span=26, adjust=False).mean()\n",
    "    macd = ma12 - ma26\n",
    "    signal_line = macd.ewm(span=9, adjust=False).mean()\n",
    "    \n",
    "    histogram = macd - signal_line\n",
    "    \n",
    "    data[\"MACD\"] = macd\n",
    "    data['Signal Line'] = signal_line\n",
    "    data['Histogram'] = histogram\n",
    "    \n",
    "    # Calculate slopes for MACD and Signal Line\n",
    "    data['MACD_slope'] = macd - macd.shift(1)\n",
    "    data['Signal_slope'] = signal_line - signal_line.shift(1)\n",
    "    \n",
    "    # Initialize Signal column\n",
    "    data['Signal'] = 0\n",
    "    \n",
    "    # Define conditions for Buy, Sell, and Hold\n",
    "    buy_condition = (\n",
    "        ((data['MACD'] > data['Signal Line']) & (data['MACD'].shift(1) <= data['Signal Line'].shift(1))) |  # Bullish crossover\n",
    "        ((data['MACD_slope'] > 0) & (data['Signal_slope'] > 0))  # Both lines rising\n",
    "    )\n",
    "    \n",
    "    sell_condition = (\n",
    "        ((data['MACD'] < data['Signal Line']) & (data['MACD'].shift(1) >= data['Signal Line'].shift(1))) |  # Bearish crossover\n",
    "        ((data['MACD_slope'] < 0) & (data['Signal_slope'] < 0))  # Both lines falling\n",
    "    )\n",
    "    \n",
    "    # Apply conditions\n",
    "    data.loc[buy_condition, 'Signal'] = 1\n",
    "    data.loc[sell_condition, 'Signal'] = -1\n",
    "    \n",
    "    # Creating a column for prediction (Buy, Sell, or Hold)\n",
    "    data['Prediction'] = data['Signal'].apply(lambda x: 'Buy' if x == 1 else ('Sell' if x == -1 else 'Hold'))\n",
    "    \n",
    "    return data[['Close', 'MACD', 'Signal Line', 'Histogram', 'MACD_slope', 'Signal_slope', 'Prediction']]"
   ]
  },
  {
   "cell_type": "code",
   "execution_count": 6,
   "id": "200215ee",
   "metadata": {},
   "outputs": [],
   "source": [
    "def rsi(data, window=14):\n",
    "    delta = data['Close'].diff()\n",
    "    gain = delta.where(delta > 0, 0)\n",
    "    loss = -delta.where(delta < 0, 0)\n",
    "    \n",
    "    # Calculate initial average gains and losses\n",
    "    avg_gain = gain[:window].mean()\n",
    "    avg_loss = loss[:window].mean()\n",
    "    \n",
    "    # Initialize RSI values\n",
    "    rsi_values = []\n",
    "    \n",
    "    # Iterate through the rest of the data\n",
    "    for i in range(window, len(data)):\n",
    "        avg_gain = (avg_gain * (window - 1) + gain.iloc[i]) / window\n",
    "        avg_loss = (avg_loss * (window - 1) + loss.iloc[i]) / window\n",
    "        \n",
    "        rs = avg_gain / avg_loss\n",
    "        rsi = 100 - (100 / (1 + rs))\n",
    "        \n",
    "        rsi_values.append(rsi)\n",
    "    \n",
    "    # Add RSI column to the DataFrame\n",
    "    data['RSI'] = pd.Series(rsi_values, index=data.index[window:])\n",
    "    \n",
    "    return data[window:], window"
   ]
  },
  {
   "cell_type": "code",
   "execution_count": 7,
   "id": "5d98cd36",
   "metadata": {},
   "outputs": [],
   "source": [
    "# # Not giving the right answer\n",
    "# def lifetime_high(company_name):\n",
    "    \n",
    "#     symbol = inp(company_name)\n",
    "#     comp = yf.Ticker(symbol)\n",
    "#     data = comp.history(period='1y', interval='1d')\n",
    "    \n",
    "#     return round(data['High'].max(), 3)"
   ]
  },
  {
   "cell_type": "code",
   "execution_count": 8,
   "id": "cbc39a23",
   "metadata": {},
   "outputs": [],
   "source": [
    "def fibonacci_retracement(data, window_size=10):\n",
    "    close_prices = data['Close'].values\n",
    "    \n",
    "    # Function to identify trends\n",
    "    def identify_trend(prices, window):\n",
    "        trends = np.zeros(len(prices))\n",
    "        for i in range(window, len(prices)):\n",
    "            if prices[i] > prices[i-window]:\n",
    "                trends[i] = 1  # Uptrend\n",
    "            elif prices[i] < prices[i-window]:\n",
    "                trends[i] = -1  # Downtrend\n",
    "        return trends\n",
    "    \n",
    "    # Identify trends\n",
    "    trends = identify_trend(close_prices, window_size)\n",
    "    \n",
    "    # Find the most recent significant trend change\n",
    "    trend_changes = np.diff(trends)\n",
    "    significant_changes = np.where(np.abs(trend_changes) > 0)[0]\n",
    "    \n",
    "    if len(significant_changes) > 0:\n",
    "        last_change = significant_changes[-1]\n",
    "        current_trend = \"uptrend\" if trends[last_change + 1] == 1 else \"downtrend\"\n",
    "        \n",
    "        # Find high and low prices since the trend change\n",
    "        if current_trend == \"uptrend\":\n",
    "            low_price = np.min(close_prices[max(0, last_change-window_size):last_change+1])\n",
    "            high_price = np.max(close_prices[last_change+1:])\n",
    "        else:\n",
    "            high_price = np.max(close_prices[max(0, last_change-window_size):last_change+1])\n",
    "            low_price = np.min(close_prices[last_change+1:])\n",
    "    else:\n",
    "        # If no significant trend change, use the entire dataset\n",
    "        current_trend = \"uptrend\" if close_prices[-1] > close_prices[0] else \"downtrend\"\n",
    "        high_price = np.max(close_prices)\n",
    "        low_price = np.min(close_prices)\n",
    "    \n",
    "    # Ensure we have valid high and low prices\n",
    "    if high_price == low_price:\n",
    "        high_price = np.max(close_prices)\n",
    "        low_price = np.min(close_prices)\n",
    "        current_trend = \"uptrend\" if close_prices[-1] > close_prices[0] else \"downtrend\"\n",
    "    \n",
    "    # Calculate Fibonacci levels\n",
    "    diff = high_price - low_price\n",
    "    retracement_levels = {\n",
    "        \"23.6%\": high_price - 0.236 * diff if current_trend == \"uptrend\" else low_price + 0.236 * diff,\n",
    "        \"38.2%\": high_price - 0.382 * diff if current_trend == \"uptrend\" else low_price + 0.382 * diff,\n",
    "        \"50%\": high_price - 0.500 * diff if current_trend == \"uptrend\" else low_price + 0.500 * diff,\n",
    "        \"61.8%\": high_price - 0.618 * diff if current_trend == \"uptrend\" else low_price + 0.618 * diff,\n",
    "        \"78.6%\": high_price - 0.786 * diff if current_trend == \"uptrend\" else low_price + 0.786 * diff\n",
    "    }\n",
    "    \n",
    "    extension_levels = {\n",
    "        \"123.6%\": high_price + 0.236 * diff,\n",
    "        \"138.2%\": high_price + 0.382 * diff,\n",
    "        \"150%\": high_price + 0.500 * diff,\n",
    "        \"161.8%\": high_price + 0.618 * diff,\n",
    "        \"200%\": high_price + diff,\n",
    "    }\n",
    "    \n",
    "    return {\n",
    "        \"trend\": current_trend,\n",
    "        \"prices\": {\n",
    "            \"high_price\": high_price,\n",
    "            \"low_price\": low_price\n",
    "        },\n",
    "        \"retracement_levels\": retracement_levels,\n",
    "        \"extension_levels\": extension_levels,\n",
    "    }"
   ]
  },
  {
   "cell_type": "code",
   "execution_count": 9,
   "id": "84466c71",
   "metadata": {},
   "outputs": [],
   "source": [
    "def calculate_trend(df, window=14):\n",
    "    # Higher Highs (HH) and Lower Highs (LH)\n",
    "    df['Rolling_Max_High'] = df['High'].rolling(window=window).max()\n",
    "    df['HH'] = df['High'] > df['Rolling_Max_High'].shift(1)\n",
    "    df['LH'] = df['High'] < df['Rolling_Max_High'].shift(1)\n",
    "    \n",
    "    # Higher Lows (HL) and Lower Lows (LL)\n",
    "    df['Rolling_Min_Low'] = df['Low'].rolling(window=window).min()\n",
    "    df['HL'] = df['Low'] > df['Rolling_Min_Low'].shift(1)\n",
    "    df['LL'] = df['Low'] < df['Rolling_Min_Low'].shift(1)\n",
    "    \n",
    "    df['Bullish_Strength'] = (df['HH'].rolling(window=window).sum() + \n",
    "                              df['HL'].rolling(window=window).sum()) / (2 * window)\n",
    "    df['Bearish_Strength'] = (df['LH'].rolling(window=window).sum() + \n",
    "                              df['LL'].rolling(window=window).sum()) / (2 * window)\n",
    "    return df[window:]"
   ]
  },
  {
   "cell_type": "code",
   "execution_count": 10,
   "id": "a87412dd",
   "metadata": {},
   "outputs": [],
   "source": [
    "def interpret_macd(data):\n",
    "    result = data.iloc[-1]\n",
    "    \n",
    "    pred = result['Prediction']\n",
    "    macd_value = result['MACD']\n",
    "    signal_value = result['Signal Line']\n",
    "    histogram = result['Histogram']\n",
    "    macd_slope = result['MACD_slope']\n",
    "    signal_slope = result['Signal_slope']\n",
    "    \n",
    "    if pred == 'Buy':\n",
    "        if macd_value > signal_value and macd_slope > 0 and signal_slope > 0:\n",
    "            macd_response = \"Strong Buy: MACD is above Signal Line and both are rising.\"\n",
    "            macd_score = 1\n",
    "        elif macd_value > signal_value:\n",
    "            macd_response = \"Buy: MACD has just crossed above the Signal Line.\"\n",
    "            macd_score = 0.5\n",
    "        else:\n",
    "            macd_response = \"Weak Buy: MACD and Signal Line are rising, but MACD is still below Signal Line.\"\n",
    "            macd_score = 0.25\n",
    "    \n",
    "    elif pred == 'Sell':\n",
    "       \n",
    "        if macd_value < signal_value and macd_slope < 0 and signal_slope < 0:\n",
    "            macd_response = \"Strong Sell: MACD is below Signal Line and both are falling.\"\n",
    "            macd_score = -1\n",
    "        elif macd_value < signal_value:\n",
    "            macd_response = \"Sell: MACD has just crossed below the Signal Line.\"\n",
    "            macd_score = -0.5\n",
    "        else:\n",
    "            macd_response = \"Weak Sell: MACD and Signal Line are falling, but MACD is still above Signal Line.\"\n",
    "            macd_score = 0.25\n",
    "    \n",
    "    else:  # Hold\n",
    "        if histogram > 0:\n",
    "            if macd_slope > 0 and signal_slope > 0:\n",
    "                macd_response = \"Hold (Bullish): MACD is above Signal Line and both are rising, but no crossover yet.\"\n",
    "                macd_score = 0.25\n",
    "            elif macd_slope < 0 and signal_slope < 0:\n",
    "                macd_response = \"Hold (Bearish Divergence): MACD is above Signal Line but both are falling.\"\n",
    "                macd_score = -0.25\n",
    "            else:\n",
    "                macd_response = \"Hold: MACD is above Signal Line but trend is unclear.\"\n",
    "                macd_score = 0\n",
    "        else:\n",
    "            if macd_slope < 0 and signal_slope < 0:\n",
    "                macd_response = \"Hold (Bearish): MACD is below Signal Line and both are falling, but no crossover yet.\"\n",
    "                macd_score = 0.25\n",
    "            elif macd_slope > 0 and signal_slope > 0:\n",
    "                macd_response = \"Hold (Bullish Divergence): MACD is below Signal Line but both are rising.\"\n",
    "                macd_score = 0.25\n",
    "            else:\n",
    "                macd_response = \"Hold: MACD is below Signal Line but trend is unclear.\"\n",
    "                macd_score = 0\n",
    "    \n",
    "    return macd_score, macd_response"
   ]
  },
  {
   "cell_type": "code",
   "execution_count": 11,
   "id": "8901018b",
   "metadata": {},
   "outputs": [],
   "source": [
    "def analyze_rsi(data):\n",
    "    rsi_value = data['RSI']\n",
    "    current_rsi = rsi_value.iloc[-1]\n",
    "    prev_rsi = rsi_value.iloc[-2]\n",
    "    rsi_change = current_rsi - prev_rsi\n",
    "\n",
    "    if current_rsi > 70:\n",
    "        if rsi_change > 0:\n",
    "            rsi_score = -1  # Strong Sell\n",
    "            rsi_response = f'RSI is {round(current_rsi, 2)} and rising, indicating strong overbought conditions. Consider SELLING.'\n",
    "        else:\n",
    "            rsi_score = -0.75  # Moderate Sell\n",
    "            rsi_response = f'RSI is {round(current_rsi, 2)} but decreasing, suggesting potential reversal from overbought conditions. Monitor closely for selling opportunities.'\n",
    "\n",
    "    elif 70 >= current_rsi > 60:\n",
    "        if rsi_change > 0:\n",
    "            rsi_score = -0.5  # Mild Sell\n",
    "            rsi_response = f'RSI is {round(current_rsi, 2)} and rising towards overbought territory. Consider selling or holding for some more time before selling .'\n",
    "        else:\n",
    "            rsi_score = -0.25  # Weak Sell\n",
    "            rsi_response = f'RSI is {round(current_rsi, 2)} but decreasing, moving away from overbought levels. Hold positions but stay cautious.'\n",
    "\n",
    "    elif 60 >= current_rsi > 50:\n",
    "        if rsi_change > 0:\n",
    "            rsi_score = 0.25  # Weak Buy\n",
    "            rsi_response = f'RSI is {round(current_rsi, 2)} and rising, showing increasing bullish momentum. Consider BUYING.'\n",
    "        else:\n",
    "            rsi_score = -0.25  # Weak Sell\n",
    "            rsi_response = f'RSI is {round(current_rsi, 2)} but decreasing, indicating weakening bullish momentum. Hold current positions.'\n",
    "\n",
    "    elif 50 >= current_rsi > 40:\n",
    "        if rsi_change > 0:\n",
    "            rsi_score = 0.25  # Weak Buy\n",
    "            rsi_response = f'RSI is {round(current_rsi, 2)} and rising, showing potential recovery from bearish territory. Monitor for buying opportunities.'\n",
    "        else:\n",
    "            rsi_score = -0.25  # Weak Sell\n",
    "            rsi_response = f'RSI is {round(current_rsi, 2)} and decreasing, moving towards oversold levels. Hold current positions and watch for further decline to buy.'\n",
    "\n",
    "    elif 40 >= current_rsi > 30:\n",
    "        if rsi_change > 0:\n",
    "            rsi_score = 0.5  # Mild Buy\n",
    "            rsi_response = f'RSI is {round(current_rsi, 2)} and rising from oversold levels. Consider initiating buying.'\n",
    "        else:\n",
    "            rsi_score = 0.25  # Weak Buy\n",
    "            rsi_response = f'RSI is {round(current_rsi, 2)} and approaching oversold territory. Prepare for buying opportunities.'\n",
    "\n",
    "    else:  # RSI <= 30\n",
    "        if rsi_change > 0:\n",
    "            rsi_score = 0.75  # Moderate Buy\n",
    "            rsi_response = f'RSI is {round(current_rsi, 2)} and rising from oversold conditions. Strong buying opportunity, but be aware of potential false signals.'\n",
    "        else:\n",
    "            rsi_score = 1  # Strong Buy\n",
    "            rsi_response = f'RSI is {round(current_rsi, 2)} and still decreasing in oversold territory. Very strong buy signal, but confirm with other indicators.'\n",
    "\n",
    "    return rsi_score, rsi_response"
   ]
  },
  {
   "cell_type": "code",
   "execution_count": 33,
   "id": "1ccef26c",
   "metadata": {},
   "outputs": [],
   "source": [
    "def fib_insight(current_price, levels, trend, previous_price):\n",
    "    insights = []\n",
    "    weight = 0.5  # Start with a neutral weight\n",
    "    \n",
    "    def get_nearest_levels(price, level_dict):\n",
    "        sorted_levels = sorted(level_dict.items(), key=lambda x: x[1])\n",
    "        below = next(((name, value) for name, value in reversed(sorted_levels) if value < price), None)\n",
    "        above = next(((name, value) for name, value in sorted_levels if value > price), None)\n",
    "        return below, above\n",
    "\n",
    "    def calculate_slope(price1, price2):\n",
    "        return (price2 - price1) / price1\n",
    "\n",
    "    slope = calculate_slope(previous_price, current_price)\n",
    "    \n",
    "    if trend == 'uptrend':\n",
    "        below, above = get_nearest_levels(current_price, levels['extension'])\n",
    "        \n",
    "        if below and above:\n",
    "            below_name, below_value = below\n",
    "            above_name, above_value = above\n",
    "            progress = (current_price - below_value) / (above_value - below_value)\n",
    "            insights.append(f\"Price is between {below_name} ({round(below_value, 2)}) and {above_name} ({round(above_value, 2)}) extension levels.\")\n",
    "            insights.append(f\"Current price has retraced {round(progress * 100, 2)}% of the distance between these levels.\")\n",
    "            \n",
    "            if slope > 0:\n",
    "                insights.append(f\"Price is trending upwards towards {above_name} level. Recommendation: Hold and Buy in the future when the oppurtunity turns up.\")\n",
    "                weight = min(weight + 0.1, 1)\n",
    "            else:\n",
    "                insights.append(f\"Price is trending downwards towards {below_name} level. Recommendation: Buy in the future when the oppurtunity turns up\")\n",
    "                weight = max(weight - 0.1, 0)\n",
    "            \n",
    "            if progress < 0.2:\n",
    "                insights.append(f\"Price is close to {below_name} level, may act as support.\")\n",
    "                weight = min(weight + 0.1, 1)\n",
    "            elif progress > 0.8:\n",
    "                insights.append(f\"Price is approaching {above_name} level, may face resistance.\")\n",
    "                weight = max(weight - 0.1, 0)\n",
    "        \n",
    "        for level_name, level_value in levels['extension'].items():\n",
    "            price_diff_percent = (current_price - level_value) / level_value * 100\n",
    "            if abs(price_diff_percent) <= 1:  # Within 1% of a level\n",
    "                insights.append(f\"Price is very close to {level_name} extension level ({round(level_value, 2)}), indicating potential resistance.\")\n",
    "                if slope > 0:\n",
    "                    insights.append(\"Price is moving upwards. Recommendation: Hold.\")\n",
    "                    weight = max(weight - 0.2, 0)\n",
    "                else:\n",
    "                    insights.append(\"Price is moving downwards. Recommendation: Look for an oppturnity to Buy in the future.\")\n",
    "                    weight = min(weight + 0.1, 1)\n",
    "            elif price_diff_percent > 1:  # Above a level\n",
    "                weight = min(weight + 0.05 * (1 - price_diff_percent / 10), 1)  # Gradual weight increase\n",
    "            \n",
    "    elif trend == 'downtrend':\n",
    "        below, above = get_nearest_levels(current_price, levels['retracement'])\n",
    "        \n",
    "        if below and above:\n",
    "            below_name, below_value = below\n",
    "            above_name, above_value = above\n",
    "            progress = (current_price - below_value) / (above_value - below_value)\n",
    "            insights.append(f\"Price is between {below_name} ({round(below_value, 2)}) and {above_name} ({round(above_value, 2)}) retracement levels.\")\n",
    "            insights.append(f\"Current price has retraced {round(progress * 100, 2)}% of the distance between these levels.\")\n",
    "            \n",
    "            if slope > 0:\n",
    "                insights.append(f\"Price is trending upwards towards {above_name} level. Recommendation: Hold or Buy in the future when the oppurtunity turns up.\")\n",
    "                weight = min(weight + 0.1, 1)\n",
    "            else:\n",
    "                insights.append(f\"Price is trending downwards towards {below_name} level. Recommendation: Buy in the future when the oppurtunity turns up.\")\n",
    "                weight = max(weight - 0.1, 0)\n",
    "            \n",
    "            if progress < 0.2:\n",
    "                insights.append(f\"Price is close to {below_name} level, may act as support.\")\n",
    "                weight = min(weight + 0.1, 1)\n",
    "            elif progress > 0.8:\n",
    "                insights.append(f\"Price is approaching {above_name} level, may face resistance.\")\n",
    "                weight = max(weight - 0.1, 0)\n",
    "        \n",
    "        for level_name, level_value in levels['retracement'].items():\n",
    "            price_diff_percent = (current_price - level_value) / level_value * 100\n",
    "            if abs(price_diff_percent) <= 1:  # Within 1% of a level\n",
    "                insights.append(f\"Price is very close to {level_name} retracement level ({round(level_value, 2)}), indicating potential support.\")\n",
    "                if slope > 0:\n",
    "                    insights.append(\"Price is moving upwards. Recommendation: Hold or Sell in the future when the oppurtunity turns up.\")\n",
    "                    weight = min(weight + 0.2, 1)\n",
    "                else:\n",
    "                    insights.append(\"Price is moving downwards. Recommendation:Sell in the future when the oppurtunity turns up.\")\n",
    "                    weight = max(weight - 0.1, 0)\n",
    "            elif price_diff_percent < -1:  # Below a level\n",
    "                weight = max(weight - 0.05 * (1 + price_diff_percent / 10), 0)  # Gradual weight decrease\n",
    "\n",
    "    # Add overall trend insight based on slope\n",
    "    if slope > 0:\n",
    "        insights.append(f\"Overall, price is trending upwards. Recommendation: Hold or Buy in the future when the oppurtunity turns up.\")\n",
    "        weight = min(weight + 0.1, 1)\n",
    "    elif slope < 0:\n",
    "        insights.append(f\"Overall, price is trending downwards. Recommendation: Buy in the future when the oppurtunity turns up.\")\n",
    "        weight = max(weight - 0.1, 0)\n",
    "    else:\n",
    "        insights.append(\"Price is currently stable with no significant movement. Recommendation: Hold.\")\n",
    "\n",
    "    return insights, weight"
   ]
  },
  {
   "cell_type": "code",
   "execution_count": 52,
   "id": "ffee8d3f",
   "metadata": {},
   "outputs": [],
   "source": [
    "def visualise_fib(d, data):\n",
    "    high = d[\"prices\"]['high_price']\n",
    "    low = d[\"prices\"]['low_price']\n",
    "    trend = d[\"trend\"]\n",
    "    \n",
    "    retracement_levels = d['retracement_levels']\n",
    "    extension_levels = d['extension_levels']\n",
    "    \n",
    "    trend_start_date = data.index[data['Close'] == low][0]\n",
    "    trend_end_date = data.index[data['Close'] == high][0]\n",
    "    \n",
    "    sorted_retracement = sorted(retracement_levels.items(), key=lambda x: float(x[0].strip('%')))\n",
    "    sorted_extension = sorted(extension_levels.items(), key=lambda x: float(x[0].strip('%')), reverse=True)\n",
    "    sorted_levels = sorted_extension + sorted_retracement\n",
    "    \n",
    "    extension_colors = ['#FF4136', '#FF851B', '#FFDC00', '#2ECC40', '#0074D9']  # Red, Orange, Yellow, Green, Blue\n",
    "    retracement_colors = ['#B10DC9', '#F012BE', '#85144b', '#001f3f', '#39CCCC']  # Purple, Pink, Maroon, Navy, Teal\n",
    "    \n",
    "    colors = extension_colors[:len(extension_levels)] + retracement_colors[:len(retracement_levels)]\n",
    "    \n",
    "    fig = make_subplots(specs=[[{\"secondary_y\": True}]])\n",
    "    \n",
    "    hover_template = \"<b>Date:</b> %{x|%d %b %y}<br><b>Close:</b> %{y:.2f}<extra></extra>\"\n",
    "    fig.add_trace(go.Scatter(\n",
    "        x=data.index, \n",
    "        y=data['Close'], \n",
    "        name='Close Price', \n",
    "        line=dict(color='#1e90ff', width=3),\n",
    "        hovertemplate=hover_template\n",
    "    ))\n",
    "    \n",
    "    # Add trend area\n",
    "#     fig.add_trace(go.Scatter(x=[trend_start_date, trend_start_date, trend_end_date, trend_end_date],\n",
    "#                              y=[data['Close'].min(), data['Close'].max(), data['Close'].max(), data['Close'].min()],\n",
    "#                              fill='toself',\n",
    "#                              fillcolor='rgba(255,255,0,0.3)',\n",
    "#                              line=dict(color='rgba(255,255,0,0)'),\n",
    "#                              name='Trend Area'))\n",
    "    \n",
    "    # Add Fibonacci levels\n",
    "    for i, (label, level) in enumerate(sorted_levels):\n",
    "        color = colors[i]\n",
    "        dash = 'dash' if label in retracement_levels else 'dot'\n",
    "        fig.add_trace(go.Scatter(x=[data.index[0], data.index[-1]], y=[level, level],\n",
    "                                 mode='lines',\n",
    "                                 name=f'{label} ({round(level, 2)})',\n",
    "                                 line=dict(color=color, width=2, dash=dash)))\n",
    "        \n",
    "        # Add level badges\n",
    "        fig.add_annotation(x=data.index[-1], y=level,\n",
    "                           text=f'{label} ({round(level, 2)})',\n",
    "                           showarrow=False,\n",
    "                           xanchor='left',\n",
    "                           xshift=10,\n",
    "                           font=dict(color=color, size=10),\n",
    "                           bgcolor='white',\n",
    "                           bordercolor=color,\n",
    "                           borderwidth=2,\n",
    "                           borderpad=4,\n",
    "                           opacity=0.8)\n",
    "    \n",
    "    # Update layout\n",
    "    fig.update_layout(\n",
    "        title='Fibonacci Retracement and Extension Levels',\n",
    "        xaxis_title='Date',\n",
    "        yaxis_title='Price',\n",
    "        legend_title='Levels',\n",
    "        hovermode='x unified',\n",
    "        xaxis=dict(\n",
    "            tickformat='%d %b %y',  # Updated date format\n",
    "            tickangle=45,\n",
    "            range=[data.index[-180], data.index[-1] + pd.Timedelta(days=20)],\n",
    "            tickmode='array',\n",
    "            tickvals=pd.date_range(start=data.index[-180], end=data.index[-1], freq='MS'),  # Monthly ticks\n",
    "            ticktext=pd.date_range(start=data.index[-180], end=data.index[-1], freq='MS').strftime('%d %b %y')  # Formatted tick labels\n",
    "        ),\n",
    "        showlegend=True\n",
    "    )\n",
    "    \n",
    "    fig.update_yaxes(tickformat='.2f')\n",
    "    \n",
    "    return fig"
   ]
  },
  {
   "cell_type": "code",
   "execution_count": 51,
   "id": "fe597259",
   "metadata": {},
   "outputs": [
    {
     "data": {
      "application/vnd.plotly.v1+json": {
       "config": {
        "plotlyServerURL": "https://plot.ly"
       },
       "data": [
        {
         "hovertemplate": "<b>Date:</b> %{x|%d %b %y}<br><b>Close:</b> %{y:.2f}<extra></extra>",
         "line": {
          "color": "#1e90ff",
          "width": 3
         },
         "name": "Close Price",
         "type": "scatter",
         "x": [
          "2023-10-10T00:00:00+05:30",
          "2023-10-11T00:00:00+05:30",
          "2023-10-12T00:00:00+05:30",
          "2023-10-13T00:00:00+05:30",
          "2023-10-16T00:00:00+05:30",
          "2023-10-17T00:00:00+05:30",
          "2023-10-18T00:00:00+05:30",
          "2023-10-19T00:00:00+05:30",
          "2023-10-20T00:00:00+05:30",
          "2023-10-23T00:00:00+05:30",
          "2023-10-25T00:00:00+05:30",
          "2023-10-26T00:00:00+05:30",
          "2023-10-27T00:00:00+05:30",
          "2023-10-30T00:00:00+05:30",
          "2023-10-31T00:00:00+05:30",
          "2023-11-01T00:00:00+05:30",
          "2023-11-02T00:00:00+05:30",
          "2023-11-03T00:00:00+05:30",
          "2023-11-06T00:00:00+05:30",
          "2023-11-07T00:00:00+05:30",
          "2023-11-08T00:00:00+05:30",
          "2023-11-09T00:00:00+05:30",
          "2023-11-10T00:00:00+05:30",
          "2023-11-13T00:00:00+05:30",
          "2023-11-15T00:00:00+05:30",
          "2023-11-16T00:00:00+05:30",
          "2023-11-17T00:00:00+05:30",
          "2023-11-20T00:00:00+05:30",
          "2023-11-21T00:00:00+05:30",
          "2023-11-22T00:00:00+05:30",
          "2023-11-23T00:00:00+05:30",
          "2023-11-24T00:00:00+05:30",
          "2023-11-28T00:00:00+05:30",
          "2023-11-29T00:00:00+05:30",
          "2023-11-30T00:00:00+05:30",
          "2023-12-01T00:00:00+05:30",
          "2023-12-04T00:00:00+05:30",
          "2023-12-05T00:00:00+05:30",
          "2023-12-06T00:00:00+05:30",
          "2023-12-07T00:00:00+05:30",
          "2023-12-08T00:00:00+05:30",
          "2023-12-11T00:00:00+05:30",
          "2023-12-12T00:00:00+05:30",
          "2023-12-13T00:00:00+05:30",
          "2023-12-14T00:00:00+05:30",
          "2023-12-15T00:00:00+05:30",
          "2023-12-18T00:00:00+05:30",
          "2023-12-19T00:00:00+05:30",
          "2023-12-20T00:00:00+05:30",
          "2023-12-21T00:00:00+05:30",
          "2023-12-22T00:00:00+05:30",
          "2023-12-26T00:00:00+05:30",
          "2023-12-27T00:00:00+05:30",
          "2023-12-28T00:00:00+05:30",
          "2023-12-29T00:00:00+05:30",
          "2024-01-01T00:00:00+05:30",
          "2024-01-02T00:00:00+05:30",
          "2024-01-03T00:00:00+05:30",
          "2024-01-04T00:00:00+05:30",
          "2024-01-05T00:00:00+05:30",
          "2024-01-08T00:00:00+05:30",
          "2024-01-09T00:00:00+05:30",
          "2024-01-10T00:00:00+05:30",
          "2024-01-11T00:00:00+05:30",
          "2024-01-12T00:00:00+05:30",
          "2024-01-15T00:00:00+05:30",
          "2024-01-16T00:00:00+05:30",
          "2024-01-17T00:00:00+05:30",
          "2024-01-18T00:00:00+05:30",
          "2024-01-19T00:00:00+05:30",
          "2024-01-23T00:00:00+05:30",
          "2024-01-24T00:00:00+05:30",
          "2024-01-25T00:00:00+05:30",
          "2024-01-29T00:00:00+05:30",
          "2024-01-30T00:00:00+05:30",
          "2024-01-31T00:00:00+05:30",
          "2024-02-01T00:00:00+05:30",
          "2024-02-02T00:00:00+05:30",
          "2024-02-05T00:00:00+05:30",
          "2024-02-06T00:00:00+05:30",
          "2024-02-07T00:00:00+05:30",
          "2024-02-08T00:00:00+05:30",
          "2024-02-09T00:00:00+05:30",
          "2024-02-12T00:00:00+05:30",
          "2024-02-13T00:00:00+05:30",
          "2024-02-14T00:00:00+05:30",
          "2024-02-15T00:00:00+05:30",
          "2024-02-16T00:00:00+05:30",
          "2024-02-19T00:00:00+05:30",
          "2024-02-20T00:00:00+05:30",
          "2024-02-21T00:00:00+05:30",
          "2024-02-22T00:00:00+05:30",
          "2024-02-23T00:00:00+05:30",
          "2024-02-26T00:00:00+05:30",
          "2024-02-27T00:00:00+05:30",
          "2024-02-28T00:00:00+05:30",
          "2024-02-29T00:00:00+05:30",
          "2024-03-01T00:00:00+05:30",
          "2024-03-04T00:00:00+05:30",
          "2024-03-05T00:00:00+05:30",
          "2024-03-06T00:00:00+05:30",
          "2024-03-07T00:00:00+05:30",
          "2024-03-11T00:00:00+05:30",
          "2024-03-12T00:00:00+05:30",
          "2024-03-13T00:00:00+05:30",
          "2024-03-14T00:00:00+05:30",
          "2024-03-15T00:00:00+05:30",
          "2024-03-18T00:00:00+05:30",
          "2024-03-19T00:00:00+05:30",
          "2024-03-20T00:00:00+05:30",
          "2024-03-21T00:00:00+05:30",
          "2024-03-22T00:00:00+05:30",
          "2024-03-26T00:00:00+05:30",
          "2024-03-27T00:00:00+05:30",
          "2024-03-28T00:00:00+05:30",
          "2024-04-01T00:00:00+05:30",
          "2024-04-02T00:00:00+05:30",
          "2024-04-03T00:00:00+05:30",
          "2024-04-04T00:00:00+05:30",
          "2024-04-05T00:00:00+05:30",
          "2024-04-08T00:00:00+05:30",
          "2024-04-09T00:00:00+05:30",
          "2024-04-10T00:00:00+05:30",
          "2024-04-12T00:00:00+05:30",
          "2024-04-15T00:00:00+05:30",
          "2024-04-16T00:00:00+05:30",
          "2024-04-18T00:00:00+05:30",
          "2024-04-19T00:00:00+05:30",
          "2024-04-22T00:00:00+05:30",
          "2024-04-23T00:00:00+05:30",
          "2024-04-24T00:00:00+05:30",
          "2024-04-25T00:00:00+05:30",
          "2024-04-26T00:00:00+05:30",
          "2024-04-29T00:00:00+05:30",
          "2024-04-30T00:00:00+05:30",
          "2024-05-02T00:00:00+05:30",
          "2024-05-03T00:00:00+05:30",
          "2024-05-06T00:00:00+05:30",
          "2024-05-07T00:00:00+05:30",
          "2024-05-08T00:00:00+05:30",
          "2024-05-09T00:00:00+05:30",
          "2024-05-10T00:00:00+05:30",
          "2024-05-13T00:00:00+05:30",
          "2024-05-14T00:00:00+05:30",
          "2024-05-15T00:00:00+05:30",
          "2024-05-16T00:00:00+05:30",
          "2024-05-17T00:00:00+05:30",
          "2024-05-21T00:00:00+05:30",
          "2024-05-22T00:00:00+05:30",
          "2024-05-23T00:00:00+05:30",
          "2024-05-24T00:00:00+05:30",
          "2024-05-27T00:00:00+05:30",
          "2024-05-28T00:00:00+05:30",
          "2024-05-29T00:00:00+05:30",
          "2024-05-30T00:00:00+05:30",
          "2024-05-31T00:00:00+05:30",
          "2024-06-03T00:00:00+05:30",
          "2024-06-04T00:00:00+05:30",
          "2024-06-05T00:00:00+05:30",
          "2024-06-06T00:00:00+05:30",
          "2024-06-07T00:00:00+05:30",
          "2024-06-10T00:00:00+05:30",
          "2024-06-11T00:00:00+05:30",
          "2024-06-12T00:00:00+05:30",
          "2024-06-13T00:00:00+05:30",
          "2024-06-14T00:00:00+05:30",
          "2024-06-18T00:00:00+05:30",
          "2024-06-19T00:00:00+05:30",
          "2024-06-20T00:00:00+05:30",
          "2024-06-21T00:00:00+05:30",
          "2024-06-24T00:00:00+05:30",
          "2024-06-25T00:00:00+05:30",
          "2024-06-26T00:00:00+05:30",
          "2024-06-27T00:00:00+05:30",
          "2024-06-28T00:00:00+05:30",
          "2024-07-01T00:00:00+05:30",
          "2024-07-02T00:00:00+05:30",
          "2024-07-03T00:00:00+05:30",
          "2024-07-04T00:00:00+05:30",
          "2024-07-05T00:00:00+05:30",
          "2024-07-08T00:00:00+05:30",
          "2024-07-09T00:00:00+05:30",
          "2024-07-10T00:00:00+05:30",
          "2024-07-11T00:00:00+05:30",
          "2024-07-12T00:00:00+05:30",
          "2024-07-15T00:00:00+05:30",
          "2024-07-16T00:00:00+05:30",
          "2024-07-18T00:00:00+05:30",
          "2024-07-19T00:00:00+05:30",
          "2024-07-22T00:00:00+05:30",
          "2024-07-23T00:00:00+05:30",
          "2024-07-24T00:00:00+05:30",
          "2024-07-25T00:00:00+05:30",
          "2024-07-26T00:00:00+05:30",
          "2024-07-29T00:00:00+05:30",
          "2024-07-30T00:00:00+05:30",
          "2024-07-31T00:00:00+05:30",
          "2024-08-01T00:00:00+05:30",
          "2024-08-02T00:00:00+05:30",
          "2024-08-05T00:00:00+05:30",
          "2024-08-06T00:00:00+05:30",
          "2024-08-07T00:00:00+05:30",
          "2024-08-08T00:00:00+05:30",
          "2024-08-09T00:00:00+05:30",
          "2024-08-12T00:00:00+05:30",
          "2024-08-13T00:00:00+05:30",
          "2024-08-14T00:00:00+05:30",
          "2024-08-16T00:00:00+05:30",
          "2024-08-19T00:00:00+05:30",
          "2024-08-20T00:00:00+05:30",
          "2024-08-21T00:00:00+05:30",
          "2024-08-22T00:00:00+05:30",
          "2024-08-23T00:00:00+05:30",
          "2024-08-26T00:00:00+05:30",
          "2024-08-27T00:00:00+05:30",
          "2024-08-28T00:00:00+05:30",
          "2024-08-29T00:00:00+05:30",
          "2024-08-30T00:00:00+05:30",
          "2024-09-02T00:00:00+05:30",
          "2024-09-03T00:00:00+05:30",
          "2024-09-04T00:00:00+05:30",
          "2024-09-05T00:00:00+05:30",
          "2024-09-06T00:00:00+05:30",
          "2024-09-09T00:00:00+05:30",
          "2024-09-10T00:00:00+05:30",
          "2024-09-11T00:00:00+05:30",
          "2024-09-12T00:00:00+05:30",
          "2024-09-13T00:00:00+05:30",
          "2024-09-16T00:00:00+05:30",
          "2024-09-17T00:00:00+05:30",
          "2024-09-18T00:00:00+05:30",
          "2024-09-19T00:00:00+05:30",
          "2024-09-20T00:00:00+05:30",
          "2024-09-23T00:00:00+05:30",
          "2024-09-24T00:00:00+05:30",
          "2024-09-25T00:00:00+05:30",
          "2024-09-26T00:00:00+05:30",
          "2024-09-27T00:00:00+05:30",
          "2024-09-30T00:00:00+05:30",
          "2024-10-01T00:00:00+05:30",
          "2024-10-03T00:00:00+05:30",
          "2024-10-04T00:00:00+05:30",
          "2024-10-07T00:00:00+05:30",
          "2024-10-08T00:00:00+05:30",
          "2024-10-09T00:00:00+05:30",
          "2024-10-10T00:00:00+05:30"
         ],
         "y": [
          1455.36376953125,
          1454.6337890625,
          1426.5028076171875,
          1393.06689453125,
          1395.987060546875,
          1404.066162109375,
          1402.216796875,
          1395.5003662109375,
          1389.270751953125,
          1371.1656494140625,
          1350.854248046875,
          1340.4027099609375,
          1361.0098876953125,
          1357.7562255859375,
          1349.227294921875,
          1335.177001953125,
          1350.9527587890625,
          1369.5880126953125,
          1383.638427734375,
          1384.6243896484375,
          1371.5106201171875,
          1355.5377197265625,
          1349.6710205078125,
          1354.30517578125,
          1390.7374267578125,
          1424.655517578125,
          1417.408447265625,
          1416.4716796875,
          1418.838134765625,
          1437.374755859375,
          1428.944580078125,
          1417.2606201171875,
          1422.4862060546875,
          1439.1495361328125,
          1434.7618408203125,
          1431.9517822265625,
          1443.8328857421875,
          1433.57861328125,
          1453.6435546875,
          1445.3612060546875,
          1470.2574462890625,
          1467.64453125,
          1455.3690185546875,
          1428.697998046875,
          1480.4130859375,
          1556.2850341796875,
          1542.431884765625,
          1536.4666748046875,
          1514.87353515625,
          1514.47900390625,
          1541.002197265625,
          1522.317626953125,
          1545.143310546875,
          1540.7557373046875,
          1521.282470703125,
          1529.614013671875,
          1512.9014892578125,
          1469.12353515625,
          1491.5054931640625,
          1511.077392578125,
          1501.464111328125,
          1507.873046875,
          1498.6046142578125,
          1473.2646484375,
          1590.1536865234375,
          1628.952392578125,
          1608.6903076171875,
          1617.2191162109375,
          1619.58544921875,
          1635.952880859375,
          1619.141845703125,
          1651.9259033203125,
          1645.7142333984375,
          1633.3892822265625,
          1628.3114013671875,
          1637.629150390625,
          1633.8331298828125,
          1669.6243896484375,
          1663.560546875,
          1705.2186279296875,
          1670.018798828125,
          1668.3919677734375,
          1645.960693359375,
          1656.56005859375,
          1660.94775390625,
          1642.854736328125,
          1652.862548828125,
          1677.80810546875,
          1675.934814453125,
          1661.637939453125,
          1632.3541259765625,
          1657.79248046875,
          1653.3555908203125,
          1636.8896484375,
          1640.291259765625,
          1647.8341064453125,
          1650.447021484375,
          1631.515869140625,
          1614.2611083984375,
          1583.9913330078125,
          1594.886474609375,
          1593.8018798828125,
          1578.1739501953125,
          1590.350830078125,
          1588.8226318359375,
          1630.1356201171875,
          1611.10595703125,
          1580.1953125,
          1539.5723876953125,
          1533.1634521484375,
          1532.9169921875,
          1487.70947265625,
          1471.7364501953125,
          1463.0596923828125,
          1477.060791015625,
          1474.4971923828125,
          1462.07373046875,
          1459.904541015625,
          1465.8697509765625,
          1458.376220703125,
          1456.0098876953125,
          1473.9056396484375,
          1485.688232421875,
          1463.9471435546875,
          1447.5797119140625,
          1394.632080078125,
          1399.3648681640625,
          1391.4769287109375,
          1412.6756591796875,
          1422.1905517578125,
          1410.7037353515625,
          1418.2957763671875,
          1410.210693359375,
          1414.647705078125,
          1400.646728515625,
          1394.632080078125,
          1396.4561767578125,
          1405.9217529296875,
          1420.7607421875,
          1407.3021240234375,
          1419.3804931640625,
          1404.9356689453125,
          1403.5059814453125,
          1404.7384033203125,
          1400.0550537109375,
          1432.987060546875,
          1424.06396484375,
          1414.05615234375,
          1434.416748046875,
          1451.7701416015625,
          1444.5723876953125,
          1450.73486328125,
          1446.4951171875,
          1430.62060546875,
          1407.449951171875,
          1406.9000244140625,
          1405.9000244140625,
          1393.6500244140625,
          1430.0999755859375,
          1472.25,
          1533.5999755859375,
          1499.75,
          1495.75,
          1485.199951171875,
          1493.949951171875,
          1488.9000244140625,
          1498.199951171875,
          1511.3499755859375,
          1515.4000244140625,
          1532.699951171875,
          1527.1500244140625,
          1541.949951171875,
          1540.699951171875,
          1573.3499755859375,
          1566.75,
          1590.800048828125,
          1621.050048828125,
          1627.4000244140625,
          1650.6500244140625,
          1647.449951171875,
          1661.6500244140625,
          1657.1500244140625,
          1648.25,
          1652.699951171875,
          1711.75,
          1707.050048828125,
          1726.050048828125,
          1758.050048828125,
          1792.949951171875,
          1810.8499755859375,
          1836.9000244140625,
          1833.949951171875,
          1824.8499755859375,
          1878.9000244140625,
          1871.0999755859375,
          1877.1500244140625,
          1868.25,
          1852.5999755859375,
          1821.199951171875,
          1751.9000244140625,
          1751.0999755859375,
          1791.6500244140625,
          1743.1500244140625,
          1770.75,
          1797.4000244140625,
          1797.449951171875,
          1823.25,
          1858.949951171875,
          1864.800048828125,
          1872.199951171875,
          1872.699951171875,
          1880.25,
          1862.0999755859375,
          1876.1500244140625,
          1900.0999755859375,
          1939.0999755859375,
          1933.3499755859375,
          1943.699951171875,
          1964.5,
          1941.25,
          1922.449951171875,
          1933.1500244140625,
          1901.8499755859375,
          1894.6500244140625,
          1912.300048828125,
          1910.1500244140625,
          1950.449951171875,
          1944.0999755859375,
          1950.25,
          1952.550048828125,
          1892.1500244140625,
          1894.199951171875,
          1905.75,
          1896.449951171875,
          1898.5999755859375,
          1895.300048828125,
          1900.25,
          1906.75,
          1875.5999755859375,
          1904.3499755859375,
          1893.4000244140625,
          1918.1500244140625,
          1934.300048828125,
          1948.550048828125,
          1952.75,
          1927.050048828125
         ]
        },
        {
         "line": {
          "color": "#FF4136",
          "dash": "dot",
          "width": 2
         },
         "mode": "lines",
         "name": "200% (2029.9)",
         "type": "scatter",
         "x": [
          "2023-10-10T00:00:00+05:30",
          "2024-10-10T00:00:00+05:30"
         ],
         "y": [
          2029.9000244140625,
          2029.9000244140625
         ]
        },
        {
         "line": {
          "color": "#FF851B",
          "dash": "dot",
          "width": 2
         },
         "mode": "lines",
         "name": "161.8% (2000.43)",
         "type": "scatter",
         "x": [
          "2023-10-10T00:00:00+05:30",
          "2024-10-10T00:00:00+05:30"
         ],
         "y": [
          2000.4287150878906,
          2000.4287150878906
         ]
        },
        {
         "line": {
          "color": "#FFDC00",
          "dash": "dot",
          "width": 2
         },
         "mode": "lines",
         "name": "150% (1991.33)",
         "type": "scatter",
         "x": [
          "2023-10-10T00:00:00+05:30",
          "2024-10-10T00:00:00+05:30"
         ],
         "y": [
          1991.3250122070312,
          1991.3250122070312
         ]
        },
        {
         "line": {
          "color": "#2ECC40",
          "dash": "dot",
          "width": 2
         },
         "mode": "lines",
         "name": "138.2% (1982.22)",
         "type": "scatter",
         "x": [
          "2023-10-10T00:00:00+05:30",
          "2024-10-10T00:00:00+05:30"
         ],
         "y": [
          1982.2213093261719,
          1982.2213093261719
         ]
        },
        {
         "line": {
          "color": "#0074D9",
          "dash": "dot",
          "width": 2
         },
         "mode": "lines",
         "name": "123.6% (1970.96)",
         "type": "scatter",
         "x": [
          "2023-10-10T00:00:00+05:30",
          "2024-10-10T00:00:00+05:30"
         ],
         "y": [
          1970.9574057617187,
          1970.9574057617187
         ]
        },
        {
         "line": {
          "color": "#B10DC9",
          "dash": "dash",
          "width": 2
         },
         "mode": "lines",
         "name": "23.6% (1934.54)",
         "type": "scatter",
         "x": [
          "2023-10-10T00:00:00+05:30",
          "2024-10-10T00:00:00+05:30"
         ],
         "y": [
          1934.5425942382813,
          1934.5425942382813
         ]
        },
        {
         "line": {
          "color": "#F012BE",
          "dash": "dash",
          "width": 2
         },
         "mode": "lines",
         "name": "38.2% (1923.28)",
         "type": "scatter",
         "x": [
          "2023-10-10T00:00:00+05:30",
          "2024-10-10T00:00:00+05:30"
         ],
         "y": [
          1923.2786906738281,
          1923.2786906738281
         ]
        },
        {
         "line": {
          "color": "#85144b",
          "dash": "dash",
          "width": 2
         },
         "mode": "lines",
         "name": "50% (1914.17)",
         "type": "scatter",
         "x": [
          "2023-10-10T00:00:00+05:30",
          "2024-10-10T00:00:00+05:30"
         ],
         "y": [
          1914.1749877929688,
          1914.1749877929688
         ]
        },
        {
         "line": {
          "color": "#001f3f",
          "dash": "dash",
          "width": 2
         },
         "mode": "lines",
         "name": "61.8% (1905.07)",
         "type": "scatter",
         "x": [
          "2023-10-10T00:00:00+05:30",
          "2024-10-10T00:00:00+05:30"
         ],
         "y": [
          1905.0712849121094,
          1905.0712849121094
         ]
        },
        {
         "line": {
          "color": "#39CCCC",
          "dash": "dash",
          "width": 2
         },
         "mode": "lines",
         "name": "78.6% (1892.11)",
         "type": "scatter",
         "x": [
          "2023-10-10T00:00:00+05:30",
          "2024-10-10T00:00:00+05:30"
         ],
         "y": [
          1892.1100808105468,
          1892.1100808105468
         ]
        }
       ],
       "layout": {
        "annotations": [
         {
          "bgcolor": "white",
          "bordercolor": "#FF4136",
          "borderpad": 4,
          "borderwidth": 2,
          "font": {
           "color": "#FF4136",
           "size": 10
          },
          "opacity": 0.8,
          "showarrow": false,
          "text": "200% (2029.9)",
          "x": "2024-10-10T00:00:00+05:30",
          "xanchor": "left",
          "xshift": 10,
          "y": 2029.9000244140625
         },
         {
          "bgcolor": "white",
          "bordercolor": "#FF851B",
          "borderpad": 4,
          "borderwidth": 2,
          "font": {
           "color": "#FF851B",
           "size": 10
          },
          "opacity": 0.8,
          "showarrow": false,
          "text": "161.8% (2000.43)",
          "x": "2024-10-10T00:00:00+05:30",
          "xanchor": "left",
          "xshift": 10,
          "y": 2000.4287150878906
         },
         {
          "bgcolor": "white",
          "bordercolor": "#FFDC00",
          "borderpad": 4,
          "borderwidth": 2,
          "font": {
           "color": "#FFDC00",
           "size": 10
          },
          "opacity": 0.8,
          "showarrow": false,
          "text": "150% (1991.33)",
          "x": "2024-10-10T00:00:00+05:30",
          "xanchor": "left",
          "xshift": 10,
          "y": 1991.3250122070312
         },
         {
          "bgcolor": "white",
          "bordercolor": "#2ECC40",
          "borderpad": 4,
          "borderwidth": 2,
          "font": {
           "color": "#2ECC40",
           "size": 10
          },
          "opacity": 0.8,
          "showarrow": false,
          "text": "138.2% (1982.22)",
          "x": "2024-10-10T00:00:00+05:30",
          "xanchor": "left",
          "xshift": 10,
          "y": 1982.2213093261719
         },
         {
          "bgcolor": "white",
          "bordercolor": "#0074D9",
          "borderpad": 4,
          "borderwidth": 2,
          "font": {
           "color": "#0074D9",
           "size": 10
          },
          "opacity": 0.8,
          "showarrow": false,
          "text": "123.6% (1970.96)",
          "x": "2024-10-10T00:00:00+05:30",
          "xanchor": "left",
          "xshift": 10,
          "y": 1970.9574057617187
         },
         {
          "bgcolor": "white",
          "bordercolor": "#B10DC9",
          "borderpad": 4,
          "borderwidth": 2,
          "font": {
           "color": "#B10DC9",
           "size": 10
          },
          "opacity": 0.8,
          "showarrow": false,
          "text": "23.6% (1934.54)",
          "x": "2024-10-10T00:00:00+05:30",
          "xanchor": "left",
          "xshift": 10,
          "y": 1934.5425942382813
         },
         {
          "bgcolor": "white",
          "bordercolor": "#F012BE",
          "borderpad": 4,
          "borderwidth": 2,
          "font": {
           "color": "#F012BE",
           "size": 10
          },
          "opacity": 0.8,
          "showarrow": false,
          "text": "38.2% (1923.28)",
          "x": "2024-10-10T00:00:00+05:30",
          "xanchor": "left",
          "xshift": 10,
          "y": 1923.2786906738281
         },
         {
          "bgcolor": "white",
          "bordercolor": "#85144b",
          "borderpad": 4,
          "borderwidth": 2,
          "font": {
           "color": "#85144b",
           "size": 10
          },
          "opacity": 0.8,
          "showarrow": false,
          "text": "50% (1914.17)",
          "x": "2024-10-10T00:00:00+05:30",
          "xanchor": "left",
          "xshift": 10,
          "y": 1914.1749877929688
         },
         {
          "bgcolor": "white",
          "bordercolor": "#001f3f",
          "borderpad": 4,
          "borderwidth": 2,
          "font": {
           "color": "#001f3f",
           "size": 10
          },
          "opacity": 0.8,
          "showarrow": false,
          "text": "61.8% (1905.07)",
          "x": "2024-10-10T00:00:00+05:30",
          "xanchor": "left",
          "xshift": 10,
          "y": 1905.0712849121094
         },
         {
          "bgcolor": "white",
          "bordercolor": "#39CCCC",
          "borderpad": 4,
          "borderwidth": 2,
          "font": {
           "color": "#39CCCC",
           "size": 10
          },
          "opacity": 0.8,
          "showarrow": false,
          "text": "78.6% (1892.11)",
          "x": "2024-10-10T00:00:00+05:30",
          "xanchor": "left",
          "xshift": 10,
          "y": 1892.1100808105468
         }
        ],
        "hovermode": "x unified",
        "legend": {
         "title": {
          "text": "Levels"
         }
        },
        "showlegend": true,
        "template": {
         "data": {
          "bar": [
           {
            "error_x": {
             "color": "#2a3f5f"
            },
            "error_y": {
             "color": "#2a3f5f"
            },
            "marker": {
             "line": {
              "color": "#E5ECF6",
              "width": 0.5
             },
             "pattern": {
              "fillmode": "overlay",
              "size": 10,
              "solidity": 0.2
             }
            },
            "type": "bar"
           }
          ],
          "barpolar": [
           {
            "marker": {
             "line": {
              "color": "#E5ECF6",
              "width": 0.5
             },
             "pattern": {
              "fillmode": "overlay",
              "size": 10,
              "solidity": 0.2
             }
            },
            "type": "barpolar"
           }
          ],
          "carpet": [
           {
            "aaxis": {
             "endlinecolor": "#2a3f5f",
             "gridcolor": "white",
             "linecolor": "white",
             "minorgridcolor": "white",
             "startlinecolor": "#2a3f5f"
            },
            "baxis": {
             "endlinecolor": "#2a3f5f",
             "gridcolor": "white",
             "linecolor": "white",
             "minorgridcolor": "white",
             "startlinecolor": "#2a3f5f"
            },
            "type": "carpet"
           }
          ],
          "choropleth": [
           {
            "colorbar": {
             "outlinewidth": 0,
             "ticks": ""
            },
            "type": "choropleth"
           }
          ],
          "contour": [
           {
            "colorbar": {
             "outlinewidth": 0,
             "ticks": ""
            },
            "colorscale": [
             [
              0,
              "#0d0887"
             ],
             [
              0.1111111111111111,
              "#46039f"
             ],
             [
              0.2222222222222222,
              "#7201a8"
             ],
             [
              0.3333333333333333,
              "#9c179e"
             ],
             [
              0.4444444444444444,
              "#bd3786"
             ],
             [
              0.5555555555555556,
              "#d8576b"
             ],
             [
              0.6666666666666666,
              "#ed7953"
             ],
             [
              0.7777777777777778,
              "#fb9f3a"
             ],
             [
              0.8888888888888888,
              "#fdca26"
             ],
             [
              1,
              "#f0f921"
             ]
            ],
            "type": "contour"
           }
          ],
          "contourcarpet": [
           {
            "colorbar": {
             "outlinewidth": 0,
             "ticks": ""
            },
            "type": "contourcarpet"
           }
          ],
          "heatmap": [
           {
            "colorbar": {
             "outlinewidth": 0,
             "ticks": ""
            },
            "colorscale": [
             [
              0,
              "#0d0887"
             ],
             [
              0.1111111111111111,
              "#46039f"
             ],
             [
              0.2222222222222222,
              "#7201a8"
             ],
             [
              0.3333333333333333,
              "#9c179e"
             ],
             [
              0.4444444444444444,
              "#bd3786"
             ],
             [
              0.5555555555555556,
              "#d8576b"
             ],
             [
              0.6666666666666666,
              "#ed7953"
             ],
             [
              0.7777777777777778,
              "#fb9f3a"
             ],
             [
              0.8888888888888888,
              "#fdca26"
             ],
             [
              1,
              "#f0f921"
             ]
            ],
            "type": "heatmap"
           }
          ],
          "heatmapgl": [
           {
            "colorbar": {
             "outlinewidth": 0,
             "ticks": ""
            },
            "colorscale": [
             [
              0,
              "#0d0887"
             ],
             [
              0.1111111111111111,
              "#46039f"
             ],
             [
              0.2222222222222222,
              "#7201a8"
             ],
             [
              0.3333333333333333,
              "#9c179e"
             ],
             [
              0.4444444444444444,
              "#bd3786"
             ],
             [
              0.5555555555555556,
              "#d8576b"
             ],
             [
              0.6666666666666666,
              "#ed7953"
             ],
             [
              0.7777777777777778,
              "#fb9f3a"
             ],
             [
              0.8888888888888888,
              "#fdca26"
             ],
             [
              1,
              "#f0f921"
             ]
            ],
            "type": "heatmapgl"
           }
          ],
          "histogram": [
           {
            "marker": {
             "pattern": {
              "fillmode": "overlay",
              "size": 10,
              "solidity": 0.2
             }
            },
            "type": "histogram"
           }
          ],
          "histogram2d": [
           {
            "colorbar": {
             "outlinewidth": 0,
             "ticks": ""
            },
            "colorscale": [
             [
              0,
              "#0d0887"
             ],
             [
              0.1111111111111111,
              "#46039f"
             ],
             [
              0.2222222222222222,
              "#7201a8"
             ],
             [
              0.3333333333333333,
              "#9c179e"
             ],
             [
              0.4444444444444444,
              "#bd3786"
             ],
             [
              0.5555555555555556,
              "#d8576b"
             ],
             [
              0.6666666666666666,
              "#ed7953"
             ],
             [
              0.7777777777777778,
              "#fb9f3a"
             ],
             [
              0.8888888888888888,
              "#fdca26"
             ],
             [
              1,
              "#f0f921"
             ]
            ],
            "type": "histogram2d"
           }
          ],
          "histogram2dcontour": [
           {
            "colorbar": {
             "outlinewidth": 0,
             "ticks": ""
            },
            "colorscale": [
             [
              0,
              "#0d0887"
             ],
             [
              0.1111111111111111,
              "#46039f"
             ],
             [
              0.2222222222222222,
              "#7201a8"
             ],
             [
              0.3333333333333333,
              "#9c179e"
             ],
             [
              0.4444444444444444,
              "#bd3786"
             ],
             [
              0.5555555555555556,
              "#d8576b"
             ],
             [
              0.6666666666666666,
              "#ed7953"
             ],
             [
              0.7777777777777778,
              "#fb9f3a"
             ],
             [
              0.8888888888888888,
              "#fdca26"
             ],
             [
              1,
              "#f0f921"
             ]
            ],
            "type": "histogram2dcontour"
           }
          ],
          "mesh3d": [
           {
            "colorbar": {
             "outlinewidth": 0,
             "ticks": ""
            },
            "type": "mesh3d"
           }
          ],
          "parcoords": [
           {
            "line": {
             "colorbar": {
              "outlinewidth": 0,
              "ticks": ""
             }
            },
            "type": "parcoords"
           }
          ],
          "pie": [
           {
            "automargin": true,
            "type": "pie"
           }
          ],
          "scatter": [
           {
            "fillpattern": {
             "fillmode": "overlay",
             "size": 10,
             "solidity": 0.2
            },
            "type": "scatter"
           }
          ],
          "scatter3d": [
           {
            "line": {
             "colorbar": {
              "outlinewidth": 0,
              "ticks": ""
             }
            },
            "marker": {
             "colorbar": {
              "outlinewidth": 0,
              "ticks": ""
             }
            },
            "type": "scatter3d"
           }
          ],
          "scattercarpet": [
           {
            "marker": {
             "colorbar": {
              "outlinewidth": 0,
              "ticks": ""
             }
            },
            "type": "scattercarpet"
           }
          ],
          "scattergeo": [
           {
            "marker": {
             "colorbar": {
              "outlinewidth": 0,
              "ticks": ""
             }
            },
            "type": "scattergeo"
           }
          ],
          "scattergl": [
           {
            "marker": {
             "colorbar": {
              "outlinewidth": 0,
              "ticks": ""
             }
            },
            "type": "scattergl"
           }
          ],
          "scattermapbox": [
           {
            "marker": {
             "colorbar": {
              "outlinewidth": 0,
              "ticks": ""
             }
            },
            "type": "scattermapbox"
           }
          ],
          "scatterpolar": [
           {
            "marker": {
             "colorbar": {
              "outlinewidth": 0,
              "ticks": ""
             }
            },
            "type": "scatterpolar"
           }
          ],
          "scatterpolargl": [
           {
            "marker": {
             "colorbar": {
              "outlinewidth": 0,
              "ticks": ""
             }
            },
            "type": "scatterpolargl"
           }
          ],
          "scatterternary": [
           {
            "marker": {
             "colorbar": {
              "outlinewidth": 0,
              "ticks": ""
             }
            },
            "type": "scatterternary"
           }
          ],
          "surface": [
           {
            "colorbar": {
             "outlinewidth": 0,
             "ticks": ""
            },
            "colorscale": [
             [
              0,
              "#0d0887"
             ],
             [
              0.1111111111111111,
              "#46039f"
             ],
             [
              0.2222222222222222,
              "#7201a8"
             ],
             [
              0.3333333333333333,
              "#9c179e"
             ],
             [
              0.4444444444444444,
              "#bd3786"
             ],
             [
              0.5555555555555556,
              "#d8576b"
             ],
             [
              0.6666666666666666,
              "#ed7953"
             ],
             [
              0.7777777777777778,
              "#fb9f3a"
             ],
             [
              0.8888888888888888,
              "#fdca26"
             ],
             [
              1,
              "#f0f921"
             ]
            ],
            "type": "surface"
           }
          ],
          "table": [
           {
            "cells": {
             "fill": {
              "color": "#EBF0F8"
             },
             "line": {
              "color": "white"
             }
            },
            "header": {
             "fill": {
              "color": "#C8D4E3"
             },
             "line": {
              "color": "white"
             }
            },
            "type": "table"
           }
          ]
         },
         "layout": {
          "annotationdefaults": {
           "arrowcolor": "#2a3f5f",
           "arrowhead": 0,
           "arrowwidth": 1
          },
          "autotypenumbers": "strict",
          "coloraxis": {
           "colorbar": {
            "outlinewidth": 0,
            "ticks": ""
           }
          },
          "colorscale": {
           "diverging": [
            [
             0,
             "#8e0152"
            ],
            [
             0.1,
             "#c51b7d"
            ],
            [
             0.2,
             "#de77ae"
            ],
            [
             0.3,
             "#f1b6da"
            ],
            [
             0.4,
             "#fde0ef"
            ],
            [
             0.5,
             "#f7f7f7"
            ],
            [
             0.6,
             "#e6f5d0"
            ],
            [
             0.7,
             "#b8e186"
            ],
            [
             0.8,
             "#7fbc41"
            ],
            [
             0.9,
             "#4d9221"
            ],
            [
             1,
             "#276419"
            ]
           ],
           "sequential": [
            [
             0,
             "#0d0887"
            ],
            [
             0.1111111111111111,
             "#46039f"
            ],
            [
             0.2222222222222222,
             "#7201a8"
            ],
            [
             0.3333333333333333,
             "#9c179e"
            ],
            [
             0.4444444444444444,
             "#bd3786"
            ],
            [
             0.5555555555555556,
             "#d8576b"
            ],
            [
             0.6666666666666666,
             "#ed7953"
            ],
            [
             0.7777777777777778,
             "#fb9f3a"
            ],
            [
             0.8888888888888888,
             "#fdca26"
            ],
            [
             1,
             "#f0f921"
            ]
           ],
           "sequentialminus": [
            [
             0,
             "#0d0887"
            ],
            [
             0.1111111111111111,
             "#46039f"
            ],
            [
             0.2222222222222222,
             "#7201a8"
            ],
            [
             0.3333333333333333,
             "#9c179e"
            ],
            [
             0.4444444444444444,
             "#bd3786"
            ],
            [
             0.5555555555555556,
             "#d8576b"
            ],
            [
             0.6666666666666666,
             "#ed7953"
            ],
            [
             0.7777777777777778,
             "#fb9f3a"
            ],
            [
             0.8888888888888888,
             "#fdca26"
            ],
            [
             1,
             "#f0f921"
            ]
           ]
          },
          "colorway": [
           "#636efa",
           "#EF553B",
           "#00cc96",
           "#ab63fa",
           "#FFA15A",
           "#19d3f3",
           "#FF6692",
           "#B6E880",
           "#FF97FF",
           "#FECB52"
          ],
          "font": {
           "color": "#2a3f5f"
          },
          "geo": {
           "bgcolor": "white",
           "lakecolor": "white",
           "landcolor": "#E5ECF6",
           "showlakes": true,
           "showland": true,
           "subunitcolor": "white"
          },
          "hoverlabel": {
           "align": "left"
          },
          "hovermode": "closest",
          "mapbox": {
           "style": "light"
          },
          "paper_bgcolor": "white",
          "plot_bgcolor": "#E5ECF6",
          "polar": {
           "angularaxis": {
            "gridcolor": "white",
            "linecolor": "white",
            "ticks": ""
           },
           "bgcolor": "#E5ECF6",
           "radialaxis": {
            "gridcolor": "white",
            "linecolor": "white",
            "ticks": ""
           }
          },
          "scene": {
           "xaxis": {
            "backgroundcolor": "#E5ECF6",
            "gridcolor": "white",
            "gridwidth": 2,
            "linecolor": "white",
            "showbackground": true,
            "ticks": "",
            "zerolinecolor": "white"
           },
           "yaxis": {
            "backgroundcolor": "#E5ECF6",
            "gridcolor": "white",
            "gridwidth": 2,
            "linecolor": "white",
            "showbackground": true,
            "ticks": "",
            "zerolinecolor": "white"
           },
           "zaxis": {
            "backgroundcolor": "#E5ECF6",
            "gridcolor": "white",
            "gridwidth": 2,
            "linecolor": "white",
            "showbackground": true,
            "ticks": "",
            "zerolinecolor": "white"
           }
          },
          "shapedefaults": {
           "line": {
            "color": "#2a3f5f"
           }
          },
          "ternary": {
           "aaxis": {
            "gridcolor": "white",
            "linecolor": "white",
            "ticks": ""
           },
           "baxis": {
            "gridcolor": "white",
            "linecolor": "white",
            "ticks": ""
           },
           "bgcolor": "#E5ECF6",
           "caxis": {
            "gridcolor": "white",
            "linecolor": "white",
            "ticks": ""
           }
          },
          "title": {
           "x": 0.05
          },
          "xaxis": {
           "automargin": true,
           "gridcolor": "white",
           "linecolor": "white",
           "ticks": "",
           "title": {
            "standoff": 15
           },
           "zerolinecolor": "white",
           "zerolinewidth": 2
          },
          "yaxis": {
           "automargin": true,
           "gridcolor": "white",
           "linecolor": "white",
           "ticks": "",
           "title": {
            "standoff": 15
           },
           "zerolinecolor": "white",
           "zerolinewidth": 2
          }
         }
        },
        "title": {
         "text": "Fibonacci Retracement and Extension Levels"
        },
        "xaxis": {
         "anchor": "y",
         "domain": [
          0,
          0.94
         ],
         "range": [
          "2024-01-16T00:00:00+05:30",
          "2024-10-30T00:00:00+05:30"
         ],
         "tickangle": 45,
         "tickformat": "%d %b %y",
         "tickmode": "array",
         "ticktext": [
          "01 Feb 24",
          "01 Mar 24",
          "01 Apr 24",
          "01 May 24",
          "01 Jun 24",
          "01 Jul 24",
          "01 Aug 24",
          "01 Sep 24",
          "01 Oct 24"
         ],
         "tickvals": [
          "2024-02-01T00:00:00+05:30",
          "2024-03-01T00:00:00+05:30",
          "2024-04-01T00:00:00+05:30",
          "2024-05-01T00:00:00+05:30",
          "2024-06-01T00:00:00+05:30",
          "2024-07-01T00:00:00+05:30",
          "2024-08-01T00:00:00+05:30",
          "2024-09-01T00:00:00+05:30",
          "2024-10-01T00:00:00+05:30"
         ],
         "title": {
          "text": "Date"
         }
        },
        "yaxis": {
         "anchor": "x",
         "domain": [
          0,
          1
         ],
         "tickformat": ".2f",
         "title": {
          "text": "Price"
         }
        },
        "yaxis2": {
         "anchor": "x",
         "overlaying": "y",
         "side": "right",
         "tickformat": ".2f"
        }
       }
      },
      "text/html": [
       "<div>                            <div id=\"16a443b7-7981-4911-9f18-b9ac67614911\" class=\"plotly-graph-div\" style=\"height:525px; width:100%;\"></div>            <script type=\"text/javascript\">                require([\"plotly\"], function(Plotly) {                    window.PLOTLYENV=window.PLOTLYENV || {};                                    if (document.getElementById(\"16a443b7-7981-4911-9f18-b9ac67614911\")) {                    Plotly.newPlot(                        \"16a443b7-7981-4911-9f18-b9ac67614911\",                        [{\"hovertemplate\":\"\\u003cb\\u003eDate:\\u003c\\u002fb\\u003e %{x|%d %b %y}\\u003cbr\\u003e\\u003cb\\u003eClose:\\u003c\\u002fb\\u003e %{y:.2f}\\u003cextra\\u003e\\u003c\\u002fextra\\u003e\",\"line\":{\"color\":\"#1e90ff\",\"width\":3},\"name\":\"Close Price\",\"x\":[\"2023-10-10T00:00:00+05:30\",\"2023-10-11T00:00:00+05:30\",\"2023-10-12T00:00:00+05:30\",\"2023-10-13T00:00:00+05:30\",\"2023-10-16T00:00:00+05:30\",\"2023-10-17T00:00:00+05:30\",\"2023-10-18T00:00:00+05:30\",\"2023-10-19T00:00:00+05:30\",\"2023-10-20T00:00:00+05:30\",\"2023-10-23T00:00:00+05:30\",\"2023-10-25T00:00:00+05:30\",\"2023-10-26T00:00:00+05:30\",\"2023-10-27T00:00:00+05:30\",\"2023-10-30T00:00:00+05:30\",\"2023-10-31T00:00:00+05:30\",\"2023-11-01T00:00:00+05:30\",\"2023-11-02T00:00:00+05:30\",\"2023-11-03T00:00:00+05:30\",\"2023-11-06T00:00:00+05:30\",\"2023-11-07T00:00:00+05:30\",\"2023-11-08T00:00:00+05:30\",\"2023-11-09T00:00:00+05:30\",\"2023-11-10T00:00:00+05:30\",\"2023-11-13T00:00:00+05:30\",\"2023-11-15T00:00:00+05:30\",\"2023-11-16T00:00:00+05:30\",\"2023-11-17T00:00:00+05:30\",\"2023-11-20T00:00:00+05:30\",\"2023-11-21T00:00:00+05:30\",\"2023-11-22T00:00:00+05:30\",\"2023-11-23T00:00:00+05:30\",\"2023-11-24T00:00:00+05:30\",\"2023-11-28T00:00:00+05:30\",\"2023-11-29T00:00:00+05:30\",\"2023-11-30T00:00:00+05:30\",\"2023-12-01T00:00:00+05:30\",\"2023-12-04T00:00:00+05:30\",\"2023-12-05T00:00:00+05:30\",\"2023-12-06T00:00:00+05:30\",\"2023-12-07T00:00:00+05:30\",\"2023-12-08T00:00:00+05:30\",\"2023-12-11T00:00:00+05:30\",\"2023-12-12T00:00:00+05:30\",\"2023-12-13T00:00:00+05:30\",\"2023-12-14T00:00:00+05:30\",\"2023-12-15T00:00:00+05:30\",\"2023-12-18T00:00:00+05:30\",\"2023-12-19T00:00:00+05:30\",\"2023-12-20T00:00:00+05:30\",\"2023-12-21T00:00:00+05:30\",\"2023-12-22T00:00:00+05:30\",\"2023-12-26T00:00:00+05:30\",\"2023-12-27T00:00:00+05:30\",\"2023-12-28T00:00:00+05:30\",\"2023-12-29T00:00:00+05:30\",\"2024-01-01T00:00:00+05:30\",\"2024-01-02T00:00:00+05:30\",\"2024-01-03T00:00:00+05:30\",\"2024-01-04T00:00:00+05:30\",\"2024-01-05T00:00:00+05:30\",\"2024-01-08T00:00:00+05:30\",\"2024-01-09T00:00:00+05:30\",\"2024-01-10T00:00:00+05:30\",\"2024-01-11T00:00:00+05:30\",\"2024-01-12T00:00:00+05:30\",\"2024-01-15T00:00:00+05:30\",\"2024-01-16T00:00:00+05:30\",\"2024-01-17T00:00:00+05:30\",\"2024-01-18T00:00:00+05:30\",\"2024-01-19T00:00:00+05:30\",\"2024-01-23T00:00:00+05:30\",\"2024-01-24T00:00:00+05:30\",\"2024-01-25T00:00:00+05:30\",\"2024-01-29T00:00:00+05:30\",\"2024-01-30T00:00:00+05:30\",\"2024-01-31T00:00:00+05:30\",\"2024-02-01T00:00:00+05:30\",\"2024-02-02T00:00:00+05:30\",\"2024-02-05T00:00:00+05:30\",\"2024-02-06T00:00:00+05:30\",\"2024-02-07T00:00:00+05:30\",\"2024-02-08T00:00:00+05:30\",\"2024-02-09T00:00:00+05:30\",\"2024-02-12T00:00:00+05:30\",\"2024-02-13T00:00:00+05:30\",\"2024-02-14T00:00:00+05:30\",\"2024-02-15T00:00:00+05:30\",\"2024-02-16T00:00:00+05:30\",\"2024-02-19T00:00:00+05:30\",\"2024-02-20T00:00:00+05:30\",\"2024-02-21T00:00:00+05:30\",\"2024-02-22T00:00:00+05:30\",\"2024-02-23T00:00:00+05:30\",\"2024-02-26T00:00:00+05:30\",\"2024-02-27T00:00:00+05:30\",\"2024-02-28T00:00:00+05:30\",\"2024-02-29T00:00:00+05:30\",\"2024-03-01T00:00:00+05:30\",\"2024-03-04T00:00:00+05:30\",\"2024-03-05T00:00:00+05:30\",\"2024-03-06T00:00:00+05:30\",\"2024-03-07T00:00:00+05:30\",\"2024-03-11T00:00:00+05:30\",\"2024-03-12T00:00:00+05:30\",\"2024-03-13T00:00:00+05:30\",\"2024-03-14T00:00:00+05:30\",\"2024-03-15T00:00:00+05:30\",\"2024-03-18T00:00:00+05:30\",\"2024-03-19T00:00:00+05:30\",\"2024-03-20T00:00:00+05:30\",\"2024-03-21T00:00:00+05:30\",\"2024-03-22T00:00:00+05:30\",\"2024-03-26T00:00:00+05:30\",\"2024-03-27T00:00:00+05:30\",\"2024-03-28T00:00:00+05:30\",\"2024-04-01T00:00:00+05:30\",\"2024-04-02T00:00:00+05:30\",\"2024-04-03T00:00:00+05:30\",\"2024-04-04T00:00:00+05:30\",\"2024-04-05T00:00:00+05:30\",\"2024-04-08T00:00:00+05:30\",\"2024-04-09T00:00:00+05:30\",\"2024-04-10T00:00:00+05:30\",\"2024-04-12T00:00:00+05:30\",\"2024-04-15T00:00:00+05:30\",\"2024-04-16T00:00:00+05:30\",\"2024-04-18T00:00:00+05:30\",\"2024-04-19T00:00:00+05:30\",\"2024-04-22T00:00:00+05:30\",\"2024-04-23T00:00:00+05:30\",\"2024-04-24T00:00:00+05:30\",\"2024-04-25T00:00:00+05:30\",\"2024-04-26T00:00:00+05:30\",\"2024-04-29T00:00:00+05:30\",\"2024-04-30T00:00:00+05:30\",\"2024-05-02T00:00:00+05:30\",\"2024-05-03T00:00:00+05:30\",\"2024-05-06T00:00:00+05:30\",\"2024-05-07T00:00:00+05:30\",\"2024-05-08T00:00:00+05:30\",\"2024-05-09T00:00:00+05:30\",\"2024-05-10T00:00:00+05:30\",\"2024-05-13T00:00:00+05:30\",\"2024-05-14T00:00:00+05:30\",\"2024-05-15T00:00:00+05:30\",\"2024-05-16T00:00:00+05:30\",\"2024-05-17T00:00:00+05:30\",\"2024-05-21T00:00:00+05:30\",\"2024-05-22T00:00:00+05:30\",\"2024-05-23T00:00:00+05:30\",\"2024-05-24T00:00:00+05:30\",\"2024-05-27T00:00:00+05:30\",\"2024-05-28T00:00:00+05:30\",\"2024-05-29T00:00:00+05:30\",\"2024-05-30T00:00:00+05:30\",\"2024-05-31T00:00:00+05:30\",\"2024-06-03T00:00:00+05:30\",\"2024-06-04T00:00:00+05:30\",\"2024-06-05T00:00:00+05:30\",\"2024-06-06T00:00:00+05:30\",\"2024-06-07T00:00:00+05:30\",\"2024-06-10T00:00:00+05:30\",\"2024-06-11T00:00:00+05:30\",\"2024-06-12T00:00:00+05:30\",\"2024-06-13T00:00:00+05:30\",\"2024-06-14T00:00:00+05:30\",\"2024-06-18T00:00:00+05:30\",\"2024-06-19T00:00:00+05:30\",\"2024-06-20T00:00:00+05:30\",\"2024-06-21T00:00:00+05:30\",\"2024-06-24T00:00:00+05:30\",\"2024-06-25T00:00:00+05:30\",\"2024-06-26T00:00:00+05:30\",\"2024-06-27T00:00:00+05:30\",\"2024-06-28T00:00:00+05:30\",\"2024-07-01T00:00:00+05:30\",\"2024-07-02T00:00:00+05:30\",\"2024-07-03T00:00:00+05:30\",\"2024-07-04T00:00:00+05:30\",\"2024-07-05T00:00:00+05:30\",\"2024-07-08T00:00:00+05:30\",\"2024-07-09T00:00:00+05:30\",\"2024-07-10T00:00:00+05:30\",\"2024-07-11T00:00:00+05:30\",\"2024-07-12T00:00:00+05:30\",\"2024-07-15T00:00:00+05:30\",\"2024-07-16T00:00:00+05:30\",\"2024-07-18T00:00:00+05:30\",\"2024-07-19T00:00:00+05:30\",\"2024-07-22T00:00:00+05:30\",\"2024-07-23T00:00:00+05:30\",\"2024-07-24T00:00:00+05:30\",\"2024-07-25T00:00:00+05:30\",\"2024-07-26T00:00:00+05:30\",\"2024-07-29T00:00:00+05:30\",\"2024-07-30T00:00:00+05:30\",\"2024-07-31T00:00:00+05:30\",\"2024-08-01T00:00:00+05:30\",\"2024-08-02T00:00:00+05:30\",\"2024-08-05T00:00:00+05:30\",\"2024-08-06T00:00:00+05:30\",\"2024-08-07T00:00:00+05:30\",\"2024-08-08T00:00:00+05:30\",\"2024-08-09T00:00:00+05:30\",\"2024-08-12T00:00:00+05:30\",\"2024-08-13T00:00:00+05:30\",\"2024-08-14T00:00:00+05:30\",\"2024-08-16T00:00:00+05:30\",\"2024-08-19T00:00:00+05:30\",\"2024-08-20T00:00:00+05:30\",\"2024-08-21T00:00:00+05:30\",\"2024-08-22T00:00:00+05:30\",\"2024-08-23T00:00:00+05:30\",\"2024-08-26T00:00:00+05:30\",\"2024-08-27T00:00:00+05:30\",\"2024-08-28T00:00:00+05:30\",\"2024-08-29T00:00:00+05:30\",\"2024-08-30T00:00:00+05:30\",\"2024-09-02T00:00:00+05:30\",\"2024-09-03T00:00:00+05:30\",\"2024-09-04T00:00:00+05:30\",\"2024-09-05T00:00:00+05:30\",\"2024-09-06T00:00:00+05:30\",\"2024-09-09T00:00:00+05:30\",\"2024-09-10T00:00:00+05:30\",\"2024-09-11T00:00:00+05:30\",\"2024-09-12T00:00:00+05:30\",\"2024-09-13T00:00:00+05:30\",\"2024-09-16T00:00:00+05:30\",\"2024-09-17T00:00:00+05:30\",\"2024-09-18T00:00:00+05:30\",\"2024-09-19T00:00:00+05:30\",\"2024-09-20T00:00:00+05:30\",\"2024-09-23T00:00:00+05:30\",\"2024-09-24T00:00:00+05:30\",\"2024-09-25T00:00:00+05:30\",\"2024-09-26T00:00:00+05:30\",\"2024-09-27T00:00:00+05:30\",\"2024-09-30T00:00:00+05:30\",\"2024-10-01T00:00:00+05:30\",\"2024-10-03T00:00:00+05:30\",\"2024-10-04T00:00:00+05:30\",\"2024-10-07T00:00:00+05:30\",\"2024-10-08T00:00:00+05:30\",\"2024-10-09T00:00:00+05:30\",\"2024-10-10T00:00:00+05:30\"],\"y\":[1455.36376953125,1454.6337890625,1426.5028076171875,1393.06689453125,1395.987060546875,1404.066162109375,1402.216796875,1395.5003662109375,1389.270751953125,1371.1656494140625,1350.854248046875,1340.4027099609375,1361.0098876953125,1357.7562255859375,1349.227294921875,1335.177001953125,1350.9527587890625,1369.5880126953125,1383.638427734375,1384.6243896484375,1371.5106201171875,1355.5377197265625,1349.6710205078125,1354.30517578125,1390.7374267578125,1424.655517578125,1417.408447265625,1416.4716796875,1418.838134765625,1437.374755859375,1428.944580078125,1417.2606201171875,1422.4862060546875,1439.1495361328125,1434.7618408203125,1431.9517822265625,1443.8328857421875,1433.57861328125,1453.6435546875,1445.3612060546875,1470.2574462890625,1467.64453125,1455.3690185546875,1428.697998046875,1480.4130859375,1556.2850341796875,1542.431884765625,1536.4666748046875,1514.87353515625,1514.47900390625,1541.002197265625,1522.317626953125,1545.143310546875,1540.7557373046875,1521.282470703125,1529.614013671875,1512.9014892578125,1469.12353515625,1491.5054931640625,1511.077392578125,1501.464111328125,1507.873046875,1498.6046142578125,1473.2646484375,1590.1536865234375,1628.952392578125,1608.6903076171875,1617.2191162109375,1619.58544921875,1635.952880859375,1619.141845703125,1651.9259033203125,1645.7142333984375,1633.3892822265625,1628.3114013671875,1637.629150390625,1633.8331298828125,1669.6243896484375,1663.560546875,1705.2186279296875,1670.018798828125,1668.3919677734375,1645.960693359375,1656.56005859375,1660.94775390625,1642.854736328125,1652.862548828125,1677.80810546875,1675.934814453125,1661.637939453125,1632.3541259765625,1657.79248046875,1653.3555908203125,1636.8896484375,1640.291259765625,1647.8341064453125,1650.447021484375,1631.515869140625,1614.2611083984375,1583.9913330078125,1594.886474609375,1593.8018798828125,1578.1739501953125,1590.350830078125,1588.8226318359375,1630.1356201171875,1611.10595703125,1580.1953125,1539.5723876953125,1533.1634521484375,1532.9169921875,1487.70947265625,1471.7364501953125,1463.0596923828125,1477.060791015625,1474.4971923828125,1462.07373046875,1459.904541015625,1465.8697509765625,1458.376220703125,1456.0098876953125,1473.9056396484375,1485.688232421875,1463.9471435546875,1447.5797119140625,1394.632080078125,1399.3648681640625,1391.4769287109375,1412.6756591796875,1422.1905517578125,1410.7037353515625,1418.2957763671875,1410.210693359375,1414.647705078125,1400.646728515625,1394.632080078125,1396.4561767578125,1405.9217529296875,1420.7607421875,1407.3021240234375,1419.3804931640625,1404.9356689453125,1403.5059814453125,1404.7384033203125,1400.0550537109375,1432.987060546875,1424.06396484375,1414.05615234375,1434.416748046875,1451.7701416015625,1444.5723876953125,1450.73486328125,1446.4951171875,1430.62060546875,1407.449951171875,1406.9000244140625,1405.9000244140625,1393.6500244140625,1430.0999755859375,1472.25,1533.5999755859375,1499.75,1495.75,1485.199951171875,1493.949951171875,1488.9000244140625,1498.199951171875,1511.3499755859375,1515.4000244140625,1532.699951171875,1527.1500244140625,1541.949951171875,1540.699951171875,1573.3499755859375,1566.75,1590.800048828125,1621.050048828125,1627.4000244140625,1650.6500244140625,1647.449951171875,1661.6500244140625,1657.1500244140625,1648.25,1652.699951171875,1711.75,1707.050048828125,1726.050048828125,1758.050048828125,1792.949951171875,1810.8499755859375,1836.9000244140625,1833.949951171875,1824.8499755859375,1878.9000244140625,1871.0999755859375,1877.1500244140625,1868.25,1852.5999755859375,1821.199951171875,1751.9000244140625,1751.0999755859375,1791.6500244140625,1743.1500244140625,1770.75,1797.4000244140625,1797.449951171875,1823.25,1858.949951171875,1864.800048828125,1872.199951171875,1872.699951171875,1880.25,1862.0999755859375,1876.1500244140625,1900.0999755859375,1939.0999755859375,1933.3499755859375,1943.699951171875,1964.5,1941.25,1922.449951171875,1933.1500244140625,1901.8499755859375,1894.6500244140625,1912.300048828125,1910.1500244140625,1950.449951171875,1944.0999755859375,1950.25,1952.550048828125,1892.1500244140625,1894.199951171875,1905.75,1896.449951171875,1898.5999755859375,1895.300048828125,1900.25,1906.75,1875.5999755859375,1904.3499755859375,1893.4000244140625,1918.1500244140625,1934.300048828125,1948.550048828125,1952.75,1927.050048828125],\"type\":\"scatter\"},{\"line\":{\"color\":\"#FF4136\",\"dash\":\"dot\",\"width\":2},\"mode\":\"lines\",\"name\":\"200% (2029.9)\",\"x\":[\"2023-10-10T00:00:00+05:30\",\"2024-10-10T00:00:00+05:30\"],\"y\":[2029.9000244140625,2029.9000244140625],\"type\":\"scatter\"},{\"line\":{\"color\":\"#FF851B\",\"dash\":\"dot\",\"width\":2},\"mode\":\"lines\",\"name\":\"161.8% (2000.43)\",\"x\":[\"2023-10-10T00:00:00+05:30\",\"2024-10-10T00:00:00+05:30\"],\"y\":[2000.4287150878906,2000.4287150878906],\"type\":\"scatter\"},{\"line\":{\"color\":\"#FFDC00\",\"dash\":\"dot\",\"width\":2},\"mode\":\"lines\",\"name\":\"150% (1991.33)\",\"x\":[\"2023-10-10T00:00:00+05:30\",\"2024-10-10T00:00:00+05:30\"],\"y\":[1991.3250122070312,1991.3250122070312],\"type\":\"scatter\"},{\"line\":{\"color\":\"#2ECC40\",\"dash\":\"dot\",\"width\":2},\"mode\":\"lines\",\"name\":\"138.2% (1982.22)\",\"x\":[\"2023-10-10T00:00:00+05:30\",\"2024-10-10T00:00:00+05:30\"],\"y\":[1982.2213093261719,1982.2213093261719],\"type\":\"scatter\"},{\"line\":{\"color\":\"#0074D9\",\"dash\":\"dot\",\"width\":2},\"mode\":\"lines\",\"name\":\"123.6% (1970.96)\",\"x\":[\"2023-10-10T00:00:00+05:30\",\"2024-10-10T00:00:00+05:30\"],\"y\":[1970.9574057617187,1970.9574057617187],\"type\":\"scatter\"},{\"line\":{\"color\":\"#B10DC9\",\"dash\":\"dash\",\"width\":2},\"mode\":\"lines\",\"name\":\"23.6% (1934.54)\",\"x\":[\"2023-10-10T00:00:00+05:30\",\"2024-10-10T00:00:00+05:30\"],\"y\":[1934.5425942382813,1934.5425942382813],\"type\":\"scatter\"},{\"line\":{\"color\":\"#F012BE\",\"dash\":\"dash\",\"width\":2},\"mode\":\"lines\",\"name\":\"38.2% (1923.28)\",\"x\":[\"2023-10-10T00:00:00+05:30\",\"2024-10-10T00:00:00+05:30\"],\"y\":[1923.2786906738281,1923.2786906738281],\"type\":\"scatter\"},{\"line\":{\"color\":\"#85144b\",\"dash\":\"dash\",\"width\":2},\"mode\":\"lines\",\"name\":\"50% (1914.17)\",\"x\":[\"2023-10-10T00:00:00+05:30\",\"2024-10-10T00:00:00+05:30\"],\"y\":[1914.1749877929688,1914.1749877929688],\"type\":\"scatter\"},{\"line\":{\"color\":\"#001f3f\",\"dash\":\"dash\",\"width\":2},\"mode\":\"lines\",\"name\":\"61.8% (1905.07)\",\"x\":[\"2023-10-10T00:00:00+05:30\",\"2024-10-10T00:00:00+05:30\"],\"y\":[1905.0712849121094,1905.0712849121094],\"type\":\"scatter\"},{\"line\":{\"color\":\"#39CCCC\",\"dash\":\"dash\",\"width\":2},\"mode\":\"lines\",\"name\":\"78.6% (1892.11)\",\"x\":[\"2023-10-10T00:00:00+05:30\",\"2024-10-10T00:00:00+05:30\"],\"y\":[1892.1100808105468,1892.1100808105468],\"type\":\"scatter\"}],                        {\"template\":{\"data\":{\"histogram2dcontour\":[{\"type\":\"histogram2dcontour\",\"colorbar\":{\"outlinewidth\":0,\"ticks\":\"\"},\"colorscale\":[[0.0,\"#0d0887\"],[0.1111111111111111,\"#46039f\"],[0.2222222222222222,\"#7201a8\"],[0.3333333333333333,\"#9c179e\"],[0.4444444444444444,\"#bd3786\"],[0.5555555555555556,\"#d8576b\"],[0.6666666666666666,\"#ed7953\"],[0.7777777777777778,\"#fb9f3a\"],[0.8888888888888888,\"#fdca26\"],[1.0,\"#f0f921\"]]}],\"choropleth\":[{\"type\":\"choropleth\",\"colorbar\":{\"outlinewidth\":0,\"ticks\":\"\"}}],\"histogram2d\":[{\"type\":\"histogram2d\",\"colorbar\":{\"outlinewidth\":0,\"ticks\":\"\"},\"colorscale\":[[0.0,\"#0d0887\"],[0.1111111111111111,\"#46039f\"],[0.2222222222222222,\"#7201a8\"],[0.3333333333333333,\"#9c179e\"],[0.4444444444444444,\"#bd3786\"],[0.5555555555555556,\"#d8576b\"],[0.6666666666666666,\"#ed7953\"],[0.7777777777777778,\"#fb9f3a\"],[0.8888888888888888,\"#fdca26\"],[1.0,\"#f0f921\"]]}],\"heatmap\":[{\"type\":\"heatmap\",\"colorbar\":{\"outlinewidth\":0,\"ticks\":\"\"},\"colorscale\":[[0.0,\"#0d0887\"],[0.1111111111111111,\"#46039f\"],[0.2222222222222222,\"#7201a8\"],[0.3333333333333333,\"#9c179e\"],[0.4444444444444444,\"#bd3786\"],[0.5555555555555556,\"#d8576b\"],[0.6666666666666666,\"#ed7953\"],[0.7777777777777778,\"#fb9f3a\"],[0.8888888888888888,\"#fdca26\"],[1.0,\"#f0f921\"]]}],\"heatmapgl\":[{\"type\":\"heatmapgl\",\"colorbar\":{\"outlinewidth\":0,\"ticks\":\"\"},\"colorscale\":[[0.0,\"#0d0887\"],[0.1111111111111111,\"#46039f\"],[0.2222222222222222,\"#7201a8\"],[0.3333333333333333,\"#9c179e\"],[0.4444444444444444,\"#bd3786\"],[0.5555555555555556,\"#d8576b\"],[0.6666666666666666,\"#ed7953\"],[0.7777777777777778,\"#fb9f3a\"],[0.8888888888888888,\"#fdca26\"],[1.0,\"#f0f921\"]]}],\"contourcarpet\":[{\"type\":\"contourcarpet\",\"colorbar\":{\"outlinewidth\":0,\"ticks\":\"\"}}],\"contour\":[{\"type\":\"contour\",\"colorbar\":{\"outlinewidth\":0,\"ticks\":\"\"},\"colorscale\":[[0.0,\"#0d0887\"],[0.1111111111111111,\"#46039f\"],[0.2222222222222222,\"#7201a8\"],[0.3333333333333333,\"#9c179e\"],[0.4444444444444444,\"#bd3786\"],[0.5555555555555556,\"#d8576b\"],[0.6666666666666666,\"#ed7953\"],[0.7777777777777778,\"#fb9f3a\"],[0.8888888888888888,\"#fdca26\"],[1.0,\"#f0f921\"]]}],\"surface\":[{\"type\":\"surface\",\"colorbar\":{\"outlinewidth\":0,\"ticks\":\"\"},\"colorscale\":[[0.0,\"#0d0887\"],[0.1111111111111111,\"#46039f\"],[0.2222222222222222,\"#7201a8\"],[0.3333333333333333,\"#9c179e\"],[0.4444444444444444,\"#bd3786\"],[0.5555555555555556,\"#d8576b\"],[0.6666666666666666,\"#ed7953\"],[0.7777777777777778,\"#fb9f3a\"],[0.8888888888888888,\"#fdca26\"],[1.0,\"#f0f921\"]]}],\"mesh3d\":[{\"type\":\"mesh3d\",\"colorbar\":{\"outlinewidth\":0,\"ticks\":\"\"}}],\"scatter\":[{\"fillpattern\":{\"fillmode\":\"overlay\",\"size\":10,\"solidity\":0.2},\"type\":\"scatter\"}],\"parcoords\":[{\"type\":\"parcoords\",\"line\":{\"colorbar\":{\"outlinewidth\":0,\"ticks\":\"\"}}}],\"scatterpolargl\":[{\"type\":\"scatterpolargl\",\"marker\":{\"colorbar\":{\"outlinewidth\":0,\"ticks\":\"\"}}}],\"bar\":[{\"error_x\":{\"color\":\"#2a3f5f\"},\"error_y\":{\"color\":\"#2a3f5f\"},\"marker\":{\"line\":{\"color\":\"#E5ECF6\",\"width\":0.5},\"pattern\":{\"fillmode\":\"overlay\",\"size\":10,\"solidity\":0.2}},\"type\":\"bar\"}],\"scattergeo\":[{\"type\":\"scattergeo\",\"marker\":{\"colorbar\":{\"outlinewidth\":0,\"ticks\":\"\"}}}],\"scatterpolar\":[{\"type\":\"scatterpolar\",\"marker\":{\"colorbar\":{\"outlinewidth\":0,\"ticks\":\"\"}}}],\"histogram\":[{\"marker\":{\"pattern\":{\"fillmode\":\"overlay\",\"size\":10,\"solidity\":0.2}},\"type\":\"histogram\"}],\"scattergl\":[{\"type\":\"scattergl\",\"marker\":{\"colorbar\":{\"outlinewidth\":0,\"ticks\":\"\"}}}],\"scatter3d\":[{\"type\":\"scatter3d\",\"line\":{\"colorbar\":{\"outlinewidth\":0,\"ticks\":\"\"}},\"marker\":{\"colorbar\":{\"outlinewidth\":0,\"ticks\":\"\"}}}],\"scattermapbox\":[{\"type\":\"scattermapbox\",\"marker\":{\"colorbar\":{\"outlinewidth\":0,\"ticks\":\"\"}}}],\"scatterternary\":[{\"type\":\"scatterternary\",\"marker\":{\"colorbar\":{\"outlinewidth\":0,\"ticks\":\"\"}}}],\"scattercarpet\":[{\"type\":\"scattercarpet\",\"marker\":{\"colorbar\":{\"outlinewidth\":0,\"ticks\":\"\"}}}],\"carpet\":[{\"aaxis\":{\"endlinecolor\":\"#2a3f5f\",\"gridcolor\":\"white\",\"linecolor\":\"white\",\"minorgridcolor\":\"white\",\"startlinecolor\":\"#2a3f5f\"},\"baxis\":{\"endlinecolor\":\"#2a3f5f\",\"gridcolor\":\"white\",\"linecolor\":\"white\",\"minorgridcolor\":\"white\",\"startlinecolor\":\"#2a3f5f\"},\"type\":\"carpet\"}],\"table\":[{\"cells\":{\"fill\":{\"color\":\"#EBF0F8\"},\"line\":{\"color\":\"white\"}},\"header\":{\"fill\":{\"color\":\"#C8D4E3\"},\"line\":{\"color\":\"white\"}},\"type\":\"table\"}],\"barpolar\":[{\"marker\":{\"line\":{\"color\":\"#E5ECF6\",\"width\":0.5},\"pattern\":{\"fillmode\":\"overlay\",\"size\":10,\"solidity\":0.2}},\"type\":\"barpolar\"}],\"pie\":[{\"automargin\":true,\"type\":\"pie\"}]},\"layout\":{\"autotypenumbers\":\"strict\",\"colorway\":[\"#636efa\",\"#EF553B\",\"#00cc96\",\"#ab63fa\",\"#FFA15A\",\"#19d3f3\",\"#FF6692\",\"#B6E880\",\"#FF97FF\",\"#FECB52\"],\"font\":{\"color\":\"#2a3f5f\"},\"hovermode\":\"closest\",\"hoverlabel\":{\"align\":\"left\"},\"paper_bgcolor\":\"white\",\"plot_bgcolor\":\"#E5ECF6\",\"polar\":{\"bgcolor\":\"#E5ECF6\",\"angularaxis\":{\"gridcolor\":\"white\",\"linecolor\":\"white\",\"ticks\":\"\"},\"radialaxis\":{\"gridcolor\":\"white\",\"linecolor\":\"white\",\"ticks\":\"\"}},\"ternary\":{\"bgcolor\":\"#E5ECF6\",\"aaxis\":{\"gridcolor\":\"white\",\"linecolor\":\"white\",\"ticks\":\"\"},\"baxis\":{\"gridcolor\":\"white\",\"linecolor\":\"white\",\"ticks\":\"\"},\"caxis\":{\"gridcolor\":\"white\",\"linecolor\":\"white\",\"ticks\":\"\"}},\"coloraxis\":{\"colorbar\":{\"outlinewidth\":0,\"ticks\":\"\"}},\"colorscale\":{\"sequential\":[[0.0,\"#0d0887\"],[0.1111111111111111,\"#46039f\"],[0.2222222222222222,\"#7201a8\"],[0.3333333333333333,\"#9c179e\"],[0.4444444444444444,\"#bd3786\"],[0.5555555555555556,\"#d8576b\"],[0.6666666666666666,\"#ed7953\"],[0.7777777777777778,\"#fb9f3a\"],[0.8888888888888888,\"#fdca26\"],[1.0,\"#f0f921\"]],\"sequentialminus\":[[0.0,\"#0d0887\"],[0.1111111111111111,\"#46039f\"],[0.2222222222222222,\"#7201a8\"],[0.3333333333333333,\"#9c179e\"],[0.4444444444444444,\"#bd3786\"],[0.5555555555555556,\"#d8576b\"],[0.6666666666666666,\"#ed7953\"],[0.7777777777777778,\"#fb9f3a\"],[0.8888888888888888,\"#fdca26\"],[1.0,\"#f0f921\"]],\"diverging\":[[0,\"#8e0152\"],[0.1,\"#c51b7d\"],[0.2,\"#de77ae\"],[0.3,\"#f1b6da\"],[0.4,\"#fde0ef\"],[0.5,\"#f7f7f7\"],[0.6,\"#e6f5d0\"],[0.7,\"#b8e186\"],[0.8,\"#7fbc41\"],[0.9,\"#4d9221\"],[1,\"#276419\"]]},\"xaxis\":{\"gridcolor\":\"white\",\"linecolor\":\"white\",\"ticks\":\"\",\"title\":{\"standoff\":15},\"zerolinecolor\":\"white\",\"automargin\":true,\"zerolinewidth\":2},\"yaxis\":{\"gridcolor\":\"white\",\"linecolor\":\"white\",\"ticks\":\"\",\"title\":{\"standoff\":15},\"zerolinecolor\":\"white\",\"automargin\":true,\"zerolinewidth\":2},\"scene\":{\"xaxis\":{\"backgroundcolor\":\"#E5ECF6\",\"gridcolor\":\"white\",\"linecolor\":\"white\",\"showbackground\":true,\"ticks\":\"\",\"zerolinecolor\":\"white\",\"gridwidth\":2},\"yaxis\":{\"backgroundcolor\":\"#E5ECF6\",\"gridcolor\":\"white\",\"linecolor\":\"white\",\"showbackground\":true,\"ticks\":\"\",\"zerolinecolor\":\"white\",\"gridwidth\":2},\"zaxis\":{\"backgroundcolor\":\"#E5ECF6\",\"gridcolor\":\"white\",\"linecolor\":\"white\",\"showbackground\":true,\"ticks\":\"\",\"zerolinecolor\":\"white\",\"gridwidth\":2}},\"shapedefaults\":{\"line\":{\"color\":\"#2a3f5f\"}},\"annotationdefaults\":{\"arrowcolor\":\"#2a3f5f\",\"arrowhead\":0,\"arrowwidth\":1},\"geo\":{\"bgcolor\":\"white\",\"landcolor\":\"#E5ECF6\",\"subunitcolor\":\"white\",\"showland\":true,\"showlakes\":true,\"lakecolor\":\"white\"},\"title\":{\"x\":0.05},\"mapbox\":{\"style\":\"light\"}}},\"xaxis\":{\"anchor\":\"y\",\"domain\":[0.0,0.94],\"title\":{\"text\":\"Date\"},\"tickformat\":\"%d %b %y\",\"tickangle\":45,\"range\":[\"2024-01-16T00:00:00+05:30\",\"2024-10-30T00:00:00+05:30\"],\"tickmode\":\"array\",\"tickvals\":[\"2024-02-01T00:00:00+05:30\",\"2024-03-01T00:00:00+05:30\",\"2024-04-01T00:00:00+05:30\",\"2024-05-01T00:00:00+05:30\",\"2024-06-01T00:00:00+05:30\",\"2024-07-01T00:00:00+05:30\",\"2024-08-01T00:00:00+05:30\",\"2024-09-01T00:00:00+05:30\",\"2024-10-01T00:00:00+05:30\"],\"ticktext\":[\"01 Feb 24\",\"01 Mar 24\",\"01 Apr 24\",\"01 May 24\",\"01 Jun 24\",\"01 Jul 24\",\"01 Aug 24\",\"01 Sep 24\",\"01 Oct 24\"]},\"yaxis\":{\"anchor\":\"x\",\"domain\":[0.0,1.0],\"title\":{\"text\":\"Price\"},\"tickformat\":\".2f\"},\"yaxis2\":{\"anchor\":\"x\",\"overlaying\":\"y\",\"side\":\"right\",\"tickformat\":\".2f\"},\"annotations\":[{\"bgcolor\":\"white\",\"bordercolor\":\"#FF4136\",\"borderpad\":4,\"borderwidth\":2,\"font\":{\"color\":\"#FF4136\",\"size\":10},\"opacity\":0.8,\"showarrow\":false,\"text\":\"200% (2029.9)\",\"x\":\"2024-10-10T00:00:00+05:30\",\"xanchor\":\"left\",\"xshift\":10,\"y\":2029.9000244140625},{\"bgcolor\":\"white\",\"bordercolor\":\"#FF851B\",\"borderpad\":4,\"borderwidth\":2,\"font\":{\"color\":\"#FF851B\",\"size\":10},\"opacity\":0.8,\"showarrow\":false,\"text\":\"161.8% (2000.43)\",\"x\":\"2024-10-10T00:00:00+05:30\",\"xanchor\":\"left\",\"xshift\":10,\"y\":2000.4287150878906},{\"bgcolor\":\"white\",\"bordercolor\":\"#FFDC00\",\"borderpad\":4,\"borderwidth\":2,\"font\":{\"color\":\"#FFDC00\",\"size\":10},\"opacity\":0.8,\"showarrow\":false,\"text\":\"150% (1991.33)\",\"x\":\"2024-10-10T00:00:00+05:30\",\"xanchor\":\"left\",\"xshift\":10,\"y\":1991.3250122070312},{\"bgcolor\":\"white\",\"bordercolor\":\"#2ECC40\",\"borderpad\":4,\"borderwidth\":2,\"font\":{\"color\":\"#2ECC40\",\"size\":10},\"opacity\":0.8,\"showarrow\":false,\"text\":\"138.2% (1982.22)\",\"x\":\"2024-10-10T00:00:00+05:30\",\"xanchor\":\"left\",\"xshift\":10,\"y\":1982.2213093261719},{\"bgcolor\":\"white\",\"bordercolor\":\"#0074D9\",\"borderpad\":4,\"borderwidth\":2,\"font\":{\"color\":\"#0074D9\",\"size\":10},\"opacity\":0.8,\"showarrow\":false,\"text\":\"123.6% (1970.96)\",\"x\":\"2024-10-10T00:00:00+05:30\",\"xanchor\":\"left\",\"xshift\":10,\"y\":1970.9574057617187},{\"bgcolor\":\"white\",\"bordercolor\":\"#B10DC9\",\"borderpad\":4,\"borderwidth\":2,\"font\":{\"color\":\"#B10DC9\",\"size\":10},\"opacity\":0.8,\"showarrow\":false,\"text\":\"23.6% (1934.54)\",\"x\":\"2024-10-10T00:00:00+05:30\",\"xanchor\":\"left\",\"xshift\":10,\"y\":1934.5425942382813},{\"bgcolor\":\"white\",\"bordercolor\":\"#F012BE\",\"borderpad\":4,\"borderwidth\":2,\"font\":{\"color\":\"#F012BE\",\"size\":10},\"opacity\":0.8,\"showarrow\":false,\"text\":\"38.2% (1923.28)\",\"x\":\"2024-10-10T00:00:00+05:30\",\"xanchor\":\"left\",\"xshift\":10,\"y\":1923.2786906738281},{\"bgcolor\":\"white\",\"bordercolor\":\"#85144b\",\"borderpad\":4,\"borderwidth\":2,\"font\":{\"color\":\"#85144b\",\"size\":10},\"opacity\":0.8,\"showarrow\":false,\"text\":\"50% (1914.17)\",\"x\":\"2024-10-10T00:00:00+05:30\",\"xanchor\":\"left\",\"xshift\":10,\"y\":1914.1749877929688},{\"bgcolor\":\"white\",\"bordercolor\":\"#001f3f\",\"borderpad\":4,\"borderwidth\":2,\"font\":{\"color\":\"#001f3f\",\"size\":10},\"opacity\":0.8,\"showarrow\":false,\"text\":\"61.8% (1905.07)\",\"x\":\"2024-10-10T00:00:00+05:30\",\"xanchor\":\"left\",\"xshift\":10,\"y\":1905.0712849121094},{\"bgcolor\":\"white\",\"bordercolor\":\"#39CCCC\",\"borderpad\":4,\"borderwidth\":2,\"font\":{\"color\":\"#39CCCC\",\"size\":10},\"opacity\":0.8,\"showarrow\":false,\"text\":\"78.6% (1892.11)\",\"x\":\"2024-10-10T00:00:00+05:30\",\"xanchor\":\"left\",\"xshift\":10,\"y\":1892.1100808105468}],\"title\":{\"text\":\"Fibonacci Retracement and Extension Levels\"},\"legend\":{\"title\":{\"text\":\"Levels\"}},\"hovermode\":\"x unified\",\"showlegend\":true},                        {\"responsive\": true}                    ).then(function(){\n",
       "                            \n",
       "var gd = document.getElementById('16a443b7-7981-4911-9f18-b9ac67614911');\n",
       "var x = new MutationObserver(function (mutations, observer) {{\n",
       "        var display = window.getComputedStyle(gd).display;\n",
       "        if (!display || display === 'none') {{\n",
       "            console.log([gd, 'removed!']);\n",
       "            Plotly.purge(gd);\n",
       "            observer.disconnect();\n",
       "        }}\n",
       "}});\n",
       "\n",
       "// Listen for the removal of the full notebook cells\n",
       "var notebookContainer = gd.closest('#notebook-container');\n",
       "if (notebookContainer) {{\n",
       "    x.observe(notebookContainer, {childList: true});\n",
       "}}\n",
       "\n",
       "// Listen for the clearing of the current output cell\n",
       "var outputEl = gd.closest('.output');\n",
       "if (outputEl) {{\n",
       "    x.observe(outputEl, {childList: true});\n",
       "}}\n",
       "\n",
       "                        })                };                });            </script>        </div>"
      ]
     },
     "metadata": {},
     "output_type": "display_data"
    }
   ],
   "source": [
    "fig = visualise_fib_plotly(fib, data)\n",
    "fig.show()"
   ]
  },
  {
   "cell_type": "code",
   "execution_count": 14,
   "id": "219435ff",
   "metadata": {},
   "outputs": [],
   "source": [
    "def visualise_macd(data):\n",
    "    \n",
    "    valid_data = data.dropna(subset=['MACD', 'Signal Line'])\n",
    "    \n",
    "    fig, ax1 = plt.subplots(1, figsize=(12,8))\n",
    "    \n",
    "    plt.style.use('ggplot')\n",
    "    \n",
    "    # Change colors to more pleasing options\n",
    "    macd_color = '#1e90ff'  # Dodger Blue\n",
    "    signal_color = '#ff6347'  # Tomato\n",
    "    \n",
    "    # Plot MACD and Signal lines\n",
    "    ax1.plot(valid_data.index, valid_data['MACD'], label='MACD', color=macd_color, linewidth=1.5)\n",
    "    ax1.plot(valid_data.index, valid_data['Signal Line'], label='Signal Line', color=signal_color, linestyle='--', linewidth=1.5)\n",
    "    \n",
    "    # Improve histogram appearance using fill_between instead of bar\n",
    "    histogram = valid_data['MACD'] - valid_data['Signal Line']\n",
    "    ax1.fill_between(valid_data.index, histogram, 0, where=histogram >= 0, facecolor='#2ecc71', alpha=0.7, interpolate=True, label='Positive Histogram')\n",
    "    ax1.fill_between(valid_data.index, histogram, 0, where=histogram < 0, facecolor='#e74c3c', alpha=0.7, interpolate=True, label='Negative Histogram')\n",
    "    \n",
    "    # Enhance the legend\n",
    "    ax1.legend(loc='upper left', frameon=True, fancybox=True, shadow=True)\n",
    "    \n",
    "    # Improve x-axis\n",
    "    ax1.xaxis.set_major_locator(mdates.MonthLocator())\n",
    "    ax1.xaxis.set_major_formatter(mdates.DateFormatter('%b'))\n",
    "    plt.xticks(rotation=45, ha='right')\n",
    "    \n",
    "    # Adding extra days\n",
    "    extra_days = pd.Timedelta(days=20)\n",
    "    ax1.set_xlim(data.index[0], data.index[-1]+extra_days)\n",
    "    \n",
    "    # Set title and labels\n",
    "    ax1.set_title(\"MACD Indicator\", fontsize=16, fontweight='bold')\n",
    "    ax1.set_xlabel(\"Date\", fontsize=12)\n",
    "    ax1.set_ylabel(\"MACD Value\", fontsize=12)\n",
    "    \n",
    "    \n",
    "    ax1.grid(True, linestyle='--', alpha=0.7)\n",
    "    \n",
    "    # Adjust layout\n",
    "    plt.tight_layout()\n",
    "    \n",
    "    plt.show()"
   ]
  },
  {
   "cell_type": "code",
   "execution_count": 15,
   "id": "a94ef505",
   "metadata": {},
   "outputs": [],
   "source": [
    "def visualise_rsi(data, window):\n",
    "    fig = go.Figure()\n",
    "\n",
    "    # Add the RSI line\n",
    "    fig.add_trace(go.Scatter(\n",
    "        x=data.index,\n",
    "        y=data['RSI'],\n",
    "        mode='lines',\n",
    "        name='RSI',\n",
    "        line=dict(color='dodgerblue', width=2),\n",
    "        hovertemplate='Date: %{x|%b %d}<br>RSI: %{y:.2f}<extra></extra>'\n",
    "    ))\n",
    "\n",
    "    # Add threshold lines for overbought (70) and oversold (30)\n",
    "    fig.add_hline(y=70, line_dash=\"dash\", line_color=\"red\", line_width=2)\n",
    "    fig.add_hline(y=30, line_dash=\"dash\", line_color=\"green\", line_width=2)\n",
    "\n",
    "    # Set axis labels and title\n",
    "    fig.update_layout(\n",
    "        title=\"RSI (Relative Strength Index)\",\n",
    "        yaxis_title=\"RSI Value\",\n",
    "        xaxis_title=\"Date\",\n",
    "        font=dict(size=14),\n",
    "        showlegend=True,\n",
    "        legend=dict(x=0.01, y=0.99, font=dict(size=12)),\n",
    "        hovermode=\"x unified\",\n",
    "    )\n",
    "\n",
    "    # Set y-axis range and tick values\n",
    "    fig.update_yaxes(\n",
    "        range=[0, 100],\n",
    "        tickmode='linear',\n",
    "        tick0=0,\n",
    "        dtick=10\n",
    "    )\n",
    "\n",
    "    # Set x-axis range and tick format\n",
    "    extra_days = pd.Timedelta(days=20)\n",
    "    fig.update_xaxes(\n",
    "        range=[data.index[window-2], data.index[-1]+extra_days],\n",
    "        tickmode='auto',\n",
    "        nticks=10\n",
    "    )\n",
    "\n",
    "    # Update the layout for a cleaner look\n",
    "    fig.update_layout(\n",
    "        plot_bgcolor='white',\n",
    "        xaxis=dict(\n",
    "            showgrid=True,\n",
    "            zeroline=False,\n",
    "            showline=True,\n",
    "            showticklabels=True,\n",
    "        ),\n",
    "        yaxis=dict(\n",
    "            showgrid=True,\n",
    "            zeroline=False,\n",
    "            showline=True,\n",
    "            showticklabels=True,\n",
    "        )\n",
    "    )\n",
    "\n",
    "    # Show the plot\n",
    "    fig.show()"
   ]
  },
  {
   "cell_type": "code",
   "execution_count": 16,
   "id": "16a8f068",
   "metadata": {},
   "outputs": [],
   "source": [
    "def plot_stock_trends_candlestick(df):\n",
    "    # Create the candlestick chart\n",
    "    fig = go.Figure(data=[go.Candlestick(\n",
    "        x=df.index,\n",
    "        open=df['Open'],\n",
    "        high=df['High'],\n",
    "        low=df['Low'],\n",
    "        close=df['Close'],\n",
    "        increasing_line_color='#26A69A',  # Green color for up candles\n",
    "        decreasing_line_color='#EF5350',  # Red color for down candles\n",
    "        line=dict(width=1),  # Thinner lines for candle wicks\n",
    "        increasing_fillcolor='#26A69A',  # Fill color for up candles\n",
    "        decreasing_fillcolor='#EF5350'   # Fill color for down candles\n",
    "    )])\n",
    "\n",
    "    # Update layout for a cleaner look\n",
    "    fig.update_layout(\n",
    "        title='Candle Chart',\n",
    "        yaxis_title= 'Price', \n",
    "        xaxis_title='Date',  \n",
    "        xaxis_rangeslider_visible=False,\n",
    "        plot_bgcolor='white',\n",
    "        hovermode='x unified',\n",
    "        showlegend=False, \n",
    "        margin=dict(l=0, r=0, t=0, b=0)  # Remove margins\n",
    "    )\n",
    "\n",
    "    # Update y-axis\n",
    "    fig.update_yaxes(\n",
    "        showgrid=True,\n",
    "        gridwidth=1,\n",
    "        gridcolor='lightgrey',\n",
    "        zeroline=False,\n",
    "        showticklabels=True\n",
    "    )\n",
    "\n",
    "    # Update x-axis\n",
    "    fig.update_xaxes(\n",
    "        showgrid=True,\n",
    "        gridwidth=1,\n",
    "        gridcolor='lightgrey',\n",
    "        zeroline=False,\n",
    "        rangeslider_visible=False,\n",
    "        showticklabels=True,\n",
    "        rangebreaks=[dict(bounds=[\"sat\", \"mon\"])]  # hide weekends\n",
    "    )\n",
    "\n",
    "    fig.show() "
   ]
  },
  {
   "cell_type": "code",
   "execution_count": 17,
   "id": "217fe659",
   "metadata": {},
   "outputs": [],
   "source": [
    "import warnings\n",
    "warnings.filterwarnings('ignore')"
   ]
  },
  {
   "cell_type": "code",
   "execution_count": 100,
   "id": "c6f409ba",
   "metadata": {
    "scrolled": false
   },
   "outputs": [
    {
     "name": "stdout",
     "output_type": "stream",
     "text": [
      "Enter a name: tata steel\n",
      "\n",
      "Buy stocks of Tata Steel Limited\n",
      "Current Price of Tata Steel Limited: 159.65\n",
      "Market Cap of Tata Steel Limited: 199299.08 Crores\n",
      "The P/E ratio is -47.37, which is below 20, hence BUY\n"
     ]
    },
    {
     "data": {
      "image/png": "[encoded data removed]",
      "text/plain": [
       "<Figure size 960x640 with 1 Axes>"
      ]
     },
     "metadata": {},
     "output_type": "display_data"
    },
    {
     "name": "stdout",
     "output_type": "stream",
     "text": [
      "Strong Sell: MACD is below Signal Line and both are falling.\n"
     ]
    },
    {
     "data": {
      "application/vnd.plotly.v1+json": {
       "config": {
        "plotlyServerURL": "https://plot.ly"
       },
       "data": [
        {
         "hovertemplate": "Date: %{x|%b %d}<br>RSI: %{y:.2f}<extra></extra>",
         "line": {
          "color": "dodgerblue",
          "width": 2
         },
         "mode": "lines",
         "name": "RSI",
         "type": "scatter",
         "x": [
          "2023-10-31T00:00:00+05:30",
          "2023-11-01T00:00:00+05:30",
          "2023-11-02T00:00:00+05:30",
          "2023-11-03T00:00:00+05:30",
          "2023-11-06T00:00:00+05:30",
          "2023-11-07T00:00:00+05:30",
          "2023-11-08T00:00:00+05:30",
          "2023-11-09T00:00:00+05:30",
          "2023-11-10T00:00:00+05:30",
          "2023-11-13T00:00:00+05:30",
          "2023-11-15T00:00:00+05:30",
          "2023-11-16T00:00:00+05:30",
          "2023-11-17T00:00:00+05:30",
          "2023-11-20T00:00:00+05:30",
          "2023-11-21T00:00:00+05:30",
          "2023-11-22T00:00:00+05:30",
          "2023-11-23T00:00:00+05:30",
          "2023-11-24T00:00:00+05:30",
          "2023-11-28T00:00:00+05:30",
          "2023-11-29T00:00:00+05:30",
          "2023-11-30T00:00:00+05:30",
          "2023-12-01T00:00:00+05:30",
          "2023-12-04T00:00:00+05:30",
          "2023-12-05T00:00:00+05:30",
          "2023-12-06T00:00:00+05:30",
          "2023-12-07T00:00:00+05:30",
          "2023-12-08T00:00:00+05:30",
          "2023-12-11T00:00:00+05:30",
          "2023-12-12T00:00:00+05:30",
          "2023-12-13T00:00:00+05:30",
          "2023-12-14T00:00:00+05:30",
          "2023-12-15T00:00:00+05:30",
          "2023-12-18T00:00:00+05:30",
          "2023-12-19T00:00:00+05:30",
          "2023-12-20T00:00:00+05:30",
          "2023-12-21T00:00:00+05:30",
          "2023-12-22T00:00:00+05:30",
          "2023-12-26T00:00:00+05:30",
          "2023-12-27T00:00:00+05:30",
          "2023-12-28T00:00:00+05:30",
          "2023-12-29T00:00:00+05:30",
          "2024-01-01T00:00:00+05:30",
          "2024-01-02T00:00:00+05:30",
          "2024-01-03T00:00:00+05:30",
          "2024-01-04T00:00:00+05:30",
          "2024-01-05T00:00:00+05:30",
          "2024-01-08T00:00:00+05:30",
          "2024-01-09T00:00:00+05:30",
          "2024-01-10T00:00:00+05:30",
          "2024-01-11T00:00:00+05:30",
          "2024-01-12T00:00:00+05:30",
          "2024-01-15T00:00:00+05:30",
          "2024-01-16T00:00:00+05:30",
          "2024-01-17T00:00:00+05:30",
          "2024-01-18T00:00:00+05:30",
          "2024-01-19T00:00:00+05:30",
          "2024-01-23T00:00:00+05:30",
          "2024-01-24T00:00:00+05:30",
          "2024-01-25T00:00:00+05:30",
          "2024-01-29T00:00:00+05:30",
          "2024-01-30T00:00:00+05:30",
          "2024-01-31T00:00:00+05:30",
          "2024-02-01T00:00:00+05:30",
          "2024-02-02T00:00:00+05:30",
          "2024-02-05T00:00:00+05:30",
          "2024-02-06T00:00:00+05:30",
          "2024-02-07T00:00:00+05:30",
          "2024-02-08T00:00:00+05:30",
          "2024-02-09T00:00:00+05:30",
          "2024-02-12T00:00:00+05:30",
          "2024-02-13T00:00:00+05:30",
          "2024-02-14T00:00:00+05:30",
          "2024-02-15T00:00:00+05:30",
          "2024-02-16T00:00:00+05:30",
          "2024-02-19T00:00:00+05:30",
          "2024-02-20T00:00:00+05:30",
          "2024-02-21T00:00:00+05:30",
          "2024-02-22T00:00:00+05:30",
          "2024-02-23T00:00:00+05:30",
          "2024-02-26T00:00:00+05:30",
          "2024-02-27T00:00:00+05:30",
          "2024-02-28T00:00:00+05:30",
          "2024-02-29T00:00:00+05:30",
          "2024-03-01T00:00:00+05:30",
          "2024-03-04T00:00:00+05:30",
          "2024-03-05T00:00:00+05:30",
          "2024-03-06T00:00:00+05:30",
          "2024-03-07T00:00:00+05:30",
          "2024-03-11T00:00:00+05:30",
          "2024-03-12T00:00:00+05:30",
          "2024-03-13T00:00:00+05:30",
          "2024-03-14T00:00:00+05:30",
          "2024-03-15T00:00:00+05:30",
          "2024-03-18T00:00:00+05:30",
          "2024-03-19T00:00:00+05:30",
          "2024-03-20T00:00:00+05:30",
          "2024-03-21T00:00:00+05:30",
          "2024-03-22T00:00:00+05:30",
          "2024-03-26T00:00:00+05:30",
          "2024-03-27T00:00:00+05:30",
          "2024-03-28T00:00:00+05:30",
          "2024-04-01T00:00:00+05:30",
          "2024-04-02T00:00:00+05:30",
          "2024-04-03T00:00:00+05:30",
          "2024-04-04T00:00:00+05:30",
          "2024-04-05T00:00:00+05:30",
          "2024-04-08T00:00:00+05:30",
          "2024-04-09T00:00:00+05:30",
          "2024-04-10T00:00:00+05:30",
          "2024-04-12T00:00:00+05:30",
          "2024-04-15T00:00:00+05:30",
          "2024-04-16T00:00:00+05:30",
          "2024-04-18T00:00:00+05:30",
          "2024-04-19T00:00:00+05:30",
          "2024-04-22T00:00:00+05:30",
          "2024-04-23T00:00:00+05:30",
          "2024-04-24T00:00:00+05:30",
          "2024-04-25T00:00:00+05:30",
          "2024-04-26T00:00:00+05:30",
          "2024-04-29T00:00:00+05:30",
          "2024-04-30T00:00:00+05:30",
          "2024-05-02T00:00:00+05:30",
          "2024-05-03T00:00:00+05:30",
          "2024-05-06T00:00:00+05:30",
          "2024-05-07T00:00:00+05:30",
          "2024-05-08T00:00:00+05:30",
          "2024-05-09T00:00:00+05:30",
          "2024-05-10T00:00:00+05:30",
          "2024-05-13T00:00:00+05:30",
          "2024-05-14T00:00:00+05:30",
          "2024-05-15T00:00:00+05:30",
          "2024-05-16T00:00:00+05:30",
          "2024-05-17T00:00:00+05:30",
          "2024-05-21T00:00:00+05:30",
          "2024-05-22T00:00:00+05:30",
          "2024-05-23T00:00:00+05:30",
          "2024-05-24T00:00:00+05:30",
          "2024-05-27T00:00:00+05:30",
          "2024-05-28T00:00:00+05:30",
          "2024-05-29T00:00:00+05:30",
          "2024-05-30T00:00:00+05:30",
          "2024-05-31T00:00:00+05:30",
          "2024-06-03T00:00:00+05:30",
          "2024-06-04T00:00:00+05:30",
          "2024-06-05T00:00:00+05:30",
          "2024-06-06T00:00:00+05:30",
          "2024-06-07T00:00:00+05:30",
          "2024-06-10T00:00:00+05:30",
          "2024-06-11T00:00:00+05:30",
          "2024-06-12T00:00:00+05:30",
          "2024-06-13T00:00:00+05:30",
          "2024-06-14T00:00:00+05:30",
          "2024-06-18T00:00:00+05:30",
          "2024-06-19T00:00:00+05:30",
          "2024-06-20T00:00:00+05:30",
          "2024-06-21T00:00:00+05:30",
          "2024-06-24T00:00:00+05:30",
          "2024-06-25T00:00:00+05:30",
          "2024-06-26T00:00:00+05:30",
          "2024-06-27T00:00:00+05:30",
          "2024-06-28T00:00:00+05:30",
          "2024-07-01T00:00:00+05:30",
          "2024-07-02T00:00:00+05:30",
          "2024-07-03T00:00:00+05:30",
          "2024-07-04T00:00:00+05:30",
          "2024-07-05T00:00:00+05:30",
          "2024-07-08T00:00:00+05:30",
          "2024-07-09T00:00:00+05:30",
          "2024-07-10T00:00:00+05:30",
          "2024-07-11T00:00:00+05:30",
          "2024-07-12T00:00:00+05:30",
          "2024-07-15T00:00:00+05:30",
          "2024-07-16T00:00:00+05:30",
          "2024-07-18T00:00:00+05:30",
          "2024-07-19T00:00:00+05:30",
          "2024-07-22T00:00:00+05:30",
          "2024-07-23T00:00:00+05:30",
          "2024-07-24T00:00:00+05:30",
          "2024-07-25T00:00:00+05:30",
          "2024-07-26T00:00:00+05:30",
          "2024-07-29T00:00:00+05:30",
          "2024-07-30T00:00:00+05:30",
          "2024-07-31T00:00:00+05:30",
          "2024-08-01T00:00:00+05:30",
          "2024-08-02T00:00:00+05:30",
          "2024-08-05T00:00:00+05:30",
          "2024-08-06T00:00:00+05:30",
          "2024-08-07T00:00:00+05:30",
          "2024-08-08T00:00:00+05:30",
          "2024-08-09T00:00:00+05:30",
          "2024-08-12T00:00:00+05:30",
          "2024-08-13T00:00:00+05:30",
          "2024-08-14T00:00:00+05:30",
          "2024-08-16T00:00:00+05:30",
          "2024-08-19T00:00:00+05:30",
          "2024-08-20T00:00:00+05:30",
          "2024-08-21T00:00:00+05:30",
          "2024-08-22T00:00:00+05:30",
          "2024-08-23T00:00:00+05:30",
          "2024-08-26T00:00:00+05:30",
          "2024-08-27T00:00:00+05:30",
          "2024-08-28T00:00:00+05:30",
          "2024-08-29T00:00:00+05:30",
          "2024-08-30T00:00:00+05:30",
          "2024-09-02T00:00:00+05:30",
          "2024-09-03T00:00:00+05:30",
          "2024-09-04T00:00:00+05:30",
          "2024-09-05T00:00:00+05:30",
          "2024-09-06T00:00:00+05:30",
          "2024-09-09T00:00:00+05:30",
          "2024-09-10T00:00:00+05:30",
          "2024-09-11T00:00:00+05:30",
          "2024-09-12T00:00:00+05:30",
          "2024-09-13T00:00:00+05:30",
          "2024-09-16T00:00:00+05:30",
          "2024-09-17T00:00:00+05:30",
          "2024-09-18T00:00:00+05:30",
          "2024-09-19T00:00:00+05:30",
          "2024-09-20T00:00:00+05:30",
          "2024-09-23T00:00:00+05:30",
          "2024-09-24T00:00:00+05:30",
          "2024-09-25T00:00:00+05:30",
          "2024-09-26T00:00:00+05:30",
          "2024-09-27T00:00:00+05:30",
          "2024-09-30T00:00:00+05:30",
          "2024-10-01T00:00:00+05:30",
          "2024-10-03T00:00:00+05:30",
          "2024-10-04T00:00:00+05:30",
          "2024-10-07T00:00:00+05:30",
          "2024-10-08T00:00:00+05:30",
          "2024-10-09T00:00:00+05:30",
          "2024-10-10T00:00:00+05:30"
         ],
         "y": [
          29.280704532259648,
          25.30715132724606,
          32.218263553413976,
          30.592474754681405,
          39.25750044597669,
          40.214406061959245,
          38.641077788253604,
          41.12179320897866,
          42.78262708814476,
          46.63286511579086,
          56.705699969516004,
          58.50328349274995,
          59.883106378509865,
          56.446860739430775,
          61.73286927749181,
          61.10234692162078,
          62.74158419055799,
          59.373348991692865,
          62.00904502635163,
          64.49000412746366,
          64.90141306920965,
          70.12053429133759,
          72.2375912295276,
          73.4529638077867,
          73.96438913893098,
          64.12003340296943,
          60.37767266972765,
          62.858112809944295,
          63.00484488305195,
          66.68906937267252,
          68.2601626752891,
          76.94516647596961,
          77.17193603824211,
          71.14357408062558,
          50.95922580906382,
          54.06433892002367,
          59.673779618492446,
          62.83617410478077,
          66.28728067804329,
          67.8160742908849,
          70.04865589786394,
          70.42954286084137,
          69.47803581885066,
          55.701456752688316,
          52.78411888990721,
          51.20866444867146,
          47.04976489329698,
          51.30842958794676,
          52.432091336228424,
          54.44477532647454,
          55.45957205295829,
          54.16028097318754,
          60.077703954966424,
          45.127752429802975,
          43.76641625437639,
          51.62443125523447,
          43.30321449735843,
          53.19079883606215,
          50.55843252750397,
          52.8042799446186,
          52.19154412347508,
          54.557727741306344,
          52.00747654839467,
          59.00587134396433,
          63.226056043106844,
          67.18340117027373,
          66.56133322325874,
          64.62794032518559,
          58.85903841814823,
          50.760869625309994,
          51.58853983306799,
          57.337686583630266,
          57.33768658363026,
          59.18361698009646,
          58.31896439697395,
          56.0513281394069,
          61.19674701024491,
          64.35097517581806,
          63.10798879340554,
          55.875689258867666,
          58.69747277574976,
          50.89559552605368,
          51.098484208418924,
          65.19279268442435,
          68.56974504213593,
          65.83996636967987,
          65.28019938830067,
          71.23264750512145,
          63.36430280986844,
          61.53434438182652,
          47.71071842712141,
          46.195348331337755,
          45.228426578407145,
          55.84491754703366,
          54.49410221011315,
          50.22486260534637,
          55.60197295507557,
          57.491218922988786,
          58.16778585432505,
          58.52326481435543,
          62.1592882241449,
          68.95208789432044,
          70.13829501503054,
          68.26578294280748,
          67.77859091833761,
          67.67460483279203,
          69.53746936604787,
          70.33363280315288,
          68.05886070589253,
          64.3990944545408,
          58.59754409317757,
          56.9301355707011,
          56.9301355707011,
          60.288361708169234,
          59.677274694527945,
          57.90730845996441,
          64.94510849604444,
          67.77992157513239,
          62.93621851508202,
          65.1920357706507,
          59.356283709775326,
          62.86191440049466,
          60.81853572186587,
          62.5166034929804,
          54.736458769882724,
          57.777013268796594,
          49.518006419027245,
          50.16502907943518,
          53.122864731448125,
          55.09608206437592,
          56.26756910022126,
          56.82736993065477,
          59.52430011960939,
          69.44695732487243,
          66.80152164653205,
          69.42916094953155,
          67.72361185980151,
          68.55547527614424,
          66.84291478961823,
          64.9500093711859,
          44.067404030983305,
          49.36213283689547,
          59.01898963146889,
          40.823678115899185,
          51.59106048319044,
          54.092306113416114,
          59.50769121540645,
          60.52528303972997,
          61.30875051970427,
          62.01140361139693,
          62.2818885807496,
          62.791980972363575,
          59.79562347394804,
          58.1756586865814,
          60.5409665690226,
          61.86203292988065,
          58.54501081840609,
          54.89483633728638,
          50.27548417553487,
          52.483714984960585,
          52.249434397194314,
          52.34109163407656,
          53.100339350977826,
          56.03715391882766,
          55.87243725854053,
          52.58497138850001,
          47.91539300516482,
          47.027055138084755,
          40.57916365628922,
          42.66249429795754,
          42.27197058889225,
          39.04228394747912,
          39.83741663736762,
          38.5957143130278,
          27.448613205343946,
          33.5812333973231,
          33.225405255307464,
          33.9539188453102,
          30.36192917733166,
          42.0322709174489,
          42.673869437930115,
          45.12670937685624,
          47.65907075049051,
          43.74245856066889,
          36.798620539844315,
          28.378707218382914,
          29.414016880534177,
          36.42140474598925,
          32.86776531640001,
          35.752878537529156,
          36.23510056383979,
          32.856862477770264,
          30.267096754967653,
          36.88922816672004,
          44.42246502324258,
          44.38389681490393,
          41.76853840402594,
          45.582590931964624,
          45.68613012483007,
          48.332941635879926,
          46.699084576427836,
          45.058741929710216,
          43.847920192310596,
          43.485888128657656,
          43.77159723629194,
          42.368444396379196,
          40.510193009412255,
          42.034404678025055,
          40.98726241054446,
          37.46901932168462,
          37.37031258207206,
          34.895501190366815,
          45.91234740004078,
          50.34780436449354,
          52.08864322688071,
          48.54970660273707,
          43.46995770610813,
          41.25059424825929,
          47.94659547296048,
          52.57097837004198,
          64.00386724255566,
          65.54912105453988,
          70.3419097718538,
          71.36292799629155,
          73.45670686616626,
          69.30915071150936,
          69.1707877251342,
          68.49347923667791,
          61.729261439487914,
          50.790197034623226,
          49.8853688771004,
          51.08891661519596
         ]
        }
       ],
       "layout": {
        "font": {
         "size": 14
        },
        "hovermode": "x unified",
        "legend": {
         "font": {
          "size": 12
         },
         "x": 0.01,
         "y": 0.99
        },
        "plot_bgcolor": "white",
        "shapes": [
         {
          "line": {
           "color": "red",
           "dash": "dash",
           "width": 2
          },
          "type": "line",
          "x0": 0,
          "x1": 1,
          "xref": "x domain",
          "y0": 70,
          "y1": 70,
          "yref": "y"
         },
         {
          "line": {
           "color": "green",
           "dash": "dash",
           "width": 2
          },
          "type": "line",
          "x0": 0,
          "x1": 1,
          "xref": "x domain",
          "y0": 30,
          "y1": 30,
          "yref": "y"
         }
        ],
        "showlegend": true,
        "template": {
         "data": {
          "bar": [
           {
            "error_x": {
             "color": "#2a3f5f"
            },
            "error_y": {
             "color": "#2a3f5f"
            },
            "marker": {
             "line": {
              "color": "#E5ECF6",
              "width": 0.5
             },
             "pattern": {
              "fillmode": "overlay",
              "size": 10,
              "solidity": 0.2
             }
            },
            "type": "bar"
           }
          ],
          "barpolar": [
           {
            "marker": {
             "line": {
              "color": "#E5ECF6",
              "width": 0.5
             },
             "pattern": {
              "fillmode": "overlay",
              "size": 10,
              "solidity": 0.2
             }
            },
            "type": "barpolar"
           }
          ],
          "carpet": [
           {
            "aaxis": {
             "endlinecolor": "#2a3f5f",
             "gridcolor": "white",
             "linecolor": "white",
             "minorgridcolor": "white",
             "startlinecolor": "#2a3f5f"
            },
            "baxis": {
             "endlinecolor": "#2a3f5f",
             "gridcolor": "white",
             "linecolor": "white",
             "minorgridcolor": "white",
             "startlinecolor": "#2a3f5f"
            },
            "type": "carpet"
           }
          ],
          "choropleth": [
           {
            "colorbar": {
             "outlinewidth": 0,
             "ticks": ""
            },
            "type": "choropleth"
           }
          ],
          "contour": [
           {
            "colorbar": {
             "outlinewidth": 0,
             "ticks": ""
            },
            "colorscale": [
             [
              0,
              "#0d0887"
             ],
             [
              0.1111111111111111,
              "#46039f"
             ],
             [
              0.2222222222222222,
              "#7201a8"
             ],
             [
              0.3333333333333333,
              "#9c179e"
             ],
             [
              0.4444444444444444,
              "#bd3786"
             ],
             [
              0.5555555555555556,
              "#d8576b"
             ],
             [
              0.6666666666666666,
              "#ed7953"
             ],
             [
              0.7777777777777778,
              "#fb9f3a"
             ],
             [
              0.8888888888888888,
              "#fdca26"
             ],
             [
              1,
              "#f0f921"
             ]
            ],
            "type": "contour"
           }
          ],
          "contourcarpet": [
           {
            "colorbar": {
             "outlinewidth": 0,
             "ticks": ""
            },
            "type": "contourcarpet"
           }
          ],
          "heatmap": [
           {
            "colorbar": {
             "outlinewidth": 0,
             "ticks": ""
            },
            "colorscale": [
             [
              0,
              "#0d0887"
             ],
             [
              0.1111111111111111,
              "#46039f"
             ],
             [
              0.2222222222222222,
              "#7201a8"
             ],
             [
              0.3333333333333333,
              "#9c179e"
             ],
             [
              0.4444444444444444,
              "#bd3786"
             ],
             [
              0.5555555555555556,
              "#d8576b"
             ],
             [
              0.6666666666666666,
              "#ed7953"
             ],
             [
              0.7777777777777778,
              "#fb9f3a"
             ],
             [
              0.8888888888888888,
              "#fdca26"
             ],
             [
              1,
              "#f0f921"
             ]
            ],
            "type": "heatmap"
           }
          ],
          "heatmapgl": [
           {
            "colorbar": {
             "outlinewidth": 0,
             "ticks": ""
            },
            "colorscale": [
             [
              0,
              "#0d0887"
             ],
             [
              0.1111111111111111,
              "#46039f"
             ],
             [
              0.2222222222222222,
              "#7201a8"
             ],
             [
              0.3333333333333333,
              "#9c179e"
             ],
             [
              0.4444444444444444,
              "#bd3786"
             ],
             [
              0.5555555555555556,
              "#d8576b"
             ],
             [
              0.6666666666666666,
              "#ed7953"
             ],
             [
              0.7777777777777778,
              "#fb9f3a"
             ],
             [
              0.8888888888888888,
              "#fdca26"
             ],
             [
              1,
              "#f0f921"
             ]
            ],
            "type": "heatmapgl"
           }
          ],
          "histogram": [
           {
            "marker": {
             "pattern": {
              "fillmode": "overlay",
              "size": 10,
              "solidity": 0.2
             }
            },
            "type": "histogram"
           }
          ],
          "histogram2d": [
           {
            "colorbar": {
             "outlinewidth": 0,
             "ticks": ""
            },
            "colorscale": [
             [
              0,
              "#0d0887"
             ],
             [
              0.1111111111111111,
              "#46039f"
             ],
             [
              0.2222222222222222,
              "#7201a8"
             ],
             [
              0.3333333333333333,
              "#9c179e"
             ],
             [
              0.4444444444444444,
              "#bd3786"
             ],
             [
              0.5555555555555556,
              "#d8576b"
             ],
             [
              0.6666666666666666,
              "#ed7953"
             ],
             [
              0.7777777777777778,
              "#fb9f3a"
             ],
             [
              0.8888888888888888,
              "#fdca26"
             ],
             [
              1,
              "#f0f921"
             ]
            ],
            "type": "histogram2d"
           }
          ],
          "histogram2dcontour": [
           {
            "colorbar": {
             "outlinewidth": 0,
             "ticks": ""
            },
            "colorscale": [
             [
              0,
              "#0d0887"
             ],
             [
              0.1111111111111111,
              "#46039f"
             ],
             [
              0.2222222222222222,
              "#7201a8"
             ],
             [
              0.3333333333333333,
              "#9c179e"
             ],
             [
              0.4444444444444444,
              "#bd3786"
             ],
             [
              0.5555555555555556,
              "#d8576b"
             ],
             [
              0.6666666666666666,
              "#ed7953"
             ],
             [
              0.7777777777777778,
              "#fb9f3a"
             ],
             [
              0.8888888888888888,
              "#fdca26"
             ],
             [
              1,
              "#f0f921"
             ]
            ],
            "type": "histogram2dcontour"
           }
          ],
          "mesh3d": [
           {
            "colorbar": {
             "outlinewidth": 0,
             "ticks": ""
            },
            "type": "mesh3d"
           }
          ],
          "parcoords": [
           {
            "line": {
             "colorbar": {
              "outlinewidth": 0,
              "ticks": ""
             }
            },
            "type": "parcoords"
           }
          ],
          "pie": [
           {
            "automargin": true,
            "type": "pie"
           }
          ],
          "scatter": [
           {
            "fillpattern": {
             "fillmode": "overlay",
             "size": 10,
             "solidity": 0.2
            },
            "type": "scatter"
           }
          ],
          "scatter3d": [
           {
            "line": {
             "colorbar": {
              "outlinewidth": 0,
              "ticks": ""
             }
            },
            "marker": {
             "colorbar": {
              "outlinewidth": 0,
              "ticks": ""
             }
            },
            "type": "scatter3d"
           }
          ],
          "scattercarpet": [
           {
            "marker": {
             "colorbar": {
              "outlinewidth": 0,
              "ticks": ""
             }
            },
            "type": "scattercarpet"
           }
          ],
          "scattergeo": [
           {
            "marker": {
             "colorbar": {
              "outlinewidth": 0,
              "ticks": ""
             }
            },
            "type": "scattergeo"
           }
          ],
          "scattergl": [
           {
            "marker": {
             "colorbar": {
              "outlinewidth": 0,
              "ticks": ""
             }
            },
            "type": "scattergl"
           }
          ],
          "scattermapbox": [
           {
            "marker": {
             "colorbar": {
              "outlinewidth": 0,
              "ticks": ""
             }
            },
            "type": "scattermapbox"
           }
          ],
          "scatterpolar": [
           {
            "marker": {
             "colorbar": {
              "outlinewidth": 0,
              "ticks": ""
             }
            },
            "type": "scatterpolar"
           }
          ],
          "scatterpolargl": [
           {
            "marker": {
             "colorbar": {
              "outlinewidth": 0,
              "ticks": ""
             }
            },
            "type": "scatterpolargl"
           }
          ],
          "scatterternary": [
           {
            "marker": {
             "colorbar": {
              "outlinewidth": 0,
              "ticks": ""
             }
            },
            "type": "scatterternary"
           }
          ],
          "surface": [
           {
            "colorbar": {
             "outlinewidth": 0,
             "ticks": ""
            },
            "colorscale": [
             [
              0,
              "#0d0887"
             ],
             [
              0.1111111111111111,
              "#46039f"
             ],
             [
              0.2222222222222222,
              "#7201a8"
             ],
             [
              0.3333333333333333,
              "#9c179e"
             ],
             [
              0.4444444444444444,
              "#bd3786"
             ],
             [
              0.5555555555555556,
              "#d8576b"
             ],
             [
              0.6666666666666666,
              "#ed7953"
             ],
             [
              0.7777777777777778,
              "#fb9f3a"
             ],
             [
              0.8888888888888888,
              "#fdca26"
             ],
             [
              1,
              "#f0f921"
             ]
            ],
            "type": "surface"
           }
          ],
          "table": [
           {
            "cells": {
             "fill": {
              "color": "#EBF0F8"
             },
             "line": {
              "color": "white"
             }
            },
            "header": {
             "fill": {
              "color": "#C8D4E3"
             },
             "line": {
              "color": "white"
             }
            },
            "type": "table"
           }
          ]
         },
         "layout": {
          "annotationdefaults": {
           "arrowcolor": "#2a3f5f",
           "arrowhead": 0,
           "arrowwidth": 1
          },
          "autotypenumbers": "strict",
          "coloraxis": {
           "colorbar": {
            "outlinewidth": 0,
            "ticks": ""
           }
          },
          "colorscale": {
           "diverging": [
            [
             0,
             "#8e0152"
            ],
            [
             0.1,
             "#c51b7d"
            ],
            [
             0.2,
             "#de77ae"
            ],
            [
             0.3,
             "#f1b6da"
            ],
            [
             0.4,
             "#fde0ef"
            ],
            [
             0.5,
             "#f7f7f7"
            ],
            [
             0.6,
             "#e6f5d0"
            ],
            [
             0.7,
             "#b8e186"
            ],
            [
             0.8,
             "#7fbc41"
            ],
            [
             0.9,
             "#4d9221"
            ],
            [
             1,
             "#276419"
            ]
           ],
           "sequential": [
            [
             0,
             "#0d0887"
            ],
            [
             0.1111111111111111,
             "#46039f"
            ],
            [
             0.2222222222222222,
             "#7201a8"
            ],
            [
             0.3333333333333333,
             "#9c179e"
            ],
            [
             0.4444444444444444,
             "#bd3786"
            ],
            [
             0.5555555555555556,
             "#d8576b"
            ],
            [
             0.6666666666666666,
             "#ed7953"
            ],
            [
             0.7777777777777778,
             "#fb9f3a"
            ],
            [
             0.8888888888888888,
             "#fdca26"
            ],
            [
             1,
             "#f0f921"
            ]
           ],
           "sequentialminus": [
            [
             0,
             "#0d0887"
            ],
            [
             0.1111111111111111,
             "#46039f"
            ],
            [
             0.2222222222222222,
             "#7201a8"
            ],
            [
             0.3333333333333333,
             "#9c179e"
            ],
            [
             0.4444444444444444,
             "#bd3786"
            ],
            [
             0.5555555555555556,
             "#d8576b"
            ],
            [
             0.6666666666666666,
             "#ed7953"
            ],
            [
             0.7777777777777778,
             "#fb9f3a"
            ],
            [
             0.8888888888888888,
             "#fdca26"
            ],
            [
             1,
             "#f0f921"
            ]
           ]
          },
          "colorway": [
           "#636efa",
           "#EF553B",
           "#00cc96",
           "#ab63fa",
           "#FFA15A",
           "#19d3f3",
           "#FF6692",
           "#B6E880",
           "#FF97FF",
           "#FECB52"
          ],
          "font": {
           "color": "#2a3f5f"
          },
          "geo": {
           "bgcolor": "white",
           "lakecolor": "white",
           "landcolor": "#E5ECF6",
           "showlakes": true,
           "showland": true,
           "subunitcolor": "white"
          },
          "hoverlabel": {
           "align": "left"
          },
          "hovermode": "closest",
          "mapbox": {
           "style": "light"
          },
          "paper_bgcolor": "white",
          "plot_bgcolor": "#E5ECF6",
          "polar": {
           "angularaxis": {
            "gridcolor": "white",
            "linecolor": "white",
            "ticks": ""
           },
           "bgcolor": "#E5ECF6",
           "radialaxis": {
            "gridcolor": "white",
            "linecolor": "white",
            "ticks": ""
           }
          },
          "scene": {
           "xaxis": {
            "backgroundcolor": "#E5ECF6",
            "gridcolor": "white",
            "gridwidth": 2,
            "linecolor": "white",
            "showbackground": true,
            "ticks": "",
            "zerolinecolor": "white"
           },
           "yaxis": {
            "backgroundcolor": "#E5ECF6",
            "gridcolor": "white",
            "gridwidth": 2,
            "linecolor": "white",
            "showbackground": true,
            "ticks": "",
            "zerolinecolor": "white"
           },
           "zaxis": {
            "backgroundcolor": "#E5ECF6",
            "gridcolor": "white",
            "gridwidth": 2,
            "linecolor": "white",
            "showbackground": true,
            "ticks": "",
            "zerolinecolor": "white"
           }
          },
          "shapedefaults": {
           "line": {
            "color": "#2a3f5f"
           }
          },
          "ternary": {
           "aaxis": {
            "gridcolor": "white",
            "linecolor": "white",
            "ticks": ""
           },
           "baxis": {
            "gridcolor": "white",
            "linecolor": "white",
            "ticks": ""
           },
           "bgcolor": "#E5ECF6",
           "caxis": {
            "gridcolor": "white",
            "linecolor": "white",
            "ticks": ""
           }
          },
          "title": {
           "x": 0.05
          },
          "xaxis": {
           "automargin": true,
           "gridcolor": "white",
           "linecolor": "white",
           "ticks": "",
           "title": {
            "standoff": 15
           },
           "zerolinecolor": "white",
           "zerolinewidth": 2
          },
          "yaxis": {
           "automargin": true,
           "gridcolor": "white",
           "linecolor": "white",
           "ticks": "",
           "title": {
            "standoff": 15
           },
           "zerolinecolor": "white",
           "zerolinewidth": 2
          }
         }
        },
        "title": {
         "text": "RSI (Relative Strength Index)"
        },
        "xaxis": {
         "nticks": 10,
         "range": [
          "2023-11-17T00:00:00+05:30",
          "2024-10-30T00:00:00+05:30"
         ],
         "showgrid": true,
         "showline": true,
         "showticklabels": true,
         "tickmode": "auto",
         "title": {
          "text": "Date"
         },
         "zeroline": false
        },
        "yaxis": {
         "dtick": 10,
         "range": [
          0,
          100
         ],
         "showgrid": true,
         "showline": true,
         "showticklabels": true,
         "tick0": 0,
         "tickmode": "linear",
         "title": {
          "text": "RSI Value"
         },
         "zeroline": false
        }
       }
      },
      "text/html": [
       "<div>                            <div id=\"e0eec514-d669-446c-9517-9fd8245d99f2\" class=\"plotly-graph-div\" style=\"height:525px; width:100%;\"></div>            <script type=\"text/javascript\">                require([\"plotly\"], function(Plotly) {                    window.PLOTLYENV=window.PLOTLYENV || {};                                    if (document.getElementById(\"e0eec514-d669-446c-9517-9fd8245d99f2\")) {                    Plotly.newPlot(                        \"e0eec514-d669-446c-9517-9fd8245d99f2\",                        [{\"hovertemplate\":\"Date: %{x|%b %d}\\u003cbr\\u003eRSI: %{y:.2f}\\u003cextra\\u003e\\u003c\\u002fextra\\u003e\",\"line\":{\"color\":\"dodgerblue\",\"width\":2},\"mode\":\"lines\",\"name\":\"RSI\",\"x\":[\"2023-10-31T00:00:00+05:30\",\"2023-11-01T00:00:00+05:30\",\"2023-11-02T00:00:00+05:30\",\"2023-11-03T00:00:00+05:30\",\"2023-11-06T00:00:00+05:30\",\"2023-11-07T00:00:00+05:30\",\"2023-11-08T00:00:00+05:30\",\"2023-11-09T00:00:00+05:30\",\"2023-11-10T00:00:00+05:30\",\"2023-11-13T00:00:00+05:30\",\"2023-11-15T00:00:00+05:30\",\"2023-11-16T00:00:00+05:30\",\"2023-11-17T00:00:00+05:30\",\"2023-11-20T00:00:00+05:30\",\"2023-11-21T00:00:00+05:30\",\"2023-11-22T00:00:00+05:30\",\"2023-11-23T00:00:00+05:30\",\"2023-11-24T00:00:00+05:30\",\"2023-11-28T00:00:00+05:30\",\"2023-11-29T00:00:00+05:30\",\"2023-11-30T00:00:00+05:30\",\"2023-12-01T00:00:00+05:30\",\"2023-12-04T00:00:00+05:30\",\"2023-12-05T00:00:00+05:30\",\"2023-12-06T00:00:00+05:30\",\"2023-12-07T00:00:00+05:30\",\"2023-12-08T00:00:00+05:30\",\"2023-12-11T00:00:00+05:30\",\"2023-12-12T00:00:00+05:30\",\"2023-12-13T00:00:00+05:30\",\"2023-12-14T00:00:00+05:30\",\"2023-12-15T00:00:00+05:30\",\"2023-12-18T00:00:00+05:30\",\"2023-12-19T00:00:00+05:30\",\"2023-12-20T00:00:00+05:30\",\"2023-12-21T00:00:00+05:30\",\"2023-12-22T00:00:00+05:30\",\"2023-12-26T00:00:00+05:30\",\"2023-12-27T00:00:00+05:30\",\"2023-12-28T00:00:00+05:30\",\"2023-12-29T00:00:00+05:30\",\"2024-01-01T00:00:00+05:30\",\"2024-01-02T00:00:00+05:30\",\"2024-01-03T00:00:00+05:30\",\"2024-01-04T00:00:00+05:30\",\"2024-01-05T00:00:00+05:30\",\"2024-01-08T00:00:00+05:30\",\"2024-01-09T00:00:00+05:30\",\"2024-01-10T00:00:00+05:30\",\"2024-01-11T00:00:00+05:30\",\"2024-01-12T00:00:00+05:30\",\"2024-01-15T00:00:00+05:30\",\"2024-01-16T00:00:00+05:30\",\"2024-01-17T00:00:00+05:30\",\"2024-01-18T00:00:00+05:30\",\"2024-01-19T00:00:00+05:30\",\"2024-01-23T00:00:00+05:30\",\"2024-01-24T00:00:00+05:30\",\"2024-01-25T00:00:00+05:30\",\"2024-01-29T00:00:00+05:30\",\"2024-01-30T00:00:00+05:30\",\"2024-01-31T00:00:00+05:30\",\"2024-02-01T00:00:00+05:30\",\"2024-02-02T00:00:00+05:30\",\"2024-02-05T00:00:00+05:30\",\"2024-02-06T00:00:00+05:30\",\"2024-02-07T00:00:00+05:30\",\"2024-02-08T00:00:00+05:30\",\"2024-02-09T00:00:00+05:30\",\"2024-02-12T00:00:00+05:30\",\"2024-02-13T00:00:00+05:30\",\"2024-02-14T00:00:00+05:30\",\"2024-02-15T00:00:00+05:30\",\"2024-02-16T00:00:00+05:30\",\"2024-02-19T00:00:00+05:30\",\"2024-02-20T00:00:00+05:30\",\"2024-02-21T00:00:00+05:30\",\"2024-02-22T00:00:00+05:30\",\"2024-02-23T00:00:00+05:30\",\"2024-02-26T00:00:00+05:30\",\"2024-02-27T00:00:00+05:30\",\"2024-02-28T00:00:00+05:30\",\"2024-02-29T00:00:00+05:30\",\"2024-03-01T00:00:00+05:30\",\"2024-03-04T00:00:00+05:30\",\"2024-03-05T00:00:00+05:30\",\"2024-03-06T00:00:00+05:30\",\"2024-03-07T00:00:00+05:30\",\"2024-03-11T00:00:00+05:30\",\"2024-03-12T00:00:00+05:30\",\"2024-03-13T00:00:00+05:30\",\"2024-03-14T00:00:00+05:30\",\"2024-03-15T00:00:00+05:30\",\"2024-03-18T00:00:00+05:30\",\"2024-03-19T00:00:00+05:30\",\"2024-03-20T00:00:00+05:30\",\"2024-03-21T00:00:00+05:30\",\"2024-03-22T00:00:00+05:30\",\"2024-03-26T00:00:00+05:30\",\"2024-03-27T00:00:00+05:30\",\"2024-03-28T00:00:00+05:30\",\"2024-04-01T00:00:00+05:30\",\"2024-04-02T00:00:00+05:30\",\"2024-04-03T00:00:00+05:30\",\"2024-04-04T00:00:00+05:30\",\"2024-04-05T00:00:00+05:30\",\"2024-04-08T00:00:00+05:30\",\"2024-04-09T00:00:00+05:30\",\"2024-04-10T00:00:00+05:30\",\"2024-04-12T00:00:00+05:30\",\"2024-04-15T00:00:00+05:30\",\"2024-04-16T00:00:00+05:30\",\"2024-04-18T00:00:00+05:30\",\"2024-04-19T00:00:00+05:30\",\"2024-04-22T00:00:00+05:30\",\"2024-04-23T00:00:00+05:30\",\"2024-04-24T00:00:00+05:30\",\"2024-04-25T00:00:00+05:30\",\"2024-04-26T00:00:00+05:30\",\"2024-04-29T00:00:00+05:30\",\"2024-04-30T00:00:00+05:30\",\"2024-05-02T00:00:00+05:30\",\"2024-05-03T00:00:00+05:30\",\"2024-05-06T00:00:00+05:30\",\"2024-05-07T00:00:00+05:30\",\"2024-05-08T00:00:00+05:30\",\"2024-05-09T00:00:00+05:30\",\"2024-05-10T00:00:00+05:30\",\"2024-05-13T00:00:00+05:30\",\"2024-05-14T00:00:00+05:30\",\"2024-05-15T00:00:00+05:30\",\"2024-05-16T00:00:00+05:30\",\"2024-05-17T00:00:00+05:30\",\"2024-05-21T00:00:00+05:30\",\"2024-05-22T00:00:00+05:30\",\"2024-05-23T00:00:00+05:30\",\"2024-05-24T00:00:00+05:30\",\"2024-05-27T00:00:00+05:30\",\"2024-05-28T00:00:00+05:30\",\"2024-05-29T00:00:00+05:30\",\"2024-05-30T00:00:00+05:30\",\"2024-05-31T00:00:00+05:30\",\"2024-06-03T00:00:00+05:30\",\"2024-06-04T00:00:00+05:30\",\"2024-06-05T00:00:00+05:30\",\"2024-06-06T00:00:00+05:30\",\"2024-06-07T00:00:00+05:30\",\"2024-06-10T00:00:00+05:30\",\"2024-06-11T00:00:00+05:30\",\"2024-06-12T00:00:00+05:30\",\"2024-06-13T00:00:00+05:30\",\"2024-06-14T00:00:00+05:30\",\"2024-06-18T00:00:00+05:30\",\"2024-06-19T00:00:00+05:30\",\"2024-06-20T00:00:00+05:30\",\"2024-06-21T00:00:00+05:30\",\"2024-06-24T00:00:00+05:30\",\"2024-06-25T00:00:00+05:30\",\"2024-06-26T00:00:00+05:30\",\"2024-06-27T00:00:00+05:30\",\"2024-06-28T00:00:00+05:30\",\"2024-07-01T00:00:00+05:30\",\"2024-07-02T00:00:00+05:30\",\"2024-07-03T00:00:00+05:30\",\"2024-07-04T00:00:00+05:30\",\"2024-07-05T00:00:00+05:30\",\"2024-07-08T00:00:00+05:30\",\"2024-07-09T00:00:00+05:30\",\"2024-07-10T00:00:00+05:30\",\"2024-07-11T00:00:00+05:30\",\"2024-07-12T00:00:00+05:30\",\"2024-07-15T00:00:00+05:30\",\"2024-07-16T00:00:00+05:30\",\"2024-07-18T00:00:00+05:30\",\"2024-07-19T00:00:00+05:30\",\"2024-07-22T00:00:00+05:30\",\"2024-07-23T00:00:00+05:30\",\"2024-07-24T00:00:00+05:30\",\"2024-07-25T00:00:00+05:30\",\"2024-07-26T00:00:00+05:30\",\"2024-07-29T00:00:00+05:30\",\"2024-07-30T00:00:00+05:30\",\"2024-07-31T00:00:00+05:30\",\"2024-08-01T00:00:00+05:30\",\"2024-08-02T00:00:00+05:30\",\"2024-08-05T00:00:00+05:30\",\"2024-08-06T00:00:00+05:30\",\"2024-08-07T00:00:00+05:30\",\"2024-08-08T00:00:00+05:30\",\"2024-08-09T00:00:00+05:30\",\"2024-08-12T00:00:00+05:30\",\"2024-08-13T00:00:00+05:30\",\"2024-08-14T00:00:00+05:30\",\"2024-08-16T00:00:00+05:30\",\"2024-08-19T00:00:00+05:30\",\"2024-08-20T00:00:00+05:30\",\"2024-08-21T00:00:00+05:30\",\"2024-08-22T00:00:00+05:30\",\"2024-08-23T00:00:00+05:30\",\"2024-08-26T00:00:00+05:30\",\"2024-08-27T00:00:00+05:30\",\"2024-08-28T00:00:00+05:30\",\"2024-08-29T00:00:00+05:30\",\"2024-08-30T00:00:00+05:30\",\"2024-09-02T00:00:00+05:30\",\"2024-09-03T00:00:00+05:30\",\"2024-09-04T00:00:00+05:30\",\"2024-09-05T00:00:00+05:30\",\"2024-09-06T00:00:00+05:30\",\"2024-09-09T00:00:00+05:30\",\"2024-09-10T00:00:00+05:30\",\"2024-09-11T00:00:00+05:30\",\"2024-09-12T00:00:00+05:30\",\"2024-09-13T00:00:00+05:30\",\"2024-09-16T00:00:00+05:30\",\"2024-09-17T00:00:00+05:30\",\"2024-09-18T00:00:00+05:30\",\"2024-09-19T00:00:00+05:30\",\"2024-09-20T00:00:00+05:30\",\"2024-09-23T00:00:00+05:30\",\"2024-09-24T00:00:00+05:30\",\"2024-09-25T00:00:00+05:30\",\"2024-09-26T00:00:00+05:30\",\"2024-09-27T00:00:00+05:30\",\"2024-09-30T00:00:00+05:30\",\"2024-10-01T00:00:00+05:30\",\"2024-10-03T00:00:00+05:30\",\"2024-10-04T00:00:00+05:30\",\"2024-10-07T00:00:00+05:30\",\"2024-10-08T00:00:00+05:30\",\"2024-10-09T00:00:00+05:30\",\"2024-10-10T00:00:00+05:30\"],\"y\":[29.280704532259648,25.30715132724606,32.218263553413976,30.592474754681405,39.25750044597669,40.214406061959245,38.641077788253604,41.12179320897866,42.78262708814476,46.63286511579086,56.705699969516004,58.50328349274995,59.883106378509865,56.446860739430775,61.73286927749181,61.10234692162078,62.74158419055799,59.373348991692865,62.00904502635163,64.49000412746366,64.90141306920965,70.12053429133759,72.2375912295276,73.4529638077867,73.96438913893098,64.12003340296943,60.37767266972765,62.858112809944295,63.00484488305195,66.68906937267252,68.2601626752891,76.94516647596961,77.17193603824211,71.14357408062558,50.95922580906382,54.06433892002367,59.673779618492446,62.83617410478077,66.28728067804329,67.8160742908849,70.04865589786394,70.42954286084137,69.47803581885066,55.701456752688316,52.78411888990721,51.20866444867146,47.04976489329698,51.30842958794676,52.432091336228424,54.44477532647454,55.45957205295829,54.16028097318754,60.077703954966424,45.127752429802975,43.76641625437639,51.62443125523447,43.30321449735843,53.19079883606215,50.55843252750397,52.8042799446186,52.19154412347508,54.557727741306344,52.00747654839467,59.00587134396433,63.226056043106844,67.18340117027373,66.56133322325874,64.62794032518559,58.85903841814823,50.760869625309994,51.58853983306799,57.337686583630266,57.33768658363026,59.18361698009646,58.31896439697395,56.0513281394069,61.19674701024491,64.35097517581806,63.10798879340554,55.875689258867666,58.69747277574976,50.89559552605368,51.098484208418924,65.19279268442435,68.56974504213593,65.83996636967987,65.28019938830067,71.23264750512145,63.36430280986844,61.53434438182652,47.71071842712141,46.195348331337755,45.228426578407145,55.84491754703366,54.49410221011315,50.22486260534637,55.60197295507557,57.491218922988786,58.16778585432505,58.52326481435543,62.1592882241449,68.95208789432044,70.13829501503054,68.26578294280748,67.77859091833761,67.67460483279203,69.53746936604787,70.33363280315288,68.05886070589253,64.3990944545408,58.59754409317757,56.9301355707011,56.9301355707011,60.288361708169234,59.677274694527945,57.90730845996441,64.94510849604444,67.77992157513239,62.93621851508202,65.1920357706507,59.356283709775326,62.86191440049466,60.81853572186587,62.5166034929804,54.736458769882724,57.777013268796594,49.518006419027245,50.16502907943518,53.122864731448125,55.09608206437592,56.26756910022126,56.82736993065477,59.52430011960939,69.44695732487243,66.80152164653205,69.42916094953155,67.72361185980151,68.55547527614424,66.84291478961823,64.9500093711859,44.067404030983305,49.36213283689547,59.01898963146889,40.823678115899185,51.59106048319044,54.092306113416114,59.50769121540645,60.52528303972997,61.30875051970427,62.01140361139693,62.2818885807496,62.791980972363575,59.79562347394804,58.1756586865814,60.5409665690226,61.86203292988065,58.54501081840609,54.89483633728638,50.27548417553487,52.483714984960585,52.249434397194314,52.34109163407656,53.100339350977826,56.03715391882766,55.87243725854053,52.58497138850001,47.91539300516482,47.027055138084755,40.57916365628922,42.66249429795754,42.27197058889225,39.04228394747912,39.83741663736762,38.5957143130278,27.448613205343946,33.5812333973231,33.225405255307464,33.9539188453102,30.36192917733166,42.0322709174489,42.673869437930115,45.12670937685624,47.65907075049051,43.74245856066889,36.798620539844315,28.378707218382914,29.414016880534177,36.42140474598925,32.86776531640001,35.752878537529156,36.23510056383979,32.856862477770264,30.267096754967653,36.88922816672004,44.42246502324258,44.38389681490393,41.76853840402594,45.582590931964624,45.68613012483007,48.332941635879926,46.699084576427836,45.058741929710216,43.847920192310596,43.485888128657656,43.77159723629194,42.368444396379196,40.510193009412255,42.034404678025055,40.98726241054446,37.46901932168462,37.37031258207206,34.895501190366815,45.91234740004078,50.34780436449354,52.08864322688071,48.54970660273707,43.46995770610813,41.25059424825929,47.94659547296048,52.57097837004198,64.00386724255566,65.54912105453988,70.3419097718538,71.36292799629155,73.45670686616626,69.30915071150936,69.1707877251342,68.49347923667791,61.729261439487914,50.790197034623226,49.8853688771004,51.08891661519596],\"type\":\"scatter\"}],                        {\"template\":{\"data\":{\"histogram2dcontour\":[{\"type\":\"histogram2dcontour\",\"colorbar\":{\"outlinewidth\":0,\"ticks\":\"\"},\"colorscale\":[[0.0,\"#0d0887\"],[0.1111111111111111,\"#46039f\"],[0.2222222222222222,\"#7201a8\"],[0.3333333333333333,\"#9c179e\"],[0.4444444444444444,\"#bd3786\"],[0.5555555555555556,\"#d8576b\"],[0.6666666666666666,\"#ed7953\"],[0.7777777777777778,\"#fb9f3a\"],[0.8888888888888888,\"#fdca26\"],[1.0,\"#f0f921\"]]}],\"choropleth\":[{\"type\":\"choropleth\",\"colorbar\":{\"outlinewidth\":0,\"ticks\":\"\"}}],\"histogram2d\":[{\"type\":\"histogram2d\",\"colorbar\":{\"outlinewidth\":0,\"ticks\":\"\"},\"colorscale\":[[0.0,\"#0d0887\"],[0.1111111111111111,\"#46039f\"],[0.2222222222222222,\"#7201a8\"],[0.3333333333333333,\"#9c179e\"],[0.4444444444444444,\"#bd3786\"],[0.5555555555555556,\"#d8576b\"],[0.6666666666666666,\"#ed7953\"],[0.7777777777777778,\"#fb9f3a\"],[0.8888888888888888,\"#fdca26\"],[1.0,\"#f0f921\"]]}],\"heatmap\":[{\"type\":\"heatmap\",\"colorbar\":{\"outlinewidth\":0,\"ticks\":\"\"},\"colorscale\":[[0.0,\"#0d0887\"],[0.1111111111111111,\"#46039f\"],[0.2222222222222222,\"#7201a8\"],[0.3333333333333333,\"#9c179e\"],[0.4444444444444444,\"#bd3786\"],[0.5555555555555556,\"#d8576b\"],[0.6666666666666666,\"#ed7953\"],[0.7777777777777778,\"#fb9f3a\"],[0.8888888888888888,\"#fdca26\"],[1.0,\"#f0f921\"]]}],\"heatmapgl\":[{\"type\":\"heatmapgl\",\"colorbar\":{\"outlinewidth\":0,\"ticks\":\"\"},\"colorscale\":[[0.0,\"#0d0887\"],[0.1111111111111111,\"#46039f\"],[0.2222222222222222,\"#7201a8\"],[0.3333333333333333,\"#9c179e\"],[0.4444444444444444,\"#bd3786\"],[0.5555555555555556,\"#d8576b\"],[0.6666666666666666,\"#ed7953\"],[0.7777777777777778,\"#fb9f3a\"],[0.8888888888888888,\"#fdca26\"],[1.0,\"#f0f921\"]]}],\"contourcarpet\":[{\"type\":\"contourcarpet\",\"colorbar\":{\"outlinewidth\":0,\"ticks\":\"\"}}],\"contour\":[{\"type\":\"contour\",\"colorbar\":{\"outlinewidth\":0,\"ticks\":\"\"},\"colorscale\":[[0.0,\"#0d0887\"],[0.1111111111111111,\"#46039f\"],[0.2222222222222222,\"#7201a8\"],[0.3333333333333333,\"#9c179e\"],[0.4444444444444444,\"#bd3786\"],[0.5555555555555556,\"#d8576b\"],[0.6666666666666666,\"#ed7953\"],[0.7777777777777778,\"#fb9f3a\"],[0.8888888888888888,\"#fdca26\"],[1.0,\"#f0f921\"]]}],\"surface\":[{\"type\":\"surface\",\"colorbar\":{\"outlinewidth\":0,\"ticks\":\"\"},\"colorscale\":[[0.0,\"#0d0887\"],[0.1111111111111111,\"#46039f\"],[0.2222222222222222,\"#7201a8\"],[0.3333333333333333,\"#9c179e\"],[0.4444444444444444,\"#bd3786\"],[0.5555555555555556,\"#d8576b\"],[0.6666666666666666,\"#ed7953\"],[0.7777777777777778,\"#fb9f3a\"],[0.8888888888888888,\"#fdca26\"],[1.0,\"#f0f921\"]]}],\"mesh3d\":[{\"type\":\"mesh3d\",\"colorbar\":{\"outlinewidth\":0,\"ticks\":\"\"}}],\"scatter\":[{\"fillpattern\":{\"fillmode\":\"overlay\",\"size\":10,\"solidity\":0.2},\"type\":\"scatter\"}],\"parcoords\":[{\"type\":\"parcoords\",\"line\":{\"colorbar\":{\"outlinewidth\":0,\"ticks\":\"\"}}}],\"scatterpolargl\":[{\"type\":\"scatterpolargl\",\"marker\":{\"colorbar\":{\"outlinewidth\":0,\"ticks\":\"\"}}}],\"bar\":[{\"error_x\":{\"color\":\"#2a3f5f\"},\"error_y\":{\"color\":\"#2a3f5f\"},\"marker\":{\"line\":{\"color\":\"#E5ECF6\",\"width\":0.5},\"pattern\":{\"fillmode\":\"overlay\",\"size\":10,\"solidity\":0.2}},\"type\":\"bar\"}],\"scattergeo\":[{\"type\":\"scattergeo\",\"marker\":{\"colorbar\":{\"outlinewidth\":0,\"ticks\":\"\"}}}],\"scatterpolar\":[{\"type\":\"scatterpolar\",\"marker\":{\"colorbar\":{\"outlinewidth\":0,\"ticks\":\"\"}}}],\"histogram\":[{\"marker\":{\"pattern\":{\"fillmode\":\"overlay\",\"size\":10,\"solidity\":0.2}},\"type\":\"histogram\"}],\"scattergl\":[{\"type\":\"scattergl\",\"marker\":{\"colorbar\":{\"outlinewidth\":0,\"ticks\":\"\"}}}],\"scatter3d\":[{\"type\":\"scatter3d\",\"line\":{\"colorbar\":{\"outlinewidth\":0,\"ticks\":\"\"}},\"marker\":{\"colorbar\":{\"outlinewidth\":0,\"ticks\":\"\"}}}],\"scattermapbox\":[{\"type\":\"scattermapbox\",\"marker\":{\"colorbar\":{\"outlinewidth\":0,\"ticks\":\"\"}}}],\"scatterternary\":[{\"type\":\"scatterternary\",\"marker\":{\"colorbar\":{\"outlinewidth\":0,\"ticks\":\"\"}}}],\"scattercarpet\":[{\"type\":\"scattercarpet\",\"marker\":{\"colorbar\":{\"outlinewidth\":0,\"ticks\":\"\"}}}],\"carpet\":[{\"aaxis\":{\"endlinecolor\":\"#2a3f5f\",\"gridcolor\":\"white\",\"linecolor\":\"white\",\"minorgridcolor\":\"white\",\"startlinecolor\":\"#2a3f5f\"},\"baxis\":{\"endlinecolor\":\"#2a3f5f\",\"gridcolor\":\"white\",\"linecolor\":\"white\",\"minorgridcolor\":\"white\",\"startlinecolor\":\"#2a3f5f\"},\"type\":\"carpet\"}],\"table\":[{\"cells\":{\"fill\":{\"color\":\"#EBF0F8\"},\"line\":{\"color\":\"white\"}},\"header\":{\"fill\":{\"color\":\"#C8D4E3\"},\"line\":{\"color\":\"white\"}},\"type\":\"table\"}],\"barpolar\":[{\"marker\":{\"line\":{\"color\":\"#E5ECF6\",\"width\":0.5},\"pattern\":{\"fillmode\":\"overlay\",\"size\":10,\"solidity\":0.2}},\"type\":\"barpolar\"}],\"pie\":[{\"automargin\":true,\"type\":\"pie\"}]},\"layout\":{\"autotypenumbers\":\"strict\",\"colorway\":[\"#636efa\",\"#EF553B\",\"#00cc96\",\"#ab63fa\",\"#FFA15A\",\"#19d3f3\",\"#FF6692\",\"#B6E880\",\"#FF97FF\",\"#FECB52\"],\"font\":{\"color\":\"#2a3f5f\"},\"hovermode\":\"closest\",\"hoverlabel\":{\"align\":\"left\"},\"paper_bgcolor\":\"white\",\"plot_bgcolor\":\"#E5ECF6\",\"polar\":{\"bgcolor\":\"#E5ECF6\",\"angularaxis\":{\"gridcolor\":\"white\",\"linecolor\":\"white\",\"ticks\":\"\"},\"radialaxis\":{\"gridcolor\":\"white\",\"linecolor\":\"white\",\"ticks\":\"\"}},\"ternary\":{\"bgcolor\":\"#E5ECF6\",\"aaxis\":{\"gridcolor\":\"white\",\"linecolor\":\"white\",\"ticks\":\"\"},\"baxis\":{\"gridcolor\":\"white\",\"linecolor\":\"white\",\"ticks\":\"\"},\"caxis\":{\"gridcolor\":\"white\",\"linecolor\":\"white\",\"ticks\":\"\"}},\"coloraxis\":{\"colorbar\":{\"outlinewidth\":0,\"ticks\":\"\"}},\"colorscale\":{\"sequential\":[[0.0,\"#0d0887\"],[0.1111111111111111,\"#46039f\"],[0.2222222222222222,\"#7201a8\"],[0.3333333333333333,\"#9c179e\"],[0.4444444444444444,\"#bd3786\"],[0.5555555555555556,\"#d8576b\"],[0.6666666666666666,\"#ed7953\"],[0.7777777777777778,\"#fb9f3a\"],[0.8888888888888888,\"#fdca26\"],[1.0,\"#f0f921\"]],\"sequentialminus\":[[0.0,\"#0d0887\"],[0.1111111111111111,\"#46039f\"],[0.2222222222222222,\"#7201a8\"],[0.3333333333333333,\"#9c179e\"],[0.4444444444444444,\"#bd3786\"],[0.5555555555555556,\"#d8576b\"],[0.6666666666666666,\"#ed7953\"],[0.7777777777777778,\"#fb9f3a\"],[0.8888888888888888,\"#fdca26\"],[1.0,\"#f0f921\"]],\"diverging\":[[0,\"#8e0152\"],[0.1,\"#c51b7d\"],[0.2,\"#de77ae\"],[0.3,\"#f1b6da\"],[0.4,\"#fde0ef\"],[0.5,\"#f7f7f7\"],[0.6,\"#e6f5d0\"],[0.7,\"#b8e186\"],[0.8,\"#7fbc41\"],[0.9,\"#4d9221\"],[1,\"#276419\"]]},\"xaxis\":{\"gridcolor\":\"white\",\"linecolor\":\"white\",\"ticks\":\"\",\"title\":{\"standoff\":15},\"zerolinecolor\":\"white\",\"automargin\":true,\"zerolinewidth\":2},\"yaxis\":{\"gridcolor\":\"white\",\"linecolor\":\"white\",\"ticks\":\"\",\"title\":{\"standoff\":15},\"zerolinecolor\":\"white\",\"automargin\":true,\"zerolinewidth\":2},\"scene\":{\"xaxis\":{\"backgroundcolor\":\"#E5ECF6\",\"gridcolor\":\"white\",\"linecolor\":\"white\",\"showbackground\":true,\"ticks\":\"\",\"zerolinecolor\":\"white\",\"gridwidth\":2},\"yaxis\":{\"backgroundcolor\":\"#E5ECF6\",\"gridcolor\":\"white\",\"linecolor\":\"white\",\"showbackground\":true,\"ticks\":\"\",\"zerolinecolor\":\"white\",\"gridwidth\":2},\"zaxis\":{\"backgroundcolor\":\"#E5ECF6\",\"gridcolor\":\"white\",\"linecolor\":\"white\",\"showbackground\":true,\"ticks\":\"\",\"zerolinecolor\":\"white\",\"gridwidth\":2}},\"shapedefaults\":{\"line\":{\"color\":\"#2a3f5f\"}},\"annotationdefaults\":{\"arrowcolor\":\"#2a3f5f\",\"arrowhead\":0,\"arrowwidth\":1},\"geo\":{\"bgcolor\":\"white\",\"landcolor\":\"#E5ECF6\",\"subunitcolor\":\"white\",\"showland\":true,\"showlakes\":true,\"lakecolor\":\"white\"},\"title\":{\"x\":0.05},\"mapbox\":{\"style\":\"light\"}}},\"shapes\":[{\"line\":{\"color\":\"red\",\"dash\":\"dash\",\"width\":2},\"type\":\"line\",\"x0\":0,\"x1\":1,\"xref\":\"x domain\",\"y0\":70,\"y1\":70,\"yref\":\"y\"},{\"line\":{\"color\":\"green\",\"dash\":\"dash\",\"width\":2},\"type\":\"line\",\"x0\":0,\"x1\":1,\"xref\":\"x domain\",\"y0\":30,\"y1\":30,\"yref\":\"y\"}],\"font\":{\"size\":14},\"legend\":{\"font\":{\"size\":12},\"x\":0.01,\"y\":0.99},\"title\":{\"text\":\"RSI (Relative Strength Index)\"},\"yaxis\":{\"title\":{\"text\":\"RSI Value\"},\"range\":[0,100],\"tickmode\":\"linear\",\"tick0\":0,\"dtick\":10,\"showgrid\":true,\"zeroline\":false,\"showline\":true,\"showticklabels\":true},\"xaxis\":{\"title\":{\"text\":\"Date\"},\"range\":[\"2023-11-17T00:00:00+05:30\",\"2024-10-30T00:00:00+05:30\"],\"tickmode\":\"auto\",\"nticks\":10,\"showgrid\":true,\"zeroline\":false,\"showline\":true,\"showticklabels\":true},\"showlegend\":true,\"hovermode\":\"x unified\",\"plot_bgcolor\":\"white\"},                        {\"responsive\": true}                    ).then(function(){\n",
       "                            \n",
       "var gd = document.getElementById('e0eec514-d669-446c-9517-9fd8245d99f2');\n",
       "var x = new MutationObserver(function (mutations, observer) {{\n",
       "        var display = window.getComputedStyle(gd).display;\n",
       "        if (!display || display === 'none') {{\n",
       "            console.log([gd, 'removed!']);\n",
       "            Plotly.purge(gd);\n",
       "            observer.disconnect();\n",
       "        }}\n",
       "}});\n",
       "\n",
       "// Listen for the removal of the full notebook cells\n",
       "var notebookContainer = gd.closest('#notebook-container');\n",
       "if (notebookContainer) {{\n",
       "    x.observe(notebookContainer, {childList: true});\n",
       "}}\n",
       "\n",
       "// Listen for the clearing of the current output cell\n",
       "var outputEl = gd.closest('.output');\n",
       "if (outputEl) {{\n",
       "    x.observe(outputEl, {childList: true});\n",
       "}}\n",
       "\n",
       "                        })                };                });            </script>        </div>"
      ]
     },
     "metadata": {},
     "output_type": "display_data"
    },
    {
     "name": "stdout",
     "output_type": "stream",
     "text": [
      "RSI is 51.09 and rising, showing increasing bullish momentum. Consider BUYING.\n"
     ]
    },
    {
     "data": {
      "application/vnd.plotly.v1+json": {
       "config": {
        "plotlyServerURL": "https://plot.ly"
       },
       "data": [
        {
         "hovertemplate": "<b>Date:</b> %{x|%d %b %y}<br><b>Close:</b> %{y:.2f}<extra></extra>",
         "line": {
          "color": "#1e90ff",
          "width": 3
         },
         "name": "Close Price",
         "type": "scatter",
         "x": [
          "2023-10-10T00:00:00+05:30",
          "2023-10-11T00:00:00+05:30",
          "2023-10-12T00:00:00+05:30",
          "2023-10-13T00:00:00+05:30",
          "2023-10-16T00:00:00+05:30",
          "2023-10-17T00:00:00+05:30",
          "2023-10-18T00:00:00+05:30",
          "2023-10-19T00:00:00+05:30",
          "2023-10-20T00:00:00+05:30",
          "2023-10-23T00:00:00+05:30",
          "2023-10-25T00:00:00+05:30",
          "2023-10-26T00:00:00+05:30",
          "2023-10-27T00:00:00+05:30",
          "2023-10-30T00:00:00+05:30",
          "2023-10-31T00:00:00+05:30",
          "2023-11-01T00:00:00+05:30",
          "2023-11-02T00:00:00+05:30",
          "2023-11-03T00:00:00+05:30",
          "2023-11-06T00:00:00+05:30",
          "2023-11-07T00:00:00+05:30",
          "2023-11-08T00:00:00+05:30",
          "2023-11-09T00:00:00+05:30",
          "2023-11-10T00:00:00+05:30",
          "2023-11-13T00:00:00+05:30",
          "2023-11-15T00:00:00+05:30",
          "2023-11-16T00:00:00+05:30",
          "2023-11-17T00:00:00+05:30",
          "2023-11-20T00:00:00+05:30",
          "2023-11-21T00:00:00+05:30",
          "2023-11-22T00:00:00+05:30",
          "2023-11-23T00:00:00+05:30",
          "2023-11-24T00:00:00+05:30",
          "2023-11-28T00:00:00+05:30",
          "2023-11-29T00:00:00+05:30",
          "2023-11-30T00:00:00+05:30",
          "2023-12-01T00:00:00+05:30",
          "2023-12-04T00:00:00+05:30",
          "2023-12-05T00:00:00+05:30",
          "2023-12-06T00:00:00+05:30",
          "2023-12-07T00:00:00+05:30",
          "2023-12-08T00:00:00+05:30",
          "2023-12-11T00:00:00+05:30",
          "2023-12-12T00:00:00+05:30",
          "2023-12-13T00:00:00+05:30",
          "2023-12-14T00:00:00+05:30",
          "2023-12-15T00:00:00+05:30",
          "2023-12-18T00:00:00+05:30",
          "2023-12-19T00:00:00+05:30",
          "2023-12-20T00:00:00+05:30",
          "2023-12-21T00:00:00+05:30",
          "2023-12-22T00:00:00+05:30",
          "2023-12-26T00:00:00+05:30",
          "2023-12-27T00:00:00+05:30",
          "2023-12-28T00:00:00+05:30",
          "2023-12-29T00:00:00+05:30",
          "2024-01-01T00:00:00+05:30",
          "2024-01-02T00:00:00+05:30",
          "2024-01-03T00:00:00+05:30",
          "2024-01-04T00:00:00+05:30",
          "2024-01-05T00:00:00+05:30",
          "2024-01-08T00:00:00+05:30",
          "2024-01-09T00:00:00+05:30",
          "2024-01-10T00:00:00+05:30",
          "2024-01-11T00:00:00+05:30",
          "2024-01-12T00:00:00+05:30",
          "2024-01-15T00:00:00+05:30",
          "2024-01-16T00:00:00+05:30",
          "2024-01-17T00:00:00+05:30",
          "2024-01-18T00:00:00+05:30",
          "2024-01-19T00:00:00+05:30",
          "2024-01-23T00:00:00+05:30",
          "2024-01-24T00:00:00+05:30",
          "2024-01-25T00:00:00+05:30",
          "2024-01-29T00:00:00+05:30",
          "2024-01-30T00:00:00+05:30",
          "2024-01-31T00:00:00+05:30",
          "2024-02-01T00:00:00+05:30",
          "2024-02-02T00:00:00+05:30",
          "2024-02-05T00:00:00+05:30",
          "2024-02-06T00:00:00+05:30",
          "2024-02-07T00:00:00+05:30",
          "2024-02-08T00:00:00+05:30",
          "2024-02-09T00:00:00+05:30",
          "2024-02-12T00:00:00+05:30",
          "2024-02-13T00:00:00+05:30",
          "2024-02-14T00:00:00+05:30",
          "2024-02-15T00:00:00+05:30",
          "2024-02-16T00:00:00+05:30",
          "2024-02-19T00:00:00+05:30",
          "2024-02-20T00:00:00+05:30",
          "2024-02-21T00:00:00+05:30",
          "2024-02-22T00:00:00+05:30",
          "2024-02-23T00:00:00+05:30",
          "2024-02-26T00:00:00+05:30",
          "2024-02-27T00:00:00+05:30",
          "2024-02-28T00:00:00+05:30",
          "2024-02-29T00:00:00+05:30",
          "2024-03-01T00:00:00+05:30",
          "2024-03-04T00:00:00+05:30",
          "2024-03-05T00:00:00+05:30",
          "2024-03-06T00:00:00+05:30",
          "2024-03-07T00:00:00+05:30",
          "2024-03-11T00:00:00+05:30",
          "2024-03-12T00:00:00+05:30",
          "2024-03-13T00:00:00+05:30",
          "2024-03-14T00:00:00+05:30",
          "2024-03-15T00:00:00+05:30",
          "2024-03-18T00:00:00+05:30",
          "2024-03-19T00:00:00+05:30",
          "2024-03-20T00:00:00+05:30",
          "2024-03-21T00:00:00+05:30",
          "2024-03-22T00:00:00+05:30",
          "2024-03-26T00:00:00+05:30",
          "2024-03-27T00:00:00+05:30",
          "2024-03-28T00:00:00+05:30",
          "2024-04-01T00:00:00+05:30",
          "2024-04-02T00:00:00+05:30",
          "2024-04-03T00:00:00+05:30",
          "2024-04-04T00:00:00+05:30",
          "2024-04-05T00:00:00+05:30",
          "2024-04-08T00:00:00+05:30",
          "2024-04-09T00:00:00+05:30",
          "2024-04-10T00:00:00+05:30",
          "2024-04-12T00:00:00+05:30",
          "2024-04-15T00:00:00+05:30",
          "2024-04-16T00:00:00+05:30",
          "2024-04-18T00:00:00+05:30",
          "2024-04-19T00:00:00+05:30",
          "2024-04-22T00:00:00+05:30",
          "2024-04-23T00:00:00+05:30",
          "2024-04-24T00:00:00+05:30",
          "2024-04-25T00:00:00+05:30",
          "2024-04-26T00:00:00+05:30",
          "2024-04-29T00:00:00+05:30",
          "2024-04-30T00:00:00+05:30",
          "2024-05-02T00:00:00+05:30",
          "2024-05-03T00:00:00+05:30",
          "2024-05-06T00:00:00+05:30",
          "2024-05-07T00:00:00+05:30",
          "2024-05-08T00:00:00+05:30",
          "2024-05-09T00:00:00+05:30",
          "2024-05-10T00:00:00+05:30",
          "2024-05-13T00:00:00+05:30",
          "2024-05-14T00:00:00+05:30",
          "2024-05-15T00:00:00+05:30",
          "2024-05-16T00:00:00+05:30",
          "2024-05-17T00:00:00+05:30",
          "2024-05-21T00:00:00+05:30",
          "2024-05-22T00:00:00+05:30",
          "2024-05-23T00:00:00+05:30",
          "2024-05-24T00:00:00+05:30",
          "2024-05-27T00:00:00+05:30",
          "2024-05-28T00:00:00+05:30",
          "2024-05-29T00:00:00+05:30",
          "2024-05-30T00:00:00+05:30",
          "2024-05-31T00:00:00+05:30",
          "2024-06-03T00:00:00+05:30",
          "2024-06-04T00:00:00+05:30",
          "2024-06-05T00:00:00+05:30",
          "2024-06-06T00:00:00+05:30",
          "2024-06-07T00:00:00+05:30",
          "2024-06-10T00:00:00+05:30",
          "2024-06-11T00:00:00+05:30",
          "2024-06-12T00:00:00+05:30",
          "2024-06-13T00:00:00+05:30",
          "2024-06-14T00:00:00+05:30",
          "2024-06-18T00:00:00+05:30",
          "2024-06-19T00:00:00+05:30",
          "2024-06-20T00:00:00+05:30",
          "2024-06-21T00:00:00+05:30",
          "2024-06-24T00:00:00+05:30",
          "2024-06-25T00:00:00+05:30",
          "2024-06-26T00:00:00+05:30",
          "2024-06-27T00:00:00+05:30",
          "2024-06-28T00:00:00+05:30",
          "2024-07-01T00:00:00+05:30",
          "2024-07-02T00:00:00+05:30",
          "2024-07-03T00:00:00+05:30",
          "2024-07-04T00:00:00+05:30",
          "2024-07-05T00:00:00+05:30",
          "2024-07-08T00:00:00+05:30",
          "2024-07-09T00:00:00+05:30",
          "2024-07-10T00:00:00+05:30",
          "2024-07-11T00:00:00+05:30",
          "2024-07-12T00:00:00+05:30",
          "2024-07-15T00:00:00+05:30",
          "2024-07-16T00:00:00+05:30",
          "2024-07-18T00:00:00+05:30",
          "2024-07-19T00:00:00+05:30",
          "2024-07-22T00:00:00+05:30",
          "2024-07-23T00:00:00+05:30",
          "2024-07-24T00:00:00+05:30",
          "2024-07-25T00:00:00+05:30",
          "2024-07-26T00:00:00+05:30",
          "2024-07-29T00:00:00+05:30",
          "2024-07-30T00:00:00+05:30",
          "2024-07-31T00:00:00+05:30",
          "2024-08-01T00:00:00+05:30",
          "2024-08-02T00:00:00+05:30",
          "2024-08-05T00:00:00+05:30",
          "2024-08-06T00:00:00+05:30",
          "2024-08-07T00:00:00+05:30",
          "2024-08-08T00:00:00+05:30",
          "2024-08-09T00:00:00+05:30",
          "2024-08-12T00:00:00+05:30",
          "2024-08-13T00:00:00+05:30",
          "2024-08-14T00:00:00+05:30",
          "2024-08-16T00:00:00+05:30",
          "2024-08-19T00:00:00+05:30",
          "2024-08-20T00:00:00+05:30",
          "2024-08-21T00:00:00+05:30",
          "2024-08-22T00:00:00+05:30",
          "2024-08-23T00:00:00+05:30",
          "2024-08-26T00:00:00+05:30",
          "2024-08-27T00:00:00+05:30",
          "2024-08-28T00:00:00+05:30",
          "2024-08-29T00:00:00+05:30",
          "2024-08-30T00:00:00+05:30",
          "2024-09-02T00:00:00+05:30",
          "2024-09-03T00:00:00+05:30",
          "2024-09-04T00:00:00+05:30",
          "2024-09-05T00:00:00+05:30",
          "2024-09-06T00:00:00+05:30",
          "2024-09-09T00:00:00+05:30",
          "2024-09-10T00:00:00+05:30",
          "2024-09-11T00:00:00+05:30",
          "2024-09-12T00:00:00+05:30",
          "2024-09-13T00:00:00+05:30",
          "2024-09-16T00:00:00+05:30",
          "2024-09-17T00:00:00+05:30",
          "2024-09-18T00:00:00+05:30",
          "2024-09-19T00:00:00+05:30",
          "2024-09-20T00:00:00+05:30",
          "2024-09-23T00:00:00+05:30",
          "2024-09-24T00:00:00+05:30",
          "2024-09-25T00:00:00+05:30",
          "2024-09-26T00:00:00+05:30",
          "2024-09-27T00:00:00+05:30",
          "2024-09-30T00:00:00+05:30",
          "2024-10-01T00:00:00+05:30",
          "2024-10-03T00:00:00+05:30",
          "2024-10-04T00:00:00+05:30",
          "2024-10-07T00:00:00+05:30",
          "2024-10-08T00:00:00+05:30",
          "2024-10-09T00:00:00+05:30",
          "2024-10-10T00:00:00+05:30"
         ],
         "y": [
          122.82534790039062,
          122.48225402832031,
          123.41349792480469,
          122.58029174804688,
          124.49177551269531,
          124.88387298583984,
          124.58979797363281,
          123.51152038574219,
          120.66879272460938,
          117.63002014160156,
          118.95336151123047,
          117.53199768066406,
          117.53199768066406,
          116.79681396484375,
          116.40470886230469,
          114.29717254638672,
          115.76754760742188,
          114.98335266113281,
          117.0418701171875,
          117.28693389892578,
          116.69878387451172,
          117.28693389892578,
          117.67903900146484,
          118.61027526855469,
          121.60003662109375,
          122.23719787597656,
          122.7273178100586,
          121.89411163330078,
          123.75658416748047,
          123.60954284667969,
          124.19769287109375,
          123.46250915527344,
          124.34473419189453,
          125.22695922851562,
          125.3740005493164,
          127.43252563476562,
          128.41278076171875,
          129.0009307861328,
          129.24598693847656,
          127.43252563476562,
          126.64832305908203,
          127.48153686523438,
          127.53055572509766,
          128.80487060546875,
          129.3930206298828,
          133.755126953125,
          133.9021759033203,
          132.7258758544922,
          127.18746185302734,
          128.41278076171875,
          130.91241455078125,
          132.52981567382812,
          134.49032592773438,
          135.4215545654297,
          136.84292602539062,
          137.08799743652344,
          136.84292602539062,
          132.67686462402344,
          131.5985870361328,
          131.01043701171875,
          129.3930206298828,
          131.01043701171875,
          131.45155334472656,
          132.23574829101562,
          132.6278533935547,
          132.23574829101562,
          134.53933715820312,
          129.0499267578125,
          128.41278076171875,
          131.5985870361328,
          127.53055572509766,
          132.48080444335938,
          131.10845947265625,
          132.33377075195312,
          132.03970336914062,
          133.2650146484375,
          132.13772583007812,
          135.960693359375,
          138.75440979003906,
          141.79318237304688,
          141.54812622070312,
          140.81292724609375,
          138.5093536376953,
          134.68637084960938,
          135.1274871826172,
          138.41131591796875,
          138.41131591796875,
          139.48960876464844,
          139.14651489257812,
          138.26429748535156,
          141.05799865722656,
          143.01849365234375,
          142.577392578125,
          139.8326873779297,
          141.35206604003906,
          137.97021484375,
          138.0682373046875,
          146.98851013183594,
          150.07630920410156,
          148.8509979248047,
          148.60592651367188,
          154.14434814453125,
          150.4193878173828,
          149.4881591796875,
          140.81292724609375,
          139.6366424560547,
          138.9014434814453,
          146.7434539794922,
          145.8122100830078,
          142.7734375,
          147.13555908203125,
          148.80198669433594,
          149.39012145996094,
          149.6842041015625,
          152.77200317382812,
          159.9278106689453,
          161.398193359375,
          160.41793823242188,
          160.17286682128906,
          160.12387084960938,
          161.9373321533203,
          162.72152709960938,
          161.79029846191406,
          160.27090454101562,
          157.67324829101562,
          156.8890380859375,
          156.8890380859375,
          158.8985595703125,
          158.65350341796875,
          157.96731567382812,
          162.28042602539062,
          164.38795471191406,
          162.52548217773438,
          164.0938720703125,
          161.7412872314453,
          164.0448760986328,
          163.21165466308594,
          164.28993225097656,
          161.00608825683594,
          162.77053833007812,
          158.70249938964844,
          159.04559326171875,
          160.61399841308594,
          161.6922607421875,
          162.32943725585938,
          162.62350463867188,
          164.0448760986328,
          170.90663146972656,
          169.8773651123047,
          172.03390502929688,
          171.39674377441406,
          172.03390502929688,
          171.4457550048828,
          170.80859375,
          160.90806579589844,
          163.8978271484375,
          170.80859375,
          155.81076049804688,
          165.8583221435547,
          168.6520538330078,
          175.3667449951172,
          176.7292938232422,
          177.74876403808594,
          178.6309814453125,
          178.9544677734375,
          179.53282165527344,
          177.54290771484375,
          176.4646453857422,
          178.6800079345703,
          179.94000244140625,
          177.9600067138672,
          175.67999267578125,
          172.55999755859375,
          174.16000366210938,
          174.00999450683594,
          174.07000732421875,
          174.5399932861328,
          176.3699951171875,
          176.2899932861328,
          174.7100067138672,
          172.27999877929688,
          171.8000030517578,
          167.97999572753906,
          168.9199981689453,
          168.69000244140625,
          166.75999450683594,
          167.07000732421875,
          166.36000061035156,
          157.77000427246094,
          160.32000732421875,
          160.02000427246094,
          160.30999755859375,
          157.38999938964844,
          162.5500030517578,
          162.8699951171875,
          164.07000732421875,
          165.3300018310547,
          163.05999755859375,
          158.22000122070312,
          149.82000732421875,
          150.32000732421875,
          153.86000061035156,
          150.27999877929688,
          151.80999755859375,
          152.05999755859375,
          148.8800048828125,
          146.1699981689453,
          149.52000427246094,
          153.9600067138672,
          153.92999267578125,
          151.9199981689453,
          154.13999938964844,
          154.1999969482422,
          155.6999969482422,
          154.6999969482422,
          153.6999969482422,
          152.97000122070312,
          152.75999450683594,
          152.8800048828125,
          152.14999389648438,
          151.17999267578125,
          151.72000122070312,
          151.22000122070312,
          149.47000122070312,
          149.4199981689453,
          148.1699981689453,
          151.74000549316406,
          153.49000549316406,
          154.2100067138672,
          152.82000732421875,
          150.60000610351562,
          149.5399932861328,
          152.02000427246094,
          153.99000549316406,
          160.52999877929688,
          161.66000366210938,
          165.61000061035156,
          166.5500030517578,
          168.5500030517578,
          167.02999877929688,
          166.97999572753906,
          166.75,
          164.36000061035156,
          159.52000427246094,
          159.05999755859375,
          159.64999389648438
         ]
        },
        {
         "line": {
          "color": "#FF4136",
          "dash": "dot",
          "width": 2
         },
         "mode": "lines",
         "name": "200% (178.04)",
         "type": "scatter",
         "x": [
          "2023-10-10T00:00:00+05:30",
          "2024-10-10T00:00:00+05:30"
         ],
         "y": [
          178.04000854492188,
          178.04000854492188
         ]
        },
        {
         "line": {
          "color": "#FF851B",
          "dash": "dot",
          "width": 2
         },
         "mode": "lines",
         "name": "161.8% (174.41)",
         "type": "scatter",
         "x": [
          "2023-10-10T00:00:00+05:30",
          "2024-10-10T00:00:00+05:30"
         ],
         "y": [
          174.4148264465332,
          174.4148264465332
         ]
        },
        {
         "line": {
          "color": "#FFDC00",
          "dash": "dot",
          "width": 2
         },
         "mode": "lines",
         "name": "150% (173.3)",
         "type": "scatter",
         "x": [
          "2023-10-10T00:00:00+05:30",
          "2024-10-10T00:00:00+05:30"
         ],
         "y": [
          173.29500579833984,
          173.29500579833984
         ]
        },
        {
         "line": {
          "color": "#2ECC40",
          "dash": "dot",
          "width": 2
         },
         "mode": "lines",
         "name": "138.2% (172.18)",
         "type": "scatter",
         "x": [
          "2023-10-10T00:00:00+05:30",
          "2024-10-10T00:00:00+05:30"
         ],
         "y": [
          172.1751851501465,
          172.1751851501465
         ]
        },
        {
         "line": {
          "color": "#0074D9",
          "dash": "dot",
          "width": 2
         },
         "mode": "lines",
         "name": "123.6% (170.79)",
         "type": "scatter",
         "x": [
          "2023-10-10T00:00:00+05:30",
          "2024-10-10T00:00:00+05:30"
         ],
         "y": [
          170.78964434814452,
          170.78964434814452
         ]
        },
        {
         "line": {
          "color": "#B10DC9",
          "dash": "dash",
          "width": 2
         },
         "mode": "lines",
         "name": "23.6% (161.3)",
         "type": "scatter",
         "x": [
          "2023-10-10T00:00:00+05:30",
          "2024-10-10T00:00:00+05:30"
         ],
         "y": [
          161.29963885498046,
          161.29963885498046
         ]
        },
        {
         "line": {
          "color": "#F012BE",
          "dash": "dash",
          "width": 2
         },
         "mode": "lines",
         "name": "38.2% (162.69)",
         "type": "scatter",
         "x": [
          "2023-10-10T00:00:00+05:30",
          "2024-10-10T00:00:00+05:30"
         ],
         "y": [
          162.68517965698243,
          162.68517965698243
         ]
        },
        {
         "line": {
          "color": "#85144b",
          "dash": "dash",
          "width": 2
         },
         "mode": "lines",
         "name": "50% (163.81)",
         "type": "scatter",
         "x": [
          "2023-10-10T00:00:00+05:30",
          "2024-10-10T00:00:00+05:30"
         ],
         "y": [
          163.80500030517578,
          163.80500030517578
         ]
        },
        {
         "line": {
          "color": "#001f3f",
          "dash": "dash",
          "width": 2
         },
         "mode": "lines",
         "name": "61.8% (164.92)",
         "type": "scatter",
         "x": [
          "2023-10-10T00:00:00+05:30",
          "2024-10-10T00:00:00+05:30"
         ],
         "y": [
          164.92482095336914,
          164.92482095336914
         ]
        },
        {
         "line": {
          "color": "#39CCCC",
          "dash": "dash",
          "width": 2
         },
         "mode": "lines",
         "name": "78.6% (166.52)",
         "type": "scatter",
         "x": [
          "2023-10-10T00:00:00+05:30",
          "2024-10-10T00:00:00+05:30"
         ],
         "y": [
          166.51914187622071,
          166.51914187622071
         ]
        }
       ],
       "layout": {
        "annotations": [
         {
          "bgcolor": "white",
          "bordercolor": "#FF4136",
          "borderpad": 4,
          "borderwidth": 2,
          "font": {
           "color": "#FF4136",
           "size": 10
          },
          "opacity": 0.8,
          "showarrow": false,
          "text": "200% (178.04)",
          "x": "2024-10-10T00:00:00+05:30",
          "xanchor": "left",
          "xshift": 10,
          "y": 178.04000854492188
         },
         {
          "bgcolor": "white",
          "bordercolor": "#FF851B",
          "borderpad": 4,
          "borderwidth": 2,
          "font": {
           "color": "#FF851B",
           "size": 10
          },
          "opacity": 0.8,
          "showarrow": false,
          "text": "161.8% (174.41)",
          "x": "2024-10-10T00:00:00+05:30",
          "xanchor": "left",
          "xshift": 10,
          "y": 174.4148264465332
         },
         {
          "bgcolor": "white",
          "bordercolor": "#FFDC00",
          "borderpad": 4,
          "borderwidth": 2,
          "font": {
           "color": "#FFDC00",
           "size": 10
          },
          "opacity": 0.8,
          "showarrow": false,
          "text": "150% (173.3)",
          "x": "2024-10-10T00:00:00+05:30",
          "xanchor": "left",
          "xshift": 10,
          "y": 173.29500579833984
         },
         {
          "bgcolor": "white",
          "bordercolor": "#2ECC40",
          "borderpad": 4,
          "borderwidth": 2,
          "font": {
           "color": "#2ECC40",
           "size": 10
          },
          "opacity": 0.8,
          "showarrow": false,
          "text": "138.2% (172.18)",
          "x": "2024-10-10T00:00:00+05:30",
          "xanchor": "left",
          "xshift": 10,
          "y": 172.1751851501465
         },
         {
          "bgcolor": "white",
          "bordercolor": "#0074D9",
          "borderpad": 4,
          "borderwidth": 2,
          "font": {
           "color": "#0074D9",
           "size": 10
          },
          "opacity": 0.8,
          "showarrow": false,
          "text": "123.6% (170.79)",
          "x": "2024-10-10T00:00:00+05:30",
          "xanchor": "left",
          "xshift": 10,
          "y": 170.78964434814452
         },
         {
          "bgcolor": "white",
          "bordercolor": "#B10DC9",
          "borderpad": 4,
          "borderwidth": 2,
          "font": {
           "color": "#B10DC9",
           "size": 10
          },
          "opacity": 0.8,
          "showarrow": false,
          "text": "23.6% (161.3)",
          "x": "2024-10-10T00:00:00+05:30",
          "xanchor": "left",
          "xshift": 10,
          "y": 161.29963885498046
         },
         {
          "bgcolor": "white",
          "bordercolor": "#F012BE",
          "borderpad": 4,
          "borderwidth": 2,
          "font": {
           "color": "#F012BE",
           "size": 10
          },
          "opacity": 0.8,
          "showarrow": false,
          "text": "38.2% (162.69)",
          "x": "2024-10-10T00:00:00+05:30",
          "xanchor": "left",
          "xshift": 10,
          "y": 162.68517965698243
         },
         {
          "bgcolor": "white",
          "bordercolor": "#85144b",
          "borderpad": 4,
          "borderwidth": 2,
          "font": {
           "color": "#85144b",
           "size": 10
          },
          "opacity": 0.8,
          "showarrow": false,
          "text": "50% (163.81)",
          "x": "2024-10-10T00:00:00+05:30",
          "xanchor": "left",
          "xshift": 10,
          "y": 163.80500030517578
         },
         {
          "bgcolor": "white",
          "bordercolor": "#001f3f",
          "borderpad": 4,
          "borderwidth": 2,
          "font": {
           "color": "#001f3f",
           "size": 10
          },
          "opacity": 0.8,
          "showarrow": false,
          "text": "61.8% (164.92)",
          "x": "2024-10-10T00:00:00+05:30",
          "xanchor": "left",
          "xshift": 10,
          "y": 164.92482095336914
         },
         {
          "bgcolor": "white",
          "bordercolor": "#39CCCC",
          "borderpad": 4,
          "borderwidth": 2,
          "font": {
           "color": "#39CCCC",
           "size": 10
          },
          "opacity": 0.8,
          "showarrow": false,
          "text": "78.6% (166.52)",
          "x": "2024-10-10T00:00:00+05:30",
          "xanchor": "left",
          "xshift": 10,
          "y": 166.51914187622071
         }
        ],
        "hovermode": "x unified",
        "legend": {
         "title": {
          "text": "Levels"
         }
        },
        "showlegend": true,
        "template": {
         "data": {
          "bar": [
           {
            "error_x": {
             "color": "#2a3f5f"
            },
            "error_y": {
             "color": "#2a3f5f"
            },
            "marker": {
             "line": {
              "color": "#E5ECF6",
              "width": 0.5
             },
             "pattern": {
              "fillmode": "overlay",
              "size": 10,
              "solidity": 0.2
             }
            },
            "type": "bar"
           }
          ],
          "barpolar": [
           {
            "marker": {
             "line": {
              "color": "#E5ECF6",
              "width": 0.5
             },
             "pattern": {
              "fillmode": "overlay",
              "size": 10,
              "solidity": 0.2
             }
            },
            "type": "barpolar"
           }
          ],
          "carpet": [
           {
            "aaxis": {
             "endlinecolor": "#2a3f5f",
             "gridcolor": "white",
             "linecolor": "white",
             "minorgridcolor": "white",
             "startlinecolor": "#2a3f5f"
            },
            "baxis": {
             "endlinecolor": "#2a3f5f",
             "gridcolor": "white",
             "linecolor": "white",
             "minorgridcolor": "white",
             "startlinecolor": "#2a3f5f"
            },
            "type": "carpet"
           }
          ],
          "choropleth": [
           {
            "colorbar": {
             "outlinewidth": 0,
             "ticks": ""
            },
            "type": "choropleth"
           }
          ],
          "contour": [
           {
            "colorbar": {
             "outlinewidth": 0,
             "ticks": ""
            },
            "colorscale": [
             [
              0,
              "#0d0887"
             ],
             [
              0.1111111111111111,
              "#46039f"
             ],
             [
              0.2222222222222222,
              "#7201a8"
             ],
             [
              0.3333333333333333,
              "#9c179e"
             ],
             [
              0.4444444444444444,
              "#bd3786"
             ],
             [
              0.5555555555555556,
              "#d8576b"
             ],
             [
              0.6666666666666666,
              "#ed7953"
             ],
             [
              0.7777777777777778,
              "#fb9f3a"
             ],
             [
              0.8888888888888888,
              "#fdca26"
             ],
             [
              1,
              "#f0f921"
             ]
            ],
            "type": "contour"
           }
          ],
          "contourcarpet": [
           {
            "colorbar": {
             "outlinewidth": 0,
             "ticks": ""
            },
            "type": "contourcarpet"
           }
          ],
          "heatmap": [
           {
            "colorbar": {
             "outlinewidth": 0,
             "ticks": ""
            },
            "colorscale": [
             [
              0,
              "#0d0887"
             ],
             [
              0.1111111111111111,
              "#46039f"
             ],
             [
              0.2222222222222222,
              "#7201a8"
             ],
             [
              0.3333333333333333,
              "#9c179e"
             ],
             [
              0.4444444444444444,
              "#bd3786"
             ],
             [
              0.5555555555555556,
              "#d8576b"
             ],
             [
              0.6666666666666666,
              "#ed7953"
             ],
             [
              0.7777777777777778,
              "#fb9f3a"
             ],
             [
              0.8888888888888888,
              "#fdca26"
             ],
             [
              1,
              "#f0f921"
             ]
            ],
            "type": "heatmap"
           }
          ],
          "heatmapgl": [
           {
            "colorbar": {
             "outlinewidth": 0,
             "ticks": ""
            },
            "colorscale": [
             [
              0,
              "#0d0887"
             ],
             [
              0.1111111111111111,
              "#46039f"
             ],
             [
              0.2222222222222222,
              "#7201a8"
             ],
             [
              0.3333333333333333,
              "#9c179e"
             ],
             [
              0.4444444444444444,
              "#bd3786"
             ],
             [
              0.5555555555555556,
              "#d8576b"
             ],
             [
              0.6666666666666666,
              "#ed7953"
             ],
             [
              0.7777777777777778,
              "#fb9f3a"
             ],
             [
              0.8888888888888888,
              "#fdca26"
             ],
             [
              1,
              "#f0f921"
             ]
            ],
            "type": "heatmapgl"
           }
          ],
          "histogram": [
           {
            "marker": {
             "pattern": {
              "fillmode": "overlay",
              "size": 10,
              "solidity": 0.2
             }
            },
            "type": "histogram"
           }
          ],
          "histogram2d": [
           {
            "colorbar": {
             "outlinewidth": 0,
             "ticks": ""
            },
            "colorscale": [
             [
              0,
              "#0d0887"
             ],
             [
              0.1111111111111111,
              "#46039f"
             ],
             [
              0.2222222222222222,
              "#7201a8"
             ],
             [
              0.3333333333333333,
              "#9c179e"
             ],
             [
              0.4444444444444444,
              "#bd3786"
             ],
             [
              0.5555555555555556,
              "#d8576b"
             ],
             [
              0.6666666666666666,
              "#ed7953"
             ],
             [
              0.7777777777777778,
              "#fb9f3a"
             ],
             [
              0.8888888888888888,
              "#fdca26"
             ],
             [
              1,
              "#f0f921"
             ]
            ],
            "type": "histogram2d"
           }
          ],
          "histogram2dcontour": [
           {
            "colorbar": {
             "outlinewidth": 0,
             "ticks": ""
            },
            "colorscale": [
             [
              0,
              "#0d0887"
             ],
             [
              0.1111111111111111,
              "#46039f"
             ],
             [
              0.2222222222222222,
              "#7201a8"
             ],
             [
              0.3333333333333333,
              "#9c179e"
             ],
             [
              0.4444444444444444,
              "#bd3786"
             ],
             [
              0.5555555555555556,
              "#d8576b"
             ],
             [
              0.6666666666666666,
              "#ed7953"
             ],
             [
              0.7777777777777778,
              "#fb9f3a"
             ],
             [
              0.8888888888888888,
              "#fdca26"
             ],
             [
              1,
              "#f0f921"
             ]
            ],
            "type": "histogram2dcontour"
           }
          ],
          "mesh3d": [
           {
            "colorbar": {
             "outlinewidth": 0,
             "ticks": ""
            },
            "type": "mesh3d"
           }
          ],
          "parcoords": [
           {
            "line": {
             "colorbar": {
              "outlinewidth": 0,
              "ticks": ""
             }
            },
            "type": "parcoords"
           }
          ],
          "pie": [
           {
            "automargin": true,
            "type": "pie"
           }
          ],
          "scatter": [
           {
            "fillpattern": {
             "fillmode": "overlay",
             "size": 10,
             "solidity": 0.2
            },
            "type": "scatter"
           }
          ],
          "scatter3d": [
           {
            "line": {
             "colorbar": {
              "outlinewidth": 0,
              "ticks": ""
             }
            },
            "marker": {
             "colorbar": {
              "outlinewidth": 0,
              "ticks": ""
             }
            },
            "type": "scatter3d"
           }
          ],
          "scattercarpet": [
           {
            "marker": {
             "colorbar": {
              "outlinewidth": 0,
              "ticks": ""
             }
            },
            "type": "scattercarpet"
           }
          ],
          "scattergeo": [
           {
            "marker": {
             "colorbar": {
              "outlinewidth": 0,
              "ticks": ""
             }
            },
            "type": "scattergeo"
           }
          ],
          "scattergl": [
           {
            "marker": {
             "colorbar": {
              "outlinewidth": 0,
              "ticks": ""
             }
            },
            "type": "scattergl"
           }
          ],
          "scattermapbox": [
           {
            "marker": {
             "colorbar": {
              "outlinewidth": 0,
              "ticks": ""
             }
            },
            "type": "scattermapbox"
           }
          ],
          "scatterpolar": [
           {
            "marker": {
             "colorbar": {
              "outlinewidth": 0,
              "ticks": ""
             }
            },
            "type": "scatterpolar"
           }
          ],
          "scatterpolargl": [
           {
            "marker": {
             "colorbar": {
              "outlinewidth": 0,
              "ticks": ""
             }
            },
            "type": "scatterpolargl"
           }
          ],
          "scatterternary": [
           {
            "marker": {
             "colorbar": {
              "outlinewidth": 0,
              "ticks": ""
             }
            },
            "type": "scatterternary"
           }
          ],
          "surface": [
           {
            "colorbar": {
             "outlinewidth": 0,
             "ticks": ""
            },
            "colorscale": [
             [
              0,
              "#0d0887"
             ],
             [
              0.1111111111111111,
              "#46039f"
             ],
             [
              0.2222222222222222,
              "#7201a8"
             ],
             [
              0.3333333333333333,
              "#9c179e"
             ],
             [
              0.4444444444444444,
              "#bd3786"
             ],
             [
              0.5555555555555556,
              "#d8576b"
             ],
             [
              0.6666666666666666,
              "#ed7953"
             ],
             [
              0.7777777777777778,
              "#fb9f3a"
             ],
             [
              0.8888888888888888,
              "#fdca26"
             ],
             [
              1,
              "#f0f921"
             ]
            ],
            "type": "surface"
           }
          ],
          "table": [
           {
            "cells": {
             "fill": {
              "color": "#EBF0F8"
             },
             "line": {
              "color": "white"
             }
            },
            "header": {
             "fill": {
              "color": "#C8D4E3"
             },
             "line": {
              "color": "white"
             }
            },
            "type": "table"
           }
          ]
         },
         "layout": {
          "annotationdefaults": {
           "arrowcolor": "#2a3f5f",
           "arrowhead": 0,
           "arrowwidth": 1
          },
          "autotypenumbers": "strict",
          "coloraxis": {
           "colorbar": {
            "outlinewidth": 0,
            "ticks": ""
           }
          },
          "colorscale": {
           "diverging": [
            [
             0,
             "#8e0152"
            ],
            [
             0.1,
             "#c51b7d"
            ],
            [
             0.2,
             "#de77ae"
            ],
            [
             0.3,
             "#f1b6da"
            ],
            [
             0.4,
             "#fde0ef"
            ],
            [
             0.5,
             "#f7f7f7"
            ],
            [
             0.6,
             "#e6f5d0"
            ],
            [
             0.7,
             "#b8e186"
            ],
            [
             0.8,
             "#7fbc41"
            ],
            [
             0.9,
             "#4d9221"
            ],
            [
             1,
             "#276419"
            ]
           ],
           "sequential": [
            [
             0,
             "#0d0887"
            ],
            [
             0.1111111111111111,
             "#46039f"
            ],
            [
             0.2222222222222222,
             "#7201a8"
            ],
            [
             0.3333333333333333,
             "#9c179e"
            ],
            [
             0.4444444444444444,
             "#bd3786"
            ],
            [
             0.5555555555555556,
             "#d8576b"
            ],
            [
             0.6666666666666666,
             "#ed7953"
            ],
            [
             0.7777777777777778,
             "#fb9f3a"
            ],
            [
             0.8888888888888888,
             "#fdca26"
            ],
            [
             1,
             "#f0f921"
            ]
           ],
           "sequentialminus": [
            [
             0,
             "#0d0887"
            ],
            [
             0.1111111111111111,
             "#46039f"
            ],
            [
             0.2222222222222222,
             "#7201a8"
            ],
            [
             0.3333333333333333,
             "#9c179e"
            ],
            [
             0.4444444444444444,
             "#bd3786"
            ],
            [
             0.5555555555555556,
             "#d8576b"
            ],
            [
             0.6666666666666666,
             "#ed7953"
            ],
            [
             0.7777777777777778,
             "#fb9f3a"
            ],
            [
             0.8888888888888888,
             "#fdca26"
            ],
            [
             1,
             "#f0f921"
            ]
           ]
          },
          "colorway": [
           "#636efa",
           "#EF553B",
           "#00cc96",
           "#ab63fa",
           "#FFA15A",
           "#19d3f3",
           "#FF6692",
           "#B6E880",
           "#FF97FF",
           "#FECB52"
          ],
          "font": {
           "color": "#2a3f5f"
          },
          "geo": {
           "bgcolor": "white",
           "lakecolor": "white",
           "landcolor": "#E5ECF6",
           "showlakes": true,
           "showland": true,
           "subunitcolor": "white"
          },
          "hoverlabel": {
           "align": "left"
          },
          "hovermode": "closest",
          "mapbox": {
           "style": "light"
          },
          "paper_bgcolor": "white",
          "plot_bgcolor": "#E5ECF6",
          "polar": {
           "angularaxis": {
            "gridcolor": "white",
            "linecolor": "white",
            "ticks": ""
           },
           "bgcolor": "#E5ECF6",
           "radialaxis": {
            "gridcolor": "white",
            "linecolor": "white",
            "ticks": ""
           }
          },
          "scene": {
           "xaxis": {
            "backgroundcolor": "#E5ECF6",
            "gridcolor": "white",
            "gridwidth": 2,
            "linecolor": "white",
            "showbackground": true,
            "ticks": "",
            "zerolinecolor": "white"
           },
           "yaxis": {
            "backgroundcolor": "#E5ECF6",
            "gridcolor": "white",
            "gridwidth": 2,
            "linecolor": "white",
            "showbackground": true,
            "ticks": "",
            "zerolinecolor": "white"
           },
           "zaxis": {
            "backgroundcolor": "#E5ECF6",
            "gridcolor": "white",
            "gridwidth": 2,
            "linecolor": "white",
            "showbackground": true,
            "ticks": "",
            "zerolinecolor": "white"
           }
          },
          "shapedefaults": {
           "line": {
            "color": "#2a3f5f"
           }
          },
          "ternary": {
           "aaxis": {
            "gridcolor": "white",
            "linecolor": "white",
            "ticks": ""
           },
           "baxis": {
            "gridcolor": "white",
            "linecolor": "white",
            "ticks": ""
           },
           "bgcolor": "#E5ECF6",
           "caxis": {
            "gridcolor": "white",
            "linecolor": "white",
            "ticks": ""
           }
          },
          "title": {
           "x": 0.05
          },
          "xaxis": {
           "automargin": true,
           "gridcolor": "white",
           "linecolor": "white",
           "ticks": "",
           "title": {
            "standoff": 15
           },
           "zerolinecolor": "white",
           "zerolinewidth": 2
          },
          "yaxis": {
           "automargin": true,
           "gridcolor": "white",
           "linecolor": "white",
           "ticks": "",
           "title": {
            "standoff": 15
           },
           "zerolinecolor": "white",
           "zerolinewidth": 2
          }
         }
        },
        "title": {
         "text": "Fibonacci Retracement and Extension Levels"
        },
        "xaxis": {
         "anchor": "y",
         "domain": [
          0,
          0.94
         ],
         "range": [
          "2024-01-16T00:00:00+05:30",
          "2024-10-30T00:00:00+05:30"
         ],
         "tickangle": 45,
         "tickformat": "%d %b %y",
         "tickmode": "array",
         "ticktext": [
          "01 Feb 24",
          "01 Mar 24",
          "01 Apr 24",
          "01 May 24",
          "01 Jun 24",
          "01 Jul 24",
          "01 Aug 24",
          "01 Sep 24",
          "01 Oct 24"
         ],
         "tickvals": [
          "2024-02-01T00:00:00+05:30",
          "2024-03-01T00:00:00+05:30",
          "2024-04-01T00:00:00+05:30",
          "2024-05-01T00:00:00+05:30",
          "2024-06-01T00:00:00+05:30",
          "2024-07-01T00:00:00+05:30",
          "2024-08-01T00:00:00+05:30",
          "2024-09-01T00:00:00+05:30",
          "2024-10-01T00:00:00+05:30"
         ],
         "title": {
          "text": "Date"
         }
        },
        "yaxis": {
         "anchor": "x",
         "domain": [
          0,
          1
         ],
         "tickformat": ".2f",
         "title": {
          "text": "Price"
         }
        },
        "yaxis2": {
         "anchor": "x",
         "overlaying": "y",
         "side": "right",
         "tickformat": ".2f"
        }
       }
      },
      "text/html": [
       "<div>                            <div id=\"60084bcf-4aa3-434b-b496-09a4de900a4d\" class=\"plotly-graph-div\" style=\"height:525px; width:100%;\"></div>            <script type=\"text/javascript\">                require([\"plotly\"], function(Plotly) {                    window.PLOTLYENV=window.PLOTLYENV || {};                                    if (document.getElementById(\"60084bcf-4aa3-434b-b496-09a4de900a4d\")) {                    Plotly.newPlot(                        \"60084bcf-4aa3-434b-b496-09a4de900a4d\",                        [{\"hovertemplate\":\"\\u003cb\\u003eDate:\\u003c\\u002fb\\u003e %{x|%d %b %y}\\u003cbr\\u003e\\u003cb\\u003eClose:\\u003c\\u002fb\\u003e %{y:.2f}\\u003cextra\\u003e\\u003c\\u002fextra\\u003e\",\"line\":{\"color\":\"#1e90ff\",\"width\":3},\"name\":\"Close Price\",\"x\":[\"2023-10-10T00:00:00+05:30\",\"2023-10-11T00:00:00+05:30\",\"2023-10-12T00:00:00+05:30\",\"2023-10-13T00:00:00+05:30\",\"2023-10-16T00:00:00+05:30\",\"2023-10-17T00:00:00+05:30\",\"2023-10-18T00:00:00+05:30\",\"2023-10-19T00:00:00+05:30\",\"2023-10-20T00:00:00+05:30\",\"2023-10-23T00:00:00+05:30\",\"2023-10-25T00:00:00+05:30\",\"2023-10-26T00:00:00+05:30\",\"2023-10-27T00:00:00+05:30\",\"2023-10-30T00:00:00+05:30\",\"2023-10-31T00:00:00+05:30\",\"2023-11-01T00:00:00+05:30\",\"2023-11-02T00:00:00+05:30\",\"2023-11-03T00:00:00+05:30\",\"2023-11-06T00:00:00+05:30\",\"2023-11-07T00:00:00+05:30\",\"2023-11-08T00:00:00+05:30\",\"2023-11-09T00:00:00+05:30\",\"2023-11-10T00:00:00+05:30\",\"2023-11-13T00:00:00+05:30\",\"2023-11-15T00:00:00+05:30\",\"2023-11-16T00:00:00+05:30\",\"2023-11-17T00:00:00+05:30\",\"2023-11-20T00:00:00+05:30\",\"2023-11-21T00:00:00+05:30\",\"2023-11-22T00:00:00+05:30\",\"2023-11-23T00:00:00+05:30\",\"2023-11-24T00:00:00+05:30\",\"2023-11-28T00:00:00+05:30\",\"2023-11-29T00:00:00+05:30\",\"2023-11-30T00:00:00+05:30\",\"2023-12-01T00:00:00+05:30\",\"2023-12-04T00:00:00+05:30\",\"2023-12-05T00:00:00+05:30\",\"2023-12-06T00:00:00+05:30\",\"2023-12-07T00:00:00+05:30\",\"2023-12-08T00:00:00+05:30\",\"2023-12-11T00:00:00+05:30\",\"2023-12-12T00:00:00+05:30\",\"2023-12-13T00:00:00+05:30\",\"2023-12-14T00:00:00+05:30\",\"2023-12-15T00:00:00+05:30\",\"2023-12-18T00:00:00+05:30\",\"2023-12-19T00:00:00+05:30\",\"2023-12-20T00:00:00+05:30\",\"2023-12-21T00:00:00+05:30\",\"2023-12-22T00:00:00+05:30\",\"2023-12-26T00:00:00+05:30\",\"2023-12-27T00:00:00+05:30\",\"2023-12-28T00:00:00+05:30\",\"2023-12-29T00:00:00+05:30\",\"2024-01-01T00:00:00+05:30\",\"2024-01-02T00:00:00+05:30\",\"2024-01-03T00:00:00+05:30\",\"2024-01-04T00:00:00+05:30\",\"2024-01-05T00:00:00+05:30\",\"2024-01-08T00:00:00+05:30\",\"2024-01-09T00:00:00+05:30\",\"2024-01-10T00:00:00+05:30\",\"2024-01-11T00:00:00+05:30\",\"2024-01-12T00:00:00+05:30\",\"2024-01-15T00:00:00+05:30\",\"2024-01-16T00:00:00+05:30\",\"2024-01-17T00:00:00+05:30\",\"2024-01-18T00:00:00+05:30\",\"2024-01-19T00:00:00+05:30\",\"2024-01-23T00:00:00+05:30\",\"2024-01-24T00:00:00+05:30\",\"2024-01-25T00:00:00+05:30\",\"2024-01-29T00:00:00+05:30\",\"2024-01-30T00:00:00+05:30\",\"2024-01-31T00:00:00+05:30\",\"2024-02-01T00:00:00+05:30\",\"2024-02-02T00:00:00+05:30\",\"2024-02-05T00:00:00+05:30\",\"2024-02-06T00:00:00+05:30\",\"2024-02-07T00:00:00+05:30\",\"2024-02-08T00:00:00+05:30\",\"2024-02-09T00:00:00+05:30\",\"2024-02-12T00:00:00+05:30\",\"2024-02-13T00:00:00+05:30\",\"2024-02-14T00:00:00+05:30\",\"2024-02-15T00:00:00+05:30\",\"2024-02-16T00:00:00+05:30\",\"2024-02-19T00:00:00+05:30\",\"2024-02-20T00:00:00+05:30\",\"2024-02-21T00:00:00+05:30\",\"2024-02-22T00:00:00+05:30\",\"2024-02-23T00:00:00+05:30\",\"2024-02-26T00:00:00+05:30\",\"2024-02-27T00:00:00+05:30\",\"2024-02-28T00:00:00+05:30\",\"2024-02-29T00:00:00+05:30\",\"2024-03-01T00:00:00+05:30\",\"2024-03-04T00:00:00+05:30\",\"2024-03-05T00:00:00+05:30\",\"2024-03-06T00:00:00+05:30\",\"2024-03-07T00:00:00+05:30\",\"2024-03-11T00:00:00+05:30\",\"2024-03-12T00:00:00+05:30\",\"2024-03-13T00:00:00+05:30\",\"2024-03-14T00:00:00+05:30\",\"2024-03-15T00:00:00+05:30\",\"2024-03-18T00:00:00+05:30\",\"2024-03-19T00:00:00+05:30\",\"2024-03-20T00:00:00+05:30\",\"2024-03-21T00:00:00+05:30\",\"2024-03-22T00:00:00+05:30\",\"2024-03-26T00:00:00+05:30\",\"2024-03-27T00:00:00+05:30\",\"2024-03-28T00:00:00+05:30\",\"2024-04-01T00:00:00+05:30\",\"2024-04-02T00:00:00+05:30\",\"2024-04-03T00:00:00+05:30\",\"2024-04-04T00:00:00+05:30\",\"2024-04-05T00:00:00+05:30\",\"2024-04-08T00:00:00+05:30\",\"2024-04-09T00:00:00+05:30\",\"2024-04-10T00:00:00+05:30\",\"2024-04-12T00:00:00+05:30\",\"2024-04-15T00:00:00+05:30\",\"2024-04-16T00:00:00+05:30\",\"2024-04-18T00:00:00+05:30\",\"2024-04-19T00:00:00+05:30\",\"2024-04-22T00:00:00+05:30\",\"2024-04-23T00:00:00+05:30\",\"2024-04-24T00:00:00+05:30\",\"2024-04-25T00:00:00+05:30\",\"2024-04-26T00:00:00+05:30\",\"2024-04-29T00:00:00+05:30\",\"2024-04-30T00:00:00+05:30\",\"2024-05-02T00:00:00+05:30\",\"2024-05-03T00:00:00+05:30\",\"2024-05-06T00:00:00+05:30\",\"2024-05-07T00:00:00+05:30\",\"2024-05-08T00:00:00+05:30\",\"2024-05-09T00:00:00+05:30\",\"2024-05-10T00:00:00+05:30\",\"2024-05-13T00:00:00+05:30\",\"2024-05-14T00:00:00+05:30\",\"2024-05-15T00:00:00+05:30\",\"2024-05-16T00:00:00+05:30\",\"2024-05-17T00:00:00+05:30\",\"2024-05-21T00:00:00+05:30\",\"2024-05-22T00:00:00+05:30\",\"2024-05-23T00:00:00+05:30\",\"2024-05-24T00:00:00+05:30\",\"2024-05-27T00:00:00+05:30\",\"2024-05-28T00:00:00+05:30\",\"2024-05-29T00:00:00+05:30\",\"2024-05-30T00:00:00+05:30\",\"2024-05-31T00:00:00+05:30\",\"2024-06-03T00:00:00+05:30\",\"2024-06-04T00:00:00+05:30\",\"2024-06-05T00:00:00+05:30\",\"2024-06-06T00:00:00+05:30\",\"2024-06-07T00:00:00+05:30\",\"2024-06-10T00:00:00+05:30\",\"2024-06-11T00:00:00+05:30\",\"2024-06-12T00:00:00+05:30\",\"2024-06-13T00:00:00+05:30\",\"2024-06-14T00:00:00+05:30\",\"2024-06-18T00:00:00+05:30\",\"2024-06-19T00:00:00+05:30\",\"2024-06-20T00:00:00+05:30\",\"2024-06-21T00:00:00+05:30\",\"2024-06-24T00:00:00+05:30\",\"2024-06-25T00:00:00+05:30\",\"2024-06-26T00:00:00+05:30\",\"2024-06-27T00:00:00+05:30\",\"2024-06-28T00:00:00+05:30\",\"2024-07-01T00:00:00+05:30\",\"2024-07-02T00:00:00+05:30\",\"2024-07-03T00:00:00+05:30\",\"2024-07-04T00:00:00+05:30\",\"2024-07-05T00:00:00+05:30\",\"2024-07-08T00:00:00+05:30\",\"2024-07-09T00:00:00+05:30\",\"2024-07-10T00:00:00+05:30\",\"2024-07-11T00:00:00+05:30\",\"2024-07-12T00:00:00+05:30\",\"2024-07-15T00:00:00+05:30\",\"2024-07-16T00:00:00+05:30\",\"2024-07-18T00:00:00+05:30\",\"2024-07-19T00:00:00+05:30\",\"2024-07-22T00:00:00+05:30\",\"2024-07-23T00:00:00+05:30\",\"2024-07-24T00:00:00+05:30\",\"2024-07-25T00:00:00+05:30\",\"2024-07-26T00:00:00+05:30\",\"2024-07-29T00:00:00+05:30\",\"2024-07-30T00:00:00+05:30\",\"2024-07-31T00:00:00+05:30\",\"2024-08-01T00:00:00+05:30\",\"2024-08-02T00:00:00+05:30\",\"2024-08-05T00:00:00+05:30\",\"2024-08-06T00:00:00+05:30\",\"2024-08-07T00:00:00+05:30\",\"2024-08-08T00:00:00+05:30\",\"2024-08-09T00:00:00+05:30\",\"2024-08-12T00:00:00+05:30\",\"2024-08-13T00:00:00+05:30\",\"2024-08-14T00:00:00+05:30\",\"2024-08-16T00:00:00+05:30\",\"2024-08-19T00:00:00+05:30\",\"2024-08-20T00:00:00+05:30\",\"2024-08-21T00:00:00+05:30\",\"2024-08-22T00:00:00+05:30\",\"2024-08-23T00:00:00+05:30\",\"2024-08-26T00:00:00+05:30\",\"2024-08-27T00:00:00+05:30\",\"2024-08-28T00:00:00+05:30\",\"2024-08-29T00:00:00+05:30\",\"2024-08-30T00:00:00+05:30\",\"2024-09-02T00:00:00+05:30\",\"2024-09-03T00:00:00+05:30\",\"2024-09-04T00:00:00+05:30\",\"2024-09-05T00:00:00+05:30\",\"2024-09-06T00:00:00+05:30\",\"2024-09-09T00:00:00+05:30\",\"2024-09-10T00:00:00+05:30\",\"2024-09-11T00:00:00+05:30\",\"2024-09-12T00:00:00+05:30\",\"2024-09-13T00:00:00+05:30\",\"2024-09-16T00:00:00+05:30\",\"2024-09-17T00:00:00+05:30\",\"2024-09-18T00:00:00+05:30\",\"2024-09-19T00:00:00+05:30\",\"2024-09-20T00:00:00+05:30\",\"2024-09-23T00:00:00+05:30\",\"2024-09-24T00:00:00+05:30\",\"2024-09-25T00:00:00+05:30\",\"2024-09-26T00:00:00+05:30\",\"2024-09-27T00:00:00+05:30\",\"2024-09-30T00:00:00+05:30\",\"2024-10-01T00:00:00+05:30\",\"2024-10-03T00:00:00+05:30\",\"2024-10-04T00:00:00+05:30\",\"2024-10-07T00:00:00+05:30\",\"2024-10-08T00:00:00+05:30\",\"2024-10-09T00:00:00+05:30\",\"2024-10-10T00:00:00+05:30\"],\"y\":[122.82534790039062,122.48225402832031,123.41349792480469,122.58029174804688,124.49177551269531,124.88387298583984,124.58979797363281,123.51152038574219,120.66879272460938,117.63002014160156,118.95336151123047,117.53199768066406,117.53199768066406,116.79681396484375,116.40470886230469,114.29717254638672,115.76754760742188,114.98335266113281,117.0418701171875,117.28693389892578,116.69878387451172,117.28693389892578,117.67903900146484,118.61027526855469,121.60003662109375,122.23719787597656,122.7273178100586,121.89411163330078,123.75658416748047,123.60954284667969,124.19769287109375,123.46250915527344,124.34473419189453,125.22695922851562,125.3740005493164,127.43252563476562,128.41278076171875,129.0009307861328,129.24598693847656,127.43252563476562,126.64832305908203,127.48153686523438,127.53055572509766,128.80487060546875,129.3930206298828,133.755126953125,133.9021759033203,132.7258758544922,127.18746185302734,128.41278076171875,130.91241455078125,132.52981567382812,134.49032592773438,135.4215545654297,136.84292602539062,137.08799743652344,136.84292602539062,132.67686462402344,131.5985870361328,131.01043701171875,129.3930206298828,131.01043701171875,131.45155334472656,132.23574829101562,132.6278533935547,132.23574829101562,134.53933715820312,129.0499267578125,128.41278076171875,131.5985870361328,127.53055572509766,132.48080444335938,131.10845947265625,132.33377075195312,132.03970336914062,133.2650146484375,132.13772583007812,135.960693359375,138.75440979003906,141.79318237304688,141.54812622070312,140.81292724609375,138.5093536376953,134.68637084960938,135.1274871826172,138.41131591796875,138.41131591796875,139.48960876464844,139.14651489257812,138.26429748535156,141.05799865722656,143.01849365234375,142.577392578125,139.8326873779297,141.35206604003906,137.97021484375,138.0682373046875,146.98851013183594,150.07630920410156,148.8509979248047,148.60592651367188,154.14434814453125,150.4193878173828,149.4881591796875,140.81292724609375,139.6366424560547,138.9014434814453,146.7434539794922,145.8122100830078,142.7734375,147.13555908203125,148.80198669433594,149.39012145996094,149.6842041015625,152.77200317382812,159.9278106689453,161.398193359375,160.41793823242188,160.17286682128906,160.12387084960938,161.9373321533203,162.72152709960938,161.79029846191406,160.27090454101562,157.67324829101562,156.8890380859375,156.8890380859375,158.8985595703125,158.65350341796875,157.96731567382812,162.28042602539062,164.38795471191406,162.52548217773438,164.0938720703125,161.7412872314453,164.0448760986328,163.21165466308594,164.28993225097656,161.00608825683594,162.77053833007812,158.70249938964844,159.04559326171875,160.61399841308594,161.6922607421875,162.32943725585938,162.62350463867188,164.0448760986328,170.90663146972656,169.8773651123047,172.03390502929688,171.39674377441406,172.03390502929688,171.4457550048828,170.80859375,160.90806579589844,163.8978271484375,170.80859375,155.81076049804688,165.8583221435547,168.6520538330078,175.3667449951172,176.7292938232422,177.74876403808594,178.6309814453125,178.9544677734375,179.53282165527344,177.54290771484375,176.4646453857422,178.6800079345703,179.94000244140625,177.9600067138672,175.67999267578125,172.55999755859375,174.16000366210938,174.00999450683594,174.07000732421875,174.5399932861328,176.3699951171875,176.2899932861328,174.7100067138672,172.27999877929688,171.8000030517578,167.97999572753906,168.9199981689453,168.69000244140625,166.75999450683594,167.07000732421875,166.36000061035156,157.77000427246094,160.32000732421875,160.02000427246094,160.30999755859375,157.38999938964844,162.5500030517578,162.8699951171875,164.07000732421875,165.3300018310547,163.05999755859375,158.22000122070312,149.82000732421875,150.32000732421875,153.86000061035156,150.27999877929688,151.80999755859375,152.05999755859375,148.8800048828125,146.1699981689453,149.52000427246094,153.9600067138672,153.92999267578125,151.9199981689453,154.13999938964844,154.1999969482422,155.6999969482422,154.6999969482422,153.6999969482422,152.97000122070312,152.75999450683594,152.8800048828125,152.14999389648438,151.17999267578125,151.72000122070312,151.22000122070312,149.47000122070312,149.4199981689453,148.1699981689453,151.74000549316406,153.49000549316406,154.2100067138672,152.82000732421875,150.60000610351562,149.5399932861328,152.02000427246094,153.99000549316406,160.52999877929688,161.66000366210938,165.61000061035156,166.5500030517578,168.5500030517578,167.02999877929688,166.97999572753906,166.75,164.36000061035156,159.52000427246094,159.05999755859375,159.64999389648438],\"type\":\"scatter\"},{\"line\":{\"color\":\"#FF4136\",\"dash\":\"dot\",\"width\":2},\"mode\":\"lines\",\"name\":\"200% (178.04)\",\"x\":[\"2023-10-10T00:00:00+05:30\",\"2024-10-10T00:00:00+05:30\"],\"y\":[178.04000854492188,178.04000854492188],\"type\":\"scatter\"},{\"line\":{\"color\":\"#FF851B\",\"dash\":\"dot\",\"width\":2},\"mode\":\"lines\",\"name\":\"161.8% (174.41)\",\"x\":[\"2023-10-10T00:00:00+05:30\",\"2024-10-10T00:00:00+05:30\"],\"y\":[174.4148264465332,174.4148264465332],\"type\":\"scatter\"},{\"line\":{\"color\":\"#FFDC00\",\"dash\":\"dot\",\"width\":2},\"mode\":\"lines\",\"name\":\"150% (173.3)\",\"x\":[\"2023-10-10T00:00:00+05:30\",\"2024-10-10T00:00:00+05:30\"],\"y\":[173.29500579833984,173.29500579833984],\"type\":\"scatter\"},{\"line\":{\"color\":\"#2ECC40\",\"dash\":\"dot\",\"width\":2},\"mode\":\"lines\",\"name\":\"138.2% (172.18)\",\"x\":[\"2023-10-10T00:00:00+05:30\",\"2024-10-10T00:00:00+05:30\"],\"y\":[172.1751851501465,172.1751851501465],\"type\":\"scatter\"},{\"line\":{\"color\":\"#0074D9\",\"dash\":\"dot\",\"width\":2},\"mode\":\"lines\",\"name\":\"123.6% (170.79)\",\"x\":[\"2023-10-10T00:00:00+05:30\",\"2024-10-10T00:00:00+05:30\"],\"y\":[170.78964434814452,170.78964434814452],\"type\":\"scatter\"},{\"line\":{\"color\":\"#B10DC9\",\"dash\":\"dash\",\"width\":2},\"mode\":\"lines\",\"name\":\"23.6% (161.3)\",\"x\":[\"2023-10-10T00:00:00+05:30\",\"2024-10-10T00:00:00+05:30\"],\"y\":[161.29963885498046,161.29963885498046],\"type\":\"scatter\"},{\"line\":{\"color\":\"#F012BE\",\"dash\":\"dash\",\"width\":2},\"mode\":\"lines\",\"name\":\"38.2% (162.69)\",\"x\":[\"2023-10-10T00:00:00+05:30\",\"2024-10-10T00:00:00+05:30\"],\"y\":[162.68517965698243,162.68517965698243],\"type\":\"scatter\"},{\"line\":{\"color\":\"#85144b\",\"dash\":\"dash\",\"width\":2},\"mode\":\"lines\",\"name\":\"50% (163.81)\",\"x\":[\"2023-10-10T00:00:00+05:30\",\"2024-10-10T00:00:00+05:30\"],\"y\":[163.80500030517578,163.80500030517578],\"type\":\"scatter\"},{\"line\":{\"color\":\"#001f3f\",\"dash\":\"dash\",\"width\":2},\"mode\":\"lines\",\"name\":\"61.8% (164.92)\",\"x\":[\"2023-10-10T00:00:00+05:30\",\"2024-10-10T00:00:00+05:30\"],\"y\":[164.92482095336914,164.92482095336914],\"type\":\"scatter\"},{\"line\":{\"color\":\"#39CCCC\",\"dash\":\"dash\",\"width\":2},\"mode\":\"lines\",\"name\":\"78.6% (166.52)\",\"x\":[\"2023-10-10T00:00:00+05:30\",\"2024-10-10T00:00:00+05:30\"],\"y\":[166.51914187622071,166.51914187622071],\"type\":\"scatter\"}],                        {\"template\":{\"data\":{\"histogram2dcontour\":[{\"type\":\"histogram2dcontour\",\"colorbar\":{\"outlinewidth\":0,\"ticks\":\"\"},\"colorscale\":[[0.0,\"#0d0887\"],[0.1111111111111111,\"#46039f\"],[0.2222222222222222,\"#7201a8\"],[0.3333333333333333,\"#9c179e\"],[0.4444444444444444,\"#bd3786\"],[0.5555555555555556,\"#d8576b\"],[0.6666666666666666,\"#ed7953\"],[0.7777777777777778,\"#fb9f3a\"],[0.8888888888888888,\"#fdca26\"],[1.0,\"#f0f921\"]]}],\"choropleth\":[{\"type\":\"choropleth\",\"colorbar\":{\"outlinewidth\":0,\"ticks\":\"\"}}],\"histogram2d\":[{\"type\":\"histogram2d\",\"colorbar\":{\"outlinewidth\":0,\"ticks\":\"\"},\"colorscale\":[[0.0,\"#0d0887\"],[0.1111111111111111,\"#46039f\"],[0.2222222222222222,\"#7201a8\"],[0.3333333333333333,\"#9c179e\"],[0.4444444444444444,\"#bd3786\"],[0.5555555555555556,\"#d8576b\"],[0.6666666666666666,\"#ed7953\"],[0.7777777777777778,\"#fb9f3a\"],[0.8888888888888888,\"#fdca26\"],[1.0,\"#f0f921\"]]}],\"heatmap\":[{\"type\":\"heatmap\",\"colorbar\":{\"outlinewidth\":0,\"ticks\":\"\"},\"colorscale\":[[0.0,\"#0d0887\"],[0.1111111111111111,\"#46039f\"],[0.2222222222222222,\"#7201a8\"],[0.3333333333333333,\"#9c179e\"],[0.4444444444444444,\"#bd3786\"],[0.5555555555555556,\"#d8576b\"],[0.6666666666666666,\"#ed7953\"],[0.7777777777777778,\"#fb9f3a\"],[0.8888888888888888,\"#fdca26\"],[1.0,\"#f0f921\"]]}],\"heatmapgl\":[{\"type\":\"heatmapgl\",\"colorbar\":{\"outlinewidth\":0,\"ticks\":\"\"},\"colorscale\":[[0.0,\"#0d0887\"],[0.1111111111111111,\"#46039f\"],[0.2222222222222222,\"#7201a8\"],[0.3333333333333333,\"#9c179e\"],[0.4444444444444444,\"#bd3786\"],[0.5555555555555556,\"#d8576b\"],[0.6666666666666666,\"#ed7953\"],[0.7777777777777778,\"#fb9f3a\"],[0.8888888888888888,\"#fdca26\"],[1.0,\"#f0f921\"]]}],\"contourcarpet\":[{\"type\":\"contourcarpet\",\"colorbar\":{\"outlinewidth\":0,\"ticks\":\"\"}}],\"contour\":[{\"type\":\"contour\",\"colorbar\":{\"outlinewidth\":0,\"ticks\":\"\"},\"colorscale\":[[0.0,\"#0d0887\"],[0.1111111111111111,\"#46039f\"],[0.2222222222222222,\"#7201a8\"],[0.3333333333333333,\"#9c179e\"],[0.4444444444444444,\"#bd3786\"],[0.5555555555555556,\"#d8576b\"],[0.6666666666666666,\"#ed7953\"],[0.7777777777777778,\"#fb9f3a\"],[0.8888888888888888,\"#fdca26\"],[1.0,\"#f0f921\"]]}],\"surface\":[{\"type\":\"surface\",\"colorbar\":{\"outlinewidth\":0,\"ticks\":\"\"},\"colorscale\":[[0.0,\"#0d0887\"],[0.1111111111111111,\"#46039f\"],[0.2222222222222222,\"#7201a8\"],[0.3333333333333333,\"#9c179e\"],[0.4444444444444444,\"#bd3786\"],[0.5555555555555556,\"#d8576b\"],[0.6666666666666666,\"#ed7953\"],[0.7777777777777778,\"#fb9f3a\"],[0.8888888888888888,\"#fdca26\"],[1.0,\"#f0f921\"]]}],\"mesh3d\":[{\"type\":\"mesh3d\",\"colorbar\":{\"outlinewidth\":0,\"ticks\":\"\"}}],\"scatter\":[{\"fillpattern\":{\"fillmode\":\"overlay\",\"size\":10,\"solidity\":0.2},\"type\":\"scatter\"}],\"parcoords\":[{\"type\":\"parcoords\",\"line\":{\"colorbar\":{\"outlinewidth\":0,\"ticks\":\"\"}}}],\"scatterpolargl\":[{\"type\":\"scatterpolargl\",\"marker\":{\"colorbar\":{\"outlinewidth\":0,\"ticks\":\"\"}}}],\"bar\":[{\"error_x\":{\"color\":\"#2a3f5f\"},\"error_y\":{\"color\":\"#2a3f5f\"},\"marker\":{\"line\":{\"color\":\"#E5ECF6\",\"width\":0.5},\"pattern\":{\"fillmode\":\"overlay\",\"size\":10,\"solidity\":0.2}},\"type\":\"bar\"}],\"scattergeo\":[{\"type\":\"scattergeo\",\"marker\":{\"colorbar\":{\"outlinewidth\":0,\"ticks\":\"\"}}}],\"scatterpolar\":[{\"type\":\"scatterpolar\",\"marker\":{\"colorbar\":{\"outlinewidth\":0,\"ticks\":\"\"}}}],\"histogram\":[{\"marker\":{\"pattern\":{\"fillmode\":\"overlay\",\"size\":10,\"solidity\":0.2}},\"type\":\"histogram\"}],\"scattergl\":[{\"type\":\"scattergl\",\"marker\":{\"colorbar\":{\"outlinewidth\":0,\"ticks\":\"\"}}}],\"scatter3d\":[{\"type\":\"scatter3d\",\"line\":{\"colorbar\":{\"outlinewidth\":0,\"ticks\":\"\"}},\"marker\":{\"colorbar\":{\"outlinewidth\":0,\"ticks\":\"\"}}}],\"scattermapbox\":[{\"type\":\"scattermapbox\",\"marker\":{\"colorbar\":{\"outlinewidth\":0,\"ticks\":\"\"}}}],\"scatterternary\":[{\"type\":\"scatterternary\",\"marker\":{\"colorbar\":{\"outlinewidth\":0,\"ticks\":\"\"}}}],\"scattercarpet\":[{\"type\":\"scattercarpet\",\"marker\":{\"colorbar\":{\"outlinewidth\":0,\"ticks\":\"\"}}}],\"carpet\":[{\"aaxis\":{\"endlinecolor\":\"#2a3f5f\",\"gridcolor\":\"white\",\"linecolor\":\"white\",\"minorgridcolor\":\"white\",\"startlinecolor\":\"#2a3f5f\"},\"baxis\":{\"endlinecolor\":\"#2a3f5f\",\"gridcolor\":\"white\",\"linecolor\":\"white\",\"minorgridcolor\":\"white\",\"startlinecolor\":\"#2a3f5f\"},\"type\":\"carpet\"}],\"table\":[{\"cells\":{\"fill\":{\"color\":\"#EBF0F8\"},\"line\":{\"color\":\"white\"}},\"header\":{\"fill\":{\"color\":\"#C8D4E3\"},\"line\":{\"color\":\"white\"}},\"type\":\"table\"}],\"barpolar\":[{\"marker\":{\"line\":{\"color\":\"#E5ECF6\",\"width\":0.5},\"pattern\":{\"fillmode\":\"overlay\",\"size\":10,\"solidity\":0.2}},\"type\":\"barpolar\"}],\"pie\":[{\"automargin\":true,\"type\":\"pie\"}]},\"layout\":{\"autotypenumbers\":\"strict\",\"colorway\":[\"#636efa\",\"#EF553B\",\"#00cc96\",\"#ab63fa\",\"#FFA15A\",\"#19d3f3\",\"#FF6692\",\"#B6E880\",\"#FF97FF\",\"#FECB52\"],\"font\":{\"color\":\"#2a3f5f\"},\"hovermode\":\"closest\",\"hoverlabel\":{\"align\":\"left\"},\"paper_bgcolor\":\"white\",\"plot_bgcolor\":\"#E5ECF6\",\"polar\":{\"bgcolor\":\"#E5ECF6\",\"angularaxis\":{\"gridcolor\":\"white\",\"linecolor\":\"white\",\"ticks\":\"\"},\"radialaxis\":{\"gridcolor\":\"white\",\"linecolor\":\"white\",\"ticks\":\"\"}},\"ternary\":{\"bgcolor\":\"#E5ECF6\",\"aaxis\":{\"gridcolor\":\"white\",\"linecolor\":\"white\",\"ticks\":\"\"},\"baxis\":{\"gridcolor\":\"white\",\"linecolor\":\"white\",\"ticks\":\"\"},\"caxis\":{\"gridcolor\":\"white\",\"linecolor\":\"white\",\"ticks\":\"\"}},\"coloraxis\":{\"colorbar\":{\"outlinewidth\":0,\"ticks\":\"\"}},\"colorscale\":{\"sequential\":[[0.0,\"#0d0887\"],[0.1111111111111111,\"#46039f\"],[0.2222222222222222,\"#7201a8\"],[0.3333333333333333,\"#9c179e\"],[0.4444444444444444,\"#bd3786\"],[0.5555555555555556,\"#d8576b\"],[0.6666666666666666,\"#ed7953\"],[0.7777777777777778,\"#fb9f3a\"],[0.8888888888888888,\"#fdca26\"],[1.0,\"#f0f921\"]],\"sequentialminus\":[[0.0,\"#0d0887\"],[0.1111111111111111,\"#46039f\"],[0.2222222222222222,\"#7201a8\"],[0.3333333333333333,\"#9c179e\"],[0.4444444444444444,\"#bd3786\"],[0.5555555555555556,\"#d8576b\"],[0.6666666666666666,\"#ed7953\"],[0.7777777777777778,\"#fb9f3a\"],[0.8888888888888888,\"#fdca26\"],[1.0,\"#f0f921\"]],\"diverging\":[[0,\"#8e0152\"],[0.1,\"#c51b7d\"],[0.2,\"#de77ae\"],[0.3,\"#f1b6da\"],[0.4,\"#fde0ef\"],[0.5,\"#f7f7f7\"],[0.6,\"#e6f5d0\"],[0.7,\"#b8e186\"],[0.8,\"#7fbc41\"],[0.9,\"#4d9221\"],[1,\"#276419\"]]},\"xaxis\":{\"gridcolor\":\"white\",\"linecolor\":\"white\",\"ticks\":\"\",\"title\":{\"standoff\":15},\"zerolinecolor\":\"white\",\"automargin\":true,\"zerolinewidth\":2},\"yaxis\":{\"gridcolor\":\"white\",\"linecolor\":\"white\",\"ticks\":\"\",\"title\":{\"standoff\":15},\"zerolinecolor\":\"white\",\"automargin\":true,\"zerolinewidth\":2},\"scene\":{\"xaxis\":{\"backgroundcolor\":\"#E5ECF6\",\"gridcolor\":\"white\",\"linecolor\":\"white\",\"showbackground\":true,\"ticks\":\"\",\"zerolinecolor\":\"white\",\"gridwidth\":2},\"yaxis\":{\"backgroundcolor\":\"#E5ECF6\",\"gridcolor\":\"white\",\"linecolor\":\"white\",\"showbackground\":true,\"ticks\":\"\",\"zerolinecolor\":\"white\",\"gridwidth\":2},\"zaxis\":{\"backgroundcolor\":\"#E5ECF6\",\"gridcolor\":\"white\",\"linecolor\":\"white\",\"showbackground\":true,\"ticks\":\"\",\"zerolinecolor\":\"white\",\"gridwidth\":2}},\"shapedefaults\":{\"line\":{\"color\":\"#2a3f5f\"}},\"annotationdefaults\":{\"arrowcolor\":\"#2a3f5f\",\"arrowhead\":0,\"arrowwidth\":1},\"geo\":{\"bgcolor\":\"white\",\"landcolor\":\"#E5ECF6\",\"subunitcolor\":\"white\",\"showland\":true,\"showlakes\":true,\"lakecolor\":\"white\"},\"title\":{\"x\":0.05},\"mapbox\":{\"style\":\"light\"}}},\"xaxis\":{\"anchor\":\"y\",\"domain\":[0.0,0.94],\"title\":{\"text\":\"Date\"},\"tickformat\":\"%d %b %y\",\"tickangle\":45,\"range\":[\"2024-01-16T00:00:00+05:30\",\"2024-10-30T00:00:00+05:30\"],\"tickmode\":\"array\",\"tickvals\":[\"2024-02-01T00:00:00+05:30\",\"2024-03-01T00:00:00+05:30\",\"2024-04-01T00:00:00+05:30\",\"2024-05-01T00:00:00+05:30\",\"2024-06-01T00:00:00+05:30\",\"2024-07-01T00:00:00+05:30\",\"2024-08-01T00:00:00+05:30\",\"2024-09-01T00:00:00+05:30\",\"2024-10-01T00:00:00+05:30\"],\"ticktext\":[\"01 Feb 24\",\"01 Mar 24\",\"01 Apr 24\",\"01 May 24\",\"01 Jun 24\",\"01 Jul 24\",\"01 Aug 24\",\"01 Sep 24\",\"01 Oct 24\"]},\"yaxis\":{\"anchor\":\"x\",\"domain\":[0.0,1.0],\"title\":{\"text\":\"Price\"},\"tickformat\":\".2f\"},\"yaxis2\":{\"anchor\":\"x\",\"overlaying\":\"y\",\"side\":\"right\",\"tickformat\":\".2f\"},\"annotations\":[{\"bgcolor\":\"white\",\"bordercolor\":\"#FF4136\",\"borderpad\":4,\"borderwidth\":2,\"font\":{\"color\":\"#FF4136\",\"size\":10},\"opacity\":0.8,\"showarrow\":false,\"text\":\"200% (178.04)\",\"x\":\"2024-10-10T00:00:00+05:30\",\"xanchor\":\"left\",\"xshift\":10,\"y\":178.04000854492188},{\"bgcolor\":\"white\",\"bordercolor\":\"#FF851B\",\"borderpad\":4,\"borderwidth\":2,\"font\":{\"color\":\"#FF851B\",\"size\":10},\"opacity\":0.8,\"showarrow\":false,\"text\":\"161.8% (174.41)\",\"x\":\"2024-10-10T00:00:00+05:30\",\"xanchor\":\"left\",\"xshift\":10,\"y\":174.4148264465332},{\"bgcolor\":\"white\",\"bordercolor\":\"#FFDC00\",\"borderpad\":4,\"borderwidth\":2,\"font\":{\"color\":\"#FFDC00\",\"size\":10},\"opacity\":0.8,\"showarrow\":false,\"text\":\"150% (173.3)\",\"x\":\"2024-10-10T00:00:00+05:30\",\"xanchor\":\"left\",\"xshift\":10,\"y\":173.29500579833984},{\"bgcolor\":\"white\",\"bordercolor\":\"#2ECC40\",\"borderpad\":4,\"borderwidth\":2,\"font\":{\"color\":\"#2ECC40\",\"size\":10},\"opacity\":0.8,\"showarrow\":false,\"text\":\"138.2% (172.18)\",\"x\":\"2024-10-10T00:00:00+05:30\",\"xanchor\":\"left\",\"xshift\":10,\"y\":172.1751851501465},{\"bgcolor\":\"white\",\"bordercolor\":\"#0074D9\",\"borderpad\":4,\"borderwidth\":2,\"font\":{\"color\":\"#0074D9\",\"size\":10},\"opacity\":0.8,\"showarrow\":false,\"text\":\"123.6% (170.79)\",\"x\":\"2024-10-10T00:00:00+05:30\",\"xanchor\":\"left\",\"xshift\":10,\"y\":170.78964434814452},{\"bgcolor\":\"white\",\"bordercolor\":\"#B10DC9\",\"borderpad\":4,\"borderwidth\":2,\"font\":{\"color\":\"#B10DC9\",\"size\":10},\"opacity\":0.8,\"showarrow\":false,\"text\":\"23.6% (161.3)\",\"x\":\"2024-10-10T00:00:00+05:30\",\"xanchor\":\"left\",\"xshift\":10,\"y\":161.29963885498046},{\"bgcolor\":\"white\",\"bordercolor\":\"#F012BE\",\"borderpad\":4,\"borderwidth\":2,\"font\":{\"color\":\"#F012BE\",\"size\":10},\"opacity\":0.8,\"showarrow\":false,\"text\":\"38.2% (162.69)\",\"x\":\"2024-10-10T00:00:00+05:30\",\"xanchor\":\"left\",\"xshift\":10,\"y\":162.68517965698243},{\"bgcolor\":\"white\",\"bordercolor\":\"#85144b\",\"borderpad\":4,\"borderwidth\":2,\"font\":{\"color\":\"#85144b\",\"size\":10},\"opacity\":0.8,\"showarrow\":false,\"text\":\"50% (163.81)\",\"x\":\"2024-10-10T00:00:00+05:30\",\"xanchor\":\"left\",\"xshift\":10,\"y\":163.80500030517578},{\"bgcolor\":\"white\",\"bordercolor\":\"#001f3f\",\"borderpad\":4,\"borderwidth\":2,\"font\":{\"color\":\"#001f3f\",\"size\":10},\"opacity\":0.8,\"showarrow\":false,\"text\":\"61.8% (164.92)\",\"x\":\"2024-10-10T00:00:00+05:30\",\"xanchor\":\"left\",\"xshift\":10,\"y\":164.92482095336914},{\"bgcolor\":\"white\",\"bordercolor\":\"#39CCCC\",\"borderpad\":4,\"borderwidth\":2,\"font\":{\"color\":\"#39CCCC\",\"size\":10},\"opacity\":0.8,\"showarrow\":false,\"text\":\"78.6% (166.52)\",\"x\":\"2024-10-10T00:00:00+05:30\",\"xanchor\":\"left\",\"xshift\":10,\"y\":166.51914187622071}],\"title\":{\"text\":\"Fibonacci Retracement and Extension Levels\"},\"legend\":{\"title\":{\"text\":\"Levels\"}},\"hovermode\":\"x unified\",\"showlegend\":true},                        {\"responsive\": true}                    ).then(function(){\n",
       "                            \n",
       "var gd = document.getElementById('60084bcf-4aa3-434b-b496-09a4de900a4d');\n",
       "var x = new MutationObserver(function (mutations, observer) {{\n",
       "        var display = window.getComputedStyle(gd).display;\n",
       "        if (!display || display === 'none') {{\n",
       "            console.log([gd, 'removed!']);\n",
       "            Plotly.purge(gd);\n",
       "            observer.disconnect();\n",
       "        }}\n",
       "}});\n",
       "\n",
       "// Listen for the removal of the full notebook cells\n",
       "var notebookContainer = gd.closest('#notebook-container');\n",
       "if (notebookContainer) {{\n",
       "    x.observe(notebookContainer, {childList: true});\n",
       "}}\n",
       "\n",
       "// Listen for the clearing of the current output cell\n",
       "var outputEl = gd.closest('.output');\n",
       "if (outputEl) {{\n",
       "    x.observe(outputEl, {childList: true});\n",
       "}}\n",
       "\n",
       "                        })                };                });            </script>        </div>"
      ]
     },
     "metadata": {},
     "output_type": "display_data"
    },
    {
     "name": "stdout",
     "output_type": "stream",
     "text": [
      "Overall, price is trending upwards. Recommendation: Hold or Buy in the future when the oppurtunity turns up.\n"
     ]
    }
   ],
   "source": [
    "#INPUT\n",
    "name = input('Enter a name: ')\n",
    "\n",
    "# PREPROCESSING THE NAME\n",
    "symbol,st_name = search_stock_symbol(name)\n",
    "symbol = symbol_changes(symbol)\n",
    "\n",
    "# API CALL\n",
    "comp = yf.Ticker(symbol)\n",
    "data = comp.history(period='1y', interval='1d')\n",
    "info = comp.info\n",
    "\n",
    "curr_price = info['currentPrice']\n",
    "\n",
    "weights = {\n",
    "    'pe': 0.3,\n",
    "    'rsi': 0.5,\n",
    "    'macd': 0.5,\n",
    "    'fib': 0.4\n",
    "}\n",
    "\n",
    "# PE RATIO AND CAP ID\n",
    "info = pe_and_market_cap(info)\n",
    "\n",
    "if info[2] != 1:\n",
    "    print('The company is not large cap')\n",
    "    \n",
    "\n",
    "pe = info[1]\n",
    "\n",
    "if pe <= 20:\n",
    "    pe_score = 1  # Buy\n",
    "    pe_response = f'The P/E ratio is {round(pe,2)}, which is below 20, hence BUY'\n",
    "\n",
    "else:\n",
    "    pe_score = -1  # Sell\n",
    "    pe_response = f'The P/E ratio is {round(pe,2)}, which is above 20, hence SELL'\n",
    "\n",
    "\n",
    "# RSI\n",
    "r, window = rsi(data)\n",
    "rsi_score, rsi_response = analyze_rsi(r)\n",
    "\n",
    "# MACD\n",
    "ma = macd(data)\n",
    "macd_score, macd_response = interpret_macd(ma)\n",
    "\n",
    "\n",
    "# Fibonacci Retracement\n",
    "fib = fibonacci_retracement(data)\n",
    "\n",
    "current_price = data['Close'].iloc[-1]\n",
    "prev_price = data['Close'].iloc[-2]\n",
    "\n",
    "trend = fib['trend']\n",
    "\n",
    "levels = dict()\n",
    "levels['retracement'] = fib['retracement_levels']\n",
    "levels ['extension'] = fib['extension_levels']\n",
    "\n",
    "fib_response, fib_score = fib_insight(current_price=current_price, trend=trend, levels=levels, previous_price=prev_price)\n",
    "\n",
    "\n",
    "final_score = (pe_score * weights['pe']) + (rsi_score * weights['rsi']) + (macd_score * weights['macd']) + (fib_score * weights['fib'])\n",
    "\n",
    "# Decision based on final score\n",
    "if final_score > 0:\n",
    "    print(f'\\nBuy stocks of {st_name}')\n",
    "else:\n",
    "    print(f'\\nSell your stocks of {st_name}')\n",
    "\n",
    "\n",
    "print(f'Current Price of {st_name}: {curr_price}')\n",
    "print(f'Market Cap of {st_name}: {round(info[0] / (10 ** 7) , 2)} Crores')\n",
    "\n",
    "print(pe_response)  \n",
    "\n",
    "visualise_macd(ma)\n",
    "print(macd_response)\n",
    "\n",
    "visualise_rsi(r, window)\n",
    "print(rsi_response)\n",
    "\n",
    "fig = visualise_fib(fib, data)\n",
    "fig.show()\n",
    "print(*fib_response)"
   ]
  },
  {
   "cell_type": "code",
   "execution_count": 55,
   "id": "c44360bc",
   "metadata": {},
   "outputs": [],
   "source": [
    "a = calculate_trend(data)"
   ]
  },
  {
   "cell_type": "code",
   "execution_count": 67,
   "id": "17ca9ec5",
   "metadata": {},
   "outputs": [
    {
     "data": {
      "application/vnd.plotly.v1+json": {
       "config": {
        "plotlyServerURL": "https://plot.ly"
       },
       "data": [
        {
         "close": [
          116.40470886230469,
          114.29717254638672,
          115.76754760742188,
          114.98335266113281,
          117.0418701171875,
          117.28693389892578,
          116.69878387451172,
          117.28693389892578,
          117.67903900146484,
          118.61027526855469,
          121.60003662109375,
          122.23719787597656,
          122.7273178100586,
          121.89411163330078,
          123.75658416748047,
          123.60954284667969,
          124.19769287109375,
          123.46250915527344,
          124.34473419189453,
          125.22695922851562,
          125.3740005493164,
          127.43252563476562,
          128.41278076171875,
          129.0009307861328,
          129.24598693847656,
          127.43252563476562,
          126.64832305908203,
          127.48153686523438,
          127.53055572509766,
          128.80487060546875,
          129.3930206298828,
          133.755126953125,
          133.9021759033203,
          132.7258758544922,
          127.18746185302734,
          128.41278076171875,
          130.91241455078125,
          132.52981567382812,
          134.49032592773438,
          135.4215545654297,
          136.84292602539062,
          137.08799743652344,
          136.84292602539062,
          132.67686462402344,
          131.5985870361328,
          131.01043701171875,
          129.3930206298828,
          131.01043701171875,
          131.45155334472656,
          132.23574829101562,
          132.6278533935547,
          132.23574829101562,
          134.53933715820312,
          129.0499267578125,
          128.41278076171875,
          131.5985870361328,
          127.53055572509766,
          132.48080444335938,
          131.10845947265625,
          132.33377075195312,
          132.03970336914062,
          133.2650146484375,
          132.13772583007812,
          135.960693359375,
          138.75440979003906,
          141.79318237304688,
          141.54812622070312,
          140.81292724609375,
          138.5093536376953,
          134.68637084960938,
          135.1274871826172,
          138.41131591796875,
          138.41131591796875,
          139.48960876464844,
          139.14651489257812,
          138.26429748535156,
          141.05799865722656,
          143.01849365234375,
          142.577392578125,
          139.8326873779297,
          141.35206604003906,
          137.97021484375,
          138.0682373046875,
          146.98851013183594,
          150.07630920410156,
          148.8509979248047,
          148.60592651367188,
          154.14434814453125,
          150.4193878173828,
          149.4881591796875,
          140.81292724609375,
          139.6366424560547,
          138.9014434814453,
          146.7434539794922,
          145.8122100830078,
          142.7734375,
          147.13555908203125,
          148.80198669433594,
          149.39012145996094,
          149.6842041015625,
          152.77200317382812,
          159.9278106689453,
          161.398193359375,
          160.41793823242188,
          160.17286682128906,
          160.12387084960938,
          161.9373321533203,
          162.72152709960938,
          161.79029846191406,
          160.27090454101562,
          157.67324829101562,
          156.8890380859375,
          156.8890380859375,
          158.8985595703125,
          158.65350341796875,
          157.96731567382812,
          162.28042602539062,
          164.38795471191406,
          162.52548217773438,
          164.0938720703125,
          161.7412872314453,
          164.0448760986328,
          163.21165466308594,
          164.28993225097656,
          161.00608825683594,
          162.77053833007812,
          158.70249938964844,
          159.04559326171875,
          160.61399841308594,
          161.6922607421875,
          162.32943725585938,
          162.62350463867188,
          164.0448760986328,
          170.90663146972656,
          169.8773651123047,
          172.03390502929688,
          171.39674377441406,
          172.03390502929688,
          171.4457550048828,
          170.80859375,
          160.90806579589844,
          163.8978271484375,
          170.80859375,
          155.81076049804688,
          165.8583221435547,
          168.6520538330078,
          175.3667449951172,
          176.7292938232422,
          177.74876403808594,
          178.6309814453125,
          178.9544677734375,
          179.53282165527344,
          177.54290771484375,
          176.4646453857422,
          178.6800079345703,
          179.94000244140625,
          177.9600067138672,
          175.67999267578125,
          172.55999755859375,
          174.16000366210938,
          174.00999450683594,
          174.07000732421875,
          174.5399932861328,
          176.3699951171875,
          176.2899932861328,
          174.7100067138672,
          172.27999877929688,
          171.8000030517578,
          167.97999572753906,
          168.9199981689453,
          168.69000244140625,
          166.75999450683594,
          167.07000732421875,
          166.36000061035156,
          157.77000427246094,
          160.32000732421875,
          160.02000427246094,
          160.30999755859375,
          157.38999938964844,
          162.5500030517578,
          162.8699951171875,
          164.07000732421875,
          165.3300018310547,
          163.05999755859375,
          158.22000122070312,
          149.82000732421875,
          150.32000732421875,
          153.86000061035156,
          150.27999877929688,
          151.80999755859375,
          152.05999755859375,
          148.8800048828125,
          146.1699981689453,
          149.52000427246094,
          153.9600067138672,
          153.92999267578125,
          151.9199981689453,
          154.13999938964844,
          154.1999969482422,
          155.6999969482422,
          154.6999969482422,
          153.6999969482422,
          152.97000122070312,
          152.75999450683594,
          152.8800048828125,
          152.14999389648438,
          151.17999267578125,
          151.72000122070312,
          151.22000122070312,
          149.47000122070312,
          149.4199981689453,
          148.1699981689453,
          151.74000549316406,
          153.49000549316406,
          154.2100067138672,
          152.82000732421875,
          150.60000610351562,
          149.5399932861328,
          152.02000427246094,
          153.99000549316406,
          160.52999877929688,
          161.66000366210938,
          165.61000061035156,
          166.5500030517578,
          168.5500030517578,
          167.02999877929688,
          166.97999572753906,
          166.75,
          164.36000061035156,
          159.52000427246094,
          159.05999755859375,
          159.7100067138672
         ],
         "decreasing": {
          "fillcolor": "#EF5350",
          "line": {
           "color": "#EF5350"
          }
         },
         "high": [
          117.7770606098981,
          116.74779806186977,
          116.20866468649221,
          116.2576734473096,
          117.28693265617713,
          117.82606700318638,
          118.12014360692642,
          118.120145044576,
          118.07113309682641,
          118.85533782076244,
          121.94312268496667,
          122.77633848155344,
          123.26645839292529,
          123.16843989272232,
          123.90362318896707,
          124.3937459608774,
          124.88387247358577,
          124.49177485223082,
          124.49177321505697,
          125.61905331357788,
          126.30524271520785,
          127.72660368540897,
          129.73612456170144,
          129.8341344718771,
          130.76536268949138,
          129.58907307709853,
          128.80487051118135,
          127.92264644770589,
          129.54005664901734,
          128.9029016086759,
          130.61833332524154,
          134.04920498296482,
          134.8824260491501,
          134.88243833773745,
          133.46105707128334,
          128.85389037590247,
          132.08871177547746,
          133.41204977253753,
          136.15674829457666,
          136.00971064850353,
          138.4603327793096,
          138.16626368980096,
          137.82317616896094,
          136.84292778785402,
          133.65711840291056,
          133.2650155279921,
          133.26500575573036,
          132.13773374857115,
          132.03969447032085,
          132.97093595376944,
          133.55908808042747,
          133.55909206694503,
          135.76464988277692,
          133.0689583711471,
          129.6380935552466,
          132.03969662689067,
          132.52982272054564,
          132.8729134856722,
          133.8041474244305,
          132.72586483046825,
          134.98045406759556,
          134.00020231471146,
          134.04921066897222,
          136.8429274723752,
          140.5188630269323,
          142.23430691942843,
          144.48887688975455,
          142.7734275346989,
          141.59713572645379,
          140.1267624249444,
          135.519581253906,
          138.70539394963063,
          140.61687871928797,
          140.6168905303698,
          140.5188741667036,
          139.44059476605696,
          143.31257712246162,
          143.26355619455643,
          144.194814427729,
          143.06751608333798,
          141.64614407111907,
          142.0872626682052,
          139.048487438317,
          147.67468225996518,
          151.84074756995335,
          150.95852985869067,
          149.63517718992597,
          156.00681759223983,
          155.7617483313273,
          151.49767513063844,
          149.88024108089263,
          141.10701780299266,
          140.86194378452126,
          147.28259458844028,
          149.43913265325034,
          147.67468856361046,
          148.21382531349525,
          149.73322141377,
          150.3703716400327,
          151.05656337026002,
          153.8992849468356,
          160.66299830295657,
          162.23141203254494,
          162.96659471927464,
          162.67250766865556,
          160.90805901769195,
          163.652770025617,
          166.44648071144798,
          165.85833080794666,
          162.7215299927131,
          161.4472025300229,
          159.24163244177635,
          160.76102315207774,
          159.2906536578827,
          161.44720755867675,
          160.27090965489856,
          163.60375484069795,
          164.68203276190366,
          167.32870205732314,
          166.2504344049381,
          165.07413201566615,
          165.56425193477514,
          167.3777179202518,
          165.3191829495991,
          164.63301084556474,
          163.79980396598162,
          163.40770328161997,
          161.10412464283968,
          161.2511550488477,
          163.26066697962392,
          164.24092213262279,
          164.68203607255128,
          165.1231423385586,
          171.73983518046273,
          172.03391259205793,
          172.32798307211513,
          174.0434161734736,
          174.19045241424638,
          173.99441152283768,
          172.52403156384506,
          168.60303591815898,
          164.63301478363454,
          171.54378138450502,
          171.2006850736301,
          166.25043117743374,
          171.24971094059052,
          176.10193260402477,
          178.50355916762769,
          180.120967640142,
          180.238591100205,
          180.46406140407166,
          179.87591521495025,
          180.95418910866522,
          178.88586457899385,
          179.33677378351155,
          180.89999389648438,
          178.9499969482422,
          179,
          176,
          174.9499969482422,
          177.10000610351562,
          175.99000549316406,
          175.75,
          176.8800048828125,
          178.19000244140625,
          176.1999969482422,
          175.47000122070312,
          173.6999969482422,
          172.88999938964844,
          170.9499969482422,
          170.38999938964844,
          168.99000549316406,
          169.82000732421875,
          167.61000061035156,
          166.08999633789062,
          160.6999969482422,
          161.97000122070312,
          162.02000427246094,
          158.5,
          162.9499969482422,
          164.6999969482422,
          165.3000030517578,
          166.5,
          168.9499969482422,
          161.19000244140625,
          154,
          153.8000030517578,
          154.3000030517578,
          153.44000244140625,
          153,
          153.39999389648438,
          152.9499969482422,
          149.89999389648438,
          150,
          154.3000030517578,
          155.6999969482422,
          154.17999267578125,
          154.35000610351562,
          154.38999938964844,
          156.39999389648438,
          156.5,
          155,
          153.55999755859375,
          155.25,
          153.89999389648438,
          153.4499969482422,
          152.17999267578125,
          152.7899932861328,
          152.89999389648438,
          150.89999389648438,
          151.58999633789062,
          150.1999969482422,
          152.44000244140625,
          155.39999389648438,
          155.66000366210938,
          154.24000549316406,
          152.97999572753906,
          152.19000244140625,
          153.33999633789062,
          154.38999938964844,
          161.5,
          162.69000244140625,
          165.89999389648438,
          169.00999450683594,
          170.17999267578125,
          169.49000549316406,
          169.99000549316406,
          169.10000610351562,
          167.9499969482422,
          163.58999633789062,
          162.1999969482422,
          161.17999267578125
         ],
         "increasing": {
          "fillcolor": "#26A69A",
          "line": {
           "color": "#26A69A"
          }
         },
         "line": {
          "width": 1
         },
         "low": [
          116.06162279508519,
          113.70902391841389,
          112.33667189310283,
          114.78729813184097,
          115.17939332512333,
          116.06162119099449,
          116.20865879730455,
          116.50273077436366,
          116.45372625667123,
          117.53200153458367,
          119.1003956952626,
          120.57077551481895,
          121.84509864349893,
          121.60004105869889,
          122.48225595288366,
          123.021394250389,
          123.4134972265939,
          123.07041505997108,
          123.51152303226125,
          124.19769355843897,
          124.00164879028166,
          125.52104074173033,
          127.82462463785276,
          127.43252450160229,
          128.21672130001838,
          127.23647858681372,
          125.4230103070448,
          126.20720866009297,
          127.13844667456802,
          126.59930765018721,
          128.9028955517393,
          130.37326700354166,
          132.43180068457565,
          132.1377346878693,
          126.20721166533542,
          125.32499102628542,
          129.14796123502157,
          131.79462807028534,
          132.82390356089206,
          134.14724131448722,
          134.44130120769915,
          136.3037942794109,
          134.34328516780025,
          131.69661446782803,
          131.35352449044169,
          130.2262487951293,
          129.14795809081107,
          129.8831552322978,
          129.49105301121793,
          131.5495761305983,
          131.99068179706111,
          131.30451357634703,
          131.35352407431125,
          128.80486421937576,
          125.66807711273006,
          129.00093003477923,
          126.74635258146927,
          127.53055305264104,
          129.39302168516355,
          130.86339552137585,
          131.84365631406325,
          131.8436548184608,
          131.84364778776427,
          132.13772374199849,
          136.5978624815829,
          137.67613461378792,
          141.20504761710595,
          140.2247861339703,
          136.40180677300793,
          133.95118320314333,
          131.4515491739217,
          133.06895567959265,
          138.2152688826708,
          138.70540560015777,
          138.55837373860828,
          137.28404725852516,
          138.65638864406728,
          140.6658992300743,
          142.136282967299,
          139.4405932743662,
          139.1955187411689,
          137.28404269924596,
          136.6468626449807,
          140.17577443571227,
          148.06679333473613,
          147.77271672855596,
          144.97898904664876,
          149.24309701115985,
          149.97827822585174,
          147.9197528381084,
          139.68564556311784,
          135.61762548221654,
          137.08798967555822,
          139.39157737773976,
          144.6849283913886,
          141.0089990830452,
          144.88098065997988,
          145.42012641984834,
          147.52765210079693,
          148.9980319459293,
          149.68420599820666,
          153.40915296368436,
          158.6044891961133,
          159.87881259177655,
          157.8202724693148,
          157.62422993091224,
          160.95708194057934,
          161.93732397752274,
          161.25115786055974,
          159.78077945067614,
          155.46768537405512,
          155.8597724462217,
          156.00680398442532,
          154.1933557323166,
          158.31040985944946,
          157.62423707410207,
          158.2613941623879,
          160.90806352813763,
          161.98634158943017,
          163.60374698652132,
          161.25116211862274,
          161.74128215765742,
          161.88831093960215,
          161.44719782200036,
          159.0946034425331,
          160.27089748786395,
          158.31040529758033,
          158.65349916885327,
          154.92854436212673,
          160.27090100306535,
          161.692265658651,
          159.0946128401474,
          162.18239175387393,
          164.63302110085868,
          168.11291173525888,
          167.13265417376135,
          170.71055670721736,
          171.39674840104948,
          170.02439519801348,
          170.07340611549498,
          160.1238775947822,
          160.761029563083,
          165.51524876453612,
          145.2240557406787,
          155.85977361980778,
          166.05438176799373,
          167.42672779337337,
          173.85716804931593,
          176.93515460705106,
          177.91540302069268,
          176.94495194320479,
          177.81738377175213,
          177.03318839088206,
          175.76866116170874,
          175.82747622007926,
          178.17999267578125,
          175.10000610351562,
          175.25,
          171.83999633789062,
          171.8000030517578,
          173.57000732421875,
          173.50999450683594,
          173.60000610351562,
          174.39999389648438,
          175.82000732421875,
          173.39999389648438,
          172.08999633789062,
          171.50999450683594,
          167.02000427246094,
          168.6699981689453,
          168.00999450683594,
          165.8000030517578,
          166.6999969482422,
          164.44000244140625,
          157.1999969482422,
          156.41000366210938,
          155,
          159.19000244140625,
          156.89999389648438,
          158.2100067138672,
          162.3300018310547,
          161.30999755859375,
          163.5500030517578,
          160.89999389648438,
          154.72000122070312,
          149,
          149.61000061035156,
          151.89999389648438,
          150,
          151.25,
          149.8800048828125,
          148.5,
          142.35000610351562,
          146.4600067138672,
          150.38999938964844,
          152.8000030517578,
          151.77000427246094,
          152.50999450683594,
          152.5500030517578,
          153.6999969482422,
          154.60000610351562,
          153.0500030517578,
          151.1999969482422,
          152.47000122070312,
          152.13999938964844,
          152.00999450683594,
          149.16000366210938,
          151,
          149.64999389648438,
          148.0500030517578,
          148.80999755859375,
          147.6199951171875,
          148.75,
          152.5,
          153.5,
          152.27000427246094,
          149.61000061035156,
          147.7899932861328,
          150.64999389648438,
          152.8000030517578,
          154.85000610351562,
          159.52000427246094,
          160.47999572753906,
          165.88999938964844,
          167.25999450683594,
          165.10000610351562,
          164.52000427246094,
          164,
          162.3300018310547,
          156.6999969482422,
          158.11000061035156,
          156.60000610351562
         ],
         "open": [
          117.63002158717106,
          116.64977453699356,
          112.33667189310283,
          115.86557186744152,
          116.15964348108183,
          116.94384783644807,
          117.38495599111567,
          116.84581683684137,
          117.13989840226947,
          118.46323624148691,
          119.29644273784277,
          121.5510257222565,
          122.23719272698534,
          122.58029126480298,
          122.58028695301826,
          123.90362088418262,
          123.85460680920536,
          124.19769680203858,
          124.49177321505697,
          124.63881062220695,
          125.27597702625295,
          126.35424443488367,
          129.58907805201918,
          128.41277469007616,
          129.88314354648728,
          129.09894797850328,
          127.57955775914412,
          127.28548982385043,
          127.48154022410259,
          127.97166690793215,
          129.68709866825498,
          130.76536107170816,
          134.14723843977777,
          133.95118864841265,
          133.21599452436035,
          126.1582022301412,
          129.78511786914805,
          132.0396906047996,
          133.16699711763806,
          135.4215545654297,
          135.86267588182028,
          137.23502898460592,
          137.72514517163185,
          136.74489678926233,
          133.31402485597067,
          132.3337808027185,
          132.62784913711596,
          130.86340546046608,
          131.15747530321417,
          132.1867477461104,
          133.11797848742782,
          133.31402951269374,
          132.03969620858643,
          132.77488033353694,
          129.0499374313806,
          129.9811802175437,
          132.1377286274469,
          127.62856909514632,
          133.8041474244305,
          132.03969271435162,
          132.92193755313602,
          132.3337799293101,
          133.706117126701,
          132.62784881896624,
          137.23501908723014,
          140.17577556108358,
          143.94975123304025,
          142.4303489586511,
          141.35207318107834,
          139.19552773090692,
          135.02945618607995,
          134.29426834699223,
          138.70539394963063,
          139.24454621058456,
          140.12676510662578,
          139.14651670652276,
          138.75441964763752,
          142.13627448335035,
          143.50862730263137,
          142.96950003616274,
          139.83267534398396,
          141.20504347633297,
          138.01922180652002,
          140.17577443571227,
          151.84074756995335,
          150.1743267120944,
          148.80197354927122,
          149.3901285621884,
          155.7617483313273,
          151.15458156922068,
          149.78222504092048,
          140.76393919649936,
          140.07774067180483,
          139.73467093546068,
          146.05727262096244,
          146.64543780619724,
          145.07702770593417,
          146.05728308118972,
          148.16480873487126,
          149.43914154901987,
          149.68420599820666,
          153.703231008775,
          159.73177097046656,
          161.39818842622202,
          162.2804135958032,
          160.6629964758085,
          163.652770025617,
          162.72152709960938,
          163.99586141137462,
          162.7215299927131,
          158.60448297557946,
          157.6732411903605,
          157.72224173147495,
          156.8400282169922,
          160.56498834738608,
          160.27090965489856,
          159.24164437702942,
          162.1333762719018,
          164.68202957352054,
          164.87807519586448,
          165.07413201566615,
          161.74128215765742,
          165.61326460808363,
          164.63301083137395,
          164.63301084556474,
          160.95706959265627,
          162.67251564091913,
          159.97682795034743,
          159.2416391828926,
          160.85905708146163,
          161.692265658651,
          163.9468484115131,
          163.30968845246164,
          165.17216171217697,
          171.98489708986168,
          169.63229510157058,
          171.4947598144206,
          174.19045241424638,
          172.4260052106453,
          171.29871883967002,
          168.60303591815898,
          162.7705454241077,
          169.82834357065997,
          171.05365353207614,
          158.9475556047753,
          166.6425378846769,
          168.60302497613947,
          176.65088697339883,
          176.93515460705106,
          178.65059063648067,
          179.77787432245768,
          179.3367746029287,
          180.16998597362243,
          178.84664619478943,
          178.01344496815753,
          179.39999389648438,
          177.44000244140625,
          177.99000549316406,
          175.67999267578125,
          172.55999755859375,
          174.1699981689453,
          174.5,
          174.47000122070312,
          174.5399932861328,
          177,
          176.1999969482422,
          174.60000610351562,
          173.60000610351562,
          172.5,
          170,
          170.1999969482422,
          168.69000244140625,
          167.8000030517578,
          167.61000061035156,
          166,
          158.39999389648438,
          161.60000610351562,
          160.02000427246094,
          158.5,
          158.75,
          164.6999969482422,
          162.89999389648438,
          166.2899932861328,
          168.1999969482422,
          161,
          153.66000366210938,
          151.2100067138672,
          153.6999969482422,
          153.39999389648438,
          153,
          151,
          152.10000610351562,
          149.89999389648438,
          148,
          150.85000610351562,
          155.6999969482422,
          153,
          152.50999450683594,
          154,
          154.61000061035156,
          155.8000030517578,
          154.6999969482422,
          153.2100067138672,
          153,
          153.89999389648438,
          152.83999633789062,
          149.5,
          151,
          151.94000244140625,
          150.89999389648438,
          150.5,
          149.89999389648438,
          152,
          152.77999877929688,
          155,
          154,
          152.39999389648438,
          151.88999938964844,
          151,
          154.3800048828125,
          155.14999389648438,
          161.5,
          162,
          167,
          167.5,
          169.49000549316406,
          165.5,
          167,
          167.10000610351562,
          163,
          159.52000427246094,
          158.3000030517578
         ],
         "type": "candlestick",
         "x": [
          "2023-10-31T00:00:00+05:30",
          "2023-11-01T00:00:00+05:30",
          "2023-11-02T00:00:00+05:30",
          "2023-11-03T00:00:00+05:30",
          "2023-11-06T00:00:00+05:30",
          "2023-11-07T00:00:00+05:30",
          "2023-11-08T00:00:00+05:30",
          "2023-11-09T00:00:00+05:30",
          "2023-11-10T00:00:00+05:30",
          "2023-11-13T00:00:00+05:30",
          "2023-11-15T00:00:00+05:30",
          "2023-11-16T00:00:00+05:30",
          "2023-11-17T00:00:00+05:30",
          "2023-11-20T00:00:00+05:30",
          "2023-11-21T00:00:00+05:30",
          "2023-11-22T00:00:00+05:30",
          "2023-11-23T00:00:00+05:30",
          "2023-11-24T00:00:00+05:30",
          "2023-11-28T00:00:00+05:30",
          "2023-11-29T00:00:00+05:30",
          "2023-11-30T00:00:00+05:30",
          "2023-12-01T00:00:00+05:30",
          "2023-12-04T00:00:00+05:30",
          "2023-12-05T00:00:00+05:30",
          "2023-12-06T00:00:00+05:30",
          "2023-12-07T00:00:00+05:30",
          "2023-12-08T00:00:00+05:30",
          "2023-12-11T00:00:00+05:30",
          "2023-12-12T00:00:00+05:30",
          "2023-12-13T00:00:00+05:30",
          "2023-12-14T00:00:00+05:30",
          "2023-12-15T00:00:00+05:30",
          "2023-12-18T00:00:00+05:30",
          "2023-12-19T00:00:00+05:30",
          "2023-12-20T00:00:00+05:30",
          "2023-12-21T00:00:00+05:30",
          "2023-12-22T00:00:00+05:30",
          "2023-12-26T00:00:00+05:30",
          "2023-12-27T00:00:00+05:30",
          "2023-12-28T00:00:00+05:30",
          "2023-12-29T00:00:00+05:30",
          "2024-01-01T00:00:00+05:30",
          "2024-01-02T00:00:00+05:30",
          "2024-01-03T00:00:00+05:30",
          "2024-01-04T00:00:00+05:30",
          "2024-01-05T00:00:00+05:30",
          "2024-01-08T00:00:00+05:30",
          "2024-01-09T00:00:00+05:30",
          "2024-01-10T00:00:00+05:30",
          "2024-01-11T00:00:00+05:30",
          "2024-01-12T00:00:00+05:30",
          "2024-01-15T00:00:00+05:30",
          "2024-01-16T00:00:00+05:30",
          "2024-01-17T00:00:00+05:30",
          "2024-01-18T00:00:00+05:30",
          "2024-01-19T00:00:00+05:30",
          "2024-01-23T00:00:00+05:30",
          "2024-01-24T00:00:00+05:30",
          "2024-01-25T00:00:00+05:30",
          "2024-01-29T00:00:00+05:30",
          "2024-01-30T00:00:00+05:30",
          "2024-01-31T00:00:00+05:30",
          "2024-02-01T00:00:00+05:30",
          "2024-02-02T00:00:00+05:30",
          "2024-02-05T00:00:00+05:30",
          "2024-02-06T00:00:00+05:30",
          "2024-02-07T00:00:00+05:30",
          "2024-02-08T00:00:00+05:30",
          "2024-02-09T00:00:00+05:30",
          "2024-02-12T00:00:00+05:30",
          "2024-02-13T00:00:00+05:30",
          "2024-02-14T00:00:00+05:30",
          "2024-02-15T00:00:00+05:30",
          "2024-02-16T00:00:00+05:30",
          "2024-02-19T00:00:00+05:30",
          "2024-02-20T00:00:00+05:30",
          "2024-02-21T00:00:00+05:30",
          "2024-02-22T00:00:00+05:30",
          "2024-02-23T00:00:00+05:30",
          "2024-02-26T00:00:00+05:30",
          "2024-02-27T00:00:00+05:30",
          "2024-02-28T00:00:00+05:30",
          "2024-02-29T00:00:00+05:30",
          "2024-03-01T00:00:00+05:30",
          "2024-03-04T00:00:00+05:30",
          "2024-03-05T00:00:00+05:30",
          "2024-03-06T00:00:00+05:30",
          "2024-03-07T00:00:00+05:30",
          "2024-03-11T00:00:00+05:30",
          "2024-03-12T00:00:00+05:30",
          "2024-03-13T00:00:00+05:30",
          "2024-03-14T00:00:00+05:30",
          "2024-03-15T00:00:00+05:30",
          "2024-03-18T00:00:00+05:30",
          "2024-03-19T00:00:00+05:30",
          "2024-03-20T00:00:00+05:30",
          "2024-03-21T00:00:00+05:30",
          "2024-03-22T00:00:00+05:30",
          "2024-03-26T00:00:00+05:30",
          "2024-03-27T00:00:00+05:30",
          "2024-03-28T00:00:00+05:30",
          "2024-04-01T00:00:00+05:30",
          "2024-04-02T00:00:00+05:30",
          "2024-04-03T00:00:00+05:30",
          "2024-04-04T00:00:00+05:30",
          "2024-04-05T00:00:00+05:30",
          "2024-04-08T00:00:00+05:30",
          "2024-04-09T00:00:00+05:30",
          "2024-04-10T00:00:00+05:30",
          "2024-04-12T00:00:00+05:30",
          "2024-04-15T00:00:00+05:30",
          "2024-04-16T00:00:00+05:30",
          "2024-04-18T00:00:00+05:30",
          "2024-04-19T00:00:00+05:30",
          "2024-04-22T00:00:00+05:30",
          "2024-04-23T00:00:00+05:30",
          "2024-04-24T00:00:00+05:30",
          "2024-04-25T00:00:00+05:30",
          "2024-04-26T00:00:00+05:30",
          "2024-04-29T00:00:00+05:30",
          "2024-04-30T00:00:00+05:30",
          "2024-05-02T00:00:00+05:30",
          "2024-05-03T00:00:00+05:30",
          "2024-05-06T00:00:00+05:30",
          "2024-05-07T00:00:00+05:30",
          "2024-05-08T00:00:00+05:30",
          "2024-05-09T00:00:00+05:30",
          "2024-05-10T00:00:00+05:30",
          "2024-05-13T00:00:00+05:30",
          "2024-05-14T00:00:00+05:30",
          "2024-05-15T00:00:00+05:30",
          "2024-05-16T00:00:00+05:30",
          "2024-05-17T00:00:00+05:30",
          "2024-05-21T00:00:00+05:30",
          "2024-05-22T00:00:00+05:30",
          "2024-05-23T00:00:00+05:30",
          "2024-05-24T00:00:00+05:30",
          "2024-05-27T00:00:00+05:30",
          "2024-05-28T00:00:00+05:30",
          "2024-05-29T00:00:00+05:30",
          "2024-05-30T00:00:00+05:30",
          "2024-05-31T00:00:00+05:30",
          "2024-06-03T00:00:00+05:30",
          "2024-06-04T00:00:00+05:30",
          "2024-06-05T00:00:00+05:30",
          "2024-06-06T00:00:00+05:30",
          "2024-06-07T00:00:00+05:30",
          "2024-06-10T00:00:00+05:30",
          "2024-06-11T00:00:00+05:30",
          "2024-06-12T00:00:00+05:30",
          "2024-06-13T00:00:00+05:30",
          "2024-06-14T00:00:00+05:30",
          "2024-06-18T00:00:00+05:30",
          "2024-06-19T00:00:00+05:30",
          "2024-06-20T00:00:00+05:30",
          "2024-06-21T00:00:00+05:30",
          "2024-06-24T00:00:00+05:30",
          "2024-06-25T00:00:00+05:30",
          "2024-06-26T00:00:00+05:30",
          "2024-06-27T00:00:00+05:30",
          "2024-06-28T00:00:00+05:30",
          "2024-07-01T00:00:00+05:30",
          "2024-07-02T00:00:00+05:30",
          "2024-07-03T00:00:00+05:30",
          "2024-07-04T00:00:00+05:30",
          "2024-07-05T00:00:00+05:30",
          "2024-07-08T00:00:00+05:30",
          "2024-07-09T00:00:00+05:30",
          "2024-07-10T00:00:00+05:30",
          "2024-07-11T00:00:00+05:30",
          "2024-07-12T00:00:00+05:30",
          "2024-07-15T00:00:00+05:30",
          "2024-07-16T00:00:00+05:30",
          "2024-07-18T00:00:00+05:30",
          "2024-07-19T00:00:00+05:30",
          "2024-07-22T00:00:00+05:30",
          "2024-07-23T00:00:00+05:30",
          "2024-07-24T00:00:00+05:30",
          "2024-07-25T00:00:00+05:30",
          "2024-07-26T00:00:00+05:30",
          "2024-07-29T00:00:00+05:30",
          "2024-07-30T00:00:00+05:30",
          "2024-07-31T00:00:00+05:30",
          "2024-08-01T00:00:00+05:30",
          "2024-08-02T00:00:00+05:30",
          "2024-08-05T00:00:00+05:30",
          "2024-08-06T00:00:00+05:30",
          "2024-08-07T00:00:00+05:30",
          "2024-08-08T00:00:00+05:30",
          "2024-08-09T00:00:00+05:30",
          "2024-08-12T00:00:00+05:30",
          "2024-08-13T00:00:00+05:30",
          "2024-08-14T00:00:00+05:30",
          "2024-08-16T00:00:00+05:30",
          "2024-08-19T00:00:00+05:30",
          "2024-08-20T00:00:00+05:30",
          "2024-08-21T00:00:00+05:30",
          "2024-08-22T00:00:00+05:30",
          "2024-08-23T00:00:00+05:30",
          "2024-08-26T00:00:00+05:30",
          "2024-08-27T00:00:00+05:30",
          "2024-08-28T00:00:00+05:30",
          "2024-08-29T00:00:00+05:30",
          "2024-08-30T00:00:00+05:30",
          "2024-09-02T00:00:00+05:30",
          "2024-09-03T00:00:00+05:30",
          "2024-09-04T00:00:00+05:30",
          "2024-09-05T00:00:00+05:30",
          "2024-09-06T00:00:00+05:30",
          "2024-09-09T00:00:00+05:30",
          "2024-09-10T00:00:00+05:30",
          "2024-09-11T00:00:00+05:30",
          "2024-09-12T00:00:00+05:30",
          "2024-09-13T00:00:00+05:30",
          "2024-09-16T00:00:00+05:30",
          "2024-09-17T00:00:00+05:30",
          "2024-09-18T00:00:00+05:30",
          "2024-09-19T00:00:00+05:30",
          "2024-09-20T00:00:00+05:30",
          "2024-09-23T00:00:00+05:30",
          "2024-09-24T00:00:00+05:30",
          "2024-09-25T00:00:00+05:30",
          "2024-09-26T00:00:00+05:30",
          "2024-09-27T00:00:00+05:30",
          "2024-09-30T00:00:00+05:30",
          "2024-10-01T00:00:00+05:30",
          "2024-10-03T00:00:00+05:30",
          "2024-10-04T00:00:00+05:30",
          "2024-10-07T00:00:00+05:30",
          "2024-10-08T00:00:00+05:30",
          "2024-10-09T00:00:00+05:30",
          "2024-10-10T00:00:00+05:30"
         ]
        }
       ],
       "layout": {
        "hovermode": "x unified",
        "margin": {
         "b": 0,
         "l": 0,
         "r": 0,
         "t": 0
        },
        "plot_bgcolor": "white",
        "showlegend": false,
        "template": {
         "data": {
          "bar": [
           {
            "error_x": {
             "color": "#2a3f5f"
            },
            "error_y": {
             "color": "#2a3f5f"
            },
            "marker": {
             "line": {
              "color": "#E5ECF6",
              "width": 0.5
             },
             "pattern": {
              "fillmode": "overlay",
              "size": 10,
              "solidity": 0.2
             }
            },
            "type": "bar"
           }
          ],
          "barpolar": [
           {
            "marker": {
             "line": {
              "color": "#E5ECF6",
              "width": 0.5
             },
             "pattern": {
              "fillmode": "overlay",
              "size": 10,
              "solidity": 0.2
             }
            },
            "type": "barpolar"
           }
          ],
          "carpet": [
           {
            "aaxis": {
             "endlinecolor": "#2a3f5f",
             "gridcolor": "white",
             "linecolor": "white",
             "minorgridcolor": "white",
             "startlinecolor": "#2a3f5f"
            },
            "baxis": {
             "endlinecolor": "#2a3f5f",
             "gridcolor": "white",
             "linecolor": "white",
             "minorgridcolor": "white",
             "startlinecolor": "#2a3f5f"
            },
            "type": "carpet"
           }
          ],
          "choropleth": [
           {
            "colorbar": {
             "outlinewidth": 0,
             "ticks": ""
            },
            "type": "choropleth"
           }
          ],
          "contour": [
           {
            "colorbar": {
             "outlinewidth": 0,
             "ticks": ""
            },
            "colorscale": [
             [
              0,
              "#0d0887"
             ],
             [
              0.1111111111111111,
              "#46039f"
             ],
             [
              0.2222222222222222,
              "#7201a8"
             ],
             [
              0.3333333333333333,
              "#9c179e"
             ],
             [
              0.4444444444444444,
              "#bd3786"
             ],
             [
              0.5555555555555556,
              "#d8576b"
             ],
             [
              0.6666666666666666,
              "#ed7953"
             ],
             [
              0.7777777777777778,
              "#fb9f3a"
             ],
             [
              0.8888888888888888,
              "#fdca26"
             ],
             [
              1,
              "#f0f921"
             ]
            ],
            "type": "contour"
           }
          ],
          "contourcarpet": [
           {
            "colorbar": {
             "outlinewidth": 0,
             "ticks": ""
            },
            "type": "contourcarpet"
           }
          ],
          "heatmap": [
           {
            "colorbar": {
             "outlinewidth": 0,
             "ticks": ""
            },
            "colorscale": [
             [
              0,
              "#0d0887"
             ],
             [
              0.1111111111111111,
              "#46039f"
             ],
             [
              0.2222222222222222,
              "#7201a8"
             ],
             [
              0.3333333333333333,
              "#9c179e"
             ],
             [
              0.4444444444444444,
              "#bd3786"
             ],
             [
              0.5555555555555556,
              "#d8576b"
             ],
             [
              0.6666666666666666,
              "#ed7953"
             ],
             [
              0.7777777777777778,
              "#fb9f3a"
             ],
             [
              0.8888888888888888,
              "#fdca26"
             ],
             [
              1,
              "#f0f921"
             ]
            ],
            "type": "heatmap"
           }
          ],
          "heatmapgl": [
           {
            "colorbar": {
             "outlinewidth": 0,
             "ticks": ""
            },
            "colorscale": [
             [
              0,
              "#0d0887"
             ],
             [
              0.1111111111111111,
              "#46039f"
             ],
             [
              0.2222222222222222,
              "#7201a8"
             ],
             [
              0.3333333333333333,
              "#9c179e"
             ],
             [
              0.4444444444444444,
              "#bd3786"
             ],
             [
              0.5555555555555556,
              "#d8576b"
             ],
             [
              0.6666666666666666,
              "#ed7953"
             ],
             [
              0.7777777777777778,
              "#fb9f3a"
             ],
             [
              0.8888888888888888,
              "#fdca26"
             ],
             [
              1,
              "#f0f921"
             ]
            ],
            "type": "heatmapgl"
           }
          ],
          "histogram": [
           {
            "marker": {
             "pattern": {
              "fillmode": "overlay",
              "size": 10,
              "solidity": 0.2
             }
            },
            "type": "histogram"
           }
          ],
          "histogram2d": [
           {
            "colorbar": {
             "outlinewidth": 0,
             "ticks": ""
            },
            "colorscale": [
             [
              0,
              "#0d0887"
             ],
             [
              0.1111111111111111,
              "#46039f"
             ],
             [
              0.2222222222222222,
              "#7201a8"
             ],
             [
              0.3333333333333333,
              "#9c179e"
             ],
             [
              0.4444444444444444,
              "#bd3786"
             ],
             [
              0.5555555555555556,
              "#d8576b"
             ],
             [
              0.6666666666666666,
              "#ed7953"
             ],
             [
              0.7777777777777778,
              "#fb9f3a"
             ],
             [
              0.8888888888888888,
              "#fdca26"
             ],
             [
              1,
              "#f0f921"
             ]
            ],
            "type": "histogram2d"
           }
          ],
          "histogram2dcontour": [
           {
            "colorbar": {
             "outlinewidth": 0,
             "ticks": ""
            },
            "colorscale": [
             [
              0,
              "#0d0887"
             ],
             [
              0.1111111111111111,
              "#46039f"
             ],
             [
              0.2222222222222222,
              "#7201a8"
             ],
             [
              0.3333333333333333,
              "#9c179e"
             ],
             [
              0.4444444444444444,
              "#bd3786"
             ],
             [
              0.5555555555555556,
              "#d8576b"
             ],
             [
              0.6666666666666666,
              "#ed7953"
             ],
             [
              0.7777777777777778,
              "#fb9f3a"
             ],
             [
              0.8888888888888888,
              "#fdca26"
             ],
             [
              1,
              "#f0f921"
             ]
            ],
            "type": "histogram2dcontour"
           }
          ],
          "mesh3d": [
           {
            "colorbar": {
             "outlinewidth": 0,
             "ticks": ""
            },
            "type": "mesh3d"
           }
          ],
          "parcoords": [
           {
            "line": {
             "colorbar": {
              "outlinewidth": 0,
              "ticks": ""
             }
            },
            "type": "parcoords"
           }
          ],
          "pie": [
           {
            "automargin": true,
            "type": "pie"
           }
          ],
          "scatter": [
           {
            "fillpattern": {
             "fillmode": "overlay",
             "size": 10,
             "solidity": 0.2
            },
            "type": "scatter"
           }
          ],
          "scatter3d": [
           {
            "line": {
             "colorbar": {
              "outlinewidth": 0,
              "ticks": ""
             }
            },
            "marker": {
             "colorbar": {
              "outlinewidth": 0,
              "ticks": ""
             }
            },
            "type": "scatter3d"
           }
          ],
          "scattercarpet": [
           {
            "marker": {
             "colorbar": {
              "outlinewidth": 0,
              "ticks": ""
             }
            },
            "type": "scattercarpet"
           }
          ],
          "scattergeo": [
           {
            "marker": {
             "colorbar": {
              "outlinewidth": 0,
              "ticks": ""
             }
            },
            "type": "scattergeo"
           }
          ],
          "scattergl": [
           {
            "marker": {
             "colorbar": {
              "outlinewidth": 0,
              "ticks": ""
             }
            },
            "type": "scattergl"
           }
          ],
          "scattermapbox": [
           {
            "marker": {
             "colorbar": {
              "outlinewidth": 0,
              "ticks": ""
             }
            },
            "type": "scattermapbox"
           }
          ],
          "scatterpolar": [
           {
            "marker": {
             "colorbar": {
              "outlinewidth": 0,
              "ticks": ""
             }
            },
            "type": "scatterpolar"
           }
          ],
          "scatterpolargl": [
           {
            "marker": {
             "colorbar": {
              "outlinewidth": 0,
              "ticks": ""
             }
            },
            "type": "scatterpolargl"
           }
          ],
          "scatterternary": [
           {
            "marker": {
             "colorbar": {
              "outlinewidth": 0,
              "ticks": ""
             }
            },
            "type": "scatterternary"
           }
          ],
          "surface": [
           {
            "colorbar": {
             "outlinewidth": 0,
             "ticks": ""
            },
            "colorscale": [
             [
              0,
              "#0d0887"
             ],
             [
              0.1111111111111111,
              "#46039f"
             ],
             [
              0.2222222222222222,
              "#7201a8"
             ],
             [
              0.3333333333333333,
              "#9c179e"
             ],
             [
              0.4444444444444444,
              "#bd3786"
             ],
             [
              0.5555555555555556,
              "#d8576b"
             ],
             [
              0.6666666666666666,
              "#ed7953"
             ],
             [
              0.7777777777777778,
              "#fb9f3a"
             ],
             [
              0.8888888888888888,
              "#fdca26"
             ],
             [
              1,
              "#f0f921"
             ]
            ],
            "type": "surface"
           }
          ],
          "table": [
           {
            "cells": {
             "fill": {
              "color": "#EBF0F8"
             },
             "line": {
              "color": "white"
             }
            },
            "header": {
             "fill": {
              "color": "#C8D4E3"
             },
             "line": {
              "color": "white"
             }
            },
            "type": "table"
           }
          ]
         },
         "layout": {
          "annotationdefaults": {
           "arrowcolor": "#2a3f5f",
           "arrowhead": 0,
           "arrowwidth": 1
          },
          "autotypenumbers": "strict",
          "coloraxis": {
           "colorbar": {
            "outlinewidth": 0,
            "ticks": ""
           }
          },
          "colorscale": {
           "diverging": [
            [
             0,
             "#8e0152"
            ],
            [
             0.1,
             "#c51b7d"
            ],
            [
             0.2,
             "#de77ae"
            ],
            [
             0.3,
             "#f1b6da"
            ],
            [
             0.4,
             "#fde0ef"
            ],
            [
             0.5,
             "#f7f7f7"
            ],
            [
             0.6,
             "#e6f5d0"
            ],
            [
             0.7,
             "#b8e186"
            ],
            [
             0.8,
             "#7fbc41"
            ],
            [
             0.9,
             "#4d9221"
            ],
            [
             1,
             "#276419"
            ]
           ],
           "sequential": [
            [
             0,
             "#0d0887"
            ],
            [
             0.1111111111111111,
             "#46039f"
            ],
            [
             0.2222222222222222,
             "#7201a8"
            ],
            [
             0.3333333333333333,
             "#9c179e"
            ],
            [
             0.4444444444444444,
             "#bd3786"
            ],
            [
             0.5555555555555556,
             "#d8576b"
            ],
            [
             0.6666666666666666,
             "#ed7953"
            ],
            [
             0.7777777777777778,
             "#fb9f3a"
            ],
            [
             0.8888888888888888,
             "#fdca26"
            ],
            [
             1,
             "#f0f921"
            ]
           ],
           "sequentialminus": [
            [
             0,
             "#0d0887"
            ],
            [
             0.1111111111111111,
             "#46039f"
            ],
            [
             0.2222222222222222,
             "#7201a8"
            ],
            [
             0.3333333333333333,
             "#9c179e"
            ],
            [
             0.4444444444444444,
             "#bd3786"
            ],
            [
             0.5555555555555556,
             "#d8576b"
            ],
            [
             0.6666666666666666,
             "#ed7953"
            ],
            [
             0.7777777777777778,
             "#fb9f3a"
            ],
            [
             0.8888888888888888,
             "#fdca26"
            ],
            [
             1,
             "#f0f921"
            ]
           ]
          },
          "colorway": [
           "#636efa",
           "#EF553B",
           "#00cc96",
           "#ab63fa",
           "#FFA15A",
           "#19d3f3",
           "#FF6692",
           "#B6E880",
           "#FF97FF",
           "#FECB52"
          ],
          "font": {
           "color": "#2a3f5f"
          },
          "geo": {
           "bgcolor": "white",
           "lakecolor": "white",
           "landcolor": "#E5ECF6",
           "showlakes": true,
           "showland": true,
           "subunitcolor": "white"
          },
          "hoverlabel": {
           "align": "left"
          },
          "hovermode": "closest",
          "mapbox": {
           "style": "light"
          },
          "paper_bgcolor": "white",
          "plot_bgcolor": "#E5ECF6",
          "polar": {
           "angularaxis": {
            "gridcolor": "white",
            "linecolor": "white",
            "ticks": ""
           },
           "bgcolor": "#E5ECF6",
           "radialaxis": {
            "gridcolor": "white",
            "linecolor": "white",
            "ticks": ""
           }
          },
          "scene": {
           "xaxis": {
            "backgroundcolor": "#E5ECF6",
            "gridcolor": "white",
            "gridwidth": 2,
            "linecolor": "white",
            "showbackground": true,
            "ticks": "",
            "zerolinecolor": "white"
           },
           "yaxis": {
            "backgroundcolor": "#E5ECF6",
            "gridcolor": "white",
            "gridwidth": 2,
            "linecolor": "white",
            "showbackground": true,
            "ticks": "",
            "zerolinecolor": "white"
           },
           "zaxis": {
            "backgroundcolor": "#E5ECF6",
            "gridcolor": "white",
            "gridwidth": 2,
            "linecolor": "white",
            "showbackground": true,
            "ticks": "",
            "zerolinecolor": "white"
           }
          },
          "shapedefaults": {
           "line": {
            "color": "#2a3f5f"
           }
          },
          "ternary": {
           "aaxis": {
            "gridcolor": "white",
            "linecolor": "white",
            "ticks": ""
           },
           "baxis": {
            "gridcolor": "white",
            "linecolor": "white",
            "ticks": ""
           },
           "bgcolor": "#E5ECF6",
           "caxis": {
            "gridcolor": "white",
            "linecolor": "white",
            "ticks": ""
           }
          },
          "title": {
           "x": 0.05
          },
          "xaxis": {
           "automargin": true,
           "gridcolor": "white",
           "linecolor": "white",
           "ticks": "",
           "title": {
            "standoff": 15
           },
           "zerolinecolor": "white",
           "zerolinewidth": 2
          },
          "yaxis": {
           "automargin": true,
           "gridcolor": "white",
           "linecolor": "white",
           "ticks": "",
           "title": {
            "standoff": 15
           },
           "zerolinecolor": "white",
           "zerolinewidth": 2
          }
         }
        },
        "title": {
         "text": "Candle Chart"
        },
        "xaxis": {
         "gridcolor": "lightgrey",
         "gridwidth": 1,
         "rangebreaks": [
          {
           "bounds": [
            "sat",
            "mon"
           ]
          }
         ],
         "rangeslider": {
          "visible": false
         },
         "showgrid": true,
         "showticklabels": true,
         "title": {
          "text": "Date"
         },
         "zeroline": false
        },
        "yaxis": {
         "gridcolor": "lightgrey",
         "gridwidth": 1,
         "showgrid": true,
         "showticklabels": true,
         "title": {
          "text": "Price"
         },
         "zeroline": false
        }
       }
      },
      "text/html": [
       "<div>                            <div id=\"ce90f3f2-b5e7-4da0-8862-ed4bfa13dbaa\" class=\"plotly-graph-div\" style=\"height:525px; width:100%;\"></div>            <script type=\"text/javascript\">                require([\"plotly\"], function(Plotly) {                    window.PLOTLYENV=window.PLOTLYENV || {};                                    if (document.getElementById(\"ce90f3f2-b5e7-4da0-8862-ed4bfa13dbaa\")) {                    Plotly.newPlot(                        \"ce90f3f2-b5e7-4da0-8862-ed4bfa13dbaa\",                        [{\"close\":[116.40470886230469,114.29717254638672,115.76754760742188,114.98335266113281,117.0418701171875,117.28693389892578,116.69878387451172,117.28693389892578,117.67903900146484,118.61027526855469,121.60003662109375,122.23719787597656,122.7273178100586,121.89411163330078,123.75658416748047,123.60954284667969,124.19769287109375,123.46250915527344,124.34473419189453,125.22695922851562,125.3740005493164,127.43252563476562,128.41278076171875,129.0009307861328,129.24598693847656,127.43252563476562,126.64832305908203,127.48153686523438,127.53055572509766,128.80487060546875,129.3930206298828,133.755126953125,133.9021759033203,132.7258758544922,127.18746185302734,128.41278076171875,130.91241455078125,132.52981567382812,134.49032592773438,135.4215545654297,136.84292602539062,137.08799743652344,136.84292602539062,132.67686462402344,131.5985870361328,131.01043701171875,129.3930206298828,131.01043701171875,131.45155334472656,132.23574829101562,132.6278533935547,132.23574829101562,134.53933715820312,129.0499267578125,128.41278076171875,131.5985870361328,127.53055572509766,132.48080444335938,131.10845947265625,132.33377075195312,132.03970336914062,133.2650146484375,132.13772583007812,135.960693359375,138.75440979003906,141.79318237304688,141.54812622070312,140.81292724609375,138.5093536376953,134.68637084960938,135.1274871826172,138.41131591796875,138.41131591796875,139.48960876464844,139.14651489257812,138.26429748535156,141.05799865722656,143.01849365234375,142.577392578125,139.8326873779297,141.35206604003906,137.97021484375,138.0682373046875,146.98851013183594,150.07630920410156,148.8509979248047,148.60592651367188,154.14434814453125,150.4193878173828,149.4881591796875,140.81292724609375,139.6366424560547,138.9014434814453,146.7434539794922,145.8122100830078,142.7734375,147.13555908203125,148.80198669433594,149.39012145996094,149.6842041015625,152.77200317382812,159.9278106689453,161.398193359375,160.41793823242188,160.17286682128906,160.12387084960938,161.9373321533203,162.72152709960938,161.79029846191406,160.27090454101562,157.67324829101562,156.8890380859375,156.8890380859375,158.8985595703125,158.65350341796875,157.96731567382812,162.28042602539062,164.38795471191406,162.52548217773438,164.0938720703125,161.7412872314453,164.0448760986328,163.21165466308594,164.28993225097656,161.00608825683594,162.77053833007812,158.70249938964844,159.04559326171875,160.61399841308594,161.6922607421875,162.32943725585938,162.62350463867188,164.0448760986328,170.90663146972656,169.8773651123047,172.03390502929688,171.39674377441406,172.03390502929688,171.4457550048828,170.80859375,160.90806579589844,163.8978271484375,170.80859375,155.81076049804688,165.8583221435547,168.6520538330078,175.3667449951172,176.7292938232422,177.74876403808594,178.6309814453125,178.9544677734375,179.53282165527344,177.54290771484375,176.4646453857422,178.6800079345703,179.94000244140625,177.9600067138672,175.67999267578125,172.55999755859375,174.16000366210938,174.00999450683594,174.07000732421875,174.5399932861328,176.3699951171875,176.2899932861328,174.7100067138672,172.27999877929688,171.8000030517578,167.97999572753906,168.9199981689453,168.69000244140625,166.75999450683594,167.07000732421875,166.36000061035156,157.77000427246094,160.32000732421875,160.02000427246094,160.30999755859375,157.38999938964844,162.5500030517578,162.8699951171875,164.07000732421875,165.3300018310547,163.05999755859375,158.22000122070312,149.82000732421875,150.32000732421875,153.86000061035156,150.27999877929688,151.80999755859375,152.05999755859375,148.8800048828125,146.1699981689453,149.52000427246094,153.9600067138672,153.92999267578125,151.9199981689453,154.13999938964844,154.1999969482422,155.6999969482422,154.6999969482422,153.6999969482422,152.97000122070312,152.75999450683594,152.8800048828125,152.14999389648438,151.17999267578125,151.72000122070312,151.22000122070312,149.47000122070312,149.4199981689453,148.1699981689453,151.74000549316406,153.49000549316406,154.2100067138672,152.82000732421875,150.60000610351562,149.5399932861328,152.02000427246094,153.99000549316406,160.52999877929688,161.66000366210938,165.61000061035156,166.5500030517578,168.5500030517578,167.02999877929688,166.97999572753906,166.75,164.36000061035156,159.52000427246094,159.05999755859375,159.7100067138672],\"decreasing\":{\"fillcolor\":\"#EF5350\",\"line\":{\"color\":\"#EF5350\"}},\"high\":[117.7770606098981,116.74779806186977,116.20866468649221,116.2576734473096,117.28693265617713,117.82606700318638,118.12014360692642,118.120145044576,118.07113309682641,118.85533782076244,121.94312268496667,122.77633848155344,123.26645839292529,123.16843989272232,123.90362318896707,124.3937459608774,124.88387247358577,124.49177485223082,124.49177321505697,125.61905331357788,126.30524271520785,127.72660368540897,129.73612456170144,129.8341344718771,130.76536268949138,129.58907307709853,128.80487051118135,127.92264644770589,129.54005664901734,128.9029016086759,130.61833332524154,134.04920498296482,134.8824260491501,134.88243833773745,133.46105707128334,128.85389037590247,132.08871177547746,133.41204977253753,136.15674829457666,136.00971064850353,138.4603327793096,138.16626368980096,137.82317616896094,136.84292778785402,133.65711840291056,133.2650155279921,133.26500575573036,132.13773374857115,132.03969447032085,132.97093595376944,133.55908808042747,133.55909206694503,135.76464988277692,133.0689583711471,129.6380935552466,132.03969662689067,132.52982272054564,132.8729134856722,133.8041474244305,132.72586483046825,134.98045406759556,134.00020231471146,134.04921066897222,136.8429274723752,140.5188630269323,142.23430691942843,144.48887688975455,142.7734275346989,141.59713572645379,140.1267624249444,135.519581253906,138.70539394963063,140.61687871928797,140.6168905303698,140.5188741667036,139.44059476605696,143.31257712246162,143.26355619455643,144.194814427729,143.06751608333798,141.64614407111907,142.0872626682052,139.048487438317,147.67468225996518,151.84074756995335,150.95852985869067,149.63517718992597,156.00681759223983,155.7617483313273,151.49767513063844,149.88024108089263,141.10701780299266,140.86194378452126,147.28259458844028,149.43913265325034,147.67468856361046,148.21382531349525,149.73322141377,150.3703716400327,151.05656337026002,153.8992849468356,160.66299830295657,162.23141203254494,162.96659471927464,162.67250766865556,160.90805901769195,163.652770025617,166.44648071144798,165.85833080794666,162.7215299927131,161.4472025300229,159.24163244177635,160.76102315207774,159.2906536578827,161.44720755867675,160.27090965489856,163.60375484069795,164.68203276190366,167.32870205732314,166.2504344049381,165.07413201566615,165.56425193477514,167.3777179202518,165.3191829495991,164.63301084556474,163.79980396598162,163.40770328161997,161.10412464283968,161.2511550488477,163.26066697962392,164.24092213262279,164.68203607255128,165.1231423385586,171.73983518046273,172.03391259205793,172.32798307211513,174.0434161734736,174.19045241424638,173.99441152283768,172.52403156384506,168.60303591815898,164.63301478363454,171.54378138450502,171.2006850736301,166.25043117743374,171.24971094059052,176.10193260402477,178.50355916762769,180.120967640142,180.238591100205,180.46406140407166,179.87591521495025,180.95418910866522,178.88586457899385,179.33677378351155,180.89999389648438,178.9499969482422,179.0,176.0,174.9499969482422,177.10000610351562,175.99000549316406,175.75,176.8800048828125,178.19000244140625,176.1999969482422,175.47000122070312,173.6999969482422,172.88999938964844,170.9499969482422,170.38999938964844,168.99000549316406,169.82000732421875,167.61000061035156,166.08999633789062,160.6999969482422,161.97000122070312,162.02000427246094,158.5,162.9499969482422,164.6999969482422,165.3000030517578,166.5,168.9499969482422,161.19000244140625,154.0,153.8000030517578,154.3000030517578,153.44000244140625,153.0,153.39999389648438,152.9499969482422,149.89999389648438,150.0,154.3000030517578,155.6999969482422,154.17999267578125,154.35000610351562,154.38999938964844,156.39999389648438,156.5,155.0,153.55999755859375,155.25,153.89999389648438,153.4499969482422,152.17999267578125,152.7899932861328,152.89999389648438,150.89999389648438,151.58999633789062,150.1999969482422,152.44000244140625,155.39999389648438,155.66000366210938,154.24000549316406,152.97999572753906,152.19000244140625,153.33999633789062,154.38999938964844,161.5,162.69000244140625,165.89999389648438,169.00999450683594,170.17999267578125,169.49000549316406,169.99000549316406,169.10000610351562,167.9499969482422,163.58999633789062,162.1999969482422,161.17999267578125],\"increasing\":{\"fillcolor\":\"#26A69A\",\"line\":{\"color\":\"#26A69A\"}},\"line\":{\"width\":1},\"low\":[116.06162279508519,113.70902391841389,112.33667189310283,114.78729813184097,115.17939332512333,116.06162119099449,116.20865879730455,116.50273077436366,116.45372625667123,117.53200153458367,119.1003956952626,120.57077551481895,121.84509864349893,121.60004105869889,122.48225595288366,123.021394250389,123.4134972265939,123.07041505997108,123.51152303226125,124.19769355843897,124.00164879028166,125.52104074173033,127.82462463785276,127.43252450160229,128.21672130001838,127.23647858681372,125.4230103070448,126.20720866009297,127.13844667456802,126.59930765018721,128.9028955517393,130.37326700354166,132.43180068457565,132.1377346878693,126.20721166533542,125.32499102628542,129.14796123502157,131.79462807028534,132.82390356089206,134.14724131448722,134.44130120769915,136.3037942794109,134.34328516780025,131.69661446782803,131.35352449044169,130.2262487951293,129.14795809081107,129.8831552322978,129.49105301121793,131.5495761305983,131.99068179706111,131.30451357634703,131.35352407431125,128.80486421937576,125.66807711273006,129.00093003477923,126.74635258146927,127.53055305264104,129.39302168516355,130.86339552137585,131.84365631406325,131.8436548184608,131.84364778776427,132.13772374199849,136.5978624815829,137.67613461378792,141.20504761710595,140.2247861339703,136.40180677300793,133.95118320314333,131.4515491739217,133.06895567959265,138.2152688826708,138.70540560015777,138.55837373860828,137.28404725852516,138.65638864406728,140.6658992300743,142.136282967299,139.4405932743662,139.1955187411689,137.28404269924596,136.6468626449807,140.17577443571227,148.06679333473613,147.77271672855596,144.97898904664876,149.24309701115985,149.97827822585174,147.9197528381084,139.68564556311784,135.61762548221654,137.08798967555822,139.39157737773976,144.6849283913886,141.0089990830452,144.88098065997988,145.42012641984834,147.52765210079693,148.9980319459293,149.68420599820666,153.40915296368436,158.6044891961133,159.87881259177655,157.8202724693148,157.62422993091224,160.95708194057934,161.93732397752274,161.25115786055974,159.78077945067614,155.46768537405512,155.8597724462217,156.00680398442532,154.1933557323166,158.31040985944946,157.62423707410207,158.2613941623879,160.90806352813763,161.98634158943017,163.60374698652132,161.25116211862274,161.74128215765742,161.88831093960215,161.44719782200036,159.0946034425331,160.27089748786395,158.31040529758033,158.65349916885327,154.92854436212673,160.27090100306535,161.692265658651,159.0946128401474,162.18239175387393,164.63302110085868,168.11291173525888,167.13265417376135,170.71055670721736,171.39674840104948,170.02439519801348,170.07340611549498,160.1238775947822,160.761029563083,165.51524876453612,145.2240557406787,155.85977361980778,166.05438176799373,167.42672779337337,173.85716804931593,176.93515460705106,177.91540302069268,176.94495194320479,177.81738377175213,177.03318839088206,175.76866116170874,175.82747622007926,178.17999267578125,175.10000610351562,175.25,171.83999633789062,171.8000030517578,173.57000732421875,173.50999450683594,173.60000610351562,174.39999389648438,175.82000732421875,173.39999389648438,172.08999633789062,171.50999450683594,167.02000427246094,168.6699981689453,168.00999450683594,165.8000030517578,166.6999969482422,164.44000244140625,157.1999969482422,156.41000366210938,155.0,159.19000244140625,156.89999389648438,158.2100067138672,162.3300018310547,161.30999755859375,163.5500030517578,160.89999389648438,154.72000122070312,149.0,149.61000061035156,151.89999389648438,150.0,151.25,149.8800048828125,148.5,142.35000610351562,146.4600067138672,150.38999938964844,152.8000030517578,151.77000427246094,152.50999450683594,152.5500030517578,153.6999969482422,154.60000610351562,153.0500030517578,151.1999969482422,152.47000122070312,152.13999938964844,152.00999450683594,149.16000366210938,151.0,149.64999389648438,148.0500030517578,148.80999755859375,147.6199951171875,148.75,152.5,153.5,152.27000427246094,149.61000061035156,147.7899932861328,150.64999389648438,152.8000030517578,154.85000610351562,159.52000427246094,160.47999572753906,165.88999938964844,167.25999450683594,165.10000610351562,164.52000427246094,164.0,162.3300018310547,156.6999969482422,158.11000061035156,156.60000610351562],\"open\":[117.63002158717106,116.64977453699356,112.33667189310283,115.86557186744152,116.15964348108183,116.94384783644807,117.38495599111567,116.84581683684137,117.13989840226947,118.46323624148691,119.29644273784277,121.5510257222565,122.23719272698534,122.58029126480298,122.58028695301826,123.90362088418262,123.85460680920536,124.19769680203858,124.49177321505697,124.63881062220695,125.27597702625295,126.35424443488367,129.58907805201918,128.41277469007616,129.88314354648728,129.09894797850328,127.57955775914412,127.28548982385043,127.48154022410259,127.97166690793215,129.68709866825498,130.76536107170816,134.14723843977777,133.95118864841265,133.21599452436035,126.1582022301412,129.78511786914805,132.0396906047996,133.16699711763806,135.4215545654297,135.86267588182028,137.23502898460592,137.72514517163185,136.74489678926233,133.31402485597067,132.3337808027185,132.62784913711596,130.86340546046608,131.15747530321417,132.1867477461104,133.11797848742782,133.31402951269374,132.03969620858643,132.77488033353694,129.0499374313806,129.9811802175437,132.1377286274469,127.62856909514632,133.8041474244305,132.03969271435162,132.92193755313602,132.3337799293101,133.706117126701,132.62784881896624,137.23501908723014,140.17577556108358,143.94975123304025,142.4303489586511,141.35207318107834,139.19552773090692,135.02945618607995,134.29426834699223,138.70539394963063,139.24454621058456,140.12676510662578,139.14651670652276,138.75441964763752,142.13627448335035,143.50862730263137,142.96950003616274,139.83267534398396,141.20504347633297,138.01922180652002,140.17577443571227,151.84074756995335,150.1743267120944,148.80197354927122,149.3901285621884,155.7617483313273,151.15458156922068,149.78222504092048,140.76393919649936,140.07774067180483,139.73467093546068,146.05727262096244,146.64543780619724,145.07702770593417,146.05728308118972,148.16480873487126,149.43914154901987,149.68420599820666,153.703231008775,159.73177097046656,161.39818842622202,162.2804135958032,160.6629964758085,163.652770025617,162.72152709960938,163.99586141137462,162.7215299927131,158.60448297557946,157.6732411903605,157.72224173147495,156.8400282169922,160.56498834738608,160.27090965489856,159.24164437702942,162.1333762719018,164.68202957352054,164.87807519586448,165.07413201566615,161.74128215765742,165.61326460808363,164.63301083137395,164.63301084556474,160.95706959265627,162.67251564091913,159.97682795034743,159.2416391828926,160.85905708146163,161.692265658651,163.9468484115131,163.30968845246164,165.17216171217697,171.98489708986168,169.63229510157058,171.4947598144206,174.19045241424638,172.4260052106453,171.29871883967002,168.60303591815898,162.7705454241077,169.82834357065997,171.05365353207614,158.9475556047753,166.6425378846769,168.60302497613947,176.65088697339883,176.93515460705106,178.65059063648067,179.77787432245768,179.3367746029287,180.16998597362243,178.84664619478943,178.01344496815753,179.39999389648438,177.44000244140625,177.99000549316406,175.67999267578125,172.55999755859375,174.1699981689453,174.5,174.47000122070312,174.5399932861328,177.0,176.1999969482422,174.60000610351562,173.60000610351562,172.5,170.0,170.1999969482422,168.69000244140625,167.8000030517578,167.61000061035156,166.0,158.39999389648438,161.60000610351562,160.02000427246094,158.5,158.75,164.6999969482422,162.89999389648438,166.2899932861328,168.1999969482422,161.0,153.66000366210938,151.2100067138672,153.6999969482422,153.39999389648438,153.0,151.0,152.10000610351562,149.89999389648438,148.0,150.85000610351562,155.6999969482422,153.0,152.50999450683594,154.0,154.61000061035156,155.8000030517578,154.6999969482422,153.2100067138672,153.0,153.89999389648438,152.83999633789062,149.5,151.0,151.94000244140625,150.89999389648438,150.5,149.89999389648438,152.0,152.77999877929688,155.0,154.0,152.39999389648438,151.88999938964844,151.0,154.3800048828125,155.14999389648438,161.5,162.0,167.0,167.5,169.49000549316406,165.5,167.0,167.10000610351562,163.0,159.52000427246094,158.3000030517578],\"x\":[\"2023-10-31T00:00:00+05:30\",\"2023-11-01T00:00:00+05:30\",\"2023-11-02T00:00:00+05:30\",\"2023-11-03T00:00:00+05:30\",\"2023-11-06T00:00:00+05:30\",\"2023-11-07T00:00:00+05:30\",\"2023-11-08T00:00:00+05:30\",\"2023-11-09T00:00:00+05:30\",\"2023-11-10T00:00:00+05:30\",\"2023-11-13T00:00:00+05:30\",\"2023-11-15T00:00:00+05:30\",\"2023-11-16T00:00:00+05:30\",\"2023-11-17T00:00:00+05:30\",\"2023-11-20T00:00:00+05:30\",\"2023-11-21T00:00:00+05:30\",\"2023-11-22T00:00:00+05:30\",\"2023-11-23T00:00:00+05:30\",\"2023-11-24T00:00:00+05:30\",\"2023-11-28T00:00:00+05:30\",\"2023-11-29T00:00:00+05:30\",\"2023-11-30T00:00:00+05:30\",\"2023-12-01T00:00:00+05:30\",\"2023-12-04T00:00:00+05:30\",\"2023-12-05T00:00:00+05:30\",\"2023-12-06T00:00:00+05:30\",\"2023-12-07T00:00:00+05:30\",\"2023-12-08T00:00:00+05:30\",\"2023-12-11T00:00:00+05:30\",\"2023-12-12T00:00:00+05:30\",\"2023-12-13T00:00:00+05:30\",\"2023-12-14T00:00:00+05:30\",\"2023-12-15T00:00:00+05:30\",\"2023-12-18T00:00:00+05:30\",\"2023-12-19T00:00:00+05:30\",\"2023-12-20T00:00:00+05:30\",\"2023-12-21T00:00:00+05:30\",\"2023-12-22T00:00:00+05:30\",\"2023-12-26T00:00:00+05:30\",\"2023-12-27T00:00:00+05:30\",\"2023-12-28T00:00:00+05:30\",\"2023-12-29T00:00:00+05:30\",\"2024-01-01T00:00:00+05:30\",\"2024-01-02T00:00:00+05:30\",\"2024-01-03T00:00:00+05:30\",\"2024-01-04T00:00:00+05:30\",\"2024-01-05T00:00:00+05:30\",\"2024-01-08T00:00:00+05:30\",\"2024-01-09T00:00:00+05:30\",\"2024-01-10T00:00:00+05:30\",\"2024-01-11T00:00:00+05:30\",\"2024-01-12T00:00:00+05:30\",\"2024-01-15T00:00:00+05:30\",\"2024-01-16T00:00:00+05:30\",\"2024-01-17T00:00:00+05:30\",\"2024-01-18T00:00:00+05:30\",\"2024-01-19T00:00:00+05:30\",\"2024-01-23T00:00:00+05:30\",\"2024-01-24T00:00:00+05:30\",\"2024-01-25T00:00:00+05:30\",\"2024-01-29T00:00:00+05:30\",\"2024-01-30T00:00:00+05:30\",\"2024-01-31T00:00:00+05:30\",\"2024-02-01T00:00:00+05:30\",\"2024-02-02T00:00:00+05:30\",\"2024-02-05T00:00:00+05:30\",\"2024-02-06T00:00:00+05:30\",\"2024-02-07T00:00:00+05:30\",\"2024-02-08T00:00:00+05:30\",\"2024-02-09T00:00:00+05:30\",\"2024-02-12T00:00:00+05:30\",\"2024-02-13T00:00:00+05:30\",\"2024-02-14T00:00:00+05:30\",\"2024-02-15T00:00:00+05:30\",\"2024-02-16T00:00:00+05:30\",\"2024-02-19T00:00:00+05:30\",\"2024-02-20T00:00:00+05:30\",\"2024-02-21T00:00:00+05:30\",\"2024-02-22T00:00:00+05:30\",\"2024-02-23T00:00:00+05:30\",\"2024-02-26T00:00:00+05:30\",\"2024-02-27T00:00:00+05:30\",\"2024-02-28T00:00:00+05:30\",\"2024-02-29T00:00:00+05:30\",\"2024-03-01T00:00:00+05:30\",\"2024-03-04T00:00:00+05:30\",\"2024-03-05T00:00:00+05:30\",\"2024-03-06T00:00:00+05:30\",\"2024-03-07T00:00:00+05:30\",\"2024-03-11T00:00:00+05:30\",\"2024-03-12T00:00:00+05:30\",\"2024-03-13T00:00:00+05:30\",\"2024-03-14T00:00:00+05:30\",\"2024-03-15T00:00:00+05:30\",\"2024-03-18T00:00:00+05:30\",\"2024-03-19T00:00:00+05:30\",\"2024-03-20T00:00:00+05:30\",\"2024-03-21T00:00:00+05:30\",\"2024-03-22T00:00:00+05:30\",\"2024-03-26T00:00:00+05:30\",\"2024-03-27T00:00:00+05:30\",\"2024-03-28T00:00:00+05:30\",\"2024-04-01T00:00:00+05:30\",\"2024-04-02T00:00:00+05:30\",\"2024-04-03T00:00:00+05:30\",\"2024-04-04T00:00:00+05:30\",\"2024-04-05T00:00:00+05:30\",\"2024-04-08T00:00:00+05:30\",\"2024-04-09T00:00:00+05:30\",\"2024-04-10T00:00:00+05:30\",\"2024-04-12T00:00:00+05:30\",\"2024-04-15T00:00:00+05:30\",\"2024-04-16T00:00:00+05:30\",\"2024-04-18T00:00:00+05:30\",\"2024-04-19T00:00:00+05:30\",\"2024-04-22T00:00:00+05:30\",\"2024-04-23T00:00:00+05:30\",\"2024-04-24T00:00:00+05:30\",\"2024-04-25T00:00:00+05:30\",\"2024-04-26T00:00:00+05:30\",\"2024-04-29T00:00:00+05:30\",\"2024-04-30T00:00:00+05:30\",\"2024-05-02T00:00:00+05:30\",\"2024-05-03T00:00:00+05:30\",\"2024-05-06T00:00:00+05:30\",\"2024-05-07T00:00:00+05:30\",\"2024-05-08T00:00:00+05:30\",\"2024-05-09T00:00:00+05:30\",\"2024-05-10T00:00:00+05:30\",\"2024-05-13T00:00:00+05:30\",\"2024-05-14T00:00:00+05:30\",\"2024-05-15T00:00:00+05:30\",\"2024-05-16T00:00:00+05:30\",\"2024-05-17T00:00:00+05:30\",\"2024-05-21T00:00:00+05:30\",\"2024-05-22T00:00:00+05:30\",\"2024-05-23T00:00:00+05:30\",\"2024-05-24T00:00:00+05:30\",\"2024-05-27T00:00:00+05:30\",\"2024-05-28T00:00:00+05:30\",\"2024-05-29T00:00:00+05:30\",\"2024-05-30T00:00:00+05:30\",\"2024-05-31T00:00:00+05:30\",\"2024-06-03T00:00:00+05:30\",\"2024-06-04T00:00:00+05:30\",\"2024-06-05T00:00:00+05:30\",\"2024-06-06T00:00:00+05:30\",\"2024-06-07T00:00:00+05:30\",\"2024-06-10T00:00:00+05:30\",\"2024-06-11T00:00:00+05:30\",\"2024-06-12T00:00:00+05:30\",\"2024-06-13T00:00:00+05:30\",\"2024-06-14T00:00:00+05:30\",\"2024-06-18T00:00:00+05:30\",\"2024-06-19T00:00:00+05:30\",\"2024-06-20T00:00:00+05:30\",\"2024-06-21T00:00:00+05:30\",\"2024-06-24T00:00:00+05:30\",\"2024-06-25T00:00:00+05:30\",\"2024-06-26T00:00:00+05:30\",\"2024-06-27T00:00:00+05:30\",\"2024-06-28T00:00:00+05:30\",\"2024-07-01T00:00:00+05:30\",\"2024-07-02T00:00:00+05:30\",\"2024-07-03T00:00:00+05:30\",\"2024-07-04T00:00:00+05:30\",\"2024-07-05T00:00:00+05:30\",\"2024-07-08T00:00:00+05:30\",\"2024-07-09T00:00:00+05:30\",\"2024-07-10T00:00:00+05:30\",\"2024-07-11T00:00:00+05:30\",\"2024-07-12T00:00:00+05:30\",\"2024-07-15T00:00:00+05:30\",\"2024-07-16T00:00:00+05:30\",\"2024-07-18T00:00:00+05:30\",\"2024-07-19T00:00:00+05:30\",\"2024-07-22T00:00:00+05:30\",\"2024-07-23T00:00:00+05:30\",\"2024-07-24T00:00:00+05:30\",\"2024-07-25T00:00:00+05:30\",\"2024-07-26T00:00:00+05:30\",\"2024-07-29T00:00:00+05:30\",\"2024-07-30T00:00:00+05:30\",\"2024-07-31T00:00:00+05:30\",\"2024-08-01T00:00:00+05:30\",\"2024-08-02T00:00:00+05:30\",\"2024-08-05T00:00:00+05:30\",\"2024-08-06T00:00:00+05:30\",\"2024-08-07T00:00:00+05:30\",\"2024-08-08T00:00:00+05:30\",\"2024-08-09T00:00:00+05:30\",\"2024-08-12T00:00:00+05:30\",\"2024-08-13T00:00:00+05:30\",\"2024-08-14T00:00:00+05:30\",\"2024-08-16T00:00:00+05:30\",\"2024-08-19T00:00:00+05:30\",\"2024-08-20T00:00:00+05:30\",\"2024-08-21T00:00:00+05:30\",\"2024-08-22T00:00:00+05:30\",\"2024-08-23T00:00:00+05:30\",\"2024-08-26T00:00:00+05:30\",\"2024-08-27T00:00:00+05:30\",\"2024-08-28T00:00:00+05:30\",\"2024-08-29T00:00:00+05:30\",\"2024-08-30T00:00:00+05:30\",\"2024-09-02T00:00:00+05:30\",\"2024-09-03T00:00:00+05:30\",\"2024-09-04T00:00:00+05:30\",\"2024-09-05T00:00:00+05:30\",\"2024-09-06T00:00:00+05:30\",\"2024-09-09T00:00:00+05:30\",\"2024-09-10T00:00:00+05:30\",\"2024-09-11T00:00:00+05:30\",\"2024-09-12T00:00:00+05:30\",\"2024-09-13T00:00:00+05:30\",\"2024-09-16T00:00:00+05:30\",\"2024-09-17T00:00:00+05:30\",\"2024-09-18T00:00:00+05:30\",\"2024-09-19T00:00:00+05:30\",\"2024-09-20T00:00:00+05:30\",\"2024-09-23T00:00:00+05:30\",\"2024-09-24T00:00:00+05:30\",\"2024-09-25T00:00:00+05:30\",\"2024-09-26T00:00:00+05:30\",\"2024-09-27T00:00:00+05:30\",\"2024-09-30T00:00:00+05:30\",\"2024-10-01T00:00:00+05:30\",\"2024-10-03T00:00:00+05:30\",\"2024-10-04T00:00:00+05:30\",\"2024-10-07T00:00:00+05:30\",\"2024-10-08T00:00:00+05:30\",\"2024-10-09T00:00:00+05:30\",\"2024-10-10T00:00:00+05:30\"],\"type\":\"candlestick\"}],                        {\"template\":{\"data\":{\"histogram2dcontour\":[{\"type\":\"histogram2dcontour\",\"colorbar\":{\"outlinewidth\":0,\"ticks\":\"\"},\"colorscale\":[[0.0,\"#0d0887\"],[0.1111111111111111,\"#46039f\"],[0.2222222222222222,\"#7201a8\"],[0.3333333333333333,\"#9c179e\"],[0.4444444444444444,\"#bd3786\"],[0.5555555555555556,\"#d8576b\"],[0.6666666666666666,\"#ed7953\"],[0.7777777777777778,\"#fb9f3a\"],[0.8888888888888888,\"#fdca26\"],[1.0,\"#f0f921\"]]}],\"choropleth\":[{\"type\":\"choropleth\",\"colorbar\":{\"outlinewidth\":0,\"ticks\":\"\"}}],\"histogram2d\":[{\"type\":\"histogram2d\",\"colorbar\":{\"outlinewidth\":0,\"ticks\":\"\"},\"colorscale\":[[0.0,\"#0d0887\"],[0.1111111111111111,\"#46039f\"],[0.2222222222222222,\"#7201a8\"],[0.3333333333333333,\"#9c179e\"],[0.4444444444444444,\"#bd3786\"],[0.5555555555555556,\"#d8576b\"],[0.6666666666666666,\"#ed7953\"],[0.7777777777777778,\"#fb9f3a\"],[0.8888888888888888,\"#fdca26\"],[1.0,\"#f0f921\"]]}],\"heatmap\":[{\"type\":\"heatmap\",\"colorbar\":{\"outlinewidth\":0,\"ticks\":\"\"},\"colorscale\":[[0.0,\"#0d0887\"],[0.1111111111111111,\"#46039f\"],[0.2222222222222222,\"#7201a8\"],[0.3333333333333333,\"#9c179e\"],[0.4444444444444444,\"#bd3786\"],[0.5555555555555556,\"#d8576b\"],[0.6666666666666666,\"#ed7953\"],[0.7777777777777778,\"#fb9f3a\"],[0.8888888888888888,\"#fdca26\"],[1.0,\"#f0f921\"]]}],\"heatmapgl\":[{\"type\":\"heatmapgl\",\"colorbar\":{\"outlinewidth\":0,\"ticks\":\"\"},\"colorscale\":[[0.0,\"#0d0887\"],[0.1111111111111111,\"#46039f\"],[0.2222222222222222,\"#7201a8\"],[0.3333333333333333,\"#9c179e\"],[0.4444444444444444,\"#bd3786\"],[0.5555555555555556,\"#d8576b\"],[0.6666666666666666,\"#ed7953\"],[0.7777777777777778,\"#fb9f3a\"],[0.8888888888888888,\"#fdca26\"],[1.0,\"#f0f921\"]]}],\"contourcarpet\":[{\"type\":\"contourcarpet\",\"colorbar\":{\"outlinewidth\":0,\"ticks\":\"\"}}],\"contour\":[{\"type\":\"contour\",\"colorbar\":{\"outlinewidth\":0,\"ticks\":\"\"},\"colorscale\":[[0.0,\"#0d0887\"],[0.1111111111111111,\"#46039f\"],[0.2222222222222222,\"#7201a8\"],[0.3333333333333333,\"#9c179e\"],[0.4444444444444444,\"#bd3786\"],[0.5555555555555556,\"#d8576b\"],[0.6666666666666666,\"#ed7953\"],[0.7777777777777778,\"#fb9f3a\"],[0.8888888888888888,\"#fdca26\"],[1.0,\"#f0f921\"]]}],\"surface\":[{\"type\":\"surface\",\"colorbar\":{\"outlinewidth\":0,\"ticks\":\"\"},\"colorscale\":[[0.0,\"#0d0887\"],[0.1111111111111111,\"#46039f\"],[0.2222222222222222,\"#7201a8\"],[0.3333333333333333,\"#9c179e\"],[0.4444444444444444,\"#bd3786\"],[0.5555555555555556,\"#d8576b\"],[0.6666666666666666,\"#ed7953\"],[0.7777777777777778,\"#fb9f3a\"],[0.8888888888888888,\"#fdca26\"],[1.0,\"#f0f921\"]]}],\"mesh3d\":[{\"type\":\"mesh3d\",\"colorbar\":{\"outlinewidth\":0,\"ticks\":\"\"}}],\"scatter\":[{\"fillpattern\":{\"fillmode\":\"overlay\",\"size\":10,\"solidity\":0.2},\"type\":\"scatter\"}],\"parcoords\":[{\"type\":\"parcoords\",\"line\":{\"colorbar\":{\"outlinewidth\":0,\"ticks\":\"\"}}}],\"scatterpolargl\":[{\"type\":\"scatterpolargl\",\"marker\":{\"colorbar\":{\"outlinewidth\":0,\"ticks\":\"\"}}}],\"bar\":[{\"error_x\":{\"color\":\"#2a3f5f\"},\"error_y\":{\"color\":\"#2a3f5f\"},\"marker\":{\"line\":{\"color\":\"#E5ECF6\",\"width\":0.5},\"pattern\":{\"fillmode\":\"overlay\",\"size\":10,\"solidity\":0.2}},\"type\":\"bar\"}],\"scattergeo\":[{\"type\":\"scattergeo\",\"marker\":{\"colorbar\":{\"outlinewidth\":0,\"ticks\":\"\"}}}],\"scatterpolar\":[{\"type\":\"scatterpolar\",\"marker\":{\"colorbar\":{\"outlinewidth\":0,\"ticks\":\"\"}}}],\"histogram\":[{\"marker\":{\"pattern\":{\"fillmode\":\"overlay\",\"size\":10,\"solidity\":0.2}},\"type\":\"histogram\"}],\"scattergl\":[{\"type\":\"scattergl\",\"marker\":{\"colorbar\":{\"outlinewidth\":0,\"ticks\":\"\"}}}],\"scatter3d\":[{\"type\":\"scatter3d\",\"line\":{\"colorbar\":{\"outlinewidth\":0,\"ticks\":\"\"}},\"marker\":{\"colorbar\":{\"outlinewidth\":0,\"ticks\":\"\"}}}],\"scattermapbox\":[{\"type\":\"scattermapbox\",\"marker\":{\"colorbar\":{\"outlinewidth\":0,\"ticks\":\"\"}}}],\"scatterternary\":[{\"type\":\"scatterternary\",\"marker\":{\"colorbar\":{\"outlinewidth\":0,\"ticks\":\"\"}}}],\"scattercarpet\":[{\"type\":\"scattercarpet\",\"marker\":{\"colorbar\":{\"outlinewidth\":0,\"ticks\":\"\"}}}],\"carpet\":[{\"aaxis\":{\"endlinecolor\":\"#2a3f5f\",\"gridcolor\":\"white\",\"linecolor\":\"white\",\"minorgridcolor\":\"white\",\"startlinecolor\":\"#2a3f5f\"},\"baxis\":{\"endlinecolor\":\"#2a3f5f\",\"gridcolor\":\"white\",\"linecolor\":\"white\",\"minorgridcolor\":\"white\",\"startlinecolor\":\"#2a3f5f\"},\"type\":\"carpet\"}],\"table\":[{\"cells\":{\"fill\":{\"color\":\"#EBF0F8\"},\"line\":{\"color\":\"white\"}},\"header\":{\"fill\":{\"color\":\"#C8D4E3\"},\"line\":{\"color\":\"white\"}},\"type\":\"table\"}],\"barpolar\":[{\"marker\":{\"line\":{\"color\":\"#E5ECF6\",\"width\":0.5},\"pattern\":{\"fillmode\":\"overlay\",\"size\":10,\"solidity\":0.2}},\"type\":\"barpolar\"}],\"pie\":[{\"automargin\":true,\"type\":\"pie\"}]},\"layout\":{\"autotypenumbers\":\"strict\",\"colorway\":[\"#636efa\",\"#EF553B\",\"#00cc96\",\"#ab63fa\",\"#FFA15A\",\"#19d3f3\",\"#FF6692\",\"#B6E880\",\"#FF97FF\",\"#FECB52\"],\"font\":{\"color\":\"#2a3f5f\"},\"hovermode\":\"closest\",\"hoverlabel\":{\"align\":\"left\"},\"paper_bgcolor\":\"white\",\"plot_bgcolor\":\"#E5ECF6\",\"polar\":{\"bgcolor\":\"#E5ECF6\",\"angularaxis\":{\"gridcolor\":\"white\",\"linecolor\":\"white\",\"ticks\":\"\"},\"radialaxis\":{\"gridcolor\":\"white\",\"linecolor\":\"white\",\"ticks\":\"\"}},\"ternary\":{\"bgcolor\":\"#E5ECF6\",\"aaxis\":{\"gridcolor\":\"white\",\"linecolor\":\"white\",\"ticks\":\"\"},\"baxis\":{\"gridcolor\":\"white\",\"linecolor\":\"white\",\"ticks\":\"\"},\"caxis\":{\"gridcolor\":\"white\",\"linecolor\":\"white\",\"ticks\":\"\"}},\"coloraxis\":{\"colorbar\":{\"outlinewidth\":0,\"ticks\":\"\"}},\"colorscale\":{\"sequential\":[[0.0,\"#0d0887\"],[0.1111111111111111,\"#46039f\"],[0.2222222222222222,\"#7201a8\"],[0.3333333333333333,\"#9c179e\"],[0.4444444444444444,\"#bd3786\"],[0.5555555555555556,\"#d8576b\"],[0.6666666666666666,\"#ed7953\"],[0.7777777777777778,\"#fb9f3a\"],[0.8888888888888888,\"#fdca26\"],[1.0,\"#f0f921\"]],\"sequentialminus\":[[0.0,\"#0d0887\"],[0.1111111111111111,\"#46039f\"],[0.2222222222222222,\"#7201a8\"],[0.3333333333333333,\"#9c179e\"],[0.4444444444444444,\"#bd3786\"],[0.5555555555555556,\"#d8576b\"],[0.6666666666666666,\"#ed7953\"],[0.7777777777777778,\"#fb9f3a\"],[0.8888888888888888,\"#fdca26\"],[1.0,\"#f0f921\"]],\"diverging\":[[0,\"#8e0152\"],[0.1,\"#c51b7d\"],[0.2,\"#de77ae\"],[0.3,\"#f1b6da\"],[0.4,\"#fde0ef\"],[0.5,\"#f7f7f7\"],[0.6,\"#e6f5d0\"],[0.7,\"#b8e186\"],[0.8,\"#7fbc41\"],[0.9,\"#4d9221\"],[1,\"#276419\"]]},\"xaxis\":{\"gridcolor\":\"white\",\"linecolor\":\"white\",\"ticks\":\"\",\"title\":{\"standoff\":15},\"zerolinecolor\":\"white\",\"automargin\":true,\"zerolinewidth\":2},\"yaxis\":{\"gridcolor\":\"white\",\"linecolor\":\"white\",\"ticks\":\"\",\"title\":{\"standoff\":15},\"zerolinecolor\":\"white\",\"automargin\":true,\"zerolinewidth\":2},\"scene\":{\"xaxis\":{\"backgroundcolor\":\"#E5ECF6\",\"gridcolor\":\"white\",\"linecolor\":\"white\",\"showbackground\":true,\"ticks\":\"\",\"zerolinecolor\":\"white\",\"gridwidth\":2},\"yaxis\":{\"backgroundcolor\":\"#E5ECF6\",\"gridcolor\":\"white\",\"linecolor\":\"white\",\"showbackground\":true,\"ticks\":\"\",\"zerolinecolor\":\"white\",\"gridwidth\":2},\"zaxis\":{\"backgroundcolor\":\"#E5ECF6\",\"gridcolor\":\"white\",\"linecolor\":\"white\",\"showbackground\":true,\"ticks\":\"\",\"zerolinecolor\":\"white\",\"gridwidth\":2}},\"shapedefaults\":{\"line\":{\"color\":\"#2a3f5f\"}},\"annotationdefaults\":{\"arrowcolor\":\"#2a3f5f\",\"arrowhead\":0,\"arrowwidth\":1},\"geo\":{\"bgcolor\":\"white\",\"landcolor\":\"#E5ECF6\",\"subunitcolor\":\"white\",\"showland\":true,\"showlakes\":true,\"lakecolor\":\"white\"},\"title\":{\"x\":0.05},\"mapbox\":{\"style\":\"light\"}}},\"xaxis\":{\"rangeslider\":{\"visible\":false},\"title\":{\"text\":\"Date\"},\"showgrid\":true,\"gridwidth\":1,\"gridcolor\":\"lightgrey\",\"zeroline\":false,\"showticklabels\":true,\"rangebreaks\":[{\"bounds\":[\"sat\",\"mon\"]}]},\"margin\":{\"l\":0,\"r\":0,\"t\":0,\"b\":0},\"title\":{\"text\":\"Candle Chart\"},\"yaxis\":{\"title\":{\"text\":\"Price\"},\"showgrid\":true,\"gridwidth\":1,\"gridcolor\":\"lightgrey\",\"zeroline\":false,\"showticklabels\":true},\"plot_bgcolor\":\"white\",\"hovermode\":\"x unified\",\"showlegend\":false},                        {\"responsive\": true}                    ).then(function(){\n",
       "                            \n",
       "var gd = document.getElementById('ce90f3f2-b5e7-4da0-8862-ed4bfa13dbaa');\n",
       "var x = new MutationObserver(function (mutations, observer) {{\n",
       "        var display = window.getComputedStyle(gd).display;\n",
       "        if (!display || display === 'none') {{\n",
       "            console.log([gd, 'removed!']);\n",
       "            Plotly.purge(gd);\n",
       "            observer.disconnect();\n",
       "        }}\n",
       "}});\n",
       "\n",
       "// Listen for the removal of the full notebook cells\n",
       "var notebookContainer = gd.closest('#notebook-container');\n",
       "if (notebookContainer) {{\n",
       "    x.observe(notebookContainer, {childList: true});\n",
       "}}\n",
       "\n",
       "// Listen for the clearing of the current output cell\n",
       "var outputEl = gd.closest('.output');\n",
       "if (outputEl) {{\n",
       "    x.observe(outputEl, {childList: true});\n",
       "}}\n",
       "\n",
       "                        })                };                });            </script>        </div>"
      ]
     },
     "metadata": {},
     "output_type": "display_data"
    }
   ],
   "source": [
    "plot_stock_trends_candlestick(a)"
   ]
  },
  {
   "cell_type": "markdown",
   "id": "61f9b94d",
   "metadata": {},
   "source": [
    "<center> <h1>BACKTESTING</h1> </center>"
   ]
  },
  {
   "cell_type": "code",
   "execution_count": 68,
   "id": "b5524591",
   "metadata": {},
   "outputs": [],
   "source": [
    "def calculate_signal(symbol, data, current_date):\n",
    "    # Slice the data up to the current date\n",
    "    current_data = data.loc[:current_date]\n",
    "    \n",
    "    # Get the latest info\n",
    "    comp = yf.Ticker(symbol)\n",
    "    info = comp.info\n",
    "    \n",
    "    curr_price = current_data['Close'].iloc[-1]\n",
    "    \n",
    "    weights = {\n",
    "        'pe': 0.3,\n",
    "        'rsi': 0.5,\n",
    "        'macd': 0.5,\n",
    "        'fib': 0.4\n",
    "    }\n",
    "    \n",
    "    # PE RATIO AND CAP ID\n",
    "    market_cap, pe, is_large_cap = pe_and_market_cap(info)\n",
    "    \n",
    "    if not is_large_cap:\n",
    "        return 0  \n",
    "    \n",
    "    if pe <= 20:\n",
    "        pe_score = 1  # Buy\n",
    "    else:\n",
    "        pe_score = -1  # Sell\n",
    "    \n",
    "    # RSI\n",
    "    r, window = rsi(current_data)\n",
    "    rsi_score, _ = analyze_rsi(r)\n",
    "    \n",
    "    # MACD\n",
    "    ma = macd(current_data)\n",
    "    macd_score, _ = interpret_macd(ma)\n",
    "    \n",
    "    # Fibonacci Retracement\n",
    "    fib = fibonacci_retracement(current_data)\n",
    "    current_price = current_data['Close'].iloc[-1]\n",
    "    prev_price = current_data['Close'].iloc[-2]\n",
    "    trend = fib['trend']\n",
    "    levels = {\n",
    "        'retracement': fib['retracement_levels'],\n",
    "        'extension': fib['extension_levels']\n",
    "    }\n",
    "    _, fib_score = fib_insight(current_price=current_price, trend=trend, levels=levels,previous_price=prev_price)\n",
    "\n",
    "    final_score = (pe_score * weights['pe']) + (rsi_score * weights['rsi']) + (macd_score * weights['macd']) + (fib_score * weights['fib'])\n",
    "    \n",
    "    return 1 if final_score > 0 else -1"
   ]
  },
  {
   "cell_type": "code",
   "execution_count": 69,
   "id": "304caf75",
   "metadata": {},
   "outputs": [],
   "source": [
    "def backtest(symbol, initial_balance=10000, holding_period=5, stop_loss=-5, take_profit=10, future_window=5):\n",
    "    # Download data\n",
    "    stock = yf.Ticker(symbol)\n",
    "    data = stock.history(period='1y', interval='1d')\n",
    "    \n",
    "    # Initialize variables\n",
    "    position = 0\n",
    "    balance = initial_balance\n",
    "    shares = 0\n",
    "    trades = []\n",
    "    good_predictions = 0\n",
    "    bad_predictions = 0\n",
    "    \n",
    "    # Iterate through each day\n",
    "    for i, current_date in enumerate(data.index[:-future_window]):\n",
    "        current_price = data.loc[current_date, 'Close']\n",
    "        \n",
    "        if len(data.loc[:current_date]) < 60:  # Skip the first 60 days to have enough data for indicators\n",
    "            continue\n",
    "        \n",
    "        # Get the signal\n",
    "        signal = calculate_signal(symbol, data, current_date)\n",
    "        \n",
    "        # Check if we need to sell due to stop loss, take profit, or holding period\n",
    "        if position == 1:\n",
    "            days_held = (current_date - trade_entry_date).days\n",
    "            price_change = (current_price - entry_price) / entry_price * 100\n",
    "            \n",
    "            if price_change <= stop_loss or price_change >= take_profit or days_held >= holding_period:\n",
    "                # Sell\n",
    "                balance += shares * current_price\n",
    "                trade_type = 'sell'\n",
    "                trades.append((trade_type, current_date, current_price, shares, balance))\n",
    "                \n",
    "                future_price = data['Close'].iloc[i + future_window]\n",
    "                if (signal == 1 and future_price > current_price) or (signal == -1 and future_price < current_price):\n",
    "                    good_predictions += 1\n",
    "                else:\n",
    "                    bad_predictions += 1\n",
    "                \n",
    "                shares = 0\n",
    "                position = 0\n",
    "        \n",
    "        # Execute trades based on signal\n",
    "        if signal == 1 and position == 0:  # Buy signal\n",
    "            shares_to_buy = balance // current_price\n",
    "            cost = shares_to_buy * current_price\n",
    "            balance -= cost\n",
    "            shares += shares_to_buy\n",
    "            position = 1\n",
    "            trade_type = 'buy'\n",
    "            trades.append((trade_type, current_date, current_price, shares_to_buy, balance))\n",
    "            entry_price = current_price\n",
    "            trade_entry_date = current_date\n",
    "            \n",
    "            # Check if the buy prediction was good\n",
    "            future_price = data['Close'].iloc[i + future_window]\n",
    "            if future_price > current_price:\n",
    "                good_predictions += 1\n",
    "            else:\n",
    "                bad_predictions += 1\n",
    "            \n",
    "        elif signal == -1 and position == 1:  # Sell signal\n",
    "            balance += shares * current_price\n",
    "            trade_type = 'sell'\n",
    "            trades.append((trade_type, current_date, current_price, shares, balance))\n",
    "            \n",
    "            # Check if the sell prediction was good\n",
    "            future_price = data['Close'].iloc[i + future_window]\n",
    "            if future_price < current_price:\n",
    "                good_predictions += 1\n",
    "            else:\n",
    "                bad_predictions += 1\n",
    "            \n",
    "            shares = 0\n",
    "            position = 0\n",
    "    \n",
    "    # Final value\n",
    "    final_balance = balance + shares * data['Close'].iloc[-1]\n",
    "    return_pct = (final_balance - initial_balance) / initial_balance * 100\n",
    "    \n",
    "    total_predictions = good_predictions + bad_predictions\n",
    "    prediction_accuracy = (good_predictions / total_predictions * 100) if total_predictions > 0 else 0\n",
    "    \n",
    "    return {\n",
    "        'final_balance': final_balance,\n",
    "        'return_pct': return_pct,\n",
    "        'trades': trades,\n",
    "        'good_predictions': good_predictions,\n",
    "        'bad_predictions': bad_predictions,\n",
    "        'prediction_accuracy': prediction_accuracy\n",
    "    }"
   ]
  },
  {
   "cell_type": "code",
   "execution_count": 104,
   "id": "f3d23284",
   "metadata": {},
   "outputs": [
    {
     "name": "stdout",
     "output_type": "stream",
     "text": [
      "\n",
      "Results for RELIANCE.NS:\n",
      "Final Balance: Rs9197.25\n",
      "Return: -8.03%\n",
      "Number of trades: 41\n",
      "Good trades: 17\n",
      "Bad trades: 24\n",
      "Accuracy: 41.46%\n",
      "\n",
      "Results for TCS.NS:\n",
      "Final Balance: Rs11302.42\n",
      "Return: 13.02%\n",
      "Number of trades: 46\n",
      "Good trades: 22\n",
      "Bad trades: 24\n",
      "Accuracy: 47.83%\n",
      "\n",
      "Results for HDFCBANK.NS:\n",
      "Final Balance: Rs9861.27\n",
      "Return: -1.39%\n",
      "Number of trades: 65\n",
      "Good trades: 37\n",
      "Bad trades: 28\n",
      "Accuracy: 56.92%\n",
      "\n",
      "Results for INFY.NS:\n",
      "Final Balance: Rs11675.03\n",
      "Return: 16.75%\n",
      "Number of trades: 42\n",
      "Good trades: 24\n",
      "Bad trades: 18\n",
      "Accuracy: 57.14%\n",
      "\n",
      "Results for HINDUNILVR.NS:\n",
      "Final Balance: Rs10580.79\n",
      "Return: 5.81%\n",
      "Number of trades: 32\n",
      "Good trades: 20\n",
      "Bad trades: 12\n",
      "Accuracy: 62.50%\n",
      "\n",
      "Results for BHARTIARTL.NS:\n",
      "Final Balance: Rs10981.39\n",
      "Return: 9.81%\n",
      "Number of trades: 47\n",
      "Good trades: 27\n",
      "Bad trades: 20\n",
      "Accuracy: 57.45%\n",
      "\n",
      "Results for ICICIBANK.NS:\n",
      "Final Balance: Rs11950.78\n",
      "Return: 19.51%\n",
      "Number of trades: 67\n",
      "Good trades: 38\n",
      "Bad trades: 29\n",
      "Accuracy: 56.72%\n",
      "\n",
      "Results for SBIN.NS:\n",
      "Final Balance: Rs11556.86\n",
      "Return: 15.57%\n",
      "Number of trades: 71\n",
      "Good trades: 40\n",
      "Bad trades: 31\n",
      "Accuracy: 56.34%\n",
      "\n",
      "Results for LICI.NS:\n",
      "Final Balance: Rs12592.82\n",
      "Return: 25.93%\n",
      "Number of trades: 81\n",
      "Good trades: 50\n",
      "Bad trades: 31\n",
      "Accuracy: 61.73%\n",
      "\n",
      "Results for ITC.NS:\n",
      "Final Balance: Rs9066.79\n",
      "Return: -9.33%\n",
      "Number of trades: 44\n",
      "Good trades: 25\n",
      "Bad trades: 19\n",
      "Accuracy: 56.82%\n"
     ]
    }
   ],
   "source": [
    "symbols = ['RELIANCE.NS','TCS.NS', 'HDFCBANK.NS', 'INFY.NS', 'HINDUNILVR.NS', 'BHARTIARTL.NS', 'ICICIBANK.NS','SBIN.NS', 'LICI.NS', 'ITC.NS'] \n",
    "results = {}\n",
    "for symbol in symbols:\n",
    "    result = backtest(symbol, future_window=26,holding_period=26, stop_loss=0)\n",
    "    results[symbol] = result\n",
    "\n",
    "# Analyze results\n",
    "for symbol, result in results.items():\n",
    "    print(f\"\\nResults for {symbol}:\")\n",
    "    print(f\"Final Balance: Rs{result['final_balance']:.2f}\")\n",
    "    print(f\"Return: {result['return_pct']:.2f}%\")\n",
    "    print(f\"Number of trades: {len(result['trades'])}\")\n",
    "    print(f\"Good trades: {result['good_predictions']}\")\n",
    "    print(f\"Bad trades: {result['bad_predictions']}\")\n",
    "    print(f\"Accuracy: {result['prediction_accuracy']:.2f}%\")"
   ]
  },
  {
   "cell_type": "code",
   "execution_count": 101,
   "id": "368182b4",
   "metadata": {},
   "outputs": [
    {
     "data": {
      "text/plain": [
       "8.726043670654299"
      ]
     },
     "execution_count": 101,
     "metadata": {},
     "output_type": "execute_result"
    }
   ],
   "source": [
    "avg26 = 0\n",
    "for i in symbols:\n",
    "    avg26 += results[i]['return_pct']\n",
    "\n",
    "avg26 /= len(symbols)\n",
    "avg26"
   ]
  },
  {
   "cell_type": "code",
   "execution_count": null,
   "id": "c73134b6",
   "metadata": {},
   "outputs": [],
   "source": [
    "8.82"
   ]
  },
  {
   "cell_type": "code",
   "execution_count": 105,
   "id": "311d857a",
   "metadata": {},
   "outputs": [
    {
     "name": "stdout",
     "output_type": "stream",
     "text": [
      "Buy on 2024-01-30 00:00:00+05:30: Price Rs 2805.73, Shares: 3.0, Balance: 1582.82\n",
      "Sell on 2024-02-02 00:00:00+05:30: Price Rs 2905.54, Shares: 3.0, Balance: 10299.43\n",
      "Buy on 2024-02-05 00:00:00+05:30: Price Rs 2868.31, Shares: 3.0, Balance: 1694.49\n",
      "Sell on 2024-02-06 00:00:00+05:30: Price Rs 2845.94, Shares: 3.0, Balance: 10232.31\n",
      "Buy on 2024-02-08 00:00:00+05:30: Price Rs 2890.44, Shares: 3.0, Balance: 1560.99\n",
      "Sell on 2024-02-12 00:00:00+05:30: Price Rs 2894.87, Shares: 3.0, Balance: 10245.62\n",
      "Buy on 2024-02-14 00:00:00+05:30: Price Rs 2952.73, Shares: 3.0, Balance: 1387.43\n",
      "Sell on 2024-02-15 00:00:00+05:30: Price Rs 2931.25, Shares: 3.0, Balance: 10181.18\n",
      "Buy on 2024-03-21 00:00:00+05:30: Price Rs 2892.13, Shares: 3.0, Balance: 1504.78\n",
      "Sell on 2024-03-26 00:00:00+05:30: Price Rs 2873.40, Shares: 3.0, Balance: 10124.98\n",
      "Buy on 2024-03-27 00:00:00+05:30: Price Rs 2975.60, Shares: 3.0, Balance: 1198.17\n",
      "Sell on 2024-03-28 00:00:00+05:30: Price Rs 2961.65, Shares: 3.0, Balance: 10083.12\n",
      "Buy on 2024-03-28 00:00:00+05:30: Price Rs 2961.65, Shares: 3.0, Balance: 1198.17\n",
      "Sell on 2024-04-01 00:00:00+05:30: Price Rs 2959.51, Shares: 3.0, Balance: 10076.69\n",
      "Buy on 2024-04-01 00:00:00+05:30: Price Rs 2959.51, Shares: 3.0, Balance: 1198.17\n",
      "Sell on 2024-04-03 00:00:00+05:30: Price Rs 2933.24, Shares: 3.0, Balance: 9997.91\n",
      "Buy on 2024-04-08 00:00:00+05:30: Price Rs 2961.90, Shares: 3.0, Balance: 1112.22\n",
      "Sell on 2024-04-09 00:00:00+05:30: Price Rs 2917.40, Shares: 3.0, Balance: 9864.41\n",
      "Buy on 2024-04-10 00:00:00+05:30: Price Rs 2949.14, Shares: 3.0, Balance: 1016.99\n",
      "Sell on 2024-04-12 00:00:00+05:30: Price Rs 2924.37, Shares: 3.0, Balance: 9790.11\n",
      "Buy on 2024-04-29 00:00:00+05:30: Price Rs 2920.14, Shares: 3.0, Balance: 1029.7\n",
      "Sell on 2024-04-30 00:00:00+05:30: Price Rs 2924.08, Shares: 3.0, Balance: 9801.92\n",
      "Buy on 2024-05-14 00:00:00+05:30: Price Rs 2830.54, Shares: 3.0, Balance: 1310.29\n",
      "Sell on 2024-05-15 00:00:00+05:30: Price Rs 2822.97, Shares: 3.0, Balance: 9779.2\n",
      "Buy on 2024-05-16 00:00:00+05:30: Price Rs 2841.06, Shares: 3.0, Balance: 1256.03\n",
      "Sell on 2024-05-29 00:00:00+05:30: Price Rs 2871.80, Shares: 3.0, Balance: 9871.44\n",
      "Buy on 2024-05-31 00:00:00+05:30: Price Rs 2851.12, Shares: 3.0, Balance: 1318.07\n",
      "Sell on 2024-06-04 00:00:00+05:30: Price Rs 2785.10, Shares: 3.0, Balance: 9673.36\n",
      "Buy on 2024-06-07 00:00:00+05:30: Price Rs 2929.96, Shares: 3.0, Balance: 883.49\n",
      "Sell on 2024-06-11 00:00:00+05:30: Price Rs 2903.50, Shares: 3.0, Balance: 9593.98\n",
      "Buy on 2024-06-11 00:00:00+05:30: Price Rs 2903.50, Shares: 3.0, Balance: 883.49\n",
      "Sell on 2024-06-19 00:00:00+05:30: Price Rs 2907.43, Shares: 3.0, Balance: 9605.79\n",
      "Buy on 2024-06-20 00:00:00+05:30: Price Rs 2937.43, Shares: 3.0, Balance: 793.5\n",
      "Sell on 2024-06-21 00:00:00+05:30: Price Rs 2898.56, Shares: 3.0, Balance: 9489.19\n",
      "Buy on 2024-06-26 00:00:00+05:30: Price Rs 3017.81, Shares: 3.0, Balance: 435.76\n",
      "Sell on 2024-07-11 00:00:00+05:30: Price Rs 3150.61, Shares: 3.0, Balance: 9887.58\n",
      "Buy on 2024-07-12 00:00:00+05:30: Price Rs 3182.65, Shares: 3.0, Balance: 339.64\n",
      "Sell on 2024-07-15 00:00:00+05:30: Price Rs 3183.64, Shares: 3.0, Balance: 9890.57\n",
      "Buy on 2024-08-09 00:00:00+05:30: Price Rs 2938.63, Shares: 3.0, Balance: 1074.69\n",
      "Sell on 2024-08-12 00:00:00+05:30: Price Rs 2911.37, Shares: 3.0, Balance: 9808.8\n",
      "Buy on 2024-08-16 00:00:00+05:30: Price Rs 2946.40, Shares: 3.0, Balance: 969.6\n"
     ]
    }
   ],
   "source": [
    "for trade in results['RELIANCE.NS']['trades']:\n",
    "            print(f\"{trade[0].capitalize()} on {trade[1]}: Price Rs {trade[2]:.2f}, Shares: {trade[3]}, Balance: {round(trade[4],2)}\")"
   ]
  },
  {
   "cell_type": "code",
   "execution_count": 94,
   "id": "4464c38f",
   "metadata": {},
   "outputs": [],
   "source": [
    "avg26 = 0\n",
    "for i in symbols:\n",
    "    avg26 += results[i]['prediction_accuracy']"
   ]
  },
  {
   "cell_type": "code",
   "execution_count": 95,
   "id": "74d4202d",
   "metadata": {},
   "outputs": [],
   "source": [
    "avg26 /= len(symbols)"
   ]
  },
  {
   "cell_type": "code",
   "execution_count": 96,
   "id": "1c2789b8",
   "metadata": {},
   "outputs": [
    {
     "data": {
      "text/plain": [
       "48.29285109916386"
      ]
     },
     "execution_count": 96,
     "metadata": {},
     "output_type": "execute_result"
    }
   ],
   "source": [
    "avg26 "
   ]
  },
  {
   "cell_type": "code",
   "execution_count": 41,
   "id": "ec02061f",
   "metadata": {},
   "outputs": [],
   "source": [
    "avg12 = 57.58 + 51.85 + 45.76 + 53.33 + 55.56"
   ]
  },
  {
   "cell_type": "code",
   "execution_count": 42,
   "id": "fc2a89a9",
   "metadata": {},
   "outputs": [],
   "source": [
    "avg12 /= 5"
   ]
  },
  {
   "cell_type": "code",
   "execution_count": 43,
   "id": "def27151",
   "metadata": {},
   "outputs": [
    {
     "data": {
      "text/plain": [
       "52.815999999999995"
      ]
     },
     "execution_count": 43,
     "metadata": {},
     "output_type": "execute_result"
    }
   ],
   "source": [
    "avg12  #Loss in 4 out of 5 stock. "
   ]
  },
  {
   "cell_type": "code",
   "execution_count": 45,
   "id": "a20d0005",
   "metadata": {},
   "outputs": [
    {
     "data": {
      "text/plain": [
       "51.56764906919706"
      ]
     },
     "execution_count": 45,
     "metadata": {},
     "output_type": "execute_result"
    }
   ],
   "source": [
    "avg5 = 0\n",
    "for i in symbols:\n",
    "    avg5 += results[i]['prediction_accuracy']\n",
    "    \n",
    "avg5 /= 5\n",
    "avg5 # Loss in 2 out of 5 stocks. The profits are low and are nearly around 2.5%"
   ]
  },
  {
   "cell_type": "code",
   "execution_count": null,
   "id": "a31cceb2",
   "metadata": {},
   "outputs": [],
   "source": []
  }
 ],
 "metadata": {
  "kernelspec": {
   "display_name": "Python 3 (ipykernel)",
   "language": "python",
   "name": "python3"
  },
  "language_info": {
   "codemirror_mode": {
    "name": "ipython",
    "version": 3
   },
   "file_extension": ".py",
   "mimetype": "text/x-python",
   "name": "python",
   "nbconvert_exporter": "python",
   "pygments_lexer": "ipython3",
   "version": "3.11.7"
  }
 },
 "nbformat": 4,
 "nbformat_minor": 5
}
