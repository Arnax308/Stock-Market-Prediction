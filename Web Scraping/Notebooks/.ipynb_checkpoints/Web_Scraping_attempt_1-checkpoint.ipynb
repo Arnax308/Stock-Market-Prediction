{
 "cells": [
  {
   "cell_type": "markdown",
   "metadata": {},
   "source": [
    "<font size=3.5>My Intial Attempt at doing Web Scrapping, this failed cus I was getting some headlines which had no corresponding articles for it."
   ]
  },
  {
   "cell_type": "code",
   "execution_count": null,
   "metadata": {
    "colab": {
     "base_uri": "https://localhost:8080/"
    },
    "id": "uQLMrY2klgoi",
    "outputId": "7bdcd736-d2d7-49d9-f2b2-f69e780cf08c"
   },
   "outputs": [
    {
     "name": "stdout",
     "output_type": "stream",
     "text": [
      "Requirement already satisfied: beautifulsoup4 in /usr/local/lib/python3.10/dist-packages (4.12.3)\n",
      "Requirement already satisfied: requests in /usr/local/lib/python3.10/dist-packages (2.31.0)\n",
      "Requirement already satisfied: soupsieve>1.2 in /usr/local/lib/python3.10/dist-packages (from beautifulsoup4) (2.5)\n",
      "Requirement already satisfied: charset-normalizer<4,>=2 in /usr/local/lib/python3.10/dist-packages (from requests) (3.3.2)\n",
      "Requirement already satisfied: idna<4,>=2.5 in /usr/local/lib/python3.10/dist-packages (from requests) (3.7)\n",
      "Requirement already satisfied: urllib3<3,>=1.21.1 in /usr/local/lib/python3.10/dist-packages (from requests) (2.0.7)\n",
      "Requirement already satisfied: certifi>=2017.4.17 in /usr/local/lib/python3.10/dist-packages (from requests) (2024.6.2)\n"
     ]
    }
   ],
   "source": [
    "!pip install beautifulsoup4 requests"
   ]
  },
  {
   "cell_type": "code",
   "execution_count": null,
   "metadata": {
    "colab": {
     "base_uri": "https://localhost:8080/"
    },
    "collapsed": true,
    "id": "a7sX9VcI_J6-",
    "outputId": "06e8e616-ef98-4c24-e397-055ac1bfbb83"
   },
   "outputs": [
    {
     "name": "stdout",
     "output_type": "stream",
     "text": [
      "No article content found.\n",
      "No article content found.\n",
      "No article content found.\n",
      "No article content found.\n",
      "No article content found.\n",
      "No article content found.\n",
      "No article content found.\n",
      "No article content found.\n",
      "No article content found.\n",
      "No article content found.\n",
      "No article content found.\n",
      "No article content found.\n",
      "No article content found.\n",
      "No article content found.\n",
      "No article content found.\n",
      "No article content found.\n",
      "No article content found.\n",
      "No article content found.\n",
      "No article content found.\n",
      "No article content found.\n",
      "No article content found.\n",
      "No article content found.\n",
      "No article content found.\n",
      "No article content found.\n",
      "No article content found.\n",
      "No article content found.\n",
      "No article content found.\n",
      "No article content found.\n",
      "No article content found.\n",
      "No article content found.\n",
      "No article content found.\n",
      "No article content found.\n",
      "No article content found.\n",
      "No article content found.\n",
      "No article content found.\n",
      "No article content found.\n",
      "No article content found.\n",
      "No article content found.\n",
      "No article content found.\n",
      "No article content found.\n",
      "No article content found.\n",
      "No article content found.\n",
      "No article content found.\n",
      "No article content found.\n",
      "No article content found.\n",
      "No article content found.\n",
      "No article content found.\n",
      "No article content found.\n",
      "No article content found.\n",
      "No article content found.\n",
      "No article content found.\n",
      "No article content found.\n",
      "No article content found.\n",
      "No article content found.\n",
      "No article content found.\n",
      "No article content found.\n",
      "No article content found.\n",
      "No article content found.\n",
      "No article content found.\n",
      "No article content found.\n",
      "No article content found.\n",
      "No article content found.\n",
      "No article content found.\n",
      "No article content found.\n",
      "No article content found.\n",
      "No article content found.\n",
      "No article content found.\n",
      "No article content found.\n",
      "No article content found.\n",
      "No article content found.\n",
      "No article content found.\n",
      "No article content found.\n",
      "No article content found.\n",
      "No article content found.\n",
      "No article content found.\n",
      "No article content found.\n",
      "No article content found.\n",
      "No article content found.\n",
      "No article content found.\n",
      "No article content found.\n",
      "No article content found.\n",
      "No article content found.\n",
      "No article content found.\n",
      "No article content found.\n",
      "No article content found.\n",
      "No article content found.\n",
      "No article content found.\n",
      "No article content found.\n",
      "No article content found.\n",
      "No article content found.\n",
      "No article content found.\n",
      "No article content found.\n",
      "No article content found.\n",
      "No article content found.\n",
      "No article content found.\n",
      "No article content found.\n",
      "No article content found.\n",
      "No article content found.\n",
      "No article content found.\n",
      "No article content found.\n",
      "No article content found.\n",
      "No article content found.\n",
      "No article content found.\n",
      "Redirect encountered for URL: https://www.moneycontrol.com/news/videos/business/markets/business-round-up-ola-electric-gets-sebis-approval-for-%e2%82%b9-7250-crore-ipo-jubilant-foodworks-gains-12746743.html\n",
      "Redirect encountered for URL: https://www.moneycontrol.com/news/videos/business/markets/business-round-up-ola-electric-gets-sebis-approval-for-%e2%82%b9-7250-crore-ipo-jubilant-foodworks-gains-12746743.html\n",
      "No article content found.\n",
      "No article content found.\n",
      "No article content found.\n",
      "Total Headlines: 600\n",
      "Total Articles: 492\n"
     ]
    }
   ],
   "source": [
    "import requests\n",
    "from bs4 import BeautifulSoup\n",
    "\n",
    "base_url = 'https://www.moneycontrol.com/news/business/companies/page-{}/'\n",
    "num_pages = 10  # Number of pages to scrape\n",
    "\n",
    "head = []  # List to store headlines\n",
    "entire_art = []  # List to store article content\n",
    "\n",
    "for page_num in range(1, num_pages + 1):\n",
    "    url = base_url.format(page_num)\n",
    "    response = requests.get(url)\n",
    "    soup = BeautifulSoup(response.text, 'html.parser')\n",
    "\n",
    "    # Find the div with id 'left' and class 'fleft'\n",
    "    div_left = soup.find('div', {'id': 'left', 'class': 'fleft'})\n",
    "\n",
    "    if div_left:\n",
    "        # Find the ul with id 'cagetory' within div_left\n",
    "        ul_category = div_left.find('ul', id='cagetory')\n",
    "\n",
    "        if ul_category:\n",
    "            # Extract all the <a> tags within ul_category\n",
    "            headlines = ul_category.find_all('a')\n",
    "\n",
    "            for headline in headlines:\n",
    "                headline_text = headline.text.strip()\n",
    "                article_url = headline['href']\n",
    "                head.append(headline_text)\n",
    "\n",
    "                try:\n",
    "                    # Fetch the article content with limited redirects\n",
    "                    article_response = requests.get(article_url, allow_redirects=False)\n",
    "\n",
    "                    # Check if redirected and handle accordingly\n",
    "                    if article_response.is_redirect or article_response.is_permanent_redirect:\n",
    "                        print(f\"Redirect encountered for URL: {article_url}\")\n",
    "                        continue\n",
    "\n",
    "                    if article_response.status_code == 200:\n",
    "                        article_soup = BeautifulSoup(article_response.text, 'html.parser')\n",
    "\n",
    "                        # Assuming the article content is within a div with class 'arti-flow'\n",
    "                        article_div = article_soup.find('div', class_='arti-flow')\n",
    "\n",
    "                        if article_div:\n",
    "                            # Extract the paragraphs within the article div\n",
    "                            paragraphs = article_div.find_all('p')\n",
    "                            article_content = ' '.join([para.text for para in paragraphs])\n",
    "                            entire_art.append(article_content)\n",
    "                        else:\n",
    "                            print(\"No article content found.\")\n",
    "                    else:\n",
    "                        print(f\"Failed to fetch article for URL: {article_url} with status code {article_response.status_code}\")\n",
    "\n",
    "                except requests.exceptions.TooManyRedirects:\n",
    "                    print(f\"Too many redirects for URL: {article_url}\")\n",
    "                    continue\n",
    "                except requests.exceptions.RequestException as e:\n",
    "                    print(f\"Request failed for URL: {article_url} with exception: {e}\")\n",
    "                    continue\n",
    "\n",
    "        else:\n",
    "            print(f\"No <ul> with id 'cagetory' found on page {page_num}.\")\n",
    "    else:\n",
    "        print(f\"No <div> with id 'left' and class 'fleft' found on page {page_num}.\")\n",
    "\n",
    "print(f\"Total Headlines: {len(head)}\")\n",
    "print(f\"Total Articles: {len(entire_art)}\")"
   ]
  },
  {
   "cell_type": "code",
   "execution_count": null,
   "metadata": {
    "colab": {
     "base_uri": "https://localhost:8080/"
    },
    "id": "XWl9aknhS8tQ",
    "outputId": "a498f7c3-261d-4c96-8950-7d66256daf18"
   },
   "outputs": [
    {
     "data": {
      "text/plain": [
       "(250, 100)"
      ]
     },
     "execution_count": 32,
     "metadata": {},
     "output_type": "execute_result"
    }
   ],
   "source": [
    "head.count(''), head.count('Remove Ad')"
   ]
  },
  {
   "cell_type": "code",
   "execution_count": null,
   "metadata": {
    "colab": {
     "base_uri": "https://localhost:8080/"
    },
    "id": "2Lf1bhT1TGXF",
    "outputId": "9bae94ca-faf0-47f7-c286-70f2dc2d9ae8"
   },
   "outputs": [
    {
     "data": {
      "text/plain": [
       "250"
      ]
     },
     "execution_count": 33,
     "metadata": {},
     "output_type": "execute_result"
    }
   ],
   "source": [
    "600 - 350 #We still have 4 extras, wot??"
   ]
  },
  {
   "cell_type": "code",
   "execution_count": null,
   "metadata": {
    "id": "aGkV313aOb8q"
   },
   "outputs": [],
   "source": [
    "entire_art = entire_art[::2]"
   ]
  },
  {
   "cell_type": "code",
   "execution_count": null,
   "metadata": {
    "id": "YW5GpkBj7Q04"
   },
   "outputs": [],
   "source": [
    "for empty_str in head:\n",
    "  if empty_str == '':\n",
    "    head.remove(empty_str)"
   ]
  },
  {
   "cell_type": "code",
   "execution_count": null,
   "metadata": {
    "colab": {
     "base_uri": "https://localhost:8080/"
    },
    "id": "fwkE3AdC9_Jh",
    "outputId": "cf0cdc5a-dcf9-4a20-8bb5-3aa1a6492235"
   },
   "outputs": [
    {
     "data": {
      "text/plain": [
       "0"
      ]
     },
     "execution_count": 40,
     "metadata": {},
     "output_type": "execute_result"
    }
   ],
   "source": [
    "head.count('')"
   ]
  },
  {
   "cell_type": "code",
   "execution_count": null,
   "metadata": {
    "id": "lWij2Lh87pqT"
   },
   "outputs": [],
   "source": [
    "for empty_str in head:\n",
    "  if empty_str == 'Remove Ad':\n",
    "    head.remove(empty_str)"
   ]
  },
  {
   "cell_type": "code",
   "execution_count": null,
   "metadata": {
    "colab": {
     "base_uri": "https://localhost:8080/"
    },
    "id": "MyFL0sQU-iO4",
    "outputId": "14778259-bbbf-4b29-8e88-507d4d6fd958"
   },
   "outputs": [
    {
     "data": {
      "text/plain": [
       "0"
      ]
     },
     "execution_count": 46,
     "metadata": {},
     "output_type": "execute_result"
    }
   ],
   "source": [
    "head.count('Remove Ad')"
   ]
  },
  {
   "cell_type": "code",
   "execution_count": null,
   "metadata": {
    "id": "uHxg110e9umh"
   },
   "outputs": [],
   "source": [
    "with open('ult_head_extra3_2.txt', 'w') as f:\n",
    "    for headline in head:\n",
    "        f.write(headline + '\\n')"
   ]
  },
  {
   "cell_type": "code",
   "execution_count": null,
   "metadata": {
    "id": "F4NWq9nY_EgS"
   },
   "outputs": [],
   "source": [
    "with open('ult_art_extra3_2.txt', 'w') as f:\n",
    "    for article in entire_art:\n",
    "        f.write(article + '\\n')"
   ]
  },
  {
   "cell_type": "code",
   "execution_count": null,
   "metadata": {
    "colab": {
     "base_uri": "https://localhost:8080/"
    },
    "id": "d3eX2O6NTMdt",
    "outputId": "caa4e623-6a4c-4eeb-8451-46aefa509088"
   },
   "outputs": [
    {
     "data": {
      "text/plain": [
       "(250, 246)"
      ]
     },
     "execution_count": 52,
     "metadata": {},
     "output_type": "execute_result"
    }
   ],
   "source": [
    "len(head), len(entire_art)"
   ]
  },
  {
   "cell_type": "code",
   "execution_count": null,
   "metadata": {
    "id": "Ma-c8jWoazQr"
   },
   "outputs": [],
   "source": [
    "from collections import Counter"
   ]
  },
  {
   "cell_type": "code",
   "execution_count": null,
   "metadata": {
    "id": "d9RGxcs3a-1U"
   },
   "outputs": [],
   "source": [
    "a = Counter(head)"
   ]
  },
  {
   "cell_type": "code",
   "execution_count": null,
   "metadata": {
    "id": "1tylz2wbbNjw"
   },
   "outputs": [],
   "source": [
    "for k, v in a.items():\n",
    "  if v == 2:\n",
    "    print(k)"
   ]
  },
  {
   "cell_type": "code",
   "execution_count": null,
   "metadata": {
    "id": "vEgfMCSXegJo"
   },
   "outputs": [],
   "source": [
    "d = dict()\n",
    "d['Headlines'] = head\n",
    "d['Articles'] = entire_art"
   ]
  },
  {
   "cell_type": "code",
   "execution_count": null,
   "metadata": {
    "id": "ZQntnA1_bW39"
   },
   "outputs": [],
   "source": [
    "import pandas as pd"
   ]
  },
  {
   "cell_type": "code",
   "execution_count": null,
   "metadata": {
    "colab": {
     "base_uri": "https://localhost:8080/",
     "height": 423
    },
    "id": "nc4N6PRSc4jB",
    "outputId": "479c270a-dec0-47a2-e8d0-a9c2e96359ae"
   },
   "outputs": [
    {
     "data": {
      "application/vnd.google.colaboratory.intrinsic+json": {
       "summary": "{\n  \"name\": \"pd\",\n  \"rows\": 250,\n  \"fields\": [\n    {\n      \"column\": \"Headlines\",\n      \"properties\": {\n        \"dtype\": \"string\",\n        \"num_unique_values\": 250,\n        \"samples\": [\n          \"Thangamayil Jewellery: Why this stock will continue to shine\",\n          \"Welspun One raises Rs 2,275 crore for second fund to build warehousing assets\",\n          \"Infosys CEO Parekh pays Rs 25 lakh to SEBI for failing to have adequate controls to prevent insider trading\"\n        ],\n        \"semantic_type\": \"\",\n        \"description\": \"\"\n      }\n    },\n    {\n      \"column\": \"Articles\",\n      \"properties\": {\n        \"dtype\": \"string\",\n        \"num_unique_values\": 247,\n        \"samples\": [\n          \"Bharat Foxconn International Holding (FIH) is\\u00a0considering closing its unit in Andhra Pradesh\\u2019s Siri City following a sharp drop in orders from key client Xiaomi, the Economic Times has reported, the latest trouble for the electronics manufacturer. The Foxconn group company was already in trouble after the exit of three independent directors in the past three months.\\u00a0InterGlobe Aviation chairman Venkataramani Sumantran, Sify Technologies cofounder Ramaraj R and former IT and telecom secretary Aruna Sundararajan cited a lack of clarity in the company's direction as the reason for their departures. Bharat FIH has struggled to diversify beyond Chinese smartphone maker Xiaomi, failing to compete effectively with rivals like home-grown Dixon Technologies, which has benefitted from the production-linked incentive (PLI) scheme, the report said. Moneycontrol couldn\\u2019t verify the report independently. The company\\u2019s inability to pivot quickly to other sectors exacerbated its woes, particularly as Xiaomi faces regulatory challenges in India, the report said. Foxconn is expanding its India operations, notably in iPhone production, through other subsidiaries. However, Bharat FIH has not benefitted much from this expansion. Bharat FIH has been hit by Xiaomi diversifying its manufacturing partners. It has promoted the firm to consolidate operations at its Sriperumbudur facility, which now focuses on diverse segments such as telecom equipment, EV components and displays. \\u00a0\\n       \",\n          \"Welspun One has raised Rs 2,275 crore from investors for its second fund and would use the capital to develop warehousing properties. Welspun One, an integrated fund and development management platform, on Monday announced the successful closure of its second fund totalling Rs 2,275 crores, inclusive of co-investment commitments. This marks the largest domestic fundraise in this space, the company claimed. The capital was sourced from a diverse pool of about 800 Limited Partners (LPs) or investors, including high-net-worth and ultra-high-net-worth individuals, family offices, corporates, and domestic institutions. Welspun One's second fund has already committed nearly 40 per cent of its investible capital across four investments. It expects to commit the remaining capital over the next 3-4 quarters. This will add 8 million square feet to Welspun One's existing portfolio of 10 million square feet, taking their aggregate portfolio to around 18 million square feet, entailing a total project outlay of around USD 1 billion. Welspun One's focus for fund 2 is on new-age warehousing assets, such as urban distribution centres, cold chain, agro logistics, and port and airport-based logistics, the statement said. Balkrishan Goenka, Chairman of Welspun World, said, \\\"Our commitment to advancing critical logistics infrastructure is in perfect alignment with India's strategic objective of reducing logistics costs from 14 per cent to 8 per cent, thereby enhancing the global competitiveness of our industries.\\\" By making investments in essential infrastructure, he said the fund aims to streamline logistics operations and stimulate industrial growth. Anshul Singhal, Managing Director, Welspun One, said, \\\"Embarking on the exploration of new-age warehousing assets represents an exciting journey for us at Welspun One. Our progress has been remarkable, having successfully established a well-capitalized platform poised to achieve an AUM of over USD 1 billion.\\\" Welspun One had raised Rs 500 crore in its first fund. Till date, Welspun One's first fund is fully committed with six investments, aggregating to a development potential of 7.2 million square feet across 300 acres of land in five cities. Currently, about 50 per cent of this is already delivered, with the remaining 50 per cent scheduled for delivery over the next 4-6 quarters. The portfolio includes clients such as Tata Croma, Delhivery, FM Logistics, Asian Paints, and Ecom Express, amongst others. Welspun One is the warehousing platform of the USD 5 billion global conglomerate Welspun World, which is one of India's fastest-growing multinationals with a leadership position in line pipes, home textiles, infrastructure, advanced textiles, and flooring solutions.\\n       \",\n          \"Zee Entertainment Enterprises Limited (ZEEL) on June 17 said that it has appointed Mukund Galgali as the acting chief financial officer (CFO) of the company after its current CFO Rohit Kumar Gupta decided to step down from his position due to personal reasons. Galgali has been with the ZEE group for more than 17 years and is currently leading the Commercial & Strategic Initiatives of the company. He will take charge as the interim CFO from June 19, 2024. Galgali, who is a Chartered Accountant, and a Company Secretary, has over 27 years of Global Financial and Corporate leadership experience. Zee mentioned that as a member of the leadership team, he has been providing strategic consulting advice on business planning and performance, regulatory and tax implications on business, process innovations and management controls etc. to improve business efficiency and value creation for shareholders. Meanwhile, shares of ZEE on June 17 closed nearly 2 percent lower at Rs\\u00a0160.85 apiece on BSE. Recently, the media company has announced a slew of measures to cut costs and reduce losses in its business, including cutting 15 percent of its workforce. It has announced a remodel of the company's leadership structure. In the recent fourth quarter, Zee reported a profit of Rs 13.35 crore against a loss a year ago, helped by strong demand for advertising and a fall in expenses. Domestic advertising revenue for the quarter rose nearly 11% year-on-year (YoY), driven by the continued recovery in the macro advertising environment and spending pickup by FMCG (fast-moving consumer goods) clients.\\n       \"\n        ],\n        \"semantic_type\": \"\",\n        \"description\": \"\"\n      }\n    }\n  ]\n}",
       "type": "dataframe"
      },
      "text/html": [
       "\n",
       "  <div id=\"df-a02ce91a-122c-4929-b662-83d0f037c770\" class=\"colab-df-container\">\n",
       "    <div>\n",
       "<style scoped>\n",
       "    .dataframe tbody tr th:only-of-type {\n",
       "        vertical-align: middle;\n",
       "    }\n",
       "\n",
       "    .dataframe tbody tr th {\n",
       "        vertical-align: top;\n",
       "    }\n",
       "\n",
       "    .dataframe thead th {\n",
       "        text-align: right;\n",
       "    }\n",
       "</style>\n",
       "<table border=\"1\" class=\"dataframe\">\n",
       "  <thead>\n",
       "    <tr style=\"text-align: right;\">\n",
       "      <th></th>\n",
       "      <th>Headlines</th>\n",
       "      <th>Articles</th>\n",
       "    </tr>\n",
       "  </thead>\n",
       "  <tbody>\n",
       "    <tr>\n",
       "      <th>0</th>\n",
       "      <td>Bharat Petroleum among eight bidders for Sri L...</td>\n",
       "      <td>Vitol Asia and Bharat Petroleum are among eigh...</td>\n",
       "    </tr>\n",
       "    <tr>\n",
       "      <th>1</th>\n",
       "      <td>Southwest Air names aviation industry veteran ...</td>\n",
       "      <td>Southwest Airlines Co., which is facing demand...</td>\n",
       "    </tr>\n",
       "    <tr>\n",
       "      <th>2</th>\n",
       "      <td>Tata a step closer to merging four group airli...</td>\n",
       "      <td>Tata Group airlines on 8 July announced that i...</td>\n",
       "    </tr>\n",
       "    <tr>\n",
       "      <th>3</th>\n",
       "      <td>Mercedes-Benz India posts record half-yearly s...</td>\n",
       "      <td>German luxury carmaker Mercedes-Benz on Monday...</td>\n",
       "    </tr>\n",
       "    <tr>\n",
       "      <th>4</th>\n",
       "      <td>MAN Industries gets Rs 1,850 crore order from ...</td>\n",
       "      <td>MAN Industries on Monday said it has secured a...</td>\n",
       "    </tr>\n",
       "    <tr>\n",
       "      <th>...</th>\n",
       "      <td>...</td>\n",
       "      <td>...</td>\n",
       "    </tr>\n",
       "    <tr>\n",
       "      <th>245</th>\n",
       "      <td>Hinduja scion in Swiss human-trafficking trial...</td>\n",
       "      <td>The NBCC India stock surged more than 9 percen...</td>\n",
       "    </tr>\n",
       "    <tr>\n",
       "      <th>246</th>\n",
       "      <td>BL Kashyap receives two orders worth Rs 1,021 ...</td>\n",
       "      <td></td>\n",
       "    </tr>\n",
       "    <tr>\n",
       "      <th>247</th>\n",
       "      <td>Elon Musk warns he will ban iPhones, MacBooks ...</td>\n",
       "      <td></td>\n",
       "    </tr>\n",
       "    <tr>\n",
       "      <th>248</th>\n",
       "      <td>Ixigo IPO: Peak XV heads for 14th public marke...</td>\n",
       "      <td></td>\n",
       "    </tr>\n",
       "    <tr>\n",
       "      <th>249</th>\n",
       "      <td>NBCC India shares jump 9% on orders worth Rs 8...</td>\n",
       "      <td></td>\n",
       "    </tr>\n",
       "  </tbody>\n",
       "</table>\n",
       "<p>250 rows × 2 columns</p>\n",
       "</div>\n",
       "    <div class=\"colab-df-buttons\">\n",
       "\n",
       "  <div class=\"colab-df-container\">\n",
       "    <button class=\"colab-df-convert\" onclick=\"convertToInteractive('df-a02ce91a-122c-4929-b662-83d0f037c770')\"\n",
       "            title=\"Convert this dataframe to an interactive table.\"\n",
       "            style=\"display:none;\">\n",
       "\n",
       "  <svg xmlns=\"http://www.w3.org/2000/svg\" height=\"24px\" viewBox=\"0 -960 960 960\">\n",
       "    <path d=\"M120-120v-720h720v720H120Zm60-500h600v-160H180v160Zm220 220h160v-160H400v160Zm0 220h160v-160H400v160ZM180-400h160v-160H180v160Zm440 0h160v-160H620v160ZM180-180h160v-160H180v160Zm440 0h160v-160H620v160Z\"/>\n",
       "  </svg>\n",
       "    </button>\n",
       "\n",
       "  <style>\n",
       "    .colab-df-container {\n",
       "      display:flex;\n",
       "      gap: 12px;\n",
       "    }\n",
       "\n",
       "    .colab-df-convert {\n",
       "      background-color: #E8F0FE;\n",
       "      border: none;\n",
       "      border-radius: 50%;\n",
       "      cursor: pointer;\n",
       "      display: none;\n",
       "      fill: #1967D2;\n",
       "      height: 32px;\n",
       "      padding: 0 0 0 0;\n",
       "      width: 32px;\n",
       "    }\n",
       "\n",
       "    .colab-df-convert:hover {\n",
       "      background-color: #E2EBFA;\n",
       "      box-shadow: 0px 1px 2px rgba(60, 64, 67, 0.3), 0px 1px 3px 1px rgba(60, 64, 67, 0.15);\n",
       "      fill: #174EA6;\n",
       "    }\n",
       "\n",
       "    .colab-df-buttons div {\n",
       "      margin-bottom: 4px;\n",
       "    }\n",
       "\n",
       "    [theme=dark] .colab-df-convert {\n",
       "      background-color: #3B4455;\n",
       "      fill: #D2E3FC;\n",
       "    }\n",
       "\n",
       "    [theme=dark] .colab-df-convert:hover {\n",
       "      background-color: #434B5C;\n",
       "      box-shadow: 0px 1px 3px 1px rgba(0, 0, 0, 0.15);\n",
       "      filter: drop-shadow(0px 1px 2px rgba(0, 0, 0, 0.3));\n",
       "      fill: #FFFFFF;\n",
       "    }\n",
       "  </style>\n",
       "\n",
       "    <script>\n",
       "      const buttonEl =\n",
       "        document.querySelector('#df-a02ce91a-122c-4929-b662-83d0f037c770 button.colab-df-convert');\n",
       "      buttonEl.style.display =\n",
       "        google.colab.kernel.accessAllowed ? 'block' : 'none';\n",
       "\n",
       "      async function convertToInteractive(key) {\n",
       "        const element = document.querySelector('#df-a02ce91a-122c-4929-b662-83d0f037c770');\n",
       "        const dataTable =\n",
       "          await google.colab.kernel.invokeFunction('convertToInteractive',\n",
       "                                                    [key], {});\n",
       "        if (!dataTable) return;\n",
       "\n",
       "        const docLinkHtml = 'Like what you see? Visit the ' +\n",
       "          '<a target=\"_blank\" href=https://colab.research.google.com/notebooks/data_table.ipynb>data table notebook</a>'\n",
       "          + ' to learn more about interactive tables.';\n",
       "        element.innerHTML = '';\n",
       "        dataTable['output_type'] = 'display_data';\n",
       "        await google.colab.output.renderOutput(dataTable, element);\n",
       "        const docLink = document.createElement('div');\n",
       "        docLink.innerHTML = docLinkHtml;\n",
       "        element.appendChild(docLink);\n",
       "      }\n",
       "    </script>\n",
       "  </div>\n",
       "\n",
       "\n",
       "<div id=\"df-fd9a8147-b491-4e31-816b-596f42b87ff6\">\n",
       "  <button class=\"colab-df-quickchart\" onclick=\"quickchart('df-fd9a8147-b491-4e31-816b-596f42b87ff6')\"\n",
       "            title=\"Suggest charts\"\n",
       "            style=\"display:none;\">\n",
       "\n",
       "<svg xmlns=\"http://www.w3.org/2000/svg\" height=\"24px\"viewBox=\"0 0 24 24\"\n",
       "     width=\"24px\">\n",
       "    <g>\n",
       "        <path d=\"M19 3H5c-1.1 0-2 .9-2 2v14c0 1.1.9 2 2 2h14c1.1 0 2-.9 2-2V5c0-1.1-.9-2-2-2zM9 17H7v-7h2v7zm4 0h-2V7h2v10zm4 0h-2v-4h2v4z\"/>\n",
       "    </g>\n",
       "</svg>\n",
       "  </button>\n",
       "\n",
       "<style>\n",
       "  .colab-df-quickchart {\n",
       "      --bg-color: #E8F0FE;\n",
       "      --fill-color: #1967D2;\n",
       "      --hover-bg-color: #E2EBFA;\n",
       "      --hover-fill-color: #174EA6;\n",
       "      --disabled-fill-color: #AAA;\n",
       "      --disabled-bg-color: #DDD;\n",
       "  }\n",
       "\n",
       "  [theme=dark] .colab-df-quickchart {\n",
       "      --bg-color: #3B4455;\n",
       "      --fill-color: #D2E3FC;\n",
       "      --hover-bg-color: #434B5C;\n",
       "      --hover-fill-color: #FFFFFF;\n",
       "      --disabled-bg-color: #3B4455;\n",
       "      --disabled-fill-color: #666;\n",
       "  }\n",
       "\n",
       "  .colab-df-quickchart {\n",
       "    background-color: var(--bg-color);\n",
       "    border: none;\n",
       "    border-radius: 50%;\n",
       "    cursor: pointer;\n",
       "    display: none;\n",
       "    fill: var(--fill-color);\n",
       "    height: 32px;\n",
       "    padding: 0;\n",
       "    width: 32px;\n",
       "  }\n",
       "\n",
       "  .colab-df-quickchart:hover {\n",
       "    background-color: var(--hover-bg-color);\n",
       "    box-shadow: 0 1px 2px rgba(60, 64, 67, 0.3), 0 1px 3px 1px rgba(60, 64, 67, 0.15);\n",
       "    fill: var(--button-hover-fill-color);\n",
       "  }\n",
       "\n",
       "  .colab-df-quickchart-complete:disabled,\n",
       "  .colab-df-quickchart-complete:disabled:hover {\n",
       "    background-color: var(--disabled-bg-color);\n",
       "    fill: var(--disabled-fill-color);\n",
       "    box-shadow: none;\n",
       "  }\n",
       "\n",
       "  .colab-df-spinner {\n",
       "    border: 2px solid var(--fill-color);\n",
       "    border-color: transparent;\n",
       "    border-bottom-color: var(--fill-color);\n",
       "    animation:\n",
       "      spin 1s steps(1) infinite;\n",
       "  }\n",
       "\n",
       "  @keyframes spin {\n",
       "    0% {\n",
       "      border-color: transparent;\n",
       "      border-bottom-color: var(--fill-color);\n",
       "      border-left-color: var(--fill-color);\n",
       "    }\n",
       "    20% {\n",
       "      border-color: transparent;\n",
       "      border-left-color: var(--fill-color);\n",
       "      border-top-color: var(--fill-color);\n",
       "    }\n",
       "    30% {\n",
       "      border-color: transparent;\n",
       "      border-left-color: var(--fill-color);\n",
       "      border-top-color: var(--fill-color);\n",
       "      border-right-color: var(--fill-color);\n",
       "    }\n",
       "    40% {\n",
       "      border-color: transparent;\n",
       "      border-right-color: var(--fill-color);\n",
       "      border-top-color: var(--fill-color);\n",
       "    }\n",
       "    60% {\n",
       "      border-color: transparent;\n",
       "      border-right-color: var(--fill-color);\n",
       "    }\n",
       "    80% {\n",
       "      border-color: transparent;\n",
       "      border-right-color: var(--fill-color);\n",
       "      border-bottom-color: var(--fill-color);\n",
       "    }\n",
       "    90% {\n",
       "      border-color: transparent;\n",
       "      border-bottom-color: var(--fill-color);\n",
       "    }\n",
       "  }\n",
       "</style>\n",
       "\n",
       "  <script>\n",
       "    async function quickchart(key) {\n",
       "      const quickchartButtonEl =\n",
       "        document.querySelector('#' + key + ' button');\n",
       "      quickchartButtonEl.disabled = true;  // To prevent multiple clicks.\n",
       "      quickchartButtonEl.classList.add('colab-df-spinner');\n",
       "      try {\n",
       "        const charts = await google.colab.kernel.invokeFunction(\n",
       "            'suggestCharts', [key], {});\n",
       "      } catch (error) {\n",
       "        console.error('Error during call to suggestCharts:', error);\n",
       "      }\n",
       "      quickchartButtonEl.classList.remove('colab-df-spinner');\n",
       "      quickchartButtonEl.classList.add('colab-df-quickchart-complete');\n",
       "    }\n",
       "    (() => {\n",
       "      let quickchartButtonEl =\n",
       "        document.querySelector('#df-fd9a8147-b491-4e31-816b-596f42b87ff6 button');\n",
       "      quickchartButtonEl.style.display =\n",
       "        google.colab.kernel.accessAllowed ? 'block' : 'none';\n",
       "    })();\n",
       "  </script>\n",
       "</div>\n",
       "\n",
       "    </div>\n",
       "  </div>\n"
      ],
      "text/plain": [
       "                                             Headlines  \\\n",
       "0    Bharat Petroleum among eight bidders for Sri L...   \n",
       "1    Southwest Air names aviation industry veteran ...   \n",
       "2    Tata a step closer to merging four group airli...   \n",
       "3    Mercedes-Benz India posts record half-yearly s...   \n",
       "4    MAN Industries gets Rs 1,850 crore order from ...   \n",
       "..                                                 ...   \n",
       "245  Hinduja scion in Swiss human-trafficking trial...   \n",
       "246  BL Kashyap receives two orders worth Rs 1,021 ...   \n",
       "247  Elon Musk warns he will ban iPhones, MacBooks ...   \n",
       "248  Ixigo IPO: Peak XV heads for 14th public marke...   \n",
       "249  NBCC India shares jump 9% on orders worth Rs 8...   \n",
       "\n",
       "                                              Articles  \n",
       "0    Vitol Asia and Bharat Petroleum are among eigh...  \n",
       "1    Southwest Airlines Co., which is facing demand...  \n",
       "2    Tata Group airlines on 8 July announced that i...  \n",
       "3    German luxury carmaker Mercedes-Benz on Monday...  \n",
       "4    MAN Industries on Monday said it has secured a...  \n",
       "..                                                 ...  \n",
       "245  The NBCC India stock surged more than 9 percen...  \n",
       "246                                                     \n",
       "247                                                     \n",
       "248                                                     \n",
       "249                                                     \n",
       "\n",
       "[250 rows x 2 columns]"
      ]
     },
     "execution_count": 111,
     "metadata": {},
     "output_type": "execute_result"
    }
   ],
   "source": [
    "pd.DataFrame(d)"
   ]
  },
  {
   "cell_type": "code",
   "execution_count": null,
   "metadata": {
    "colab": {
     "base_uri": "https://localhost:8080/"
    },
    "id": "LtEu0LUFdqVs",
    "outputId": "540a1e2f-08d8-4ab8-84a2-0e00931829a1"
   },
   "outputs": [
    {
     "data": {
      "text/plain": [
       "250"
      ]
     },
     "execution_count": 76,
     "metadata": {},
     "output_type": "execute_result"
    }
   ],
   "source": [
    "len(head)"
   ]
  },
  {
   "cell_type": "code",
   "execution_count": null,
   "metadata": {
    "colab": {
     "base_uri": "https://localhost:8080/"
    },
    "id": "Q7KiGGdZdsgF",
    "outputId": "5811faf7-f3bd-4880-fb6a-3247e4b5fbd9"
   },
   "outputs": [
    {
     "data": {
      "text/plain": [
       "250"
      ]
     },
     "execution_count": 108,
     "metadata": {},
     "output_type": "execute_result"
    }
   ],
   "source": [
    "len(entire_art)"
   ]
  },
  {
   "cell_type": "code",
   "execution_count": null,
   "metadata": {
    "id": "2AFDt90VdvaL"
   },
   "outputs": [],
   "source": []
  }
 ],
 "metadata": {
  "colab": {
   "provenance": []
  },
  "kernelspec": {
   "display_name": "Python 3 (ipykernel)",
   "language": "python",
   "name": "python3"
  },
  "language_info": {
   "codemirror_mode": {
    "name": "ipython",
    "version": 3
   },
   "file_extension": ".py",
   "mimetype": "text/x-python",
   "name": "python",
   "nbconvert_exporter": "python",
   "pygments_lexer": "ipython3",
   "version": "3.11.7"
  }
 },
 "nbformat": 4,
 "nbformat_minor": 1
}
