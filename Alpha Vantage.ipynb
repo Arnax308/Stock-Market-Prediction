{
 "cells": [
  {
   "cell_type": "code",
   "execution_count": 1,
   "id": "cd7737f0",
   "metadata": {},
   "outputs": [],
   "source": [
    "import pandas as pd\n",
    "import requests"
   ]
  },
  {
   "cell_type": "code",
   "execution_count": 11,
   "id": "4fe2a05b",
   "metadata": {},
   "outputs": [],
   "source": [
    "def conv_to_pd(para1):\n",
    "    df = pd.DataFrame(para1)\n",
    "    \n",
    "    df.head()\n",
    "    return df"
   ]
  },
  {
   "cell_type": "code",
   "execution_count": 12,
   "id": "f119261c",
   "metadata": {},
   "outputs": [],
   "source": [
    "url = 'https://www.alphavantage.co/query?function=SYMBOL_SEARCH&keywords=tcs.bse&apikey=Y9DN79N2PBBK2X1O'\n",
    "r = requests.get(url)\n",
    "data = r.json()"
   ]
  },
  {
   "cell_type": "code",
   "execution_count": 13,
   "id": "2f4438be",
   "metadata": {},
   "outputs": [
    {
     "data": {
      "text/html": [
       "<div>\n",
       "<style scoped>\n",
       "    .dataframe tbody tr th:only-of-type {\n",
       "        vertical-align: middle;\n",
       "    }\n",
       "\n",
       "    .dataframe tbody tr th {\n",
       "        vertical-align: top;\n",
       "    }\n",
       "\n",
       "    .dataframe thead th {\n",
       "        text-align: right;\n",
       "    }\n",
       "</style>\n",
       "<table border=\"1\" class=\"dataframe\">\n",
       "  <thead>\n",
       "    <tr style=\"text-align: right;\">\n",
       "      <th></th>\n",
       "      <th>1. symbol</th>\n",
       "      <th>2. name</th>\n",
       "      <th>3. type</th>\n",
       "      <th>4. region</th>\n",
       "      <th>5. marketOpen</th>\n",
       "      <th>6. marketClose</th>\n",
       "      <th>7. timezone</th>\n",
       "      <th>8. currency</th>\n",
       "      <th>9. matchScore</th>\n",
       "    </tr>\n",
       "  </thead>\n",
       "  <tbody>\n",
       "    <tr>\n",
       "      <th>0</th>\n",
       "      <td>TCS.BSE</td>\n",
       "      <td>Tata Consultancy Services Limited</td>\n",
       "      <td>Equity</td>\n",
       "      <td>India/Bombay</td>\n",
       "      <td>09:15</td>\n",
       "      <td>15:30</td>\n",
       "      <td>UTC+5.5</td>\n",
       "      <td>INR</td>\n",
       "      <td>1.0000</td>\n",
       "    </tr>\n",
       "  </tbody>\n",
       "</table>\n",
       "</div>"
      ],
      "text/plain": [
       "  1. symbol                            2. name 3. type     4. region  \\\n",
       "0   TCS.BSE  Tata Consultancy Services Limited  Equity  India/Bombay   \n",
       "\n",
       "  5. marketOpen 6. marketClose 7. timezone 8. currency 9. matchScore  \n",
       "0         09:15          15:30     UTC+5.5         INR        1.0000  "
      ]
     },
     "execution_count": 13,
     "metadata": {},
     "output_type": "execute_result"
    }
   ],
   "source": [
    "conv_to_pd(data['bestMatches'])"
   ]
  },
  {
   "cell_type": "code",
   "execution_count": 15,
   "id": "7396d2f9",
   "metadata": {},
   "outputs": [],
   "source": [
    "# replace the \"demo\" apikey below with your own key from https://www.alphavantage.co/support/#api-key\n",
    "url = 'https://www.alphavantage.co/query?function=TIME_SERIES_DAILY&symbol=TCS.BSE&outputsize=full&apikey=Y9DN79N2PBBK2X1O'\n",
    "\n",
    "r = requests.get(url)\n",
    "data = r.json()"
   ]
  },
  {
   "cell_type": "code",
   "execution_count": 17,
   "id": "31035526",
   "metadata": {},
   "outputs": [
    {
     "data": {
      "text/html": [
       "<div>\n",
       "<style scoped>\n",
       "    .dataframe tbody tr th:only-of-type {\n",
       "        vertical-align: middle;\n",
       "    }\n",
       "\n",
       "    .dataframe tbody tr th {\n",
       "        vertical-align: top;\n",
       "    }\n",
       "\n",
       "    .dataframe thead th {\n",
       "        text-align: right;\n",
       "    }\n",
       "</style>\n",
       "<table border=\"1\" class=\"dataframe\">\n",
       "  <thead>\n",
       "    <tr style=\"text-align: right;\">\n",
       "      <th></th>\n",
       "      <th>1. open</th>\n",
       "      <th>2. high</th>\n",
       "      <th>3. low</th>\n",
       "      <th>4. close</th>\n",
       "      <th>5. volume</th>\n",
       "    </tr>\n",
       "  </thead>\n",
       "  <tbody>\n",
       "    <tr>\n",
       "      <th>2024-09-11</th>\n",
       "      <td>4520.0000</td>\n",
       "      <td>4548.0000</td>\n",
       "      <td>4473.6001</td>\n",
       "      <td>4485.2500</td>\n",
       "      <td>21662</td>\n",
       "    </tr>\n",
       "    <tr>\n",
       "      <th>2024-09-10</th>\n",
       "      <td>4453.0000</td>\n",
       "      <td>4539.9502</td>\n",
       "      <td>4441.0000</td>\n",
       "      <td>4506.8999</td>\n",
       "      <td>68749</td>\n",
       "    </tr>\n",
       "    <tr>\n",
       "      <th>2024-09-09</th>\n",
       "      <td>4401.1001</td>\n",
       "      <td>4490.0000</td>\n",
       "      <td>4401.1001</td>\n",
       "      <td>4453.0000</td>\n",
       "      <td>39832</td>\n",
       "    </tr>\n",
       "    <tr>\n",
       "      <th>2024-09-06</th>\n",
       "      <td>4479.9502</td>\n",
       "      <td>4517.7998</td>\n",
       "      <td>4440.2500</td>\n",
       "      <td>4457.5000</td>\n",
       "      <td>197568</td>\n",
       "    </tr>\n",
       "    <tr>\n",
       "      <th>2024-09-05</th>\n",
       "      <td>4484.0000</td>\n",
       "      <td>4498.0000</td>\n",
       "      <td>4455.0000</td>\n",
       "      <td>4480.3501</td>\n",
       "      <td>26026</td>\n",
       "    </tr>\n",
       "    <tr>\n",
       "      <th>...</th>\n",
       "      <td>...</td>\n",
       "      <td>...</td>\n",
       "      <td>...</td>\n",
       "      <td>...</td>\n",
       "      <td>...</td>\n",
       "    </tr>\n",
       "    <tr>\n",
       "      <th>2005-01-07</th>\n",
       "      <td>166.2500</td>\n",
       "      <td>168.0876</td>\n",
       "      <td>163.8876</td>\n",
       "      <td>167.4250</td>\n",
       "      <td>2627176</td>\n",
       "    </tr>\n",
       "    <tr>\n",
       "      <th>2005-01-06</th>\n",
       "      <td>165.8750</td>\n",
       "      <td>168.1250</td>\n",
       "      <td>161.5188</td>\n",
       "      <td>164.9876</td>\n",
       "      <td>3441640</td>\n",
       "    </tr>\n",
       "    <tr>\n",
       "      <th>2005-01-05</th>\n",
       "      <td>166.2500</td>\n",
       "      <td>167.2626</td>\n",
       "      <td>160.1250</td>\n",
       "      <td>165.6000</td>\n",
       "      <td>3669696</td>\n",
       "    </tr>\n",
       "    <tr>\n",
       "      <th>2005-01-04</th>\n",
       "      <td>168.8438</td>\n",
       "      <td>169.5000</td>\n",
       "      <td>166.7500</td>\n",
       "      <td>167.5438</td>\n",
       "      <td>1312656</td>\n",
       "    </tr>\n",
       "    <tr>\n",
       "      <th>2005-01-03</th>\n",
       "      <td>168.7250</td>\n",
       "      <td>169.7500</td>\n",
       "      <td>167.2814</td>\n",
       "      <td>169.1500</td>\n",
       "      <td>1185200</td>\n",
       "    </tr>\n",
       "  </tbody>\n",
       "</table>\n",
       "<p>4867 rows × 5 columns</p>\n",
       "</div>"
      ],
      "text/plain": [
       "              1. open    2. high     3. low   4. close 5. volume\n",
       "2024-09-11  4520.0000  4548.0000  4473.6001  4485.2500     21662\n",
       "2024-09-10  4453.0000  4539.9502  4441.0000  4506.8999     68749\n",
       "2024-09-09  4401.1001  4490.0000  4401.1001  4453.0000     39832\n",
       "2024-09-06  4479.9502  4517.7998  4440.2500  4457.5000    197568\n",
       "2024-09-05  4484.0000  4498.0000  4455.0000  4480.3501     26026\n",
       "...               ...        ...        ...        ...       ...\n",
       "2005-01-07   166.2500   168.0876   163.8876   167.4250   2627176\n",
       "2005-01-06   165.8750   168.1250   161.5188   164.9876   3441640\n",
       "2005-01-05   166.2500   167.2626   160.1250   165.6000   3669696\n",
       "2005-01-04   168.8438   169.5000   166.7500   167.5438   1312656\n",
       "2005-01-03   168.7250   169.7500   167.2814   169.1500   1185200\n",
       "\n",
       "[4867 rows x 5 columns]"
      ]
     },
     "execution_count": 17,
     "metadata": {},
     "output_type": "execute_result"
    }
   ],
   "source": [
    "df = conv_to_pd(data['Time Series (Daily)'])\n",
    "df.T"
   ]
  },
  {
   "cell_type": "code",
   "execution_count": 24,
   "id": "791811a3",
   "metadata": {},
   "outputs": [],
   "source": [
    "# Doesn't support BSE\n",
    "url = 'https://www.alphavantage.co/query?function=EARNINGS&symbol=reliance&apikey=Y9DN79N2PBBK2X1O'\n",
    "r = requests.get(url)\n",
    "data = r.json()"
   ]
  },
  {
   "cell_type": "code",
   "execution_count": 25,
   "id": "dd43e760",
   "metadata": {},
   "outputs": [
    {
     "name": "stdout",
     "output_type": "stream",
     "text": [
      "{}\n"
     ]
    }
   ],
   "source": [
    "print(r.text)"
   ]
  },
  {
   "cell_type": "code",
   "execution_count": 26,
   "id": "bd5629ef",
   "metadata": {},
   "outputs": [
    {
     "ename": "KeyError",
     "evalue": "'annualEarnings'",
     "output_type": "error",
     "traceback": [
      "\u001b[0;31m---------------------------------------------------------------------------\u001b[0m",
      "\u001b[0;31mKeyError\u001b[0m                                  Traceback (most recent call last)",
      "Cell \u001b[0;32mIn[26], line 2\u001b[0m\n\u001b[1;32m      1\u001b[0m \u001b[38;5;66;03m#Earnings\u001b[39;00m\n\u001b[0;32m----> 2\u001b[0m ds \u001b[38;5;241m=\u001b[39m pd\u001b[38;5;241m.\u001b[39mDataFrame(data[\u001b[38;5;124m'\u001b[39m\u001b[38;5;124mannualEarnings\u001b[39m\u001b[38;5;124m'\u001b[39m])\n",
      "\u001b[0;31mKeyError\u001b[0m: 'annualEarnings'"
     ]
    }
   ],
   "source": [
    "#Earnings\n",
    "ds = pd.DataFrame(data['annualEarnings'])"
   ]
  },
  {
   "cell_type": "code",
   "execution_count": null,
   "id": "6246d759",
   "metadata": {},
   "outputs": [],
   "source": [
    "ds"
   ]
  },
  {
   "cell_type": "code",
   "execution_count": null,
   "id": "c1648d2c",
   "metadata": {},
   "outputs": [],
   "source": []
  },
  {
   "cell_type": "code",
   "execution_count": null,
   "id": "324673d9",
   "metadata": {},
   "outputs": [],
   "source": [
    "url = 'https://www.alphavantage.co/query?function=CASH_FLOW&symbol=TCS&apikey=Y9DN79N2PBBK2X1O'\n",
    "r = requests.get(url)\n",
    "data = r.json()"
   ]
  },
  {
   "cell_type": "code",
   "execution_count": null,
   "id": "cfebf3a1",
   "metadata": {},
   "outputs": [],
   "source": [
    "# XX\n",
    "#Cash Flow\n",
    "conv_to_pd(data['annualReports'])"
   ]
  },
  {
   "cell_type": "code",
   "execution_count": null,
   "id": "afde2a52",
   "metadata": {},
   "outputs": [],
   "source": [
    "url = 'https://www.alphavantage.co/query?function=BALANCE_SHEET&symbol=TCS&apikey=Y9DN79N2PBBK2X1O'\n",
    "r = requests.get(url)\n",
    "data = r.json()"
   ]
  },
  {
   "cell_type": "code",
   "execution_count": null,
   "id": "1f5eab3e",
   "metadata": {},
   "outputs": [],
   "source": [
    "# XX\n",
    "#Balance Sheet\n",
    "conv_to_pd(data['annualReports'])"
   ]
  },
  {
   "cell_type": "code",
   "execution_count": null,
   "id": "cb911cca",
   "metadata": {},
   "outputs": [],
   "source": [
    "url = 'https://www.alphavantage.co/query?function=DIVIDENDS&symbol=TCS.BSE&apikey=Y9DN79N2PBBK2X1O'\n",
    "r = requests.get(url)\n",
    "data = r.json()"
   ]
  },
  {
   "cell_type": "code",
   "execution_count": null,
   "id": "a147c27a",
   "metadata": {},
   "outputs": [],
   "source": [
    "#Dividends\n",
    "conv_to_pd(data['data'])"
   ]
  },
  {
   "cell_type": "code",
   "execution_count": null,
   "id": "dfeb1538",
   "metadata": {},
   "outputs": [],
   "source": [
    "#Splits\n",
    "url = 'https://www.alphavantage.co/query?function=SPLITS&symbol=TCS&apikey=Y9DN79N2PBBK2X1O'\n",
    "r = requests.get(url)\n",
    "data = r.json()\n",
    "\n",
    "print(data)"
   ]
  },
  {
   "cell_type": "code",
   "execution_count": null,
   "id": "a368f018",
   "metadata": {},
   "outputs": [],
   "source": [
    "url = 'https://www.alphavantage.co/query?function=INCOME_STATEMENT&symbol=TCS&apikey=Y9DN79N2PBBK2X1O'\n",
    "r = requests.get(url)\n",
    "data = r.json()"
   ]
  },
  {
   "cell_type": "code",
   "execution_count": null,
   "id": "2a25aad4",
   "metadata": {},
   "outputs": [],
   "source": [
    "#Income Statements\n",
    "conv_to_pd(data['annualReports'])"
   ]
  },
  {
   "cell_type": "code",
   "execution_count": null,
   "id": "f3da83c2",
   "metadata": {},
   "outputs": [],
   "source": [
    "url = 'https://www.alphavantage.co/query?function=NEWS_SENTIMENT&tickers=AAPL&apikey=demo'\n",
    "r = requests.get(url)\n",
    "data = r.json()"
   ]
  },
  {
   "cell_type": "code",
   "execution_count": null,
   "id": "e96c29e0",
   "metadata": {},
   "outputs": [],
   "source": [
    "conv_to_pd(data['feed'])"
   ]
  },
  {
   "cell_type": "code",
   "execution_count": null,
   "id": "5f048c72",
   "metadata": {},
   "outputs": [],
   "source": []
  }
 ],
 "metadata": {
  "kernelspec": {
   "display_name": "Python 3 (ipykernel)",
   "language": "python",
   "name": "python3"
  },
  "language_info": {
   "codemirror_mode": {
    "name": "ipython",
    "version": 3
   },
   "file_extension": ".py",
   "mimetype": "text/x-python",
   "name": "python",
   "nbconvert_exporter": "python",
   "pygments_lexer": "ipython3",
   "version": "3.11.7"
  }
 },
 "nbformat": 4,
 "nbformat_minor": 5
}
