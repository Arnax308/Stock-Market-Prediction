{
 "cells": [
  {
   "cell_type": "markdown",
   "id": "09e1c48a",
   "metadata": {},
   "source": [
    "This is me trying to make a dataset without using web scrapping. Most of the headlines here are copy pasted"
   ]
  },
  {
   "cell_type": "code",
   "execution_count": 1,
   "id": "4a80a081",
   "metadata": {},
   "outputs": [],
   "source": [
    "import pandas as pd"
   ]
  },
  {
   "cell_type": "markdown",
   "id": "7d7e90c1",
   "metadata": {},
   "source": [
    "<h1> Batch 1 of Money Control"
   ]
  },
  {
   "cell_type": "code",
   "execution_count": 2,
   "id": "9b0a957d",
   "metadata": {},
   "outputs": [],
   "source": [
    "head1 = [ \"Tata Steel to invest ₹12,000 crore in FY23, focus on capacity expansion\",\n",
    "    \"RIL, ONGC, other PSUs to invest ₹2 lakh crore in FY23: Report\",\n",
    "    \"HCL Tech to hire 20,000 freshers in FY23, to focus on digital skills\",\n",
    "    \"Adani Group to invest ₹10,000 crore in Uttar Pradesh, create 30,000 jobs\",\n",
    "    \"TCS to hire 40,000 freshers in FY23, to focus on digital transformation\",\n",
    "    \"JSW Steel to invest ₹20,000 crore in FY23, focus on capacity expansion\",\n",
    "    \"HDFC Life to invest ₹1,000 crore in FY23, to focus on digital growth\",\n",
    "    \"Bharti Airtel to invest ₹4,000 crore in FY23, to focus on 5G rollout\",\n",
    "    \"ICICI Bank to invest ₹2,000 crore in FY23, to focus on digital banking\",\n",
    "    \"L&T to invest ₹10,000 crore in FY23, to focus on infrastructure growth\",\n",
    "    \"RBI to introduce new Rs 50 notes with enhanced security features\",\n",
    "    \"Sensex rises 150 points, Nifty above 15,800; IT stocks lead gains\",\n",
    "    \"Tata Motors to invest Rs 15,000 crore in EV business in next 5 years\",\n",
    "    \"HDFC Life to acquire Exide Life Insurance for Rs 6,687 crore\",]\n",
    "\n",
    "comp1 = [\"Tata Steel\",\"RIL\", \"HCL Tech\",\"Adani Group\",\"TCS\",\"JSW Steel\", \"HDFC Life\",\"Bharti Airtel\",\n",
    "             \"ICICI Bank\",\"L&T\",\"RBI\",\"Sensex\",\"Tata Motors\",\"HDFC Life\"]\n",
    "\n",
    "sect1 = [\"Steel\",\"Oil and Gas\",\"IT\",\"Infrastructure\",\"IT\",\"Steel\",\"Insurance\",\"Telecom\",\"Banking\",\n",
    "           \"Infrastructure\",\"Banking\",\"Stock Market\",\"Automobile\",\"Insurance\"]"
   ]
  },
  {
   "cell_type": "markdown",
   "id": "50385e95",
   "metadata": {},
   "source": [
    "<h1>Batch 2 of Money Control"
   ]
  },
  {
   "cell_type": "code",
   "execution_count": 3,
   "id": "b1518d53",
   "metadata": {},
   "outputs": [],
   "source": [
    "head2 = [\"SAIL revokes suspension of directors and officials following government orders\",\n",
    "    \"Defence PSU Bharat Electronics receives Rs 3,170-cr order to upgrade BMP tanks; stock up 1.5%\",\n",
    "    \"Wockhardt likely to get DCGI nod for respiratory drug by year-end; stock up 5%\",\n",
    "    \"Healthcare Global to acquire majority stake in Vizag Hospital; stock rises\",\n",
    "    \"Nazara Tech shares rise 3% on Rs 270-cr acquisition of German gaming firm Freaks 4U\",\n",
    "    \"Business News Today: Read the latest business news on the Indian economy, global market, upcoming IPOs and more\",\n",
    "    \"Donald Trump hit with gag order after lashing out at court clerk in NY fraud case\",\n",
    "    \"Hot Stocks | Zomato, Medanta, Arvind can give healthy 13-14% return in short term\",\n",
    "    \"BGMI maker Krafton debuts India-specific incubator to boost local game development\",\n",
    "    \"Explainer: What are the next steps as US House searches for new speaker?\",\n",
    "    \"Daily Voice | This analyst lists sectors which are likely to post good earnings in Q2FY24, take a look\"]\n",
    "\n",
    "comp2 = ['SAIL','Bharat Electronics','Wockhardt','Healthcare Global','Nazara Tech','N/A','N/A',\n",
    "         'Zomato, Medanta, Arvind','Krafton','N/A','N/A']\n",
    "\n",
    "sect2 = ['Steel','Defence', 'Pharmaceuticals','Healthcare','Gaming','Finance','Politics',\n",
    "         'Stock Market','Gaming','Politics','Finance']"
   ]
  },
  {
   "cell_type": "code",
   "execution_count": 4,
   "id": "7df02cf9",
   "metadata": {},
   "outputs": [
    {
     "data": {
      "text/plain": [
       "(14, 11)"
      ]
     },
     "execution_count": 4,
     "metadata": {},
     "output_type": "execute_result"
    }
   ],
   "source": [
    "len(head1), len(head2)"
   ]
  },
  {
   "cell_type": "code",
   "execution_count": 5,
   "id": "5ae84629",
   "metadata": {},
   "outputs": [
    {
     "data": {
      "text/plain": [
       "(14, 11)"
      ]
     },
     "execution_count": 5,
     "metadata": {},
     "output_type": "execute_result"
    }
   ],
   "source": [
    "len(comp1), len(comp2)"
   ]
  },
  {
   "cell_type": "code",
   "execution_count": 6,
   "id": "232a57ce",
   "metadata": {},
   "outputs": [
    {
     "data": {
      "text/plain": [
       "(14, 11)"
      ]
     },
     "execution_count": 6,
     "metadata": {},
     "output_type": "execute_result"
    }
   ],
   "source": [
    "len(sect1), len(sect2)"
   ]
  },
  {
   "cell_type": "code",
   "execution_count": 7,
   "id": "7f744e74",
   "metadata": {},
   "outputs": [],
   "source": [
    "headlines, companies, sectors = [],[], []\n",
    "\n",
    "headlines.extend(head1+head2)\n",
    "companies.extend(comp1+comp2)\n",
    "sectors.extend(sect1+sect2)"
   ]
  },
  {
   "cell_type": "code",
   "execution_count": 8,
   "id": "cdb7086a",
   "metadata": {},
   "outputs": [
    {
     "data": {
      "text/plain": [
       "(25, 25, 25)"
      ]
     },
     "execution_count": 8,
     "metadata": {},
     "output_type": "execute_result"
    }
   ],
   "source": [
    "len(headlines), len(companies), len(sectors)"
   ]
  },
  {
   "cell_type": "markdown",
   "id": "77007336",
   "metadata": {},
   "source": [
    "<font size = 6>CSV\n",
    "\n",
    "<font size = 3><i>index | News | Company | Sector | Intrest "
   ]
  },
  {
   "cell_type": "code",
   "execution_count": 9,
   "id": "539231b7",
   "metadata": {},
   "outputs": [
    {
     "name": "stdout",
     "output_type": "stream",
     "text": [
      "Tata Steel to invest ₹12,000 crore in FY23, focus on capacity expansion\n",
      "Is this headlines intresting: 1\n",
      "RIL, ONGC, other PSUs to invest ₹2 lakh crore in FY23: Report\n",
      "Is this headlines intresting: 1\n",
      "HCL Tech to hire 20,000 freshers in FY23, to focus on digital skills\n",
      "Is this headlines intresting: 0\n",
      "Adani Group to invest ₹10,000 crore in Uttar Pradesh, create 30,000 jobs\n",
      "Is this headlines intresting: 1\n",
      "TCS to hire 40,000 freshers in FY23, to focus on digital transformation\n",
      "Is this headlines intresting: 0\n",
      "JSW Steel to invest ₹20,000 crore in FY23, focus on capacity expansion\n",
      "Is this headlines intresting: 1\n",
      "HDFC Life to invest ₹1,000 crore in FY23, to focus on digital growth\n",
      "Is this headlines intresting: 1\n",
      "Bharti Airtel to invest ₹4,000 crore in FY23, to focus on 5G rollout\n",
      "Is this headlines intresting: 1\n",
      "ICICI Bank to invest ₹2,000 crore in FY23, to focus on digital banking\n",
      "Is this headlines intresting: 1\n",
      "L&T to invest ₹10,000 crore in FY23, to focus on infrastructure growth\n",
      "Is this headlines intresting: 1\n",
      "RBI to introduce new Rs 50 notes with enhanced security features\n",
      "Is this headlines intresting: 0\n",
      "Sensex rises 150 points, Nifty above 15,800; IT stocks lead gains\n",
      "Is this headlines intresting: 0\n",
      "Tata Motors to invest Rs 15,000 crore in EV business in next 5 years\n",
      "Is this headlines intresting: 1\n",
      "HDFC Life to acquire Exide Life Insurance for Rs 6,687 crore\n",
      "Is this headlines intresting: 1\n",
      "SAIL revokes suspension of directors and officials following government orders\n",
      "Is this headlines intresting: 0\n",
      "Defence PSU Bharat Electronics receives Rs 3,170-cr order to upgrade BMP tanks; stock up 1.5%\n",
      "Is this headlines intresting: 1\n",
      "Wockhardt likely to get DCGI nod for respiratory drug by year-end; stock up 5%\n",
      "Is this headlines intresting: 1\n",
      "Healthcare Global to acquire majority stake in Vizag Hospital; stock rises\n",
      "Is this headlines intresting: 1\n",
      "Nazara Tech shares rise 3% on Rs 270-cr acquisition of German gaming firm Freaks 4U\n",
      "Is this headlines intresting: 1\n",
      "Business News Today: Read the latest business news on the Indian economy, global market, upcoming IPOs and more\n",
      "Is this headlines intresting: 0\n",
      "Donald Trump hit with gag order after lashing out at court clerk in NY fraud case\n",
      "Is this headlines intresting: 0\n",
      "Hot Stocks | Zomato, Medanta, Arvind can give healthy 13-14% return in short term\n",
      "Is this headlines intresting: 0\n",
      "BGMI maker Krafton debuts India-specific incubator to boost local game development\n",
      "Is this headlines intresting: 0\n",
      "Explainer: What are the next steps as US House searches for new speaker?\n",
      "Is this headlines intresting: 0\n",
      "Daily Voice | This analyst lists sectors which are likely to post good earnings in Q2FY24, take a look\n",
      "Is this headlines intresting: 0\n"
     ]
    }
   ],
   "source": [
    "interest = []\n",
    "\n",
    "for i in headlines:\n",
    "    print(i)\n",
    "    ans = int(input('Is this headlines intresting: '))\n",
    "    \n",
    "    intreset.append(ans)"
   ]
  },
  {
   "cell_type": "code",
   "execution_count": 11,
   "id": "d061c76e",
   "metadata": {},
   "outputs": [
    {
     "data": {
      "text/plain": [
       "25"
      ]
     },
     "execution_count": 11,
     "metadata": {},
     "output_type": "execute_result"
    }
   ],
   "source": [
    "len(interest)"
   ]
  },
  {
   "cell_type": "code",
   "execution_count": 12,
   "id": "d7cd5a42",
   "metadata": {},
   "outputs": [],
   "source": [
    "total_data = dict()\n",
    "total_data['Headlines'] =  headlines\n",
    "total_data['Companies'] = companies\n",
    "total_data['Sectors'] = sectors\n",
    "total_data['Interest'] = interest"
   ]
  },
  {
   "cell_type": "code",
   "execution_count": 13,
   "id": "14b88258",
   "metadata": {},
   "outputs": [],
   "source": [
    "df = pd.DataFrame(total_data)"
   ]
  },
  {
   "cell_type": "code",
   "execution_count": 20,
   "id": "cc9c2319",
   "metadata": {},
   "outputs": [
    {
     "data": {
      "text/plain": [
       "Intreset\n",
       "1    14\n",
       "0    11\n",
       "Name: count, dtype: int64"
      ]
     },
     "execution_count": 20,
     "metadata": {},
     "output_type": "execute_result"
    }
   ],
   "source": [
    "df['Intreset'].value_counts()"
   ]
  },
  {
   "cell_type": "code",
   "execution_count": null,
   "id": "829a0e7e",
   "metadata": {},
   "outputs": [],
   "source": [
    "df.to_csv('Headlines.csv')\n",
    "# While this dataset doesn't exist, it can be created again upon wish, I deleted it because it was been redudant"
   ]
  },
  {
   "cell_type": "code",
   "execution_count": null,
   "id": "dd3c9ad7",
   "metadata": {},
   "outputs": [],
   "source": []
  }
 ],
 "metadata": {
  "kernelspec": {
   "display_name": "Python 3 (ipykernel)",
   "language": "python",
   "name": "python3"
  },
  "language_info": {
   "codemirror_mode": {
    "name": "ipython",
    "version": 3
   },
   "file_extension": ".py",
   "mimetype": "text/x-python",
   "name": "python",
   "nbconvert_exporter": "python",
   "pygments_lexer": "ipython3",
   "version": "3.11.7"
  }
 },
 "nbformat": 4,
 "nbformat_minor": 5
}
