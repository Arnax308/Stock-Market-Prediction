{
 "cells": [
  {
   "cell_type": "code",
   "execution_count": null,
   "metadata": {
    "id": "ycs_jg2T_RPD"
   },
   "outputs": [],
   "source": [
    "import pandas as pd\n",
    "import numpy as np\n",
    "import matplotlib.pyplot as plt\n",
    "import seaborn as sns\n",
    "\n",
    "from tensorflow import keras\n",
    "from tensorflow.keras import layers\n",
    "from keras.preprocessing.text import Tokenizer\n",
    "from keras.preprocessing.sequence import pad_sequences"
   ]
  },
  {
   "cell_type": "code",
   "execution_count": null,
   "metadata": {
    "id": "5kapCuS-_VX4"
   },
   "outputs": [],
   "source": [
    "data = pd.read_csv('summary.csv')"
   ]
  },
  {
   "cell_type": "code",
   "execution_count": null,
   "metadata": {
    "colab": {
     "base_uri": "https://localhost:8080/",
     "height": 275
    },
    "id": "-Q8K3Dk1BHUy",
    "outputId": "34d811ae-b1d5-440c-c438-4d0ec3dd852d"
   },
   "outputs": [
    {
     "data": {
      "application/vnd.google.colaboratory.intrinsic+json": {
       "summary": "{\n  \"name\": \"data\",\n  \"rows\": 43,\n  \"fields\": [\n    {\n      \"column\": \"Unnamed: 0\",\n      \"properties\": {\n        \"dtype\": \"number\",\n        \"std\": 12,\n        \"min\": 0,\n        \"max\": 42,\n        \"num_unique_values\": 43,\n        \"samples\": [\n          37,\n          24,\n          25\n        ],\n        \"semantic_type\": \"\",\n        \"description\": \"\"\n      }\n    },\n    {\n      \"column\": \"Headlines\",\n      \"properties\": {\n        \"dtype\": \"string\",\n        \"num_unique_values\": 35,\n        \"samples\": [\n          \"KKR acquires controlling stake in Kerala-based Baby Memorial Hospital\",\n          \"Liquor firm Som Distilleries challenges license suspension in child labour case\",\n          \"NHRC says report on Foxconn hiring at Tamil Nadu plant raises discrimination concerns\"\n        ],\n        \"semantic_type\": \"\",\n        \"description\": \"\"\n      }\n    },\n    {\n      \"column\": \"Summary\",\n      \"properties\": {\n        \"dtype\": \"string\",\n        \"num_unique_values\": 43,\n        \"samples\": [\n          \"Indian Oil plans to expand its liquified natural gas (LNG) portfolio to 20 million tonnes per year (MTPA) by 2030, up from its current 7.8 MTPA, according to Sujoy Choudhury, head of planning and business development. Speaking at an industry event on Thursday, Choudhury noted that the power sector is anticipated to be a major driver of the increased LNG demand in India.\",\n          \"India's human rights watchdog has asked government officials to investigate alleged discrimination by Foxconn, a major Apple supplier, after a Reuters investigation revealed the company was rejecting married women for iPhone assembly jobs. The National Human Rights Commission (NHRC) issued notices to the Prime Minister's labour ministry and Tamil Nadu's chief secretary, requesting a detailed report within a week. The NHRC stated that such discrimination, if true, violates the right to equality and equal opportunity. The Reuters report has ignited debates and calls for investigation from various groups and political parties. Neither Modi's labour ministry, Apple, nor Foxconn have responded to requests for comment.\",\n          \"Eight people fell ill due to a gas leak at SAIL\\u2019s Rourkela Steel Plant (RSP) in Odisha on Monday, according to a senior official. The incident occurred at blast furnace 5 while work was underway on a gas pipe connection. The affected individuals, including an executive, a senior supervisor, an RSP employee, and some outsourced staff, were promptly taken to Ispat General Hospital and are reportedly doing fine. RSP's director in charge, Atanu Bhowmick, stated that a committee has been formed to investigate the incident.\"\n        ],\n        \"semantic_type\": \"\",\n        \"description\": \"\"\n      }\n    },\n    {\n      \"column\": \"Companies\",\n      \"properties\": {\n        \"dtype\": \"string\",\n        \"num_unique_values\": 34,\n        \"samples\": [\n          \"HCLTech\",\n          \"Marico\",\n          \"NTPC\"\n        ],\n        \"semantic_type\": \"\",\n        \"description\": \"\"\n      }\n    },\n    {\n      \"column\": \"Sectors\",\n      \"properties\": {\n        \"dtype\": \"category\",\n        \"num_unique_values\": 20,\n        \"samples\": [\n          \"Information Technology\",\n          \"Industrials\",\n          \"Basic Materials\"\n        ],\n        \"semantic_type\": \"\",\n        \"description\": \"\"\n      }\n    },\n    {\n      \"column\": \"Intreset\",\n      \"properties\": {\n        \"dtype\": \"number\",\n        \"std\": 0,\n        \"min\": 0,\n        \"max\": 1,\n        \"num_unique_values\": 2,\n        \"samples\": [\n          1,\n          0\n        ],\n        \"semantic_type\": \"\",\n        \"description\": \"\"\n      }\n    }\n  ]\n}",
       "type": "dataframe",
       "variable_name": "data"
      },
      "text/html": [
       "\n",
       "  <div id=\"df-0941b5c7-6daf-42ca-b688-6d2a1c4a5b67\" class=\"colab-df-container\">\n",
       "    <div>\n",
       "<style scoped>\n",
       "    .dataframe tbody tr th:only-of-type {\n",
       "        vertical-align: middle;\n",
       "    }\n",
       "\n",
       "    .dataframe tbody tr th {\n",
       "        vertical-align: top;\n",
       "    }\n",
       "\n",
       "    .dataframe thead th {\n",
       "        text-align: right;\n",
       "    }\n",
       "</style>\n",
       "<table border=\"1\" class=\"dataframe\">\n",
       "  <thead>\n",
       "    <tr style=\"text-align: right;\">\n",
       "      <th></th>\n",
       "      <th>Unnamed: 0</th>\n",
       "      <th>Headlines</th>\n",
       "      <th>Summary</th>\n",
       "      <th>Companies</th>\n",
       "      <th>Sectors</th>\n",
       "      <th>Intreset</th>\n",
       "    </tr>\n",
       "  </thead>\n",
       "  <tbody>\n",
       "    <tr>\n",
       "      <th>0</th>\n",
       "      <td>0</td>\n",
       "      <td>Atos reaches deal with creditors on debt restr...</td>\n",
       "      <td>French technology company Atos  reached an agr...</td>\n",
       "      <td>Atos</td>\n",
       "      <td>Information Technology</td>\n",
       "      <td>0</td>\n",
       "    </tr>\n",
       "    <tr>\n",
       "      <th>1</th>\n",
       "      <td>1</td>\n",
       "      <td>Saudi Aramco awards $25 billion in contracts f...</td>\n",
       "      <td>Saudi Aramco has awarded $25 billion in contra...</td>\n",
       "      <td>Saudi Aramco</td>\n",
       "      <td>Energy</td>\n",
       "      <td>0</td>\n",
       "    </tr>\n",
       "    <tr>\n",
       "      <th>2</th>\n",
       "      <td>2</td>\n",
       "      <td>Bank of Baroda gets Rs 1067.82 crore income ta...</td>\n",
       "      <td>Bank of Baroda received a tax demand of ₹1067....</td>\n",
       "      <td>Bank of Baroda</td>\n",
       "      <td>Banking</td>\n",
       "      <td>0</td>\n",
       "    </tr>\n",
       "    <tr>\n",
       "      <th>3</th>\n",
       "      <td>3</td>\n",
       "      <td>Air India Express union alleges unfair labour ...</td>\n",
       "      <td>Air India Express’ cabin crew union, AIXEU, ha...</td>\n",
       "      <td>Air India Express</td>\n",
       "      <td>Airlines</td>\n",
       "      <td>0</td>\n",
       "    </tr>\n",
       "    <tr>\n",
       "      <th>4</th>\n",
       "      <td>4</td>\n",
       "      <td>Punjab &amp; Sind Bank plans to raise Rs 2,000 cro...</td>\n",
       "      <td>Punjab &amp; Sind Bank plans to raise ₹2,000 crore...</td>\n",
       "      <td>Punjab &amp; Sind Bank</td>\n",
       "      <td>Banking</td>\n",
       "      <td>1</td>\n",
       "    </tr>\n",
       "  </tbody>\n",
       "</table>\n",
       "</div>\n",
       "    <div class=\"colab-df-buttons\">\n",
       "\n",
       "  <div class=\"colab-df-container\">\n",
       "    <button class=\"colab-df-convert\" onclick=\"convertToInteractive('df-0941b5c7-6daf-42ca-b688-6d2a1c4a5b67')\"\n",
       "            title=\"Convert this dataframe to an interactive table.\"\n",
       "            style=\"display:none;\">\n",
       "\n",
       "  <svg xmlns=\"http://www.w3.org/2000/svg\" height=\"24px\" viewBox=\"0 -960 960 960\">\n",
       "    <path d=\"M120-120v-720h720v720H120Zm60-500h600v-160H180v160Zm220 220h160v-160H400v160Zm0 220h160v-160H400v160ZM180-400h160v-160H180v160Zm440 0h160v-160H620v160ZM180-180h160v-160H180v160Zm440 0h160v-160H620v160Z\"/>\n",
       "  </svg>\n",
       "    </button>\n",
       "\n",
       "  <style>\n",
       "    .colab-df-container {\n",
       "      display:flex;\n",
       "      gap: 12px;\n",
       "    }\n",
       "\n",
       "    .colab-df-convert {\n",
       "      background-color: #E8F0FE;\n",
       "      border: none;\n",
       "      border-radius: 50%;\n",
       "      cursor: pointer;\n",
       "      display: none;\n",
       "      fill: #1967D2;\n",
       "      height: 32px;\n",
       "      padding: 0 0 0 0;\n",
       "      width: 32px;\n",
       "    }\n",
       "\n",
       "    .colab-df-convert:hover {\n",
       "      background-color: #E2EBFA;\n",
       "      box-shadow: 0px 1px 2px rgba(60, 64, 67, 0.3), 0px 1px 3px 1px rgba(60, 64, 67, 0.15);\n",
       "      fill: #174EA6;\n",
       "    }\n",
       "\n",
       "    .colab-df-buttons div {\n",
       "      margin-bottom: 4px;\n",
       "    }\n",
       "\n",
       "    [theme=dark] .colab-df-convert {\n",
       "      background-color: #3B4455;\n",
       "      fill: #D2E3FC;\n",
       "    }\n",
       "\n",
       "    [theme=dark] .colab-df-convert:hover {\n",
       "      background-color: #434B5C;\n",
       "      box-shadow: 0px 1px 3px 1px rgba(0, 0, 0, 0.15);\n",
       "      filter: drop-shadow(0px 1px 2px rgba(0, 0, 0, 0.3));\n",
       "      fill: #FFFFFF;\n",
       "    }\n",
       "  </style>\n",
       "\n",
       "    <script>\n",
       "      const buttonEl =\n",
       "        document.querySelector('#df-0941b5c7-6daf-42ca-b688-6d2a1c4a5b67 button.colab-df-convert');\n",
       "      buttonEl.style.display =\n",
       "        google.colab.kernel.accessAllowed ? 'block' : 'none';\n",
       "\n",
       "      async function convertToInteractive(key) {\n",
       "        const element = document.querySelector('#df-0941b5c7-6daf-42ca-b688-6d2a1c4a5b67');\n",
       "        const dataTable =\n",
       "          await google.colab.kernel.invokeFunction('convertToInteractive',\n",
       "                                                    [key], {});\n",
       "        if (!dataTable) return;\n",
       "\n",
       "        const docLinkHtml = 'Like what you see? Visit the ' +\n",
       "          '<a target=\"_blank\" href=https://colab.research.google.com/notebooks/data_table.ipynb>data table notebook</a>'\n",
       "          + ' to learn more about interactive tables.';\n",
       "        element.innerHTML = '';\n",
       "        dataTable['output_type'] = 'display_data';\n",
       "        await google.colab.output.renderOutput(dataTable, element);\n",
       "        const docLink = document.createElement('div');\n",
       "        docLink.innerHTML = docLinkHtml;\n",
       "        element.appendChild(docLink);\n",
       "      }\n",
       "    </script>\n",
       "  </div>\n",
       "\n",
       "\n",
       "<div id=\"df-85c5f322-3f70-4736-a356-d30eb3d9e5c7\">\n",
       "  <button class=\"colab-df-quickchart\" onclick=\"quickchart('df-85c5f322-3f70-4736-a356-d30eb3d9e5c7')\"\n",
       "            title=\"Suggest charts\"\n",
       "            style=\"display:none;\">\n",
       "\n",
       "<svg xmlns=\"http://www.w3.org/2000/svg\" height=\"24px\"viewBox=\"0 0 24 24\"\n",
       "     width=\"24px\">\n",
       "    <g>\n",
       "        <path d=\"M19 3H5c-1.1 0-2 .9-2 2v14c0 1.1.9 2 2 2h14c1.1 0 2-.9 2-2V5c0-1.1-.9-2-2-2zM9 17H7v-7h2v7zm4 0h-2V7h2v10zm4 0h-2v-4h2v4z\"/>\n",
       "    </g>\n",
       "</svg>\n",
       "  </button>\n",
       "\n",
       "<style>\n",
       "  .colab-df-quickchart {\n",
       "      --bg-color: #E8F0FE;\n",
       "      --fill-color: #1967D2;\n",
       "      --hover-bg-color: #E2EBFA;\n",
       "      --hover-fill-color: #174EA6;\n",
       "      --disabled-fill-color: #AAA;\n",
       "      --disabled-bg-color: #DDD;\n",
       "  }\n",
       "\n",
       "  [theme=dark] .colab-df-quickchart {\n",
       "      --bg-color: #3B4455;\n",
       "      --fill-color: #D2E3FC;\n",
       "      --hover-bg-color: #434B5C;\n",
       "      --hover-fill-color: #FFFFFF;\n",
       "      --disabled-bg-color: #3B4455;\n",
       "      --disabled-fill-color: #666;\n",
       "  }\n",
       "\n",
       "  .colab-df-quickchart {\n",
       "    background-color: var(--bg-color);\n",
       "    border: none;\n",
       "    border-radius: 50%;\n",
       "    cursor: pointer;\n",
       "    display: none;\n",
       "    fill: var(--fill-color);\n",
       "    height: 32px;\n",
       "    padding: 0;\n",
       "    width: 32px;\n",
       "  }\n",
       "\n",
       "  .colab-df-quickchart:hover {\n",
       "    background-color: var(--hover-bg-color);\n",
       "    box-shadow: 0 1px 2px rgba(60, 64, 67, 0.3), 0 1px 3px 1px rgba(60, 64, 67, 0.15);\n",
       "    fill: var(--button-hover-fill-color);\n",
       "  }\n",
       "\n",
       "  .colab-df-quickchart-complete:disabled,\n",
       "  .colab-df-quickchart-complete:disabled:hover {\n",
       "    background-color: var(--disabled-bg-color);\n",
       "    fill: var(--disabled-fill-color);\n",
       "    box-shadow: none;\n",
       "  }\n",
       "\n",
       "  .colab-df-spinner {\n",
       "    border: 2px solid var(--fill-color);\n",
       "    border-color: transparent;\n",
       "    border-bottom-color: var(--fill-color);\n",
       "    animation:\n",
       "      spin 1s steps(1) infinite;\n",
       "  }\n",
       "\n",
       "  @keyframes spin {\n",
       "    0% {\n",
       "      border-color: transparent;\n",
       "      border-bottom-color: var(--fill-color);\n",
       "      border-left-color: var(--fill-color);\n",
       "    }\n",
       "    20% {\n",
       "      border-color: transparent;\n",
       "      border-left-color: var(--fill-color);\n",
       "      border-top-color: var(--fill-color);\n",
       "    }\n",
       "    30% {\n",
       "      border-color: transparent;\n",
       "      border-left-color: var(--fill-color);\n",
       "      border-top-color: var(--fill-color);\n",
       "      border-right-color: var(--fill-color);\n",
       "    }\n",
       "    40% {\n",
       "      border-color: transparent;\n",
       "      border-right-color: var(--fill-color);\n",
       "      border-top-color: var(--fill-color);\n",
       "    }\n",
       "    60% {\n",
       "      border-color: transparent;\n",
       "      border-right-color: var(--fill-color);\n",
       "    }\n",
       "    80% {\n",
       "      border-color: transparent;\n",
       "      border-right-color: var(--fill-color);\n",
       "      border-bottom-color: var(--fill-color);\n",
       "    }\n",
       "    90% {\n",
       "      border-color: transparent;\n",
       "      border-bottom-color: var(--fill-color);\n",
       "    }\n",
       "  }\n",
       "</style>\n",
       "\n",
       "  <script>\n",
       "    async function quickchart(key) {\n",
       "      const quickchartButtonEl =\n",
       "        document.querySelector('#' + key + ' button');\n",
       "      quickchartButtonEl.disabled = true;  // To prevent multiple clicks.\n",
       "      quickchartButtonEl.classList.add('colab-df-spinner');\n",
       "      try {\n",
       "        const charts = await google.colab.kernel.invokeFunction(\n",
       "            'suggestCharts', [key], {});\n",
       "      } catch (error) {\n",
       "        console.error('Error during call to suggestCharts:', error);\n",
       "      }\n",
       "      quickchartButtonEl.classList.remove('colab-df-spinner');\n",
       "      quickchartButtonEl.classList.add('colab-df-quickchart-complete');\n",
       "    }\n",
       "    (() => {\n",
       "      let quickchartButtonEl =\n",
       "        document.querySelector('#df-85c5f322-3f70-4736-a356-d30eb3d9e5c7 button');\n",
       "      quickchartButtonEl.style.display =\n",
       "        google.colab.kernel.accessAllowed ? 'block' : 'none';\n",
       "    })();\n",
       "  </script>\n",
       "</div>\n",
       "\n",
       "    </div>\n",
       "  </div>\n"
      ],
      "text/plain": [
       "   Unnamed: 0                                          Headlines  \\\n",
       "0           0  Atos reaches deal with creditors on debt restr...   \n",
       "1           1  Saudi Aramco awards $25 billion in contracts f...   \n",
       "2           2  Bank of Baroda gets Rs 1067.82 crore income ta...   \n",
       "3           3  Air India Express union alleges unfair labour ...   \n",
       "4           4  Punjab & Sind Bank plans to raise Rs 2,000 cro...   \n",
       "\n",
       "                                             Summary           Companies  \\\n",
       "0  French technology company Atos  reached an agr...                Atos   \n",
       "1  Saudi Aramco has awarded $25 billion in contra...        Saudi Aramco   \n",
       "2  Bank of Baroda received a tax demand of ₹1067....      Bank of Baroda   \n",
       "3  Air India Express’ cabin crew union, AIXEU, ha...   Air India Express   \n",
       "4  Punjab & Sind Bank plans to raise ₹2,000 crore...  Punjab & Sind Bank   \n",
       "\n",
       "                  Sectors  Intreset  \n",
       "0  Information Technology         0  \n",
       "1                  Energy         0  \n",
       "2                 Banking         0  \n",
       "3                Airlines         0  \n",
       "4                 Banking         1  "
      ]
     },
     "execution_count": 3,
     "metadata": {},
     "output_type": "execute_result"
    }
   ],
   "source": [
    "data.head()"
   ]
  },
  {
   "cell_type": "markdown",
   "metadata": {
    "id": "pPNJyDnPBIiQ"
   },
   "source": [
    "I am thinking of just converting summary to word indices, since headlines is just a small part of the summary anyways. The companies and sector will be useful for multi-class classification, I dont need them now.\n",
    "\n",
    "So my X = data['summary'] and y = data['Intreset'] and I guess I will be working on that for now. Will have to ask Alok Mama, if I need anything else for binary classification.\n",
    "\n",
    "Also I will have to find some site or article which I can web-scrape\n",
    "( I am probably limited by my own skill level lol)"
   ]
  },
  {
   "cell_type": "code",
   "execution_count": null,
   "metadata": {
    "colab": {
     "base_uri": "https://localhost:8080/"
    },
    "id": "Va1o1LfTCAmR",
    "outputId": "fd7404ab-1e53-4fc4-ff18-90570f208650"
   },
   "outputs": [
    {
     "data": {
      "text/plain": [
       "Intreset\n",
       "1    0.627907\n",
       "0    0.372093\n",
       "Name: proportion, dtype: float64"
      ]
     },
     "execution_count": 4,
     "metadata": {},
     "output_type": "execute_result"
    }
   ],
   "source": [
    "data['Intreset'].value_counts(normalize=True)"
   ]
  },
  {
   "cell_type": "markdown",
   "metadata": {
    "id": "C5D3lONcCZfu"
   },
   "source": [
    "The data is a bit unbalanced, but I think that wont be a problem, considering how small my dataset is.\n",
    "\n",
    "This feels more like a trail than the final product."
   ]
  },
  {
   "cell_type": "code",
   "execution_count": null,
   "metadata": {
    "id": "UG1S9aSHDc7q"
   },
   "outputs": [],
   "source": [
    "X, y = data['Summary'], data['Intreset'].values # I feel it would be better to have an array for y instead of a series"
   ]
  },
  {
   "cell_type": "code",
   "execution_count": null,
   "metadata": {
    "id": "q1AnF_gjCqSi"
   },
   "outputs": [],
   "source": [
    "# This is gonna break my sentences to word\n",
    "tokenizer = Tokenizer()\n",
    "\n",
    "# This is gonna create my vocab or the dictionary which maps words to numbers\n",
    "tokenizer.fit_on_texts(X)\n",
    "\n",
    "#This creates my word index. An array with numbers, basically a sentence in numbers(if that makes sense?)\n",
    "word_indices = tokenizer.texts_to_sequences(X)"
   ]
  },
  {
   "cell_type": "code",
   "execution_count": null,
   "metadata": {
    "colab": {
     "base_uri": "https://localhost:8080/"
    },
    "id": "RhiVxBzvDw1G",
    "outputId": "b7187095-4929-4d0e-c312-95c8d71275d9"
   },
   "outputs": [
    {
     "name": "stdout",
     "output_type": "stream",
     "text": [
      "[635, 636, 22, 336, 337, 20, 119, 13, 3, 34, 6, 637, 4, 638, 7, 639, 9, 12, 170, 120, 1, 22, 29, 7, 640, 1, 120, 338, 339, 3, 641, 41, 642, 643, 41, 340, 121, 3, 171, 62, 13, 233, 644, 122, 32, 29, 5, 3, 172, 234, 31, 35, 48, 235, 6, 341, 170, 18, 52, 645, 342, 96, 236, 1, 237, 646, 6, 647, 170, 2, 31, 36, 48, 235, 23, 18, 123, 341, 49, 648, 11, 173, 25, 15, 48, 235, 1, 172, 29, 1, 22, 29, 649, 119, 42, 3, 238, 650, 651, 652, 3, 653, 120, 119, 11, 174, 336, 63, 97, 654, 23, 3, 655, 124, 11, 656, 657, 658, 659, 98, 660, 26, 661, 7, 12, 120]\n"
     ]
    }
   ],
   "source": [
    "print(word_indices[0])"
   ]
  },
  {
   "cell_type": "code",
   "execution_count": null,
   "metadata": {
    "id": "Y2k09qIRDzPA"
   },
   "outputs": [],
   "source": [
    "vocab = tokenizer.word_index"
   ]
  },
  {
   "cell_type": "code",
   "execution_count": null,
   "metadata": {
    "id": "OeU5nD-ozRVs"
   },
   "outputs": [],
   "source": [
    "max_len = max(max(i) for i in word_indices)\n",
    "word_indices_padded = pad_sequences(word_indices, maxlen=max_len, padding='post')\n",
    "word_indices_np_padded = np.array(word_indices_padded)"
   ]
  },
  {
   "cell_type": "markdown",
   "metadata": {
    "id": "1tNfjlSiEfZh"
   },
   "source": [
    "Ok so, I cant create an numpy array directly as my summaries differ in length (ofc), so chatgpt says I can either using padding ( basically fill the shorter summaries with empty strings to get uniform lengths on every summary). I can do that or create an numpy object array.\n",
    "\n",
    "I dont know which one is better, will have to ask Alok Mama. <br>\n",
    "Currenly using object array"
   ]
  },
  {
   "cell_type": "code",
   "execution_count": null,
   "metadata": {
    "id": "0uCn8sTaGjsh"
   },
   "outputs": [],
   "source": [
    "# Creating the vectorize sequence\n",
    "one_hot_encoded = tokenizer.texts_to_matrix(X, mode='binary')"
   ]
  },
  {
   "cell_type": "code",
   "execution_count": null,
   "metadata": {
    "colab": {
     "base_uri": "https://localhost:8080/"
    },
    "id": "mdWcl6_MKm1i",
    "outputId": "6d73979f-7f29-4147-f40b-04ca9be96d6c"
   },
   "outputs": [
    {
     "data": {
      "text/plain": [
       "(43, 1498)"
      ]
     },
     "execution_count": 12,
     "metadata": {},
     "output_type": "execute_result"
    }
   ],
   "source": [
    "one_hot_encoded.shape"
   ]
  },
  {
   "cell_type": "code",
   "execution_count": null,
   "metadata": {
    "id": "h9T-cgP92sve"
   },
   "outputs": [],
   "source": [
    "y_train = np.asarray(y).astype('float32')"
   ]
  },
  {
   "cell_type": "code",
   "execution_count": null,
   "metadata": {
    "colab": {
     "base_uri": "https://localhost:8080/"
    },
    "id": "BxLnnHE18BVF",
    "outputId": "36a41ef2-6a1f-4e25-9e24-36b9a9c2c6fc"
   },
   "outputs": [
    {
     "data": {
      "text/plain": [
       "array([1., 0., 1., 1., 0.], dtype=float32)"
      ]
     },
     "execution_count": 18,
     "metadata": {},
     "output_type": "execute_result"
    }
   ],
   "source": [
    "x_test = word_indices_np_padded[-5:]\n",
    "y_test = y_train[-5:]"
   ]
  },
  {
   "cell_type": "code",
   "execution_count": null,
   "metadata": {
    "id": "wHRmYxLo8dCa"
   },
   "outputs": [],
   "source": [
    "word_indices_np_padded = word_indices_np_padded[:-5]\n",
    "y_train = y_train[:-5]"
   ]
  },
  {
   "cell_type": "code",
   "execution_count": null,
   "metadata": {
    "id": "PZc6WublKyFd"
   },
   "outputs": [],
   "source": [
    "import tensorflow as tf\n",
    "from tensorflow.keras.models import Sequential\n",
    "from tensorflow.keras.layers import Dense"
   ]
  },
  {
   "cell_type": "code",
   "execution_count": null,
   "metadata": {
    "id": "ou8rWTul19Vf"
   },
   "outputs": [],
   "source": [
    "model = Sequential([\n",
    "    Dense(16, activation='relu'),\n",
    "    Dense(16, activation='relu'),\n",
    "    Dense(1, activation='sigmoid')\n",
    "])"
   ]
  },
  {
   "cell_type": "code",
   "execution_count": null,
   "metadata": {
    "id": "imlx_b4q2Tlp"
   },
   "outputs": [],
   "source": [
    "model.compile(optimizer='adam', loss='binary_crossentropy', metrics=['accuracy'])"
   ]
  },
  {
   "cell_type": "code",
   "execution_count": null,
   "metadata": {
    "colab": {
     "base_uri": "https://localhost:8080/"
    },
    "id": "lF9WZujP2ii5",
    "outputId": "21eabaaf-beb8-4433-d20c-be5c4cbfac7f"
   },
   "outputs": [
    {
     "name": "stdout",
     "output_type": "stream",
     "text": [
      "Epoch 1/10\n",
      "2/2 [==============================] - 1s 15ms/step - loss: 57.2774 - accuracy: 0.4211\n",
      "Epoch 2/10\n",
      "2/2 [==============================] - 0s 10ms/step - loss: 17.7037 - accuracy: 0.6316\n",
      "Epoch 3/10\n",
      "2/2 [==============================] - 0s 10ms/step - loss: 9.9120 - accuracy: 0.8421\n",
      "Epoch 4/10\n",
      "2/2 [==============================] - 0s 14ms/step - loss: 6.5565 - accuracy: 0.8684\n",
      "Epoch 5/10\n",
      "2/2 [==============================] - 0s 14ms/step - loss: 4.7042 - accuracy: 0.8947\n",
      "Epoch 6/10\n",
      "2/2 [==============================] - 0s 9ms/step - loss: 3.9467 - accuracy: 0.8421\n",
      "Epoch 7/10\n",
      "2/2 [==============================] - 0s 10ms/step - loss: 3.9071 - accuracy: 0.8421\n",
      "Epoch 8/10\n",
      "2/2 [==============================] - 0s 10ms/step - loss: 3.2846 - accuracy: 0.8684\n",
      "Epoch 9/10\n",
      "2/2 [==============================] - 0s 12ms/step - loss: 2.7450 - accuracy: 0.8684\n",
      "Epoch 10/10\n",
      "2/2 [==============================] - 0s 11ms/step - loss: 2.2741 - accuracy: 0.9211\n"
     ]
    }
   ],
   "source": [
    "model.fit(word_indices_np_padded, y_train, epochs=10);"
   ]
  },
  {
   "cell_type": "code",
   "execution_count": null,
   "metadata": {
    "colab": {
     "base_uri": "https://localhost:8080/"
    },
    "id": "3vRrwZ3yz7gM",
    "outputId": "95fbd59e-b180-4196-8088-aab515fbf4a3"
   },
   "outputs": [
    {
     "name": "stdout",
     "output_type": "stream",
     "text": [
      "1/1 [==============================] - 0s 93ms/step\n"
     ]
    }
   ],
   "source": [
    "y_pred_prob = model.predict(x_test)"
   ]
  },
  {
   "cell_type": "code",
   "execution_count": null,
   "metadata": {
    "colab": {
     "base_uri": "https://localhost:8080/"
    },
    "id": "JAenl6b-0GaZ",
    "outputId": "e6a90c62-e26e-40e3-e39b-f1bcb72ed65d"
   },
   "outputs": [
    {
     "data": {
      "text/plain": [
       "array([[0.0000000e+00],\n",
       "       [3.4031062e-13],\n",
       "       [6.8153179e-01],\n",
       "       [4.5460315e-13],\n",
       "       [8.7038654e-07]], dtype=float32)"
      ]
     },
     "execution_count": 25,
     "metadata": {},
     "output_type": "execute_result"
    }
   ],
   "source": [
    "y_pred_prob"
   ]
  },
  {
   "cell_type": "code",
   "execution_count": null,
   "metadata": {
    "id": "PHTmIJD480WJ"
   },
   "outputs": [],
   "source": [
    "threshold = 0.5\n",
    "\n",
    "# Convert probabilities to class labels\n",
    "y_pred_class = (y_pred_prob >= threshold).astype(int)"
   ]
  },
  {
   "cell_type": "code",
   "execution_count": null,
   "metadata": {
    "colab": {
     "base_uri": "https://localhost:8080/"
    },
    "id": "mp56D1-c8_2J",
    "outputId": "d589d79b-eb57-4d23-9b2f-2e2ec7eb9fa9"
   },
   "outputs": [
    {
     "data": {
      "text/plain": [
       "0.6"
      ]
     },
     "execution_count": 27,
     "metadata": {},
     "output_type": "execute_result"
    }
   ],
   "source": [
    "accuracy = np.mean(y_pred_class == y_test.reshape(-1, 1))\n",
    "accuracy"
   ]
  },
  {
   "cell_type": "code",
   "execution_count": null,
   "metadata": {
    "id": "rHkoEbDU9oih"
   },
   "outputs": [],
   "source": [
    "from sklearn.metrics import confusion_matrix"
   ]
  },
  {
   "cell_type": "code",
   "execution_count": null,
   "metadata": {
    "id": "U1Nhr5SM9Qb_"
   },
   "outputs": [],
   "source": [
    "cm = confusion_matrix(y_test, y_pred_class)"
   ]
  },
  {
   "cell_type": "code",
   "execution_count": null,
   "metadata": {
    "colab": {
     "base_uri": "https://localhost:8080/"
    },
    "id": "T_mGA1zl9qY5",
    "outputId": "37b35d5e-9a31-411e-9c12-5c6415b0a93b"
   },
   "outputs": [
    {
     "data": {
      "text/plain": [
       "array([[2, 0],\n",
       "       [2, 1]])"
      ]
     },
     "execution_count": 30,
     "metadata": {},
     "output_type": "execute_result"
    }
   ],
   "source": [
    "cm"
   ]
  },
  {
   "cell_type": "code",
   "execution_count": null,
   "metadata": {
    "id": "hRfn4bZQ9rxv"
   },
   "outputs": [],
   "source": [
    "from sklearn.metrics import precision_score, recall_score, f1_score, roc_auc_score\n",
    "\n",
    "precision = precision_score(y_test, y_pred_class)\n",
    "recall = recall_score(y_test, y_pred_class)\n",
    "f1 = f1_score(y_test, y_pred_class)\n",
    "roc_auc = roc_auc_score(y_test, y_pred_prob)"
   ]
  },
  {
   "cell_type": "code",
   "execution_count": null,
   "metadata": {
    "colab": {
     "base_uri": "https://localhost:8080/"
    },
    "id": "PE6-Q_f_97B2",
    "outputId": "0c010aaf-bd54-4623-f953-44600134bdc8"
   },
   "outputs": [
    {
     "name": "stdout",
     "output_type": "stream",
     "text": [
      "Precision: 1.0000\n",
      "Recall: 0.3333\n",
      "F1 Score: 0.5000\n",
      "ROC AUC: 0.5000\n"
     ]
    }
   ],
   "source": [
    "print(f'Precision: {precision:.4f}')\n",
    "print(f'Recall: {recall:.4f}')\n",
    "print(f'F1 Score: {f1:.4f}')\n",
    "print(f'ROC AUC: {roc_auc:.4f}')"
   ]
  },
  {
   "cell_type": "code",
   "execution_count": null,
   "metadata": {
    "id": "fOq1YvOU9-sb"
   },
   "outputs": [],
   "source": []
  }
 ],
 "metadata": {
  "colab": {
   "provenance": []
  },
  "kernelspec": {
   "display_name": "Python 3 (ipykernel)",
   "language": "python",
   "name": "python3"
  },
  "language_info": {
   "codemirror_mode": {
    "name": "ipython",
    "version": 3
   },
   "file_extension": ".py",
   "mimetype": "text/x-python",
   "name": "python",
   "nbconvert_exporter": "python",
   "pygments_lexer": "ipython3",
   "version": "3.11.7"
  }
 },
 "nbformat": 4,
 "nbformat_minor": 1
}
