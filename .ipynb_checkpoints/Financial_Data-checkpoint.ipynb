{
 "cells": [
  {
   "cell_type": "code",
   "execution_count": 2,
   "id": "ca2d5302",
   "metadata": {},
   "outputs": [],
   "source": [
    "import yfinance as yf\n",
    "import requests"
   ]
  },
  {
   "cell_type": "code",
   "execution_count": 2,
   "id": "4ce9bdd2",
   "metadata": {},
   "outputs": [],
   "source": [
    "def find_symbol(company_name):\n",
    "    \n",
    "    url = 'https://www.alphavantage.co/query?function=SYMBOL_SEARCH&keywords={}&apikey=Y9DN79N2PBBK2X1O'\n",
    "    r = requests.get(url.format(company_name))\n",
    "    data = r.json()\n",
    "    \n",
    "    if 'bestMatches' in data:\n",
    "        best_match = data['bestMatches'][0]\n",
    "        symbol = best_match['1. symbol']\n",
    "        return symbol\n",
    "    \n",
    "    else:\n",
    "        return \"No company found\""
   ]
  },
  {
   "cell_type": "code",
   "execution_count": 4,
   "id": "1a19b4f5",
   "metadata": {},
   "outputs": [],
   "source": [
    "def inp(company_name):\n",
    "    inter = company_name.upper()\n",
    "    inter = inter.split(' ')\n",
    "    symbol = ''.join(inter)\n",
    "    symbol += \".NS\"\n",
    "    \n",
    "    return symbol"
   ]
  },
  {
   "cell_type": "code",
   "execution_count": 5,
   "id": "687a8850",
   "metadata": {},
   "outputs": [],
   "source": [
    "def calc(symbol):\n",
    "    comp = yf.Ticker(symbol)\n",
    "    all_info = comp.info\n",
    "    share_price = all_info['currentPrice']\n",
    "    no_shares = all_info['sharesOutstanding']\n",
    "    eps = all_info['trailingEps']\n",
    "    \n",
    "    market_cap = share_price * no_shares\n",
    "    pe = market_cap/ (eps * no_shares)\n",
    "    \n",
    "    return market_cap, pe"
   ]
  },
  {
   "cell_type": "code",
   "execution_count": 6,
   "id": "3f0468bc",
   "metadata": {},
   "outputs": [],
   "source": [
    "def market_cap_id(market_cap):\n",
    "    if market_cap < (5000 * (10 **7)):\n",
    "        return 's' #Small Cap\n",
    "\n",
    "    elif (5000 * (10 ** 7)) < market_cap < 20000 * (10 ** 7):\n",
    "        return 'm' #Middle Cap\n",
    "\n",
    "    else:\n",
    "           return 'l' #Large Cap"
   ]
  },
  {
   "cell_type": "code",
   "execution_count": 13,
   "id": "51b12408",
   "metadata": {},
   "outputs": [],
   "source": [
    "def main(company_name):\n",
    "    \n",
    "    '''\n",
    "    In the first tuple you get market cap, pe ratio\n",
    "    The second element is if its intresting or not\n",
    "    1 implies intresting, 0 implies not intresting\n",
    "    intresting is based on, if it is large cap or not\n",
    "    '''\n",
    "    \n",
    "    symbol = inp(company_name)\n",
    "    ans = calc(symbol)\n",
    "    Id = market_cap_id(ans[0])\n",
    "    \n",
    "    if Id == 'l':\n",
    "        id2 = 1\n",
    "        \n",
    "    else:\n",
    "        id2 = 0\n",
    "    \n",
    "    return ans,id2"
   ]
  },
  {
   "cell_type": "code",
   "execution_count": 10,
   "id": "60b3e6f7",
   "metadata": {},
   "outputs": [
    {
     "name": "stdout",
     "output_type": "stream",
     "text": [
      "((3638181918515.1997, 11.23181818181818), 1)\n"
     ]
    }
   ],
   "source": [
    "main('tata motors')"
   ]
  },
  {
   "cell_type": "code",
   "execution_count": null,
   "id": "da443f17",
   "metadata": {},
   "outputs": [],
   "source": []
  }
 ],
 "metadata": {
  "kernelspec": {
   "display_name": "Python 3 (ipykernel)",
   "language": "python",
   "name": "python3"
  },
  "language_info": {
   "codemirror_mode": {
    "name": "ipython",
    "version": 3
   },
   "file_extension": ".py",
   "mimetype": "text/x-python",
   "name": "python",
   "nbconvert_exporter": "python",
   "pygments_lexer": "ipython3",
   "version": "3.11.7"
  }
 },
 "nbformat": 4,
 "nbformat_minor": 5
}
