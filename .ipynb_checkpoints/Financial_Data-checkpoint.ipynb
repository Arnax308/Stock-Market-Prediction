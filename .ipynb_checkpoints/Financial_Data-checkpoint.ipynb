{
 "cells": [
  {
   "cell_type": "code",
   "execution_count": 1,
   "id": "ca2d5302",
   "metadata": {},
   "outputs": [],
   "source": [
    "import yfinance as yf\n",
    "import requests\n",
    "import numpy as np\n",
    "import pandas as pd\n",
    "from matplotlib import pyplot as plt\n",
    "import matplotlib.dates as mdates\n",
    "from scipy.signal import argrelextrema\n",
    "import matplotlib.colors as mcolors\n",
    "from matplotlib.transforms import blended_transform_factory\n",
    "import plotly.graph_objects as go\n",
    "from plotly.subplots import make_subplots\n",
    "\n",
    "import warnings\n",
    "warnings.filterwarnings('ignore')"
   ]
  },
  {
   "cell_type": "code",
   "execution_count": 2,
   "id": "ba90117e",
   "metadata": {},
   "outputs": [],
   "source": [
    "def search_stock_symbol(company_name):\n",
    "    url = f'https://www.alphavantage.co/query?function=SYMBOL_SEARCH&keywords={company_name}&apikey=Y9DN79N2PBBK2X1O'\n",
    "    \n",
    "    # Send request to Alpha Vantage API\n",
    "    response = requests.get(url)\n",
    "    data = response.json()\n",
    "    \n",
    "    # Extract and print best matches\n",
    "    if 'bestMatches' in data:\n",
    "        matches = data['bestMatches']\n",
    "        for match in matches:\n",
    "        \n",
    "            if match['4. region'] == 'India/Bombay':\n",
    "                symbol = match['1. symbol']\n",
    "                name = match['2. name']\n",
    "\n",
    "                return symbol,name\n",
    "\n",
    "            else:\n",
    "                continue\n",
    "    \n",
    "    else:\n",
    "        \n",
    "        raise ValueError(\"No such company found\")"
   ]
  },
  {
   "cell_type": "code",
   "execution_count": 3,
   "id": "1a19b4f5",
   "metadata": {},
   "outputs": [],
   "source": [
    "def symbol_changes(symbol):\n",
    "    symbol = symbol[:-3]\n",
    "    symbol += \"NS\"\n",
    "    \n",
    "    return symbol"
   ]
  },
  {
   "cell_type": "code",
   "execution_count": 4,
   "id": "687a8850",
   "metadata": {},
   "outputs": [],
   "source": [
    "# Calculate EPS and check for -ve growth (quartely-quartely yearly)\n",
    "def pe_and_market_cap(all_info):\n",
    "    \n",
    "    share_price = all_info['currentPrice']\n",
    "    no_shares = all_info['sharesOutstanding']\n",
    "    eps = all_info['trailingEps']\n",
    "    \n",
    "    market_cap = share_price * no_shares\n",
    "    pe = market_cap/ (eps * no_shares)\n",
    "    \n",
    "    if market_cap < (5000 * (10 **7)):\n",
    "        Id ='s' #Small Cap\n",
    "\n",
    "    elif (5000 * (10 ** 7)) < market_cap < 20000 * (10 ** 7):\n",
    "        Id ='m' #Middle Cap\n",
    "\n",
    "    else:\n",
    "           Id ='l' #Large Cap\n",
    "    \n",
    "    if Id == 'l':\n",
    "        id2 = 1\n",
    "        \n",
    "    else:\n",
    "        id2 = 0\n",
    "    \n",
    "    return market_cap, pe, id2"
   ]
  },
  {
   "cell_type": "code",
   "execution_count": 5,
   "id": "aef0676d",
   "metadata": {},
   "outputs": [],
   "source": [
    "def macd(data):\n",
    "    ma12 = data['Close'].ewm(span=12, adjust=False).mean()\n",
    "    ma26 = data['Close'].ewm(span=26, adjust=False).mean()\n",
    "    macd = ma12 - ma26\n",
    "    signal_line = macd.ewm(span=9, adjust=False).mean()\n",
    "    \n",
    "    histogram = macd - signal_line\n",
    "    \n",
    "    data[\"MACD\"] = macd\n",
    "    data['Signal Line'] = signal_line\n",
    "    data['Histogram'] = histogram\n",
    "    \n",
    "    # Calculate slopes for MACD and Signal Line\n",
    "    data['MACD_slope'] = macd - macd.shift(1)\n",
    "    data['Signal_slope'] = signal_line - signal_line.shift(1)\n",
    "    \n",
    "    # Initialize Signal column\n",
    "    data['Signal'] = 0\n",
    "    \n",
    "    # Define conditions for Buy, Sell, and Hold\n",
    "    buy_condition = (\n",
    "        ((data['MACD'] > data['Signal Line']) & (data['MACD'].shift(1) <= data['Signal Line'].shift(1))) |  # Bullish crossover\n",
    "        ((data['MACD_slope'] > 0) & (data['Signal_slope'] > 0))  # Both lines rising\n",
    "    )\n",
    "    \n",
    "    sell_condition = (\n",
    "        ((data['MACD'] < data['Signal Line']) & (data['MACD'].shift(1) >= data['Signal Line'].shift(1))) |  # Bearish crossover\n",
    "        ((data['MACD_slope'] < 0) & (data['Signal_slope'] < 0))  # Both lines falling\n",
    "    )\n",
    "    \n",
    "    # Apply conditions\n",
    "    data.loc[buy_condition, 'Signal'] = 1\n",
    "    data.loc[sell_condition, 'Signal'] = -1\n",
    "    \n",
    "    # Creating a column for prediction (Buy, Sell, or Hold)\n",
    "    data['Prediction'] = data['Signal'].apply(lambda x: 'Buy' if x == 1 else ('Sell' if x == -1 else 'Hold'))\n",
    "    \n",
    "    return data[['Close', 'MACD', 'Signal Line', 'Histogram', 'MACD_slope', 'Signal_slope', 'Prediction']]"
   ]
  },
  {
   "cell_type": "code",
   "execution_count": 6,
   "id": "200215ee",
   "metadata": {},
   "outputs": [],
   "source": [
    "def rsi(data, window=14):\n",
    "    delta = data['Close'].diff()\n",
    "    gain = delta.where(delta > 0, 0)\n",
    "    loss = -delta.where(delta < 0, 0)\n",
    "    \n",
    "    # Calculate initial average gains and losses\n",
    "    avg_gain = gain[:window].mean()\n",
    "    avg_loss = loss[:window].mean()\n",
    "    \n",
    "    # Initialize RSI values\n",
    "    rsi_values = []\n",
    "    \n",
    "    # Iterate through the rest of the data\n",
    "    for i in range(window, len(data)):\n",
    "        avg_gain = (avg_gain * (window - 1) + gain.iloc[i]) / window\n",
    "        avg_loss = (avg_loss * (window - 1) + loss.iloc[i]) / window\n",
    "        \n",
    "        rs = avg_gain / avg_loss\n",
    "        rsi = 100 - (100 / (1 + rs))\n",
    "        \n",
    "        rsi_values.append(rsi)\n",
    "    \n",
    "    # Add RSI column to the DataFrame\n",
    "    data['RSI'] = pd.Series(rsi_values, index=data.index[window:])\n",
    "    \n",
    "    return data[window:], window"
   ]
  },
  {
   "cell_type": "code",
   "execution_count": 7,
   "id": "5d98cd36",
   "metadata": {},
   "outputs": [],
   "source": [
    "# # Not giving the right answer\n",
    "# def lifetime_high(company_name):\n",
    "    \n",
    "#     symbol = inp(company_name)\n",
    "#     comp = yf.Ticker(symbol)\n",
    "#     data = comp.history(period='1y', interval='1d')\n",
    "    \n",
    "#     return round(data['High'].max(), 3)"
   ]
  },
  {
   "cell_type": "code",
   "execution_count": 8,
   "id": "cbc39a23",
   "metadata": {},
   "outputs": [],
   "source": [
    "def fibonacci_retracement(data, window_size=10):\n",
    "    close_prices = data['Close'].values\n",
    "    \n",
    "    # Function to identify trends\n",
    "    def identify_trend(prices, window):\n",
    "        trends = np.zeros(len(prices))\n",
    "        for i in range(window, len(prices)):\n",
    "            if prices[i] > prices[i-window]:\n",
    "                trends[i] = 1  # Uptrend\n",
    "            elif prices[i] < prices[i-window]:\n",
    "                trends[i] = -1  # Downtrend\n",
    "        return trends\n",
    "    \n",
    "    # Identify trends\n",
    "    trends = identify_trend(close_prices, window_size)\n",
    "    \n",
    "    # Find the most recent significant trend change\n",
    "    trend_changes = np.diff(trends)\n",
    "    significant_changes = np.where(np.abs(trend_changes) > 0)[0]\n",
    "    \n",
    "    if len(significant_changes) > 0:\n",
    "        last_change = significant_changes[-1]\n",
    "        current_trend = \"uptrend\" if trends[last_change + 1] == 1 else \"downtrend\"\n",
    "        \n",
    "        # Find high and low prices since the trend change\n",
    "        if current_trend == \"uptrend\":\n",
    "            low_price = np.min(close_prices[max(0, last_change-window_size):last_change+1])\n",
    "            high_price = np.max(close_prices[last_change+1:])\n",
    "        else:\n",
    "            high_price = np.max(close_prices[max(0, last_change-window_size):last_change+1])\n",
    "            low_price = np.min(close_prices[last_change+1:])\n",
    "    else:\n",
    "        # If no significant trend change, use the entire dataset\n",
    "        current_trend = \"uptrend\" if close_prices[-1] > close_prices[0] else \"downtrend\"\n",
    "        high_price = np.max(close_prices)\n",
    "        low_price = np.min(close_prices)\n",
    "    \n",
    "    # Ensure we have valid high and low prices\n",
    "    if high_price == low_price:\n",
    "        high_price = np.max(close_prices)\n",
    "        low_price = np.min(close_prices)\n",
    "        current_trend = \"uptrend\" if close_prices[-1] > close_prices[0] else \"downtrend\"\n",
    "    \n",
    "    # Calculate Fibonacci levels\n",
    "    diff = high_price - low_price\n",
    "    retracement_levels = {\n",
    "        \"23.6%\": high_price - 0.236 * diff if current_trend == \"uptrend\" else low_price + 0.236 * diff,\n",
    "        \"38.2%\": high_price - 0.382 * diff if current_trend == \"uptrend\" else low_price + 0.382 * diff,\n",
    "        \"50%\": high_price - 0.500 * diff if current_trend == \"uptrend\" else low_price + 0.500 * diff,\n",
    "        \"61.8%\": high_price - 0.618 * diff if current_trend == \"uptrend\" else low_price + 0.618 * diff,\n",
    "        \"78.6%\": high_price - 0.786 * diff if current_trend == \"uptrend\" else low_price + 0.786 * diff\n",
    "    }\n",
    "    \n",
    "    extension_levels = {\n",
    "        \"123.6%\": high_price + 0.236 * diff,\n",
    "        \"138.2%\": high_price + 0.382 * diff,\n",
    "        \"150%\": high_price + 0.500 * diff,\n",
    "        \"161.8%\": high_price + 0.618 * diff,\n",
    "        \"200%\": high_price + diff,\n",
    "    }\n",
    "    \n",
    "    return {\n",
    "        \"trend\": current_trend,\n",
    "        \"prices\": {\n",
    "            \"high_price\": high_price,\n",
    "            \"low_price\": low_price\n",
    "        },\n",
    "        \"retracement_levels\": retracement_levels,\n",
    "        \"extension_levels\": extension_levels,\n",
    "    }"
   ]
  },
  {
   "cell_type": "code",
   "execution_count": 9,
   "id": "84466c71",
   "metadata": {},
   "outputs": [],
   "source": [
    "def calculate_trend(df, short_window=14, long_window=50):\n",
    "    # Higher Highs (HH) and Lower Highs (LH)\n",
    "    df['Rolling_Max_High_Short'] = df['High'].rolling(window=short_window).max()\n",
    "    df['Rolling_Max_High_Long'] = df['High'].rolling(window=long_window).max()\n",
    "    df['HH_Short'] = df['High'] > df['Rolling_Max_High_Short'].shift(1)\n",
    "    df['HH_Long'] = df['High'] > df['Rolling_Max_High_Long'].shift(1)\n",
    "    df['LH_Short'] = df['High'] < df['Rolling_Max_High_Short'].shift(1)\n",
    "    df['LH_Long'] = df['High'] < df['Rolling_Max_High_Long'].shift(1)\n",
    "    \n",
    "    # Higher Lows (HL) and Lower Lows (LL)\n",
    "    df['Rolling_Min_Low_Short'] = df['Low'].rolling(window=short_window).min()\n",
    "    df['Rolling_Min_Low_Long'] = df['Low'].rolling(window=long_window).min()\n",
    "    df['HL_Short'] = df['Low'] > df['Rolling_Min_Low_Short'].shift(1)\n",
    "    df['HL_Long'] = df['Low'] > df['Rolling_Min_Low_Long'].shift(1)\n",
    "    df['LL_Short'] = df['Low'] < df['Rolling_Min_Low_Short'].shift(1)\n",
    "    df['LL_Long'] = df['Low'] < df['Rolling_Min_Low_Long'].shift(1)\n",
    "    \n",
    "    df['Bullish_Strength_Short'] = (df['HH_Short'].rolling(window=short_window).sum() + \n",
    "                                    df['HL_Short'].rolling(window=short_window).sum()) / (2 * short_window)\n",
    "    df['Bearish_Strength_Short'] = (df['LH_Short'].rolling(window=short_window).sum() + \n",
    "                                    df['LL_Short'].rolling(window=short_window).sum()) / (2 * short_window)\n",
    "    \n",
    "    df['Bullish_Strength_Long'] = (df['HH_Long'].rolling(window=long_window).sum() + \n",
    "                                   df['HL_Long'].rolling(window=long_window).sum()) / (2 * long_window)\n",
    "    df['Bearish_Strength_Long'] = (df['LH_Long'].rolling(window=long_window).sum() + \n",
    "                                   df['LL_Long'].rolling(window=long_window).sum()) / (2 * long_window)\n",
    "    \n",
    "    return df[long_window:]"
   ]
  },
  {
   "cell_type": "code",
   "execution_count": 10,
   "id": "a87412dd",
   "metadata": {},
   "outputs": [],
   "source": [
    "def interpret_macd(data):\n",
    "    result = data.iloc[-1]\n",
    "    \n",
    "    pred = result['Prediction']\n",
    "    macd_value = result['MACD']\n",
    "    signal_value = result['Signal Line']\n",
    "    histogram = result['Histogram']\n",
    "    macd_slope = result['MACD_slope']\n",
    "    signal_slope = result['Signal_slope']\n",
    "    \n",
    "    if pred == 'Buy':\n",
    "        if macd_value > signal_value and macd_slope > 0 and signal_slope > 0:\n",
    "            macd_response = \"Strong Buy: MACD is above Signal Line and both are rising.\"\n",
    "            macd_score = 1\n",
    "        elif macd_value > signal_value:\n",
    "            macd_response = \"Buy: MACD has just crossed above the Signal Line.\"\n",
    "            macd_score = 0.5\n",
    "        else:\n",
    "            macd_response = \"Weak Buy: MACD and Signal Line are rising, but MACD is still below Signal Line.\"\n",
    "            macd_score = 0.25\n",
    "    \n",
    "    elif pred == 'Sell':\n",
    "       \n",
    "        if macd_value < signal_value and macd_slope < 0 and signal_slope < 0:\n",
    "            macd_response = \"Strong Sell: MACD is below Signal Line and both are falling.\"\n",
    "            macd_score = -1\n",
    "        elif macd_value < signal_value:\n",
    "            macd_response = \"Sell: MACD has just crossed below the Signal Line.\"\n",
    "            macd_score = -0.5\n",
    "        else:\n",
    "            macd_response = \"Weak Sell: MACD and Signal Line are falling, but MACD is still above Signal Line.\"\n",
    "            macd_score = 0.25\n",
    "    \n",
    "    else:  # Hold\n",
    "        if histogram > 0:\n",
    "            if macd_slope > 0 and signal_slope > 0:\n",
    "                macd_response = \"Hold (Bullish): MACD is above Signal Line and both are rising, but no crossover yet.\"\n",
    "                macd_score = 0.25\n",
    "            elif macd_slope < 0 and signal_slope < 0:\n",
    "                macd_response = \"Hold (Bearish Divergence): MACD is above Signal Line but both are falling.\"\n",
    "                macd_score = -0.25\n",
    "            else:\n",
    "                macd_response = \"Hold: MACD is above Signal Line but trend is unclear.\"\n",
    "                macd_score = 0\n",
    "        else:\n",
    "            if macd_slope < 0 and signal_slope < 0:\n",
    "                macd_response = \"Hold (Bearish): MACD is below Signal Line and both are falling, but no crossover yet.\"\n",
    "                macd_score = 0.25\n",
    "            elif macd_slope > 0 and signal_slope > 0:\n",
    "                macd_response = \"Hold (Bullish Divergence): MACD is below Signal Line but both are rising.\"\n",
    "                macd_score = 0.25\n",
    "            else:\n",
    "                macd_response = \"Hold: MACD is below Signal Line but trend is unclear.\"\n",
    "                macd_score = 0\n",
    "    \n",
    "    return macd_score, macd_response"
   ]
  },
  {
   "cell_type": "code",
   "execution_count": 11,
   "id": "8901018b",
   "metadata": {},
   "outputs": [],
   "source": [
    "def analyze_rsi(data):\n",
    "    rsi_value = data['RSI']\n",
    "    current_rsi = rsi_value.iloc[-1]\n",
    "    prev_rsi = rsi_value.iloc[-2]\n",
    "    rsi_change = current_rsi - prev_rsi\n",
    "\n",
    "    if current_rsi > 70:\n",
    "        if rsi_change > 0:\n",
    "            rsi_score = -1  # Strong Sell\n",
    "            rsi_response = f'RSI is {round(current_rsi, 2)} and rising, indicating strong overbought conditions. Consider SELLING.'\n",
    "        else:\n",
    "            rsi_score = -0.75  # Moderate Sell\n",
    "            rsi_response = f'RSI is {round(current_rsi, 2)} but decreasing, suggesting potential reversal from overbought conditions. Monitor closely for selling opportunities.'\n",
    "\n",
    "    elif 70 >= current_rsi > 60:\n",
    "        if rsi_change > 0:\n",
    "            rsi_score = -0.5  # Mild Sell\n",
    "            rsi_response = f'RSI is {round(current_rsi, 2)} and rising towards overbought territory. Consider selling or holding for some more time before selling .'\n",
    "        else:\n",
    "            rsi_score = -0.25  # Weak Sell\n",
    "            rsi_response = f'RSI is {round(current_rsi, 2)} but decreasing, moving away from overbought levels. Hold positions but stay cautious.'\n",
    "\n",
    "    elif 60 >= current_rsi > 50:\n",
    "        if rsi_change > 0:\n",
    "            rsi_score = 0.25  # Weak Buy\n",
    "            rsi_response = f'RSI is {round(current_rsi, 2)} and rising, showing increasing bullish momentum. Consider BUYING.'\n",
    "        else:\n",
    "            rsi_score = -0.25  # Weak Sell\n",
    "            rsi_response = f'RSI is {round(current_rsi, 2)} but decreasing, indicating weakening bullish momentum. Hold current positions.'\n",
    "\n",
    "    elif 50 >= current_rsi > 40:\n",
    "        if rsi_change > 0:\n",
    "            rsi_score = 0.25  # Weak Buy\n",
    "            rsi_response = f'RSI is {round(current_rsi, 2)} and rising, showing potential recovery from bearish territory. Monitor for buying opportunities.'\n",
    "        else:\n",
    "            rsi_score = -0.25  # Weak Sell\n",
    "            rsi_response = f'RSI is {round(current_rsi, 2)} and decreasing, moving towards oversold levels. Hold current positions and watch for further decline to buy.'\n",
    "\n",
    "    elif 40 >= current_rsi > 30:\n",
    "        if rsi_change > 0:\n",
    "            rsi_score = 0.5  # Mild Buy\n",
    "            rsi_response = f'RSI is {round(current_rsi, 2)} and rising from oversold levels. Consider initiating buying.'\n",
    "        else:\n",
    "            rsi_score = 0.25  # Weak Buy\n",
    "            rsi_response = f'RSI is {round(current_rsi, 2)} and approaching oversold territory. Prepare for buying opportunities.'\n",
    "\n",
    "    else:  # RSI <= 30\n",
    "        if rsi_change > 0:\n",
    "            rsi_score = 0.75  # Moderate Buy\n",
    "            rsi_response = f'RSI is {round(current_rsi, 2)} and rising from oversold conditions. Strong buying opportunity, but be aware of potential false signals.'\n",
    "        else:\n",
    "            rsi_score = 1  # Strong Buy\n",
    "            rsi_response = f'RSI is {round(current_rsi, 2)} and still decreasing in oversold territory. Very strong buy signal, but confirm with other indicators.'\n",
    "\n",
    "    return rsi_score, rsi_response"
   ]
  },
  {
   "cell_type": "code",
   "execution_count": 12,
   "id": "1ccef26c",
   "metadata": {},
   "outputs": [],
   "source": [
    "def fib_insight(current_price, levels, trend, previous_price):\n",
    "    insights = []\n",
    "    weight = 0.5  # Start with a neutral weight\n",
    "    \n",
    "    def get_nearest_levels(price, level_dict):\n",
    "        sorted_levels = sorted(level_dict.items(), key=lambda x: x[1])\n",
    "        below = next(((name, value) for name, value in reversed(sorted_levels) if value < price), None)\n",
    "        above = next(((name, value) for name, value in sorted_levels if value > price), None)\n",
    "        return below, above\n",
    "\n",
    "    def calculate_slope(price1, price2):\n",
    "        return (price2 - price1) / price1\n",
    "\n",
    "    slope = calculate_slope(previous_price, current_price)\n",
    "    \n",
    "    if trend == 'uptrend':\n",
    "        below, above = get_nearest_levels(current_price, levels['extension'])\n",
    "        \n",
    "        if below and above:\n",
    "            below_name, below_value = below\n",
    "            above_name, above_value = above\n",
    "            progress = (current_price - below_value) / (above_value - below_value)\n",
    "            insights.append(f\"Price is between {below_name} ({round(below_value, 2)}) and {above_name} ({round(above_value, 2)}) extension levels.\")\n",
    "            insights.append(f\"Current price has retraced {round(progress * 100, 2)}% of the distance between these levels.\")\n",
    "            \n",
    "            if slope > 0:\n",
    "                insights.append(f\"Price is trending upwards towards {above_name} level. Recommendation: Hold and Buy in the future when the oppurtunity turns up.\")\n",
    "                weight = min(weight + 0.1, 1)\n",
    "            else:\n",
    "                insights.append(f\"Price is trending downwards towards {below_name} level. Recommendation: Buy in the future when the oppurtunity turns up\")\n",
    "                weight = max(weight - 0.1, 0)\n",
    "            \n",
    "            if progress < 0.2:\n",
    "                insights.append(f\"Price is close to {below_name} level, may act as support.\")\n",
    "                weight = min(weight + 0.1, 1)\n",
    "            elif progress > 0.8:\n",
    "                insights.append(f\"Price is approaching {above_name} level, may face resistance.\")\n",
    "                weight = max(weight - 0.1, 0)\n",
    "        \n",
    "        for level_name, level_value in levels['extension'].items():\n",
    "            price_diff_percent = (current_price - level_value) / level_value * 100\n",
    "            if abs(price_diff_percent) <= 1:  # Within 1% of a level\n",
    "                insights.append(f\"Price is very close to {level_name} extension level ({round(level_value, 2)}), indicating potential resistance.\")\n",
    "                if slope > 0:\n",
    "                    insights.append(\"Price is moving upwards. Recommendation: Hold.\")\n",
    "                    weight = max(weight - 0.2, 0)\n",
    "                else:\n",
    "                    insights.append(\"Price is moving downwards. Recommendation: Look for an oppturnity to Buy in the future.\")\n",
    "                    weight = min(weight + 0.1, 1)\n",
    "            elif price_diff_percent > 1:  # Above a level\n",
    "                weight = min(weight + 0.05 * (1 - price_diff_percent / 10), 1)  # Gradual weight increase\n",
    "            \n",
    "    elif trend == 'downtrend':\n",
    "        below, above = get_nearest_levels(current_price, levels['retracement'])\n",
    "        \n",
    "        if below and above:\n",
    "            below_name, below_value = below\n",
    "            above_name, above_value = above\n",
    "            progress = (current_price - below_value) / (above_value - below_value)\n",
    "            insights.append(f\"Price is between {below_name} ({round(below_value, 2)}) and {above_name} ({round(above_value, 2)}) retracement levels.\")\n",
    "            insights.append(f\"Current price has retraced {round(progress * 100, 2)}% of the distance between these levels.\")\n",
    "            \n",
    "            if slope > 0:\n",
    "                insights.append(f\"Price is trending upwards towards {above_name} level. Recommendation: Hold or Buy in the future when the oppurtunity turns up.\")\n",
    "                weight = min(weight + 0.1, 1)\n",
    "            else:\n",
    "                insights.append(f\"Price is trending downwards towards {below_name} level. Recommendation: Buy in the future when the oppurtunity turns up.\")\n",
    "                weight = max(weight - 0.1, 0)\n",
    "            \n",
    "            if progress < 0.2:\n",
    "                insights.append(f\"Price is close to {below_name} level, may act as support.\")\n",
    "                weight = min(weight + 0.1, 1)\n",
    "            elif progress > 0.8:\n",
    "                insights.append(f\"Price is approaching {above_name} level, may face resistance.\")\n",
    "                weight = max(weight - 0.1, 0)\n",
    "        \n",
    "        for level_name, level_value in levels['retracement'].items():\n",
    "            price_diff_percent = (current_price - level_value) / level_value * 100\n",
    "            if abs(price_diff_percent) <= 1:  # Within 1% of a level\n",
    "                insights.append(f\"Price is very close to {level_name} retracement level ({round(level_value, 2)}), indicating potential support.\")\n",
    "                if slope > 0:\n",
    "                    insights.append(\"Price is moving upwards. Recommendation: Hold or Sell in the future when the oppurtunity turns up.\")\n",
    "                    weight = min(weight + 0.2, 1)\n",
    "                else:\n",
    "                    insights.append(\"Price is moving downwards. Recommendation:Sell in the future when the oppurtunity turns up.\")\n",
    "                    weight = max(weight - 0.1, 0)\n",
    "            elif price_diff_percent < -1:  # Below a level\n",
    "                weight = max(weight - 0.05 * (1 + price_diff_percent / 10), 0)  # Gradual weight decrease\n",
    "\n",
    "    # Add overall trend insight based on slope\n",
    "    if slope > 0:\n",
    "        insights.append(f\"Overall, price is trending upwards. Recommendation: Hold or Buy in the future when the oppurtunity turns up.\")\n",
    "        weight = min(weight + 0.1, 1)\n",
    "    elif slope < 0:\n",
    "        insights.append(f\"Overall, price is trending downwards. Recommendation: Buy in the future when the oppurtunity turns up.\")\n",
    "        weight = max(weight - 0.1, 0)\n",
    "    else:\n",
    "        insights.append(\"Price is currently stable with no significant movement. Recommendation: Hold.\")\n",
    "\n",
    "    return insights, weight"
   ]
  },
  {
   "cell_type": "code",
   "execution_count": 13,
   "id": "c7b6e8e6",
   "metadata": {},
   "outputs": [],
   "source": [
    "def analyze_trend(df):\n",
    "    bullish_strength_short = df['Bullish_Strength_Short'].iloc[-1]\n",
    "    bearish_strength_short = df['Bearish_Strength_Short'].iloc[-1]\n",
    "    bullish_strength_long = df['Bullish_Strength_Long'].iloc[-1]\n",
    "    bearish_strength_long = df['Bearish_Strength_Long'].iloc[-1]\n",
    "    \n",
    "    short_term_bias = \"bullish\" if bullish_strength_short > bearish_strength_short else \"bearish\"\n",
    "    long_term_bias = \"bullish\" if bullish_strength_long > bearish_strength_long else \"bearish\"\n",
    "    \n",
    "    if short_term_bias == long_term_bias:\n",
    "        if short_term_bias == \"bullish\":\n",
    "            trend_score = 1  # Strong Bullish\n",
    "            trend_response = f\"The stock is in a strong uptrend, with both short-term and long-term indicators showing bullish signals.\"\n",
    "        else:\n",
    "            trend_score = -1  # Strong Bearish\n",
    "            trend_response = f\"The stock is in a strong downtrend, with both short-term and long-term indicators showing bearish signals.\"\n",
    "    else:\n",
    "        if short_term_bias == \"bullish\":\n",
    "            trend_score = 0.25  # Weak Bullish\n",
    "            trend_response = f\"While the stock is showing recent signs of recovery, it remains in an overall downtrend. Exercise caution with any bullish positions.\"\n",
    "        else:\n",
    "            trend_score = -0.25  # Weak Bearish\n",
    "            trend_response = f\"Although the stock has been falling recently, it remains in an overall uptrend. This could be a temporary pullback in a larger bullish move.\"\n",
    "    \n",
    "    return trend_score, trend_response"
   ]
  },
  {
   "cell_type": "code",
   "execution_count": 14,
   "id": "ffee8d3f",
   "metadata": {},
   "outputs": [],
   "source": [
    "def visualise_fib(d, data):\n",
    "    high = d[\"prices\"]['high_price']\n",
    "    low = d[\"prices\"]['low_price']\n",
    "    trend = d[\"trend\"]\n",
    "    \n",
    "    retracement_levels = d['retracement_levels']\n",
    "    extension_levels = d['extension_levels']\n",
    "    \n",
    "    trend_start_date = data.index[data['Close'] == low][0]\n",
    "    trend_end_date = data.index[data['Close'] == high][0]\n",
    "    \n",
    "    sorted_retracement = sorted(retracement_levels.items(), key=lambda x: float(x[0].strip('%')))\n",
    "    sorted_extension = sorted(extension_levels.items(), key=lambda x: float(x[0].strip('%')), reverse=True)\n",
    "    sorted_levels = sorted_extension + sorted_retracement\n",
    "    \n",
    "    extension_colors = ['#FF4136', '#FF851B', '#FFDC00', '#2ECC40', '#0074D9']  # Red, Orange, Yellow, Green, Blue\n",
    "    retracement_colors = ['#B10DC9', '#F012BE', '#85144b', '#001f3f', '#39CCCC']  # Purple, Pink, Maroon, Navy, Teal\n",
    "    \n",
    "    colors = extension_colors[:len(extension_levels)] + retracement_colors[:len(retracement_levels)]\n",
    "    \n",
    "    fig = make_subplots(specs=[[{\"secondary_y\": True}]])\n",
    "    \n",
    "    hover_template = \"<b>Date:</b> %{x|%d %b %y}<br><b>Close:</b> %{y:.2f}<extra></extra>\"\n",
    "    fig.add_trace(go.Scatter(\n",
    "        x=data.index, \n",
    "        y=data['Close'], \n",
    "        name='Close Price', \n",
    "        line=dict(color='#1e90ff', width=3),\n",
    "        hovertemplate=hover_template\n",
    "    ))\n",
    "    \n",
    "    # Add trend area\n",
    "    fig.add_trace(go.Scatter(x=[trend_start_date, trend_start_date, trend_end_date, trend_end_date],\n",
    "                             y=[data['Close'].min(), data['Close'].max(), data['Close'].max(), data['Close'].min()],\n",
    "                             fill='toself',\n",
    "                             fillcolor='rgba(255,255,0,0.3)',\n",
    "                             line=dict(color='rgba(255,255,0,0)'),\n",
    "                             name='Trend Area'))\n",
    "    \n",
    "    # Add Fibonacci levels\n",
    "    for i, (label, level) in enumerate(sorted_levels):\n",
    "        color = colors[i]\n",
    "        dash = 'dash' if label in retracement_levels else 'dot'\n",
    "        fig.add_trace(go.Scatter(x=[data.index[0], data.index[-1]], y=[level, level],\n",
    "                                 mode='lines',\n",
    "                                 name=f'{label} ({round(level, 2)})',\n",
    "                                 line=dict(color=color, width=2, dash=dash)))\n",
    "        \n",
    "        # Add level badges\n",
    "        fig.add_annotation(x=data.index[-1], y=level,\n",
    "                           text=f'{label} ({round(level, 2)})',\n",
    "                           showarrow=False,\n",
    "                           xanchor='left',\n",
    "                           xshift=10,\n",
    "                           font=dict(color=color, size=10),\n",
    "                           bgcolor='white',\n",
    "                           bordercolor=color,\n",
    "                           borderwidth=2,\n",
    "                           borderpad=4,\n",
    "                           opacity=0.8)\n",
    "    \n",
    "    # Update layout\n",
    "    fig.update_layout(\n",
    "        title='Fibonacci Retracement and Extension Levels',\n",
    "        xaxis_title='Date',\n",
    "        yaxis_title='Price',\n",
    "        legend_title='Levels',\n",
    "        hovermode='x unified',\n",
    "        xaxis=dict(\n",
    "            tickformat='%d %b %y',  # Updated date format\n",
    "            tickangle=45,\n",
    "            range=[data.index[-180], data.index[-1] + pd.Timedelta(days=20)],\n",
    "            tickmode='array',\n",
    "            tickvals=pd.date_range(start=data.index[-180], end=data.index[-1], freq='MS'),  # Monthly ticks\n",
    "            ticktext=pd.date_range(start=data.index[-180], end=data.index[-1], freq='MS').strftime('%d %b %y')  # Formatted tick labels\n",
    "        ),\n",
    "        showlegend=True\n",
    "    )\n",
    "    \n",
    "    fig.update_yaxes(tickformat='.2f')\n",
    "    \n",
    "    return fig"
   ]
  },
  {
   "cell_type": "code",
   "execution_count": 15,
   "id": "219435ff",
   "metadata": {},
   "outputs": [],
   "source": [
    "def visualise_macd(data):\n",
    "    \n",
    "    valid_data = data.dropna(subset=['MACD', 'Signal Line'])\n",
    "    \n",
    "    fig, ax1 = plt.subplots(1, figsize=(12,8))\n",
    "    \n",
    "    plt.style.use('ggplot')\n",
    "    \n",
    "    # Change colors to more pleasing options\n",
    "    macd_color = '#1e90ff'  # Dodger Blue\n",
    "    signal_color = '#ff6347'  # Tomato\n",
    "    \n",
    "    # Plot MACD and Signal lines\n",
    "    ax1.plot(valid_data.index, valid_data['MACD'], label='MACD', color=macd_color, linewidth=1.5)\n",
    "    ax1.plot(valid_data.index, valid_data['Signal Line'], label='Signal Line', color=signal_color, linestyle='--', linewidth=1.5)\n",
    "    \n",
    "    # Improve histogram appearance using fill_between instead of bar\n",
    "    histogram = valid_data['MACD'] - valid_data['Signal Line']\n",
    "    ax1.fill_between(valid_data.index, histogram, 0, where=histogram >= 0, facecolor='#2ecc71', alpha=0.7, interpolate=True, label='Positive Histogram')\n",
    "    ax1.fill_between(valid_data.index, histogram, 0, where=histogram < 0, facecolor='#e74c3c', alpha=0.7, interpolate=True, label='Negative Histogram')\n",
    "    \n",
    "    # Enhance the legend\n",
    "    ax1.legend(loc='upper left', frameon=True, fancybox=True, shadow=True)\n",
    "    \n",
    "    # Improve x-axis\n",
    "    ax1.xaxis.set_major_locator(mdates.MonthLocator())\n",
    "    ax1.xaxis.set_major_formatter(mdates.DateFormatter('%b'))\n",
    "    plt.xticks(rotation=45, ha='right')\n",
    "    \n",
    "    # Adding extra days\n",
    "    extra_days = pd.Timedelta(days=20)\n",
    "    ax1.set_xlim(data.index[0], data.index[-1]+extra_days)\n",
    "    \n",
    "    # Set title and labels\n",
    "    ax1.set_title(\"MACD Indicator\", fontsize=16, fontweight='bold')\n",
    "    ax1.set_xlabel(\"Date\", fontsize=12)\n",
    "    ax1.set_ylabel(\"MACD Value\", fontsize=12)\n",
    "    \n",
    "    \n",
    "    ax1.grid(True, linestyle='--', alpha=0.7)\n",
    "    \n",
    "    # Adjust layout\n",
    "    plt.tight_layout()\n",
    "    \n",
    "    plt.show()"
   ]
  },
  {
   "cell_type": "code",
   "execution_count": 16,
   "id": "a94ef505",
   "metadata": {},
   "outputs": [],
   "source": [
    "def visualise_rsi(data, window):\n",
    "    fig = go.Figure()\n",
    "\n",
    "    # Add the RSI line\n",
    "    fig.add_trace(go.Scatter(\n",
    "        x=data.index,\n",
    "        y=data['RSI'],\n",
    "        mode='lines',\n",
    "        name='RSI',\n",
    "        line=dict(color='dodgerblue', width=2),\n",
    "        hovertemplate='Date: %{x|%b %d}<br>RSI: %{y:.2f}<extra></extra>'\n",
    "    ))\n",
    "\n",
    "    # Add threshold lines for overbought (70) and oversold (30)\n",
    "    fig.add_hline(y=70, line_dash=\"dash\", line_color=\"red\", line_width=2)\n",
    "    fig.add_hline(y=30, line_dash=\"dash\", line_color=\"green\", line_width=2)\n",
    "\n",
    "    # Set axis labels and title\n",
    "    fig.update_layout(\n",
    "        title=\"RSI (Relative Strength Index)\",\n",
    "        yaxis_title=\"RSI Value\",\n",
    "        xaxis_title=\"Date\",\n",
    "        font=dict(size=14),\n",
    "        showlegend=True,\n",
    "        legend=dict(x=0.01, y=0.99, font=dict(size=12)),\n",
    "        hovermode=\"x unified\",\n",
    "    )\n",
    "\n",
    "    # Set y-axis range and tick values\n",
    "    fig.update_yaxes(\n",
    "        range=[0, 100],\n",
    "        tickmode='linear',\n",
    "        tick0=0,\n",
    "        dtick=10\n",
    "    )\n",
    "\n",
    "    # Set x-axis range and tick format\n",
    "    extra_days = pd.Timedelta(days=20)\n",
    "    fig.update_xaxes(\n",
    "        range=[data.index[window-2], data.index[-1]+extra_days],\n",
    "        tickmode='auto',\n",
    "        nticks=10\n",
    "    )\n",
    "\n",
    "    # Update the layout for a cleaner look\n",
    "    fig.update_layout(\n",
    "        plot_bgcolor='white',\n",
    "        xaxis=dict(\n",
    "            showgrid=True,\n",
    "            zeroline=False,\n",
    "            showline=True,\n",
    "            showticklabels=True,\n",
    "        ),\n",
    "        yaxis=dict(\n",
    "            showgrid=True,\n",
    "            zeroline=False,\n",
    "            showline=True,\n",
    "            showticklabels=True,\n",
    "        )\n",
    "    )\n",
    "\n",
    "    # Show the plot\n",
    "    fig.show()"
   ]
  },
  {
   "cell_type": "code",
   "execution_count": 17,
   "id": "16a8f068",
   "metadata": {},
   "outputs": [],
   "source": [
    "def plot_stock_trends_candlestick(df):\n",
    "    # Create the candlestick chart\n",
    "    fig = go.Figure(data=[go.Candlestick(\n",
    "        x=df.index,\n",
    "        open=df['Open'],\n",
    "        high=df['High'],\n",
    "        low=df['Low'],\n",
    "        close=df['Close'],\n",
    "        increasing_line_color='#26A69A',  # Green color for up candles\n",
    "        decreasing_line_color='#EF5350',  # Red color for down candles\n",
    "        line=dict(width=1),  # Thinner lines for candle wicks\n",
    "        increasing_fillcolor='#26A69A',  # Fill color for up candles\n",
    "        decreasing_fillcolor='#EF5350'   # Fill color for down candles\n",
    "    )])\n",
    "\n",
    "    # Update layout for a cleaner look\n",
    "    fig.update_layout(\n",
    "        title='Candle Chart',\n",
    "        yaxis_title= 'Price', \n",
    "        xaxis_title='Date',  \n",
    "        xaxis_rangeslider_visible=False,\n",
    "        plot_bgcolor='white',\n",
    "        hovermode='x unified',\n",
    "        showlegend=False, \n",
    "        margin=dict(l=0, r=0, t=0, b=0)  # Remove margins\n",
    "    )\n",
    "\n",
    "    # Update y-axis\n",
    "    fig.update_yaxes(\n",
    "        showgrid=True,\n",
    "        gridwidth=1,\n",
    "        gridcolor='lightgrey',\n",
    "        zeroline=False,\n",
    "        showticklabels=True\n",
    "    )\n",
    "\n",
    "    # Update x-axis\n",
    "    fig.update_xaxes(\n",
    "        showgrid=True,\n",
    "        gridwidth=1,\n",
    "        gridcolor='lightgrey',\n",
    "        zeroline=False,\n",
    "        rangeslider_visible=False,\n",
    "        showticklabels=True,\n",
    "        rangebreaks=[dict(bounds=[\"sat\", \"mon\"])]  # hide weekends\n",
    "    )\n",
    "\n",
    "    fig.show() "
   ]
  },
  {
   "cell_type": "code",
   "execution_count": 23,
   "id": "c6f409ba",
   "metadata": {
    "scrolled": false
   },
   "outputs": [
    {
     "name": "stdout",
     "output_type": "stream",
     "text": [
      "Enter a name: exide\n",
      "\n",
      "Sell stocks of EXIDE INDUSTRIES LTD.\n",
      "Current Price of EXIDE INDUSTRIES LTD.: 494.2\n",
      "Market Cap of EXIDE INDUSTRIES LTD.: 42007.0 Crores\n",
      "The P/E ratio is 47.98, which is above 20, hence SELL\n"
     ]
    },
    {
     "data": {
      "image/png": "[encoded data removed]",
      "text/plain": [
       "<Figure size 1200x800 with 1 Axes>"
      ]
     },
     "metadata": {},
     "output_type": "display_data"
    },
    {
     "name": "stdout",
     "output_type": "stream",
     "text": [
      "Hold: MACD is above Signal Line but trend is unclear.\n"
     ]
    },
    {
     "data": {
      "application/vnd.plotly.v1+json": {
       "config": {
        "plotlyServerURL": "https://plot.ly"
       },
       "data": [
        {
         "hovertemplate": "Date: %{x|%b %d}<br>RSI: %{y:.2f}<extra></extra>",
         "line": {
          "color": "dodgerblue",
          "width": 2
         },
         "mode": "lines",
         "name": "RSI",
         "type": "scatter",
         "x": [
          "2022-11-09T00:00:00+05:30",
          "2022-11-10T00:00:00+05:30",
          "2022-11-11T00:00:00+05:30",
          "2022-11-14T00:00:00+05:30",
          "2022-11-15T00:00:00+05:30",
          "2022-11-16T00:00:00+05:30",
          "2022-11-17T00:00:00+05:30",
          "2022-11-18T00:00:00+05:30",
          "2022-11-21T00:00:00+05:30",
          "2022-11-22T00:00:00+05:30",
          "2022-11-23T00:00:00+05:30",
          "2022-11-24T00:00:00+05:30",
          "2022-11-25T00:00:00+05:30",
          "2022-11-28T00:00:00+05:30",
          "2022-11-29T00:00:00+05:30",
          "2022-11-30T00:00:00+05:30",
          "2022-12-01T00:00:00+05:30",
          "2022-12-02T00:00:00+05:30",
          "2022-12-05T00:00:00+05:30",
          "2022-12-06T00:00:00+05:30",
          "2022-12-07T00:00:00+05:30",
          "2022-12-08T00:00:00+05:30",
          "2022-12-09T00:00:00+05:30",
          "2022-12-12T00:00:00+05:30",
          "2022-12-13T00:00:00+05:30",
          "2022-12-14T00:00:00+05:30",
          "2022-12-15T00:00:00+05:30",
          "2022-12-16T00:00:00+05:30",
          "2022-12-19T00:00:00+05:30",
          "2022-12-20T00:00:00+05:30",
          "2022-12-21T00:00:00+05:30",
          "2022-12-22T00:00:00+05:30",
          "2022-12-23T00:00:00+05:30",
          "2022-12-26T00:00:00+05:30",
          "2022-12-27T00:00:00+05:30",
          "2022-12-28T00:00:00+05:30",
          "2022-12-29T00:00:00+05:30",
          "2022-12-30T00:00:00+05:30",
          "2023-01-02T00:00:00+05:30",
          "2023-01-03T00:00:00+05:30",
          "2023-01-04T00:00:00+05:30",
          "2023-01-05T00:00:00+05:30",
          "2023-01-06T00:00:00+05:30",
          "2023-01-09T00:00:00+05:30",
          "2023-01-10T00:00:00+05:30",
          "2023-01-11T00:00:00+05:30",
          "2023-01-12T00:00:00+05:30",
          "2023-01-13T00:00:00+05:30",
          "2023-01-16T00:00:00+05:30",
          "2023-01-17T00:00:00+05:30",
          "2023-01-18T00:00:00+05:30",
          "2023-01-19T00:00:00+05:30",
          "2023-01-20T00:00:00+05:30",
          "2023-01-23T00:00:00+05:30",
          "2023-01-24T00:00:00+05:30",
          "2023-01-25T00:00:00+05:30",
          "2023-01-27T00:00:00+05:30",
          "2023-01-30T00:00:00+05:30",
          "2023-01-31T00:00:00+05:30",
          "2023-02-01T00:00:00+05:30",
          "2023-02-02T00:00:00+05:30",
          "2023-02-03T00:00:00+05:30",
          "2023-02-06T00:00:00+05:30",
          "2023-02-07T00:00:00+05:30",
          "2023-02-08T00:00:00+05:30",
          "2023-02-09T00:00:00+05:30",
          "2023-02-10T00:00:00+05:30",
          "2023-02-13T00:00:00+05:30",
          "2023-02-14T00:00:00+05:30",
          "2023-02-15T00:00:00+05:30",
          "2023-02-16T00:00:00+05:30",
          "2023-02-17T00:00:00+05:30",
          "2023-02-20T00:00:00+05:30",
          "2023-02-21T00:00:00+05:30",
          "2023-02-22T00:00:00+05:30",
          "2023-02-23T00:00:00+05:30",
          "2023-02-24T00:00:00+05:30",
          "2023-02-27T00:00:00+05:30",
          "2023-02-28T00:00:00+05:30",
          "2023-03-01T00:00:00+05:30",
          "2023-03-02T00:00:00+05:30",
          "2023-03-03T00:00:00+05:30",
          "2023-03-06T00:00:00+05:30",
          "2023-03-08T00:00:00+05:30",
          "2023-03-09T00:00:00+05:30",
          "2023-03-10T00:00:00+05:30",
          "2023-03-13T00:00:00+05:30",
          "2023-03-14T00:00:00+05:30",
          "2023-03-15T00:00:00+05:30",
          "2023-03-16T00:00:00+05:30",
          "2023-03-17T00:00:00+05:30",
          "2023-03-20T00:00:00+05:30",
          "2023-03-21T00:00:00+05:30",
          "2023-03-22T00:00:00+05:30",
          "2023-03-23T00:00:00+05:30",
          "2023-03-24T00:00:00+05:30",
          "2023-03-27T00:00:00+05:30",
          "2023-03-28T00:00:00+05:30",
          "2023-03-29T00:00:00+05:30",
          "2023-03-31T00:00:00+05:30",
          "2023-04-03T00:00:00+05:30",
          "2023-04-05T00:00:00+05:30",
          "2023-04-06T00:00:00+05:30",
          "2023-04-10T00:00:00+05:30",
          "2023-04-11T00:00:00+05:30",
          "2023-04-12T00:00:00+05:30",
          "2023-04-13T00:00:00+05:30",
          "2023-04-17T00:00:00+05:30",
          "2023-04-18T00:00:00+05:30",
          "2023-04-19T00:00:00+05:30",
          "2023-04-20T00:00:00+05:30",
          "2023-04-21T00:00:00+05:30",
          "2023-04-24T00:00:00+05:30",
          "2023-04-25T00:00:00+05:30",
          "2023-04-26T00:00:00+05:30",
          "2023-04-27T00:00:00+05:30",
          "2023-04-28T00:00:00+05:30",
          "2023-05-02T00:00:00+05:30",
          "2023-05-03T00:00:00+05:30",
          "2023-05-04T00:00:00+05:30",
          "2023-05-05T00:00:00+05:30",
          "2023-05-08T00:00:00+05:30",
          "2023-05-09T00:00:00+05:30",
          "2023-05-10T00:00:00+05:30",
          "2023-05-11T00:00:00+05:30",
          "2023-05-12T00:00:00+05:30",
          "2023-05-15T00:00:00+05:30",
          "2023-05-16T00:00:00+05:30",
          "2023-05-17T00:00:00+05:30",
          "2023-05-18T00:00:00+05:30",
          "2023-05-19T00:00:00+05:30",
          "2023-05-22T00:00:00+05:30",
          "2023-05-23T00:00:00+05:30",
          "2023-05-24T00:00:00+05:30",
          "2023-05-25T00:00:00+05:30",
          "2023-05-26T00:00:00+05:30",
          "2023-05-29T00:00:00+05:30",
          "2023-05-30T00:00:00+05:30",
          "2023-05-31T00:00:00+05:30",
          "2023-06-01T00:00:00+05:30",
          "2023-06-02T00:00:00+05:30",
          "2023-06-05T00:00:00+05:30",
          "2023-06-06T00:00:00+05:30",
          "2023-06-07T00:00:00+05:30",
          "2023-06-08T00:00:00+05:30",
          "2023-06-09T00:00:00+05:30",
          "2023-06-12T00:00:00+05:30",
          "2023-06-13T00:00:00+05:30",
          "2023-06-14T00:00:00+05:30",
          "2023-06-15T00:00:00+05:30",
          "2023-06-16T00:00:00+05:30",
          "2023-06-19T00:00:00+05:30",
          "2023-06-20T00:00:00+05:30",
          "2023-06-21T00:00:00+05:30",
          "2023-06-22T00:00:00+05:30",
          "2023-06-23T00:00:00+05:30",
          "2023-06-26T00:00:00+05:30",
          "2023-06-27T00:00:00+05:30",
          "2023-06-28T00:00:00+05:30",
          "2023-06-30T00:00:00+05:30",
          "2023-07-03T00:00:00+05:30",
          "2023-07-04T00:00:00+05:30",
          "2023-07-05T00:00:00+05:30",
          "2023-07-06T00:00:00+05:30",
          "2023-07-07T00:00:00+05:30",
          "2023-07-10T00:00:00+05:30",
          "2023-07-11T00:00:00+05:30",
          "2023-07-12T00:00:00+05:30",
          "2023-07-13T00:00:00+05:30",
          "2023-07-14T00:00:00+05:30",
          "2023-07-17T00:00:00+05:30",
          "2023-07-18T00:00:00+05:30",
          "2023-07-19T00:00:00+05:30",
          "2023-07-20T00:00:00+05:30",
          "2023-07-21T00:00:00+05:30",
          "2023-07-24T00:00:00+05:30",
          "2023-07-25T00:00:00+05:30",
          "2023-07-26T00:00:00+05:30",
          "2023-07-27T00:00:00+05:30",
          "2023-07-28T00:00:00+05:30",
          "2023-07-31T00:00:00+05:30",
          "2023-08-01T00:00:00+05:30",
          "2023-08-02T00:00:00+05:30",
          "2023-08-03T00:00:00+05:30",
          "2023-08-04T00:00:00+05:30",
          "2023-08-07T00:00:00+05:30",
          "2023-08-08T00:00:00+05:30",
          "2023-08-09T00:00:00+05:30",
          "2023-08-10T00:00:00+05:30",
          "2023-08-11T00:00:00+05:30",
          "2023-08-14T00:00:00+05:30",
          "2023-08-16T00:00:00+05:30",
          "2023-08-17T00:00:00+05:30",
          "2023-08-18T00:00:00+05:30",
          "2023-08-21T00:00:00+05:30",
          "2023-08-22T00:00:00+05:30",
          "2023-08-23T00:00:00+05:30",
          "2023-08-24T00:00:00+05:30",
          "2023-08-25T00:00:00+05:30",
          "2023-08-28T00:00:00+05:30",
          "2023-08-29T00:00:00+05:30",
          "2023-08-30T00:00:00+05:30",
          "2023-08-31T00:00:00+05:30",
          "2023-09-01T00:00:00+05:30",
          "2023-09-04T00:00:00+05:30",
          "2023-09-05T00:00:00+05:30",
          "2023-09-06T00:00:00+05:30",
          "2023-09-07T00:00:00+05:30",
          "2023-09-08T00:00:00+05:30",
          "2023-09-11T00:00:00+05:30",
          "2023-09-12T00:00:00+05:30",
          "2023-09-13T00:00:00+05:30",
          "2023-09-14T00:00:00+05:30",
          "2023-09-15T00:00:00+05:30",
          "2023-09-18T00:00:00+05:30",
          "2023-09-20T00:00:00+05:30",
          "2023-09-21T00:00:00+05:30",
          "2023-09-22T00:00:00+05:30",
          "2023-09-25T00:00:00+05:30",
          "2023-09-26T00:00:00+05:30",
          "2023-09-27T00:00:00+05:30",
          "2023-09-28T00:00:00+05:30",
          "2023-09-29T00:00:00+05:30",
          "2023-10-03T00:00:00+05:30",
          "2023-10-04T00:00:00+05:30",
          "2023-10-05T00:00:00+05:30",
          "2023-10-06T00:00:00+05:30",
          "2023-10-09T00:00:00+05:30",
          "2023-10-10T00:00:00+05:30",
          "2023-10-11T00:00:00+05:30",
          "2023-10-12T00:00:00+05:30",
          "2023-10-13T00:00:00+05:30",
          "2023-10-16T00:00:00+05:30",
          "2023-10-17T00:00:00+05:30",
          "2023-10-18T00:00:00+05:30",
          "2023-10-19T00:00:00+05:30",
          "2023-10-20T00:00:00+05:30",
          "2023-10-23T00:00:00+05:30",
          "2023-10-25T00:00:00+05:30",
          "2023-10-26T00:00:00+05:30",
          "2023-10-27T00:00:00+05:30",
          "2023-10-30T00:00:00+05:30",
          "2023-10-31T00:00:00+05:30",
          "2023-11-01T00:00:00+05:30",
          "2023-11-02T00:00:00+05:30",
          "2023-11-03T00:00:00+05:30",
          "2023-11-06T00:00:00+05:30",
          "2023-11-07T00:00:00+05:30",
          "2023-11-08T00:00:00+05:30",
          "2023-11-09T00:00:00+05:30",
          "2023-11-10T00:00:00+05:30",
          "2023-11-13T00:00:00+05:30",
          "2023-11-15T00:00:00+05:30",
          "2023-11-16T00:00:00+05:30",
          "2023-11-17T00:00:00+05:30",
          "2023-11-20T00:00:00+05:30",
          "2023-11-21T00:00:00+05:30",
          "2023-11-22T00:00:00+05:30",
          "2023-11-23T00:00:00+05:30",
          "2023-11-24T00:00:00+05:30",
          "2023-11-28T00:00:00+05:30",
          "2023-11-29T00:00:00+05:30",
          "2023-11-30T00:00:00+05:30",
          "2023-12-01T00:00:00+05:30",
          "2023-12-04T00:00:00+05:30",
          "2023-12-05T00:00:00+05:30",
          "2023-12-06T00:00:00+05:30",
          "2023-12-07T00:00:00+05:30",
          "2023-12-08T00:00:00+05:30",
          "2023-12-11T00:00:00+05:30",
          "2023-12-12T00:00:00+05:30",
          "2023-12-13T00:00:00+05:30",
          "2023-12-14T00:00:00+05:30",
          "2023-12-15T00:00:00+05:30",
          "2023-12-18T00:00:00+05:30",
          "2023-12-19T00:00:00+05:30",
          "2023-12-20T00:00:00+05:30",
          "2023-12-21T00:00:00+05:30",
          "2023-12-22T00:00:00+05:30",
          "2023-12-26T00:00:00+05:30",
          "2023-12-27T00:00:00+05:30",
          "2023-12-28T00:00:00+05:30",
          "2023-12-29T00:00:00+05:30",
          "2024-01-01T00:00:00+05:30",
          "2024-01-02T00:00:00+05:30",
          "2024-01-03T00:00:00+05:30",
          "2024-01-04T00:00:00+05:30",
          "2024-01-05T00:00:00+05:30",
          "2024-01-08T00:00:00+05:30",
          "2024-01-09T00:00:00+05:30",
          "2024-01-10T00:00:00+05:30",
          "2024-01-11T00:00:00+05:30",
          "2024-01-12T00:00:00+05:30",
          "2024-01-15T00:00:00+05:30",
          "2024-01-16T00:00:00+05:30",
          "2024-01-17T00:00:00+05:30",
          "2024-01-18T00:00:00+05:30",
          "2024-01-19T00:00:00+05:30",
          "2024-01-23T00:00:00+05:30",
          "2024-01-24T00:00:00+05:30",
          "2024-01-25T00:00:00+05:30",
          "2024-01-29T00:00:00+05:30",
          "2024-01-30T00:00:00+05:30",
          "2024-01-31T00:00:00+05:30",
          "2024-02-01T00:00:00+05:30",
          "2024-02-02T00:00:00+05:30",
          "2024-02-05T00:00:00+05:30",
          "2024-02-06T00:00:00+05:30",
          "2024-02-07T00:00:00+05:30",
          "2024-02-08T00:00:00+05:30",
          "2024-02-09T00:00:00+05:30",
          "2024-02-12T00:00:00+05:30",
          "2024-02-13T00:00:00+05:30",
          "2024-02-14T00:00:00+05:30",
          "2024-02-15T00:00:00+05:30",
          "2024-02-16T00:00:00+05:30",
          "2024-02-19T00:00:00+05:30",
          "2024-02-20T00:00:00+05:30",
          "2024-02-21T00:00:00+05:30",
          "2024-02-22T00:00:00+05:30",
          "2024-02-23T00:00:00+05:30",
          "2024-02-26T00:00:00+05:30",
          "2024-02-27T00:00:00+05:30",
          "2024-02-28T00:00:00+05:30",
          "2024-02-29T00:00:00+05:30",
          "2024-03-01T00:00:00+05:30",
          "2024-03-04T00:00:00+05:30",
          "2024-03-05T00:00:00+05:30",
          "2024-03-06T00:00:00+05:30",
          "2024-03-07T00:00:00+05:30",
          "2024-03-11T00:00:00+05:30",
          "2024-03-12T00:00:00+05:30",
          "2024-03-13T00:00:00+05:30",
          "2024-03-14T00:00:00+05:30",
          "2024-03-15T00:00:00+05:30",
          "2024-03-18T00:00:00+05:30",
          "2024-03-19T00:00:00+05:30",
          "2024-03-20T00:00:00+05:30",
          "2024-03-21T00:00:00+05:30",
          "2024-03-22T00:00:00+05:30",
          "2024-03-26T00:00:00+05:30",
          "2024-03-27T00:00:00+05:30",
          "2024-03-28T00:00:00+05:30",
          "2024-04-01T00:00:00+05:30",
          "2024-04-02T00:00:00+05:30",
          "2024-04-03T00:00:00+05:30",
          "2024-04-04T00:00:00+05:30",
          "2024-04-05T00:00:00+05:30",
          "2024-04-08T00:00:00+05:30",
          "2024-04-09T00:00:00+05:30",
          "2024-04-10T00:00:00+05:30",
          "2024-04-12T00:00:00+05:30",
          "2024-04-15T00:00:00+05:30",
          "2024-04-16T00:00:00+05:30",
          "2024-04-18T00:00:00+05:30",
          "2024-04-19T00:00:00+05:30",
          "2024-04-22T00:00:00+05:30",
          "2024-04-23T00:00:00+05:30",
          "2024-04-24T00:00:00+05:30",
          "2024-04-25T00:00:00+05:30",
          "2024-04-26T00:00:00+05:30",
          "2024-04-29T00:00:00+05:30",
          "2024-04-30T00:00:00+05:30",
          "2024-05-02T00:00:00+05:30",
          "2024-05-03T00:00:00+05:30",
          "2024-05-06T00:00:00+05:30",
          "2024-05-07T00:00:00+05:30",
          "2024-05-08T00:00:00+05:30",
          "2024-05-09T00:00:00+05:30",
          "2024-05-10T00:00:00+05:30",
          "2024-05-13T00:00:00+05:30",
          "2024-05-14T00:00:00+05:30",
          "2024-05-15T00:00:00+05:30",
          "2024-05-16T00:00:00+05:30",
          "2024-05-17T00:00:00+05:30",
          "2024-05-21T00:00:00+05:30",
          "2024-05-22T00:00:00+05:30",
          "2024-05-23T00:00:00+05:30",
          "2024-05-24T00:00:00+05:30",
          "2024-05-27T00:00:00+05:30",
          "2024-05-28T00:00:00+05:30",
          "2024-05-29T00:00:00+05:30",
          "2024-05-30T00:00:00+05:30",
          "2024-05-31T00:00:00+05:30",
          "2024-06-03T00:00:00+05:30",
          "2024-06-04T00:00:00+05:30",
          "2024-06-05T00:00:00+05:30",
          "2024-06-06T00:00:00+05:30",
          "2024-06-07T00:00:00+05:30",
          "2024-06-10T00:00:00+05:30",
          "2024-06-11T00:00:00+05:30",
          "2024-06-12T00:00:00+05:30",
          "2024-06-13T00:00:00+05:30",
          "2024-06-14T00:00:00+05:30",
          "2024-06-18T00:00:00+05:30",
          "2024-06-19T00:00:00+05:30",
          "2024-06-20T00:00:00+05:30",
          "2024-06-21T00:00:00+05:30",
          "2024-06-24T00:00:00+05:30",
          "2024-06-25T00:00:00+05:30",
          "2024-06-26T00:00:00+05:30",
          "2024-06-27T00:00:00+05:30",
          "2024-06-28T00:00:00+05:30",
          "2024-07-01T00:00:00+05:30",
          "2024-07-02T00:00:00+05:30",
          "2024-07-03T00:00:00+05:30",
          "2024-07-04T00:00:00+05:30",
          "2024-07-05T00:00:00+05:30",
          "2024-07-08T00:00:00+05:30",
          "2024-07-09T00:00:00+05:30",
          "2024-07-10T00:00:00+05:30",
          "2024-07-11T00:00:00+05:30",
          "2024-07-12T00:00:00+05:30",
          "2024-07-15T00:00:00+05:30",
          "2024-07-16T00:00:00+05:30",
          "2024-07-18T00:00:00+05:30",
          "2024-07-19T00:00:00+05:30",
          "2024-07-22T00:00:00+05:30",
          "2024-07-23T00:00:00+05:30",
          "2024-07-24T00:00:00+05:30",
          "2024-07-25T00:00:00+05:30",
          "2024-07-26T00:00:00+05:30",
          "2024-07-29T00:00:00+05:30",
          "2024-07-30T00:00:00+05:30",
          "2024-07-31T00:00:00+05:30",
          "2024-08-01T00:00:00+05:30",
          "2024-08-02T00:00:00+05:30",
          "2024-08-05T00:00:00+05:30",
          "2024-08-06T00:00:00+05:30",
          "2024-08-07T00:00:00+05:30",
          "2024-08-08T00:00:00+05:30",
          "2024-08-09T00:00:00+05:30",
          "2024-08-12T00:00:00+05:30",
          "2024-08-13T00:00:00+05:30",
          "2024-08-14T00:00:00+05:30",
          "2024-08-16T00:00:00+05:30",
          "2024-08-19T00:00:00+05:30",
          "2024-08-20T00:00:00+05:30",
          "2024-08-21T00:00:00+05:30",
          "2024-08-22T00:00:00+05:30",
          "2024-08-23T00:00:00+05:30",
          "2024-08-26T00:00:00+05:30",
          "2024-08-27T00:00:00+05:30",
          "2024-08-28T00:00:00+05:30",
          "2024-08-29T00:00:00+05:30",
          "2024-08-30T00:00:00+05:30",
          "2024-09-02T00:00:00+05:30",
          "2024-09-03T00:00:00+05:30",
          "2024-09-04T00:00:00+05:30",
          "2024-09-05T00:00:00+05:30",
          "2024-09-06T00:00:00+05:30",
          "2024-09-09T00:00:00+05:30",
          "2024-09-10T00:00:00+05:30",
          "2024-09-11T00:00:00+05:30",
          "2024-09-12T00:00:00+05:30",
          "2024-09-13T00:00:00+05:30",
          "2024-09-16T00:00:00+05:30",
          "2024-09-17T00:00:00+05:30",
          "2024-09-18T00:00:00+05:30",
          "2024-09-19T00:00:00+05:30",
          "2024-09-20T00:00:00+05:30",
          "2024-09-23T00:00:00+05:30",
          "2024-09-24T00:00:00+05:30",
          "2024-09-25T00:00:00+05:30",
          "2024-09-26T00:00:00+05:30",
          "2024-09-27T00:00:00+05:30",
          "2024-09-30T00:00:00+05:30",
          "2024-10-01T00:00:00+05:30",
          "2024-10-03T00:00:00+05:30",
          "2024-10-04T00:00:00+05:30",
          "2024-10-07T00:00:00+05:30",
          "2024-10-08T00:00:00+05:30",
          "2024-10-09T00:00:00+05:30",
          "2024-10-10T00:00:00+05:30",
          "2024-10-11T00:00:00+05:30",
          "2024-10-14T00:00:00+05:30",
          "2024-10-15T00:00:00+05:30",
          "2024-10-16T00:00:00+05:30",
          "2024-10-18T00:00:00+05:30"
         ],
         "y": [
          82.37733091447149,
          83.44297901681625,
          68.63685617920743,
          75.96070687355918,
          77.65637556392723,
          77.85428814193246,
          80.65328589109504,
          75.1457500677924,
          71.3955062322706,
          70.20951740854332,
          70.91891508957008,
          68.91598350279068,
          72.55024182280283,
          72.68963969587219,
          72.88735273850418,
          75.68366762024802,
          74.01166856032779,
          76.22687652953597,
          77.1205937068442,
          77.16679217435096,
          73.79536419735692,
          76.38768119600255,
          71.41874310006969,
          70.64550736634911,
          71.8909702456017,
          71.54685469017501,
          68.03947868960861,
          63.0469017508116,
          64.27040144277404,
          64.84886995326222,
          54.28052737952764,
          46.38307001267709,
          35.25141330376216,
          42.8110221773111,
          38.805684204043764,
          38.734714702724794,
          37.69548531367339,
          44.662124533487344,
          47.06551745094376,
          46.127488935673355,
          42.99022898168706,
          46.23338633108568,
          42.17331170594576,
          47.581320379101726,
          48.01760109727708,
          52.29363330333514,
          51.49529944499754,
          52.38987872196885,
          52.38987872196885,
          55.260649640623804,
          57.00562385165126,
          65.65978332732745,
          57.369193800383904,
          52.05986720639534,
          50.602925376399554,
          47.51828569561464,
          49.86892387929367,
          37.62010040942077,
          46.794110831683625,
          49.69148761034371,
          46.696220891303945,
          45.84596028584941,
          49.966714659604506,
          42.432735397514,
          44.607247389819186,
          46.39149219023241,
          46.597321258987115,
          46.926512980617154,
          49.60286965820143,
          50.054925893247095,
          51.23264189713852,
          48.405435706334295,
          43.5651209623321,
          41.29021244949511,
          34.49978987454665,
          33.95313977383179,
          40.742501534927335,
          36.91653089787294,
          41.983680536010226,
          50.15347994305888,
          51.77854892760446,
          53.51270738240459,
          57.036291041024484,
          62.48092626587363,
          60.66968260460942,
          57.10428470005231,
          47.097676281772955,
          42.72335705074824,
          45.40040587092747,
          43.72767086458437,
          48.36446289084105,
          45.544752014642754,
          46.66108751483584,
          47.01200311426635,
          45.50729133839816,
          41.992079856586166,
          36.77367972236414,
          38.47714479675954,
          48.23934564955746,
          50.20303714574283,
          55.00333458293083,
          55.78459296344712,
          56.496394125347145,
          57.341588878352596,
          63.94275478361902,
          64.5338004753454,
          64.71175073596159,
          69.20521798727927,
          65.22964898279372,
          67.25539456311303,
          67.08000497353541,
          66.15121912310605,
          67.32066006750298,
          71.78265408495196,
          73.75037171431714,
          76.28486271541205,
          78.40856108184224,
          66.65423676640287,
          66.98738815477518,
          67.16398057283033,
          50.01718598005603,
          57.14588353790015,
          54.14290092579903,
          51.77622674876549,
          54.62422450062656,
          55.33442482427153,
          56.281819645926085,
          64.1147645213143,
          75.75539033908346,
          75.990574410704,
          73.06489465355803,
          67.0238182210645,
          73.82844695551526,
          68.41364347419676,
          69.70222324595272,
          70.5792982582396,
          68.99439615346301,
          66.3580625109066,
          70.47796727033358,
          70.67630641967924,
          71.04291002607864,
          70.50050153388605,
          70.97775751881733,
          70.06223988183132,
          63.71892421683828,
          54.352352223695235,
          54.014802339639076,
          55.693874825564684,
          62.31817680976163,
          55.60354191233463,
          66.14742848566341,
          62.196545221434214,
          69.64660706101165,
          76.49340170888924,
          75.2081350055053,
          76.93706747539443,
          76.96689690989012,
          77.09449611526445,
          75.96150325953131,
          78.92937276265422,
          80.7155743597491,
          79.89209021315492,
          83.51457125802673,
          84.31861719299314,
          83.37175353753098,
          84.83854061946073,
          85.44351967637316,
          86.2655634274004,
          79.4512082662721,
          80.95362976556422,
          68.83783466096146,
          67.12944374543164,
          68.12338222268583,
          70.2457538384494,
          70.9697807768901,
          70.27915958206344,
          67.45165246222153,
          69.43792849709017,
          73.03181686461467,
          62.98016902200793,
          59.984343334921256,
          73.6116027389407,
          68.05613309424449,
          63.915439463092,
          63.53695888294397,
          68.61968975038084,
          65.96847814612434,
          68.22392249774644,
          66.66522416779702,
          71.05119648521604,
          64.20828883839559,
          66.20013599303965,
          65.10755854161633,
          66.18091022216083,
          60.932557304197346,
          63.52079584028832,
          64.36819044672369,
          59.56658702623519,
          50.83566270132888,
          53.330857851692095,
          52.376623051471896,
          53.89942891865476,
          59.885398069069055,
          58.24092701294873,
          65.15893708983481,
          63.94528091325243,
          64.79277025220507,
          65.80267622337644,
          64.75485413035148,
          68.66304543144794,
          51.6888132792744,
          53.05227509234754,
          54.324870441961025,
          53.613501299372714,
          50.34744818788424,
          45.075898983663436,
          40.8108454426406,
          38.88203281260949,
          43.108179150052194,
          40.74810460888575,
          45.84190865910382,
          43.32733247974418,
          47.12043377553154,
          46.33462482125416,
          42.11189437847674,
          42.11189437847674,
          46.10771486221011,
          40.92898095101038,
          46.4361175784892,
          52.8418839174308,
          55.10444732977831,
          51.69170679106639,
          54.27719675290539,
          59.48629398175568,
          56.688224598720026,
          54.17904663072275,
          44.39206234359333,
          37.913558473619105,
          36.67217019443589,
          33.35389520771628,
          40.93136045232704,
          44.70706557884847,
          46.11407518861586,
          42.957068087152614,
          49.850503504485744,
          47.75980361993433,
          59.327719820017975,
          59.61705423135037,
          57.47834728914915,
          59.5905053846658,
          58.8378488861107,
          62.24578016463129,
          62.701362118441075,
          62.457874761026765,
          69.95493541024682,
          70.55631426333579,
          73.05075822396249,
          68.75424724671336,
          69.14510551180666,
          65.4423096556265,
          67.07009343881836,
          68.61779840949899,
          68.02753243058498,
          73.54235274947142,
          75.14944217097703,
          72.04115015889514,
          69.35068222127613,
          72.54108870402536,
          63.50540222335872,
          66.58422321175459,
          59.08469760879992,
          56.83513378778091,
          65.24702556186506,
          64.36129538852674,
          71.23084470508076,
          70.85566172422138,
          50.55220251838653,
          55.37577891453227,
          55.14218823247428,
          57.461051009301094,
          60.873483421440035,
          65.07791434667884,
          70.43243222659915,
          72.28527510286429,
          72.35269899425198,
          74.09502876413544,
          72.43511284609721,
          74.6249184896496,
          67.42944428107458,
          69.45294667231781,
          69.75374710580303,
          75.06624554075614,
          73.55531894693465,
          60.45165721772501,
          60.546272267307444,
          54.54975825282921,
          54.27838711920415,
          60.0562792001824,
          49.63254807919291,
          50.080404571790076,
          46.44788915546155,
          50.327932339732094,
          52.37551625256087,
          62.75525956589609,
          62.11020865096536,
          66.61835098817033,
          68.28386782826416,
          68.90756568438945,
          67.22954253628266,
          65.35966107631256,
          58.847608544559016,
          50.53130234243863,
          52.20707039077848,
          56.341393849487645,
          54.42953658655819,
          55.93482108361434,
          56.152466663415154,
          50.75322646092582,
          47.3993114644545,
          52.13500090305408,
          50.0901339900856,
          48.51062361141136,
          46.79274907482153,
          40.56597401148615,
          42.805975080428674,
          46.552965693028405,
          50.80056702341837,
          47.97491406226157,
          44.86740452468853,
          50.720558484090816,
          46.423816559081686,
          43.61513095848326,
          32.56434433170743,
          37.22348061259802,
          36.953906346434636,
          38.62908667012262,
          32.922834235068365,
          37.604896927027994,
          41.43493683236211,
          42.654988528823964,
          40.91738623631203,
          40.91738623631203,
          40.91738623631203,
          47.02039782641822,
          50.46440733523336,
          49.81346696836955,
          55.03381570521136,
          57.00952198595501,
          79.43309714168728,
          80.78928747909477,
          80.66565565445732,
          83.27496524687083,
          84.95358854791354,
          89.99071489278433,
          83.93835793089941,
          80.8516979420568,
          83.49650429631598,
          80.99242192980209,
          72.2312320308343,
          72.76625417486557,
          76.1138183927858,
          70.71602389713159,
          73.75834961505231,
          69.86180375947876,
          70.83943753567962,
          66.85273137982952,
          63.50493315023974,
          65.31200831819112,
          60.140232777393415,
          61.13876803733001,
          62.1884099758285,
          63.80475150295364,
          64.36166617322637,
          67.31814146907082,
          68.19039100949789,
          67.13227510747689,
          62.43707451736845,
          61.20179712334183,
          64.80485619390637,
          70.6463678605833,
          74.29197935897727,
          72.36250762822365,
          67.01178422046291,
          61.632509546418554,
          66.59013206182635,
          47.1173577930361,
          56.89095555022654,
          64.2468918979429,
          63.99127237066836,
          63.56566502196482,
          64.19145749623522,
          66.59235369595078,
          66.91490332932565,
          66.89317211387385,
          71.36128131258262,
          69.45990232091306,
          71.75612221342708,
          70.53234235693948,
          71.38758878976554,
          72.58518006036566,
          66.60650066288193,
          65.6734277828504,
          64.74938824713706,
          66.18410305449447,
          63.4049849131374,
          64.8329858532949,
          63.2031676528192,
          63.837709936450615,
          65.13274799843896,
          67.62956130793131,
          60.31970318773037,
          57.870209102469374,
          55.214083148814744,
          56.95488745982887,
          53.21157709450309,
          52.65717989772913,
          44.26795213836027,
          49.11099943557295,
          49.02905239335826,
          45.28627114879932,
          45.31887781014081,
          53.56573336677687,
          52.42831934484276,
          41.95304648751614,
          38.507498411376204,
          34.65759905710307,
          33.33097243575297,
          26.69910842631444,
          25.827755154291097,
          34.861536620546474,
          31.96146871224458,
          35.965773283867364,
          39.191181859329966,
          36.94908819829901,
          34.89683257451131,
          40.28316429965946,
          40.97514974988243,
          41.15139385907187,
          47.231912634355126,
          49.530518959408326,
          43.50119766585332,
          42.874301752480555,
          43.329223622779175,
          40.11803095429892,
          39.44344362013204,
          41.35498591539964,
          40.14200002310459,
          39.28879488109104,
          36.883918055405466,
          45.65002937007063,
          39.200401927237564,
          35.66170042229163,
          38.59232710559491,
          35.735621062967795,
          41.171339915720054,
          44.81803502838033,
          47.6813731483162,
          43.58631573869645,
          38.65572573053166,
          34.02019172063501,
          38.307581030455935,
          41.437659394743875,
          44.8838485416293,
          43.397247637216246,
          42.41388629588834,
          56.36536748046347,
          58.585642463849354,
          62.14196693690216,
          53.74748605598272,
          56.2790811552661,
          46.382461589781045,
          51.91290954994901,
          60.369689842746624,
          57.31098241357314,
          62.52266878852311,
          62.45553453345053,
          58.74278855805692,
          54.547961202729226,
          47.794011207017334
         ]
        }
       ],
       "layout": {
        "font": {
         "size": 14
        },
        "hovermode": "x unified",
        "legend": {
         "font": {
          "size": 12
         },
         "x": 0.01,
         "y": 0.99
        },
        "plot_bgcolor": "white",
        "shapes": [
         {
          "line": {
           "color": "red",
           "dash": "dash",
           "width": 2
          },
          "type": "line",
          "x0": 0,
          "x1": 1,
          "xref": "x domain",
          "y0": 70,
          "y1": 70,
          "yref": "y"
         },
         {
          "line": {
           "color": "green",
           "dash": "dash",
           "width": 2
          },
          "type": "line",
          "x0": 0,
          "x1": 1,
          "xref": "x domain",
          "y0": 30,
          "y1": 30,
          "yref": "y"
         }
        ],
        "showlegend": true,
        "template": {
         "data": {
          "bar": [
           {
            "error_x": {
             "color": "#2a3f5f"
            },
            "error_y": {
             "color": "#2a3f5f"
            },
            "marker": {
             "line": {
              "color": "#E5ECF6",
              "width": 0.5
             },
             "pattern": {
              "fillmode": "overlay",
              "size": 10,
              "solidity": 0.2
             }
            },
            "type": "bar"
           }
          ],
          "barpolar": [
           {
            "marker": {
             "line": {
              "color": "#E5ECF6",
              "width": 0.5
             },
             "pattern": {
              "fillmode": "overlay",
              "size": 10,
              "solidity": 0.2
             }
            },
            "type": "barpolar"
           }
          ],
          "carpet": [
           {
            "aaxis": {
             "endlinecolor": "#2a3f5f",
             "gridcolor": "white",
             "linecolor": "white",
             "minorgridcolor": "white",
             "startlinecolor": "#2a3f5f"
            },
            "baxis": {
             "endlinecolor": "#2a3f5f",
             "gridcolor": "white",
             "linecolor": "white",
             "minorgridcolor": "white",
             "startlinecolor": "#2a3f5f"
            },
            "type": "carpet"
           }
          ],
          "choropleth": [
           {
            "colorbar": {
             "outlinewidth": 0,
             "ticks": ""
            },
            "type": "choropleth"
           }
          ],
          "contour": [
           {
            "colorbar": {
             "outlinewidth": 0,
             "ticks": ""
            },
            "colorscale": [
             [
              0,
              "#0d0887"
             ],
             [
              0.1111111111111111,
              "#46039f"
             ],
             [
              0.2222222222222222,
              "#7201a8"
             ],
             [
              0.3333333333333333,
              "#9c179e"
             ],
             [
              0.4444444444444444,
              "#bd3786"
             ],
             [
              0.5555555555555556,
              "#d8576b"
             ],
             [
              0.6666666666666666,
              "#ed7953"
             ],
             [
              0.7777777777777778,
              "#fb9f3a"
             ],
             [
              0.8888888888888888,
              "#fdca26"
             ],
             [
              1,
              "#f0f921"
             ]
            ],
            "type": "contour"
           }
          ],
          "contourcarpet": [
           {
            "colorbar": {
             "outlinewidth": 0,
             "ticks": ""
            },
            "type": "contourcarpet"
           }
          ],
          "heatmap": [
           {
            "colorbar": {
             "outlinewidth": 0,
             "ticks": ""
            },
            "colorscale": [
             [
              0,
              "#0d0887"
             ],
             [
              0.1111111111111111,
              "#46039f"
             ],
             [
              0.2222222222222222,
              "#7201a8"
             ],
             [
              0.3333333333333333,
              "#9c179e"
             ],
             [
              0.4444444444444444,
              "#bd3786"
             ],
             [
              0.5555555555555556,
              "#d8576b"
             ],
             [
              0.6666666666666666,
              "#ed7953"
             ],
             [
              0.7777777777777778,
              "#fb9f3a"
             ],
             [
              0.8888888888888888,
              "#fdca26"
             ],
             [
              1,
              "#f0f921"
             ]
            ],
            "type": "heatmap"
           }
          ],
          "heatmapgl": [
           {
            "colorbar": {
             "outlinewidth": 0,
             "ticks": ""
            },
            "colorscale": [
             [
              0,
              "#0d0887"
             ],
             [
              0.1111111111111111,
              "#46039f"
             ],
             [
              0.2222222222222222,
              "#7201a8"
             ],
             [
              0.3333333333333333,
              "#9c179e"
             ],
             [
              0.4444444444444444,
              "#bd3786"
             ],
             [
              0.5555555555555556,
              "#d8576b"
             ],
             [
              0.6666666666666666,
              "#ed7953"
             ],
             [
              0.7777777777777778,
              "#fb9f3a"
             ],
             [
              0.8888888888888888,
              "#fdca26"
             ],
             [
              1,
              "#f0f921"
             ]
            ],
            "type": "heatmapgl"
           }
          ],
          "histogram": [
           {
            "marker": {
             "pattern": {
              "fillmode": "overlay",
              "size": 10,
              "solidity": 0.2
             }
            },
            "type": "histogram"
           }
          ],
          "histogram2d": [
           {
            "colorbar": {
             "outlinewidth": 0,
             "ticks": ""
            },
            "colorscale": [
             [
              0,
              "#0d0887"
             ],
             [
              0.1111111111111111,
              "#46039f"
             ],
             [
              0.2222222222222222,
              "#7201a8"
             ],
             [
              0.3333333333333333,
              "#9c179e"
             ],
             [
              0.4444444444444444,
              "#bd3786"
             ],
             [
              0.5555555555555556,
              "#d8576b"
             ],
             [
              0.6666666666666666,
              "#ed7953"
             ],
             [
              0.7777777777777778,
              "#fb9f3a"
             ],
             [
              0.8888888888888888,
              "#fdca26"
             ],
             [
              1,
              "#f0f921"
             ]
            ],
            "type": "histogram2d"
           }
          ],
          "histogram2dcontour": [
           {
            "colorbar": {
             "outlinewidth": 0,
             "ticks": ""
            },
            "colorscale": [
             [
              0,
              "#0d0887"
             ],
             [
              0.1111111111111111,
              "#46039f"
             ],
             [
              0.2222222222222222,
              "#7201a8"
             ],
             [
              0.3333333333333333,
              "#9c179e"
             ],
             [
              0.4444444444444444,
              "#bd3786"
             ],
             [
              0.5555555555555556,
              "#d8576b"
             ],
             [
              0.6666666666666666,
              "#ed7953"
             ],
             [
              0.7777777777777778,
              "#fb9f3a"
             ],
             [
              0.8888888888888888,
              "#fdca26"
             ],
             [
              1,
              "#f0f921"
             ]
            ],
            "type": "histogram2dcontour"
           }
          ],
          "mesh3d": [
           {
            "colorbar": {
             "outlinewidth": 0,
             "ticks": ""
            },
            "type": "mesh3d"
           }
          ],
          "parcoords": [
           {
            "line": {
             "colorbar": {
              "outlinewidth": 0,
              "ticks": ""
             }
            },
            "type": "parcoords"
           }
          ],
          "pie": [
           {
            "automargin": true,
            "type": "pie"
           }
          ],
          "scatter": [
           {
            "fillpattern": {
             "fillmode": "overlay",
             "size": 10,
             "solidity": 0.2
            },
            "type": "scatter"
           }
          ],
          "scatter3d": [
           {
            "line": {
             "colorbar": {
              "outlinewidth": 0,
              "ticks": ""
             }
            },
            "marker": {
             "colorbar": {
              "outlinewidth": 0,
              "ticks": ""
             }
            },
            "type": "scatter3d"
           }
          ],
          "scattercarpet": [
           {
            "marker": {
             "colorbar": {
              "outlinewidth": 0,
              "ticks": ""
             }
            },
            "type": "scattercarpet"
           }
          ],
          "scattergeo": [
           {
            "marker": {
             "colorbar": {
              "outlinewidth": 0,
              "ticks": ""
             }
            },
            "type": "scattergeo"
           }
          ],
          "scattergl": [
           {
            "marker": {
             "colorbar": {
              "outlinewidth": 0,
              "ticks": ""
             }
            },
            "type": "scattergl"
           }
          ],
          "scattermapbox": [
           {
            "marker": {
             "colorbar": {
              "outlinewidth": 0,
              "ticks": ""
             }
            },
            "type": "scattermapbox"
           }
          ],
          "scatterpolar": [
           {
            "marker": {
             "colorbar": {
              "outlinewidth": 0,
              "ticks": ""
             }
            },
            "type": "scatterpolar"
           }
          ],
          "scatterpolargl": [
           {
            "marker": {
             "colorbar": {
              "outlinewidth": 0,
              "ticks": ""
             }
            },
            "type": "scatterpolargl"
           }
          ],
          "scatterternary": [
           {
            "marker": {
             "colorbar": {
              "outlinewidth": 0,
              "ticks": ""
             }
            },
            "type": "scatterternary"
           }
          ],
          "surface": [
           {
            "colorbar": {
             "outlinewidth": 0,
             "ticks": ""
            },
            "colorscale": [
             [
              0,
              "#0d0887"
             ],
             [
              0.1111111111111111,
              "#46039f"
             ],
             [
              0.2222222222222222,
              "#7201a8"
             ],
             [
              0.3333333333333333,
              "#9c179e"
             ],
             [
              0.4444444444444444,
              "#bd3786"
             ],
             [
              0.5555555555555556,
              "#d8576b"
             ],
             [
              0.6666666666666666,
              "#ed7953"
             ],
             [
              0.7777777777777778,
              "#fb9f3a"
             ],
             [
              0.8888888888888888,
              "#fdca26"
             ],
             [
              1,
              "#f0f921"
             ]
            ],
            "type": "surface"
           }
          ],
          "table": [
           {
            "cells": {
             "fill": {
              "color": "#EBF0F8"
             },
             "line": {
              "color": "white"
             }
            },
            "header": {
             "fill": {
              "color": "#C8D4E3"
             },
             "line": {
              "color": "white"
             }
            },
            "type": "table"
           }
          ]
         },
         "layout": {
          "annotationdefaults": {
           "arrowcolor": "#2a3f5f",
           "arrowhead": 0,
           "arrowwidth": 1
          },
          "autotypenumbers": "strict",
          "coloraxis": {
           "colorbar": {
            "outlinewidth": 0,
            "ticks": ""
           }
          },
          "colorscale": {
           "diverging": [
            [
             0,
             "#8e0152"
            ],
            [
             0.1,
             "#c51b7d"
            ],
            [
             0.2,
             "#de77ae"
            ],
            [
             0.3,
             "#f1b6da"
            ],
            [
             0.4,
             "#fde0ef"
            ],
            [
             0.5,
             "#f7f7f7"
            ],
            [
             0.6,
             "#e6f5d0"
            ],
            [
             0.7,
             "#b8e186"
            ],
            [
             0.8,
             "#7fbc41"
            ],
            [
             0.9,
             "#4d9221"
            ],
            [
             1,
             "#276419"
            ]
           ],
           "sequential": [
            [
             0,
             "#0d0887"
            ],
            [
             0.1111111111111111,
             "#46039f"
            ],
            [
             0.2222222222222222,
             "#7201a8"
            ],
            [
             0.3333333333333333,
             "#9c179e"
            ],
            [
             0.4444444444444444,
             "#bd3786"
            ],
            [
             0.5555555555555556,
             "#d8576b"
            ],
            [
             0.6666666666666666,
             "#ed7953"
            ],
            [
             0.7777777777777778,
             "#fb9f3a"
            ],
            [
             0.8888888888888888,
             "#fdca26"
            ],
            [
             1,
             "#f0f921"
            ]
           ],
           "sequentialminus": [
            [
             0,
             "#0d0887"
            ],
            [
             0.1111111111111111,
             "#46039f"
            ],
            [
             0.2222222222222222,
             "#7201a8"
            ],
            [
             0.3333333333333333,
             "#9c179e"
            ],
            [
             0.4444444444444444,
             "#bd3786"
            ],
            [
             0.5555555555555556,
             "#d8576b"
            ],
            [
             0.6666666666666666,
             "#ed7953"
            ],
            [
             0.7777777777777778,
             "#fb9f3a"
            ],
            [
             0.8888888888888888,
             "#fdca26"
            ],
            [
             1,
             "#f0f921"
            ]
           ]
          },
          "colorway": [
           "#636efa",
           "#EF553B",
           "#00cc96",
           "#ab63fa",
           "#FFA15A",
           "#19d3f3",
           "#FF6692",
           "#B6E880",
           "#FF97FF",
           "#FECB52"
          ],
          "font": {
           "color": "#2a3f5f"
          },
          "geo": {
           "bgcolor": "white",
           "lakecolor": "white",
           "landcolor": "#E5ECF6",
           "showlakes": true,
           "showland": true,
           "subunitcolor": "white"
          },
          "hoverlabel": {
           "align": "left"
          },
          "hovermode": "closest",
          "mapbox": {
           "style": "light"
          },
          "paper_bgcolor": "white",
          "plot_bgcolor": "#E5ECF6",
          "polar": {
           "angularaxis": {
            "gridcolor": "white",
            "linecolor": "white",
            "ticks": ""
           },
           "bgcolor": "#E5ECF6",
           "radialaxis": {
            "gridcolor": "white",
            "linecolor": "white",
            "ticks": ""
           }
          },
          "scene": {
           "xaxis": {
            "backgroundcolor": "#E5ECF6",
            "gridcolor": "white",
            "gridwidth": 2,
            "linecolor": "white",
            "showbackground": true,
            "ticks": "",
            "zerolinecolor": "white"
           },
           "yaxis": {
            "backgroundcolor": "#E5ECF6",
            "gridcolor": "white",
            "gridwidth": 2,
            "linecolor": "white",
            "showbackground": true,
            "ticks": "",
            "zerolinecolor": "white"
           },
           "zaxis": {
            "backgroundcolor": "#E5ECF6",
            "gridcolor": "white",
            "gridwidth": 2,
            "linecolor": "white",
            "showbackground": true,
            "ticks": "",
            "zerolinecolor": "white"
           }
          },
          "shapedefaults": {
           "line": {
            "color": "#2a3f5f"
           }
          },
          "ternary": {
           "aaxis": {
            "gridcolor": "white",
            "linecolor": "white",
            "ticks": ""
           },
           "baxis": {
            "gridcolor": "white",
            "linecolor": "white",
            "ticks": ""
           },
           "bgcolor": "#E5ECF6",
           "caxis": {
            "gridcolor": "white",
            "linecolor": "white",
            "ticks": ""
           }
          },
          "title": {
           "x": 0.05
          },
          "xaxis": {
           "automargin": true,
           "gridcolor": "white",
           "linecolor": "white",
           "ticks": "",
           "title": {
            "standoff": 15
           },
           "zerolinecolor": "white",
           "zerolinewidth": 2
          },
          "yaxis": {
           "automargin": true,
           "gridcolor": "white",
           "linecolor": "white",
           "ticks": "",
           "title": {
            "standoff": 15
           },
           "zerolinecolor": "white",
           "zerolinewidth": 2
          }
         }
        },
        "title": {
         "text": "RSI (Relative Strength Index)"
        },
        "xaxis": {
         "nticks": 10,
         "range": [
          "2022-11-25T00:00:00+05:30",
          "2024-11-07T00:00:00+05:30"
         ],
         "showgrid": true,
         "showline": true,
         "showticklabels": true,
         "tickmode": "auto",
         "title": {
          "text": "Date"
         },
         "zeroline": false
        },
        "yaxis": {
         "dtick": 10,
         "range": [
          0,
          100
         ],
         "showgrid": true,
         "showline": true,
         "showticklabels": true,
         "tick0": 0,
         "tickmode": "linear",
         "title": {
          "text": "RSI Value"
         },
         "zeroline": false
        }
       }
      },
      "text/html": [
       "<div>                            <div id=\"c8a10567-718a-44a9-8507-dbe243b8f890\" class=\"plotly-graph-div\" style=\"height:525px; width:100%;\"></div>            <script type=\"text/javascript\">                require([\"plotly\"], function(Plotly) {                    window.PLOTLYENV=window.PLOTLYENV || {};                                    if (document.getElementById(\"c8a10567-718a-44a9-8507-dbe243b8f890\")) {                    Plotly.newPlot(                        \"c8a10567-718a-44a9-8507-dbe243b8f890\",                        [{\"hovertemplate\":\"Date: %{x|%b %d}\\u003cbr\\u003eRSI: %{y:.2f}\\u003cextra\\u003e\\u003c\\u002fextra\\u003e\",\"line\":{\"color\":\"dodgerblue\",\"width\":2},\"mode\":\"lines\",\"name\":\"RSI\",\"x\":[\"2022-11-09T00:00:00+05:30\",\"2022-11-10T00:00:00+05:30\",\"2022-11-11T00:00:00+05:30\",\"2022-11-14T00:00:00+05:30\",\"2022-11-15T00:00:00+05:30\",\"2022-11-16T00:00:00+05:30\",\"2022-11-17T00:00:00+05:30\",\"2022-11-18T00:00:00+05:30\",\"2022-11-21T00:00:00+05:30\",\"2022-11-22T00:00:00+05:30\",\"2022-11-23T00:00:00+05:30\",\"2022-11-24T00:00:00+05:30\",\"2022-11-25T00:00:00+05:30\",\"2022-11-28T00:00:00+05:30\",\"2022-11-29T00:00:00+05:30\",\"2022-11-30T00:00:00+05:30\",\"2022-12-01T00:00:00+05:30\",\"2022-12-02T00:00:00+05:30\",\"2022-12-05T00:00:00+05:30\",\"2022-12-06T00:00:00+05:30\",\"2022-12-07T00:00:00+05:30\",\"2022-12-08T00:00:00+05:30\",\"2022-12-09T00:00:00+05:30\",\"2022-12-12T00:00:00+05:30\",\"2022-12-13T00:00:00+05:30\",\"2022-12-14T00:00:00+05:30\",\"2022-12-15T00:00:00+05:30\",\"2022-12-16T00:00:00+05:30\",\"2022-12-19T00:00:00+05:30\",\"2022-12-20T00:00:00+05:30\",\"2022-12-21T00:00:00+05:30\",\"2022-12-22T00:00:00+05:30\",\"2022-12-23T00:00:00+05:30\",\"2022-12-26T00:00:00+05:30\",\"2022-12-27T00:00:00+05:30\",\"2022-12-28T00:00:00+05:30\",\"2022-12-29T00:00:00+05:30\",\"2022-12-30T00:00:00+05:30\",\"2023-01-02T00:00:00+05:30\",\"2023-01-03T00:00:00+05:30\",\"2023-01-04T00:00:00+05:30\",\"2023-01-05T00:00:00+05:30\",\"2023-01-06T00:00:00+05:30\",\"2023-01-09T00:00:00+05:30\",\"2023-01-10T00:00:00+05:30\",\"2023-01-11T00:00:00+05:30\",\"2023-01-12T00:00:00+05:30\",\"2023-01-13T00:00:00+05:30\",\"2023-01-16T00:00:00+05:30\",\"2023-01-17T00:00:00+05:30\",\"2023-01-18T00:00:00+05:30\",\"2023-01-19T00:00:00+05:30\",\"2023-01-20T00:00:00+05:30\",\"2023-01-23T00:00:00+05:30\",\"2023-01-24T00:00:00+05:30\",\"2023-01-25T00:00:00+05:30\",\"2023-01-27T00:00:00+05:30\",\"2023-01-30T00:00:00+05:30\",\"2023-01-31T00:00:00+05:30\",\"2023-02-01T00:00:00+05:30\",\"2023-02-02T00:00:00+05:30\",\"2023-02-03T00:00:00+05:30\",\"2023-02-06T00:00:00+05:30\",\"2023-02-07T00:00:00+05:30\",\"2023-02-08T00:00:00+05:30\",\"2023-02-09T00:00:00+05:30\",\"2023-02-10T00:00:00+05:30\",\"2023-02-13T00:00:00+05:30\",\"2023-02-14T00:00:00+05:30\",\"2023-02-15T00:00:00+05:30\",\"2023-02-16T00:00:00+05:30\",\"2023-02-17T00:00:00+05:30\",\"2023-02-20T00:00:00+05:30\",\"2023-02-21T00:00:00+05:30\",\"2023-02-22T00:00:00+05:30\",\"2023-02-23T00:00:00+05:30\",\"2023-02-24T00:00:00+05:30\",\"2023-02-27T00:00:00+05:30\",\"2023-02-28T00:00:00+05:30\",\"2023-03-01T00:00:00+05:30\",\"2023-03-02T00:00:00+05:30\",\"2023-03-03T00:00:00+05:30\",\"2023-03-06T00:00:00+05:30\",\"2023-03-08T00:00:00+05:30\",\"2023-03-09T00:00:00+05:30\",\"2023-03-10T00:00:00+05:30\",\"2023-03-13T00:00:00+05:30\",\"2023-03-14T00:00:00+05:30\",\"2023-03-15T00:00:00+05:30\",\"2023-03-16T00:00:00+05:30\",\"2023-03-17T00:00:00+05:30\",\"2023-03-20T00:00:00+05:30\",\"2023-03-21T00:00:00+05:30\",\"2023-03-22T00:00:00+05:30\",\"2023-03-23T00:00:00+05:30\",\"2023-03-24T00:00:00+05:30\",\"2023-03-27T00:00:00+05:30\",\"2023-03-28T00:00:00+05:30\",\"2023-03-29T00:00:00+05:30\",\"2023-03-31T00:00:00+05:30\",\"2023-04-03T00:00:00+05:30\",\"2023-04-05T00:00:00+05:30\",\"2023-04-06T00:00:00+05:30\",\"2023-04-10T00:00:00+05:30\",\"2023-04-11T00:00:00+05:30\",\"2023-04-12T00:00:00+05:30\",\"2023-04-13T00:00:00+05:30\",\"2023-04-17T00:00:00+05:30\",\"2023-04-18T00:00:00+05:30\",\"2023-04-19T00:00:00+05:30\",\"2023-04-20T00:00:00+05:30\",\"2023-04-21T00:00:00+05:30\",\"2023-04-24T00:00:00+05:30\",\"2023-04-25T00:00:00+05:30\",\"2023-04-26T00:00:00+05:30\",\"2023-04-27T00:00:00+05:30\",\"2023-04-28T00:00:00+05:30\",\"2023-05-02T00:00:00+05:30\",\"2023-05-03T00:00:00+05:30\",\"2023-05-04T00:00:00+05:30\",\"2023-05-05T00:00:00+05:30\",\"2023-05-08T00:00:00+05:30\",\"2023-05-09T00:00:00+05:30\",\"2023-05-10T00:00:00+05:30\",\"2023-05-11T00:00:00+05:30\",\"2023-05-12T00:00:00+05:30\",\"2023-05-15T00:00:00+05:30\",\"2023-05-16T00:00:00+05:30\",\"2023-05-17T00:00:00+05:30\",\"2023-05-18T00:00:00+05:30\",\"2023-05-19T00:00:00+05:30\",\"2023-05-22T00:00:00+05:30\",\"2023-05-23T00:00:00+05:30\",\"2023-05-24T00:00:00+05:30\",\"2023-05-25T00:00:00+05:30\",\"2023-05-26T00:00:00+05:30\",\"2023-05-29T00:00:00+05:30\",\"2023-05-30T00:00:00+05:30\",\"2023-05-31T00:00:00+05:30\",\"2023-06-01T00:00:00+05:30\",\"2023-06-02T00:00:00+05:30\",\"2023-06-05T00:00:00+05:30\",\"2023-06-06T00:00:00+05:30\",\"2023-06-07T00:00:00+05:30\",\"2023-06-08T00:00:00+05:30\",\"2023-06-09T00:00:00+05:30\",\"2023-06-12T00:00:00+05:30\",\"2023-06-13T00:00:00+05:30\",\"2023-06-14T00:00:00+05:30\",\"2023-06-15T00:00:00+05:30\",\"2023-06-16T00:00:00+05:30\",\"2023-06-19T00:00:00+05:30\",\"2023-06-20T00:00:00+05:30\",\"2023-06-21T00:00:00+05:30\",\"2023-06-22T00:00:00+05:30\",\"2023-06-23T00:00:00+05:30\",\"2023-06-26T00:00:00+05:30\",\"2023-06-27T00:00:00+05:30\",\"2023-06-28T00:00:00+05:30\",\"2023-06-30T00:00:00+05:30\",\"2023-07-03T00:00:00+05:30\",\"2023-07-04T00:00:00+05:30\",\"2023-07-05T00:00:00+05:30\",\"2023-07-06T00:00:00+05:30\",\"2023-07-07T00:00:00+05:30\",\"2023-07-10T00:00:00+05:30\",\"2023-07-11T00:00:00+05:30\",\"2023-07-12T00:00:00+05:30\",\"2023-07-13T00:00:00+05:30\",\"2023-07-14T00:00:00+05:30\",\"2023-07-17T00:00:00+05:30\",\"2023-07-18T00:00:00+05:30\",\"2023-07-19T00:00:00+05:30\",\"2023-07-20T00:00:00+05:30\",\"2023-07-21T00:00:00+05:30\",\"2023-07-24T00:00:00+05:30\",\"2023-07-25T00:00:00+05:30\",\"2023-07-26T00:00:00+05:30\",\"2023-07-27T00:00:00+05:30\",\"2023-07-28T00:00:00+05:30\",\"2023-07-31T00:00:00+05:30\",\"2023-08-01T00:00:00+05:30\",\"2023-08-02T00:00:00+05:30\",\"2023-08-03T00:00:00+05:30\",\"2023-08-04T00:00:00+05:30\",\"2023-08-07T00:00:00+05:30\",\"2023-08-08T00:00:00+05:30\",\"2023-08-09T00:00:00+05:30\",\"2023-08-10T00:00:00+05:30\",\"2023-08-11T00:00:00+05:30\",\"2023-08-14T00:00:00+05:30\",\"2023-08-16T00:00:00+05:30\",\"2023-08-17T00:00:00+05:30\",\"2023-08-18T00:00:00+05:30\",\"2023-08-21T00:00:00+05:30\",\"2023-08-22T00:00:00+05:30\",\"2023-08-23T00:00:00+05:30\",\"2023-08-24T00:00:00+05:30\",\"2023-08-25T00:00:00+05:30\",\"2023-08-28T00:00:00+05:30\",\"2023-08-29T00:00:00+05:30\",\"2023-08-30T00:00:00+05:30\",\"2023-08-31T00:00:00+05:30\",\"2023-09-01T00:00:00+05:30\",\"2023-09-04T00:00:00+05:30\",\"2023-09-05T00:00:00+05:30\",\"2023-09-06T00:00:00+05:30\",\"2023-09-07T00:00:00+05:30\",\"2023-09-08T00:00:00+05:30\",\"2023-09-11T00:00:00+05:30\",\"2023-09-12T00:00:00+05:30\",\"2023-09-13T00:00:00+05:30\",\"2023-09-14T00:00:00+05:30\",\"2023-09-15T00:00:00+05:30\",\"2023-09-18T00:00:00+05:30\",\"2023-09-20T00:00:00+05:30\",\"2023-09-21T00:00:00+05:30\",\"2023-09-22T00:00:00+05:30\",\"2023-09-25T00:00:00+05:30\",\"2023-09-26T00:00:00+05:30\",\"2023-09-27T00:00:00+05:30\",\"2023-09-28T00:00:00+05:30\",\"2023-09-29T00:00:00+05:30\",\"2023-10-03T00:00:00+05:30\",\"2023-10-04T00:00:00+05:30\",\"2023-10-05T00:00:00+05:30\",\"2023-10-06T00:00:00+05:30\",\"2023-10-09T00:00:00+05:30\",\"2023-10-10T00:00:00+05:30\",\"2023-10-11T00:00:00+05:30\",\"2023-10-12T00:00:00+05:30\",\"2023-10-13T00:00:00+05:30\",\"2023-10-16T00:00:00+05:30\",\"2023-10-17T00:00:00+05:30\",\"2023-10-18T00:00:00+05:30\",\"2023-10-19T00:00:00+05:30\",\"2023-10-20T00:00:00+05:30\",\"2023-10-23T00:00:00+05:30\",\"2023-10-25T00:00:00+05:30\",\"2023-10-26T00:00:00+05:30\",\"2023-10-27T00:00:00+05:30\",\"2023-10-30T00:00:00+05:30\",\"2023-10-31T00:00:00+05:30\",\"2023-11-01T00:00:00+05:30\",\"2023-11-02T00:00:00+05:30\",\"2023-11-03T00:00:00+05:30\",\"2023-11-06T00:00:00+05:30\",\"2023-11-07T00:00:00+05:30\",\"2023-11-08T00:00:00+05:30\",\"2023-11-09T00:00:00+05:30\",\"2023-11-10T00:00:00+05:30\",\"2023-11-13T00:00:00+05:30\",\"2023-11-15T00:00:00+05:30\",\"2023-11-16T00:00:00+05:30\",\"2023-11-17T00:00:00+05:30\",\"2023-11-20T00:00:00+05:30\",\"2023-11-21T00:00:00+05:30\",\"2023-11-22T00:00:00+05:30\",\"2023-11-23T00:00:00+05:30\",\"2023-11-24T00:00:00+05:30\",\"2023-11-28T00:00:00+05:30\",\"2023-11-29T00:00:00+05:30\",\"2023-11-30T00:00:00+05:30\",\"2023-12-01T00:00:00+05:30\",\"2023-12-04T00:00:00+05:30\",\"2023-12-05T00:00:00+05:30\",\"2023-12-06T00:00:00+05:30\",\"2023-12-07T00:00:00+05:30\",\"2023-12-08T00:00:00+05:30\",\"2023-12-11T00:00:00+05:30\",\"2023-12-12T00:00:00+05:30\",\"2023-12-13T00:00:00+05:30\",\"2023-12-14T00:00:00+05:30\",\"2023-12-15T00:00:00+05:30\",\"2023-12-18T00:00:00+05:30\",\"2023-12-19T00:00:00+05:30\",\"2023-12-20T00:00:00+05:30\",\"2023-12-21T00:00:00+05:30\",\"2023-12-22T00:00:00+05:30\",\"2023-12-26T00:00:00+05:30\",\"2023-12-27T00:00:00+05:30\",\"2023-12-28T00:00:00+05:30\",\"2023-12-29T00:00:00+05:30\",\"2024-01-01T00:00:00+05:30\",\"2024-01-02T00:00:00+05:30\",\"2024-01-03T00:00:00+05:30\",\"2024-01-04T00:00:00+05:30\",\"2024-01-05T00:00:00+05:30\",\"2024-01-08T00:00:00+05:30\",\"2024-01-09T00:00:00+05:30\",\"2024-01-10T00:00:00+05:30\",\"2024-01-11T00:00:00+05:30\",\"2024-01-12T00:00:00+05:30\",\"2024-01-15T00:00:00+05:30\",\"2024-01-16T00:00:00+05:30\",\"2024-01-17T00:00:00+05:30\",\"2024-01-18T00:00:00+05:30\",\"2024-01-19T00:00:00+05:30\",\"2024-01-23T00:00:00+05:30\",\"2024-01-24T00:00:00+05:30\",\"2024-01-25T00:00:00+05:30\",\"2024-01-29T00:00:00+05:30\",\"2024-01-30T00:00:00+05:30\",\"2024-01-31T00:00:00+05:30\",\"2024-02-01T00:00:00+05:30\",\"2024-02-02T00:00:00+05:30\",\"2024-02-05T00:00:00+05:30\",\"2024-02-06T00:00:00+05:30\",\"2024-02-07T00:00:00+05:30\",\"2024-02-08T00:00:00+05:30\",\"2024-02-09T00:00:00+05:30\",\"2024-02-12T00:00:00+05:30\",\"2024-02-13T00:00:00+05:30\",\"2024-02-14T00:00:00+05:30\",\"2024-02-15T00:00:00+05:30\",\"2024-02-16T00:00:00+05:30\",\"2024-02-19T00:00:00+05:30\",\"2024-02-20T00:00:00+05:30\",\"2024-02-21T00:00:00+05:30\",\"2024-02-22T00:00:00+05:30\",\"2024-02-23T00:00:00+05:30\",\"2024-02-26T00:00:00+05:30\",\"2024-02-27T00:00:00+05:30\",\"2024-02-28T00:00:00+05:30\",\"2024-02-29T00:00:00+05:30\",\"2024-03-01T00:00:00+05:30\",\"2024-03-04T00:00:00+05:30\",\"2024-03-05T00:00:00+05:30\",\"2024-03-06T00:00:00+05:30\",\"2024-03-07T00:00:00+05:30\",\"2024-03-11T00:00:00+05:30\",\"2024-03-12T00:00:00+05:30\",\"2024-03-13T00:00:00+05:30\",\"2024-03-14T00:00:00+05:30\",\"2024-03-15T00:00:00+05:30\",\"2024-03-18T00:00:00+05:30\",\"2024-03-19T00:00:00+05:30\",\"2024-03-20T00:00:00+05:30\",\"2024-03-21T00:00:00+05:30\",\"2024-03-22T00:00:00+05:30\",\"2024-03-26T00:00:00+05:30\",\"2024-03-27T00:00:00+05:30\",\"2024-03-28T00:00:00+05:30\",\"2024-04-01T00:00:00+05:30\",\"2024-04-02T00:00:00+05:30\",\"2024-04-03T00:00:00+05:30\",\"2024-04-04T00:00:00+05:30\",\"2024-04-05T00:00:00+05:30\",\"2024-04-08T00:00:00+05:30\",\"2024-04-09T00:00:00+05:30\",\"2024-04-10T00:00:00+05:30\",\"2024-04-12T00:00:00+05:30\",\"2024-04-15T00:00:00+05:30\",\"2024-04-16T00:00:00+05:30\",\"2024-04-18T00:00:00+05:30\",\"2024-04-19T00:00:00+05:30\",\"2024-04-22T00:00:00+05:30\",\"2024-04-23T00:00:00+05:30\",\"2024-04-24T00:00:00+05:30\",\"2024-04-25T00:00:00+05:30\",\"2024-04-26T00:00:00+05:30\",\"2024-04-29T00:00:00+05:30\",\"2024-04-30T00:00:00+05:30\",\"2024-05-02T00:00:00+05:30\",\"2024-05-03T00:00:00+05:30\",\"2024-05-06T00:00:00+05:30\",\"2024-05-07T00:00:00+05:30\",\"2024-05-08T00:00:00+05:30\",\"2024-05-09T00:00:00+05:30\",\"2024-05-10T00:00:00+05:30\",\"2024-05-13T00:00:00+05:30\",\"2024-05-14T00:00:00+05:30\",\"2024-05-15T00:00:00+05:30\",\"2024-05-16T00:00:00+05:30\",\"2024-05-17T00:00:00+05:30\",\"2024-05-21T00:00:00+05:30\",\"2024-05-22T00:00:00+05:30\",\"2024-05-23T00:00:00+05:30\",\"2024-05-24T00:00:00+05:30\",\"2024-05-27T00:00:00+05:30\",\"2024-05-28T00:00:00+05:30\",\"2024-05-29T00:00:00+05:30\",\"2024-05-30T00:00:00+05:30\",\"2024-05-31T00:00:00+05:30\",\"2024-06-03T00:00:00+05:30\",\"2024-06-04T00:00:00+05:30\",\"2024-06-05T00:00:00+05:30\",\"2024-06-06T00:00:00+05:30\",\"2024-06-07T00:00:00+05:30\",\"2024-06-10T00:00:00+05:30\",\"2024-06-11T00:00:00+05:30\",\"2024-06-12T00:00:00+05:30\",\"2024-06-13T00:00:00+05:30\",\"2024-06-14T00:00:00+05:30\",\"2024-06-18T00:00:00+05:30\",\"2024-06-19T00:00:00+05:30\",\"2024-06-20T00:00:00+05:30\",\"2024-06-21T00:00:00+05:30\",\"2024-06-24T00:00:00+05:30\",\"2024-06-25T00:00:00+05:30\",\"2024-06-26T00:00:00+05:30\",\"2024-06-27T00:00:00+05:30\",\"2024-06-28T00:00:00+05:30\",\"2024-07-01T00:00:00+05:30\",\"2024-07-02T00:00:00+05:30\",\"2024-07-03T00:00:00+05:30\",\"2024-07-04T00:00:00+05:30\",\"2024-07-05T00:00:00+05:30\",\"2024-07-08T00:00:00+05:30\",\"2024-07-09T00:00:00+05:30\",\"2024-07-10T00:00:00+05:30\",\"2024-07-11T00:00:00+05:30\",\"2024-07-12T00:00:00+05:30\",\"2024-07-15T00:00:00+05:30\",\"2024-07-16T00:00:00+05:30\",\"2024-07-18T00:00:00+05:30\",\"2024-07-19T00:00:00+05:30\",\"2024-07-22T00:00:00+05:30\",\"2024-07-23T00:00:00+05:30\",\"2024-07-24T00:00:00+05:30\",\"2024-07-25T00:00:00+05:30\",\"2024-07-26T00:00:00+05:30\",\"2024-07-29T00:00:00+05:30\",\"2024-07-30T00:00:00+05:30\",\"2024-07-31T00:00:00+05:30\",\"2024-08-01T00:00:00+05:30\",\"2024-08-02T00:00:00+05:30\",\"2024-08-05T00:00:00+05:30\",\"2024-08-06T00:00:00+05:30\",\"2024-08-07T00:00:00+05:30\",\"2024-08-08T00:00:00+05:30\",\"2024-08-09T00:00:00+05:30\",\"2024-08-12T00:00:00+05:30\",\"2024-08-13T00:00:00+05:30\",\"2024-08-14T00:00:00+05:30\",\"2024-08-16T00:00:00+05:30\",\"2024-08-19T00:00:00+05:30\",\"2024-08-20T00:00:00+05:30\",\"2024-08-21T00:00:00+05:30\",\"2024-08-22T00:00:00+05:30\",\"2024-08-23T00:00:00+05:30\",\"2024-08-26T00:00:00+05:30\",\"2024-08-27T00:00:00+05:30\",\"2024-08-28T00:00:00+05:30\",\"2024-08-29T00:00:00+05:30\",\"2024-08-30T00:00:00+05:30\",\"2024-09-02T00:00:00+05:30\",\"2024-09-03T00:00:00+05:30\",\"2024-09-04T00:00:00+05:30\",\"2024-09-05T00:00:00+05:30\",\"2024-09-06T00:00:00+05:30\",\"2024-09-09T00:00:00+05:30\",\"2024-09-10T00:00:00+05:30\",\"2024-09-11T00:00:00+05:30\",\"2024-09-12T00:00:00+05:30\",\"2024-09-13T00:00:00+05:30\",\"2024-09-16T00:00:00+05:30\",\"2024-09-17T00:00:00+05:30\",\"2024-09-18T00:00:00+05:30\",\"2024-09-19T00:00:00+05:30\",\"2024-09-20T00:00:00+05:30\",\"2024-09-23T00:00:00+05:30\",\"2024-09-24T00:00:00+05:30\",\"2024-09-25T00:00:00+05:30\",\"2024-09-26T00:00:00+05:30\",\"2024-09-27T00:00:00+05:30\",\"2024-09-30T00:00:00+05:30\",\"2024-10-01T00:00:00+05:30\",\"2024-10-03T00:00:00+05:30\",\"2024-10-04T00:00:00+05:30\",\"2024-10-07T00:00:00+05:30\",\"2024-10-08T00:00:00+05:30\",\"2024-10-09T00:00:00+05:30\",\"2024-10-10T00:00:00+05:30\",\"2024-10-11T00:00:00+05:30\",\"2024-10-14T00:00:00+05:30\",\"2024-10-15T00:00:00+05:30\",\"2024-10-16T00:00:00+05:30\",\"2024-10-18T00:00:00+05:30\"],\"y\":[82.37733091447149,83.44297901681625,68.63685617920743,75.96070687355918,77.65637556392723,77.85428814193246,80.65328589109504,75.1457500677924,71.3955062322706,70.20951740854332,70.91891508957008,68.91598350279068,72.55024182280283,72.68963969587219,72.88735273850418,75.68366762024802,74.01166856032779,76.22687652953597,77.1205937068442,77.16679217435096,73.79536419735692,76.38768119600255,71.41874310006969,70.64550736634911,71.8909702456017,71.54685469017501,68.03947868960861,63.0469017508116,64.27040144277404,64.84886995326222,54.28052737952764,46.38307001267709,35.25141330376216,42.8110221773111,38.805684204043764,38.734714702724794,37.69548531367339,44.662124533487344,47.06551745094376,46.127488935673355,42.99022898168706,46.23338633108568,42.17331170594576,47.581320379101726,48.01760109727708,52.29363330333514,51.49529944499754,52.38987872196885,52.38987872196885,55.260649640623804,57.00562385165126,65.65978332732745,57.369193800383904,52.05986720639534,50.602925376399554,47.51828569561464,49.86892387929367,37.62010040942077,46.794110831683625,49.69148761034371,46.696220891303945,45.84596028584941,49.966714659604506,42.432735397514,44.607247389819186,46.39149219023241,46.597321258987115,46.926512980617154,49.60286965820143,50.054925893247095,51.23264189713852,48.405435706334295,43.5651209623321,41.29021244949511,34.49978987454665,33.95313977383179,40.742501534927335,36.91653089787294,41.983680536010226,50.15347994305888,51.77854892760446,53.51270738240459,57.036291041024484,62.48092626587363,60.66968260460942,57.10428470005231,47.097676281772955,42.72335705074824,45.40040587092747,43.72767086458437,48.36446289084105,45.544752014642754,46.66108751483584,47.01200311426635,45.50729133839816,41.992079856586166,36.77367972236414,38.47714479675954,48.23934564955746,50.20303714574283,55.00333458293083,55.78459296344712,56.496394125347145,57.341588878352596,63.94275478361902,64.5338004753454,64.71175073596159,69.20521798727927,65.22964898279372,67.25539456311303,67.08000497353541,66.15121912310605,67.32066006750298,71.78265408495196,73.75037171431714,76.28486271541205,78.40856108184224,66.65423676640287,66.98738815477518,67.16398057283033,50.01718598005603,57.14588353790015,54.14290092579903,51.77622674876549,54.62422450062656,55.33442482427153,56.281819645926085,64.1147645213143,75.75539033908346,75.990574410704,73.06489465355803,67.0238182210645,73.82844695551526,68.41364347419676,69.70222324595272,70.5792982582396,68.99439615346301,66.3580625109066,70.47796727033358,70.67630641967924,71.04291002607864,70.50050153388605,70.97775751881733,70.06223988183132,63.71892421683828,54.352352223695235,54.014802339639076,55.693874825564684,62.31817680976163,55.60354191233463,66.14742848566341,62.196545221434214,69.64660706101165,76.49340170888924,75.2081350055053,76.93706747539443,76.96689690989012,77.09449611526445,75.96150325953131,78.92937276265422,80.7155743597491,79.89209021315492,83.51457125802673,84.31861719299314,83.37175353753098,84.83854061946073,85.44351967637316,86.2655634274004,79.4512082662721,80.95362976556422,68.83783466096146,67.12944374543164,68.12338222268583,70.2457538384494,70.9697807768901,70.27915958206344,67.45165246222153,69.43792849709017,73.03181686461467,62.98016902200793,59.984343334921256,73.6116027389407,68.05613309424449,63.915439463092,63.53695888294397,68.61968975038084,65.96847814612434,68.22392249774644,66.66522416779702,71.05119648521604,64.20828883839559,66.20013599303965,65.10755854161633,66.18091022216083,60.932557304197346,63.52079584028832,64.36819044672369,59.56658702623519,50.83566270132888,53.330857851692095,52.376623051471896,53.89942891865476,59.885398069069055,58.24092701294873,65.15893708983481,63.94528091325243,64.79277025220507,65.80267622337644,64.75485413035148,68.66304543144794,51.6888132792744,53.05227509234754,54.324870441961025,53.613501299372714,50.34744818788424,45.075898983663436,40.8108454426406,38.88203281260949,43.108179150052194,40.74810460888575,45.84190865910382,43.32733247974418,47.12043377553154,46.33462482125416,42.11189437847674,42.11189437847674,46.10771486221011,40.92898095101038,46.4361175784892,52.8418839174308,55.10444732977831,51.69170679106639,54.27719675290539,59.48629398175568,56.688224598720026,54.17904663072275,44.39206234359333,37.913558473619105,36.67217019443589,33.35389520771628,40.93136045232704,44.70706557884847,46.11407518861586,42.957068087152614,49.850503504485744,47.75980361993433,59.327719820017975,59.61705423135037,57.47834728914915,59.5905053846658,58.8378488861107,62.24578016463129,62.701362118441075,62.457874761026765,69.95493541024682,70.55631426333579,73.05075822396249,68.75424724671336,69.14510551180666,65.4423096556265,67.07009343881836,68.61779840949899,68.02753243058498,73.54235274947142,75.14944217097703,72.04115015889514,69.35068222127613,72.54108870402536,63.50540222335872,66.58422321175459,59.08469760879992,56.83513378778091,65.24702556186506,64.36129538852674,71.23084470508076,70.85566172422138,50.55220251838653,55.37577891453227,55.14218823247428,57.461051009301094,60.873483421440035,65.07791434667884,70.43243222659915,72.28527510286429,72.35269899425198,74.09502876413544,72.43511284609721,74.6249184896496,67.42944428107458,69.45294667231781,69.75374710580303,75.06624554075614,73.55531894693465,60.45165721772501,60.546272267307444,54.54975825282921,54.27838711920415,60.0562792001824,49.63254807919291,50.080404571790076,46.44788915546155,50.327932339732094,52.37551625256087,62.75525956589609,62.11020865096536,66.61835098817033,68.28386782826416,68.90756568438945,67.22954253628266,65.35966107631256,58.847608544559016,50.53130234243863,52.20707039077848,56.341393849487645,54.42953658655819,55.93482108361434,56.152466663415154,50.75322646092582,47.3993114644545,52.13500090305408,50.0901339900856,48.51062361141136,46.79274907482153,40.56597401148615,42.805975080428674,46.552965693028405,50.80056702341837,47.97491406226157,44.86740452468853,50.720558484090816,46.423816559081686,43.61513095848326,32.56434433170743,37.22348061259802,36.953906346434636,38.62908667012262,32.922834235068365,37.604896927027994,41.43493683236211,42.654988528823964,40.91738623631203,40.91738623631203,40.91738623631203,47.02039782641822,50.46440733523336,49.81346696836955,55.03381570521136,57.00952198595501,79.43309714168728,80.78928747909477,80.66565565445732,83.27496524687083,84.95358854791354,89.99071489278433,83.93835793089941,80.8516979420568,83.49650429631598,80.99242192980209,72.2312320308343,72.76625417486557,76.1138183927858,70.71602389713159,73.75834961505231,69.86180375947876,70.83943753567962,66.85273137982952,63.50493315023974,65.31200831819112,60.140232777393415,61.13876803733001,62.1884099758285,63.80475150295364,64.36166617322637,67.31814146907082,68.19039100949789,67.13227510747689,62.43707451736845,61.20179712334183,64.80485619390637,70.6463678605833,74.29197935897727,72.36250762822365,67.01178422046291,61.632509546418554,66.59013206182635,47.1173577930361,56.89095555022654,64.2468918979429,63.99127237066836,63.56566502196482,64.19145749623522,66.59235369595078,66.91490332932565,66.89317211387385,71.36128131258262,69.45990232091306,71.75612221342708,70.53234235693948,71.38758878976554,72.58518006036566,66.60650066288193,65.6734277828504,64.74938824713706,66.18410305449447,63.4049849131374,64.8329858532949,63.2031676528192,63.837709936450615,65.13274799843896,67.62956130793131,60.31970318773037,57.870209102469374,55.214083148814744,56.95488745982887,53.21157709450309,52.65717989772913,44.26795213836027,49.11099943557295,49.02905239335826,45.28627114879932,45.31887781014081,53.56573336677687,52.42831934484276,41.95304648751614,38.507498411376204,34.65759905710307,33.33097243575297,26.69910842631444,25.827755154291097,34.861536620546474,31.96146871224458,35.965773283867364,39.191181859329966,36.94908819829901,34.89683257451131,40.28316429965946,40.97514974988243,41.15139385907187,47.231912634355126,49.530518959408326,43.50119766585332,42.874301752480555,43.329223622779175,40.11803095429892,39.44344362013204,41.35498591539964,40.14200002310459,39.28879488109104,36.883918055405466,45.65002937007063,39.200401927237564,35.66170042229163,38.59232710559491,35.735621062967795,41.171339915720054,44.81803502838033,47.6813731483162,43.58631573869645,38.65572573053166,34.02019172063501,38.307581030455935,41.437659394743875,44.8838485416293,43.397247637216246,42.41388629588834,56.36536748046347,58.585642463849354,62.14196693690216,53.74748605598272,56.2790811552661,46.382461589781045,51.91290954994901,60.369689842746624,57.31098241357314,62.52266878852311,62.45553453345053,58.74278855805692,54.547961202729226,47.794011207017334],\"type\":\"scatter\"}],                        {\"template\":{\"data\":{\"histogram2dcontour\":[{\"type\":\"histogram2dcontour\",\"colorbar\":{\"outlinewidth\":0,\"ticks\":\"\"},\"colorscale\":[[0.0,\"#0d0887\"],[0.1111111111111111,\"#46039f\"],[0.2222222222222222,\"#7201a8\"],[0.3333333333333333,\"#9c179e\"],[0.4444444444444444,\"#bd3786\"],[0.5555555555555556,\"#d8576b\"],[0.6666666666666666,\"#ed7953\"],[0.7777777777777778,\"#fb9f3a\"],[0.8888888888888888,\"#fdca26\"],[1.0,\"#f0f921\"]]}],\"choropleth\":[{\"type\":\"choropleth\",\"colorbar\":{\"outlinewidth\":0,\"ticks\":\"\"}}],\"histogram2d\":[{\"type\":\"histogram2d\",\"colorbar\":{\"outlinewidth\":0,\"ticks\":\"\"},\"colorscale\":[[0.0,\"#0d0887\"],[0.1111111111111111,\"#46039f\"],[0.2222222222222222,\"#7201a8\"],[0.3333333333333333,\"#9c179e\"],[0.4444444444444444,\"#bd3786\"],[0.5555555555555556,\"#d8576b\"],[0.6666666666666666,\"#ed7953\"],[0.7777777777777778,\"#fb9f3a\"],[0.8888888888888888,\"#fdca26\"],[1.0,\"#f0f921\"]]}],\"heatmap\":[{\"type\":\"heatmap\",\"colorbar\":{\"outlinewidth\":0,\"ticks\":\"\"},\"colorscale\":[[0.0,\"#0d0887\"],[0.1111111111111111,\"#46039f\"],[0.2222222222222222,\"#7201a8\"],[0.3333333333333333,\"#9c179e\"],[0.4444444444444444,\"#bd3786\"],[0.5555555555555556,\"#d8576b\"],[0.6666666666666666,\"#ed7953\"],[0.7777777777777778,\"#fb9f3a\"],[0.8888888888888888,\"#fdca26\"],[1.0,\"#f0f921\"]]}],\"heatmapgl\":[{\"type\":\"heatmapgl\",\"colorbar\":{\"outlinewidth\":0,\"ticks\":\"\"},\"colorscale\":[[0.0,\"#0d0887\"],[0.1111111111111111,\"#46039f\"],[0.2222222222222222,\"#7201a8\"],[0.3333333333333333,\"#9c179e\"],[0.4444444444444444,\"#bd3786\"],[0.5555555555555556,\"#d8576b\"],[0.6666666666666666,\"#ed7953\"],[0.7777777777777778,\"#fb9f3a\"],[0.8888888888888888,\"#fdca26\"],[1.0,\"#f0f921\"]]}],\"contourcarpet\":[{\"type\":\"contourcarpet\",\"colorbar\":{\"outlinewidth\":0,\"ticks\":\"\"}}],\"contour\":[{\"type\":\"contour\",\"colorbar\":{\"outlinewidth\":0,\"ticks\":\"\"},\"colorscale\":[[0.0,\"#0d0887\"],[0.1111111111111111,\"#46039f\"],[0.2222222222222222,\"#7201a8\"],[0.3333333333333333,\"#9c179e\"],[0.4444444444444444,\"#bd3786\"],[0.5555555555555556,\"#d8576b\"],[0.6666666666666666,\"#ed7953\"],[0.7777777777777778,\"#fb9f3a\"],[0.8888888888888888,\"#fdca26\"],[1.0,\"#f0f921\"]]}],\"surface\":[{\"type\":\"surface\",\"colorbar\":{\"outlinewidth\":0,\"ticks\":\"\"},\"colorscale\":[[0.0,\"#0d0887\"],[0.1111111111111111,\"#46039f\"],[0.2222222222222222,\"#7201a8\"],[0.3333333333333333,\"#9c179e\"],[0.4444444444444444,\"#bd3786\"],[0.5555555555555556,\"#d8576b\"],[0.6666666666666666,\"#ed7953\"],[0.7777777777777778,\"#fb9f3a\"],[0.8888888888888888,\"#fdca26\"],[1.0,\"#f0f921\"]]}],\"mesh3d\":[{\"type\":\"mesh3d\",\"colorbar\":{\"outlinewidth\":0,\"ticks\":\"\"}}],\"scatter\":[{\"fillpattern\":{\"fillmode\":\"overlay\",\"size\":10,\"solidity\":0.2},\"type\":\"scatter\"}],\"parcoords\":[{\"type\":\"parcoords\",\"line\":{\"colorbar\":{\"outlinewidth\":0,\"ticks\":\"\"}}}],\"scatterpolargl\":[{\"type\":\"scatterpolargl\",\"marker\":{\"colorbar\":{\"outlinewidth\":0,\"ticks\":\"\"}}}],\"bar\":[{\"error_x\":{\"color\":\"#2a3f5f\"},\"error_y\":{\"color\":\"#2a3f5f\"},\"marker\":{\"line\":{\"color\":\"#E5ECF6\",\"width\":0.5},\"pattern\":{\"fillmode\":\"overlay\",\"size\":10,\"solidity\":0.2}},\"type\":\"bar\"}],\"scattergeo\":[{\"type\":\"scattergeo\",\"marker\":{\"colorbar\":{\"outlinewidth\":0,\"ticks\":\"\"}}}],\"scatterpolar\":[{\"type\":\"scatterpolar\",\"marker\":{\"colorbar\":{\"outlinewidth\":0,\"ticks\":\"\"}}}],\"histogram\":[{\"marker\":{\"pattern\":{\"fillmode\":\"overlay\",\"size\":10,\"solidity\":0.2}},\"type\":\"histogram\"}],\"scattergl\":[{\"type\":\"scattergl\",\"marker\":{\"colorbar\":{\"outlinewidth\":0,\"ticks\":\"\"}}}],\"scatter3d\":[{\"type\":\"scatter3d\",\"line\":{\"colorbar\":{\"outlinewidth\":0,\"ticks\":\"\"}},\"marker\":{\"colorbar\":{\"outlinewidth\":0,\"ticks\":\"\"}}}],\"scattermapbox\":[{\"type\":\"scattermapbox\",\"marker\":{\"colorbar\":{\"outlinewidth\":0,\"ticks\":\"\"}}}],\"scatterternary\":[{\"type\":\"scatterternary\",\"marker\":{\"colorbar\":{\"outlinewidth\":0,\"ticks\":\"\"}}}],\"scattercarpet\":[{\"type\":\"scattercarpet\",\"marker\":{\"colorbar\":{\"outlinewidth\":0,\"ticks\":\"\"}}}],\"carpet\":[{\"aaxis\":{\"endlinecolor\":\"#2a3f5f\",\"gridcolor\":\"white\",\"linecolor\":\"white\",\"minorgridcolor\":\"white\",\"startlinecolor\":\"#2a3f5f\"},\"baxis\":{\"endlinecolor\":\"#2a3f5f\",\"gridcolor\":\"white\",\"linecolor\":\"white\",\"minorgridcolor\":\"white\",\"startlinecolor\":\"#2a3f5f\"},\"type\":\"carpet\"}],\"table\":[{\"cells\":{\"fill\":{\"color\":\"#EBF0F8\"},\"line\":{\"color\":\"white\"}},\"header\":{\"fill\":{\"color\":\"#C8D4E3\"},\"line\":{\"color\":\"white\"}},\"type\":\"table\"}],\"barpolar\":[{\"marker\":{\"line\":{\"color\":\"#E5ECF6\",\"width\":0.5},\"pattern\":{\"fillmode\":\"overlay\",\"size\":10,\"solidity\":0.2}},\"type\":\"barpolar\"}],\"pie\":[{\"automargin\":true,\"type\":\"pie\"}]},\"layout\":{\"autotypenumbers\":\"strict\",\"colorway\":[\"#636efa\",\"#EF553B\",\"#00cc96\",\"#ab63fa\",\"#FFA15A\",\"#19d3f3\",\"#FF6692\",\"#B6E880\",\"#FF97FF\",\"#FECB52\"],\"font\":{\"color\":\"#2a3f5f\"},\"hovermode\":\"closest\",\"hoverlabel\":{\"align\":\"left\"},\"paper_bgcolor\":\"white\",\"plot_bgcolor\":\"#E5ECF6\",\"polar\":{\"bgcolor\":\"#E5ECF6\",\"angularaxis\":{\"gridcolor\":\"white\",\"linecolor\":\"white\",\"ticks\":\"\"},\"radialaxis\":{\"gridcolor\":\"white\",\"linecolor\":\"white\",\"ticks\":\"\"}},\"ternary\":{\"bgcolor\":\"#E5ECF6\",\"aaxis\":{\"gridcolor\":\"white\",\"linecolor\":\"white\",\"ticks\":\"\"},\"baxis\":{\"gridcolor\":\"white\",\"linecolor\":\"white\",\"ticks\":\"\"},\"caxis\":{\"gridcolor\":\"white\",\"linecolor\":\"white\",\"ticks\":\"\"}},\"coloraxis\":{\"colorbar\":{\"outlinewidth\":0,\"ticks\":\"\"}},\"colorscale\":{\"sequential\":[[0.0,\"#0d0887\"],[0.1111111111111111,\"#46039f\"],[0.2222222222222222,\"#7201a8\"],[0.3333333333333333,\"#9c179e\"],[0.4444444444444444,\"#bd3786\"],[0.5555555555555556,\"#d8576b\"],[0.6666666666666666,\"#ed7953\"],[0.7777777777777778,\"#fb9f3a\"],[0.8888888888888888,\"#fdca26\"],[1.0,\"#f0f921\"]],\"sequentialminus\":[[0.0,\"#0d0887\"],[0.1111111111111111,\"#46039f\"],[0.2222222222222222,\"#7201a8\"],[0.3333333333333333,\"#9c179e\"],[0.4444444444444444,\"#bd3786\"],[0.5555555555555556,\"#d8576b\"],[0.6666666666666666,\"#ed7953\"],[0.7777777777777778,\"#fb9f3a\"],[0.8888888888888888,\"#fdca26\"],[1.0,\"#f0f921\"]],\"diverging\":[[0,\"#8e0152\"],[0.1,\"#c51b7d\"],[0.2,\"#de77ae\"],[0.3,\"#f1b6da\"],[0.4,\"#fde0ef\"],[0.5,\"#f7f7f7\"],[0.6,\"#e6f5d0\"],[0.7,\"#b8e186\"],[0.8,\"#7fbc41\"],[0.9,\"#4d9221\"],[1,\"#276419\"]]},\"xaxis\":{\"gridcolor\":\"white\",\"linecolor\":\"white\",\"ticks\":\"\",\"title\":{\"standoff\":15},\"zerolinecolor\":\"white\",\"automargin\":true,\"zerolinewidth\":2},\"yaxis\":{\"gridcolor\":\"white\",\"linecolor\":\"white\",\"ticks\":\"\",\"title\":{\"standoff\":15},\"zerolinecolor\":\"white\",\"automargin\":true,\"zerolinewidth\":2},\"scene\":{\"xaxis\":{\"backgroundcolor\":\"#E5ECF6\",\"gridcolor\":\"white\",\"linecolor\":\"white\",\"showbackground\":true,\"ticks\":\"\",\"zerolinecolor\":\"white\",\"gridwidth\":2},\"yaxis\":{\"backgroundcolor\":\"#E5ECF6\",\"gridcolor\":\"white\",\"linecolor\":\"white\",\"showbackground\":true,\"ticks\":\"\",\"zerolinecolor\":\"white\",\"gridwidth\":2},\"zaxis\":{\"backgroundcolor\":\"#E5ECF6\",\"gridcolor\":\"white\",\"linecolor\":\"white\",\"showbackground\":true,\"ticks\":\"\",\"zerolinecolor\":\"white\",\"gridwidth\":2}},\"shapedefaults\":{\"line\":{\"color\":\"#2a3f5f\"}},\"annotationdefaults\":{\"arrowcolor\":\"#2a3f5f\",\"arrowhead\":0,\"arrowwidth\":1},\"geo\":{\"bgcolor\":\"white\",\"landcolor\":\"#E5ECF6\",\"subunitcolor\":\"white\",\"showland\":true,\"showlakes\":true,\"lakecolor\":\"white\"},\"title\":{\"x\":0.05},\"mapbox\":{\"style\":\"light\"}}},\"shapes\":[{\"line\":{\"color\":\"red\",\"dash\":\"dash\",\"width\":2},\"type\":\"line\",\"x0\":0,\"x1\":1,\"xref\":\"x domain\",\"y0\":70,\"y1\":70,\"yref\":\"y\"},{\"line\":{\"color\":\"green\",\"dash\":\"dash\",\"width\":2},\"type\":\"line\",\"x0\":0,\"x1\":1,\"xref\":\"x domain\",\"y0\":30,\"y1\":30,\"yref\":\"y\"}],\"font\":{\"size\":14},\"legend\":{\"font\":{\"size\":12},\"x\":0.01,\"y\":0.99},\"title\":{\"text\":\"RSI (Relative Strength Index)\"},\"yaxis\":{\"title\":{\"text\":\"RSI Value\"},\"range\":[0,100],\"tickmode\":\"linear\",\"tick0\":0,\"dtick\":10,\"showgrid\":true,\"zeroline\":false,\"showline\":true,\"showticklabels\":true},\"xaxis\":{\"title\":{\"text\":\"Date\"},\"range\":[\"2022-11-25T00:00:00+05:30\",\"2024-11-07T00:00:00+05:30\"],\"tickmode\":\"auto\",\"nticks\":10,\"showgrid\":true,\"zeroline\":false,\"showline\":true,\"showticklabels\":true},\"showlegend\":true,\"hovermode\":\"x unified\",\"plot_bgcolor\":\"white\"},                        {\"responsive\": true}                    ).then(function(){\n",
       "                            \n",
       "var gd = document.getElementById('c8a10567-718a-44a9-8507-dbe243b8f890');\n",
       "var x = new MutationObserver(function (mutations, observer) {{\n",
       "        var display = window.getComputedStyle(gd).display;\n",
       "        if (!display || display === 'none') {{\n",
       "            console.log([gd, 'removed!']);\n",
       "            Plotly.purge(gd);\n",
       "            observer.disconnect();\n",
       "        }}\n",
       "}});\n",
       "\n",
       "// Listen for the removal of the full notebook cells\n",
       "var notebookContainer = gd.closest('#notebook-container');\n",
       "if (notebookContainer) {{\n",
       "    x.observe(notebookContainer, {childList: true});\n",
       "}}\n",
       "\n",
       "// Listen for the clearing of the current output cell\n",
       "var outputEl = gd.closest('.output');\n",
       "if (outputEl) {{\n",
       "    x.observe(outputEl, {childList: true});\n",
       "}}\n",
       "\n",
       "                        })                };                });            </script>        </div>"
      ]
     },
     "metadata": {},
     "output_type": "display_data"
    },
    {
     "name": "stdout",
     "output_type": "stream",
     "text": [
      "RSI is 47.79 and decreasing, moving towards oversold levels. Hold current positions and watch for further decline to buy.\n"
     ]
    },
    {
     "data": {
      "application/vnd.plotly.v1+json": {
       "config": {
        "plotlyServerURL": "https://plot.ly"
       },
       "data": [
        {
         "hovertemplate": "<b>Date:</b> %{x|%d %b %y}<br><b>Close:</b> %{y:.2f}<extra></extra>",
         "line": {
          "color": "#1e90ff",
          "width": 3
         },
         "name": "Close Price",
         "type": "scatter",
         "x": [
          "2022-10-18T00:00:00+05:30",
          "2022-10-19T00:00:00+05:30",
          "2022-10-20T00:00:00+05:30",
          "2022-10-21T00:00:00+05:30",
          "2022-10-24T00:00:00+05:30",
          "2022-10-25T00:00:00+05:30",
          "2022-10-27T00:00:00+05:30",
          "2022-10-28T00:00:00+05:30",
          "2022-10-31T00:00:00+05:30",
          "2022-11-01T00:00:00+05:30",
          "2022-11-02T00:00:00+05:30",
          "2022-11-03T00:00:00+05:30",
          "2022-11-04T00:00:00+05:30",
          "2022-11-07T00:00:00+05:30",
          "2022-11-09T00:00:00+05:30",
          "2022-11-10T00:00:00+05:30",
          "2022-11-11T00:00:00+05:30",
          "2022-11-14T00:00:00+05:30",
          "2022-11-15T00:00:00+05:30",
          "2022-11-16T00:00:00+05:30",
          "2022-11-17T00:00:00+05:30",
          "2022-11-18T00:00:00+05:30",
          "2022-11-21T00:00:00+05:30",
          "2022-11-22T00:00:00+05:30",
          "2022-11-23T00:00:00+05:30",
          "2022-11-24T00:00:00+05:30",
          "2022-11-25T00:00:00+05:30",
          "2022-11-28T00:00:00+05:30",
          "2022-11-29T00:00:00+05:30",
          "2022-11-30T00:00:00+05:30",
          "2022-12-01T00:00:00+05:30",
          "2022-12-02T00:00:00+05:30",
          "2022-12-05T00:00:00+05:30",
          "2022-12-06T00:00:00+05:30",
          "2022-12-07T00:00:00+05:30",
          "2022-12-08T00:00:00+05:30",
          "2022-12-09T00:00:00+05:30",
          "2022-12-12T00:00:00+05:30",
          "2022-12-13T00:00:00+05:30",
          "2022-12-14T00:00:00+05:30",
          "2022-12-15T00:00:00+05:30",
          "2022-12-16T00:00:00+05:30",
          "2022-12-19T00:00:00+05:30",
          "2022-12-20T00:00:00+05:30",
          "2022-12-21T00:00:00+05:30",
          "2022-12-22T00:00:00+05:30",
          "2022-12-23T00:00:00+05:30",
          "2022-12-26T00:00:00+05:30",
          "2022-12-27T00:00:00+05:30",
          "2022-12-28T00:00:00+05:30",
          "2022-12-29T00:00:00+05:30",
          "2022-12-30T00:00:00+05:30",
          "2023-01-02T00:00:00+05:30",
          "2023-01-03T00:00:00+05:30",
          "2023-01-04T00:00:00+05:30",
          "2023-01-05T00:00:00+05:30",
          "2023-01-06T00:00:00+05:30",
          "2023-01-09T00:00:00+05:30",
          "2023-01-10T00:00:00+05:30",
          "2023-01-11T00:00:00+05:30",
          "2023-01-12T00:00:00+05:30",
          "2023-01-13T00:00:00+05:30",
          "2023-01-16T00:00:00+05:30",
          "2023-01-17T00:00:00+05:30",
          "2023-01-18T00:00:00+05:30",
          "2023-01-19T00:00:00+05:30",
          "2023-01-20T00:00:00+05:30",
          "2023-01-23T00:00:00+05:30",
          "2023-01-24T00:00:00+05:30",
          "2023-01-25T00:00:00+05:30",
          "2023-01-27T00:00:00+05:30",
          "2023-01-30T00:00:00+05:30",
          "2023-01-31T00:00:00+05:30",
          "2023-02-01T00:00:00+05:30",
          "2023-02-02T00:00:00+05:30",
          "2023-02-03T00:00:00+05:30",
          "2023-02-06T00:00:00+05:30",
          "2023-02-07T00:00:00+05:30",
          "2023-02-08T00:00:00+05:30",
          "2023-02-09T00:00:00+05:30",
          "2023-02-10T00:00:00+05:30",
          "2023-02-13T00:00:00+05:30",
          "2023-02-14T00:00:00+05:30",
          "2023-02-15T00:00:00+05:30",
          "2023-02-16T00:00:00+05:30",
          "2023-02-17T00:00:00+05:30",
          "2023-02-20T00:00:00+05:30",
          "2023-02-21T00:00:00+05:30",
          "2023-02-22T00:00:00+05:30",
          "2023-02-23T00:00:00+05:30",
          "2023-02-24T00:00:00+05:30",
          "2023-02-27T00:00:00+05:30",
          "2023-02-28T00:00:00+05:30",
          "2023-03-01T00:00:00+05:30",
          "2023-03-02T00:00:00+05:30",
          "2023-03-03T00:00:00+05:30",
          "2023-03-06T00:00:00+05:30",
          "2023-03-08T00:00:00+05:30",
          "2023-03-09T00:00:00+05:30",
          "2023-03-10T00:00:00+05:30",
          "2023-03-13T00:00:00+05:30",
          "2023-03-14T00:00:00+05:30",
          "2023-03-15T00:00:00+05:30",
          "2023-03-16T00:00:00+05:30",
          "2023-03-17T00:00:00+05:30",
          "2023-03-20T00:00:00+05:30",
          "2023-03-21T00:00:00+05:30",
          "2023-03-22T00:00:00+05:30",
          "2023-03-23T00:00:00+05:30",
          "2023-03-24T00:00:00+05:30",
          "2023-03-27T00:00:00+05:30",
          "2023-03-28T00:00:00+05:30",
          "2023-03-29T00:00:00+05:30",
          "2023-03-31T00:00:00+05:30",
          "2023-04-03T00:00:00+05:30",
          "2023-04-05T00:00:00+05:30",
          "2023-04-06T00:00:00+05:30",
          "2023-04-10T00:00:00+05:30",
          "2023-04-11T00:00:00+05:30",
          "2023-04-12T00:00:00+05:30",
          "2023-04-13T00:00:00+05:30",
          "2023-04-17T00:00:00+05:30",
          "2023-04-18T00:00:00+05:30",
          "2023-04-19T00:00:00+05:30",
          "2023-04-20T00:00:00+05:30",
          "2023-04-21T00:00:00+05:30",
          "2023-04-24T00:00:00+05:30",
          "2023-04-25T00:00:00+05:30",
          "2023-04-26T00:00:00+05:30",
          "2023-04-27T00:00:00+05:30",
          "2023-04-28T00:00:00+05:30",
          "2023-05-02T00:00:00+05:30",
          "2023-05-03T00:00:00+05:30",
          "2023-05-04T00:00:00+05:30",
          "2023-05-05T00:00:00+05:30",
          "2023-05-08T00:00:00+05:30",
          "2023-05-09T00:00:00+05:30",
          "2023-05-10T00:00:00+05:30",
          "2023-05-11T00:00:00+05:30",
          "2023-05-12T00:00:00+05:30",
          "2023-05-15T00:00:00+05:30",
          "2023-05-16T00:00:00+05:30",
          "2023-05-17T00:00:00+05:30",
          "2023-05-18T00:00:00+05:30",
          "2023-05-19T00:00:00+05:30",
          "2023-05-22T00:00:00+05:30",
          "2023-05-23T00:00:00+05:30",
          "2023-05-24T00:00:00+05:30",
          "2023-05-25T00:00:00+05:30",
          "2023-05-26T00:00:00+05:30",
          "2023-05-29T00:00:00+05:30",
          "2023-05-30T00:00:00+05:30",
          "2023-05-31T00:00:00+05:30",
          "2023-06-01T00:00:00+05:30",
          "2023-06-02T00:00:00+05:30",
          "2023-06-05T00:00:00+05:30",
          "2023-06-06T00:00:00+05:30",
          "2023-06-07T00:00:00+05:30",
          "2023-06-08T00:00:00+05:30",
          "2023-06-09T00:00:00+05:30",
          "2023-06-12T00:00:00+05:30",
          "2023-06-13T00:00:00+05:30",
          "2023-06-14T00:00:00+05:30",
          "2023-06-15T00:00:00+05:30",
          "2023-06-16T00:00:00+05:30",
          "2023-06-19T00:00:00+05:30",
          "2023-06-20T00:00:00+05:30",
          "2023-06-21T00:00:00+05:30",
          "2023-06-22T00:00:00+05:30",
          "2023-06-23T00:00:00+05:30",
          "2023-06-26T00:00:00+05:30",
          "2023-06-27T00:00:00+05:30",
          "2023-06-28T00:00:00+05:30",
          "2023-06-30T00:00:00+05:30",
          "2023-07-03T00:00:00+05:30",
          "2023-07-04T00:00:00+05:30",
          "2023-07-05T00:00:00+05:30",
          "2023-07-06T00:00:00+05:30",
          "2023-07-07T00:00:00+05:30",
          "2023-07-10T00:00:00+05:30",
          "2023-07-11T00:00:00+05:30",
          "2023-07-12T00:00:00+05:30",
          "2023-07-13T00:00:00+05:30",
          "2023-07-14T00:00:00+05:30",
          "2023-07-17T00:00:00+05:30",
          "2023-07-18T00:00:00+05:30",
          "2023-07-19T00:00:00+05:30",
          "2023-07-20T00:00:00+05:30",
          "2023-07-21T00:00:00+05:30",
          "2023-07-24T00:00:00+05:30",
          "2023-07-25T00:00:00+05:30",
          "2023-07-26T00:00:00+05:30",
          "2023-07-27T00:00:00+05:30",
          "2023-07-28T00:00:00+05:30",
          "2023-07-31T00:00:00+05:30",
          "2023-08-01T00:00:00+05:30",
          "2023-08-02T00:00:00+05:30",
          "2023-08-03T00:00:00+05:30",
          "2023-08-04T00:00:00+05:30",
          "2023-08-07T00:00:00+05:30",
          "2023-08-08T00:00:00+05:30",
          "2023-08-09T00:00:00+05:30",
          "2023-08-10T00:00:00+05:30",
          "2023-08-11T00:00:00+05:30",
          "2023-08-14T00:00:00+05:30",
          "2023-08-16T00:00:00+05:30",
          "2023-08-17T00:00:00+05:30",
          "2023-08-18T00:00:00+05:30",
          "2023-08-21T00:00:00+05:30",
          "2023-08-22T00:00:00+05:30",
          "2023-08-23T00:00:00+05:30",
          "2023-08-24T00:00:00+05:30",
          "2023-08-25T00:00:00+05:30",
          "2023-08-28T00:00:00+05:30",
          "2023-08-29T00:00:00+05:30",
          "2023-08-30T00:00:00+05:30",
          "2023-08-31T00:00:00+05:30",
          "2023-09-01T00:00:00+05:30",
          "2023-09-04T00:00:00+05:30",
          "2023-09-05T00:00:00+05:30",
          "2023-09-06T00:00:00+05:30",
          "2023-09-07T00:00:00+05:30",
          "2023-09-08T00:00:00+05:30",
          "2023-09-11T00:00:00+05:30",
          "2023-09-12T00:00:00+05:30",
          "2023-09-13T00:00:00+05:30",
          "2023-09-14T00:00:00+05:30",
          "2023-09-15T00:00:00+05:30",
          "2023-09-18T00:00:00+05:30",
          "2023-09-20T00:00:00+05:30",
          "2023-09-21T00:00:00+05:30",
          "2023-09-22T00:00:00+05:30",
          "2023-09-25T00:00:00+05:30",
          "2023-09-26T00:00:00+05:30",
          "2023-09-27T00:00:00+05:30",
          "2023-09-28T00:00:00+05:30",
          "2023-09-29T00:00:00+05:30",
          "2023-10-03T00:00:00+05:30",
          "2023-10-04T00:00:00+05:30",
          "2023-10-05T00:00:00+05:30",
          "2023-10-06T00:00:00+05:30",
          "2023-10-09T00:00:00+05:30",
          "2023-10-10T00:00:00+05:30",
          "2023-10-11T00:00:00+05:30",
          "2023-10-12T00:00:00+05:30",
          "2023-10-13T00:00:00+05:30",
          "2023-10-16T00:00:00+05:30",
          "2023-10-17T00:00:00+05:30",
          "2023-10-18T00:00:00+05:30",
          "2023-10-19T00:00:00+05:30",
          "2023-10-20T00:00:00+05:30",
          "2023-10-23T00:00:00+05:30",
          "2023-10-25T00:00:00+05:30",
          "2023-10-26T00:00:00+05:30",
          "2023-10-27T00:00:00+05:30",
          "2023-10-30T00:00:00+05:30",
          "2023-10-31T00:00:00+05:30",
          "2023-11-01T00:00:00+05:30",
          "2023-11-02T00:00:00+05:30",
          "2023-11-03T00:00:00+05:30",
          "2023-11-06T00:00:00+05:30",
          "2023-11-07T00:00:00+05:30",
          "2023-11-08T00:00:00+05:30",
          "2023-11-09T00:00:00+05:30",
          "2023-11-10T00:00:00+05:30",
          "2023-11-13T00:00:00+05:30",
          "2023-11-15T00:00:00+05:30",
          "2023-11-16T00:00:00+05:30",
          "2023-11-17T00:00:00+05:30",
          "2023-11-20T00:00:00+05:30",
          "2023-11-21T00:00:00+05:30",
          "2023-11-22T00:00:00+05:30",
          "2023-11-23T00:00:00+05:30",
          "2023-11-24T00:00:00+05:30",
          "2023-11-28T00:00:00+05:30",
          "2023-11-29T00:00:00+05:30",
          "2023-11-30T00:00:00+05:30",
          "2023-12-01T00:00:00+05:30",
          "2023-12-04T00:00:00+05:30",
          "2023-12-05T00:00:00+05:30",
          "2023-12-06T00:00:00+05:30",
          "2023-12-07T00:00:00+05:30",
          "2023-12-08T00:00:00+05:30",
          "2023-12-11T00:00:00+05:30",
          "2023-12-12T00:00:00+05:30",
          "2023-12-13T00:00:00+05:30",
          "2023-12-14T00:00:00+05:30",
          "2023-12-15T00:00:00+05:30",
          "2023-12-18T00:00:00+05:30",
          "2023-12-19T00:00:00+05:30",
          "2023-12-20T00:00:00+05:30",
          "2023-12-21T00:00:00+05:30",
          "2023-12-22T00:00:00+05:30",
          "2023-12-26T00:00:00+05:30",
          "2023-12-27T00:00:00+05:30",
          "2023-12-28T00:00:00+05:30",
          "2023-12-29T00:00:00+05:30",
          "2024-01-01T00:00:00+05:30",
          "2024-01-02T00:00:00+05:30",
          "2024-01-03T00:00:00+05:30",
          "2024-01-04T00:00:00+05:30",
          "2024-01-05T00:00:00+05:30",
          "2024-01-08T00:00:00+05:30",
          "2024-01-09T00:00:00+05:30",
          "2024-01-10T00:00:00+05:30",
          "2024-01-11T00:00:00+05:30",
          "2024-01-12T00:00:00+05:30",
          "2024-01-15T00:00:00+05:30",
          "2024-01-16T00:00:00+05:30",
          "2024-01-17T00:00:00+05:30",
          "2024-01-18T00:00:00+05:30",
          "2024-01-19T00:00:00+05:30",
          "2024-01-23T00:00:00+05:30",
          "2024-01-24T00:00:00+05:30",
          "2024-01-25T00:00:00+05:30",
          "2024-01-29T00:00:00+05:30",
          "2024-01-30T00:00:00+05:30",
          "2024-01-31T00:00:00+05:30",
          "2024-02-01T00:00:00+05:30",
          "2024-02-02T00:00:00+05:30",
          "2024-02-05T00:00:00+05:30",
          "2024-02-06T00:00:00+05:30",
          "2024-02-07T00:00:00+05:30",
          "2024-02-08T00:00:00+05:30",
          "2024-02-09T00:00:00+05:30",
          "2024-02-12T00:00:00+05:30",
          "2024-02-13T00:00:00+05:30",
          "2024-02-14T00:00:00+05:30",
          "2024-02-15T00:00:00+05:30",
          "2024-02-16T00:00:00+05:30",
          "2024-02-19T00:00:00+05:30",
          "2024-02-20T00:00:00+05:30",
          "2024-02-21T00:00:00+05:30",
          "2024-02-22T00:00:00+05:30",
          "2024-02-23T00:00:00+05:30",
          "2024-02-26T00:00:00+05:30",
          "2024-02-27T00:00:00+05:30",
          "2024-02-28T00:00:00+05:30",
          "2024-02-29T00:00:00+05:30",
          "2024-03-01T00:00:00+05:30",
          "2024-03-04T00:00:00+05:30",
          "2024-03-05T00:00:00+05:30",
          "2024-03-06T00:00:00+05:30",
          "2024-03-07T00:00:00+05:30",
          "2024-03-11T00:00:00+05:30",
          "2024-03-12T00:00:00+05:30",
          "2024-03-13T00:00:00+05:30",
          "2024-03-14T00:00:00+05:30",
          "2024-03-15T00:00:00+05:30",
          "2024-03-18T00:00:00+05:30",
          "2024-03-19T00:00:00+05:30",
          "2024-03-20T00:00:00+05:30",
          "2024-03-21T00:00:00+05:30",
          "2024-03-22T00:00:00+05:30",
          "2024-03-26T00:00:00+05:30",
          "2024-03-27T00:00:00+05:30",
          "2024-03-28T00:00:00+05:30",
          "2024-04-01T00:00:00+05:30",
          "2024-04-02T00:00:00+05:30",
          "2024-04-03T00:00:00+05:30",
          "2024-04-04T00:00:00+05:30",
          "2024-04-05T00:00:00+05:30",
          "2024-04-08T00:00:00+05:30",
          "2024-04-09T00:00:00+05:30",
          "2024-04-10T00:00:00+05:30",
          "2024-04-12T00:00:00+05:30",
          "2024-04-15T00:00:00+05:30",
          "2024-04-16T00:00:00+05:30",
          "2024-04-18T00:00:00+05:30",
          "2024-04-19T00:00:00+05:30",
          "2024-04-22T00:00:00+05:30",
          "2024-04-23T00:00:00+05:30",
          "2024-04-24T00:00:00+05:30",
          "2024-04-25T00:00:00+05:30",
          "2024-04-26T00:00:00+05:30",
          "2024-04-29T00:00:00+05:30",
          "2024-04-30T00:00:00+05:30",
          "2024-05-02T00:00:00+05:30",
          "2024-05-03T00:00:00+05:30",
          "2024-05-06T00:00:00+05:30",
          "2024-05-07T00:00:00+05:30",
          "2024-05-08T00:00:00+05:30",
          "2024-05-09T00:00:00+05:30",
          "2024-05-10T00:00:00+05:30",
          "2024-05-13T00:00:00+05:30",
          "2024-05-14T00:00:00+05:30",
          "2024-05-15T00:00:00+05:30",
          "2024-05-16T00:00:00+05:30",
          "2024-05-17T00:00:00+05:30",
          "2024-05-21T00:00:00+05:30",
          "2024-05-22T00:00:00+05:30",
          "2024-05-23T00:00:00+05:30",
          "2024-05-24T00:00:00+05:30",
          "2024-05-27T00:00:00+05:30",
          "2024-05-28T00:00:00+05:30",
          "2024-05-29T00:00:00+05:30",
          "2024-05-30T00:00:00+05:30",
          "2024-05-31T00:00:00+05:30",
          "2024-06-03T00:00:00+05:30",
          "2024-06-04T00:00:00+05:30",
          "2024-06-05T00:00:00+05:30",
          "2024-06-06T00:00:00+05:30",
          "2024-06-07T00:00:00+05:30",
          "2024-06-10T00:00:00+05:30",
          "2024-06-11T00:00:00+05:30",
          "2024-06-12T00:00:00+05:30",
          "2024-06-13T00:00:00+05:30",
          "2024-06-14T00:00:00+05:30",
          "2024-06-18T00:00:00+05:30",
          "2024-06-19T00:00:00+05:30",
          "2024-06-20T00:00:00+05:30",
          "2024-06-21T00:00:00+05:30",
          "2024-06-24T00:00:00+05:30",
          "2024-06-25T00:00:00+05:30",
          "2024-06-26T00:00:00+05:30",
          "2024-06-27T00:00:00+05:30",
          "2024-06-28T00:00:00+05:30",
          "2024-07-01T00:00:00+05:30",
          "2024-07-02T00:00:00+05:30",
          "2024-07-03T00:00:00+05:30",
          "2024-07-04T00:00:00+05:30",
          "2024-07-05T00:00:00+05:30",
          "2024-07-08T00:00:00+05:30",
          "2024-07-09T00:00:00+05:30",
          "2024-07-10T00:00:00+05:30",
          "2024-07-11T00:00:00+05:30",
          "2024-07-12T00:00:00+05:30",
          "2024-07-15T00:00:00+05:30",
          "2024-07-16T00:00:00+05:30",
          "2024-07-18T00:00:00+05:30",
          "2024-07-19T00:00:00+05:30",
          "2024-07-22T00:00:00+05:30",
          "2024-07-23T00:00:00+05:30",
          "2024-07-24T00:00:00+05:30",
          "2024-07-25T00:00:00+05:30",
          "2024-07-26T00:00:00+05:30",
          "2024-07-29T00:00:00+05:30",
          "2024-07-30T00:00:00+05:30",
          "2024-07-31T00:00:00+05:30",
          "2024-08-01T00:00:00+05:30",
          "2024-08-02T00:00:00+05:30",
          "2024-08-05T00:00:00+05:30",
          "2024-08-06T00:00:00+05:30",
          "2024-08-07T00:00:00+05:30",
          "2024-08-08T00:00:00+05:30",
          "2024-08-09T00:00:00+05:30",
          "2024-08-12T00:00:00+05:30",
          "2024-08-13T00:00:00+05:30",
          "2024-08-14T00:00:00+05:30",
          "2024-08-16T00:00:00+05:30",
          "2024-08-19T00:00:00+05:30",
          "2024-08-20T00:00:00+05:30",
          "2024-08-21T00:00:00+05:30",
          "2024-08-22T00:00:00+05:30",
          "2024-08-23T00:00:00+05:30",
          "2024-08-26T00:00:00+05:30",
          "2024-08-27T00:00:00+05:30",
          "2024-08-28T00:00:00+05:30",
          "2024-08-29T00:00:00+05:30",
          "2024-08-30T00:00:00+05:30",
          "2024-09-02T00:00:00+05:30",
          "2024-09-03T00:00:00+05:30",
          "2024-09-04T00:00:00+05:30",
          "2024-09-05T00:00:00+05:30",
          "2024-09-06T00:00:00+05:30",
          "2024-09-09T00:00:00+05:30",
          "2024-09-10T00:00:00+05:30",
          "2024-09-11T00:00:00+05:30",
          "2024-09-12T00:00:00+05:30",
          "2024-09-13T00:00:00+05:30",
          "2024-09-16T00:00:00+05:30",
          "2024-09-17T00:00:00+05:30",
          "2024-09-18T00:00:00+05:30",
          "2024-09-19T00:00:00+05:30",
          "2024-09-20T00:00:00+05:30",
          "2024-09-23T00:00:00+05:30",
          "2024-09-24T00:00:00+05:30",
          "2024-09-25T00:00:00+05:30",
          "2024-09-26T00:00:00+05:30",
          "2024-09-27T00:00:00+05:30",
          "2024-09-30T00:00:00+05:30",
          "2024-10-01T00:00:00+05:30",
          "2024-10-03T00:00:00+05:30",
          "2024-10-04T00:00:00+05:30",
          "2024-10-07T00:00:00+05:30",
          "2024-10-08T00:00:00+05:30",
          "2024-10-09T00:00:00+05:30",
          "2024-10-10T00:00:00+05:30",
          "2024-10-11T00:00:00+05:30",
          "2024-10-14T00:00:00+05:30",
          "2024-10-15T00:00:00+05:30",
          "2024-10-16T00:00:00+05:30",
          "2024-10-18T00:00:00+05:30"
         ],
         "y": [
          153.88088989257812,
          153.97972106933594,
          155.16571044921875,
          157.14231872558594,
          157.9329833984375,
          162.23216247558594,
          164.5052947998047,
          163.1710662841797,
          163.8134765625,
          164.10997009277344,
          163.31932067871094,
          162.9239959716797,
          173.4989776611328,
          174.83319091796875,
          172.5106658935547,
          174.0919647216797,
          168.85389709472656,
          177.20516967773438,
          179.72537231445312,
          180.02186584472656,
          184.51869201660156,
          182.09732055664062,
          180.36778259277344,
          179.82418823242188,
          180.5654296875,
          179.72537231445312,
          183.38214111328125,
          183.53038024902344,
          183.72804260253906,
          186.64358520507812,
          186.0505828857422,
          188.37313842773438,
          189.36146545410156,
          189.41085815429688,
          188.37313842773438,
          190.7945098876953,
          189.21319580078125,
          188.96612548828125,
          189.905029296875,
          189.8061981201172,
          188.81787109375,
          187.3354034423828,
          187.97781372070312,
          188.27430725097656,
          184.96343994140625,
          181.75140380859375,
          175.2779541015625,
          178.5887908935547,
          175.8709259033203,
          175.82150268554688,
          175.1296844482422,
          178.14405822753906,
          179.28062438964844,
          178.78646850585938,
          177.1063232421875,
          178.48997497558594,
          176.315673828125,
          178.68763732910156,
          178.8852996826172,
          180.86192321777344,
          180.51600646972656,
          180.91134643554688,
          180.91134643554688,
          182.09732055664062,
          182.8385772705078,
          187.28598022460938,
          184.321044921875,
          182.09732055664062,
          181.45492553710938,
          180.0712890625,
          181.05958557128906,
          174.38845825195312,
          178.737060546875,
          180.318359375,
          178.5887908935547,
          178.0946502685547,
          180.17010498046875,
          175.67327880859375,
          176.7604217529297,
          177.64990234375,
          177.7487335205078,
          177.89698791503906,
          179.0829620361328,
          179.28062438964844,
          179.7747802734375,
          178.63821411132812,
          176.51333618164062,
          175.4261932373047,
          171.6211700439453,
          171.2752685546875,
          173.59779357910156,
          171.42349243164062,
          173.3013153076172,
          176.8592529296875,
          177.64990234375,
          178.48997497558594,
          180.26893615722656,
          183.4315643310547,
          182.73973083496094,
          181.3560791015625,
          176.71099853515625,
          174.1907958984375,
          175.4261932373047,
          174.4873046875,
          176.61216735839844,
          175.1296844482422,
          175.6238555908203,
          175.7720947265625,
          175.0802764892578,
          173.40013122558594,
          170.53402709960938,
          171.1269989013672,
          174.9814453125,
          175.8709259033203,
          178.1934814453125,
          178.5887908935547,
          178.93470764160156,
          179.3300323486328,
          182.78915405273438,
          183.13507080078125,
          183.23388671875,
          185.90235900878906,
          184.71636962890625,
          185.90235900878906,
          185.85293579101562,
          185.60585021972656,
          186.19883728027344,
          188.71905517578125,
          190.0038604736328,
          191.83226013183594,
          193.56179809570312,
          190.399169921875,
          190.59686279296875,
          190.6956787109375,
          184.815185546875,
          188.37313842773438,
          187.0883331298828,
          186.0505828857422,
          187.43423461914062,
          187.7801513671875,
          188.22488403320312,
          192.4746551513672,
          203.04962158203125,
          203.3461456298828,
          202.20956420898438,
          199.73878479003906,
          206.9534912109375,
          204.3838653564453,
          205.76751708984375,
          206.70640563964844,
          206.01458740234375,
          204.87803649902344,
          208.73245239257812,
          208.9301300048828,
          209.27603149414062,
          209.078369140625,
          209.47369384765625,
          209.1772003173828,
          207.0523223876953,
          203.29672241210938,
          203.14846801757812,
          203.988525390625,
          207.744140625,
          204.9274444580078,
          212.48805236816406,
          210.61026000976562,
          217.7755584716797,
          227.6092987060547,
          226.91749572753906,
          229.78359985351562,
          229.83302307128906,
          230.0306854248047,
          229.53651428222656,
          233.9345245361328,
          236.99830627441406,
          236.6523895263672,
          243.57061767578125,
          245.3990020751953,
          245.003662109375,
          248.16629028320312,
          249.54994201660156,
          251.47714233398438,
          248.75927734375,
          251.27947998046875,
          245.64608764648438,
          244.756591796875,
          245.79432678222656,
          248.06744384765625,
          248.8581085205078,
          248.56161499023438,
          247.37564086914062,
          249.1546173095703,
          252.761962890625,
          248.2156982421875,
          246.68382263183594,
          262.12646484375,
          258.689208984375,
          255.94940185546875,
          255.7003173828125,
          262.0268249511719,
          260.3330993652344,
          263.222412109375,
          262.2759094238281,
          268.1042785644531,
          263.7205505371094,
          266.2113037109375,
          265.5138854980469,
          266.7592468261719,
          263.5212707519531,
          266.2113037109375,
          267.10797119140625,
          264.21868896484375,
          258.0416259765625,
          260.1338806152344,
          259.43646240234375,
          260.63201904296875,
          265.8127746582031,
          264.76666259765625,
          271.7905578613281,
          271.0433349609375,
          271.9400329589844,
          272.98614501953125,
          272.43817138671875,
          276.4233703613281,
          265.4640808105469,
          266.65960693359375,
          267.75555419921875,
          267.2574157714844,
          264.9659423828125,
          260.881103515625,
          257.0951232910156,
          255.2519989013672,
          257.9419860839844,
          255.84976196289062,
          259.1873779296875,
          257.0951232910156,
          259.6357116699219,
          259.0379333496094,
          255.7003173828125,
          255.7003173828125,
          258.0416259765625,
          254.05642700195312,
          257.44384765625,
          262.0268249511719,
          263.8201599121094,
          261.5286865234375,
          263.4714660644531,
          267.80535888671875,
          266.06182861328125,
          264.4677734375,
          257.0951232910156,
          250.61920166015625,
          249.22438049316406,
          245.28900146484375,
          250.46975708007812,
          253.35902404785156,
          254.4549560546875,
          251.515869140625,
          256.99554443359375,
          255.15237426757812,
          266.7592468261719,
          267.10797119140625,
          265.41424560546875,
          267.70574951171875,
          267.15777587890625,
          270.79425048828125,
          271.29241943359375,
          271.1429748535156,
          280.05987548828125,
          280.90673828125,
          284.543212890625,
          282.0524597167969,
          282.55059814453125,
          280.4583740234375,
          282.251708984375,
          283.9952392578125,
          283.69635009765625,
          290.42138671875,
          292.7626953125,
          291.2184143066406,
          289.8734130859375,
          293.75897216796875,
          288.8273010253906,
          292.2146911621094,
          287.4822692871094,
          285.9380187988281,
          295.0541687011719,
          294.4563903808594,
          304.2201232910156,
          303.9710693359375,
          286.3365478515625,
          292.51361083984375,
          292.2645263671875,
          295.2534484863281,
          299.93603515625,
          306.4617919921875,
          316.67388916015625,
          320.80853271484375,
          320.95794677734375,
          324.793701171875,
          323.49853515625,
          328.1313171386719,
          322.352783203125,
          326.0390930175781,
          326.5870361328125,
          337.5961608886719,
          336.4006042480469,
          324.44500732421875,
          324.5944519042969,
          318.2181396484375,
          317.91925048828125,
          325.9892883300781,
          313.5355529785156,
          314.13330078125,
          309.2514343261719,
          314.13330078125,
          316.82330322265625,
          333.7106018066406,
          332.96337890625,
          342.07952880859375,
          345.8156433105469,
          347.21044921875,
          345.5665588378906,
          343.7732238769531,
          337.1478271484375,
          326.985595703125,
          329.3268737792969,
          335.404296875,
          333.1128234863281,
          335.2548522949219,
          335.5537414550781,
          329.5759582519531,
          325.49114990234375,
          331.1700439453125,
          328.7789306640625,
          326.9357604980469,
          324.9431457519531,
          316.9229431152344,
          319.11480712890625,
          322.9007568359375,
          327.5335388183594,
          324.3453674316406,
          320.6590881347656,
          326.9357604980469,
          321.8546142578125,
          318.2679748535156,
          299.58734130859375,
          304.66845703125,
          304.1702880859375,
          305.913818359375,
          295.3530578613281,
          300.3345642089844,
          304.66845703125,
          306.06329345703125,
          303.4230651855469,
          303.4230651855469,
          303.4230651855469,
          309.40087890625,
          313.1369934082031,
          312.4396057128906,
          318.2679748535156,
          320.6590881347656,
          375.75445556640625,
          382.6787414550781,
          382.529296875,
          396.6767272949219,
          407.5364074707031,
          458.0986022949219,
          447.9861755371094,
          442.6559753417969,
          464.22589111328125,
          459.7425231933594,
          442.905029296875,
          445.7445068359375,
          464.92327880859375,
          453.8643493652344,
          470.6520080566406,
          462.2830810546875,
          467.21478271484375,
          458.7960205078125,
          451.4732360839844,
          458.5469665527344,
          447.1393127441406,
          450.5765686035156,
          454.1134033203125,
          459.5432434082031,
          461.38641357421875,
          471.44903564453125,
          474.5375671386719,
          472.8438720703125,
          465.22216796875,
          463.17974853515625,
          472.9933166503906,
          492.5207824707031,
          508.01324462890625,
          504.9247131347656,
          496.10748291015625,
          486.443359375,
          503.03173828125,
          453.7647399902344,
          489.23297119140625,
          525.8967895507812,
          525.0997924804688,
          523.8543701171875,
          526.89306640625,
          538.6992797851562,
          540.2933349609375,
          540.2435302734375,
          562.4609985351562,
          558.2765502929688,
          570.1325073242188,
          567.5919799804688,
          571.7265625,
          577.5051879882812,
          565.9978637695312,
          564.1547241210938,
          562.4111938476562,
          567.2930908203125,
          562.4111938476562,
          566.794921875,
          564.1049194335938,
          565.8484497070312,
          569.3355102539062,
          576.3095703125,
          565.3502807617188,
          561.3651123046875,
          556.9813842773438,
          560.5680541992188,
          554.5404052734375,
          553.643798828125,
          538.5,
          546.9000244140625,
          546.75,
          539.8499755859375,
          539.9000244140625,
          553.75,
          551.9000244140625,
          531.7000122070312,
          523.2999877929688,
          512.75,
          508.8500061035156,
          485.3500061035156,
          481.6499938964844,
          496.25,
          486.1499938964844,
          493.20001220703125,
          499.1000061035156,
          492.5,
          486.20001220703125,
          495.70001220703125,
          496.95001220703125,
          497.25,
          508,
          512.4000244140625,
          499.3999938964844,
          497.95001220703125,
          498.70001220703125,
          491.70001220703125,
          490.20001220703125,
          492.8999938964844,
          490.5,
          488.8500061035156,
          484.1499938964844,
          495.6499938964844,
          483,
          474.75,
          478.79998779296875,
          472.20001220703125,
          479.8500061035156,
          485.3999938964844,
          489.95001220703125,
          482.29998779296875,
          471.75,
          459.95001220703125,
          466.29998779296875,
          471.1499938964844,
          476.70001220703125,
          473.70001220703125,
          471.75,
          497.29998779296875,
          502.54998779296875,
          511.54998779296875,
          496.3500061035156,
          502.3999938964844,
          480.5,
          493.79998779296875,
          519.3499755859375,
          512.1500244140625,
          530.5,
          530.3499755859375,
          522.1500244140625,
          512.2999877929688,
          494.20001220703125
         ]
        },
        {
         "fill": "toself",
         "fillcolor": "rgba(255,255,0,0.3)",
         "line": {
          "color": "rgba(255,255,0,0)"
         },
         "name": "Trend Area",
         "type": "scatter",
         "x": [
          "2024-10-18T00:00:00+05:30",
          "2024-10-18T00:00:00+05:30",
          "2024-10-11T00:00:00+05:30",
          "2024-10-11T00:00:00+05:30"
         ],
         "y": [
          153.88088989257812,
          577.5051879882812,
          577.5051879882812,
          153.88088989257812
         ]
        },
        {
         "line": {
          "color": "#FF4136",
          "dash": "dot",
          "width": 2
         },
         "mode": "lines",
         "name": "200% (566.8)",
         "type": "scatter",
         "x": [
          "2022-10-18T00:00:00+05:30",
          "2024-10-18T00:00:00+05:30"
         ],
         "y": [
          566.7999877929688,
          566.7999877929688
         ]
        },
        {
         "line": {
          "color": "#FF851B",
          "dash": "dot",
          "width": 2
         },
         "mode": "lines",
         "name": "161.8% (552.93)",
         "type": "scatter",
         "x": [
          "2022-10-18T00:00:00+05:30",
          "2024-10-18T00:00:00+05:30"
         ],
         "y": [
          552.9333924560547,
          552.9333924560547
         ]
        },
        {
         "line": {
          "color": "#FFDC00",
          "dash": "dot",
          "width": 2
         },
         "mode": "lines",
         "name": "150% (548.65)",
         "type": "scatter",
         "x": [
          "2022-10-18T00:00:00+05:30",
          "2024-10-18T00:00:00+05:30"
         ],
         "y": [
          548.6499938964844,
          548.6499938964844
         ]
        },
        {
         "line": {
          "color": "#2ECC40",
          "dash": "dot",
          "width": 2
         },
         "mode": "lines",
         "name": "138.2% (544.37)",
         "type": "scatter",
         "x": [
          "2022-10-18T00:00:00+05:30",
          "2024-10-18T00:00:00+05:30"
         ],
         "y": [
          544.3665953369141,
          544.3665953369141
         ]
        },
        {
         "line": {
          "color": "#0074D9",
          "dash": "dot",
          "width": 2
         },
         "mode": "lines",
         "name": "123.6% (539.07)",
         "type": "scatter",
         "x": [
          "2022-10-18T00:00:00+05:30",
          "2024-10-18T00:00:00+05:30"
         ],
         "y": [
          539.0667971191406,
          539.0667971191406
         ]
        },
        {
         "line": {
          "color": "#B10DC9",
          "dash": "dash",
          "width": 2
         },
         "mode": "lines",
         "name": "23.6% (502.77)",
         "type": "scatter",
         "x": [
          "2022-10-18T00:00:00+05:30",
          "2024-10-18T00:00:00+05:30"
         ],
         "y": [
          502.7668093261719,
          502.7668093261719
         ]
        },
        {
         "line": {
          "color": "#F012BE",
          "dash": "dash",
          "width": 2
         },
         "mode": "lines",
         "name": "38.2% (508.07)",
         "type": "scatter",
         "x": [
          "2022-10-18T00:00:00+05:30",
          "2024-10-18T00:00:00+05:30"
         ],
         "y": [
          508.06660754394534,
          508.06660754394534
         ]
        },
        {
         "line": {
          "color": "#85144b",
          "dash": "dash",
          "width": 2
         },
         "mode": "lines",
         "name": "50% (512.35)",
         "type": "scatter",
         "x": [
          "2022-10-18T00:00:00+05:30",
          "2024-10-18T00:00:00+05:30"
         ],
         "y": [
          512.3500061035156,
          512.3500061035156
         ]
        },
        {
         "line": {
          "color": "#001f3f",
          "dash": "dash",
          "width": 2
         },
         "mode": "lines",
         "name": "61.8% (516.63)",
         "type": "scatter",
         "x": [
          "2022-10-18T00:00:00+05:30",
          "2024-10-18T00:00:00+05:30"
         ],
         "y": [
          516.6334046630859,
          516.6334046630859
         ]
        },
        {
         "line": {
          "color": "#39CCCC",
          "dash": "dash",
          "width": 2
         },
         "mode": "lines",
         "name": "78.6% (522.73)",
         "type": "scatter",
         "x": [
          "2022-10-18T00:00:00+05:30",
          "2024-10-18T00:00:00+05:30"
         ],
         "y": [
          522.7318026123047,
          522.7318026123047
         ]
        }
       ],
       "layout": {
        "annotations": [
         {
          "bgcolor": "white",
          "bordercolor": "#FF4136",
          "borderpad": 4,
          "borderwidth": 2,
          "font": {
           "color": "#FF4136",
           "size": 10
          },
          "opacity": 0.8,
          "showarrow": false,
          "text": "200% (566.8)",
          "x": "2024-10-18T00:00:00+05:30",
          "xanchor": "left",
          "xshift": 10,
          "y": 566.7999877929688
         },
         {
          "bgcolor": "white",
          "bordercolor": "#FF851B",
          "borderpad": 4,
          "borderwidth": 2,
          "font": {
           "color": "#FF851B",
           "size": 10
          },
          "opacity": 0.8,
          "showarrow": false,
          "text": "161.8% (552.93)",
          "x": "2024-10-18T00:00:00+05:30",
          "xanchor": "left",
          "xshift": 10,
          "y": 552.9333924560547
         },
         {
          "bgcolor": "white",
          "bordercolor": "#FFDC00",
          "borderpad": 4,
          "borderwidth": 2,
          "font": {
           "color": "#FFDC00",
           "size": 10
          },
          "opacity": 0.8,
          "showarrow": false,
          "text": "150% (548.65)",
          "x": "2024-10-18T00:00:00+05:30",
          "xanchor": "left",
          "xshift": 10,
          "y": 548.6499938964844
         },
         {
          "bgcolor": "white",
          "bordercolor": "#2ECC40",
          "borderpad": 4,
          "borderwidth": 2,
          "font": {
           "color": "#2ECC40",
           "size": 10
          },
          "opacity": 0.8,
          "showarrow": false,
          "text": "138.2% (544.37)",
          "x": "2024-10-18T00:00:00+05:30",
          "xanchor": "left",
          "xshift": 10,
          "y": 544.3665953369141
         },
         {
          "bgcolor": "white",
          "bordercolor": "#0074D9",
          "borderpad": 4,
          "borderwidth": 2,
          "font": {
           "color": "#0074D9",
           "size": 10
          },
          "opacity": 0.8,
          "showarrow": false,
          "text": "123.6% (539.07)",
          "x": "2024-10-18T00:00:00+05:30",
          "xanchor": "left",
          "xshift": 10,
          "y": 539.0667971191406
         },
         {
          "bgcolor": "white",
          "bordercolor": "#B10DC9",
          "borderpad": 4,
          "borderwidth": 2,
          "font": {
           "color": "#B10DC9",
           "size": 10
          },
          "opacity": 0.8,
          "showarrow": false,
          "text": "23.6% (502.77)",
          "x": "2024-10-18T00:00:00+05:30",
          "xanchor": "left",
          "xshift": 10,
          "y": 502.7668093261719
         },
         {
          "bgcolor": "white",
          "bordercolor": "#F012BE",
          "borderpad": 4,
          "borderwidth": 2,
          "font": {
           "color": "#F012BE",
           "size": 10
          },
          "opacity": 0.8,
          "showarrow": false,
          "text": "38.2% (508.07)",
          "x": "2024-10-18T00:00:00+05:30",
          "xanchor": "left",
          "xshift": 10,
          "y": 508.06660754394534
         },
         {
          "bgcolor": "white",
          "bordercolor": "#85144b",
          "borderpad": 4,
          "borderwidth": 2,
          "font": {
           "color": "#85144b",
           "size": 10
          },
          "opacity": 0.8,
          "showarrow": false,
          "text": "50% (512.35)",
          "x": "2024-10-18T00:00:00+05:30",
          "xanchor": "left",
          "xshift": 10,
          "y": 512.3500061035156
         },
         {
          "bgcolor": "white",
          "bordercolor": "#001f3f",
          "borderpad": 4,
          "borderwidth": 2,
          "font": {
           "color": "#001f3f",
           "size": 10
          },
          "opacity": 0.8,
          "showarrow": false,
          "text": "61.8% (516.63)",
          "x": "2024-10-18T00:00:00+05:30",
          "xanchor": "left",
          "xshift": 10,
          "y": 516.6334046630859
         },
         {
          "bgcolor": "white",
          "bordercolor": "#39CCCC",
          "borderpad": 4,
          "borderwidth": 2,
          "font": {
           "color": "#39CCCC",
           "size": 10
          },
          "opacity": 0.8,
          "showarrow": false,
          "text": "78.6% (522.73)",
          "x": "2024-10-18T00:00:00+05:30",
          "xanchor": "left",
          "xshift": 10,
          "y": 522.7318026123047
         }
        ],
        "hovermode": "x unified",
        "legend": {
         "title": {
          "text": "Levels"
         }
        },
        "showlegend": true,
        "template": {
         "data": {
          "bar": [
           {
            "error_x": {
             "color": "#2a3f5f"
            },
            "error_y": {
             "color": "#2a3f5f"
            },
            "marker": {
             "line": {
              "color": "#E5ECF6",
              "width": 0.5
             },
             "pattern": {
              "fillmode": "overlay",
              "size": 10,
              "solidity": 0.2
             }
            },
            "type": "bar"
           }
          ],
          "barpolar": [
           {
            "marker": {
             "line": {
              "color": "#E5ECF6",
              "width": 0.5
             },
             "pattern": {
              "fillmode": "overlay",
              "size": 10,
              "solidity": 0.2
             }
            },
            "type": "barpolar"
           }
          ],
          "carpet": [
           {
            "aaxis": {
             "endlinecolor": "#2a3f5f",
             "gridcolor": "white",
             "linecolor": "white",
             "minorgridcolor": "white",
             "startlinecolor": "#2a3f5f"
            },
            "baxis": {
             "endlinecolor": "#2a3f5f",
             "gridcolor": "white",
             "linecolor": "white",
             "minorgridcolor": "white",
             "startlinecolor": "#2a3f5f"
            },
            "type": "carpet"
           }
          ],
          "choropleth": [
           {
            "colorbar": {
             "outlinewidth": 0,
             "ticks": ""
            },
            "type": "choropleth"
           }
          ],
          "contour": [
           {
            "colorbar": {
             "outlinewidth": 0,
             "ticks": ""
            },
            "colorscale": [
             [
              0,
              "#0d0887"
             ],
             [
              0.1111111111111111,
              "#46039f"
             ],
             [
              0.2222222222222222,
              "#7201a8"
             ],
             [
              0.3333333333333333,
              "#9c179e"
             ],
             [
              0.4444444444444444,
              "#bd3786"
             ],
             [
              0.5555555555555556,
              "#d8576b"
             ],
             [
              0.6666666666666666,
              "#ed7953"
             ],
             [
              0.7777777777777778,
              "#fb9f3a"
             ],
             [
              0.8888888888888888,
              "#fdca26"
             ],
             [
              1,
              "#f0f921"
             ]
            ],
            "type": "contour"
           }
          ],
          "contourcarpet": [
           {
            "colorbar": {
             "outlinewidth": 0,
             "ticks": ""
            },
            "type": "contourcarpet"
           }
          ],
          "heatmap": [
           {
            "colorbar": {
             "outlinewidth": 0,
             "ticks": ""
            },
            "colorscale": [
             [
              0,
              "#0d0887"
             ],
             [
              0.1111111111111111,
              "#46039f"
             ],
             [
              0.2222222222222222,
              "#7201a8"
             ],
             [
              0.3333333333333333,
              "#9c179e"
             ],
             [
              0.4444444444444444,
              "#bd3786"
             ],
             [
              0.5555555555555556,
              "#d8576b"
             ],
             [
              0.6666666666666666,
              "#ed7953"
             ],
             [
              0.7777777777777778,
              "#fb9f3a"
             ],
             [
              0.8888888888888888,
              "#fdca26"
             ],
             [
              1,
              "#f0f921"
             ]
            ],
            "type": "heatmap"
           }
          ],
          "heatmapgl": [
           {
            "colorbar": {
             "outlinewidth": 0,
             "ticks": ""
            },
            "colorscale": [
             [
              0,
              "#0d0887"
             ],
             [
              0.1111111111111111,
              "#46039f"
             ],
             [
              0.2222222222222222,
              "#7201a8"
             ],
             [
              0.3333333333333333,
              "#9c179e"
             ],
             [
              0.4444444444444444,
              "#bd3786"
             ],
             [
              0.5555555555555556,
              "#d8576b"
             ],
             [
              0.6666666666666666,
              "#ed7953"
             ],
             [
              0.7777777777777778,
              "#fb9f3a"
             ],
             [
              0.8888888888888888,
              "#fdca26"
             ],
             [
              1,
              "#f0f921"
             ]
            ],
            "type": "heatmapgl"
           }
          ],
          "histogram": [
           {
            "marker": {
             "pattern": {
              "fillmode": "overlay",
              "size": 10,
              "solidity": 0.2
             }
            },
            "type": "histogram"
           }
          ],
          "histogram2d": [
           {
            "colorbar": {
             "outlinewidth": 0,
             "ticks": ""
            },
            "colorscale": [
             [
              0,
              "#0d0887"
             ],
             [
              0.1111111111111111,
              "#46039f"
             ],
             [
              0.2222222222222222,
              "#7201a8"
             ],
             [
              0.3333333333333333,
              "#9c179e"
             ],
             [
              0.4444444444444444,
              "#bd3786"
             ],
             [
              0.5555555555555556,
              "#d8576b"
             ],
             [
              0.6666666666666666,
              "#ed7953"
             ],
             [
              0.7777777777777778,
              "#fb9f3a"
             ],
             [
              0.8888888888888888,
              "#fdca26"
             ],
             [
              1,
              "#f0f921"
             ]
            ],
            "type": "histogram2d"
           }
          ],
          "histogram2dcontour": [
           {
            "colorbar": {
             "outlinewidth": 0,
             "ticks": ""
            },
            "colorscale": [
             [
              0,
              "#0d0887"
             ],
             [
              0.1111111111111111,
              "#46039f"
             ],
             [
              0.2222222222222222,
              "#7201a8"
             ],
             [
              0.3333333333333333,
              "#9c179e"
             ],
             [
              0.4444444444444444,
              "#bd3786"
             ],
             [
              0.5555555555555556,
              "#d8576b"
             ],
             [
              0.6666666666666666,
              "#ed7953"
             ],
             [
              0.7777777777777778,
              "#fb9f3a"
             ],
             [
              0.8888888888888888,
              "#fdca26"
             ],
             [
              1,
              "#f0f921"
             ]
            ],
            "type": "histogram2dcontour"
           }
          ],
          "mesh3d": [
           {
            "colorbar": {
             "outlinewidth": 0,
             "ticks": ""
            },
            "type": "mesh3d"
           }
          ],
          "parcoords": [
           {
            "line": {
             "colorbar": {
              "outlinewidth": 0,
              "ticks": ""
             }
            },
            "type": "parcoords"
           }
          ],
          "pie": [
           {
            "automargin": true,
            "type": "pie"
           }
          ],
          "scatter": [
           {
            "fillpattern": {
             "fillmode": "overlay",
             "size": 10,
             "solidity": 0.2
            },
            "type": "scatter"
           }
          ],
          "scatter3d": [
           {
            "line": {
             "colorbar": {
              "outlinewidth": 0,
              "ticks": ""
             }
            },
            "marker": {
             "colorbar": {
              "outlinewidth": 0,
              "ticks": ""
             }
            },
            "type": "scatter3d"
           }
          ],
          "scattercarpet": [
           {
            "marker": {
             "colorbar": {
              "outlinewidth": 0,
              "ticks": ""
             }
            },
            "type": "scattercarpet"
           }
          ],
          "scattergeo": [
           {
            "marker": {
             "colorbar": {
              "outlinewidth": 0,
              "ticks": ""
             }
            },
            "type": "scattergeo"
           }
          ],
          "scattergl": [
           {
            "marker": {
             "colorbar": {
              "outlinewidth": 0,
              "ticks": ""
             }
            },
            "type": "scattergl"
           }
          ],
          "scattermapbox": [
           {
            "marker": {
             "colorbar": {
              "outlinewidth": 0,
              "ticks": ""
             }
            },
            "type": "scattermapbox"
           }
          ],
          "scatterpolar": [
           {
            "marker": {
             "colorbar": {
              "outlinewidth": 0,
              "ticks": ""
             }
            },
            "type": "scatterpolar"
           }
          ],
          "scatterpolargl": [
           {
            "marker": {
             "colorbar": {
              "outlinewidth": 0,
              "ticks": ""
             }
            },
            "type": "scatterpolargl"
           }
          ],
          "scatterternary": [
           {
            "marker": {
             "colorbar": {
              "outlinewidth": 0,
              "ticks": ""
             }
            },
            "type": "scatterternary"
           }
          ],
          "surface": [
           {
            "colorbar": {
             "outlinewidth": 0,
             "ticks": ""
            },
            "colorscale": [
             [
              0,
              "#0d0887"
             ],
             [
              0.1111111111111111,
              "#46039f"
             ],
             [
              0.2222222222222222,
              "#7201a8"
             ],
             [
              0.3333333333333333,
              "#9c179e"
             ],
             [
              0.4444444444444444,
              "#bd3786"
             ],
             [
              0.5555555555555556,
              "#d8576b"
             ],
             [
              0.6666666666666666,
              "#ed7953"
             ],
             [
              0.7777777777777778,
              "#fb9f3a"
             ],
             [
              0.8888888888888888,
              "#fdca26"
             ],
             [
              1,
              "#f0f921"
             ]
            ],
            "type": "surface"
           }
          ],
          "table": [
           {
            "cells": {
             "fill": {
              "color": "#EBF0F8"
             },
             "line": {
              "color": "white"
             }
            },
            "header": {
             "fill": {
              "color": "#C8D4E3"
             },
             "line": {
              "color": "white"
             }
            },
            "type": "table"
           }
          ]
         },
         "layout": {
          "annotationdefaults": {
           "arrowcolor": "#2a3f5f",
           "arrowhead": 0,
           "arrowwidth": 1
          },
          "autotypenumbers": "strict",
          "coloraxis": {
           "colorbar": {
            "outlinewidth": 0,
            "ticks": ""
           }
          },
          "colorscale": {
           "diverging": [
            [
             0,
             "#8e0152"
            ],
            [
             0.1,
             "#c51b7d"
            ],
            [
             0.2,
             "#de77ae"
            ],
            [
             0.3,
             "#f1b6da"
            ],
            [
             0.4,
             "#fde0ef"
            ],
            [
             0.5,
             "#f7f7f7"
            ],
            [
             0.6,
             "#e6f5d0"
            ],
            [
             0.7,
             "#b8e186"
            ],
            [
             0.8,
             "#7fbc41"
            ],
            [
             0.9,
             "#4d9221"
            ],
            [
             1,
             "#276419"
            ]
           ],
           "sequential": [
            [
             0,
             "#0d0887"
            ],
            [
             0.1111111111111111,
             "#46039f"
            ],
            [
             0.2222222222222222,
             "#7201a8"
            ],
            [
             0.3333333333333333,
             "#9c179e"
            ],
            [
             0.4444444444444444,
             "#bd3786"
            ],
            [
             0.5555555555555556,
             "#d8576b"
            ],
            [
             0.6666666666666666,
             "#ed7953"
            ],
            [
             0.7777777777777778,
             "#fb9f3a"
            ],
            [
             0.8888888888888888,
             "#fdca26"
            ],
            [
             1,
             "#f0f921"
            ]
           ],
           "sequentialminus": [
            [
             0,
             "#0d0887"
            ],
            [
             0.1111111111111111,
             "#46039f"
            ],
            [
             0.2222222222222222,
             "#7201a8"
            ],
            [
             0.3333333333333333,
             "#9c179e"
            ],
            [
             0.4444444444444444,
             "#bd3786"
            ],
            [
             0.5555555555555556,
             "#d8576b"
            ],
            [
             0.6666666666666666,
             "#ed7953"
            ],
            [
             0.7777777777777778,
             "#fb9f3a"
            ],
            [
             0.8888888888888888,
             "#fdca26"
            ],
            [
             1,
             "#f0f921"
            ]
           ]
          },
          "colorway": [
           "#636efa",
           "#EF553B",
           "#00cc96",
           "#ab63fa",
           "#FFA15A",
           "#19d3f3",
           "#FF6692",
           "#B6E880",
           "#FF97FF",
           "#FECB52"
          ],
          "font": {
           "color": "#2a3f5f"
          },
          "geo": {
           "bgcolor": "white",
           "lakecolor": "white",
           "landcolor": "#E5ECF6",
           "showlakes": true,
           "showland": true,
           "subunitcolor": "white"
          },
          "hoverlabel": {
           "align": "left"
          },
          "hovermode": "closest",
          "mapbox": {
           "style": "light"
          },
          "paper_bgcolor": "white",
          "plot_bgcolor": "#E5ECF6",
          "polar": {
           "angularaxis": {
            "gridcolor": "white",
            "linecolor": "white",
            "ticks": ""
           },
           "bgcolor": "#E5ECF6",
           "radialaxis": {
            "gridcolor": "white",
            "linecolor": "white",
            "ticks": ""
           }
          },
          "scene": {
           "xaxis": {
            "backgroundcolor": "#E5ECF6",
            "gridcolor": "white",
            "gridwidth": 2,
            "linecolor": "white",
            "showbackground": true,
            "ticks": "",
            "zerolinecolor": "white"
           },
           "yaxis": {
            "backgroundcolor": "#E5ECF6",
            "gridcolor": "white",
            "gridwidth": 2,
            "linecolor": "white",
            "showbackground": true,
            "ticks": "",
            "zerolinecolor": "white"
           },
           "zaxis": {
            "backgroundcolor": "#E5ECF6",
            "gridcolor": "white",
            "gridwidth": 2,
            "linecolor": "white",
            "showbackground": true,
            "ticks": "",
            "zerolinecolor": "white"
           }
          },
          "shapedefaults": {
           "line": {
            "color": "#2a3f5f"
           }
          },
          "ternary": {
           "aaxis": {
            "gridcolor": "white",
            "linecolor": "white",
            "ticks": ""
           },
           "baxis": {
            "gridcolor": "white",
            "linecolor": "white",
            "ticks": ""
           },
           "bgcolor": "#E5ECF6",
           "caxis": {
            "gridcolor": "white",
            "linecolor": "white",
            "ticks": ""
           }
          },
          "title": {
           "x": 0.05
          },
          "xaxis": {
           "automargin": true,
           "gridcolor": "white",
           "linecolor": "white",
           "ticks": "",
           "title": {
            "standoff": 15
           },
           "zerolinecolor": "white",
           "zerolinewidth": 2
          },
          "yaxis": {
           "automargin": true,
           "gridcolor": "white",
           "linecolor": "white",
           "ticks": "",
           "title": {
            "standoff": 15
           },
           "zerolinecolor": "white",
           "zerolinewidth": 2
          }
         }
        },
        "title": {
         "text": "Fibonacci Retracement and Extension Levels"
        },
        "xaxis": {
         "anchor": "y",
         "domain": [
          0,
          0.94
         ],
         "range": [
          "2024-01-24T00:00:00+05:30",
          "2024-11-07T00:00:00+05:30"
         ],
         "tickangle": 45,
         "tickformat": "%d %b %y",
         "tickmode": "array",
         "ticktext": [
          "01 Feb 24",
          "01 Mar 24",
          "01 Apr 24",
          "01 May 24",
          "01 Jun 24",
          "01 Jul 24",
          "01 Aug 24",
          "01 Sep 24",
          "01 Oct 24"
         ],
         "tickvals": [
          "2024-02-01T00:00:00+05:30",
          "2024-03-01T00:00:00+05:30",
          "2024-04-01T00:00:00+05:30",
          "2024-05-01T00:00:00+05:30",
          "2024-06-01T00:00:00+05:30",
          "2024-07-01T00:00:00+05:30",
          "2024-08-01T00:00:00+05:30",
          "2024-09-01T00:00:00+05:30",
          "2024-10-01T00:00:00+05:30"
         ],
         "title": {
          "text": "Date"
         }
        },
        "yaxis": {
         "anchor": "x",
         "domain": [
          0,
          1
         ],
         "tickformat": ".2f",
         "title": {
          "text": "Price"
         }
        },
        "yaxis2": {
         "anchor": "x",
         "overlaying": "y",
         "side": "right",
         "tickformat": ".2f"
        }
       }
      },
      "text/html": [
       "<div>                            <div id=\"974b9885-597e-424f-932c-dcb20443f893\" class=\"plotly-graph-div\" style=\"height:525px; width:100%;\"></div>            <script type=\"text/javascript\">                require([\"plotly\"], function(Plotly) {                    window.PLOTLYENV=window.PLOTLYENV || {};                                    if (document.getElementById(\"974b9885-597e-424f-932c-dcb20443f893\")) {                    Plotly.newPlot(                        \"974b9885-597e-424f-932c-dcb20443f893\",                        [{\"hovertemplate\":\"\\u003cb\\u003eDate:\\u003c\\u002fb\\u003e %{x|%d %b %y}\\u003cbr\\u003e\\u003cb\\u003eClose:\\u003c\\u002fb\\u003e %{y:.2f}\\u003cextra\\u003e\\u003c\\u002fextra\\u003e\",\"line\":{\"color\":\"#1e90ff\",\"width\":3},\"name\":\"Close Price\",\"x\":[\"2022-10-18T00:00:00+05:30\",\"2022-10-19T00:00:00+05:30\",\"2022-10-20T00:00:00+05:30\",\"2022-10-21T00:00:00+05:30\",\"2022-10-24T00:00:00+05:30\",\"2022-10-25T00:00:00+05:30\",\"2022-10-27T00:00:00+05:30\",\"2022-10-28T00:00:00+05:30\",\"2022-10-31T00:00:00+05:30\",\"2022-11-01T00:00:00+05:30\",\"2022-11-02T00:00:00+05:30\",\"2022-11-03T00:00:00+05:30\",\"2022-11-04T00:00:00+05:30\",\"2022-11-07T00:00:00+05:30\",\"2022-11-09T00:00:00+05:30\",\"2022-11-10T00:00:00+05:30\",\"2022-11-11T00:00:00+05:30\",\"2022-11-14T00:00:00+05:30\",\"2022-11-15T00:00:00+05:30\",\"2022-11-16T00:00:00+05:30\",\"2022-11-17T00:00:00+05:30\",\"2022-11-18T00:00:00+05:30\",\"2022-11-21T00:00:00+05:30\",\"2022-11-22T00:00:00+05:30\",\"2022-11-23T00:00:00+05:30\",\"2022-11-24T00:00:00+05:30\",\"2022-11-25T00:00:00+05:30\",\"2022-11-28T00:00:00+05:30\",\"2022-11-29T00:00:00+05:30\",\"2022-11-30T00:00:00+05:30\",\"2022-12-01T00:00:00+05:30\",\"2022-12-02T00:00:00+05:30\",\"2022-12-05T00:00:00+05:30\",\"2022-12-06T00:00:00+05:30\",\"2022-12-07T00:00:00+05:30\",\"2022-12-08T00:00:00+05:30\",\"2022-12-09T00:00:00+05:30\",\"2022-12-12T00:00:00+05:30\",\"2022-12-13T00:00:00+05:30\",\"2022-12-14T00:00:00+05:30\",\"2022-12-15T00:00:00+05:30\",\"2022-12-16T00:00:00+05:30\",\"2022-12-19T00:00:00+05:30\",\"2022-12-20T00:00:00+05:30\",\"2022-12-21T00:00:00+05:30\",\"2022-12-22T00:00:00+05:30\",\"2022-12-23T00:00:00+05:30\",\"2022-12-26T00:00:00+05:30\",\"2022-12-27T00:00:00+05:30\",\"2022-12-28T00:00:00+05:30\",\"2022-12-29T00:00:00+05:30\",\"2022-12-30T00:00:00+05:30\",\"2023-01-02T00:00:00+05:30\",\"2023-01-03T00:00:00+05:30\",\"2023-01-04T00:00:00+05:30\",\"2023-01-05T00:00:00+05:30\",\"2023-01-06T00:00:00+05:30\",\"2023-01-09T00:00:00+05:30\",\"2023-01-10T00:00:00+05:30\",\"2023-01-11T00:00:00+05:30\",\"2023-01-12T00:00:00+05:30\",\"2023-01-13T00:00:00+05:30\",\"2023-01-16T00:00:00+05:30\",\"2023-01-17T00:00:00+05:30\",\"2023-01-18T00:00:00+05:30\",\"2023-01-19T00:00:00+05:30\",\"2023-01-20T00:00:00+05:30\",\"2023-01-23T00:00:00+05:30\",\"2023-01-24T00:00:00+05:30\",\"2023-01-25T00:00:00+05:30\",\"2023-01-27T00:00:00+05:30\",\"2023-01-30T00:00:00+05:30\",\"2023-01-31T00:00:00+05:30\",\"2023-02-01T00:00:00+05:30\",\"2023-02-02T00:00:00+05:30\",\"2023-02-03T00:00:00+05:30\",\"2023-02-06T00:00:00+05:30\",\"2023-02-07T00:00:00+05:30\",\"2023-02-08T00:00:00+05:30\",\"2023-02-09T00:00:00+05:30\",\"2023-02-10T00:00:00+05:30\",\"2023-02-13T00:00:00+05:30\",\"2023-02-14T00:00:00+05:30\",\"2023-02-15T00:00:00+05:30\",\"2023-02-16T00:00:00+05:30\",\"2023-02-17T00:00:00+05:30\",\"2023-02-20T00:00:00+05:30\",\"2023-02-21T00:00:00+05:30\",\"2023-02-22T00:00:00+05:30\",\"2023-02-23T00:00:00+05:30\",\"2023-02-24T00:00:00+05:30\",\"2023-02-27T00:00:00+05:30\",\"2023-02-28T00:00:00+05:30\",\"2023-03-01T00:00:00+05:30\",\"2023-03-02T00:00:00+05:30\",\"2023-03-03T00:00:00+05:30\",\"2023-03-06T00:00:00+05:30\",\"2023-03-08T00:00:00+05:30\",\"2023-03-09T00:00:00+05:30\",\"2023-03-10T00:00:00+05:30\",\"2023-03-13T00:00:00+05:30\",\"2023-03-14T00:00:00+05:30\",\"2023-03-15T00:00:00+05:30\",\"2023-03-16T00:00:00+05:30\",\"2023-03-17T00:00:00+05:30\",\"2023-03-20T00:00:00+05:30\",\"2023-03-21T00:00:00+05:30\",\"2023-03-22T00:00:00+05:30\",\"2023-03-23T00:00:00+05:30\",\"2023-03-24T00:00:00+05:30\",\"2023-03-27T00:00:00+05:30\",\"2023-03-28T00:00:00+05:30\",\"2023-03-29T00:00:00+05:30\",\"2023-03-31T00:00:00+05:30\",\"2023-04-03T00:00:00+05:30\",\"2023-04-05T00:00:00+05:30\",\"2023-04-06T00:00:00+05:30\",\"2023-04-10T00:00:00+05:30\",\"2023-04-11T00:00:00+05:30\",\"2023-04-12T00:00:00+05:30\",\"2023-04-13T00:00:00+05:30\",\"2023-04-17T00:00:00+05:30\",\"2023-04-18T00:00:00+05:30\",\"2023-04-19T00:00:00+05:30\",\"2023-04-20T00:00:00+05:30\",\"2023-04-21T00:00:00+05:30\",\"2023-04-24T00:00:00+05:30\",\"2023-04-25T00:00:00+05:30\",\"2023-04-26T00:00:00+05:30\",\"2023-04-27T00:00:00+05:30\",\"2023-04-28T00:00:00+05:30\",\"2023-05-02T00:00:00+05:30\",\"2023-05-03T00:00:00+05:30\",\"2023-05-04T00:00:00+05:30\",\"2023-05-05T00:00:00+05:30\",\"2023-05-08T00:00:00+05:30\",\"2023-05-09T00:00:00+05:30\",\"2023-05-10T00:00:00+05:30\",\"2023-05-11T00:00:00+05:30\",\"2023-05-12T00:00:00+05:30\",\"2023-05-15T00:00:00+05:30\",\"2023-05-16T00:00:00+05:30\",\"2023-05-17T00:00:00+05:30\",\"2023-05-18T00:00:00+05:30\",\"2023-05-19T00:00:00+05:30\",\"2023-05-22T00:00:00+05:30\",\"2023-05-23T00:00:00+05:30\",\"2023-05-24T00:00:00+05:30\",\"2023-05-25T00:00:00+05:30\",\"2023-05-26T00:00:00+05:30\",\"2023-05-29T00:00:00+05:30\",\"2023-05-30T00:00:00+05:30\",\"2023-05-31T00:00:00+05:30\",\"2023-06-01T00:00:00+05:30\",\"2023-06-02T00:00:00+05:30\",\"2023-06-05T00:00:00+05:30\",\"2023-06-06T00:00:00+05:30\",\"2023-06-07T00:00:00+05:30\",\"2023-06-08T00:00:00+05:30\",\"2023-06-09T00:00:00+05:30\",\"2023-06-12T00:00:00+05:30\",\"2023-06-13T00:00:00+05:30\",\"2023-06-14T00:00:00+05:30\",\"2023-06-15T00:00:00+05:30\",\"2023-06-16T00:00:00+05:30\",\"2023-06-19T00:00:00+05:30\",\"2023-06-20T00:00:00+05:30\",\"2023-06-21T00:00:00+05:30\",\"2023-06-22T00:00:00+05:30\",\"2023-06-23T00:00:00+05:30\",\"2023-06-26T00:00:00+05:30\",\"2023-06-27T00:00:00+05:30\",\"2023-06-28T00:00:00+05:30\",\"2023-06-30T00:00:00+05:30\",\"2023-07-03T00:00:00+05:30\",\"2023-07-04T00:00:00+05:30\",\"2023-07-05T00:00:00+05:30\",\"2023-07-06T00:00:00+05:30\",\"2023-07-07T00:00:00+05:30\",\"2023-07-10T00:00:00+05:30\",\"2023-07-11T00:00:00+05:30\",\"2023-07-12T00:00:00+05:30\",\"2023-07-13T00:00:00+05:30\",\"2023-07-14T00:00:00+05:30\",\"2023-07-17T00:00:00+05:30\",\"2023-07-18T00:00:00+05:30\",\"2023-07-19T00:00:00+05:30\",\"2023-07-20T00:00:00+05:30\",\"2023-07-21T00:00:00+05:30\",\"2023-07-24T00:00:00+05:30\",\"2023-07-25T00:00:00+05:30\",\"2023-07-26T00:00:00+05:30\",\"2023-07-27T00:00:00+05:30\",\"2023-07-28T00:00:00+05:30\",\"2023-07-31T00:00:00+05:30\",\"2023-08-01T00:00:00+05:30\",\"2023-08-02T00:00:00+05:30\",\"2023-08-03T00:00:00+05:30\",\"2023-08-04T00:00:00+05:30\",\"2023-08-07T00:00:00+05:30\",\"2023-08-08T00:00:00+05:30\",\"2023-08-09T00:00:00+05:30\",\"2023-08-10T00:00:00+05:30\",\"2023-08-11T00:00:00+05:30\",\"2023-08-14T00:00:00+05:30\",\"2023-08-16T00:00:00+05:30\",\"2023-08-17T00:00:00+05:30\",\"2023-08-18T00:00:00+05:30\",\"2023-08-21T00:00:00+05:30\",\"2023-08-22T00:00:00+05:30\",\"2023-08-23T00:00:00+05:30\",\"2023-08-24T00:00:00+05:30\",\"2023-08-25T00:00:00+05:30\",\"2023-08-28T00:00:00+05:30\",\"2023-08-29T00:00:00+05:30\",\"2023-08-30T00:00:00+05:30\",\"2023-08-31T00:00:00+05:30\",\"2023-09-01T00:00:00+05:30\",\"2023-09-04T00:00:00+05:30\",\"2023-09-05T00:00:00+05:30\",\"2023-09-06T00:00:00+05:30\",\"2023-09-07T00:00:00+05:30\",\"2023-09-08T00:00:00+05:30\",\"2023-09-11T00:00:00+05:30\",\"2023-09-12T00:00:00+05:30\",\"2023-09-13T00:00:00+05:30\",\"2023-09-14T00:00:00+05:30\",\"2023-09-15T00:00:00+05:30\",\"2023-09-18T00:00:00+05:30\",\"2023-09-20T00:00:00+05:30\",\"2023-09-21T00:00:00+05:30\",\"2023-09-22T00:00:00+05:30\",\"2023-09-25T00:00:00+05:30\",\"2023-09-26T00:00:00+05:30\",\"2023-09-27T00:00:00+05:30\",\"2023-09-28T00:00:00+05:30\",\"2023-09-29T00:00:00+05:30\",\"2023-10-03T00:00:00+05:30\",\"2023-10-04T00:00:00+05:30\",\"2023-10-05T00:00:00+05:30\",\"2023-10-06T00:00:00+05:30\",\"2023-10-09T00:00:00+05:30\",\"2023-10-10T00:00:00+05:30\",\"2023-10-11T00:00:00+05:30\",\"2023-10-12T00:00:00+05:30\",\"2023-10-13T00:00:00+05:30\",\"2023-10-16T00:00:00+05:30\",\"2023-10-17T00:00:00+05:30\",\"2023-10-18T00:00:00+05:30\",\"2023-10-19T00:00:00+05:30\",\"2023-10-20T00:00:00+05:30\",\"2023-10-23T00:00:00+05:30\",\"2023-10-25T00:00:00+05:30\",\"2023-10-26T00:00:00+05:30\",\"2023-10-27T00:00:00+05:30\",\"2023-10-30T00:00:00+05:30\",\"2023-10-31T00:00:00+05:30\",\"2023-11-01T00:00:00+05:30\",\"2023-11-02T00:00:00+05:30\",\"2023-11-03T00:00:00+05:30\",\"2023-11-06T00:00:00+05:30\",\"2023-11-07T00:00:00+05:30\",\"2023-11-08T00:00:00+05:30\",\"2023-11-09T00:00:00+05:30\",\"2023-11-10T00:00:00+05:30\",\"2023-11-13T00:00:00+05:30\",\"2023-11-15T00:00:00+05:30\",\"2023-11-16T00:00:00+05:30\",\"2023-11-17T00:00:00+05:30\",\"2023-11-20T00:00:00+05:30\",\"2023-11-21T00:00:00+05:30\",\"2023-11-22T00:00:00+05:30\",\"2023-11-23T00:00:00+05:30\",\"2023-11-24T00:00:00+05:30\",\"2023-11-28T00:00:00+05:30\",\"2023-11-29T00:00:00+05:30\",\"2023-11-30T00:00:00+05:30\",\"2023-12-01T00:00:00+05:30\",\"2023-12-04T00:00:00+05:30\",\"2023-12-05T00:00:00+05:30\",\"2023-12-06T00:00:00+05:30\",\"2023-12-07T00:00:00+05:30\",\"2023-12-08T00:00:00+05:30\",\"2023-12-11T00:00:00+05:30\",\"2023-12-12T00:00:00+05:30\",\"2023-12-13T00:00:00+05:30\",\"2023-12-14T00:00:00+05:30\",\"2023-12-15T00:00:00+05:30\",\"2023-12-18T00:00:00+05:30\",\"2023-12-19T00:00:00+05:30\",\"2023-12-20T00:00:00+05:30\",\"2023-12-21T00:00:00+05:30\",\"2023-12-22T00:00:00+05:30\",\"2023-12-26T00:00:00+05:30\",\"2023-12-27T00:00:00+05:30\",\"2023-12-28T00:00:00+05:30\",\"2023-12-29T00:00:00+05:30\",\"2024-01-01T00:00:00+05:30\",\"2024-01-02T00:00:00+05:30\",\"2024-01-03T00:00:00+05:30\",\"2024-01-04T00:00:00+05:30\",\"2024-01-05T00:00:00+05:30\",\"2024-01-08T00:00:00+05:30\",\"2024-01-09T00:00:00+05:30\",\"2024-01-10T00:00:00+05:30\",\"2024-01-11T00:00:00+05:30\",\"2024-01-12T00:00:00+05:30\",\"2024-01-15T00:00:00+05:30\",\"2024-01-16T00:00:00+05:30\",\"2024-01-17T00:00:00+05:30\",\"2024-01-18T00:00:00+05:30\",\"2024-01-19T00:00:00+05:30\",\"2024-01-23T00:00:00+05:30\",\"2024-01-24T00:00:00+05:30\",\"2024-01-25T00:00:00+05:30\",\"2024-01-29T00:00:00+05:30\",\"2024-01-30T00:00:00+05:30\",\"2024-01-31T00:00:00+05:30\",\"2024-02-01T00:00:00+05:30\",\"2024-02-02T00:00:00+05:30\",\"2024-02-05T00:00:00+05:30\",\"2024-02-06T00:00:00+05:30\",\"2024-02-07T00:00:00+05:30\",\"2024-02-08T00:00:00+05:30\",\"2024-02-09T00:00:00+05:30\",\"2024-02-12T00:00:00+05:30\",\"2024-02-13T00:00:00+05:30\",\"2024-02-14T00:00:00+05:30\",\"2024-02-15T00:00:00+05:30\",\"2024-02-16T00:00:00+05:30\",\"2024-02-19T00:00:00+05:30\",\"2024-02-20T00:00:00+05:30\",\"2024-02-21T00:00:00+05:30\",\"2024-02-22T00:00:00+05:30\",\"2024-02-23T00:00:00+05:30\",\"2024-02-26T00:00:00+05:30\",\"2024-02-27T00:00:00+05:30\",\"2024-02-28T00:00:00+05:30\",\"2024-02-29T00:00:00+05:30\",\"2024-03-01T00:00:00+05:30\",\"2024-03-04T00:00:00+05:30\",\"2024-03-05T00:00:00+05:30\",\"2024-03-06T00:00:00+05:30\",\"2024-03-07T00:00:00+05:30\",\"2024-03-11T00:00:00+05:30\",\"2024-03-12T00:00:00+05:30\",\"2024-03-13T00:00:00+05:30\",\"2024-03-14T00:00:00+05:30\",\"2024-03-15T00:00:00+05:30\",\"2024-03-18T00:00:00+05:30\",\"2024-03-19T00:00:00+05:30\",\"2024-03-20T00:00:00+05:30\",\"2024-03-21T00:00:00+05:30\",\"2024-03-22T00:00:00+05:30\",\"2024-03-26T00:00:00+05:30\",\"2024-03-27T00:00:00+05:30\",\"2024-03-28T00:00:00+05:30\",\"2024-04-01T00:00:00+05:30\",\"2024-04-02T00:00:00+05:30\",\"2024-04-03T00:00:00+05:30\",\"2024-04-04T00:00:00+05:30\",\"2024-04-05T00:00:00+05:30\",\"2024-04-08T00:00:00+05:30\",\"2024-04-09T00:00:00+05:30\",\"2024-04-10T00:00:00+05:30\",\"2024-04-12T00:00:00+05:30\",\"2024-04-15T00:00:00+05:30\",\"2024-04-16T00:00:00+05:30\",\"2024-04-18T00:00:00+05:30\",\"2024-04-19T00:00:00+05:30\",\"2024-04-22T00:00:00+05:30\",\"2024-04-23T00:00:00+05:30\",\"2024-04-24T00:00:00+05:30\",\"2024-04-25T00:00:00+05:30\",\"2024-04-26T00:00:00+05:30\",\"2024-04-29T00:00:00+05:30\",\"2024-04-30T00:00:00+05:30\",\"2024-05-02T00:00:00+05:30\",\"2024-05-03T00:00:00+05:30\",\"2024-05-06T00:00:00+05:30\",\"2024-05-07T00:00:00+05:30\",\"2024-05-08T00:00:00+05:30\",\"2024-05-09T00:00:00+05:30\",\"2024-05-10T00:00:00+05:30\",\"2024-05-13T00:00:00+05:30\",\"2024-05-14T00:00:00+05:30\",\"2024-05-15T00:00:00+05:30\",\"2024-05-16T00:00:00+05:30\",\"2024-05-17T00:00:00+05:30\",\"2024-05-21T00:00:00+05:30\",\"2024-05-22T00:00:00+05:30\",\"2024-05-23T00:00:00+05:30\",\"2024-05-24T00:00:00+05:30\",\"2024-05-27T00:00:00+05:30\",\"2024-05-28T00:00:00+05:30\",\"2024-05-29T00:00:00+05:30\",\"2024-05-30T00:00:00+05:30\",\"2024-05-31T00:00:00+05:30\",\"2024-06-03T00:00:00+05:30\",\"2024-06-04T00:00:00+05:30\",\"2024-06-05T00:00:00+05:30\",\"2024-06-06T00:00:00+05:30\",\"2024-06-07T00:00:00+05:30\",\"2024-06-10T00:00:00+05:30\",\"2024-06-11T00:00:00+05:30\",\"2024-06-12T00:00:00+05:30\",\"2024-06-13T00:00:00+05:30\",\"2024-06-14T00:00:00+05:30\",\"2024-06-18T00:00:00+05:30\",\"2024-06-19T00:00:00+05:30\",\"2024-06-20T00:00:00+05:30\",\"2024-06-21T00:00:00+05:30\",\"2024-06-24T00:00:00+05:30\",\"2024-06-25T00:00:00+05:30\",\"2024-06-26T00:00:00+05:30\",\"2024-06-27T00:00:00+05:30\",\"2024-06-28T00:00:00+05:30\",\"2024-07-01T00:00:00+05:30\",\"2024-07-02T00:00:00+05:30\",\"2024-07-03T00:00:00+05:30\",\"2024-07-04T00:00:00+05:30\",\"2024-07-05T00:00:00+05:30\",\"2024-07-08T00:00:00+05:30\",\"2024-07-09T00:00:00+05:30\",\"2024-07-10T00:00:00+05:30\",\"2024-07-11T00:00:00+05:30\",\"2024-07-12T00:00:00+05:30\",\"2024-07-15T00:00:00+05:30\",\"2024-07-16T00:00:00+05:30\",\"2024-07-18T00:00:00+05:30\",\"2024-07-19T00:00:00+05:30\",\"2024-07-22T00:00:00+05:30\",\"2024-07-23T00:00:00+05:30\",\"2024-07-24T00:00:00+05:30\",\"2024-07-25T00:00:00+05:30\",\"2024-07-26T00:00:00+05:30\",\"2024-07-29T00:00:00+05:30\",\"2024-07-30T00:00:00+05:30\",\"2024-07-31T00:00:00+05:30\",\"2024-08-01T00:00:00+05:30\",\"2024-08-02T00:00:00+05:30\",\"2024-08-05T00:00:00+05:30\",\"2024-08-06T00:00:00+05:30\",\"2024-08-07T00:00:00+05:30\",\"2024-08-08T00:00:00+05:30\",\"2024-08-09T00:00:00+05:30\",\"2024-08-12T00:00:00+05:30\",\"2024-08-13T00:00:00+05:30\",\"2024-08-14T00:00:00+05:30\",\"2024-08-16T00:00:00+05:30\",\"2024-08-19T00:00:00+05:30\",\"2024-08-20T00:00:00+05:30\",\"2024-08-21T00:00:00+05:30\",\"2024-08-22T00:00:00+05:30\",\"2024-08-23T00:00:00+05:30\",\"2024-08-26T00:00:00+05:30\",\"2024-08-27T00:00:00+05:30\",\"2024-08-28T00:00:00+05:30\",\"2024-08-29T00:00:00+05:30\",\"2024-08-30T00:00:00+05:30\",\"2024-09-02T00:00:00+05:30\",\"2024-09-03T00:00:00+05:30\",\"2024-09-04T00:00:00+05:30\",\"2024-09-05T00:00:00+05:30\",\"2024-09-06T00:00:00+05:30\",\"2024-09-09T00:00:00+05:30\",\"2024-09-10T00:00:00+05:30\",\"2024-09-11T00:00:00+05:30\",\"2024-09-12T00:00:00+05:30\",\"2024-09-13T00:00:00+05:30\",\"2024-09-16T00:00:00+05:30\",\"2024-09-17T00:00:00+05:30\",\"2024-09-18T00:00:00+05:30\",\"2024-09-19T00:00:00+05:30\",\"2024-09-20T00:00:00+05:30\",\"2024-09-23T00:00:00+05:30\",\"2024-09-24T00:00:00+05:30\",\"2024-09-25T00:00:00+05:30\",\"2024-09-26T00:00:00+05:30\",\"2024-09-27T00:00:00+05:30\",\"2024-09-30T00:00:00+05:30\",\"2024-10-01T00:00:00+05:30\",\"2024-10-03T00:00:00+05:30\",\"2024-10-04T00:00:00+05:30\",\"2024-10-07T00:00:00+05:30\",\"2024-10-08T00:00:00+05:30\",\"2024-10-09T00:00:00+05:30\",\"2024-10-10T00:00:00+05:30\",\"2024-10-11T00:00:00+05:30\",\"2024-10-14T00:00:00+05:30\",\"2024-10-15T00:00:00+05:30\",\"2024-10-16T00:00:00+05:30\",\"2024-10-18T00:00:00+05:30\"],\"y\":[153.88088989257812,153.97972106933594,155.16571044921875,157.14231872558594,157.9329833984375,162.23216247558594,164.5052947998047,163.1710662841797,163.8134765625,164.10997009277344,163.31932067871094,162.9239959716797,173.4989776611328,174.83319091796875,172.5106658935547,174.0919647216797,168.85389709472656,177.20516967773438,179.72537231445312,180.02186584472656,184.51869201660156,182.09732055664062,180.36778259277344,179.82418823242188,180.5654296875,179.72537231445312,183.38214111328125,183.53038024902344,183.72804260253906,186.64358520507812,186.0505828857422,188.37313842773438,189.36146545410156,189.41085815429688,188.37313842773438,190.7945098876953,189.21319580078125,188.96612548828125,189.905029296875,189.8061981201172,188.81787109375,187.3354034423828,187.97781372070312,188.27430725097656,184.96343994140625,181.75140380859375,175.2779541015625,178.5887908935547,175.8709259033203,175.82150268554688,175.1296844482422,178.14405822753906,179.28062438964844,178.78646850585938,177.1063232421875,178.48997497558594,176.315673828125,178.68763732910156,178.8852996826172,180.86192321777344,180.51600646972656,180.91134643554688,180.91134643554688,182.09732055664062,182.8385772705078,187.28598022460938,184.321044921875,182.09732055664062,181.45492553710938,180.0712890625,181.05958557128906,174.38845825195312,178.737060546875,180.318359375,178.5887908935547,178.0946502685547,180.17010498046875,175.67327880859375,176.7604217529297,177.64990234375,177.7487335205078,177.89698791503906,179.0829620361328,179.28062438964844,179.7747802734375,178.63821411132812,176.51333618164062,175.4261932373047,171.6211700439453,171.2752685546875,173.59779357910156,171.42349243164062,173.3013153076172,176.8592529296875,177.64990234375,178.48997497558594,180.26893615722656,183.4315643310547,182.73973083496094,181.3560791015625,176.71099853515625,174.1907958984375,175.4261932373047,174.4873046875,176.61216735839844,175.1296844482422,175.6238555908203,175.7720947265625,175.0802764892578,173.40013122558594,170.53402709960938,171.1269989013672,174.9814453125,175.8709259033203,178.1934814453125,178.5887908935547,178.93470764160156,179.3300323486328,182.78915405273438,183.13507080078125,183.23388671875,185.90235900878906,184.71636962890625,185.90235900878906,185.85293579101562,185.60585021972656,186.19883728027344,188.71905517578125,190.0038604736328,191.83226013183594,193.56179809570312,190.399169921875,190.59686279296875,190.6956787109375,184.815185546875,188.37313842773438,187.0883331298828,186.0505828857422,187.43423461914062,187.7801513671875,188.22488403320312,192.4746551513672,203.04962158203125,203.3461456298828,202.20956420898438,199.73878479003906,206.9534912109375,204.3838653564453,205.76751708984375,206.70640563964844,206.01458740234375,204.87803649902344,208.73245239257812,208.9301300048828,209.27603149414062,209.078369140625,209.47369384765625,209.1772003173828,207.0523223876953,203.29672241210938,203.14846801757812,203.988525390625,207.744140625,204.9274444580078,212.48805236816406,210.61026000976562,217.7755584716797,227.6092987060547,226.91749572753906,229.78359985351562,229.83302307128906,230.0306854248047,229.53651428222656,233.9345245361328,236.99830627441406,236.6523895263672,243.57061767578125,245.3990020751953,245.003662109375,248.16629028320312,249.54994201660156,251.47714233398438,248.75927734375,251.27947998046875,245.64608764648438,244.756591796875,245.79432678222656,248.06744384765625,248.8581085205078,248.56161499023438,247.37564086914062,249.1546173095703,252.761962890625,248.2156982421875,246.68382263183594,262.12646484375,258.689208984375,255.94940185546875,255.7003173828125,262.0268249511719,260.3330993652344,263.222412109375,262.2759094238281,268.1042785644531,263.7205505371094,266.2113037109375,265.5138854980469,266.7592468261719,263.5212707519531,266.2113037109375,267.10797119140625,264.21868896484375,258.0416259765625,260.1338806152344,259.43646240234375,260.63201904296875,265.8127746582031,264.76666259765625,271.7905578613281,271.0433349609375,271.9400329589844,272.98614501953125,272.43817138671875,276.4233703613281,265.4640808105469,266.65960693359375,267.75555419921875,267.2574157714844,264.9659423828125,260.881103515625,257.0951232910156,255.2519989013672,257.9419860839844,255.84976196289062,259.1873779296875,257.0951232910156,259.6357116699219,259.0379333496094,255.7003173828125,255.7003173828125,258.0416259765625,254.05642700195312,257.44384765625,262.0268249511719,263.8201599121094,261.5286865234375,263.4714660644531,267.80535888671875,266.06182861328125,264.4677734375,257.0951232910156,250.61920166015625,249.22438049316406,245.28900146484375,250.46975708007812,253.35902404785156,254.4549560546875,251.515869140625,256.99554443359375,255.15237426757812,266.7592468261719,267.10797119140625,265.41424560546875,267.70574951171875,267.15777587890625,270.79425048828125,271.29241943359375,271.1429748535156,280.05987548828125,280.90673828125,284.543212890625,282.0524597167969,282.55059814453125,280.4583740234375,282.251708984375,283.9952392578125,283.69635009765625,290.42138671875,292.7626953125,291.2184143066406,289.8734130859375,293.75897216796875,288.8273010253906,292.2146911621094,287.4822692871094,285.9380187988281,295.0541687011719,294.4563903808594,304.2201232910156,303.9710693359375,286.3365478515625,292.51361083984375,292.2645263671875,295.2534484863281,299.93603515625,306.4617919921875,316.67388916015625,320.80853271484375,320.95794677734375,324.793701171875,323.49853515625,328.1313171386719,322.352783203125,326.0390930175781,326.5870361328125,337.5961608886719,336.4006042480469,324.44500732421875,324.5944519042969,318.2181396484375,317.91925048828125,325.9892883300781,313.5355529785156,314.13330078125,309.2514343261719,314.13330078125,316.82330322265625,333.7106018066406,332.96337890625,342.07952880859375,345.8156433105469,347.21044921875,345.5665588378906,343.7732238769531,337.1478271484375,326.985595703125,329.3268737792969,335.404296875,333.1128234863281,335.2548522949219,335.5537414550781,329.5759582519531,325.49114990234375,331.1700439453125,328.7789306640625,326.9357604980469,324.9431457519531,316.9229431152344,319.11480712890625,322.9007568359375,327.5335388183594,324.3453674316406,320.6590881347656,326.9357604980469,321.8546142578125,318.2679748535156,299.58734130859375,304.66845703125,304.1702880859375,305.913818359375,295.3530578613281,300.3345642089844,304.66845703125,306.06329345703125,303.4230651855469,303.4230651855469,303.4230651855469,309.40087890625,313.1369934082031,312.4396057128906,318.2679748535156,320.6590881347656,375.75445556640625,382.6787414550781,382.529296875,396.6767272949219,407.5364074707031,458.0986022949219,447.9861755371094,442.6559753417969,464.22589111328125,459.7425231933594,442.905029296875,445.7445068359375,464.92327880859375,453.8643493652344,470.6520080566406,462.2830810546875,467.21478271484375,458.7960205078125,451.4732360839844,458.5469665527344,447.1393127441406,450.5765686035156,454.1134033203125,459.5432434082031,461.38641357421875,471.44903564453125,474.5375671386719,472.8438720703125,465.22216796875,463.17974853515625,472.9933166503906,492.5207824707031,508.01324462890625,504.9247131347656,496.10748291015625,486.443359375,503.03173828125,453.7647399902344,489.23297119140625,525.8967895507812,525.0997924804688,523.8543701171875,526.89306640625,538.6992797851562,540.2933349609375,540.2435302734375,562.4609985351562,558.2765502929688,570.1325073242188,567.5919799804688,571.7265625,577.5051879882812,565.9978637695312,564.1547241210938,562.4111938476562,567.2930908203125,562.4111938476562,566.794921875,564.1049194335938,565.8484497070312,569.3355102539062,576.3095703125,565.3502807617188,561.3651123046875,556.9813842773438,560.5680541992188,554.5404052734375,553.643798828125,538.5,546.9000244140625,546.75,539.8499755859375,539.9000244140625,553.75,551.9000244140625,531.7000122070312,523.2999877929688,512.75,508.8500061035156,485.3500061035156,481.6499938964844,496.25,486.1499938964844,493.20001220703125,499.1000061035156,492.5,486.20001220703125,495.70001220703125,496.95001220703125,497.25,508.0,512.4000244140625,499.3999938964844,497.95001220703125,498.70001220703125,491.70001220703125,490.20001220703125,492.8999938964844,490.5,488.8500061035156,484.1499938964844,495.6499938964844,483.0,474.75,478.79998779296875,472.20001220703125,479.8500061035156,485.3999938964844,489.95001220703125,482.29998779296875,471.75,459.95001220703125,466.29998779296875,471.1499938964844,476.70001220703125,473.70001220703125,471.75,497.29998779296875,502.54998779296875,511.54998779296875,496.3500061035156,502.3999938964844,480.5,493.79998779296875,519.3499755859375,512.1500244140625,530.5,530.3499755859375,522.1500244140625,512.2999877929688,494.20001220703125],\"type\":\"scatter\"},{\"fill\":\"toself\",\"fillcolor\":\"rgba(255,255,0,0.3)\",\"line\":{\"color\":\"rgba(255,255,0,0)\"},\"name\":\"Trend Area\",\"x\":[\"2024-10-18T00:00:00+05:30\",\"2024-10-18T00:00:00+05:30\",\"2024-10-11T00:00:00+05:30\",\"2024-10-11T00:00:00+05:30\"],\"y\":[153.88088989257812,577.5051879882812,577.5051879882812,153.88088989257812],\"type\":\"scatter\"},{\"line\":{\"color\":\"#FF4136\",\"dash\":\"dot\",\"width\":2},\"mode\":\"lines\",\"name\":\"200% (566.8)\",\"x\":[\"2022-10-18T00:00:00+05:30\",\"2024-10-18T00:00:00+05:30\"],\"y\":[566.7999877929688,566.7999877929688],\"type\":\"scatter\"},{\"line\":{\"color\":\"#FF851B\",\"dash\":\"dot\",\"width\":2},\"mode\":\"lines\",\"name\":\"161.8% (552.93)\",\"x\":[\"2022-10-18T00:00:00+05:30\",\"2024-10-18T00:00:00+05:30\"],\"y\":[552.9333924560547,552.9333924560547],\"type\":\"scatter\"},{\"line\":{\"color\":\"#FFDC00\",\"dash\":\"dot\",\"width\":2},\"mode\":\"lines\",\"name\":\"150% (548.65)\",\"x\":[\"2022-10-18T00:00:00+05:30\",\"2024-10-18T00:00:00+05:30\"],\"y\":[548.6499938964844,548.6499938964844],\"type\":\"scatter\"},{\"line\":{\"color\":\"#2ECC40\",\"dash\":\"dot\",\"width\":2},\"mode\":\"lines\",\"name\":\"138.2% (544.37)\",\"x\":[\"2022-10-18T00:00:00+05:30\",\"2024-10-18T00:00:00+05:30\"],\"y\":[544.3665953369141,544.3665953369141],\"type\":\"scatter\"},{\"line\":{\"color\":\"#0074D9\",\"dash\":\"dot\",\"width\":2},\"mode\":\"lines\",\"name\":\"123.6% (539.07)\",\"x\":[\"2022-10-18T00:00:00+05:30\",\"2024-10-18T00:00:00+05:30\"],\"y\":[539.0667971191406,539.0667971191406],\"type\":\"scatter\"},{\"line\":{\"color\":\"#B10DC9\",\"dash\":\"dash\",\"width\":2},\"mode\":\"lines\",\"name\":\"23.6% (502.77)\",\"x\":[\"2022-10-18T00:00:00+05:30\",\"2024-10-18T00:00:00+05:30\"],\"y\":[502.7668093261719,502.7668093261719],\"type\":\"scatter\"},{\"line\":{\"color\":\"#F012BE\",\"dash\":\"dash\",\"width\":2},\"mode\":\"lines\",\"name\":\"38.2% (508.07)\",\"x\":[\"2022-10-18T00:00:00+05:30\",\"2024-10-18T00:00:00+05:30\"],\"y\":[508.06660754394534,508.06660754394534],\"type\":\"scatter\"},{\"line\":{\"color\":\"#85144b\",\"dash\":\"dash\",\"width\":2},\"mode\":\"lines\",\"name\":\"50% (512.35)\",\"x\":[\"2022-10-18T00:00:00+05:30\",\"2024-10-18T00:00:00+05:30\"],\"y\":[512.3500061035156,512.3500061035156],\"type\":\"scatter\"},{\"line\":{\"color\":\"#001f3f\",\"dash\":\"dash\",\"width\":2},\"mode\":\"lines\",\"name\":\"61.8% (516.63)\",\"x\":[\"2022-10-18T00:00:00+05:30\",\"2024-10-18T00:00:00+05:30\"],\"y\":[516.6334046630859,516.6334046630859],\"type\":\"scatter\"},{\"line\":{\"color\":\"#39CCCC\",\"dash\":\"dash\",\"width\":2},\"mode\":\"lines\",\"name\":\"78.6% (522.73)\",\"x\":[\"2022-10-18T00:00:00+05:30\",\"2024-10-18T00:00:00+05:30\"],\"y\":[522.7318026123047,522.7318026123047],\"type\":\"scatter\"}],                        {\"template\":{\"data\":{\"histogram2dcontour\":[{\"type\":\"histogram2dcontour\",\"colorbar\":{\"outlinewidth\":0,\"ticks\":\"\"},\"colorscale\":[[0.0,\"#0d0887\"],[0.1111111111111111,\"#46039f\"],[0.2222222222222222,\"#7201a8\"],[0.3333333333333333,\"#9c179e\"],[0.4444444444444444,\"#bd3786\"],[0.5555555555555556,\"#d8576b\"],[0.6666666666666666,\"#ed7953\"],[0.7777777777777778,\"#fb9f3a\"],[0.8888888888888888,\"#fdca26\"],[1.0,\"#f0f921\"]]}],\"choropleth\":[{\"type\":\"choropleth\",\"colorbar\":{\"outlinewidth\":0,\"ticks\":\"\"}}],\"histogram2d\":[{\"type\":\"histogram2d\",\"colorbar\":{\"outlinewidth\":0,\"ticks\":\"\"},\"colorscale\":[[0.0,\"#0d0887\"],[0.1111111111111111,\"#46039f\"],[0.2222222222222222,\"#7201a8\"],[0.3333333333333333,\"#9c179e\"],[0.4444444444444444,\"#bd3786\"],[0.5555555555555556,\"#d8576b\"],[0.6666666666666666,\"#ed7953\"],[0.7777777777777778,\"#fb9f3a\"],[0.8888888888888888,\"#fdca26\"],[1.0,\"#f0f921\"]]}],\"heatmap\":[{\"type\":\"heatmap\",\"colorbar\":{\"outlinewidth\":0,\"ticks\":\"\"},\"colorscale\":[[0.0,\"#0d0887\"],[0.1111111111111111,\"#46039f\"],[0.2222222222222222,\"#7201a8\"],[0.3333333333333333,\"#9c179e\"],[0.4444444444444444,\"#bd3786\"],[0.5555555555555556,\"#d8576b\"],[0.6666666666666666,\"#ed7953\"],[0.7777777777777778,\"#fb9f3a\"],[0.8888888888888888,\"#fdca26\"],[1.0,\"#f0f921\"]]}],\"heatmapgl\":[{\"type\":\"heatmapgl\",\"colorbar\":{\"outlinewidth\":0,\"ticks\":\"\"},\"colorscale\":[[0.0,\"#0d0887\"],[0.1111111111111111,\"#46039f\"],[0.2222222222222222,\"#7201a8\"],[0.3333333333333333,\"#9c179e\"],[0.4444444444444444,\"#bd3786\"],[0.5555555555555556,\"#d8576b\"],[0.6666666666666666,\"#ed7953\"],[0.7777777777777778,\"#fb9f3a\"],[0.8888888888888888,\"#fdca26\"],[1.0,\"#f0f921\"]]}],\"contourcarpet\":[{\"type\":\"contourcarpet\",\"colorbar\":{\"outlinewidth\":0,\"ticks\":\"\"}}],\"contour\":[{\"type\":\"contour\",\"colorbar\":{\"outlinewidth\":0,\"ticks\":\"\"},\"colorscale\":[[0.0,\"#0d0887\"],[0.1111111111111111,\"#46039f\"],[0.2222222222222222,\"#7201a8\"],[0.3333333333333333,\"#9c179e\"],[0.4444444444444444,\"#bd3786\"],[0.5555555555555556,\"#d8576b\"],[0.6666666666666666,\"#ed7953\"],[0.7777777777777778,\"#fb9f3a\"],[0.8888888888888888,\"#fdca26\"],[1.0,\"#f0f921\"]]}],\"surface\":[{\"type\":\"surface\",\"colorbar\":{\"outlinewidth\":0,\"ticks\":\"\"},\"colorscale\":[[0.0,\"#0d0887\"],[0.1111111111111111,\"#46039f\"],[0.2222222222222222,\"#7201a8\"],[0.3333333333333333,\"#9c179e\"],[0.4444444444444444,\"#bd3786\"],[0.5555555555555556,\"#d8576b\"],[0.6666666666666666,\"#ed7953\"],[0.7777777777777778,\"#fb9f3a\"],[0.8888888888888888,\"#fdca26\"],[1.0,\"#f0f921\"]]}],\"mesh3d\":[{\"type\":\"mesh3d\",\"colorbar\":{\"outlinewidth\":0,\"ticks\":\"\"}}],\"scatter\":[{\"fillpattern\":{\"fillmode\":\"overlay\",\"size\":10,\"solidity\":0.2},\"type\":\"scatter\"}],\"parcoords\":[{\"type\":\"parcoords\",\"line\":{\"colorbar\":{\"outlinewidth\":0,\"ticks\":\"\"}}}],\"scatterpolargl\":[{\"type\":\"scatterpolargl\",\"marker\":{\"colorbar\":{\"outlinewidth\":0,\"ticks\":\"\"}}}],\"bar\":[{\"error_x\":{\"color\":\"#2a3f5f\"},\"error_y\":{\"color\":\"#2a3f5f\"},\"marker\":{\"line\":{\"color\":\"#E5ECF6\",\"width\":0.5},\"pattern\":{\"fillmode\":\"overlay\",\"size\":10,\"solidity\":0.2}},\"type\":\"bar\"}],\"scattergeo\":[{\"type\":\"scattergeo\",\"marker\":{\"colorbar\":{\"outlinewidth\":0,\"ticks\":\"\"}}}],\"scatterpolar\":[{\"type\":\"scatterpolar\",\"marker\":{\"colorbar\":{\"outlinewidth\":0,\"ticks\":\"\"}}}],\"histogram\":[{\"marker\":{\"pattern\":{\"fillmode\":\"overlay\",\"size\":10,\"solidity\":0.2}},\"type\":\"histogram\"}],\"scattergl\":[{\"type\":\"scattergl\",\"marker\":{\"colorbar\":{\"outlinewidth\":0,\"ticks\":\"\"}}}],\"scatter3d\":[{\"type\":\"scatter3d\",\"line\":{\"colorbar\":{\"outlinewidth\":0,\"ticks\":\"\"}},\"marker\":{\"colorbar\":{\"outlinewidth\":0,\"ticks\":\"\"}}}],\"scattermapbox\":[{\"type\":\"scattermapbox\",\"marker\":{\"colorbar\":{\"outlinewidth\":0,\"ticks\":\"\"}}}],\"scatterternary\":[{\"type\":\"scatterternary\",\"marker\":{\"colorbar\":{\"outlinewidth\":0,\"ticks\":\"\"}}}],\"scattercarpet\":[{\"type\":\"scattercarpet\",\"marker\":{\"colorbar\":{\"outlinewidth\":0,\"ticks\":\"\"}}}],\"carpet\":[{\"aaxis\":{\"endlinecolor\":\"#2a3f5f\",\"gridcolor\":\"white\",\"linecolor\":\"white\",\"minorgridcolor\":\"white\",\"startlinecolor\":\"#2a3f5f\"},\"baxis\":{\"endlinecolor\":\"#2a3f5f\",\"gridcolor\":\"white\",\"linecolor\":\"white\",\"minorgridcolor\":\"white\",\"startlinecolor\":\"#2a3f5f\"},\"type\":\"carpet\"}],\"table\":[{\"cells\":{\"fill\":{\"color\":\"#EBF0F8\"},\"line\":{\"color\":\"white\"}},\"header\":{\"fill\":{\"color\":\"#C8D4E3\"},\"line\":{\"color\":\"white\"}},\"type\":\"table\"}],\"barpolar\":[{\"marker\":{\"line\":{\"color\":\"#E5ECF6\",\"width\":0.5},\"pattern\":{\"fillmode\":\"overlay\",\"size\":10,\"solidity\":0.2}},\"type\":\"barpolar\"}],\"pie\":[{\"automargin\":true,\"type\":\"pie\"}]},\"layout\":{\"autotypenumbers\":\"strict\",\"colorway\":[\"#636efa\",\"#EF553B\",\"#00cc96\",\"#ab63fa\",\"#FFA15A\",\"#19d3f3\",\"#FF6692\",\"#B6E880\",\"#FF97FF\",\"#FECB52\"],\"font\":{\"color\":\"#2a3f5f\"},\"hovermode\":\"closest\",\"hoverlabel\":{\"align\":\"left\"},\"paper_bgcolor\":\"white\",\"plot_bgcolor\":\"#E5ECF6\",\"polar\":{\"bgcolor\":\"#E5ECF6\",\"angularaxis\":{\"gridcolor\":\"white\",\"linecolor\":\"white\",\"ticks\":\"\"},\"radialaxis\":{\"gridcolor\":\"white\",\"linecolor\":\"white\",\"ticks\":\"\"}},\"ternary\":{\"bgcolor\":\"#E5ECF6\",\"aaxis\":{\"gridcolor\":\"white\",\"linecolor\":\"white\",\"ticks\":\"\"},\"baxis\":{\"gridcolor\":\"white\",\"linecolor\":\"white\",\"ticks\":\"\"},\"caxis\":{\"gridcolor\":\"white\",\"linecolor\":\"white\",\"ticks\":\"\"}},\"coloraxis\":{\"colorbar\":{\"outlinewidth\":0,\"ticks\":\"\"}},\"colorscale\":{\"sequential\":[[0.0,\"#0d0887\"],[0.1111111111111111,\"#46039f\"],[0.2222222222222222,\"#7201a8\"],[0.3333333333333333,\"#9c179e\"],[0.4444444444444444,\"#bd3786\"],[0.5555555555555556,\"#d8576b\"],[0.6666666666666666,\"#ed7953\"],[0.7777777777777778,\"#fb9f3a\"],[0.8888888888888888,\"#fdca26\"],[1.0,\"#f0f921\"]],\"sequentialminus\":[[0.0,\"#0d0887\"],[0.1111111111111111,\"#46039f\"],[0.2222222222222222,\"#7201a8\"],[0.3333333333333333,\"#9c179e\"],[0.4444444444444444,\"#bd3786\"],[0.5555555555555556,\"#d8576b\"],[0.6666666666666666,\"#ed7953\"],[0.7777777777777778,\"#fb9f3a\"],[0.8888888888888888,\"#fdca26\"],[1.0,\"#f0f921\"]],\"diverging\":[[0,\"#8e0152\"],[0.1,\"#c51b7d\"],[0.2,\"#de77ae\"],[0.3,\"#f1b6da\"],[0.4,\"#fde0ef\"],[0.5,\"#f7f7f7\"],[0.6,\"#e6f5d0\"],[0.7,\"#b8e186\"],[0.8,\"#7fbc41\"],[0.9,\"#4d9221\"],[1,\"#276419\"]]},\"xaxis\":{\"gridcolor\":\"white\",\"linecolor\":\"white\",\"ticks\":\"\",\"title\":{\"standoff\":15},\"zerolinecolor\":\"white\",\"automargin\":true,\"zerolinewidth\":2},\"yaxis\":{\"gridcolor\":\"white\",\"linecolor\":\"white\",\"ticks\":\"\",\"title\":{\"standoff\":15},\"zerolinecolor\":\"white\",\"automargin\":true,\"zerolinewidth\":2},\"scene\":{\"xaxis\":{\"backgroundcolor\":\"#E5ECF6\",\"gridcolor\":\"white\",\"linecolor\":\"white\",\"showbackground\":true,\"ticks\":\"\",\"zerolinecolor\":\"white\",\"gridwidth\":2},\"yaxis\":{\"backgroundcolor\":\"#E5ECF6\",\"gridcolor\":\"white\",\"linecolor\":\"white\",\"showbackground\":true,\"ticks\":\"\",\"zerolinecolor\":\"white\",\"gridwidth\":2},\"zaxis\":{\"backgroundcolor\":\"#E5ECF6\",\"gridcolor\":\"white\",\"linecolor\":\"white\",\"showbackground\":true,\"ticks\":\"\",\"zerolinecolor\":\"white\",\"gridwidth\":2}},\"shapedefaults\":{\"line\":{\"color\":\"#2a3f5f\"}},\"annotationdefaults\":{\"arrowcolor\":\"#2a3f5f\",\"arrowhead\":0,\"arrowwidth\":1},\"geo\":{\"bgcolor\":\"white\",\"landcolor\":\"#E5ECF6\",\"subunitcolor\":\"white\",\"showland\":true,\"showlakes\":true,\"lakecolor\":\"white\"},\"title\":{\"x\":0.05},\"mapbox\":{\"style\":\"light\"}}},\"xaxis\":{\"anchor\":\"y\",\"domain\":[0.0,0.94],\"title\":{\"text\":\"Date\"},\"tickformat\":\"%d %b %y\",\"tickangle\":45,\"range\":[\"2024-01-24T00:00:00+05:30\",\"2024-11-07T00:00:00+05:30\"],\"tickmode\":\"array\",\"tickvals\":[\"2024-02-01T00:00:00+05:30\",\"2024-03-01T00:00:00+05:30\",\"2024-04-01T00:00:00+05:30\",\"2024-05-01T00:00:00+05:30\",\"2024-06-01T00:00:00+05:30\",\"2024-07-01T00:00:00+05:30\",\"2024-08-01T00:00:00+05:30\",\"2024-09-01T00:00:00+05:30\",\"2024-10-01T00:00:00+05:30\"],\"ticktext\":[\"01 Feb 24\",\"01 Mar 24\",\"01 Apr 24\",\"01 May 24\",\"01 Jun 24\",\"01 Jul 24\",\"01 Aug 24\",\"01 Sep 24\",\"01 Oct 24\"]},\"yaxis\":{\"anchor\":\"x\",\"domain\":[0.0,1.0],\"title\":{\"text\":\"Price\"},\"tickformat\":\".2f\"},\"yaxis2\":{\"anchor\":\"x\",\"overlaying\":\"y\",\"side\":\"right\",\"tickformat\":\".2f\"},\"annotations\":[{\"bgcolor\":\"white\",\"bordercolor\":\"#FF4136\",\"borderpad\":4,\"borderwidth\":2,\"font\":{\"color\":\"#FF4136\",\"size\":10},\"opacity\":0.8,\"showarrow\":false,\"text\":\"200% (566.8)\",\"x\":\"2024-10-18T00:00:00+05:30\",\"xanchor\":\"left\",\"xshift\":10,\"y\":566.7999877929688},{\"bgcolor\":\"white\",\"bordercolor\":\"#FF851B\",\"borderpad\":4,\"borderwidth\":2,\"font\":{\"color\":\"#FF851B\",\"size\":10},\"opacity\":0.8,\"showarrow\":false,\"text\":\"161.8% (552.93)\",\"x\":\"2024-10-18T00:00:00+05:30\",\"xanchor\":\"left\",\"xshift\":10,\"y\":552.9333924560547},{\"bgcolor\":\"white\",\"bordercolor\":\"#FFDC00\",\"borderpad\":4,\"borderwidth\":2,\"font\":{\"color\":\"#FFDC00\",\"size\":10},\"opacity\":0.8,\"showarrow\":false,\"text\":\"150% (548.65)\",\"x\":\"2024-10-18T00:00:00+05:30\",\"xanchor\":\"left\",\"xshift\":10,\"y\":548.6499938964844},{\"bgcolor\":\"white\",\"bordercolor\":\"#2ECC40\",\"borderpad\":4,\"borderwidth\":2,\"font\":{\"color\":\"#2ECC40\",\"size\":10},\"opacity\":0.8,\"showarrow\":false,\"text\":\"138.2% (544.37)\",\"x\":\"2024-10-18T00:00:00+05:30\",\"xanchor\":\"left\",\"xshift\":10,\"y\":544.3665953369141},{\"bgcolor\":\"white\",\"bordercolor\":\"#0074D9\",\"borderpad\":4,\"borderwidth\":2,\"font\":{\"color\":\"#0074D9\",\"size\":10},\"opacity\":0.8,\"showarrow\":false,\"text\":\"123.6% (539.07)\",\"x\":\"2024-10-18T00:00:00+05:30\",\"xanchor\":\"left\",\"xshift\":10,\"y\":539.0667971191406},{\"bgcolor\":\"white\",\"bordercolor\":\"#B10DC9\",\"borderpad\":4,\"borderwidth\":2,\"font\":{\"color\":\"#B10DC9\",\"size\":10},\"opacity\":0.8,\"showarrow\":false,\"text\":\"23.6% (502.77)\",\"x\":\"2024-10-18T00:00:00+05:30\",\"xanchor\":\"left\",\"xshift\":10,\"y\":502.7668093261719},{\"bgcolor\":\"white\",\"bordercolor\":\"#F012BE\",\"borderpad\":4,\"borderwidth\":2,\"font\":{\"color\":\"#F012BE\",\"size\":10},\"opacity\":0.8,\"showarrow\":false,\"text\":\"38.2% (508.07)\",\"x\":\"2024-10-18T00:00:00+05:30\",\"xanchor\":\"left\",\"xshift\":10,\"y\":508.06660754394534},{\"bgcolor\":\"white\",\"bordercolor\":\"#85144b\",\"borderpad\":4,\"borderwidth\":2,\"font\":{\"color\":\"#85144b\",\"size\":10},\"opacity\":0.8,\"showarrow\":false,\"text\":\"50% (512.35)\",\"x\":\"2024-10-18T00:00:00+05:30\",\"xanchor\":\"left\",\"xshift\":10,\"y\":512.3500061035156},{\"bgcolor\":\"white\",\"bordercolor\":\"#001f3f\",\"borderpad\":4,\"borderwidth\":2,\"font\":{\"color\":\"#001f3f\",\"size\":10},\"opacity\":0.8,\"showarrow\":false,\"text\":\"61.8% (516.63)\",\"x\":\"2024-10-18T00:00:00+05:30\",\"xanchor\":\"left\",\"xshift\":10,\"y\":516.6334046630859},{\"bgcolor\":\"white\",\"bordercolor\":\"#39CCCC\",\"borderpad\":4,\"borderwidth\":2,\"font\":{\"color\":\"#39CCCC\",\"size\":10},\"opacity\":0.8,\"showarrow\":false,\"text\":\"78.6% (522.73)\",\"x\":\"2024-10-18T00:00:00+05:30\",\"xanchor\":\"left\",\"xshift\":10,\"y\":522.7318026123047}],\"title\":{\"text\":\"Fibonacci Retracement and Extension Levels\"},\"legend\":{\"title\":{\"text\":\"Levels\"}},\"hovermode\":\"x unified\",\"showlegend\":true},                        {\"responsive\": true}                    ).then(function(){\n",
       "                            \n",
       "var gd = document.getElementById('974b9885-597e-424f-932c-dcb20443f893');\n",
       "var x = new MutationObserver(function (mutations, observer) {{\n",
       "        var display = window.getComputedStyle(gd).display;\n",
       "        if (!display || display === 'none') {{\n",
       "            console.log([gd, 'removed!']);\n",
       "            Plotly.purge(gd);\n",
       "            observer.disconnect();\n",
       "        }}\n",
       "}});\n",
       "\n",
       "// Listen for the removal of the full notebook cells\n",
       "var notebookContainer = gd.closest('#notebook-container');\n",
       "if (notebookContainer) {{\n",
       "    x.observe(notebookContainer, {childList: true});\n",
       "}}\n",
       "\n",
       "// Listen for the clearing of the current output cell\n",
       "var outputEl = gd.closest('.output');\n",
       "if (outputEl) {{\n",
       "    x.observe(outputEl, {childList: true});\n",
       "}}\n",
       "\n",
       "                        })                };                });            </script>        </div>"
      ]
     },
     "metadata": {},
     "output_type": "display_data"
    },
    {
     "name": "stdout",
     "output_type": "stream",
     "text": [
      "Overall, price is trending downwards. Recommendation: Buy in the future when the oppurtunity turns up.\n",
      "\n",
      "While the stock is showing recent signs of recovery, it remains in an overall downtrend. Exercise caution with any bullish positions.\n"
     ]
    },
    {
     "data": {
      "application/vnd.plotly.v1+json": {
       "config": {
        "plotlyServerURL": "https://plot.ly"
       },
       "data": [
        {
         "close": [
          175.1296844482422,
          178.14405822753906,
          179.28062438964844,
          178.78646850585938,
          177.1063232421875,
          178.48997497558594,
          176.315673828125,
          178.68763732910156,
          178.8852996826172,
          180.86192321777344,
          180.51600646972656,
          180.91134643554688,
          180.91134643554688,
          182.09732055664062,
          182.8385772705078,
          187.28598022460938,
          184.321044921875,
          182.09732055664062,
          181.45492553710938,
          180.0712890625,
          181.05958557128906,
          174.38845825195312,
          178.737060546875,
          180.318359375,
          178.5887908935547,
          178.0946502685547,
          180.17010498046875,
          175.67327880859375,
          176.7604217529297,
          177.64990234375,
          177.7487335205078,
          177.89698791503906,
          179.0829620361328,
          179.28062438964844,
          179.7747802734375,
          178.63821411132812,
          176.51333618164062,
          175.4261932373047,
          171.6211700439453,
          171.2752685546875,
          173.59779357910156,
          171.42349243164062,
          173.3013153076172,
          176.8592529296875,
          177.64990234375,
          178.48997497558594,
          180.26893615722656,
          183.4315643310547,
          182.73973083496094,
          181.3560791015625,
          176.71099853515625,
          174.1907958984375,
          175.4261932373047,
          174.4873046875,
          176.61216735839844,
          175.1296844482422,
          175.6238555908203,
          175.7720947265625,
          175.0802764892578,
          173.40013122558594,
          170.53402709960938,
          171.1269989013672,
          174.9814453125,
          175.8709259033203,
          178.1934814453125,
          178.5887908935547,
          178.93470764160156,
          179.3300323486328,
          182.78915405273438,
          183.13507080078125,
          183.23388671875,
          185.90235900878906,
          184.71636962890625,
          185.90235900878906,
          185.85293579101562,
          185.60585021972656,
          186.19883728027344,
          188.71905517578125,
          190.0038604736328,
          191.83226013183594,
          193.56179809570312,
          190.399169921875,
          190.59686279296875,
          190.6956787109375,
          184.815185546875,
          188.37313842773438,
          187.0883331298828,
          186.0505828857422,
          187.43423461914062,
          187.7801513671875,
          188.22488403320312,
          192.4746551513672,
          203.04962158203125,
          203.3461456298828,
          202.20956420898438,
          199.73878479003906,
          206.9534912109375,
          204.3838653564453,
          205.76751708984375,
          206.70640563964844,
          206.01458740234375,
          204.87803649902344,
          208.73245239257812,
          208.9301300048828,
          209.27603149414062,
          209.078369140625,
          209.47369384765625,
          209.1772003173828,
          207.0523223876953,
          203.29672241210938,
          203.14846801757812,
          203.988525390625,
          207.744140625,
          204.9274444580078,
          212.48805236816406,
          210.61026000976562,
          217.7755584716797,
          227.6092987060547,
          226.91749572753906,
          229.78359985351562,
          229.83302307128906,
          230.0306854248047,
          229.53651428222656,
          233.9345245361328,
          236.99830627441406,
          236.6523895263672,
          243.57061767578125,
          245.3990020751953,
          245.003662109375,
          248.16629028320312,
          249.54994201660156,
          251.47714233398438,
          248.75927734375,
          251.27947998046875,
          245.64608764648438,
          244.756591796875,
          245.79432678222656,
          248.06744384765625,
          248.8581085205078,
          248.56161499023438,
          247.37564086914062,
          249.1546173095703,
          252.761962890625,
          248.2156982421875,
          246.68382263183594,
          262.12646484375,
          258.689208984375,
          255.94940185546875,
          255.7003173828125,
          262.0268249511719,
          260.3330993652344,
          263.222412109375,
          262.2759094238281,
          268.1042785644531,
          263.7205505371094,
          266.2113037109375,
          265.5138854980469,
          266.7592468261719,
          263.5212707519531,
          266.2113037109375,
          267.10797119140625,
          264.21868896484375,
          258.0416259765625,
          260.1338806152344,
          259.43646240234375,
          260.63201904296875,
          265.8127746582031,
          264.76666259765625,
          271.7905578613281,
          271.0433349609375,
          271.9400329589844,
          272.98614501953125,
          272.43817138671875,
          276.4233703613281,
          265.4640808105469,
          266.65960693359375,
          267.75555419921875,
          267.2574157714844,
          264.9659423828125,
          260.881103515625,
          257.0951232910156,
          255.2519989013672,
          257.9419860839844,
          255.84976196289062,
          259.1873779296875,
          257.0951232910156,
          259.6357116699219,
          259.0379333496094,
          255.7003173828125,
          255.7003173828125,
          258.0416259765625,
          254.05642700195312,
          257.44384765625,
          262.0268249511719,
          263.8201599121094,
          261.5286865234375,
          263.4714660644531,
          267.80535888671875,
          266.06182861328125,
          264.4677734375,
          257.0951232910156,
          250.61920166015625,
          249.22438049316406,
          245.28900146484375,
          250.46975708007812,
          253.35902404785156,
          254.4549560546875,
          251.515869140625,
          256.99554443359375,
          255.15237426757812,
          266.7592468261719,
          267.10797119140625,
          265.41424560546875,
          267.70574951171875,
          267.15777587890625,
          270.79425048828125,
          271.29241943359375,
          271.1429748535156,
          280.05987548828125,
          280.90673828125,
          284.543212890625,
          282.0524597167969,
          282.55059814453125,
          280.4583740234375,
          282.251708984375,
          283.9952392578125,
          283.69635009765625,
          290.42138671875,
          292.7626953125,
          291.2184143066406,
          289.8734130859375,
          293.75897216796875,
          288.8273010253906,
          292.2146911621094,
          287.4822692871094,
          285.9380187988281,
          295.0541687011719,
          294.4563903808594,
          304.2201232910156,
          303.9710693359375,
          286.3365478515625,
          292.51361083984375,
          292.2645263671875,
          295.2534484863281,
          299.93603515625,
          306.4617919921875,
          316.67388916015625,
          320.80853271484375,
          320.95794677734375,
          324.793701171875,
          323.49853515625,
          328.1313171386719,
          322.352783203125,
          326.0390930175781,
          326.5870361328125,
          337.5961608886719,
          336.4006042480469,
          324.44500732421875,
          324.5944519042969,
          318.2181396484375,
          317.91925048828125,
          325.9892883300781,
          313.5355529785156,
          314.13330078125,
          309.2514343261719,
          314.13330078125,
          316.82330322265625,
          333.7106018066406,
          332.96337890625,
          342.07952880859375,
          345.8156433105469,
          347.21044921875,
          345.5665588378906,
          343.7732238769531,
          337.1478271484375,
          326.985595703125,
          329.3268737792969,
          335.404296875,
          333.1128234863281,
          335.2548522949219,
          335.5537414550781,
          329.5759582519531,
          325.49114990234375,
          331.1700439453125,
          328.7789306640625,
          326.9357604980469,
          324.9431457519531,
          316.9229431152344,
          319.11480712890625,
          322.9007568359375,
          327.5335388183594,
          324.3453674316406,
          320.6590881347656,
          326.9357604980469,
          321.8546142578125,
          318.2679748535156,
          299.58734130859375,
          304.66845703125,
          304.1702880859375,
          305.913818359375,
          295.3530578613281,
          300.3345642089844,
          304.66845703125,
          306.06329345703125,
          303.4230651855469,
          303.4230651855469,
          303.4230651855469,
          309.40087890625,
          313.1369934082031,
          312.4396057128906,
          318.2679748535156,
          320.6590881347656,
          375.75445556640625,
          382.6787414550781,
          382.529296875,
          396.6767272949219,
          407.5364074707031,
          458.0986022949219,
          447.9861755371094,
          442.6559753417969,
          464.22589111328125,
          459.7425231933594,
          442.905029296875,
          445.7445068359375,
          464.92327880859375,
          453.8643493652344,
          470.6520080566406,
          462.2830810546875,
          467.21478271484375,
          458.7960205078125,
          451.4732360839844,
          458.5469665527344,
          447.1393127441406,
          450.5765686035156,
          454.1134033203125,
          459.5432434082031,
          461.38641357421875,
          471.44903564453125,
          474.5375671386719,
          472.8438720703125,
          465.22216796875,
          463.17974853515625,
          472.9933166503906,
          492.5207824707031,
          508.01324462890625,
          504.9247131347656,
          496.10748291015625,
          486.443359375,
          503.03173828125,
          453.7647399902344,
          489.23297119140625,
          525.8967895507812,
          525.0997924804688,
          523.8543701171875,
          526.89306640625,
          538.6992797851562,
          540.2933349609375,
          540.2435302734375,
          562.4609985351562,
          558.2765502929688,
          570.1325073242188,
          567.5919799804688,
          571.7265625,
          577.5051879882812,
          565.9978637695312,
          564.1547241210938,
          562.4111938476562,
          567.2930908203125,
          562.4111938476562,
          566.794921875,
          564.1049194335938,
          565.8484497070312,
          569.3355102539062,
          576.3095703125,
          565.3502807617188,
          561.3651123046875,
          556.9813842773438,
          560.5680541992188,
          554.5404052734375,
          553.643798828125,
          538.5,
          546.9000244140625,
          546.75,
          539.8499755859375,
          539.9000244140625,
          553.75,
          551.9000244140625,
          531.7000122070312,
          523.2999877929688,
          512.75,
          508.8500061035156,
          485.3500061035156,
          481.6499938964844,
          496.25,
          486.1499938964844,
          493.20001220703125,
          499.1000061035156,
          492.5,
          486.20001220703125,
          495.70001220703125,
          496.95001220703125,
          497.25,
          508,
          512.4000244140625,
          499.3999938964844,
          497.95001220703125,
          498.70001220703125,
          491.70001220703125,
          490.20001220703125,
          492.8999938964844,
          490.5,
          488.8500061035156,
          484.1499938964844,
          495.6499938964844,
          483,
          474.75,
          478.79998779296875,
          472.20001220703125,
          479.8500061035156,
          485.3999938964844,
          489.95001220703125,
          482.29998779296875,
          471.75,
          459.95001220703125,
          466.29998779296875,
          471.1499938964844,
          476.70001220703125,
          473.70001220703125,
          471.75,
          497.29998779296875,
          502.54998779296875,
          511.54998779296875,
          496.3500061035156,
          502.3999938964844,
          480.5,
          493.79998779296875,
          519.3499755859375,
          512.1500244140625,
          530.5,
          530.3499755859375,
          522.1500244140625,
          512.2999877929688,
          494.20001220703125
         ],
         "decreasing": {
          "fillcolor": "#EF5350",
          "line": {
           "color": "#EF5350"
          }
         },
         "high": [
          175.82150299661492,
          179.67595189691608,
          179.62654123027565,
          180.86193941661656,
          178.9347148970372,
          179.42887268205357,
          179.47829898420164,
          179.23121445401048,
          180.96077051777033,
          182.14673771028652,
          183.3327145858657,
          181.89966297976673,
          183.33271895278278,
          182.4432373741639,
          183.43157328305062,
          189.1143718157357,
          188.2248924550558,
          185.8529263847663,
          183.67863778594398,
          181.8008431850991,
          185.21051198786674,
          182.49265122563807,
          179.6265394417536,
          186.64359461844737,
          181.85023840275014,
          180.31836264308566,
          180.86192352978054,
          180.76310335790262,
          177.20516118622209,
          178.14406062565195,
          179.82418918015327,
          180.07128141789775,
          179.6759580188426,
          180.71369551752025,
          180.6148554005294,
          180.3183492085823,
          179.33002921018536,
          177.00750580010018,
          175.22853465043391,
          172.56008314147797,
          173.9437103990323,
          173.25188397308952,
          174.68495246323923,
          177.1557509264204,
          178.88529804850486,
          179.97244980069706,
          180.8619321308448,
          183.77746608772776,
          185.2105223015262,
          182.7397161796689,
          181.7020000264895,
          177.45224360370256,
          176.3650909737395,
          175.87094194240788,
          177.4028236274369,
          178.39113198258605,
          176.21685157893015,
          178.19346712401727,
          178.73705990749036,
          175.92034137942758,
          173.69663710620853,
          171.76941368578153,
          175.72268271279538,
          178.09463812624082,
          179.1817980200724,
          179.28060943659295,
          179.3794470562168,
          179.9724471450097,
          183.629229203667,
          185.85294147756412,
          184.32104098194839,
          186.19884192520132,
          187.68131947900437,
          187.23657737418787,
          186.4953355354847,
          186.29766878531998,
          187.43423300288808,
          190.34978664365866,
          191.0910147322155,
          194.05597250547925,
          194.05595635984278,
          194.94543190730514,
          191.2392625522822,
          192.22757240688955,
          191.5851596057973,
          191.28866920264326,
          190.00386404846378,
          187.0388993950954,
          188.1754720591011,
          190.64626343479674,
          189.0155402897335,
          193.06765113525879,
          204.87801313629313,
          206.21225781068614,
          203.2967033229172,
          202.20957621455457,
          207.99122666307338,
          206.80523788547717,
          206.55817340126254,
          208.78187647946058,
          207.7441414116135,
          207.34882802679624,
          209.27602951130766,
          211.99391759676232,
          210.51142719363378,
          211.35150022142358,
          210.1161086660116,
          210.56085259219475,
          211.6974072724143,
          207.9912262807725,
          204.5815239859178,
          205.37217757842902,
          208.53479689948952,
          209.52311042329433,
          214.46468541344933,
          215.84832559003365,
          219.35685590806918,
          228.30111725739866,
          232.94621789500366,
          232.89679098061578,
          232.74855395827288,
          231.7602394505551,
          232.60030155996435,
          235.91115763754587,
          237.98662280176316,
          238.28312084527482,
          244.41069279943795,
          249.05577028953414,
          246.73321603937808,
          250.04408568499562,
          250.1923417757256,
          252.21837974413398,
          253.45379612592993,
          254.44210496892092,
          252.9596242667222,
          248.4627789232996,
          246.93089988066797,
          248.46276441919227,
          251.72422046273752,
          250.48882926729644,
          249.00635717995343,
          249.59935675707243,
          253.9973586036779,
          253.99735615575958,
          249.89585149381028,
          265.71314994994185,
          265.015718110423,
          259.38664818385723,
          259.4862745664283,
          262.9733218419447,
          264.31829816396527,
          263.7703648224979,
          266.41054730912265,
          270.49539197055435,
          269.00092694112885,
          267.0083313441325,
          267.9049988362351,
          268.6024073669661,
          267.6061056044643,
          267.8053589773275,
          271.9898339245047,
          269.84777611142755,
          264.56737694267946,
          263.77036875893043,
          261.5286980678177,
          262.67442135577096,
          267.30722435921547,
          268.40315065964677,
          275.7757568352752,
          274.331142380372,
          273.1355744339287,
          275.32745562891483,
          275.9252204168412,
          278.415969807711,
          278.7148553367219,
          268.85147842156005,
          269.3496398586381,
          268.9511375579938,
          269.3994582234297,
          265.2648164673943,
          262.226091027187,
          258.88848677671734,
          258.390333110559,
          259.9345969920751,
          259.6357249860522,
          260.1338555936074,
          261.92718885132444,
          260.9308967816178,
          259.2870024603126,
          262.02682669380295,
          259.03792569075773,
          256.89588726702345,
          259.7851581345586,
          264.36813536151436,
          267.0083312531131,
          265.1153717338329,
          265.0157184272618,
          272.98612971469925,
          269.74814974675155,
          265.0157261228847,
          264.4677653335965,
          257.8423595446614,
          253.30921561648498,
          247.43105510162005,
          251.26679993967187,
          254.95309449236868,
          257.9918384931799,
          254.95310024167168,
          257.6431332197941,
          257.84236537310153,
          268.45296849169176,
          272.238908863996,
          269.00093076324305,
          269.74815179558516,
          268.6024226998839,
          272.4381693424416,
          273.6835632425525,
          272.83669661518894,
          281.40488627821264,
          285.2406180490988,
          285.4398765790522,
          286.3863696243475,
          286.386358031685,
          285.3900698492995,
          284.7922916074116,
          285.1908111520153,
          285.1409968781016,
          295.90103552476415,
          298.2921469084568,
          295.6519605012943,
          292.9121150427162,
          296.84750731408457,
          297.29584918131934,
          293.16118804322696,
          294.25712556092947,
          290.1224897723801,
          296.39917946201473,
          297.89363681364875,
          305.0669841275665,
          308.7532961240062,
          305.6149544843161,
          293.310638472965,
          296.59843619192344,
          296.49882322230496,
          300.6334571607389,
          307.75696943268173,
          323.0502016310798,
          325.24207894683394,
          323.54833211461954,
          327.5833281611829,
          327.4339008550272,
          329.7752055871027,
          330.0243037077798,
          330.7715168276117,
          327.73280513481217,
          338.74189946770537,
          340.53524212643833,
          338.3434009907695,
          331.2696725045978,
          323.69778836951303,
          321.0077857376948,
          326.78631596324834,
          326.38781406166066,
          318.0686969777627,
          316.37497141183485,
          316.0760974665473,
          320.65906313191164,
          334.7567043458597,
          336.25115582355176,
          346.214166733254,
          352.69010538543364,
          350.69749820659973,
          350.2491492096512,
          348.6052838480112,
          345.6163749689151,
          340.1367343852085,
          330.72171776817845,
          336.3507937771207,
          339.63857460846594,
          337.99467649644055,
          342.72711177027145,
          337.3969176815799,
          332.9633982434935,
          332.1663437348018,
          333.760429613518,
          330.9707927729746,
          328.629466856883,
          327.2844539948718,
          320.80852891547784,
          325.69038398945327,
          330.82131579140406,
          329.92465204343824,
          324.7937261132516,
          329.5759487838209,
          331.07038672146206,
          324.99299832563537,
          318.81591395728026,
          308.753292162841,
          305.664737644967,
          307.9562510381507,
          303.87140812392414,
          301.33086393380484,
          305.5153179153668,
          307.60754589805816,
          305.7643755901238,
          306.36216149836855,
          305.31605896243093,
          311.24403954675614,
          315.6277427366319,
          315.029991127505,
          322.7513238349288,
          321.456115791586,
          382.08096524394523,
          396.37786306766475,
          386.7137375351765,
          401.50878701612123,
          422.08239014773613,
          468.6593854816421,
          479.91760069830184,
          462.6816067858241,
          473.2423918916706,
          474.8364580423822,
          455.3089729988589,
          449.3311920552252,
          474.6870347389847,
          467.3143962988658,
          479.8677809837628,
          483.7533283685334,
          469.25718505268003,
          470.0541951684008,
          465.2719940218815,
          468.7092363112027,
          459.6926955938231,
          455.05991754484415,
          457.94916334948033,
          462.28306762364497,
          466.4177150764489,
          474.5375404264635,
          483.2053872785201,
          488.13707946379526,
          475.53384578144625,
          469.10774422028305,
          493.666536914731,
          498.59821696465656,
          515.4855232789511,
          512.8951113241362,
          507.1165832129362,
          509.6571316953445,
          514.09067160009,
          503.03174511139514,
          494.6628168921651,
          534.7140786702392,
          531.9244825317526,
          534.5147890694367,
          538.6494513884102,
          543.9796562277023,
          547.8652494441877,
          545.8726480891761,
          564.3041895150993,
          565.2506486641954,
          574.0679033286854,
          573.8686562463005,
          574.7154616208002,
          618.0545401191415,
          586.8205528726062,
          571.2782915396801,
          573.3704908048294,
          570.6306705934687,
          570.4313944589984,
          569.6343516873661,
          568.588268219752,
          568.8871517533086,
          574.267206229848,
          583.3334709952439,
          578.8003268029524,
          567.8410607489653,
          562.8097745222901,
          565.8982333053966,
          567.0938183542878,
          555.2876569763315,
          564.0551122053148,
          550.5999755859375,
          555,
          550.1500244140625,
          543.5499877929688,
          555.9500122070312,
          560,
          554.8499755859375,
          537.7000122070312,
          528.3499755859375,
          519.75,
          502.6000061035156,
          500.6499938964844,
          498.8999938964844,
          498.70001220703125,
          501.8999938964844,
          503.5,
          507.45001220703125,
          494.95001220703125,
          497.5,
          500.45001220703125,
          498.95001220703125,
          510.8500061035156,
          514.7999877929688,
          514.6500244140625,
          502.8999938964844,
          505.45001220703125,
          500.75,
          493,
          496.8999938964844,
          498.29998779296875,
          493,
          491,
          499.70001220703125,
          497.8500061035156,
          483.75,
          483.70001220703125,
          484.70001220703125,
          481.70001220703125,
          488.75,
          492.20001220703125,
          493.1000061035156,
          482.25,
          476.79998779296875,
          467.95001220703125,
          473,
          477.95001220703125,
          478.5,
          474.6000061035156,
          500.3999938964844,
          505.29998779296875,
          515.6500244140625,
          514,
          511,
          508.54998779296875,
          497,
          523.5,
          528.3499755859375,
          532.9000244140625,
          534.4000244140625,
          533,
          522.9500122070312,
          498
         ],
         "increasing": {
          "fillcolor": "#26A69A",
          "line": {
           "color": "#26A69A"
          }
         },
         "line": {
          "width": 1
         },
         "low": [
          173.84486995525663,
          175.87092714528742,
          177.55107034754124,
          177.4028312856977,
          174.83319215468927,
          176.4639230318313,
          175.67327407608627,
          176.71100420617017,
          177.00750422644177,
          178.98412786137894,
          179.57710879118463,
          179.4288716192171,
          179.77477336138583,
          180.2195251828345,
          181.20786085678768,
          181.25724343055649,
          183.2338906354383,
          180.61484576242103,
          179.52769619037497,
          177.94641431551287,
          178.7370507703593,
          170.9787690528404,
          173.05424017939174,
          176.80983245378113,
          176.71099555094895,
          174.93204012976915,
          175.27794121256915,
          175.22853934670027,
          173.59779671504188,
          176.01918604567916,
          175.92034191224818,
          176.80983362335246,
          176.56275173038756,
          177.35341004454617,
          179.03354283677322,
          177.45223728270832,
          176.01917792254366,
          174.93203494649538,
          170.97877029181765,
          170.08929165938645,
          170.28694223060992,
          169.59511597070463,
          170.0892864787316,
          173.00482421370344,
          174.8826129489963,
          176.56274563853046,
          178.48997839739997,
          179.47829798840706,
          181.50433510167832,
          179.33002724536067,
          175.5250217155606,
          173.74605645692728,
          174.43787665568607,
          172.708331730822,
          175.1296925091441,
          173.10363256474727,
          174.6849578434084,
          175.22851763802868,
          174.38845789788098,
          172.26357325449723,
          169.99044997022966,
          168.50796616329256,
          170.97876033480222,
          174.9814470463576,
          175.9697691521027,
          176.36507873917324,
          176.7109954880121,
          176.80982216702955,
          179.03354791761777,
          182.44325219006672,
          180.17011438880624,
          182.19617174849037,
          184.2716301674945,
          184.46928787039525,
          183.82688378693845,
          184.12337540180624,
          184.86461894815812,
          186.29768247797944,
          188.57080446405672,
          189.75678921756298,
          192.0793233032842,
          189.11437052124373,
          183.8268880347519,
          189.21320385947047,
          183.9257067288546,
          183.97511776332297,
          186.05059769635008,
          184.51868928014207,
          185.16111853433986,
          187.28599307411596,
          185.01285524396582,
          188.32372850566907,
          193.4135357225433,
          202.80256846993325,
          198.00921903669058,
          198.6516305310466,
          199.44229405557917,
          203.9391259254825,
          203.09906523425576,
          205.42160615649385,
          205.1251085154964,
          204.58153849958777,
          204.13678646621182,
          208.43597168880643,
          207.5464775148502,
          207.99121490356498,
          207.15115895810277,
          208.78187971344477,
          206.3605038015481,
          202.50606611286318,
          201.46833291398974,
          202.55546944082118,
          204.0379534763124,
          203.79087136730897,
          203.7414451105715,
          209.81960376427742,
          210.51142577539366,
          219.8015891108486,
          225.43502083841452,
          221.58056940178196,
          227.31281278302657,
          226.3244982267681,
          228.3999563039925,
          229.78359803926816,
          234.4780961135712,
          233.3415382070942,
          235.81234158539516,
          244.01534985861187,
          240.40799627042932,
          244.11418641973881,
          247.32622966199818,
          247.42505354014148,
          247.22738364605095,
          248.75926979052062,
          245.10251051432155,
          241.39632150112232,
          243.0764562275607,
          244.1635966518137,
          246.23906063349162,
          246.14024243287366,
          246.18966399941186,
          247.32622559365527,
          249.59935288131237,
          243.8671114063567,
          244.21303119954797,
          249.07493230978622,
          254.05642149683405,
          250.81846418057094,
          254.55457878428382,
          256.3479044158437,
          256.2980977433809,
          257.7427633595214,
          260.0342349843082,
          260.5821969353694,
          260.03422937642455,
          260.7814579452488,
          263.12277215985864,
          263.1725617963177,
          262.8736820276334,
          263.4714794154287,
          266.2113074901687,
          263.02311717943945,
          255.89958767197365,
          257.8922060932038,
          258.489995833083,
          259.2870083079905,
          260.8811088876565,
          263.22241012348337,
          264.76665683160854,
          268.9012965782993,
          268.154075610021,
          271.4916953205192,
          271.34223561060645,
          273.2351990852536,
          264.7168559973117,
          262.5747721085586,
          265.2150020328649,
          263.22241382757056,
          264.51759531363854,
          259.13757890034634,
          256.1984596493825,
          252.81105244008396,
          252.66160983922543,
          255.6505202569885,
          254.40515121685846,
          255.55087093068386,
          257.59327901248065,
          256.8958949816879,
          254.15606497670706,
          254.55457878428382,
          256.34790430056887,
          252.26308447676803,
          253.55828473727777,
          257.9918232687285,
          261.82756042514586,
          260.9807338182983,
          260.08402278338923,
          263.7205542621573,
          262.8238545165982,
          261.5784799192035,
          256.04902077655265,
          249.12475205598398,
          246.38493528021675,
          240.8056524791659,
          245.6377122980108,
          248.07863244529742,
          253.06014245280798,
          251.0675372930672,
          252.6118162116128,
          254.6542243882602,
          256.7962497458293,
          265.9622325506774,
          264.5673847425053,
          264.9659252552539,
          265.0655402916702,
          266.310901768908,
          270.9935416598022,
          269.7979640903816,
          270.8441024821696,
          279.96024131777915,
          279.312639236035,
          280.508176892105,
          281.7535401497966,
          279.8107852798028,
          279.9602317052336,
          282.3513507067758,
          280.70745088679416,
          284.44358802128,
          291.21841241662156,
          289.2756479732676,
          288.22949423901514,
          289.2756235249582,
          286.18711268123826,
          289.17598922530715,
          286.78487773259025,
          284.3439331705867,
          286.5358178902603,
          292.21471585634197,
          285.93801748581734,
          302.9747695547018,
          277.46948597842555,
          280.80708885102484,
          289.4250661092809,
          291.71656599335984,
          294.55602245120616,
          298.9397110587906,
          304.8677307605564,
          317.1720445584795,
          314.3325597603155,
          316.82330359710505,
          322.8011131819579,
          319.9616473157399,
          321.4063166503796,
          323.64797969975535,
          321.60553753161247,
          326.4874252664706,
          332.7641162442726,
          320.55944438233365,
          321.5059469505352,
          313.087201926907,
          308.2053281035377,
          319.8122177567156,
          312.190542194367,
          310.24773781531104,
          306.31236832540526,
          310.14810175881917,
          314.2827511605625,
          317.5207314327709,
          325.0427839627667,
          333.26226984826894,
          338.74190912725265,
          344.3709889619987,
          342.87653747192405,
          342.2787742202129,
          331.2696647422135,
          325.0427989955421,
          320.21073704866666,
          322.7513085901222,
          331.2696628900689,
          334.00947765786793,
          334.7567138221256,
          326.2881811079948,
          324.39521406471056,
          322.1037097800285,
          327.7826308741714,
          326.48744384838096,
          323.79740716138986,
          314.8805104715606,
          315.22924407079915,
          320.1609325083341,
          322.8011150635694,
          322.5520400657241,
          315.3786810931982,
          321.1572340459885,
          320.80851170758444,
          317.0226001364564,
          296.84751704802335,
          293.5597206939235,
          297.74417322490325,
          301.48030282649773,
          289.2756236179189,
          292.61324134162595,
          301.6795577258892,
          302.2773361878004,
          302.37696264960925,
          302.5264015255069,
          301.67954068921466,
          303.8714273893874,
          310.8455161879106,
          310.7458839866971,
          313.83442869892235,
          317.71999164151026,
          319.81222905686155,
          373.1640605649974,
          376.75074014715364,
          379.09204332415413,
          397.3741680915625,
          405.6434277513429,
          443.7519016087725,
          437.3755987263255,
          437.47523614331556,
          457.30157668968974,
          439.86632730633744,
          431.8959462437697,
          442.50653411768127,
          451.4234331645172,
          455.30899758863325,
          458.2978820800781,
          456.8532409292342,
          451.473211493695,
          449.63007542288085,
          444.15042279568024,
          443.7020968716804,
          443.4530313665582,
          433.3903811644271,
          449.3809741563388,
          451.9713689122238,
          458.5967450424341,
          469.3069933588528,
          471.0505142599234,
          460.43991105399436,
          458.64659682628667,
          459.6927086162573,
          466.7166252897851,
          490.6776347805353,
          499.79377538128955,
          493.91561125307095,
          483.40465725914856,
          491.2754133793892,
          427.6118711671039,
          449.13190698212196,
          490.27910451352363,
          519.0721909091257,
          520.4171239902009,
          521.0647375470849,
          527.8395883316118,
          539.1476267495086,
          537.2048282493447,
          541.1900236942687,
          547.2674500259662,
          556.4831891766135,
          564.9019584924521,
          555.2876173355991,
          572.4240226582373,
          564.2543392066669,
          555.1880265191691,
          557.1308174756074,
          560.9167482219518,
          557.5293008793736,
          557.9776330720858,
          561.4647008246877,
          562.9093533110671,
          563.008970289652,
          565.5993485990946,
          547.0183418336472,
          560.0699347776942,
          553.5441378471414,
          556.4831889168871,
          552.5976694478086,
          545.5239313132356,
          536.0092506938021,
          529,
          523.4000244140625,
          538.0499877929688,
          532.5999755859375,
          539.4000244140625,
          549.4000244140625,
          530,
          520.5,
          508.3999938964844,
          502.75,
          481.25,
          479.79998779296875,
          483.20001220703125,
          485,
          486.45001220703125,
          487.29998779296875,
          490.95001220703125,
          485,
          488.95001220703125,
          494.1499938964844,
          490.6000061035156,
          498.20001220703125,
          508,
          498.45001220703125,
          495.25,
          497.25,
          490.1499938964844,
          484.6000061035156,
          491.04998779296875,
          487,
          488.3500061035156,
          482.25,
          483.54998779296875,
          482.04998779296875,
          466.5,
          475.8500061035156,
          470.1000061035156,
          474.20001220703125,
          477.5,
          482,
          481.04998779296875,
          469.6499938964844,
          454.04998779296875,
          461.20001220703125,
          466,
          470.6499938964844,
          469.20001220703125,
          465.3999938964844,
          470.04998779296875,
          488.54998779296875,
          504.25,
          493.54998779296875,
          493.29998779296875,
          473.8500061035156,
          478.1000061035156,
          494.1499938964844,
          503.6000061035156,
          510.1000061035156,
          521.3499755859375,
          519.2000122070312,
          508.45001220703125,
          486
         ],
         "open": [
          175.82150299661492,
          175.92034598891513,
          178.8853037836583,
          179.8736228077826,
          178.53937922761665,
          177.15574160078043,
          178.39114470173598,
          176.90866450236052,
          180.07127655391292,
          178.98412786137894,
          181.94907748912107,
          180.6642672994919,
          180.26893163349575,
          180.2195251828345,
          182.0479209472891,
          181.75140168972433,
          187.8295718493594,
          184.71635332755653,
          182.64090238705174,
          181.60318287290508,
          181.8502418126642,
          180.61485574801492,
          173.7954776186287,
          179.675959621762,
          179.67594509012423,
          178.88530657337975,
          179.8736070077599,
          180.0712847415667,
          175.67326751109152,
          176.7110046242391,
          177.40281670364354,
          178.88530451456705,
          177.89698515122748,
          178.04522864528616,
          179.08296168198703,
          179.28061382834738,
          178.73704834757697,
          176.5627512739604,
          175.08027811343297,
          172.06592484505967,
          171.81883587806774,
          173.15304629173605,
          171.17642564943066,
          173.30132221043633,
          176.56274809136013,
          177.600481032211,
          178.8358801482489,
          180.07127889149564,
          183.43156451001067,
          181.8502373552452,
          181.15842291902504,
          176.7110061743475,
          175.8709326829302,
          175.42620247336714,
          175.1296925091441,
          174.04254532380313,
          175.5250329798116,
          175.6238382039553,
          175.72269131594035,
          175.92034137942758,
          173.44955796380992,
          170.48459919746608,
          170.97876033480222,
          175.12968849568017,
          176.80982919234015,
          177.89697235051642,
          177.89697228715718,
          178.93471176664207,
          179.379464763417,
          183.67864795224074,
          183.1350641096955,
          183.23389211696235,
          186.1988445539553,
          184.61754440911594,
          186.14943378096837,
          185.70467282594637,
          185.6058563817269,
          186.29768247797944,
          188.71904591726616,
          190.00386837019,
          192.5240627249072,
          194.6983527794125,
          190.25094594994485,
          190.74509755542255,
          190.34976398048394,
          186.5447467977759,
          187.78015172539983,
          186.7918202677571,
          186.05059743008673,
          187.58249106606175,
          188.12606142645794,
          188.32372850566907,
          193.51237340458937,
          203.93914163719415,
          203.09904303679426,
          202.20957621455457,
          199.7387920534058,
          206.3110796109599,
          204.48270246885255,
          206.16284358778188,
          207.54648111237123,
          205.07569680514231,
          204.48268821048424,
          209.22662801063163,
          209.47369178995675,
          210.26434598436356,
          209.52311269222423,
          209.6219548474561,
          209.96785326678915,
          207.54648682510734,
          203.2967094665219,
          203.988525390625,
          205.7180886342813,
          208.97953329996128,
          206.95347380916004,
          214.5635261566931,
          210.70908606987814,
          220.39458505800823,
          228.05405377699546,
          227.06572931761383,
          232.2049768246454,
          230.96958316553778,
          230.27775168033924,
          230.27775631462143,
          235.76291061522772,
          237.19596663266972,
          237.1959787626382,
          244.75658727018785,
          246.73321603937808,
          246.04140066484456,
          250.1923417757256,
          249.9946675136852,
          252.95962276102998,
          249.74758632928354,
          252.9596242667222,
          247.07914176164002,
          245.69550417400166,
          246.4367276394287,
          247.67213168512015,
          249.79701069098107,
          248.56161773886942,
          247.37564443904756,
          250.14293001115846,
          253.5526016389356,
          249.54993466108434,
          249.87197513364302,
          262.9733159033883,
          259.38664818385723,
          256.7464503329379,
          257.09512920182607,
          262.9733178931167,
          260.98073762079855,
          262.9733314113187,
          262.5249936804459,
          268.9511241165202,
          263.820160002042,
          267.6559238967435,
          265.9622192216061,
          267.6061056044643,
          264.01943211266837,
          266.7094573691513,
          268.8514764251418,
          264.16886313793225,
          259.43645860207334,
          260.9807453384908,
          260.63201904296875,
          261.0803506049973,
          267.0083370693203,
          264.76665683160854,
          273.1854037482311,
          271.9898357853611,
          271.9400423920856,
          275.9252204168412,
          275.77575121752994,
          278.7148553367219,
          267.8053455003996,
          267.8053570241845,
          267.00834082668337,
          268.7518694382448,
          264.9659386952091,
          260.88108036241056,
          257.34420397714786,
          255.25199513849836,
          257.94199750512223,
          256.7464617468573,
          260.1338555936074,
          258.091428869712,
          260.73165507568046,
          256.2483004723033,
          258.9382914769374,
          256.89588738616885,
          255.05272671568628,
          254.05643460906023,
          257.9918232687285,
          263.3220100403685,
          263.86999703610223,
          261.7279416011159,
          264.11906807862,
          269.00092495520926,
          264.0194264006182,
          264.4677653335965,
          257.0951347425753,
          250.86828422918109,
          245.73733332294591,
          246.68383010108207,
          250.4697457132368,
          254.05644222624423,
          254.1560726026035,
          252.6118162116128,
          257.3442154937836,
          257.04532467283786,
          268.5525875976624,
          268.5027808914592,
          266.0120278094967,
          267.40685082013306,
          268.5027733046856,
          272.93633840341704,
          270.9935359697576,
          271.19281348765645,
          281.8532048400641,
          282.7000522837908,
          286.3863696243475,
          283.4472617845358,
          284.9915256335352,
          282.1521033324037,
          283.9952392578125,
          284.99152759383446,
          284.8421018535134,
          296.2995473560895,
          294.2073136545897,
          291.9158153316866,
          290.6206341987921,
          296.4489882847952,
          289.62433625418475,
          293.9084145813428,
          288.2294959862253,
          288.8272951830623,
          297.29585085951277,
          294.45636786578046,
          304.8179302309191,
          305.5153184263729,
          283.945426962841,
          294.30692861332585,
          292.2645491199836,
          297.09660512071036,
          300.88250762418573,
          307.5577523114826,
          318.66649424503936,
          322.5520324006407,
          320.9579412580862,
          325.7900123780871,
          324.2955571558971,
          330.0243037077798,
          323.89705463712556,
          325.74020569433213,
          327.2844528680624,
          340.53524212643833,
          338.3434009907695,
          324.7937240195455,
          320.7587222982752,
          318.21812824594986,
          321.8048172442964,
          324.6940922735245,
          313.8344230164299,
          314.3325690993588,
          313.5355452516099,
          317.71996686782734,
          318.8159089008187,
          336.25115582355176,
          334.5574473749051,
          345.6163712021395,
          347.7085990741571,
          348.0074748728971,
          346.71232036373806,
          344.2713642341435,
          339.73822055932527,
          326.53724661084533,
          325.98928270153397,
          337.745611187168,
          336.7493018593866,
          339.0407905573919,
          337.3969176815799,
          330.5722544506005,
          325.6903951031213,
          332.86376588354733,
          329.82502372407606,
          327.68296996639566,
          325.5409295063146,
          316.8233297985154,
          320.8085212684729,
          326.58704190553937,
          328.7789134260663,
          324.2955762265748,
          322.3029726902313,
          329.775209239784,
          323.00039877834064,
          317.86941705085763,
          296.10030334627385,
          304.6684379389473,
          303.871416085254,
          303.87140812392414,
          295.35306558488213,
          302.57625184122224,
          304.6684494919879,
          303.871412217894,
          303.4230651855469,
          304.31975925024113,
          303.8714273893874,
          310.99495506668535,
          313.1369972907045,
          314.1831397006302,
          318.9653663582022,
          323.29927828333825,
          378.5939063842121,
          382.47946364526683,
          382.1307453072034,
          399.51620650937235,
          408.4828880541134,
          465.0229073061723,
          447.98618518852726,
          445.34599826437216,
          469.5560512234338,
          455.3089729988589,
          442.9050464371407,
          445.7445083508131,
          467.21479064530456,
          456.20566130601657,
          476.03200535522774,
          464.8236389768381,
          469.2571675552219,
          460.29049515655083,
          452.1208209106653,
          459.29418177733345,
          446.29249177699745,
          450.5765514519819,
          453.3163701912898,
          460.2904777842776,
          463.2793658483545,
          473.7405394864666,
          474.58739664991936,
          474.2386683029848,
          467.264583598505,
          463.22959104885376,
          478.12423906815695,
          496.6056305504062,
          508.013248514078,
          503.6295340159906,
          499.14618135560676,
          510.8028945831144,
          503.03174511139514,
          461.23697304852425,
          491.823356937255,
          530.0314886058634,
          528.0388410192012,
          523.05733692585,
          528.4374046592063,
          547.8652494441877,
          542.9833545394623,
          542.6844732842882,
          564.9019680693589,
          558.9739384440849,
          572.7727508445545,
          564.9019338312296,
          572.87236971814,
          579.8464546211491,
          565.9978543044322,
          564.8521403317976,
          565.1510220762028,
          569.5347611935425,
          563.3078729359431,
          567.8908462467099,
          566.944355097718,
          567.8908634394348,
          570.2819693240264,
          578.8003268029524,
          567.193441580813,
          561.3651276679369,
          559.223013109827,
          562.1123197053734,
          554.5404321427887,
          555.3872924578841,
          538,
          548.7999877929688,
          546.75,
          535,
          541.7999877929688,
          557,
          554.5,
          537.7000122070312,
          525.9000244140625,
          509.54998779296875,
          490,
          488.04998779296875,
          489.8999938964844,
          498.70001220703125,
          488.75,
          488,
          500,
          494.45001220703125,
          490.1000061035156,
          498.04998779296875,
          497.95001220703125,
          501.29998779296875,
          511.75,
          513,
          502.79998779296875,
          499.20001220703125,
          499.3500061035156,
          491.75,
          492,
          493,
          490.5,
          484.75,
          486,
          497.3999938964844,
          483,
          479.3999938964844,
          479,
          475.8500061035156,
          479.79998779296875,
          489.45001220703125,
          493.1000061035156,
          481,
          473.5,
          465,
          468,
          471.1499938964844,
          476.70001220703125,
          473.70001220703125,
          470.04998779296875,
          498,
          507.5,
          507.95001220703125,
          494.04998779296875,
          505,
          480.5,
          498.29998779296875,
          527,
          516.2000122070312,
          533.2000122070312,
          531,
          522.25,
          495.04998779296875
         ],
         "type": "candlestick",
         "x": [
          "2022-12-29T00:00:00+05:30",
          "2022-12-30T00:00:00+05:30",
          "2023-01-02T00:00:00+05:30",
          "2023-01-03T00:00:00+05:30",
          "2023-01-04T00:00:00+05:30",
          "2023-01-05T00:00:00+05:30",
          "2023-01-06T00:00:00+05:30",
          "2023-01-09T00:00:00+05:30",
          "2023-01-10T00:00:00+05:30",
          "2023-01-11T00:00:00+05:30",
          "2023-01-12T00:00:00+05:30",
          "2023-01-13T00:00:00+05:30",
          "2023-01-16T00:00:00+05:30",
          "2023-01-17T00:00:00+05:30",
          "2023-01-18T00:00:00+05:30",
          "2023-01-19T00:00:00+05:30",
          "2023-01-20T00:00:00+05:30",
          "2023-01-23T00:00:00+05:30",
          "2023-01-24T00:00:00+05:30",
          "2023-01-25T00:00:00+05:30",
          "2023-01-27T00:00:00+05:30",
          "2023-01-30T00:00:00+05:30",
          "2023-01-31T00:00:00+05:30",
          "2023-02-01T00:00:00+05:30",
          "2023-02-02T00:00:00+05:30",
          "2023-02-03T00:00:00+05:30",
          "2023-02-06T00:00:00+05:30",
          "2023-02-07T00:00:00+05:30",
          "2023-02-08T00:00:00+05:30",
          "2023-02-09T00:00:00+05:30",
          "2023-02-10T00:00:00+05:30",
          "2023-02-13T00:00:00+05:30",
          "2023-02-14T00:00:00+05:30",
          "2023-02-15T00:00:00+05:30",
          "2023-02-16T00:00:00+05:30",
          "2023-02-17T00:00:00+05:30",
          "2023-02-20T00:00:00+05:30",
          "2023-02-21T00:00:00+05:30",
          "2023-02-22T00:00:00+05:30",
          "2023-02-23T00:00:00+05:30",
          "2023-02-24T00:00:00+05:30",
          "2023-02-27T00:00:00+05:30",
          "2023-02-28T00:00:00+05:30",
          "2023-03-01T00:00:00+05:30",
          "2023-03-02T00:00:00+05:30",
          "2023-03-03T00:00:00+05:30",
          "2023-03-06T00:00:00+05:30",
          "2023-03-08T00:00:00+05:30",
          "2023-03-09T00:00:00+05:30",
          "2023-03-10T00:00:00+05:30",
          "2023-03-13T00:00:00+05:30",
          "2023-03-14T00:00:00+05:30",
          "2023-03-15T00:00:00+05:30",
          "2023-03-16T00:00:00+05:30",
          "2023-03-17T00:00:00+05:30",
          "2023-03-20T00:00:00+05:30",
          "2023-03-21T00:00:00+05:30",
          "2023-03-22T00:00:00+05:30",
          "2023-03-23T00:00:00+05:30",
          "2023-03-24T00:00:00+05:30",
          "2023-03-27T00:00:00+05:30",
          "2023-03-28T00:00:00+05:30",
          "2023-03-29T00:00:00+05:30",
          "2023-03-31T00:00:00+05:30",
          "2023-04-03T00:00:00+05:30",
          "2023-04-05T00:00:00+05:30",
          "2023-04-06T00:00:00+05:30",
          "2023-04-10T00:00:00+05:30",
          "2023-04-11T00:00:00+05:30",
          "2023-04-12T00:00:00+05:30",
          "2023-04-13T00:00:00+05:30",
          "2023-04-17T00:00:00+05:30",
          "2023-04-18T00:00:00+05:30",
          "2023-04-19T00:00:00+05:30",
          "2023-04-20T00:00:00+05:30",
          "2023-04-21T00:00:00+05:30",
          "2023-04-24T00:00:00+05:30",
          "2023-04-25T00:00:00+05:30",
          "2023-04-26T00:00:00+05:30",
          "2023-04-27T00:00:00+05:30",
          "2023-04-28T00:00:00+05:30",
          "2023-05-02T00:00:00+05:30",
          "2023-05-03T00:00:00+05:30",
          "2023-05-04T00:00:00+05:30",
          "2023-05-05T00:00:00+05:30",
          "2023-05-08T00:00:00+05:30",
          "2023-05-09T00:00:00+05:30",
          "2023-05-10T00:00:00+05:30",
          "2023-05-11T00:00:00+05:30",
          "2023-05-12T00:00:00+05:30",
          "2023-05-15T00:00:00+05:30",
          "2023-05-16T00:00:00+05:30",
          "2023-05-17T00:00:00+05:30",
          "2023-05-18T00:00:00+05:30",
          "2023-05-19T00:00:00+05:30",
          "2023-05-22T00:00:00+05:30",
          "2023-05-23T00:00:00+05:30",
          "2023-05-24T00:00:00+05:30",
          "2023-05-25T00:00:00+05:30",
          "2023-05-26T00:00:00+05:30",
          "2023-05-29T00:00:00+05:30",
          "2023-05-30T00:00:00+05:30",
          "2023-05-31T00:00:00+05:30",
          "2023-06-01T00:00:00+05:30",
          "2023-06-02T00:00:00+05:30",
          "2023-06-05T00:00:00+05:30",
          "2023-06-06T00:00:00+05:30",
          "2023-06-07T00:00:00+05:30",
          "2023-06-08T00:00:00+05:30",
          "2023-06-09T00:00:00+05:30",
          "2023-06-12T00:00:00+05:30",
          "2023-06-13T00:00:00+05:30",
          "2023-06-14T00:00:00+05:30",
          "2023-06-15T00:00:00+05:30",
          "2023-06-16T00:00:00+05:30",
          "2023-06-19T00:00:00+05:30",
          "2023-06-20T00:00:00+05:30",
          "2023-06-21T00:00:00+05:30",
          "2023-06-22T00:00:00+05:30",
          "2023-06-23T00:00:00+05:30",
          "2023-06-26T00:00:00+05:30",
          "2023-06-27T00:00:00+05:30",
          "2023-06-28T00:00:00+05:30",
          "2023-06-30T00:00:00+05:30",
          "2023-07-03T00:00:00+05:30",
          "2023-07-04T00:00:00+05:30",
          "2023-07-05T00:00:00+05:30",
          "2023-07-06T00:00:00+05:30",
          "2023-07-07T00:00:00+05:30",
          "2023-07-10T00:00:00+05:30",
          "2023-07-11T00:00:00+05:30",
          "2023-07-12T00:00:00+05:30",
          "2023-07-13T00:00:00+05:30",
          "2023-07-14T00:00:00+05:30",
          "2023-07-17T00:00:00+05:30",
          "2023-07-18T00:00:00+05:30",
          "2023-07-19T00:00:00+05:30",
          "2023-07-20T00:00:00+05:30",
          "2023-07-21T00:00:00+05:30",
          "2023-07-24T00:00:00+05:30",
          "2023-07-25T00:00:00+05:30",
          "2023-07-26T00:00:00+05:30",
          "2023-07-27T00:00:00+05:30",
          "2023-07-28T00:00:00+05:30",
          "2023-07-31T00:00:00+05:30",
          "2023-08-01T00:00:00+05:30",
          "2023-08-02T00:00:00+05:30",
          "2023-08-03T00:00:00+05:30",
          "2023-08-04T00:00:00+05:30",
          "2023-08-07T00:00:00+05:30",
          "2023-08-08T00:00:00+05:30",
          "2023-08-09T00:00:00+05:30",
          "2023-08-10T00:00:00+05:30",
          "2023-08-11T00:00:00+05:30",
          "2023-08-14T00:00:00+05:30",
          "2023-08-16T00:00:00+05:30",
          "2023-08-17T00:00:00+05:30",
          "2023-08-18T00:00:00+05:30",
          "2023-08-21T00:00:00+05:30",
          "2023-08-22T00:00:00+05:30",
          "2023-08-23T00:00:00+05:30",
          "2023-08-24T00:00:00+05:30",
          "2023-08-25T00:00:00+05:30",
          "2023-08-28T00:00:00+05:30",
          "2023-08-29T00:00:00+05:30",
          "2023-08-30T00:00:00+05:30",
          "2023-08-31T00:00:00+05:30",
          "2023-09-01T00:00:00+05:30",
          "2023-09-04T00:00:00+05:30",
          "2023-09-05T00:00:00+05:30",
          "2023-09-06T00:00:00+05:30",
          "2023-09-07T00:00:00+05:30",
          "2023-09-08T00:00:00+05:30",
          "2023-09-11T00:00:00+05:30",
          "2023-09-12T00:00:00+05:30",
          "2023-09-13T00:00:00+05:30",
          "2023-09-14T00:00:00+05:30",
          "2023-09-15T00:00:00+05:30",
          "2023-09-18T00:00:00+05:30",
          "2023-09-20T00:00:00+05:30",
          "2023-09-21T00:00:00+05:30",
          "2023-09-22T00:00:00+05:30",
          "2023-09-25T00:00:00+05:30",
          "2023-09-26T00:00:00+05:30",
          "2023-09-27T00:00:00+05:30",
          "2023-09-28T00:00:00+05:30",
          "2023-09-29T00:00:00+05:30",
          "2023-10-03T00:00:00+05:30",
          "2023-10-04T00:00:00+05:30",
          "2023-10-05T00:00:00+05:30",
          "2023-10-06T00:00:00+05:30",
          "2023-10-09T00:00:00+05:30",
          "2023-10-10T00:00:00+05:30",
          "2023-10-11T00:00:00+05:30",
          "2023-10-12T00:00:00+05:30",
          "2023-10-13T00:00:00+05:30",
          "2023-10-16T00:00:00+05:30",
          "2023-10-17T00:00:00+05:30",
          "2023-10-18T00:00:00+05:30",
          "2023-10-19T00:00:00+05:30",
          "2023-10-20T00:00:00+05:30",
          "2023-10-23T00:00:00+05:30",
          "2023-10-25T00:00:00+05:30",
          "2023-10-26T00:00:00+05:30",
          "2023-10-27T00:00:00+05:30",
          "2023-10-30T00:00:00+05:30",
          "2023-10-31T00:00:00+05:30",
          "2023-11-01T00:00:00+05:30",
          "2023-11-02T00:00:00+05:30",
          "2023-11-03T00:00:00+05:30",
          "2023-11-06T00:00:00+05:30",
          "2023-11-07T00:00:00+05:30",
          "2023-11-08T00:00:00+05:30",
          "2023-11-09T00:00:00+05:30",
          "2023-11-10T00:00:00+05:30",
          "2023-11-13T00:00:00+05:30",
          "2023-11-15T00:00:00+05:30",
          "2023-11-16T00:00:00+05:30",
          "2023-11-17T00:00:00+05:30",
          "2023-11-20T00:00:00+05:30",
          "2023-11-21T00:00:00+05:30",
          "2023-11-22T00:00:00+05:30",
          "2023-11-23T00:00:00+05:30",
          "2023-11-24T00:00:00+05:30",
          "2023-11-28T00:00:00+05:30",
          "2023-11-29T00:00:00+05:30",
          "2023-11-30T00:00:00+05:30",
          "2023-12-01T00:00:00+05:30",
          "2023-12-04T00:00:00+05:30",
          "2023-12-05T00:00:00+05:30",
          "2023-12-06T00:00:00+05:30",
          "2023-12-07T00:00:00+05:30",
          "2023-12-08T00:00:00+05:30",
          "2023-12-11T00:00:00+05:30",
          "2023-12-12T00:00:00+05:30",
          "2023-12-13T00:00:00+05:30",
          "2023-12-14T00:00:00+05:30",
          "2023-12-15T00:00:00+05:30",
          "2023-12-18T00:00:00+05:30",
          "2023-12-19T00:00:00+05:30",
          "2023-12-20T00:00:00+05:30",
          "2023-12-21T00:00:00+05:30",
          "2023-12-22T00:00:00+05:30",
          "2023-12-26T00:00:00+05:30",
          "2023-12-27T00:00:00+05:30",
          "2023-12-28T00:00:00+05:30",
          "2023-12-29T00:00:00+05:30",
          "2024-01-01T00:00:00+05:30",
          "2024-01-02T00:00:00+05:30",
          "2024-01-03T00:00:00+05:30",
          "2024-01-04T00:00:00+05:30",
          "2024-01-05T00:00:00+05:30",
          "2024-01-08T00:00:00+05:30",
          "2024-01-09T00:00:00+05:30",
          "2024-01-10T00:00:00+05:30",
          "2024-01-11T00:00:00+05:30",
          "2024-01-12T00:00:00+05:30",
          "2024-01-15T00:00:00+05:30",
          "2024-01-16T00:00:00+05:30",
          "2024-01-17T00:00:00+05:30",
          "2024-01-18T00:00:00+05:30",
          "2024-01-19T00:00:00+05:30",
          "2024-01-23T00:00:00+05:30",
          "2024-01-24T00:00:00+05:30",
          "2024-01-25T00:00:00+05:30",
          "2024-01-29T00:00:00+05:30",
          "2024-01-30T00:00:00+05:30",
          "2024-01-31T00:00:00+05:30",
          "2024-02-01T00:00:00+05:30",
          "2024-02-02T00:00:00+05:30",
          "2024-02-05T00:00:00+05:30",
          "2024-02-06T00:00:00+05:30",
          "2024-02-07T00:00:00+05:30",
          "2024-02-08T00:00:00+05:30",
          "2024-02-09T00:00:00+05:30",
          "2024-02-12T00:00:00+05:30",
          "2024-02-13T00:00:00+05:30",
          "2024-02-14T00:00:00+05:30",
          "2024-02-15T00:00:00+05:30",
          "2024-02-16T00:00:00+05:30",
          "2024-02-19T00:00:00+05:30",
          "2024-02-20T00:00:00+05:30",
          "2024-02-21T00:00:00+05:30",
          "2024-02-22T00:00:00+05:30",
          "2024-02-23T00:00:00+05:30",
          "2024-02-26T00:00:00+05:30",
          "2024-02-27T00:00:00+05:30",
          "2024-02-28T00:00:00+05:30",
          "2024-02-29T00:00:00+05:30",
          "2024-03-01T00:00:00+05:30",
          "2024-03-04T00:00:00+05:30",
          "2024-03-05T00:00:00+05:30",
          "2024-03-06T00:00:00+05:30",
          "2024-03-07T00:00:00+05:30",
          "2024-03-11T00:00:00+05:30",
          "2024-03-12T00:00:00+05:30",
          "2024-03-13T00:00:00+05:30",
          "2024-03-14T00:00:00+05:30",
          "2024-03-15T00:00:00+05:30",
          "2024-03-18T00:00:00+05:30",
          "2024-03-19T00:00:00+05:30",
          "2024-03-20T00:00:00+05:30",
          "2024-03-21T00:00:00+05:30",
          "2024-03-22T00:00:00+05:30",
          "2024-03-26T00:00:00+05:30",
          "2024-03-27T00:00:00+05:30",
          "2024-03-28T00:00:00+05:30",
          "2024-04-01T00:00:00+05:30",
          "2024-04-02T00:00:00+05:30",
          "2024-04-03T00:00:00+05:30",
          "2024-04-04T00:00:00+05:30",
          "2024-04-05T00:00:00+05:30",
          "2024-04-08T00:00:00+05:30",
          "2024-04-09T00:00:00+05:30",
          "2024-04-10T00:00:00+05:30",
          "2024-04-12T00:00:00+05:30",
          "2024-04-15T00:00:00+05:30",
          "2024-04-16T00:00:00+05:30",
          "2024-04-18T00:00:00+05:30",
          "2024-04-19T00:00:00+05:30",
          "2024-04-22T00:00:00+05:30",
          "2024-04-23T00:00:00+05:30",
          "2024-04-24T00:00:00+05:30",
          "2024-04-25T00:00:00+05:30",
          "2024-04-26T00:00:00+05:30",
          "2024-04-29T00:00:00+05:30",
          "2024-04-30T00:00:00+05:30",
          "2024-05-02T00:00:00+05:30",
          "2024-05-03T00:00:00+05:30",
          "2024-05-06T00:00:00+05:30",
          "2024-05-07T00:00:00+05:30",
          "2024-05-08T00:00:00+05:30",
          "2024-05-09T00:00:00+05:30",
          "2024-05-10T00:00:00+05:30",
          "2024-05-13T00:00:00+05:30",
          "2024-05-14T00:00:00+05:30",
          "2024-05-15T00:00:00+05:30",
          "2024-05-16T00:00:00+05:30",
          "2024-05-17T00:00:00+05:30",
          "2024-05-21T00:00:00+05:30",
          "2024-05-22T00:00:00+05:30",
          "2024-05-23T00:00:00+05:30",
          "2024-05-24T00:00:00+05:30",
          "2024-05-27T00:00:00+05:30",
          "2024-05-28T00:00:00+05:30",
          "2024-05-29T00:00:00+05:30",
          "2024-05-30T00:00:00+05:30",
          "2024-05-31T00:00:00+05:30",
          "2024-06-03T00:00:00+05:30",
          "2024-06-04T00:00:00+05:30",
          "2024-06-05T00:00:00+05:30",
          "2024-06-06T00:00:00+05:30",
          "2024-06-07T00:00:00+05:30",
          "2024-06-10T00:00:00+05:30",
          "2024-06-11T00:00:00+05:30",
          "2024-06-12T00:00:00+05:30",
          "2024-06-13T00:00:00+05:30",
          "2024-06-14T00:00:00+05:30",
          "2024-06-18T00:00:00+05:30",
          "2024-06-19T00:00:00+05:30",
          "2024-06-20T00:00:00+05:30",
          "2024-06-21T00:00:00+05:30",
          "2024-06-24T00:00:00+05:30",
          "2024-06-25T00:00:00+05:30",
          "2024-06-26T00:00:00+05:30",
          "2024-06-27T00:00:00+05:30",
          "2024-06-28T00:00:00+05:30",
          "2024-07-01T00:00:00+05:30",
          "2024-07-02T00:00:00+05:30",
          "2024-07-03T00:00:00+05:30",
          "2024-07-04T00:00:00+05:30",
          "2024-07-05T00:00:00+05:30",
          "2024-07-08T00:00:00+05:30",
          "2024-07-09T00:00:00+05:30",
          "2024-07-10T00:00:00+05:30",
          "2024-07-11T00:00:00+05:30",
          "2024-07-12T00:00:00+05:30",
          "2024-07-15T00:00:00+05:30",
          "2024-07-16T00:00:00+05:30",
          "2024-07-18T00:00:00+05:30",
          "2024-07-19T00:00:00+05:30",
          "2024-07-22T00:00:00+05:30",
          "2024-07-23T00:00:00+05:30",
          "2024-07-24T00:00:00+05:30",
          "2024-07-25T00:00:00+05:30",
          "2024-07-26T00:00:00+05:30",
          "2024-07-29T00:00:00+05:30",
          "2024-07-30T00:00:00+05:30",
          "2024-07-31T00:00:00+05:30",
          "2024-08-01T00:00:00+05:30",
          "2024-08-02T00:00:00+05:30",
          "2024-08-05T00:00:00+05:30",
          "2024-08-06T00:00:00+05:30",
          "2024-08-07T00:00:00+05:30",
          "2024-08-08T00:00:00+05:30",
          "2024-08-09T00:00:00+05:30",
          "2024-08-12T00:00:00+05:30",
          "2024-08-13T00:00:00+05:30",
          "2024-08-14T00:00:00+05:30",
          "2024-08-16T00:00:00+05:30",
          "2024-08-19T00:00:00+05:30",
          "2024-08-20T00:00:00+05:30",
          "2024-08-21T00:00:00+05:30",
          "2024-08-22T00:00:00+05:30",
          "2024-08-23T00:00:00+05:30",
          "2024-08-26T00:00:00+05:30",
          "2024-08-27T00:00:00+05:30",
          "2024-08-28T00:00:00+05:30",
          "2024-08-29T00:00:00+05:30",
          "2024-08-30T00:00:00+05:30",
          "2024-09-02T00:00:00+05:30",
          "2024-09-03T00:00:00+05:30",
          "2024-09-04T00:00:00+05:30",
          "2024-09-05T00:00:00+05:30",
          "2024-09-06T00:00:00+05:30",
          "2024-09-09T00:00:00+05:30",
          "2024-09-10T00:00:00+05:30",
          "2024-09-11T00:00:00+05:30",
          "2024-09-12T00:00:00+05:30",
          "2024-09-13T00:00:00+05:30",
          "2024-09-16T00:00:00+05:30",
          "2024-09-17T00:00:00+05:30",
          "2024-09-18T00:00:00+05:30",
          "2024-09-19T00:00:00+05:30",
          "2024-09-20T00:00:00+05:30",
          "2024-09-23T00:00:00+05:30",
          "2024-09-24T00:00:00+05:30",
          "2024-09-25T00:00:00+05:30",
          "2024-09-26T00:00:00+05:30",
          "2024-09-27T00:00:00+05:30",
          "2024-09-30T00:00:00+05:30",
          "2024-10-01T00:00:00+05:30",
          "2024-10-03T00:00:00+05:30",
          "2024-10-04T00:00:00+05:30",
          "2024-10-07T00:00:00+05:30",
          "2024-10-08T00:00:00+05:30",
          "2024-10-09T00:00:00+05:30",
          "2024-10-10T00:00:00+05:30",
          "2024-10-11T00:00:00+05:30",
          "2024-10-14T00:00:00+05:30",
          "2024-10-15T00:00:00+05:30",
          "2024-10-16T00:00:00+05:30",
          "2024-10-18T00:00:00+05:30"
         ]
        }
       ],
       "layout": {
        "hovermode": "x unified",
        "margin": {
         "b": 0,
         "l": 0,
         "r": 0,
         "t": 0
        },
        "plot_bgcolor": "white",
        "showlegend": false,
        "template": {
         "data": {
          "bar": [
           {
            "error_x": {
             "color": "#2a3f5f"
            },
            "error_y": {
             "color": "#2a3f5f"
            },
            "marker": {
             "line": {
              "color": "#E5ECF6",
              "width": 0.5
             },
             "pattern": {
              "fillmode": "overlay",
              "size": 10,
              "solidity": 0.2
             }
            },
            "type": "bar"
           }
          ],
          "barpolar": [
           {
            "marker": {
             "line": {
              "color": "#E5ECF6",
              "width": 0.5
             },
             "pattern": {
              "fillmode": "overlay",
              "size": 10,
              "solidity": 0.2
             }
            },
            "type": "barpolar"
           }
          ],
          "carpet": [
           {
            "aaxis": {
             "endlinecolor": "#2a3f5f",
             "gridcolor": "white",
             "linecolor": "white",
             "minorgridcolor": "white",
             "startlinecolor": "#2a3f5f"
            },
            "baxis": {
             "endlinecolor": "#2a3f5f",
             "gridcolor": "white",
             "linecolor": "white",
             "minorgridcolor": "white",
             "startlinecolor": "#2a3f5f"
            },
            "type": "carpet"
           }
          ],
          "choropleth": [
           {
            "colorbar": {
             "outlinewidth": 0,
             "ticks": ""
            },
            "type": "choropleth"
           }
          ],
          "contour": [
           {
            "colorbar": {
             "outlinewidth": 0,
             "ticks": ""
            },
            "colorscale": [
             [
              0,
              "#0d0887"
             ],
             [
              0.1111111111111111,
              "#46039f"
             ],
             [
              0.2222222222222222,
              "#7201a8"
             ],
             [
              0.3333333333333333,
              "#9c179e"
             ],
             [
              0.4444444444444444,
              "#bd3786"
             ],
             [
              0.5555555555555556,
              "#d8576b"
             ],
             [
              0.6666666666666666,
              "#ed7953"
             ],
             [
              0.7777777777777778,
              "#fb9f3a"
             ],
             [
              0.8888888888888888,
              "#fdca26"
             ],
             [
              1,
              "#f0f921"
             ]
            ],
            "type": "contour"
           }
          ],
          "contourcarpet": [
           {
            "colorbar": {
             "outlinewidth": 0,
             "ticks": ""
            },
            "type": "contourcarpet"
           }
          ],
          "heatmap": [
           {
            "colorbar": {
             "outlinewidth": 0,
             "ticks": ""
            },
            "colorscale": [
             [
              0,
              "#0d0887"
             ],
             [
              0.1111111111111111,
              "#46039f"
             ],
             [
              0.2222222222222222,
              "#7201a8"
             ],
             [
              0.3333333333333333,
              "#9c179e"
             ],
             [
              0.4444444444444444,
              "#bd3786"
             ],
             [
              0.5555555555555556,
              "#d8576b"
             ],
             [
              0.6666666666666666,
              "#ed7953"
             ],
             [
              0.7777777777777778,
              "#fb9f3a"
             ],
             [
              0.8888888888888888,
              "#fdca26"
             ],
             [
              1,
              "#f0f921"
             ]
            ],
            "type": "heatmap"
           }
          ],
          "heatmapgl": [
           {
            "colorbar": {
             "outlinewidth": 0,
             "ticks": ""
            },
            "colorscale": [
             [
              0,
              "#0d0887"
             ],
             [
              0.1111111111111111,
              "#46039f"
             ],
             [
              0.2222222222222222,
              "#7201a8"
             ],
             [
              0.3333333333333333,
              "#9c179e"
             ],
             [
              0.4444444444444444,
              "#bd3786"
             ],
             [
              0.5555555555555556,
              "#d8576b"
             ],
             [
              0.6666666666666666,
              "#ed7953"
             ],
             [
              0.7777777777777778,
              "#fb9f3a"
             ],
             [
              0.8888888888888888,
              "#fdca26"
             ],
             [
              1,
              "#f0f921"
             ]
            ],
            "type": "heatmapgl"
           }
          ],
          "histogram": [
           {
            "marker": {
             "pattern": {
              "fillmode": "overlay",
              "size": 10,
              "solidity": 0.2
             }
            },
            "type": "histogram"
           }
          ],
          "histogram2d": [
           {
            "colorbar": {
             "outlinewidth": 0,
             "ticks": ""
            },
            "colorscale": [
             [
              0,
              "#0d0887"
             ],
             [
              0.1111111111111111,
              "#46039f"
             ],
             [
              0.2222222222222222,
              "#7201a8"
             ],
             [
              0.3333333333333333,
              "#9c179e"
             ],
             [
              0.4444444444444444,
              "#bd3786"
             ],
             [
              0.5555555555555556,
              "#d8576b"
             ],
             [
              0.6666666666666666,
              "#ed7953"
             ],
             [
              0.7777777777777778,
              "#fb9f3a"
             ],
             [
              0.8888888888888888,
              "#fdca26"
             ],
             [
              1,
              "#f0f921"
             ]
            ],
            "type": "histogram2d"
           }
          ],
          "histogram2dcontour": [
           {
            "colorbar": {
             "outlinewidth": 0,
             "ticks": ""
            },
            "colorscale": [
             [
              0,
              "#0d0887"
             ],
             [
              0.1111111111111111,
              "#46039f"
             ],
             [
              0.2222222222222222,
              "#7201a8"
             ],
             [
              0.3333333333333333,
              "#9c179e"
             ],
             [
              0.4444444444444444,
              "#bd3786"
             ],
             [
              0.5555555555555556,
              "#d8576b"
             ],
             [
              0.6666666666666666,
              "#ed7953"
             ],
             [
              0.7777777777777778,
              "#fb9f3a"
             ],
             [
              0.8888888888888888,
              "#fdca26"
             ],
             [
              1,
              "#f0f921"
             ]
            ],
            "type": "histogram2dcontour"
           }
          ],
          "mesh3d": [
           {
            "colorbar": {
             "outlinewidth": 0,
             "ticks": ""
            },
            "type": "mesh3d"
           }
          ],
          "parcoords": [
           {
            "line": {
             "colorbar": {
              "outlinewidth": 0,
              "ticks": ""
             }
            },
            "type": "parcoords"
           }
          ],
          "pie": [
           {
            "automargin": true,
            "type": "pie"
           }
          ],
          "scatter": [
           {
            "fillpattern": {
             "fillmode": "overlay",
             "size": 10,
             "solidity": 0.2
            },
            "type": "scatter"
           }
          ],
          "scatter3d": [
           {
            "line": {
             "colorbar": {
              "outlinewidth": 0,
              "ticks": ""
             }
            },
            "marker": {
             "colorbar": {
              "outlinewidth": 0,
              "ticks": ""
             }
            },
            "type": "scatter3d"
           }
          ],
          "scattercarpet": [
           {
            "marker": {
             "colorbar": {
              "outlinewidth": 0,
              "ticks": ""
             }
            },
            "type": "scattercarpet"
           }
          ],
          "scattergeo": [
           {
            "marker": {
             "colorbar": {
              "outlinewidth": 0,
              "ticks": ""
             }
            },
            "type": "scattergeo"
           }
          ],
          "scattergl": [
           {
            "marker": {
             "colorbar": {
              "outlinewidth": 0,
              "ticks": ""
             }
            },
            "type": "scattergl"
           }
          ],
          "scattermapbox": [
           {
            "marker": {
             "colorbar": {
              "outlinewidth": 0,
              "ticks": ""
             }
            },
            "type": "scattermapbox"
           }
          ],
          "scatterpolar": [
           {
            "marker": {
             "colorbar": {
              "outlinewidth": 0,
              "ticks": ""
             }
            },
            "type": "scatterpolar"
           }
          ],
          "scatterpolargl": [
           {
            "marker": {
             "colorbar": {
              "outlinewidth": 0,
              "ticks": ""
             }
            },
            "type": "scatterpolargl"
           }
          ],
          "scatterternary": [
           {
            "marker": {
             "colorbar": {
              "outlinewidth": 0,
              "ticks": ""
             }
            },
            "type": "scatterternary"
           }
          ],
          "surface": [
           {
            "colorbar": {
             "outlinewidth": 0,
             "ticks": ""
            },
            "colorscale": [
             [
              0,
              "#0d0887"
             ],
             [
              0.1111111111111111,
              "#46039f"
             ],
             [
              0.2222222222222222,
              "#7201a8"
             ],
             [
              0.3333333333333333,
              "#9c179e"
             ],
             [
              0.4444444444444444,
              "#bd3786"
             ],
             [
              0.5555555555555556,
              "#d8576b"
             ],
             [
              0.6666666666666666,
              "#ed7953"
             ],
             [
              0.7777777777777778,
              "#fb9f3a"
             ],
             [
              0.8888888888888888,
              "#fdca26"
             ],
             [
              1,
              "#f0f921"
             ]
            ],
            "type": "surface"
           }
          ],
          "table": [
           {
            "cells": {
             "fill": {
              "color": "#EBF0F8"
             },
             "line": {
              "color": "white"
             }
            },
            "header": {
             "fill": {
              "color": "#C8D4E3"
             },
             "line": {
              "color": "white"
             }
            },
            "type": "table"
           }
          ]
         },
         "layout": {
          "annotationdefaults": {
           "arrowcolor": "#2a3f5f",
           "arrowhead": 0,
           "arrowwidth": 1
          },
          "autotypenumbers": "strict",
          "coloraxis": {
           "colorbar": {
            "outlinewidth": 0,
            "ticks": ""
           }
          },
          "colorscale": {
           "diverging": [
            [
             0,
             "#8e0152"
            ],
            [
             0.1,
             "#c51b7d"
            ],
            [
             0.2,
             "#de77ae"
            ],
            [
             0.3,
             "#f1b6da"
            ],
            [
             0.4,
             "#fde0ef"
            ],
            [
             0.5,
             "#f7f7f7"
            ],
            [
             0.6,
             "#e6f5d0"
            ],
            [
             0.7,
             "#b8e186"
            ],
            [
             0.8,
             "#7fbc41"
            ],
            [
             0.9,
             "#4d9221"
            ],
            [
             1,
             "#276419"
            ]
           ],
           "sequential": [
            [
             0,
             "#0d0887"
            ],
            [
             0.1111111111111111,
             "#46039f"
            ],
            [
             0.2222222222222222,
             "#7201a8"
            ],
            [
             0.3333333333333333,
             "#9c179e"
            ],
            [
             0.4444444444444444,
             "#bd3786"
            ],
            [
             0.5555555555555556,
             "#d8576b"
            ],
            [
             0.6666666666666666,
             "#ed7953"
            ],
            [
             0.7777777777777778,
             "#fb9f3a"
            ],
            [
             0.8888888888888888,
             "#fdca26"
            ],
            [
             1,
             "#f0f921"
            ]
           ],
           "sequentialminus": [
            [
             0,
             "#0d0887"
            ],
            [
             0.1111111111111111,
             "#46039f"
            ],
            [
             0.2222222222222222,
             "#7201a8"
            ],
            [
             0.3333333333333333,
             "#9c179e"
            ],
            [
             0.4444444444444444,
             "#bd3786"
            ],
            [
             0.5555555555555556,
             "#d8576b"
            ],
            [
             0.6666666666666666,
             "#ed7953"
            ],
            [
             0.7777777777777778,
             "#fb9f3a"
            ],
            [
             0.8888888888888888,
             "#fdca26"
            ],
            [
             1,
             "#f0f921"
            ]
           ]
          },
          "colorway": [
           "#636efa",
           "#EF553B",
           "#00cc96",
           "#ab63fa",
           "#FFA15A",
           "#19d3f3",
           "#FF6692",
           "#B6E880",
           "#FF97FF",
           "#FECB52"
          ],
          "font": {
           "color": "#2a3f5f"
          },
          "geo": {
           "bgcolor": "white",
           "lakecolor": "white",
           "landcolor": "#E5ECF6",
           "showlakes": true,
           "showland": true,
           "subunitcolor": "white"
          },
          "hoverlabel": {
           "align": "left"
          },
          "hovermode": "closest",
          "mapbox": {
           "style": "light"
          },
          "paper_bgcolor": "white",
          "plot_bgcolor": "#E5ECF6",
          "polar": {
           "angularaxis": {
            "gridcolor": "white",
            "linecolor": "white",
            "ticks": ""
           },
           "bgcolor": "#E5ECF6",
           "radialaxis": {
            "gridcolor": "white",
            "linecolor": "white",
            "ticks": ""
           }
          },
          "scene": {
           "xaxis": {
            "backgroundcolor": "#E5ECF6",
            "gridcolor": "white",
            "gridwidth": 2,
            "linecolor": "white",
            "showbackground": true,
            "ticks": "",
            "zerolinecolor": "white"
           },
           "yaxis": {
            "backgroundcolor": "#E5ECF6",
            "gridcolor": "white",
            "gridwidth": 2,
            "linecolor": "white",
            "showbackground": true,
            "ticks": "",
            "zerolinecolor": "white"
           },
           "zaxis": {
            "backgroundcolor": "#E5ECF6",
            "gridcolor": "white",
            "gridwidth": 2,
            "linecolor": "white",
            "showbackground": true,
            "ticks": "",
            "zerolinecolor": "white"
           }
          },
          "shapedefaults": {
           "line": {
            "color": "#2a3f5f"
           }
          },
          "ternary": {
           "aaxis": {
            "gridcolor": "white",
            "linecolor": "white",
            "ticks": ""
           },
           "baxis": {
            "gridcolor": "white",
            "linecolor": "white",
            "ticks": ""
           },
           "bgcolor": "#E5ECF6",
           "caxis": {
            "gridcolor": "white",
            "linecolor": "white",
            "ticks": ""
           }
          },
          "title": {
           "x": 0.05
          },
          "xaxis": {
           "automargin": true,
           "gridcolor": "white",
           "linecolor": "white",
           "ticks": "",
           "title": {
            "standoff": 15
           },
           "zerolinecolor": "white",
           "zerolinewidth": 2
          },
          "yaxis": {
           "automargin": true,
           "gridcolor": "white",
           "linecolor": "white",
           "ticks": "",
           "title": {
            "standoff": 15
           },
           "zerolinecolor": "white",
           "zerolinewidth": 2
          }
         }
        },
        "title": {
         "text": "Candle Chart"
        },
        "xaxis": {
         "gridcolor": "lightgrey",
         "gridwidth": 1,
         "rangebreaks": [
          {
           "bounds": [
            "sat",
            "mon"
           ]
          }
         ],
         "rangeslider": {
          "visible": false
         },
         "showgrid": true,
         "showticklabels": true,
         "title": {
          "text": "Date"
         },
         "zeroline": false
        },
        "yaxis": {
         "gridcolor": "lightgrey",
         "gridwidth": 1,
         "showgrid": true,
         "showticklabels": true,
         "title": {
          "text": "Price"
         },
         "zeroline": false
        }
       }
      },
      "text/html": [
       "<div>                            <div id=\"6514c599-203e-42ca-b8f6-e1c220128666\" class=\"plotly-graph-div\" style=\"height:525px; width:100%;\"></div>            <script type=\"text/javascript\">                require([\"plotly\"], function(Plotly) {                    window.PLOTLYENV=window.PLOTLYENV || {};                                    if (document.getElementById(\"6514c599-203e-42ca-b8f6-e1c220128666\")) {                    Plotly.newPlot(                        \"6514c599-203e-42ca-b8f6-e1c220128666\",                        [{\"close\":[175.1296844482422,178.14405822753906,179.28062438964844,178.78646850585938,177.1063232421875,178.48997497558594,176.315673828125,178.68763732910156,178.8852996826172,180.86192321777344,180.51600646972656,180.91134643554688,180.91134643554688,182.09732055664062,182.8385772705078,187.28598022460938,184.321044921875,182.09732055664062,181.45492553710938,180.0712890625,181.05958557128906,174.38845825195312,178.737060546875,180.318359375,178.5887908935547,178.0946502685547,180.17010498046875,175.67327880859375,176.7604217529297,177.64990234375,177.7487335205078,177.89698791503906,179.0829620361328,179.28062438964844,179.7747802734375,178.63821411132812,176.51333618164062,175.4261932373047,171.6211700439453,171.2752685546875,173.59779357910156,171.42349243164062,173.3013153076172,176.8592529296875,177.64990234375,178.48997497558594,180.26893615722656,183.4315643310547,182.73973083496094,181.3560791015625,176.71099853515625,174.1907958984375,175.4261932373047,174.4873046875,176.61216735839844,175.1296844482422,175.6238555908203,175.7720947265625,175.0802764892578,173.40013122558594,170.53402709960938,171.1269989013672,174.9814453125,175.8709259033203,178.1934814453125,178.5887908935547,178.93470764160156,179.3300323486328,182.78915405273438,183.13507080078125,183.23388671875,185.90235900878906,184.71636962890625,185.90235900878906,185.85293579101562,185.60585021972656,186.19883728027344,188.71905517578125,190.0038604736328,191.83226013183594,193.56179809570312,190.399169921875,190.59686279296875,190.6956787109375,184.815185546875,188.37313842773438,187.0883331298828,186.0505828857422,187.43423461914062,187.7801513671875,188.22488403320312,192.4746551513672,203.04962158203125,203.3461456298828,202.20956420898438,199.73878479003906,206.9534912109375,204.3838653564453,205.76751708984375,206.70640563964844,206.01458740234375,204.87803649902344,208.73245239257812,208.9301300048828,209.27603149414062,209.078369140625,209.47369384765625,209.1772003173828,207.0523223876953,203.29672241210938,203.14846801757812,203.988525390625,207.744140625,204.9274444580078,212.48805236816406,210.61026000976562,217.7755584716797,227.6092987060547,226.91749572753906,229.78359985351562,229.83302307128906,230.0306854248047,229.53651428222656,233.9345245361328,236.99830627441406,236.6523895263672,243.57061767578125,245.3990020751953,245.003662109375,248.16629028320312,249.54994201660156,251.47714233398438,248.75927734375,251.27947998046875,245.64608764648438,244.756591796875,245.79432678222656,248.06744384765625,248.8581085205078,248.56161499023438,247.37564086914062,249.1546173095703,252.761962890625,248.2156982421875,246.68382263183594,262.12646484375,258.689208984375,255.94940185546875,255.7003173828125,262.0268249511719,260.3330993652344,263.222412109375,262.2759094238281,268.1042785644531,263.7205505371094,266.2113037109375,265.5138854980469,266.7592468261719,263.5212707519531,266.2113037109375,267.10797119140625,264.21868896484375,258.0416259765625,260.1338806152344,259.43646240234375,260.63201904296875,265.8127746582031,264.76666259765625,271.7905578613281,271.0433349609375,271.9400329589844,272.98614501953125,272.43817138671875,276.4233703613281,265.4640808105469,266.65960693359375,267.75555419921875,267.2574157714844,264.9659423828125,260.881103515625,257.0951232910156,255.2519989013672,257.9419860839844,255.84976196289062,259.1873779296875,257.0951232910156,259.6357116699219,259.0379333496094,255.7003173828125,255.7003173828125,258.0416259765625,254.05642700195312,257.44384765625,262.0268249511719,263.8201599121094,261.5286865234375,263.4714660644531,267.80535888671875,266.06182861328125,264.4677734375,257.0951232910156,250.61920166015625,249.22438049316406,245.28900146484375,250.46975708007812,253.35902404785156,254.4549560546875,251.515869140625,256.99554443359375,255.15237426757812,266.7592468261719,267.10797119140625,265.41424560546875,267.70574951171875,267.15777587890625,270.79425048828125,271.29241943359375,271.1429748535156,280.05987548828125,280.90673828125,284.543212890625,282.0524597167969,282.55059814453125,280.4583740234375,282.251708984375,283.9952392578125,283.69635009765625,290.42138671875,292.7626953125,291.2184143066406,289.8734130859375,293.75897216796875,288.8273010253906,292.2146911621094,287.4822692871094,285.9380187988281,295.0541687011719,294.4563903808594,304.2201232910156,303.9710693359375,286.3365478515625,292.51361083984375,292.2645263671875,295.2534484863281,299.93603515625,306.4617919921875,316.67388916015625,320.80853271484375,320.95794677734375,324.793701171875,323.49853515625,328.1313171386719,322.352783203125,326.0390930175781,326.5870361328125,337.5961608886719,336.4006042480469,324.44500732421875,324.5944519042969,318.2181396484375,317.91925048828125,325.9892883300781,313.5355529785156,314.13330078125,309.2514343261719,314.13330078125,316.82330322265625,333.7106018066406,332.96337890625,342.07952880859375,345.8156433105469,347.21044921875,345.5665588378906,343.7732238769531,337.1478271484375,326.985595703125,329.3268737792969,335.404296875,333.1128234863281,335.2548522949219,335.5537414550781,329.5759582519531,325.49114990234375,331.1700439453125,328.7789306640625,326.9357604980469,324.9431457519531,316.9229431152344,319.11480712890625,322.9007568359375,327.5335388183594,324.3453674316406,320.6590881347656,326.9357604980469,321.8546142578125,318.2679748535156,299.58734130859375,304.66845703125,304.1702880859375,305.913818359375,295.3530578613281,300.3345642089844,304.66845703125,306.06329345703125,303.4230651855469,303.4230651855469,303.4230651855469,309.40087890625,313.1369934082031,312.4396057128906,318.2679748535156,320.6590881347656,375.75445556640625,382.6787414550781,382.529296875,396.6767272949219,407.5364074707031,458.0986022949219,447.9861755371094,442.6559753417969,464.22589111328125,459.7425231933594,442.905029296875,445.7445068359375,464.92327880859375,453.8643493652344,470.6520080566406,462.2830810546875,467.21478271484375,458.7960205078125,451.4732360839844,458.5469665527344,447.1393127441406,450.5765686035156,454.1134033203125,459.5432434082031,461.38641357421875,471.44903564453125,474.5375671386719,472.8438720703125,465.22216796875,463.17974853515625,472.9933166503906,492.5207824707031,508.01324462890625,504.9247131347656,496.10748291015625,486.443359375,503.03173828125,453.7647399902344,489.23297119140625,525.8967895507812,525.0997924804688,523.8543701171875,526.89306640625,538.6992797851562,540.2933349609375,540.2435302734375,562.4609985351562,558.2765502929688,570.1325073242188,567.5919799804688,571.7265625,577.5051879882812,565.9978637695312,564.1547241210938,562.4111938476562,567.2930908203125,562.4111938476562,566.794921875,564.1049194335938,565.8484497070312,569.3355102539062,576.3095703125,565.3502807617188,561.3651123046875,556.9813842773438,560.5680541992188,554.5404052734375,553.643798828125,538.5,546.9000244140625,546.75,539.8499755859375,539.9000244140625,553.75,551.9000244140625,531.7000122070312,523.2999877929688,512.75,508.8500061035156,485.3500061035156,481.6499938964844,496.25,486.1499938964844,493.20001220703125,499.1000061035156,492.5,486.20001220703125,495.70001220703125,496.95001220703125,497.25,508.0,512.4000244140625,499.3999938964844,497.95001220703125,498.70001220703125,491.70001220703125,490.20001220703125,492.8999938964844,490.5,488.8500061035156,484.1499938964844,495.6499938964844,483.0,474.75,478.79998779296875,472.20001220703125,479.8500061035156,485.3999938964844,489.95001220703125,482.29998779296875,471.75,459.95001220703125,466.29998779296875,471.1499938964844,476.70001220703125,473.70001220703125,471.75,497.29998779296875,502.54998779296875,511.54998779296875,496.3500061035156,502.3999938964844,480.5,493.79998779296875,519.3499755859375,512.1500244140625,530.5,530.3499755859375,522.1500244140625,512.2999877929688,494.20001220703125],\"decreasing\":{\"fillcolor\":\"#EF5350\",\"line\":{\"color\":\"#EF5350\"}},\"high\":[175.82150299661492,179.67595189691608,179.62654123027565,180.86193941661656,178.9347148970372,179.42887268205357,179.47829898420164,179.23121445401048,180.96077051777033,182.14673771028652,183.3327145858657,181.89966297976673,183.33271895278278,182.4432373741639,183.43157328305062,189.1143718157357,188.2248924550558,185.8529263847663,183.67863778594398,181.8008431850991,185.21051198786674,182.49265122563807,179.6265394417536,186.64359461844737,181.85023840275014,180.31836264308566,180.86192352978054,180.76310335790262,177.20516118622209,178.14406062565195,179.82418918015327,180.07128141789775,179.6759580188426,180.71369551752025,180.6148554005294,180.3183492085823,179.33002921018536,177.00750580010018,175.22853465043391,172.56008314147797,173.9437103990323,173.25188397308952,174.68495246323923,177.1557509264204,178.88529804850486,179.97244980069706,180.8619321308448,183.77746608772776,185.2105223015262,182.7397161796689,181.7020000264895,177.45224360370256,176.3650909737395,175.87094194240788,177.4028236274369,178.39113198258605,176.21685157893015,178.19346712401727,178.73705990749036,175.92034137942758,173.69663710620853,171.76941368578153,175.72268271279538,178.09463812624082,179.1817980200724,179.28060943659295,179.3794470562168,179.9724471450097,183.629229203667,185.85294147756412,184.32104098194839,186.19884192520132,187.68131947900437,187.23657737418787,186.4953355354847,186.29766878531998,187.43423300288808,190.34978664365866,191.0910147322155,194.05597250547925,194.05595635984278,194.94543190730514,191.2392625522822,192.22757240688955,191.5851596057973,191.28866920264326,190.00386404846378,187.0388993950954,188.1754720591011,190.64626343479674,189.0155402897335,193.06765113525879,204.87801313629313,206.21225781068614,203.2967033229172,202.20957621455457,207.99122666307338,206.80523788547717,206.55817340126254,208.78187647946058,207.7441414116135,207.34882802679624,209.27602951130766,211.99391759676232,210.51142719363378,211.35150022142358,210.1161086660116,210.56085259219475,211.6974072724143,207.9912262807725,204.5815239859178,205.37217757842902,208.53479689948952,209.52311042329433,214.46468541344933,215.84832559003365,219.35685590806918,228.30111725739866,232.94621789500366,232.89679098061578,232.74855395827288,231.7602394505551,232.60030155996435,235.91115763754587,237.98662280176316,238.28312084527482,244.41069279943795,249.05577028953414,246.73321603937808,250.04408568499562,250.1923417757256,252.21837974413398,253.45379612592993,254.44210496892092,252.9596242667222,248.4627789232996,246.93089988066797,248.46276441919227,251.72422046273752,250.48882926729644,249.00635717995343,249.59935675707243,253.9973586036779,253.99735615575958,249.89585149381028,265.71314994994185,265.015718110423,259.38664818385723,259.4862745664283,262.9733218419447,264.31829816396527,263.7703648224979,266.41054730912265,270.49539197055435,269.00092694112885,267.0083313441325,267.9049988362351,268.6024073669661,267.6061056044643,267.8053589773275,271.9898339245047,269.84777611142755,264.56737694267946,263.77036875893043,261.5286980678177,262.67442135577096,267.30722435921547,268.40315065964677,275.7757568352752,274.331142380372,273.1355744339287,275.32745562891483,275.9252204168412,278.415969807711,278.7148553367219,268.85147842156005,269.3496398586381,268.9511375579938,269.3994582234297,265.2648164673943,262.226091027187,258.88848677671734,258.390333110559,259.9345969920751,259.6357249860522,260.1338555936074,261.92718885132444,260.9308967816178,259.2870024603126,262.02682669380295,259.03792569075773,256.89588726702345,259.7851581345586,264.36813536151436,267.0083312531131,265.1153717338329,265.0157184272618,272.98612971469925,269.74814974675155,265.0157261228847,264.4677653335965,257.8423595446614,253.30921561648498,247.43105510162005,251.26679993967187,254.95309449236868,257.9918384931799,254.95310024167168,257.6431332197941,257.84236537310153,268.45296849169176,272.238908863996,269.00093076324305,269.74815179558516,268.6024226998839,272.4381693424416,273.6835632425525,272.83669661518894,281.40488627821264,285.2406180490988,285.4398765790522,286.3863696243475,286.386358031685,285.3900698492995,284.7922916074116,285.1908111520153,285.1409968781016,295.90103552476415,298.2921469084568,295.6519605012943,292.9121150427162,296.84750731408457,297.29584918131934,293.16118804322696,294.25712556092947,290.1224897723801,296.39917946201473,297.89363681364875,305.0669841275665,308.7532961240062,305.6149544843161,293.310638472965,296.59843619192344,296.49882322230496,300.6334571607389,307.75696943268173,323.0502016310798,325.24207894683394,323.54833211461954,327.5833281611829,327.4339008550272,329.7752055871027,330.0243037077798,330.7715168276117,327.73280513481217,338.74189946770537,340.53524212643833,338.3434009907695,331.2696725045978,323.69778836951303,321.0077857376948,326.78631596324834,326.38781406166066,318.0686969777627,316.37497141183485,316.0760974665473,320.65906313191164,334.7567043458597,336.25115582355176,346.214166733254,352.69010538543364,350.69749820659973,350.2491492096512,348.6052838480112,345.6163749689151,340.1367343852085,330.72171776817845,336.3507937771207,339.63857460846594,337.99467649644055,342.72711177027145,337.3969176815799,332.9633982434935,332.1663437348018,333.760429613518,330.9707927729746,328.629466856883,327.2844539948718,320.80852891547784,325.69038398945327,330.82131579140406,329.92465204343824,324.7937261132516,329.5759487838209,331.07038672146206,324.99299832563537,318.81591395728026,308.753292162841,305.664737644967,307.9562510381507,303.87140812392414,301.33086393380484,305.5153179153668,307.60754589805816,305.7643755901238,306.36216149836855,305.31605896243093,311.24403954675614,315.6277427366319,315.029991127505,322.7513238349288,321.456115791586,382.08096524394523,396.37786306766475,386.7137375351765,401.50878701612123,422.08239014773613,468.6593854816421,479.91760069830184,462.6816067858241,473.2423918916706,474.8364580423822,455.3089729988589,449.3311920552252,474.6870347389847,467.3143962988658,479.8677809837628,483.7533283685334,469.25718505268003,470.0541951684008,465.2719940218815,468.7092363112027,459.6926955938231,455.05991754484415,457.94916334948033,462.28306762364497,466.4177150764489,474.5375404264635,483.2053872785201,488.13707946379526,475.53384578144625,469.10774422028305,493.666536914731,498.59821696465656,515.4855232789511,512.8951113241362,507.1165832129362,509.6571316953445,514.09067160009,503.03174511139514,494.6628168921651,534.7140786702392,531.9244825317526,534.5147890694367,538.6494513884102,543.9796562277023,547.8652494441877,545.8726480891761,564.3041895150993,565.2506486641954,574.0679033286854,573.8686562463005,574.7154616208002,618.0545401191415,586.8205528726062,571.2782915396801,573.3704908048294,570.6306705934687,570.4313944589984,569.6343516873661,568.588268219752,568.8871517533086,574.267206229848,583.3334709952439,578.8003268029524,567.8410607489653,562.8097745222901,565.8982333053966,567.0938183542878,555.2876569763315,564.0551122053148,550.5999755859375,555.0,550.1500244140625,543.5499877929688,555.9500122070312,560.0,554.8499755859375,537.7000122070312,528.3499755859375,519.75,502.6000061035156,500.6499938964844,498.8999938964844,498.70001220703125,501.8999938964844,503.5,507.45001220703125,494.95001220703125,497.5,500.45001220703125,498.95001220703125,510.8500061035156,514.7999877929688,514.6500244140625,502.8999938964844,505.45001220703125,500.75,493.0,496.8999938964844,498.29998779296875,493.0,491.0,499.70001220703125,497.8500061035156,483.75,483.70001220703125,484.70001220703125,481.70001220703125,488.75,492.20001220703125,493.1000061035156,482.25,476.79998779296875,467.95001220703125,473.0,477.95001220703125,478.5,474.6000061035156,500.3999938964844,505.29998779296875,515.6500244140625,514.0,511.0,508.54998779296875,497.0,523.5,528.3499755859375,532.9000244140625,534.4000244140625,533.0,522.9500122070312,498.0],\"increasing\":{\"fillcolor\":\"#26A69A\",\"line\":{\"color\":\"#26A69A\"}},\"line\":{\"width\":1},\"low\":[173.84486995525663,175.87092714528742,177.55107034754124,177.4028312856977,174.83319215468927,176.4639230318313,175.67327407608627,176.71100420617017,177.00750422644177,178.98412786137894,179.57710879118463,179.4288716192171,179.77477336138583,180.2195251828345,181.20786085678768,181.25724343055649,183.2338906354383,180.61484576242103,179.52769619037497,177.94641431551287,178.7370507703593,170.9787690528404,173.05424017939174,176.80983245378113,176.71099555094895,174.93204012976915,175.27794121256915,175.22853934670027,173.59779671504188,176.01918604567916,175.92034191224818,176.80983362335246,176.56275173038756,177.35341004454617,179.03354283677322,177.45223728270832,176.01917792254366,174.93203494649538,170.97877029181765,170.08929165938645,170.28694223060992,169.59511597070463,170.0892864787316,173.00482421370344,174.8826129489963,176.56274563853046,178.48997839739997,179.47829798840706,181.50433510167832,179.33002724536067,175.5250217155606,173.74605645692728,174.43787665568607,172.708331730822,175.1296925091441,173.10363256474727,174.6849578434084,175.22851763802868,174.38845789788098,172.26357325449723,169.99044997022966,168.50796616329256,170.97876033480222,174.9814470463576,175.9697691521027,176.36507873917324,176.7109954880121,176.80982216702955,179.03354791761777,182.44325219006672,180.17011438880624,182.19617174849037,184.2716301674945,184.46928787039525,183.82688378693845,184.12337540180624,184.86461894815812,186.29768247797944,188.57080446405672,189.75678921756298,192.0793233032842,189.11437052124373,183.8268880347519,189.21320385947047,183.9257067288546,183.97511776332297,186.05059769635008,184.51868928014207,185.16111853433986,187.28599307411596,185.01285524396582,188.32372850566907,193.4135357225433,202.80256846993325,198.00921903669058,198.6516305310466,199.44229405557917,203.9391259254825,203.09906523425576,205.42160615649385,205.1251085154964,204.58153849958777,204.13678646621182,208.43597168880643,207.5464775148502,207.99121490356498,207.15115895810277,208.78187971344477,206.3605038015481,202.50606611286318,201.46833291398974,202.55546944082118,204.0379534763124,203.79087136730897,203.7414451105715,209.81960376427742,210.51142577539366,219.8015891108486,225.43502083841452,221.58056940178196,227.31281278302657,226.3244982267681,228.3999563039925,229.78359803926816,234.4780961135712,233.3415382070942,235.81234158539516,244.01534985861187,240.40799627042932,244.11418641973881,247.32622966199818,247.42505354014148,247.22738364605095,248.75926979052062,245.10251051432155,241.39632150112232,243.0764562275607,244.1635966518137,246.23906063349162,246.14024243287366,246.18966399941186,247.32622559365527,249.59935288131237,243.8671114063567,244.21303119954797,249.07493230978622,254.05642149683405,250.81846418057094,254.55457878428382,256.3479044158437,256.2980977433809,257.7427633595214,260.0342349843082,260.5821969353694,260.03422937642455,260.7814579452488,263.12277215985864,263.1725617963177,262.8736820276334,263.4714794154287,266.2113074901687,263.02311717943945,255.89958767197365,257.8922060932038,258.489995833083,259.2870083079905,260.8811088876565,263.22241012348337,264.76665683160854,268.9012965782993,268.154075610021,271.4916953205192,271.34223561060645,273.2351990852536,264.7168559973117,262.5747721085586,265.2150020328649,263.22241382757056,264.51759531363854,259.13757890034634,256.1984596493825,252.81105244008396,252.66160983922543,255.6505202569885,254.40515121685846,255.55087093068386,257.59327901248065,256.8958949816879,254.15606497670706,254.55457878428382,256.34790430056887,252.26308447676803,253.55828473727777,257.9918232687285,261.82756042514586,260.9807338182983,260.08402278338923,263.7205542621573,262.8238545165982,261.5784799192035,256.04902077655265,249.12475205598398,246.38493528021675,240.8056524791659,245.6377122980108,248.07863244529742,253.06014245280798,251.0675372930672,252.6118162116128,254.6542243882602,256.7962497458293,265.9622325506774,264.5673847425053,264.9659252552539,265.0655402916702,266.310901768908,270.9935416598022,269.7979640903816,270.8441024821696,279.96024131777915,279.312639236035,280.508176892105,281.7535401497966,279.8107852798028,279.9602317052336,282.3513507067758,280.70745088679416,284.44358802128,291.21841241662156,289.2756479732676,288.22949423901514,289.2756235249582,286.18711268123826,289.17598922530715,286.78487773259025,284.3439331705867,286.5358178902603,292.21471585634197,285.93801748581734,302.9747695547018,277.46948597842555,280.80708885102484,289.4250661092809,291.71656599335984,294.55602245120616,298.9397110587906,304.8677307605564,317.1720445584795,314.3325597603155,316.82330359710505,322.8011131819579,319.9616473157399,321.4063166503796,323.64797969975535,321.60553753161247,326.4874252664706,332.7641162442726,320.55944438233365,321.5059469505352,313.087201926907,308.2053281035377,319.8122177567156,312.190542194367,310.24773781531104,306.31236832540526,310.14810175881917,314.2827511605625,317.5207314327709,325.0427839627667,333.26226984826894,338.74190912725265,344.3709889619987,342.87653747192405,342.2787742202129,331.2696647422135,325.0427989955421,320.21073704866666,322.7513085901222,331.2696628900689,334.00947765786793,334.7567138221256,326.2881811079948,324.39521406471056,322.1037097800285,327.7826308741714,326.48744384838096,323.79740716138986,314.8805104715606,315.22924407079915,320.1609325083341,322.8011150635694,322.5520400657241,315.3786810931982,321.1572340459885,320.80851170758444,317.0226001364564,296.84751704802335,293.5597206939235,297.74417322490325,301.48030282649773,289.2756236179189,292.61324134162595,301.6795577258892,302.2773361878004,302.37696264960925,302.5264015255069,301.67954068921466,303.8714273893874,310.8455161879106,310.7458839866971,313.83442869892235,317.71999164151026,319.81222905686155,373.1640605649974,376.75074014715364,379.09204332415413,397.3741680915625,405.6434277513429,443.7519016087725,437.3755987263255,437.47523614331556,457.30157668968974,439.86632730633744,431.8959462437697,442.50653411768127,451.4234331645172,455.30899758863325,458.2978820800781,456.8532409292342,451.473211493695,449.63007542288085,444.15042279568024,443.7020968716804,443.4530313665582,433.3903811644271,449.3809741563388,451.9713689122238,458.5967450424341,469.3069933588528,471.0505142599234,460.43991105399436,458.64659682628667,459.6927086162573,466.7166252897851,490.6776347805353,499.79377538128955,493.91561125307095,483.40465725914856,491.2754133793892,427.6118711671039,449.13190698212196,490.27910451352363,519.0721909091257,520.4171239902009,521.0647375470849,527.8395883316118,539.1476267495086,537.2048282493447,541.1900236942687,547.2674500259662,556.4831891766135,564.9019584924521,555.2876173355991,572.4240226582373,564.2543392066669,555.1880265191691,557.1308174756074,560.9167482219518,557.5293008793736,557.9776330720858,561.4647008246877,562.9093533110671,563.008970289652,565.5993485990946,547.0183418336472,560.0699347776942,553.5441378471414,556.4831889168871,552.5976694478086,545.5239313132356,536.0092506938021,529.0,523.4000244140625,538.0499877929688,532.5999755859375,539.4000244140625,549.4000244140625,530.0,520.5,508.3999938964844,502.75,481.25,479.79998779296875,483.20001220703125,485.0,486.45001220703125,487.29998779296875,490.95001220703125,485.0,488.95001220703125,494.1499938964844,490.6000061035156,498.20001220703125,508.0,498.45001220703125,495.25,497.25,490.1499938964844,484.6000061035156,491.04998779296875,487.0,488.3500061035156,482.25,483.54998779296875,482.04998779296875,466.5,475.8500061035156,470.1000061035156,474.20001220703125,477.5,482.0,481.04998779296875,469.6499938964844,454.04998779296875,461.20001220703125,466.0,470.6499938964844,469.20001220703125,465.3999938964844,470.04998779296875,488.54998779296875,504.25,493.54998779296875,493.29998779296875,473.8500061035156,478.1000061035156,494.1499938964844,503.6000061035156,510.1000061035156,521.3499755859375,519.2000122070312,508.45001220703125,486.0],\"open\":[175.82150299661492,175.92034598891513,178.8853037836583,179.8736228077826,178.53937922761665,177.15574160078043,178.39114470173598,176.90866450236052,180.07127655391292,178.98412786137894,181.94907748912107,180.6642672994919,180.26893163349575,180.2195251828345,182.0479209472891,181.75140168972433,187.8295718493594,184.71635332755653,182.64090238705174,181.60318287290508,181.8502418126642,180.61485574801492,173.7954776186287,179.675959621762,179.67594509012423,178.88530657337975,179.8736070077599,180.0712847415667,175.67326751109152,176.7110046242391,177.40281670364354,178.88530451456705,177.89698515122748,178.04522864528616,179.08296168198703,179.28061382834738,178.73704834757697,176.5627512739604,175.08027811343297,172.06592484505967,171.81883587806774,173.15304629173605,171.17642564943066,173.30132221043633,176.56274809136013,177.600481032211,178.8358801482489,180.07127889149564,183.43156451001067,181.8502373552452,181.15842291902504,176.7110061743475,175.8709326829302,175.42620247336714,175.1296925091441,174.04254532380313,175.5250329798116,175.6238382039553,175.72269131594035,175.92034137942758,173.44955796380992,170.48459919746608,170.97876033480222,175.12968849568017,176.80982919234015,177.89697235051642,177.89697228715718,178.93471176664207,179.379464763417,183.67864795224074,183.1350641096955,183.23389211696235,186.1988445539553,184.61754440911594,186.14943378096837,185.70467282594637,185.6058563817269,186.29768247797944,188.71904591726616,190.00386837019,192.5240627249072,194.6983527794125,190.25094594994485,190.74509755542255,190.34976398048394,186.5447467977759,187.78015172539983,186.7918202677571,186.05059743008673,187.58249106606175,188.12606142645794,188.32372850566907,193.51237340458937,203.93914163719415,203.09904303679426,202.20957621455457,199.7387920534058,206.3110796109599,204.48270246885255,206.16284358778188,207.54648111237123,205.07569680514231,204.48268821048424,209.22662801063163,209.47369178995675,210.26434598436356,209.52311269222423,209.6219548474561,209.96785326678915,207.54648682510734,203.2967094665219,203.988525390625,205.7180886342813,208.97953329996128,206.95347380916004,214.5635261566931,210.70908606987814,220.39458505800823,228.05405377699546,227.06572931761383,232.2049768246454,230.96958316553778,230.27775168033924,230.27775631462143,235.76291061522772,237.19596663266972,237.1959787626382,244.75658727018785,246.73321603937808,246.04140066484456,250.1923417757256,249.9946675136852,252.95962276102998,249.74758632928354,252.9596242667222,247.07914176164002,245.69550417400166,246.4367276394287,247.67213168512015,249.79701069098107,248.56161773886942,247.37564443904756,250.14293001115846,253.5526016389356,249.54993466108434,249.87197513364302,262.9733159033883,259.38664818385723,256.7464503329379,257.09512920182607,262.9733178931167,260.98073762079855,262.9733314113187,262.5249936804459,268.9511241165202,263.820160002042,267.6559238967435,265.9622192216061,267.6061056044643,264.01943211266837,266.7094573691513,268.8514764251418,264.16886313793225,259.43645860207334,260.9807453384908,260.63201904296875,261.0803506049973,267.0083370693203,264.76665683160854,273.1854037482311,271.9898357853611,271.9400423920856,275.9252204168412,275.77575121752994,278.7148553367219,267.8053455003996,267.8053570241845,267.00834082668337,268.7518694382448,264.9659386952091,260.88108036241056,257.34420397714786,255.25199513849836,257.94199750512223,256.7464617468573,260.1338555936074,258.091428869712,260.73165507568046,256.2483004723033,258.9382914769374,256.89588738616885,255.05272671568628,254.05643460906023,257.9918232687285,263.3220100403685,263.86999703610223,261.7279416011159,264.11906807862,269.00092495520926,264.0194264006182,264.4677653335965,257.0951347425753,250.86828422918109,245.73733332294591,246.68383010108207,250.4697457132368,254.05644222624423,254.1560726026035,252.6118162116128,257.3442154937836,257.04532467283786,268.5525875976624,268.5027808914592,266.0120278094967,267.40685082013306,268.5027733046856,272.93633840341704,270.9935359697576,271.19281348765645,281.8532048400641,282.7000522837908,286.3863696243475,283.4472617845358,284.9915256335352,282.1521033324037,283.9952392578125,284.99152759383446,284.8421018535134,296.2995473560895,294.2073136545897,291.9158153316866,290.6206341987921,296.4489882847952,289.62433625418475,293.9084145813428,288.2294959862253,288.8272951830623,297.29585085951277,294.45636786578046,304.8179302309191,305.5153184263729,283.945426962841,294.30692861332585,292.2645491199836,297.09660512071036,300.88250762418573,307.5577523114826,318.66649424503936,322.5520324006407,320.9579412580862,325.7900123780871,324.2955571558971,330.0243037077798,323.89705463712556,325.74020569433213,327.2844528680624,340.53524212643833,338.3434009907695,324.7937240195455,320.7587222982752,318.21812824594986,321.8048172442964,324.6940922735245,313.8344230164299,314.3325690993588,313.5355452516099,317.71996686782734,318.8159089008187,336.25115582355176,334.5574473749051,345.6163712021395,347.7085990741571,348.0074748728971,346.71232036373806,344.2713642341435,339.73822055932527,326.53724661084533,325.98928270153397,337.745611187168,336.7493018593866,339.0407905573919,337.3969176815799,330.5722544506005,325.6903951031213,332.86376588354733,329.82502372407606,327.68296996639566,325.5409295063146,316.8233297985154,320.8085212684729,326.58704190553937,328.7789134260663,324.2955762265748,322.3029726902313,329.775209239784,323.00039877834064,317.86941705085763,296.10030334627385,304.6684379389473,303.871416085254,303.87140812392414,295.35306558488213,302.57625184122224,304.6684494919879,303.871412217894,303.4230651855469,304.31975925024113,303.8714273893874,310.99495506668535,313.1369972907045,314.1831397006302,318.9653663582022,323.29927828333825,378.5939063842121,382.47946364526683,382.1307453072034,399.51620650937235,408.4828880541134,465.0229073061723,447.98618518852726,445.34599826437216,469.5560512234338,455.3089729988589,442.9050464371407,445.7445083508131,467.21479064530456,456.20566130601657,476.03200535522774,464.8236389768381,469.2571675552219,460.29049515655083,452.1208209106653,459.29418177733345,446.29249177699745,450.5765514519819,453.3163701912898,460.2904777842776,463.2793658483545,473.7405394864666,474.58739664991936,474.2386683029848,467.264583598505,463.22959104885376,478.12423906815695,496.6056305504062,508.013248514078,503.6295340159906,499.14618135560676,510.8028945831144,503.03174511139514,461.23697304852425,491.823356937255,530.0314886058634,528.0388410192012,523.05733692585,528.4374046592063,547.8652494441877,542.9833545394623,542.6844732842882,564.9019680693589,558.9739384440849,572.7727508445545,564.9019338312296,572.87236971814,579.8464546211491,565.9978543044322,564.8521403317976,565.1510220762028,569.5347611935425,563.3078729359431,567.8908462467099,566.944355097718,567.8908634394348,570.2819693240264,578.8003268029524,567.193441580813,561.3651276679369,559.223013109827,562.1123197053734,554.5404321427887,555.3872924578841,538.0,548.7999877929688,546.75,535.0,541.7999877929688,557.0,554.5,537.7000122070312,525.9000244140625,509.54998779296875,490.0,488.04998779296875,489.8999938964844,498.70001220703125,488.75,488.0,500.0,494.45001220703125,490.1000061035156,498.04998779296875,497.95001220703125,501.29998779296875,511.75,513.0,502.79998779296875,499.20001220703125,499.3500061035156,491.75,492.0,493.0,490.5,484.75,486.0,497.3999938964844,483.0,479.3999938964844,479.0,475.8500061035156,479.79998779296875,489.45001220703125,493.1000061035156,481.0,473.5,465.0,468.0,471.1499938964844,476.70001220703125,473.70001220703125,470.04998779296875,498.0,507.5,507.95001220703125,494.04998779296875,505.0,480.5,498.29998779296875,527.0,516.2000122070312,533.2000122070312,531.0,522.25,495.04998779296875],\"x\":[\"2022-12-29T00:00:00+05:30\",\"2022-12-30T00:00:00+05:30\",\"2023-01-02T00:00:00+05:30\",\"2023-01-03T00:00:00+05:30\",\"2023-01-04T00:00:00+05:30\",\"2023-01-05T00:00:00+05:30\",\"2023-01-06T00:00:00+05:30\",\"2023-01-09T00:00:00+05:30\",\"2023-01-10T00:00:00+05:30\",\"2023-01-11T00:00:00+05:30\",\"2023-01-12T00:00:00+05:30\",\"2023-01-13T00:00:00+05:30\",\"2023-01-16T00:00:00+05:30\",\"2023-01-17T00:00:00+05:30\",\"2023-01-18T00:00:00+05:30\",\"2023-01-19T00:00:00+05:30\",\"2023-01-20T00:00:00+05:30\",\"2023-01-23T00:00:00+05:30\",\"2023-01-24T00:00:00+05:30\",\"2023-01-25T00:00:00+05:30\",\"2023-01-27T00:00:00+05:30\",\"2023-01-30T00:00:00+05:30\",\"2023-01-31T00:00:00+05:30\",\"2023-02-01T00:00:00+05:30\",\"2023-02-02T00:00:00+05:30\",\"2023-02-03T00:00:00+05:30\",\"2023-02-06T00:00:00+05:30\",\"2023-02-07T00:00:00+05:30\",\"2023-02-08T00:00:00+05:30\",\"2023-02-09T00:00:00+05:30\",\"2023-02-10T00:00:00+05:30\",\"2023-02-13T00:00:00+05:30\",\"2023-02-14T00:00:00+05:30\",\"2023-02-15T00:00:00+05:30\",\"2023-02-16T00:00:00+05:30\",\"2023-02-17T00:00:00+05:30\",\"2023-02-20T00:00:00+05:30\",\"2023-02-21T00:00:00+05:30\",\"2023-02-22T00:00:00+05:30\",\"2023-02-23T00:00:00+05:30\",\"2023-02-24T00:00:00+05:30\",\"2023-02-27T00:00:00+05:30\",\"2023-02-28T00:00:00+05:30\",\"2023-03-01T00:00:00+05:30\",\"2023-03-02T00:00:00+05:30\",\"2023-03-03T00:00:00+05:30\",\"2023-03-06T00:00:00+05:30\",\"2023-03-08T00:00:00+05:30\",\"2023-03-09T00:00:00+05:30\",\"2023-03-10T00:00:00+05:30\",\"2023-03-13T00:00:00+05:30\",\"2023-03-14T00:00:00+05:30\",\"2023-03-15T00:00:00+05:30\",\"2023-03-16T00:00:00+05:30\",\"2023-03-17T00:00:00+05:30\",\"2023-03-20T00:00:00+05:30\",\"2023-03-21T00:00:00+05:30\",\"2023-03-22T00:00:00+05:30\",\"2023-03-23T00:00:00+05:30\",\"2023-03-24T00:00:00+05:30\",\"2023-03-27T00:00:00+05:30\",\"2023-03-28T00:00:00+05:30\",\"2023-03-29T00:00:00+05:30\",\"2023-03-31T00:00:00+05:30\",\"2023-04-03T00:00:00+05:30\",\"2023-04-05T00:00:00+05:30\",\"2023-04-06T00:00:00+05:30\",\"2023-04-10T00:00:00+05:30\",\"2023-04-11T00:00:00+05:30\",\"2023-04-12T00:00:00+05:30\",\"2023-04-13T00:00:00+05:30\",\"2023-04-17T00:00:00+05:30\",\"2023-04-18T00:00:00+05:30\",\"2023-04-19T00:00:00+05:30\",\"2023-04-20T00:00:00+05:30\",\"2023-04-21T00:00:00+05:30\",\"2023-04-24T00:00:00+05:30\",\"2023-04-25T00:00:00+05:30\",\"2023-04-26T00:00:00+05:30\",\"2023-04-27T00:00:00+05:30\",\"2023-04-28T00:00:00+05:30\",\"2023-05-02T00:00:00+05:30\",\"2023-05-03T00:00:00+05:30\",\"2023-05-04T00:00:00+05:30\",\"2023-05-05T00:00:00+05:30\",\"2023-05-08T00:00:00+05:30\",\"2023-05-09T00:00:00+05:30\",\"2023-05-10T00:00:00+05:30\",\"2023-05-11T00:00:00+05:30\",\"2023-05-12T00:00:00+05:30\",\"2023-05-15T00:00:00+05:30\",\"2023-05-16T00:00:00+05:30\",\"2023-05-17T00:00:00+05:30\",\"2023-05-18T00:00:00+05:30\",\"2023-05-19T00:00:00+05:30\",\"2023-05-22T00:00:00+05:30\",\"2023-05-23T00:00:00+05:30\",\"2023-05-24T00:00:00+05:30\",\"2023-05-25T00:00:00+05:30\",\"2023-05-26T00:00:00+05:30\",\"2023-05-29T00:00:00+05:30\",\"2023-05-30T00:00:00+05:30\",\"2023-05-31T00:00:00+05:30\",\"2023-06-01T00:00:00+05:30\",\"2023-06-02T00:00:00+05:30\",\"2023-06-05T00:00:00+05:30\",\"2023-06-06T00:00:00+05:30\",\"2023-06-07T00:00:00+05:30\",\"2023-06-08T00:00:00+05:30\",\"2023-06-09T00:00:00+05:30\",\"2023-06-12T00:00:00+05:30\",\"2023-06-13T00:00:00+05:30\",\"2023-06-14T00:00:00+05:30\",\"2023-06-15T00:00:00+05:30\",\"2023-06-16T00:00:00+05:30\",\"2023-06-19T00:00:00+05:30\",\"2023-06-20T00:00:00+05:30\",\"2023-06-21T00:00:00+05:30\",\"2023-06-22T00:00:00+05:30\",\"2023-06-23T00:00:00+05:30\",\"2023-06-26T00:00:00+05:30\",\"2023-06-27T00:00:00+05:30\",\"2023-06-28T00:00:00+05:30\",\"2023-06-30T00:00:00+05:30\",\"2023-07-03T00:00:00+05:30\",\"2023-07-04T00:00:00+05:30\",\"2023-07-05T00:00:00+05:30\",\"2023-07-06T00:00:00+05:30\",\"2023-07-07T00:00:00+05:30\",\"2023-07-10T00:00:00+05:30\",\"2023-07-11T00:00:00+05:30\",\"2023-07-12T00:00:00+05:30\",\"2023-07-13T00:00:00+05:30\",\"2023-07-14T00:00:00+05:30\",\"2023-07-17T00:00:00+05:30\",\"2023-07-18T00:00:00+05:30\",\"2023-07-19T00:00:00+05:30\",\"2023-07-20T00:00:00+05:30\",\"2023-07-21T00:00:00+05:30\",\"2023-07-24T00:00:00+05:30\",\"2023-07-25T00:00:00+05:30\",\"2023-07-26T00:00:00+05:30\",\"2023-07-27T00:00:00+05:30\",\"2023-07-28T00:00:00+05:30\",\"2023-07-31T00:00:00+05:30\",\"2023-08-01T00:00:00+05:30\",\"2023-08-02T00:00:00+05:30\",\"2023-08-03T00:00:00+05:30\",\"2023-08-04T00:00:00+05:30\",\"2023-08-07T00:00:00+05:30\",\"2023-08-08T00:00:00+05:30\",\"2023-08-09T00:00:00+05:30\",\"2023-08-10T00:00:00+05:30\",\"2023-08-11T00:00:00+05:30\",\"2023-08-14T00:00:00+05:30\",\"2023-08-16T00:00:00+05:30\",\"2023-08-17T00:00:00+05:30\",\"2023-08-18T00:00:00+05:30\",\"2023-08-21T00:00:00+05:30\",\"2023-08-22T00:00:00+05:30\",\"2023-08-23T00:00:00+05:30\",\"2023-08-24T00:00:00+05:30\",\"2023-08-25T00:00:00+05:30\",\"2023-08-28T00:00:00+05:30\",\"2023-08-29T00:00:00+05:30\",\"2023-08-30T00:00:00+05:30\",\"2023-08-31T00:00:00+05:30\",\"2023-09-01T00:00:00+05:30\",\"2023-09-04T00:00:00+05:30\",\"2023-09-05T00:00:00+05:30\",\"2023-09-06T00:00:00+05:30\",\"2023-09-07T00:00:00+05:30\",\"2023-09-08T00:00:00+05:30\",\"2023-09-11T00:00:00+05:30\",\"2023-09-12T00:00:00+05:30\",\"2023-09-13T00:00:00+05:30\",\"2023-09-14T00:00:00+05:30\",\"2023-09-15T00:00:00+05:30\",\"2023-09-18T00:00:00+05:30\",\"2023-09-20T00:00:00+05:30\",\"2023-09-21T00:00:00+05:30\",\"2023-09-22T00:00:00+05:30\",\"2023-09-25T00:00:00+05:30\",\"2023-09-26T00:00:00+05:30\",\"2023-09-27T00:00:00+05:30\",\"2023-09-28T00:00:00+05:30\",\"2023-09-29T00:00:00+05:30\",\"2023-10-03T00:00:00+05:30\",\"2023-10-04T00:00:00+05:30\",\"2023-10-05T00:00:00+05:30\",\"2023-10-06T00:00:00+05:30\",\"2023-10-09T00:00:00+05:30\",\"2023-10-10T00:00:00+05:30\",\"2023-10-11T00:00:00+05:30\",\"2023-10-12T00:00:00+05:30\",\"2023-10-13T00:00:00+05:30\",\"2023-10-16T00:00:00+05:30\",\"2023-10-17T00:00:00+05:30\",\"2023-10-18T00:00:00+05:30\",\"2023-10-19T00:00:00+05:30\",\"2023-10-20T00:00:00+05:30\",\"2023-10-23T00:00:00+05:30\",\"2023-10-25T00:00:00+05:30\",\"2023-10-26T00:00:00+05:30\",\"2023-10-27T00:00:00+05:30\",\"2023-10-30T00:00:00+05:30\",\"2023-10-31T00:00:00+05:30\",\"2023-11-01T00:00:00+05:30\",\"2023-11-02T00:00:00+05:30\",\"2023-11-03T00:00:00+05:30\",\"2023-11-06T00:00:00+05:30\",\"2023-11-07T00:00:00+05:30\",\"2023-11-08T00:00:00+05:30\",\"2023-11-09T00:00:00+05:30\",\"2023-11-10T00:00:00+05:30\",\"2023-11-13T00:00:00+05:30\",\"2023-11-15T00:00:00+05:30\",\"2023-11-16T00:00:00+05:30\",\"2023-11-17T00:00:00+05:30\",\"2023-11-20T00:00:00+05:30\",\"2023-11-21T00:00:00+05:30\",\"2023-11-22T00:00:00+05:30\",\"2023-11-23T00:00:00+05:30\",\"2023-11-24T00:00:00+05:30\",\"2023-11-28T00:00:00+05:30\",\"2023-11-29T00:00:00+05:30\",\"2023-11-30T00:00:00+05:30\",\"2023-12-01T00:00:00+05:30\",\"2023-12-04T00:00:00+05:30\",\"2023-12-05T00:00:00+05:30\",\"2023-12-06T00:00:00+05:30\",\"2023-12-07T00:00:00+05:30\",\"2023-12-08T00:00:00+05:30\",\"2023-12-11T00:00:00+05:30\",\"2023-12-12T00:00:00+05:30\",\"2023-12-13T00:00:00+05:30\",\"2023-12-14T00:00:00+05:30\",\"2023-12-15T00:00:00+05:30\",\"2023-12-18T00:00:00+05:30\",\"2023-12-19T00:00:00+05:30\",\"2023-12-20T00:00:00+05:30\",\"2023-12-21T00:00:00+05:30\",\"2023-12-22T00:00:00+05:30\",\"2023-12-26T00:00:00+05:30\",\"2023-12-27T00:00:00+05:30\",\"2023-12-28T00:00:00+05:30\",\"2023-12-29T00:00:00+05:30\",\"2024-01-01T00:00:00+05:30\",\"2024-01-02T00:00:00+05:30\",\"2024-01-03T00:00:00+05:30\",\"2024-01-04T00:00:00+05:30\",\"2024-01-05T00:00:00+05:30\",\"2024-01-08T00:00:00+05:30\",\"2024-01-09T00:00:00+05:30\",\"2024-01-10T00:00:00+05:30\",\"2024-01-11T00:00:00+05:30\",\"2024-01-12T00:00:00+05:30\",\"2024-01-15T00:00:00+05:30\",\"2024-01-16T00:00:00+05:30\",\"2024-01-17T00:00:00+05:30\",\"2024-01-18T00:00:00+05:30\",\"2024-01-19T00:00:00+05:30\",\"2024-01-23T00:00:00+05:30\",\"2024-01-24T00:00:00+05:30\",\"2024-01-25T00:00:00+05:30\",\"2024-01-29T00:00:00+05:30\",\"2024-01-30T00:00:00+05:30\",\"2024-01-31T00:00:00+05:30\",\"2024-02-01T00:00:00+05:30\",\"2024-02-02T00:00:00+05:30\",\"2024-02-05T00:00:00+05:30\",\"2024-02-06T00:00:00+05:30\",\"2024-02-07T00:00:00+05:30\",\"2024-02-08T00:00:00+05:30\",\"2024-02-09T00:00:00+05:30\",\"2024-02-12T00:00:00+05:30\",\"2024-02-13T00:00:00+05:30\",\"2024-02-14T00:00:00+05:30\",\"2024-02-15T00:00:00+05:30\",\"2024-02-16T00:00:00+05:30\",\"2024-02-19T00:00:00+05:30\",\"2024-02-20T00:00:00+05:30\",\"2024-02-21T00:00:00+05:30\",\"2024-02-22T00:00:00+05:30\",\"2024-02-23T00:00:00+05:30\",\"2024-02-26T00:00:00+05:30\",\"2024-02-27T00:00:00+05:30\",\"2024-02-28T00:00:00+05:30\",\"2024-02-29T00:00:00+05:30\",\"2024-03-01T00:00:00+05:30\",\"2024-03-04T00:00:00+05:30\",\"2024-03-05T00:00:00+05:30\",\"2024-03-06T00:00:00+05:30\",\"2024-03-07T00:00:00+05:30\",\"2024-03-11T00:00:00+05:30\",\"2024-03-12T00:00:00+05:30\",\"2024-03-13T00:00:00+05:30\",\"2024-03-14T00:00:00+05:30\",\"2024-03-15T00:00:00+05:30\",\"2024-03-18T00:00:00+05:30\",\"2024-03-19T00:00:00+05:30\",\"2024-03-20T00:00:00+05:30\",\"2024-03-21T00:00:00+05:30\",\"2024-03-22T00:00:00+05:30\",\"2024-03-26T00:00:00+05:30\",\"2024-03-27T00:00:00+05:30\",\"2024-03-28T00:00:00+05:30\",\"2024-04-01T00:00:00+05:30\",\"2024-04-02T00:00:00+05:30\",\"2024-04-03T00:00:00+05:30\",\"2024-04-04T00:00:00+05:30\",\"2024-04-05T00:00:00+05:30\",\"2024-04-08T00:00:00+05:30\",\"2024-04-09T00:00:00+05:30\",\"2024-04-10T00:00:00+05:30\",\"2024-04-12T00:00:00+05:30\",\"2024-04-15T00:00:00+05:30\",\"2024-04-16T00:00:00+05:30\",\"2024-04-18T00:00:00+05:30\",\"2024-04-19T00:00:00+05:30\",\"2024-04-22T00:00:00+05:30\",\"2024-04-23T00:00:00+05:30\",\"2024-04-24T00:00:00+05:30\",\"2024-04-25T00:00:00+05:30\",\"2024-04-26T00:00:00+05:30\",\"2024-04-29T00:00:00+05:30\",\"2024-04-30T00:00:00+05:30\",\"2024-05-02T00:00:00+05:30\",\"2024-05-03T00:00:00+05:30\",\"2024-05-06T00:00:00+05:30\",\"2024-05-07T00:00:00+05:30\",\"2024-05-08T00:00:00+05:30\",\"2024-05-09T00:00:00+05:30\",\"2024-05-10T00:00:00+05:30\",\"2024-05-13T00:00:00+05:30\",\"2024-05-14T00:00:00+05:30\",\"2024-05-15T00:00:00+05:30\",\"2024-05-16T00:00:00+05:30\",\"2024-05-17T00:00:00+05:30\",\"2024-05-21T00:00:00+05:30\",\"2024-05-22T00:00:00+05:30\",\"2024-05-23T00:00:00+05:30\",\"2024-05-24T00:00:00+05:30\",\"2024-05-27T00:00:00+05:30\",\"2024-05-28T00:00:00+05:30\",\"2024-05-29T00:00:00+05:30\",\"2024-05-30T00:00:00+05:30\",\"2024-05-31T00:00:00+05:30\",\"2024-06-03T00:00:00+05:30\",\"2024-06-04T00:00:00+05:30\",\"2024-06-05T00:00:00+05:30\",\"2024-06-06T00:00:00+05:30\",\"2024-06-07T00:00:00+05:30\",\"2024-06-10T00:00:00+05:30\",\"2024-06-11T00:00:00+05:30\",\"2024-06-12T00:00:00+05:30\",\"2024-06-13T00:00:00+05:30\",\"2024-06-14T00:00:00+05:30\",\"2024-06-18T00:00:00+05:30\",\"2024-06-19T00:00:00+05:30\",\"2024-06-20T00:00:00+05:30\",\"2024-06-21T00:00:00+05:30\",\"2024-06-24T00:00:00+05:30\",\"2024-06-25T00:00:00+05:30\",\"2024-06-26T00:00:00+05:30\",\"2024-06-27T00:00:00+05:30\",\"2024-06-28T00:00:00+05:30\",\"2024-07-01T00:00:00+05:30\",\"2024-07-02T00:00:00+05:30\",\"2024-07-03T00:00:00+05:30\",\"2024-07-04T00:00:00+05:30\",\"2024-07-05T00:00:00+05:30\",\"2024-07-08T00:00:00+05:30\",\"2024-07-09T00:00:00+05:30\",\"2024-07-10T00:00:00+05:30\",\"2024-07-11T00:00:00+05:30\",\"2024-07-12T00:00:00+05:30\",\"2024-07-15T00:00:00+05:30\",\"2024-07-16T00:00:00+05:30\",\"2024-07-18T00:00:00+05:30\",\"2024-07-19T00:00:00+05:30\",\"2024-07-22T00:00:00+05:30\",\"2024-07-23T00:00:00+05:30\",\"2024-07-24T00:00:00+05:30\",\"2024-07-25T00:00:00+05:30\",\"2024-07-26T00:00:00+05:30\",\"2024-07-29T00:00:00+05:30\",\"2024-07-30T00:00:00+05:30\",\"2024-07-31T00:00:00+05:30\",\"2024-08-01T00:00:00+05:30\",\"2024-08-02T00:00:00+05:30\",\"2024-08-05T00:00:00+05:30\",\"2024-08-06T00:00:00+05:30\",\"2024-08-07T00:00:00+05:30\",\"2024-08-08T00:00:00+05:30\",\"2024-08-09T00:00:00+05:30\",\"2024-08-12T00:00:00+05:30\",\"2024-08-13T00:00:00+05:30\",\"2024-08-14T00:00:00+05:30\",\"2024-08-16T00:00:00+05:30\",\"2024-08-19T00:00:00+05:30\",\"2024-08-20T00:00:00+05:30\",\"2024-08-21T00:00:00+05:30\",\"2024-08-22T00:00:00+05:30\",\"2024-08-23T00:00:00+05:30\",\"2024-08-26T00:00:00+05:30\",\"2024-08-27T00:00:00+05:30\",\"2024-08-28T00:00:00+05:30\",\"2024-08-29T00:00:00+05:30\",\"2024-08-30T00:00:00+05:30\",\"2024-09-02T00:00:00+05:30\",\"2024-09-03T00:00:00+05:30\",\"2024-09-04T00:00:00+05:30\",\"2024-09-05T00:00:00+05:30\",\"2024-09-06T00:00:00+05:30\",\"2024-09-09T00:00:00+05:30\",\"2024-09-10T00:00:00+05:30\",\"2024-09-11T00:00:00+05:30\",\"2024-09-12T00:00:00+05:30\",\"2024-09-13T00:00:00+05:30\",\"2024-09-16T00:00:00+05:30\",\"2024-09-17T00:00:00+05:30\",\"2024-09-18T00:00:00+05:30\",\"2024-09-19T00:00:00+05:30\",\"2024-09-20T00:00:00+05:30\",\"2024-09-23T00:00:00+05:30\",\"2024-09-24T00:00:00+05:30\",\"2024-09-25T00:00:00+05:30\",\"2024-09-26T00:00:00+05:30\",\"2024-09-27T00:00:00+05:30\",\"2024-09-30T00:00:00+05:30\",\"2024-10-01T00:00:00+05:30\",\"2024-10-03T00:00:00+05:30\",\"2024-10-04T00:00:00+05:30\",\"2024-10-07T00:00:00+05:30\",\"2024-10-08T00:00:00+05:30\",\"2024-10-09T00:00:00+05:30\",\"2024-10-10T00:00:00+05:30\",\"2024-10-11T00:00:00+05:30\",\"2024-10-14T00:00:00+05:30\",\"2024-10-15T00:00:00+05:30\",\"2024-10-16T00:00:00+05:30\",\"2024-10-18T00:00:00+05:30\"],\"type\":\"candlestick\"}],                        {\"template\":{\"data\":{\"histogram2dcontour\":[{\"type\":\"histogram2dcontour\",\"colorbar\":{\"outlinewidth\":0,\"ticks\":\"\"},\"colorscale\":[[0.0,\"#0d0887\"],[0.1111111111111111,\"#46039f\"],[0.2222222222222222,\"#7201a8\"],[0.3333333333333333,\"#9c179e\"],[0.4444444444444444,\"#bd3786\"],[0.5555555555555556,\"#d8576b\"],[0.6666666666666666,\"#ed7953\"],[0.7777777777777778,\"#fb9f3a\"],[0.8888888888888888,\"#fdca26\"],[1.0,\"#f0f921\"]]}],\"choropleth\":[{\"type\":\"choropleth\",\"colorbar\":{\"outlinewidth\":0,\"ticks\":\"\"}}],\"histogram2d\":[{\"type\":\"histogram2d\",\"colorbar\":{\"outlinewidth\":0,\"ticks\":\"\"},\"colorscale\":[[0.0,\"#0d0887\"],[0.1111111111111111,\"#46039f\"],[0.2222222222222222,\"#7201a8\"],[0.3333333333333333,\"#9c179e\"],[0.4444444444444444,\"#bd3786\"],[0.5555555555555556,\"#d8576b\"],[0.6666666666666666,\"#ed7953\"],[0.7777777777777778,\"#fb9f3a\"],[0.8888888888888888,\"#fdca26\"],[1.0,\"#f0f921\"]]}],\"heatmap\":[{\"type\":\"heatmap\",\"colorbar\":{\"outlinewidth\":0,\"ticks\":\"\"},\"colorscale\":[[0.0,\"#0d0887\"],[0.1111111111111111,\"#46039f\"],[0.2222222222222222,\"#7201a8\"],[0.3333333333333333,\"#9c179e\"],[0.4444444444444444,\"#bd3786\"],[0.5555555555555556,\"#d8576b\"],[0.6666666666666666,\"#ed7953\"],[0.7777777777777778,\"#fb9f3a\"],[0.8888888888888888,\"#fdca26\"],[1.0,\"#f0f921\"]]}],\"heatmapgl\":[{\"type\":\"heatmapgl\",\"colorbar\":{\"outlinewidth\":0,\"ticks\":\"\"},\"colorscale\":[[0.0,\"#0d0887\"],[0.1111111111111111,\"#46039f\"],[0.2222222222222222,\"#7201a8\"],[0.3333333333333333,\"#9c179e\"],[0.4444444444444444,\"#bd3786\"],[0.5555555555555556,\"#d8576b\"],[0.6666666666666666,\"#ed7953\"],[0.7777777777777778,\"#fb9f3a\"],[0.8888888888888888,\"#fdca26\"],[1.0,\"#f0f921\"]]}],\"contourcarpet\":[{\"type\":\"contourcarpet\",\"colorbar\":{\"outlinewidth\":0,\"ticks\":\"\"}}],\"contour\":[{\"type\":\"contour\",\"colorbar\":{\"outlinewidth\":0,\"ticks\":\"\"},\"colorscale\":[[0.0,\"#0d0887\"],[0.1111111111111111,\"#46039f\"],[0.2222222222222222,\"#7201a8\"],[0.3333333333333333,\"#9c179e\"],[0.4444444444444444,\"#bd3786\"],[0.5555555555555556,\"#d8576b\"],[0.6666666666666666,\"#ed7953\"],[0.7777777777777778,\"#fb9f3a\"],[0.8888888888888888,\"#fdca26\"],[1.0,\"#f0f921\"]]}],\"surface\":[{\"type\":\"surface\",\"colorbar\":{\"outlinewidth\":0,\"ticks\":\"\"},\"colorscale\":[[0.0,\"#0d0887\"],[0.1111111111111111,\"#46039f\"],[0.2222222222222222,\"#7201a8\"],[0.3333333333333333,\"#9c179e\"],[0.4444444444444444,\"#bd3786\"],[0.5555555555555556,\"#d8576b\"],[0.6666666666666666,\"#ed7953\"],[0.7777777777777778,\"#fb9f3a\"],[0.8888888888888888,\"#fdca26\"],[1.0,\"#f0f921\"]]}],\"mesh3d\":[{\"type\":\"mesh3d\",\"colorbar\":{\"outlinewidth\":0,\"ticks\":\"\"}}],\"scatter\":[{\"fillpattern\":{\"fillmode\":\"overlay\",\"size\":10,\"solidity\":0.2},\"type\":\"scatter\"}],\"parcoords\":[{\"type\":\"parcoords\",\"line\":{\"colorbar\":{\"outlinewidth\":0,\"ticks\":\"\"}}}],\"scatterpolargl\":[{\"type\":\"scatterpolargl\",\"marker\":{\"colorbar\":{\"outlinewidth\":0,\"ticks\":\"\"}}}],\"bar\":[{\"error_x\":{\"color\":\"#2a3f5f\"},\"error_y\":{\"color\":\"#2a3f5f\"},\"marker\":{\"line\":{\"color\":\"#E5ECF6\",\"width\":0.5},\"pattern\":{\"fillmode\":\"overlay\",\"size\":10,\"solidity\":0.2}},\"type\":\"bar\"}],\"scattergeo\":[{\"type\":\"scattergeo\",\"marker\":{\"colorbar\":{\"outlinewidth\":0,\"ticks\":\"\"}}}],\"scatterpolar\":[{\"type\":\"scatterpolar\",\"marker\":{\"colorbar\":{\"outlinewidth\":0,\"ticks\":\"\"}}}],\"histogram\":[{\"marker\":{\"pattern\":{\"fillmode\":\"overlay\",\"size\":10,\"solidity\":0.2}},\"type\":\"histogram\"}],\"scattergl\":[{\"type\":\"scattergl\",\"marker\":{\"colorbar\":{\"outlinewidth\":0,\"ticks\":\"\"}}}],\"scatter3d\":[{\"type\":\"scatter3d\",\"line\":{\"colorbar\":{\"outlinewidth\":0,\"ticks\":\"\"}},\"marker\":{\"colorbar\":{\"outlinewidth\":0,\"ticks\":\"\"}}}],\"scattermapbox\":[{\"type\":\"scattermapbox\",\"marker\":{\"colorbar\":{\"outlinewidth\":0,\"ticks\":\"\"}}}],\"scatterternary\":[{\"type\":\"scatterternary\",\"marker\":{\"colorbar\":{\"outlinewidth\":0,\"ticks\":\"\"}}}],\"scattercarpet\":[{\"type\":\"scattercarpet\",\"marker\":{\"colorbar\":{\"outlinewidth\":0,\"ticks\":\"\"}}}],\"carpet\":[{\"aaxis\":{\"endlinecolor\":\"#2a3f5f\",\"gridcolor\":\"white\",\"linecolor\":\"white\",\"minorgridcolor\":\"white\",\"startlinecolor\":\"#2a3f5f\"},\"baxis\":{\"endlinecolor\":\"#2a3f5f\",\"gridcolor\":\"white\",\"linecolor\":\"white\",\"minorgridcolor\":\"white\",\"startlinecolor\":\"#2a3f5f\"},\"type\":\"carpet\"}],\"table\":[{\"cells\":{\"fill\":{\"color\":\"#EBF0F8\"},\"line\":{\"color\":\"white\"}},\"header\":{\"fill\":{\"color\":\"#C8D4E3\"},\"line\":{\"color\":\"white\"}},\"type\":\"table\"}],\"barpolar\":[{\"marker\":{\"line\":{\"color\":\"#E5ECF6\",\"width\":0.5},\"pattern\":{\"fillmode\":\"overlay\",\"size\":10,\"solidity\":0.2}},\"type\":\"barpolar\"}],\"pie\":[{\"automargin\":true,\"type\":\"pie\"}]},\"layout\":{\"autotypenumbers\":\"strict\",\"colorway\":[\"#636efa\",\"#EF553B\",\"#00cc96\",\"#ab63fa\",\"#FFA15A\",\"#19d3f3\",\"#FF6692\",\"#B6E880\",\"#FF97FF\",\"#FECB52\"],\"font\":{\"color\":\"#2a3f5f\"},\"hovermode\":\"closest\",\"hoverlabel\":{\"align\":\"left\"},\"paper_bgcolor\":\"white\",\"plot_bgcolor\":\"#E5ECF6\",\"polar\":{\"bgcolor\":\"#E5ECF6\",\"angularaxis\":{\"gridcolor\":\"white\",\"linecolor\":\"white\",\"ticks\":\"\"},\"radialaxis\":{\"gridcolor\":\"white\",\"linecolor\":\"white\",\"ticks\":\"\"}},\"ternary\":{\"bgcolor\":\"#E5ECF6\",\"aaxis\":{\"gridcolor\":\"white\",\"linecolor\":\"white\",\"ticks\":\"\"},\"baxis\":{\"gridcolor\":\"white\",\"linecolor\":\"white\",\"ticks\":\"\"},\"caxis\":{\"gridcolor\":\"white\",\"linecolor\":\"white\",\"ticks\":\"\"}},\"coloraxis\":{\"colorbar\":{\"outlinewidth\":0,\"ticks\":\"\"}},\"colorscale\":{\"sequential\":[[0.0,\"#0d0887\"],[0.1111111111111111,\"#46039f\"],[0.2222222222222222,\"#7201a8\"],[0.3333333333333333,\"#9c179e\"],[0.4444444444444444,\"#bd3786\"],[0.5555555555555556,\"#d8576b\"],[0.6666666666666666,\"#ed7953\"],[0.7777777777777778,\"#fb9f3a\"],[0.8888888888888888,\"#fdca26\"],[1.0,\"#f0f921\"]],\"sequentialminus\":[[0.0,\"#0d0887\"],[0.1111111111111111,\"#46039f\"],[0.2222222222222222,\"#7201a8\"],[0.3333333333333333,\"#9c179e\"],[0.4444444444444444,\"#bd3786\"],[0.5555555555555556,\"#d8576b\"],[0.6666666666666666,\"#ed7953\"],[0.7777777777777778,\"#fb9f3a\"],[0.8888888888888888,\"#fdca26\"],[1.0,\"#f0f921\"]],\"diverging\":[[0,\"#8e0152\"],[0.1,\"#c51b7d\"],[0.2,\"#de77ae\"],[0.3,\"#f1b6da\"],[0.4,\"#fde0ef\"],[0.5,\"#f7f7f7\"],[0.6,\"#e6f5d0\"],[0.7,\"#b8e186\"],[0.8,\"#7fbc41\"],[0.9,\"#4d9221\"],[1,\"#276419\"]]},\"xaxis\":{\"gridcolor\":\"white\",\"linecolor\":\"white\",\"ticks\":\"\",\"title\":{\"standoff\":15},\"zerolinecolor\":\"white\",\"automargin\":true,\"zerolinewidth\":2},\"yaxis\":{\"gridcolor\":\"white\",\"linecolor\":\"white\",\"ticks\":\"\",\"title\":{\"standoff\":15},\"zerolinecolor\":\"white\",\"automargin\":true,\"zerolinewidth\":2},\"scene\":{\"xaxis\":{\"backgroundcolor\":\"#E5ECF6\",\"gridcolor\":\"white\",\"linecolor\":\"white\",\"showbackground\":true,\"ticks\":\"\",\"zerolinecolor\":\"white\",\"gridwidth\":2},\"yaxis\":{\"backgroundcolor\":\"#E5ECF6\",\"gridcolor\":\"white\",\"linecolor\":\"white\",\"showbackground\":true,\"ticks\":\"\",\"zerolinecolor\":\"white\",\"gridwidth\":2},\"zaxis\":{\"backgroundcolor\":\"#E5ECF6\",\"gridcolor\":\"white\",\"linecolor\":\"white\",\"showbackground\":true,\"ticks\":\"\",\"zerolinecolor\":\"white\",\"gridwidth\":2}},\"shapedefaults\":{\"line\":{\"color\":\"#2a3f5f\"}},\"annotationdefaults\":{\"arrowcolor\":\"#2a3f5f\",\"arrowhead\":0,\"arrowwidth\":1},\"geo\":{\"bgcolor\":\"white\",\"landcolor\":\"#E5ECF6\",\"subunitcolor\":\"white\",\"showland\":true,\"showlakes\":true,\"lakecolor\":\"white\"},\"title\":{\"x\":0.05},\"mapbox\":{\"style\":\"light\"}}},\"xaxis\":{\"rangeslider\":{\"visible\":false},\"title\":{\"text\":\"Date\"},\"showgrid\":true,\"gridwidth\":1,\"gridcolor\":\"lightgrey\",\"zeroline\":false,\"showticklabels\":true,\"rangebreaks\":[{\"bounds\":[\"sat\",\"mon\"]}]},\"margin\":{\"l\":0,\"r\":0,\"t\":0,\"b\":0},\"title\":{\"text\":\"Candle Chart\"},\"yaxis\":{\"title\":{\"text\":\"Price\"},\"showgrid\":true,\"gridwidth\":1,\"gridcolor\":\"lightgrey\",\"zeroline\":false,\"showticklabels\":true},\"plot_bgcolor\":\"white\",\"hovermode\":\"x unified\",\"showlegend\":false},                        {\"responsive\": true}                    ).then(function(){\n",
       "                            \n",
       "var gd = document.getElementById('6514c599-203e-42ca-b8f6-e1c220128666');\n",
       "var x = new MutationObserver(function (mutations, observer) {{\n",
       "        var display = window.getComputedStyle(gd).display;\n",
       "        if (!display || display === 'none') {{\n",
       "            console.log([gd, 'removed!']);\n",
       "            Plotly.purge(gd);\n",
       "            observer.disconnect();\n",
       "        }}\n",
       "}});\n",
       "\n",
       "// Listen for the removal of the full notebook cells\n",
       "var notebookContainer = gd.closest('#notebook-container');\n",
       "if (notebookContainer) {{\n",
       "    x.observe(notebookContainer, {childList: true});\n",
       "}}\n",
       "\n",
       "// Listen for the clearing of the current output cell\n",
       "var outputEl = gd.closest('.output');\n",
       "if (outputEl) {{\n",
       "    x.observe(outputEl, {childList: true});\n",
       "}}\n",
       "\n",
       "                        })                };                });            </script>        </div>"
      ]
     },
     "metadata": {},
     "output_type": "display_data"
    }
   ],
   "source": [
    "#INPUT\n",
    "name = input('Enter a name: ')\n",
    "\n",
    "# PREPROCESSING THE NAME\n",
    "symbol,st_name = search_stock_symbol(name)\n",
    "symbol = symbol_changes(symbol)\n",
    "\n",
    "# API CALL\n",
    "comp = yf.Ticker(symbol)\n",
    "data = comp.history(period='2y', interval='1d')\n",
    "info = comp.info\n",
    "\n",
    "curr_price = info['currentPrice']\n",
    "\n",
    "weights = {\n",
    "    'pe': 0.5,\n",
    "    'rsi': 0.8,\n",
    "    'macd': 0.8,\n",
    "    'fib': 0.2,\n",
    "    'trend': 0.6\n",
    "}\n",
    "\n",
    "# PE RATIO AND CAP ID\n",
    "info = pe_and_market_cap(info)\n",
    "\n",
    "if info[2] != 1:\n",
    "    print('The company is not large cap')\n",
    "\n",
    "\n",
    "pe = info[1]\n",
    "\n",
    "if pe <= 20:\n",
    "    pe_score = 1  # Buy\n",
    "    pe_response = f'The P/E ratio is {round(pe,2)}, which is below 20, hence BUY'\n",
    "\n",
    "else:\n",
    "    pe_score = -1  # Sell\n",
    "    pe_response = f'The P/E ratio is {round(pe,2)}, which is above 20, hence SELL'\n",
    "\n",
    "\n",
    "# RSI\n",
    "r, window = rsi(data)\n",
    "rsi_score, rsi_response = analyze_rsi(r)\n",
    "\n",
    "# MACD\n",
    "ma = macd(data)\n",
    "macd_score, macd_response = interpret_macd(ma)\n",
    "\n",
    "\n",
    "# Fibonacci Retracement\n",
    "fib = fibonacci_retracement(data)\n",
    "\n",
    "current_price = data['Close'].iloc[-1]\n",
    "prev_price = data['Close'].iloc[-2]\n",
    "\n",
    "trend = fib['trend']\n",
    "\n",
    "levels = dict()\n",
    "levels['retracement'] = fib['retracement_levels']\n",
    "levels ['extension'] = fib['extension_levels']\n",
    "\n",
    "fib_response, fib_score = fib_insight(current_price=current_price, trend=trend, levels=levels, previous_price=prev_price)\n",
    "\n",
    "data_trend = calculate_trend(data, short_window=14, long_window=50)\n",
    "trend_score, trend_response = analyze_trend(data_trend)\n",
    "\n",
    "final_score = (\n",
    "    (pe_score * weights['pe']) + \n",
    "    (rsi_score * weights['rsi']) + \n",
    "    (macd_score * weights['macd']) + \n",
    "    (fib_score * weights['fib']) +\n",
    "    (trend_score * weights['trend'])\n",
    ")\n",
    "\n",
    "# # Decision based on final score\n",
    "# if final_score > 0:\n",
    "#     print(f'\\nBuy stocks of {st_name}')\n",
    "# else:\n",
    "#     print(f'\\nSell your stocks of {st_name}')\n",
    "    \n",
    "if final_score > -0.3 and final_score < 0.3:\n",
    "        print(f'\\nHold stocks of {st_name}')\n",
    "        ans = 0\n",
    "        \n",
    "elif final_score >= 0.3:\n",
    "    print(f'\\nBuy stocks of {st_name}')\n",
    "    ans = 1\n",
    "\n",
    "elif final_score <= -0.3:\n",
    "    print(f'\\nSell stocks of {st_name}')\n",
    "    ans = -1\n",
    "\n",
    "\n",
    "print(f'Current Price of {st_name}: {curr_price}')\n",
    "print(f'Market Cap of {st_name}: {round(info[0] / (10 ** 7) , 2)} Crores')\n",
    "\n",
    "print(pe_response)  \n",
    "\n",
    "visualise_macd(ma)\n",
    "print(macd_response)\n",
    "\n",
    "visualise_rsi(r, window)\n",
    "print(rsi_response)\n",
    "\n",
    "fig = visualise_fib(fib, data)\n",
    "fig.show()\n",
    "print(*fib_response)\n",
    "\n",
    "print('\\n' + trend_response)\n",
    "plot_stock_trends_candlestick(data_trend)"
   ]
  },
  {
   "cell_type": "code",
   "execution_count": null,
   "id": "d0ebed6c",
   "metadata": {},
   "outputs": [],
   "source": []
  }
 ],
 "metadata": {
  "kernelspec": {
   "display_name": "Python 3 (ipykernel)",
   "language": "python",
   "name": "python3"
  },
  "language_info": {
   "codemirror_mode": {
    "name": "ipython",
    "version": 3
   },
   "file_extension": ".py",
   "mimetype": "text/x-python",
   "name": "python",
   "nbconvert_exporter": "python",
   "pygments_lexer": "ipython3",
   "version": "3.11.7"
  }
 },
 "nbformat": 4,
 "nbformat_minor": 5
}
