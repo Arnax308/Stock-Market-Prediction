{
 "cells": [
  {
   "cell_type": "code",
   "execution_count": 1,
   "id": "ca2d5302",
   "metadata": {},
   "outputs": [],
   "source": [
    "import yfinance as yf\n",
    "import requests\n",
    "import numpy as np\n",
    "import pandas as pd\n",
    "from matplotlib import pyplot as plt\n",
    "import matplotlib.dates as mdates\n",
    "from scipy.signal import argrelextrema\n",
    "import matplotlib.colors as mcolors\n",
    "from matplotlib.transforms import blended_transform_factory\n",
    "import plotly.graph_objects as go\n",
    "from plotly.subplots import make_subplots"
   ]
  },
  {
   "cell_type": "code",
   "execution_count": 2,
   "id": "ba90117e",
   "metadata": {},
   "outputs": [],
   "source": [
    "def search_stock_symbol(company_name):\n",
    "    url = f'https://www.alphavantage.co/query?function=SYMBOL_SEARCH&keywords={company_name}&apikey=Y9DN79N2PBBK2X1O'\n",
    "    \n",
    "    # Send request to Alpha Vantage API\n",
    "    response = requests.get(url)\n",
    "    data = response.json()\n",
    "    \n",
    "    # Extract and print best matches\n",
    "    if 'bestMatches' in data:\n",
    "        matches = data['bestMatches']\n",
    "        for match in matches:\n",
    "        \n",
    "            if match['4. region'] == 'India/Bombay':\n",
    "                symbol = match['1. symbol']\n",
    "                name = match['2. name']\n",
    "\n",
    "                return symbol,name\n",
    "\n",
    "            else:\n",
    "                continue\n",
    "    \n",
    "    else:\n",
    "        \n",
    "        raise ValueError(\"No such company found\")"
   ]
  },
  {
   "cell_type": "code",
   "execution_count": 3,
   "id": "1a19b4f5",
   "metadata": {},
   "outputs": [],
   "source": [
    "def symbol_changes(symbol):\n",
    "    symbol = symbol[:-3]\n",
    "    symbol += \"NS\"\n",
    "    \n",
    "    return symbol"
   ]
  },
  {
   "cell_type": "code",
   "execution_count": 4,
   "id": "687a8850",
   "metadata": {},
   "outputs": [],
   "source": [
    "# Calculate EPS and check for -ve growth (quartely-quartely yearly)\n",
    "def pe_and_market_cap(all_info):\n",
    "    \n",
    "    share_price = all_info['currentPrice']\n",
    "    no_shares = all_info['sharesOutstanding']\n",
    "    eps = all_info['trailingEps']\n",
    "    \n",
    "    market_cap = share_price * no_shares\n",
    "    pe = market_cap/ (eps * no_shares)\n",
    "    \n",
    "    if market_cap < (5000 * (10 **7)):\n",
    "        Id ='s' #Small Cap\n",
    "\n",
    "    elif (5000 * (10 ** 7)) < market_cap < 20000 * (10 ** 7):\n",
    "        Id ='m' #Middle Cap\n",
    "\n",
    "    else:\n",
    "           Id ='l' #Large Cap\n",
    "    \n",
    "    if Id == 'l':\n",
    "        id2 = 1\n",
    "        \n",
    "    else:\n",
    "        id2 = 0\n",
    "    \n",
    "    return market_cap, pe, id2"
   ]
  },
  {
   "cell_type": "code",
   "execution_count": 5,
   "id": "aef0676d",
   "metadata": {},
   "outputs": [],
   "source": [
    "def macd(data):\n",
    "    ma12 = data['Close'].ewm(span=12, adjust=False).mean()\n",
    "    ma26 = data['Close'].ewm(span=26, adjust=False).mean()\n",
    "    macd = ma12 - ma26\n",
    "    signal_line = macd.ewm(span=9, adjust=False).mean()\n",
    "    \n",
    "    histogram = macd - signal_line\n",
    "    \n",
    "    data[\"MACD\"] = macd\n",
    "    data['Signal Line'] = signal_line\n",
    "    data['Histogram'] = histogram\n",
    "    \n",
    "    # Calculate slopes for MACD and Signal Line\n",
    "    data['MACD_slope'] = macd - macd.shift(1)\n",
    "    data['Signal_slope'] = signal_line - signal_line.shift(1)\n",
    "    \n",
    "    # Initialize Signal column\n",
    "    data['Signal'] = 0\n",
    "    \n",
    "    # Define conditions for Buy, Sell, and Hold\n",
    "    buy_condition = (\n",
    "        ((data['MACD'] > data['Signal Line']) & (data['MACD'].shift(1) <= data['Signal Line'].shift(1))) |  # Bullish crossover\n",
    "        ((data['MACD_slope'] > 0) & (data['Signal_slope'] > 0))  # Both lines rising\n",
    "    )\n",
    "    \n",
    "    sell_condition = (\n",
    "        ((data['MACD'] < data['Signal Line']) & (data['MACD'].shift(1) >= data['Signal Line'].shift(1))) |  # Bearish crossover\n",
    "        ((data['MACD_slope'] < 0) & (data['Signal_slope'] < 0))  # Both lines falling\n",
    "    )\n",
    "    \n",
    "    # Apply conditions\n",
    "    data.loc[buy_condition, 'Signal'] = 1\n",
    "    data.loc[sell_condition, 'Signal'] = -1\n",
    "    \n",
    "    # Creating a column for prediction (Buy, Sell, or Hold)\n",
    "    data['Prediction'] = data['Signal'].apply(lambda x: 'Buy' if x == 1 else ('Sell' if x == -1 else 'Hold'))\n",
    "    \n",
    "    return data[['Close', 'MACD', 'Signal Line', 'Histogram', 'MACD_slope', 'Signal_slope', 'Prediction']]"
   ]
  },
  {
   "cell_type": "code",
   "execution_count": 6,
   "id": "200215ee",
   "metadata": {},
   "outputs": [],
   "source": [
    "def rsi(data, window=14):\n",
    "    delta = data['Close'].diff()\n",
    "    gain = delta.where(delta > 0, 0)\n",
    "    loss = -delta.where(delta < 0, 0)\n",
    "    \n",
    "    # Calculate initial average gains and losses\n",
    "    avg_gain = gain[:window].mean()\n",
    "    avg_loss = loss[:window].mean()\n",
    "    \n",
    "    # Initialize RSI values\n",
    "    rsi_values = []\n",
    "    \n",
    "    # Iterate through the rest of the data\n",
    "    for i in range(window, len(data)):\n",
    "        avg_gain = (avg_gain * (window - 1) + gain.iloc[i]) / window\n",
    "        avg_loss = (avg_loss * (window - 1) + loss.iloc[i]) / window\n",
    "        \n",
    "        rs = avg_gain / avg_loss\n",
    "        rsi = 100 - (100 / (1 + rs))\n",
    "        \n",
    "        rsi_values.append(rsi)\n",
    "    \n",
    "    # Add RSI column to the DataFrame\n",
    "    data['RSI'] = pd.Series(rsi_values, index=data.index[window:])\n",
    "    \n",
    "    return data[window:], window"
   ]
  },
  {
   "cell_type": "code",
   "execution_count": 7,
   "id": "5d98cd36",
   "metadata": {},
   "outputs": [],
   "source": [
    "# # Not giving the right answer\n",
    "# def lifetime_high(company_name):\n",
    "    \n",
    "#     symbol = inp(company_name)\n",
    "#     comp = yf.Ticker(symbol)\n",
    "#     data = comp.history(period='1y', interval='1d')\n",
    "    \n",
    "#     return round(data['High'].max(), 3)"
   ]
  },
  {
   "cell_type": "code",
   "execution_count": 8,
   "id": "cbc39a23",
   "metadata": {},
   "outputs": [],
   "source": [
    "def fibonacci_retracement(data, window_size=10):\n",
    "    close_prices = data['Close'].values\n",
    "    \n",
    "    # Function to identify trends\n",
    "    def identify_trend(prices, window):\n",
    "        trends = np.zeros(len(prices))\n",
    "        for i in range(window, len(prices)):\n",
    "            if prices[i] > prices[i-window]:\n",
    "                trends[i] = 1  # Uptrend\n",
    "            elif prices[i] < prices[i-window]:\n",
    "                trends[i] = -1  # Downtrend\n",
    "        return trends\n",
    "    \n",
    "    # Identify trends\n",
    "    trends = identify_trend(close_prices, window_size)\n",
    "    \n",
    "    # Find the most recent significant trend change\n",
    "    trend_changes = np.diff(trends)\n",
    "    significant_changes = np.where(np.abs(trend_changes) > 0)[0]\n",
    "    \n",
    "    if len(significant_changes) > 0:\n",
    "        last_change = significant_changes[-1]\n",
    "        current_trend = \"uptrend\" if trends[last_change + 1] == 1 else \"downtrend\"\n",
    "        \n",
    "        # Find high and low prices since the trend change\n",
    "        if current_trend == \"uptrend\":\n",
    "            low_price = np.min(close_prices[max(0, last_change-window_size):last_change+1])\n",
    "            high_price = np.max(close_prices[last_change+1:])\n",
    "        else:\n",
    "            high_price = np.max(close_prices[max(0, last_change-window_size):last_change+1])\n",
    "            low_price = np.min(close_prices[last_change+1:])\n",
    "    else:\n",
    "        # If no significant trend change, use the entire dataset\n",
    "        current_trend = \"uptrend\" if close_prices[-1] > close_prices[0] else \"downtrend\"\n",
    "        high_price = np.max(close_prices)\n",
    "        low_price = np.min(close_prices)\n",
    "    \n",
    "    # Ensure we have valid high and low prices\n",
    "    if high_price == low_price:\n",
    "        high_price = np.max(close_prices)\n",
    "        low_price = np.min(close_prices)\n",
    "        current_trend = \"uptrend\" if close_prices[-1] > close_prices[0] else \"downtrend\"\n",
    "    \n",
    "    # Calculate Fibonacci levels\n",
    "    diff = high_price - low_price\n",
    "    retracement_levels = {\n",
    "        \"23.6%\": high_price - 0.236 * diff if current_trend == \"uptrend\" else low_price + 0.236 * diff,\n",
    "        \"38.2%\": high_price - 0.382 * diff if current_trend == \"uptrend\" else low_price + 0.382 * diff,\n",
    "        \"50%\": high_price - 0.500 * diff if current_trend == \"uptrend\" else low_price + 0.500 * diff,\n",
    "        \"61.8%\": high_price - 0.618 * diff if current_trend == \"uptrend\" else low_price + 0.618 * diff,\n",
    "        \"78.6%\": high_price - 0.786 * diff if current_trend == \"uptrend\" else low_price + 0.786 * diff\n",
    "    }\n",
    "    \n",
    "    extension_levels = {\n",
    "        \"123.6%\": high_price + 0.236 * diff,\n",
    "        \"138.2%\": high_price + 0.382 * diff,\n",
    "        \"150%\": high_price + 0.500 * diff,\n",
    "        \"161.8%\": high_price + 0.618 * diff,\n",
    "        \"200%\": high_price + diff,\n",
    "    }\n",
    "    \n",
    "    return {\n",
    "        \"trend\": current_trend,\n",
    "        \"prices\": {\n",
    "            \"high_price\": high_price,\n",
    "            \"low_price\": low_price\n",
    "        },\n",
    "        \"retracement_levels\": retracement_levels,\n",
    "        \"extension_levels\": extension_levels,\n",
    "    }"
   ]
  },
  {
   "cell_type": "code",
   "execution_count": 28,
   "id": "84466c71",
   "metadata": {},
   "outputs": [],
   "source": [
    "def calculate_trend(df, short_window=14, long_window=50):\n",
    "    # Higher Highs (HH) and Lower Highs (LH)\n",
    "    df['Rolling_Max_High_Short'] = df['High'].rolling(window=short_window).max()\n",
    "    df['Rolling_Max_High_Long'] = df['High'].rolling(window=long_window).max()\n",
    "    df['HH_Short'] = df['High'] > df['Rolling_Max_High_Short'].shift(1)\n",
    "    df['HH_Long'] = df['High'] > df['Rolling_Max_High_Long'].shift(1)\n",
    "    df['LH_Short'] = df['High'] < df['Rolling_Max_High_Short'].shift(1)\n",
    "    df['LH_Long'] = df['High'] < df['Rolling_Max_High_Long'].shift(1)\n",
    "    \n",
    "    # Higher Lows (HL) and Lower Lows (LL)\n",
    "    df['Rolling_Min_Low_Short'] = df['Low'].rolling(window=short_window).min()\n",
    "    df['Rolling_Min_Low_Long'] = df['Low'].rolling(window=long_window).min()\n",
    "    df['HL_Short'] = df['Low'] > df['Rolling_Min_Low_Short'].shift(1)\n",
    "    df['HL_Long'] = df['Low'] > df['Rolling_Min_Low_Long'].shift(1)\n",
    "    df['LL_Short'] = df['Low'] < df['Rolling_Min_Low_Short'].shift(1)\n",
    "    df['LL_Long'] = df['Low'] < df['Rolling_Min_Low_Long'].shift(1)\n",
    "    \n",
    "    df['Bullish_Strength_Short'] = (df['HH_Short'].rolling(window=short_window).sum() + \n",
    "                                    df['HL_Short'].rolling(window=short_window).sum()) / (2 * short_window)\n",
    "    df['Bearish_Strength_Short'] = (df['LH_Short'].rolling(window=short_window).sum() + \n",
    "                                    df['LL_Short'].rolling(window=short_window).sum()) / (2 * short_window)\n",
    "    \n",
    "    df['Bullish_Strength_Long'] = (df['HH_Long'].rolling(window=long_window).sum() + \n",
    "                                   df['HL_Long'].rolling(window=long_window).sum()) / (2 * long_window)\n",
    "    df['Bearish_Strength_Long'] = (df['LH_Long'].rolling(window=long_window).sum() + \n",
    "                                   df['LL_Long'].rolling(window=long_window).sum()) / (2 * long_window)\n",
    "    \n",
    "    return df[long_window:]"
   ]
  },
  {
   "cell_type": "code",
   "execution_count": 10,
   "id": "a87412dd",
   "metadata": {},
   "outputs": [],
   "source": [
    "def interpret_macd(data):\n",
    "    result = data.iloc[-1]\n",
    "    \n",
    "    pred = result['Prediction']\n",
    "    macd_value = result['MACD']\n",
    "    signal_value = result['Signal Line']\n",
    "    histogram = result['Histogram']\n",
    "    macd_slope = result['MACD_slope']\n",
    "    signal_slope = result['Signal_slope']\n",
    "    \n",
    "    if pred == 'Buy':\n",
    "        if macd_value > signal_value and macd_slope > 0 and signal_slope > 0:\n",
    "            macd_response = \"Strong Buy: MACD is above Signal Line and both are rising.\"\n",
    "            macd_score = 1\n",
    "        elif macd_value > signal_value:\n",
    "            macd_response = \"Buy: MACD has just crossed above the Signal Line.\"\n",
    "            macd_score = 0.5\n",
    "        else:\n",
    "            macd_response = \"Weak Buy: MACD and Signal Line are rising, but MACD is still below Signal Line.\"\n",
    "            macd_score = 0.25\n",
    "    \n",
    "    elif pred == 'Sell':\n",
    "       \n",
    "        if macd_value < signal_value and macd_slope < 0 and signal_slope < 0:\n",
    "            macd_response = \"Strong Sell: MACD is below Signal Line and both are falling.\"\n",
    "            macd_score = -1\n",
    "        elif macd_value < signal_value:\n",
    "            macd_response = \"Sell: MACD has just crossed below the Signal Line.\"\n",
    "            macd_score = -0.5\n",
    "        else:\n",
    "            macd_response = \"Weak Sell: MACD and Signal Line are falling, but MACD is still above Signal Line.\"\n",
    "            macd_score = 0.25\n",
    "    \n",
    "    else:  # Hold\n",
    "        if histogram > 0:\n",
    "            if macd_slope > 0 and signal_slope > 0:\n",
    "                macd_response = \"Hold (Bullish): MACD is above Signal Line and both are rising, but no crossover yet.\"\n",
    "                macd_score = 0.25\n",
    "            elif macd_slope < 0 and signal_slope < 0:\n",
    "                macd_response = \"Hold (Bearish Divergence): MACD is above Signal Line but both are falling.\"\n",
    "                macd_score = -0.25\n",
    "            else:\n",
    "                macd_response = \"Hold: MACD is above Signal Line but trend is unclear.\"\n",
    "                macd_score = 0\n",
    "        else:\n",
    "            if macd_slope < 0 and signal_slope < 0:\n",
    "                macd_response = \"Hold (Bearish): MACD is below Signal Line and both are falling, but no crossover yet.\"\n",
    "                macd_score = 0.25\n",
    "            elif macd_slope > 0 and signal_slope > 0:\n",
    "                macd_response = \"Hold (Bullish Divergence): MACD is below Signal Line but both are rising.\"\n",
    "                macd_score = 0.25\n",
    "            else:\n",
    "                macd_response = \"Hold: MACD is below Signal Line but trend is unclear.\"\n",
    "                macd_score = 0\n",
    "    \n",
    "    return macd_score, macd_response"
   ]
  },
  {
   "cell_type": "code",
   "execution_count": 11,
   "id": "8901018b",
   "metadata": {},
   "outputs": [],
   "source": [
    "def analyze_rsi(data):\n",
    "    rsi_value = data['RSI']\n",
    "    current_rsi = rsi_value.iloc[-1]\n",
    "    prev_rsi = rsi_value.iloc[-2]\n",
    "    rsi_change = current_rsi - prev_rsi\n",
    "\n",
    "    if current_rsi > 70:\n",
    "        if rsi_change > 0:\n",
    "            rsi_score = -1  # Strong Sell\n",
    "            rsi_response = f'RSI is {round(current_rsi, 2)} and rising, indicating strong overbought conditions. Consider SELLING.'\n",
    "        else:\n",
    "            rsi_score = -0.75  # Moderate Sell\n",
    "            rsi_response = f'RSI is {round(current_rsi, 2)} but decreasing, suggesting potential reversal from overbought conditions. Monitor closely for selling opportunities.'\n",
    "\n",
    "    elif 70 >= current_rsi > 60:\n",
    "        if rsi_change > 0:\n",
    "            rsi_score = -0.5  # Mild Sell\n",
    "            rsi_response = f'RSI is {round(current_rsi, 2)} and rising towards overbought territory. Consider selling or holding for some more time before selling .'\n",
    "        else:\n",
    "            rsi_score = -0.25  # Weak Sell\n",
    "            rsi_response = f'RSI is {round(current_rsi, 2)} but decreasing, moving away from overbought levels. Hold positions but stay cautious.'\n",
    "\n",
    "    elif 60 >= current_rsi > 50:\n",
    "        if rsi_change > 0:\n",
    "            rsi_score = 0.25  # Weak Buy\n",
    "            rsi_response = f'RSI is {round(current_rsi, 2)} and rising, showing increasing bullish momentum. Consider BUYING.'\n",
    "        else:\n",
    "            rsi_score = -0.25  # Weak Sell\n",
    "            rsi_response = f'RSI is {round(current_rsi, 2)} but decreasing, indicating weakening bullish momentum. Hold current positions.'\n",
    "\n",
    "    elif 50 >= current_rsi > 40:\n",
    "        if rsi_change > 0:\n",
    "            rsi_score = 0.25  # Weak Buy\n",
    "            rsi_response = f'RSI is {round(current_rsi, 2)} and rising, showing potential recovery from bearish territory. Monitor for buying opportunities.'\n",
    "        else:\n",
    "            rsi_score = -0.25  # Weak Sell\n",
    "            rsi_response = f'RSI is {round(current_rsi, 2)} and decreasing, moving towards oversold levels. Hold current positions and watch for further decline to buy.'\n",
    "\n",
    "    elif 40 >= current_rsi > 30:\n",
    "        if rsi_change > 0:\n",
    "            rsi_score = 0.5  # Mild Buy\n",
    "            rsi_response = f'RSI is {round(current_rsi, 2)} and rising from oversold levels. Consider initiating buying.'\n",
    "        else:\n",
    "            rsi_score = 0.25  # Weak Buy\n",
    "            rsi_response = f'RSI is {round(current_rsi, 2)} and approaching oversold territory. Prepare for buying opportunities.'\n",
    "\n",
    "    else:  # RSI <= 30\n",
    "        if rsi_change > 0:\n",
    "            rsi_score = 0.75  # Moderate Buy\n",
    "            rsi_response = f'RSI is {round(current_rsi, 2)} and rising from oversold conditions. Strong buying opportunity, but be aware of potential false signals.'\n",
    "        else:\n",
    "            rsi_score = 1  # Strong Buy\n",
    "            rsi_response = f'RSI is {round(current_rsi, 2)} and still decreasing in oversold territory. Very strong buy signal, but confirm with other indicators.'\n",
    "\n",
    "    return rsi_score, rsi_response"
   ]
  },
  {
   "cell_type": "code",
   "execution_count": 12,
   "id": "1ccef26c",
   "metadata": {},
   "outputs": [],
   "source": [
    "def fib_insight(current_price, levels, trend, previous_price):\n",
    "    insights = []\n",
    "    weight = 0.5  # Start with a neutral weight\n",
    "    \n",
    "    def get_nearest_levels(price, level_dict):\n",
    "        sorted_levels = sorted(level_dict.items(), key=lambda x: x[1])\n",
    "        below = next(((name, value) for name, value in reversed(sorted_levels) if value < price), None)\n",
    "        above = next(((name, value) for name, value in sorted_levels if value > price), None)\n",
    "        return below, above\n",
    "\n",
    "    def calculate_slope(price1, price2):\n",
    "        return (price2 - price1) / price1\n",
    "\n",
    "    slope = calculate_slope(previous_price, current_price)\n",
    "    \n",
    "    if trend == 'uptrend':\n",
    "        below, above = get_nearest_levels(current_price, levels['extension'])\n",
    "        \n",
    "        if below and above:\n",
    "            below_name, below_value = below\n",
    "            above_name, above_value = above\n",
    "            progress = (current_price - below_value) / (above_value - below_value)\n",
    "            insights.append(f\"Price is between {below_name} ({round(below_value, 2)}) and {above_name} ({round(above_value, 2)}) extension levels.\")\n",
    "            insights.append(f\"Current price has retraced {round(progress * 100, 2)}% of the distance between these levels.\")\n",
    "            \n",
    "            if slope > 0:\n",
    "                insights.append(f\"Price is trending upwards towards {above_name} level. Recommendation: Hold and Buy in the future when the oppurtunity turns up.\")\n",
    "                weight = min(weight + 0.1, 1)\n",
    "            else:\n",
    "                insights.append(f\"Price is trending downwards towards {below_name} level. Recommendation: Buy in the future when the oppurtunity turns up\")\n",
    "                weight = max(weight - 0.1, 0)\n",
    "            \n",
    "            if progress < 0.2:\n",
    "                insights.append(f\"Price is close to {below_name} level, may act as support.\")\n",
    "                weight = min(weight + 0.1, 1)\n",
    "            elif progress > 0.8:\n",
    "                insights.append(f\"Price is approaching {above_name} level, may face resistance.\")\n",
    "                weight = max(weight - 0.1, 0)\n",
    "        \n",
    "        for level_name, level_value in levels['extension'].items():\n",
    "            price_diff_percent = (current_price - level_value) / level_value * 100\n",
    "            if abs(price_diff_percent) <= 1:  # Within 1% of a level\n",
    "                insights.append(f\"Price is very close to {level_name} extension level ({round(level_value, 2)}), indicating potential resistance.\")\n",
    "                if slope > 0:\n",
    "                    insights.append(\"Price is moving upwards. Recommendation: Hold.\")\n",
    "                    weight = max(weight - 0.2, 0)\n",
    "                else:\n",
    "                    insights.append(\"Price is moving downwards. Recommendation: Look for an oppturnity to Buy in the future.\")\n",
    "                    weight = min(weight + 0.1, 1)\n",
    "            elif price_diff_percent > 1:  # Above a level\n",
    "                weight = min(weight + 0.05 * (1 - price_diff_percent / 10), 1)  # Gradual weight increase\n",
    "            \n",
    "    elif trend == 'downtrend':\n",
    "        below, above = get_nearest_levels(current_price, levels['retracement'])\n",
    "        \n",
    "        if below and above:\n",
    "            below_name, below_value = below\n",
    "            above_name, above_value = above\n",
    "            progress = (current_price - below_value) / (above_value - below_value)\n",
    "            insights.append(f\"Price is between {below_name} ({round(below_value, 2)}) and {above_name} ({round(above_value, 2)}) retracement levels.\")\n",
    "            insights.append(f\"Current price has retraced {round(progress * 100, 2)}% of the distance between these levels.\")\n",
    "            \n",
    "            if slope > 0:\n",
    "                insights.append(f\"Price is trending upwards towards {above_name} level. Recommendation: Hold or Buy in the future when the oppurtunity turns up.\")\n",
    "                weight = min(weight + 0.1, 1)\n",
    "            else:\n",
    "                insights.append(f\"Price is trending downwards towards {below_name} level. Recommendation: Buy in the future when the oppurtunity turns up.\")\n",
    "                weight = max(weight - 0.1, 0)\n",
    "            \n",
    "            if progress < 0.2:\n",
    "                insights.append(f\"Price is close to {below_name} level, may act as support.\")\n",
    "                weight = min(weight + 0.1, 1)\n",
    "            elif progress > 0.8:\n",
    "                insights.append(f\"Price is approaching {above_name} level, may face resistance.\")\n",
    "                weight = max(weight - 0.1, 0)\n",
    "        \n",
    "        for level_name, level_value in levels['retracement'].items():\n",
    "            price_diff_percent = (current_price - level_value) / level_value * 100\n",
    "            if abs(price_diff_percent) <= 1:  # Within 1% of a level\n",
    "                insights.append(f\"Price is very close to {level_name} retracement level ({round(level_value, 2)}), indicating potential support.\")\n",
    "                if slope > 0:\n",
    "                    insights.append(\"Price is moving upwards. Recommendation: Hold or Sell in the future when the oppurtunity turns up.\")\n",
    "                    weight = min(weight + 0.2, 1)\n",
    "                else:\n",
    "                    insights.append(\"Price is moving downwards. Recommendation:Sell in the future when the oppurtunity turns up.\")\n",
    "                    weight = max(weight - 0.1, 0)\n",
    "            elif price_diff_percent < -1:  # Below a level\n",
    "                weight = max(weight - 0.05 * (1 + price_diff_percent / 10), 0)  # Gradual weight decrease\n",
    "\n",
    "    # Add overall trend insight based on slope\n",
    "    if slope > 0:\n",
    "        insights.append(f\"Overall, price is trending upwards. Recommendation: Hold or Buy in the future when the oppurtunity turns up.\")\n",
    "        weight = min(weight + 0.1, 1)\n",
    "    elif slope < 0:\n",
    "        insights.append(f\"Overall, price is trending downwards. Recommendation: Buy in the future when the oppurtunity turns up.\")\n",
    "        weight = max(weight - 0.1, 0)\n",
    "    else:\n",
    "        insights.append(\"Price is currently stable with no significant movement. Recommendation: Hold.\")\n",
    "\n",
    "    return insights, weight"
   ]
  },
  {
   "cell_type": "code",
   "execution_count": 27,
   "id": "c7b6e8e6",
   "metadata": {},
   "outputs": [],
   "source": [
    "def analyze_trend(df):\n",
    "    bullish_strength_short = df['Bullish_Strength_Short'].iloc[-1]\n",
    "    bearish_strength_short = df['Bearish_Strength_Short'].iloc[-1]\n",
    "    bullish_strength_long = df['Bullish_Strength_Long'].iloc[-1]\n",
    "    bearish_strength_long = df['Bearish_Strength_Long'].iloc[-1]\n",
    "    \n",
    "    short_term_bias = \"bullish\" if bullish_strength_short > bearish_strength_short else \"bearish\"\n",
    "    long_term_bias = \"bullish\" if bullish_strength_long > bearish_strength_long else \"bearish\"\n",
    "    \n",
    "    if short_term_bias == long_term_bias:\n",
    "        if short_term_bias == \"bullish\":\n",
    "            trend_score = 1  # Strong Bullish\n",
    "            trend_response = f\"The stock is in a strong uptrend, with both short-term and long-term indicators showing bullish signals.\"\n",
    "        else:\n",
    "            trend_score = -1  # Strong Bearish\n",
    "            trend_response = f\"The stock is in a strong downtrend, with both short-term and long-term indicators showing bearish signals.\"\n",
    "    else:\n",
    "        if short_term_bias == \"bullish\":\n",
    "            trend_score = 0.25  # Weak Bullish\n",
    "            trend_response = f\"While the stock is showing recent signs of recovery, it remains in an overall downtrend. Exercise caution with any bullish positions.\"\n",
    "        else:\n",
    "            trend_score = -0.25  # Weak Bearish\n",
    "            trend_response = f\"Although the stock has been falling recently, it remains in an overall uptrend. This could be a temporary pullback in a larger bullish move.\"\n",
    "    \n",
    "    return trend_score, trend_response"
   ]
  },
  {
   "cell_type": "code",
   "execution_count": 13,
   "id": "ffee8d3f",
   "metadata": {},
   "outputs": [],
   "source": [
    "def visualise_fib(d, data):\n",
    "    high = d[\"prices\"]['high_price']\n",
    "    low = d[\"prices\"]['low_price']\n",
    "    trend = d[\"trend\"]\n",
    "    \n",
    "    retracement_levels = d['retracement_levels']\n",
    "    extension_levels = d['extension_levels']\n",
    "    \n",
    "    trend_start_date = data.index[data['Close'] == low][0]\n",
    "    trend_end_date = data.index[data['Close'] == high][0]\n",
    "    \n",
    "    sorted_retracement = sorted(retracement_levels.items(), key=lambda x: float(x[0].strip('%')))\n",
    "    sorted_extension = sorted(extension_levels.items(), key=lambda x: float(x[0].strip('%')), reverse=True)\n",
    "    sorted_levels = sorted_extension + sorted_retracement\n",
    "    \n",
    "    extension_colors = ['#FF4136', '#FF851B', '#FFDC00', '#2ECC40', '#0074D9']  # Red, Orange, Yellow, Green, Blue\n",
    "    retracement_colors = ['#B10DC9', '#F012BE', '#85144b', '#001f3f', '#39CCCC']  # Purple, Pink, Maroon, Navy, Teal\n",
    "    \n",
    "    colors = extension_colors[:len(extension_levels)] + retracement_colors[:len(retracement_levels)]\n",
    "    \n",
    "    fig = make_subplots(specs=[[{\"secondary_y\": True}]])\n",
    "    \n",
    "    hover_template = \"<b>Date:</b> %{x|%d %b %y}<br><b>Close:</b> %{y:.2f}<extra></extra>\"\n",
    "    fig.add_trace(go.Scatter(\n",
    "        x=data.index, \n",
    "        y=data['Close'], \n",
    "        name='Close Price', \n",
    "        line=dict(color='#1e90ff', width=3),\n",
    "        hovertemplate=hover_template\n",
    "    ))\n",
    "    \n",
    "    # Add trend area\n",
    "#     fig.add_trace(go.Scatter(x=[trend_start_date, trend_start_date, trend_end_date, trend_end_date],\n",
    "#                              y=[data['Close'].min(), data['Close'].max(), data['Close'].max(), data['Close'].min()],\n",
    "#                              fill='toself',\n",
    "#                              fillcolor='rgba(255,255,0,0.3)',\n",
    "#                              line=dict(color='rgba(255,255,0,0)'),\n",
    "#                              name='Trend Area'))\n",
    "    \n",
    "    # Add Fibonacci levels\n",
    "    for i, (label, level) in enumerate(sorted_levels):\n",
    "        color = colors[i]\n",
    "        dash = 'dash' if label in retracement_levels else 'dot'\n",
    "        fig.add_trace(go.Scatter(x=[data.index[0], data.index[-1]], y=[level, level],\n",
    "                                 mode='lines',\n",
    "                                 name=f'{label} ({round(level, 2)})',\n",
    "                                 line=dict(color=color, width=2, dash=dash)))\n",
    "        \n",
    "        # Add level badges\n",
    "        fig.add_annotation(x=data.index[-1], y=level,\n",
    "                           text=f'{label} ({round(level, 2)})',\n",
    "                           showarrow=False,\n",
    "                           xanchor='left',\n",
    "                           xshift=10,\n",
    "                           font=dict(color=color, size=10),\n",
    "                           bgcolor='white',\n",
    "                           bordercolor=color,\n",
    "                           borderwidth=2,\n",
    "                           borderpad=4,\n",
    "                           opacity=0.8)\n",
    "    \n",
    "    # Update layout\n",
    "    fig.update_layout(\n",
    "        title='Fibonacci Retracement and Extension Levels',\n",
    "        xaxis_title='Date',\n",
    "        yaxis_title='Price',\n",
    "        legend_title='Levels',\n",
    "        hovermode='x unified',\n",
    "        xaxis=dict(\n",
    "            tickformat='%d %b %y',  # Updated date format\n",
    "            tickangle=45,\n",
    "            range=[data.index[-180], data.index[-1] + pd.Timedelta(days=20)],\n",
    "            tickmode='array',\n",
    "            tickvals=pd.date_range(start=data.index[-180], end=data.index[-1], freq='MS'),  # Monthly ticks\n",
    "            ticktext=pd.date_range(start=data.index[-180], end=data.index[-1], freq='MS').strftime('%d %b %y')  # Formatted tick labels\n",
    "        ),\n",
    "        showlegend=True\n",
    "    )\n",
    "    \n",
    "    fig.update_yaxes(tickformat='.2f')\n",
    "    \n",
    "    return fig"
   ]
  },
  {
   "cell_type": "code",
   "execution_count": 14,
   "id": "219435ff",
   "metadata": {},
   "outputs": [],
   "source": [
    "def visualise_macd(data):\n",
    "    \n",
    "    valid_data = data.dropna(subset=['MACD', 'Signal Line'])\n",
    "    \n",
    "    fig, ax1 = plt.subplots(1, figsize=(12,8))\n",
    "    \n",
    "    plt.style.use('ggplot')\n",
    "    \n",
    "    # Change colors to more pleasing options\n",
    "    macd_color = '#1e90ff'  # Dodger Blue\n",
    "    signal_color = '#ff6347'  # Tomato\n",
    "    \n",
    "    # Plot MACD and Signal lines\n",
    "    ax1.plot(valid_data.index, valid_data['MACD'], label='MACD', color=macd_color, linewidth=1.5)\n",
    "    ax1.plot(valid_data.index, valid_data['Signal Line'], label='Signal Line', color=signal_color, linestyle='--', linewidth=1.5)\n",
    "    \n",
    "    # Improve histogram appearance using fill_between instead of bar\n",
    "    histogram = valid_data['MACD'] - valid_data['Signal Line']\n",
    "    ax1.fill_between(valid_data.index, histogram, 0, where=histogram >= 0, facecolor='#2ecc71', alpha=0.7, interpolate=True, label='Positive Histogram')\n",
    "    ax1.fill_between(valid_data.index, histogram, 0, where=histogram < 0, facecolor='#e74c3c', alpha=0.7, interpolate=True, label='Negative Histogram')\n",
    "    \n",
    "    # Enhance the legend\n",
    "    ax1.legend(loc='upper left', frameon=True, fancybox=True, shadow=True)\n",
    "    \n",
    "    # Improve x-axis\n",
    "    ax1.xaxis.set_major_locator(mdates.MonthLocator())\n",
    "    ax1.xaxis.set_major_formatter(mdates.DateFormatter('%b'))\n",
    "    plt.xticks(rotation=45, ha='right')\n",
    "    \n",
    "    # Adding extra days\n",
    "    extra_days = pd.Timedelta(days=20)\n",
    "    ax1.set_xlim(data.index[0], data.index[-1]+extra_days)\n",
    "    \n",
    "    # Set title and labels\n",
    "    ax1.set_title(\"MACD Indicator\", fontsize=16, fontweight='bold')\n",
    "    ax1.set_xlabel(\"Date\", fontsize=12)\n",
    "    ax1.set_ylabel(\"MACD Value\", fontsize=12)\n",
    "    \n",
    "    \n",
    "    ax1.grid(True, linestyle='--', alpha=0.7)\n",
    "    \n",
    "    # Adjust layout\n",
    "    plt.tight_layout()\n",
    "    \n",
    "    plt.show()"
   ]
  },
  {
   "cell_type": "code",
   "execution_count": 15,
   "id": "a94ef505",
   "metadata": {},
   "outputs": [],
   "source": [
    "def visualise_rsi(data, window):\n",
    "    fig = go.Figure()\n",
    "\n",
    "    # Add the RSI line\n",
    "    fig.add_trace(go.Scatter(\n",
    "        x=data.index,\n",
    "        y=data['RSI'],\n",
    "        mode='lines',\n",
    "        name='RSI',\n",
    "        line=dict(color='dodgerblue', width=2),\n",
    "        hovertemplate='Date: %{x|%b %d}<br>RSI: %{y:.2f}<extra></extra>'\n",
    "    ))\n",
    "\n",
    "    # Add threshold lines for overbought (70) and oversold (30)\n",
    "    fig.add_hline(y=70, line_dash=\"dash\", line_color=\"red\", line_width=2)\n",
    "    fig.add_hline(y=30, line_dash=\"dash\", line_color=\"green\", line_width=2)\n",
    "\n",
    "    # Set axis labels and title\n",
    "    fig.update_layout(\n",
    "        title=\"RSI (Relative Strength Index)\",\n",
    "        yaxis_title=\"RSI Value\",\n",
    "        xaxis_title=\"Date\",\n",
    "        font=dict(size=14),\n",
    "        showlegend=True,\n",
    "        legend=dict(x=0.01, y=0.99, font=dict(size=12)),\n",
    "        hovermode=\"x unified\",\n",
    "    )\n",
    "\n",
    "    # Set y-axis range and tick values\n",
    "    fig.update_yaxes(\n",
    "        range=[0, 100],\n",
    "        tickmode='linear',\n",
    "        tick0=0,\n",
    "        dtick=10\n",
    "    )\n",
    "\n",
    "    # Set x-axis range and tick format\n",
    "    extra_days = pd.Timedelta(days=20)\n",
    "    fig.update_xaxes(\n",
    "        range=[data.index[window-2], data.index[-1]+extra_days],\n",
    "        tickmode='auto',\n",
    "        nticks=10\n",
    "    )\n",
    "\n",
    "    # Update the layout for a cleaner look\n",
    "    fig.update_layout(\n",
    "        plot_bgcolor='white',\n",
    "        xaxis=dict(\n",
    "            showgrid=True,\n",
    "            zeroline=False,\n",
    "            showline=True,\n",
    "            showticklabels=True,\n",
    "        ),\n",
    "        yaxis=dict(\n",
    "            showgrid=True,\n",
    "            zeroline=False,\n",
    "            showline=True,\n",
    "            showticklabels=True,\n",
    "        )\n",
    "    )\n",
    "\n",
    "    # Show the plot\n",
    "    fig.show()"
   ]
  },
  {
   "cell_type": "code",
   "execution_count": 16,
   "id": "16a8f068",
   "metadata": {},
   "outputs": [],
   "source": [
    "def plot_stock_trends_candlestick(df):\n",
    "    # Create the candlestick chart\n",
    "    fig = go.Figure(data=[go.Candlestick(\n",
    "        x=df.index,\n",
    "        open=df['Open'],\n",
    "        high=df['High'],\n",
    "        low=df['Low'],\n",
    "        close=df['Close'],\n",
    "        increasing_line_color='#26A69A',  # Green color for up candles\n",
    "        decreasing_line_color='#EF5350',  # Red color for down candles\n",
    "        line=dict(width=1),  # Thinner lines for candle wicks\n",
    "        increasing_fillcolor='#26A69A',  # Fill color for up candles\n",
    "        decreasing_fillcolor='#EF5350'   # Fill color for down candles\n",
    "    )])\n",
    "\n",
    "    # Update layout for a cleaner look\n",
    "    fig.update_layout(\n",
    "        title='Candle Chart',\n",
    "        yaxis_title= 'Price', \n",
    "        xaxis_title='Date',  \n",
    "        xaxis_rangeslider_visible=False,\n",
    "        plot_bgcolor='white',\n",
    "        hovermode='x unified',\n",
    "        showlegend=False, \n",
    "        margin=dict(l=0, r=0, t=0, b=0)  # Remove margins\n",
    "    )\n",
    "\n",
    "    # Update y-axis\n",
    "    fig.update_yaxes(\n",
    "        showgrid=True,\n",
    "        gridwidth=1,\n",
    "        gridcolor='lightgrey',\n",
    "        zeroline=False,\n",
    "        showticklabels=True\n",
    "    )\n",
    "\n",
    "    # Update x-axis\n",
    "    fig.update_xaxes(\n",
    "        showgrid=True,\n",
    "        gridwidth=1,\n",
    "        gridcolor='lightgrey',\n",
    "        zeroline=False,\n",
    "        rangeslider_visible=False,\n",
    "        showticklabels=True,\n",
    "        rangebreaks=[dict(bounds=[\"sat\", \"mon\"])]  # hide weekends\n",
    "    )\n",
    "\n",
    "    fig.show() "
   ]
  },
  {
   "cell_type": "code",
   "execution_count": 17,
   "id": "217fe659",
   "metadata": {},
   "outputs": [],
   "source": [
    "import warnings\n",
    "warnings.filterwarnings('ignore')"
   ]
  },
  {
   "cell_type": "code",
   "execution_count": 30,
   "id": "c6f409ba",
   "metadata": {
    "scrolled": true
   },
   "outputs": [
    {
     "name": "stdout",
     "output_type": "stream",
     "text": [
      "Enter a name: tata motors\n",
      "\n",
      "Buy stocks of Tata Motors Limited\n",
      "Current Price of Tata Motors Limited: 930.7\n",
      "Market Cap of Tata Motors Limited: 342579.51 Crores\n",
      "The P/E ratio is 10.57, which is below 20, hence BUY\n"
     ]
    },
    {
     "data": {
      "image/png": "[encoded data removed]",
      "text/plain": [
       "<Figure size 1200x800 with 1 Axes>"
      ]
     },
     "metadata": {},
     "output_type": "display_data"
    },
    {
     "name": "stdout",
     "output_type": "stream",
     "text": [
      "Hold: MACD is below Signal Line but trend is unclear.\n"
     ]
    },
    {
     "data": {
      "application/vnd.plotly.v1+json": {
       "config": {
        "plotlyServerURL": "https://plot.ly"
       },
       "data": [
        {
         "hovertemplate": "Date: %{x|%b %d}<br>RSI: %{y:.2f}<extra></extra>",
         "line": {
          "color": "dodgerblue",
          "width": 2
         },
         "mode": "lines",
         "name": "RSI",
         "type": "scatter",
         "x": [
          "2023-11-01T00:00:00+05:30",
          "2023-11-02T00:00:00+05:30",
          "2023-11-03T00:00:00+05:30",
          "2023-11-06T00:00:00+05:30",
          "2023-11-07T00:00:00+05:30",
          "2023-11-08T00:00:00+05:30",
          "2023-11-09T00:00:00+05:30",
          "2023-11-10T00:00:00+05:30",
          "2023-11-13T00:00:00+05:30",
          "2023-11-15T00:00:00+05:30",
          "2023-11-16T00:00:00+05:30",
          "2023-11-17T00:00:00+05:30",
          "2023-11-20T00:00:00+05:30",
          "2023-11-21T00:00:00+05:30",
          "2023-11-22T00:00:00+05:30",
          "2023-11-23T00:00:00+05:30",
          "2023-11-24T00:00:00+05:30",
          "2023-11-28T00:00:00+05:30",
          "2023-11-29T00:00:00+05:30",
          "2023-11-30T00:00:00+05:30",
          "2023-12-01T00:00:00+05:30",
          "2023-12-04T00:00:00+05:30",
          "2023-12-05T00:00:00+05:30",
          "2023-12-06T00:00:00+05:30",
          "2023-12-07T00:00:00+05:30",
          "2023-12-08T00:00:00+05:30",
          "2023-12-11T00:00:00+05:30",
          "2023-12-12T00:00:00+05:30",
          "2023-12-13T00:00:00+05:30",
          "2023-12-14T00:00:00+05:30",
          "2023-12-15T00:00:00+05:30",
          "2023-12-18T00:00:00+05:30",
          "2023-12-19T00:00:00+05:30",
          "2023-12-20T00:00:00+05:30",
          "2023-12-21T00:00:00+05:30",
          "2023-12-22T00:00:00+05:30",
          "2023-12-26T00:00:00+05:30",
          "2023-12-27T00:00:00+05:30",
          "2023-12-28T00:00:00+05:30",
          "2023-12-29T00:00:00+05:30",
          "2024-01-01T00:00:00+05:30",
          "2024-01-02T00:00:00+05:30",
          "2024-01-03T00:00:00+05:30",
          "2024-01-04T00:00:00+05:30",
          "2024-01-05T00:00:00+05:30",
          "2024-01-08T00:00:00+05:30",
          "2024-01-09T00:00:00+05:30",
          "2024-01-10T00:00:00+05:30",
          "2024-01-11T00:00:00+05:30",
          "2024-01-12T00:00:00+05:30",
          "2024-01-15T00:00:00+05:30",
          "2024-01-16T00:00:00+05:30",
          "2024-01-17T00:00:00+05:30",
          "2024-01-18T00:00:00+05:30",
          "2024-01-19T00:00:00+05:30",
          "2024-01-23T00:00:00+05:30",
          "2024-01-24T00:00:00+05:30",
          "2024-01-25T00:00:00+05:30",
          "2024-01-29T00:00:00+05:30",
          "2024-01-30T00:00:00+05:30",
          "2024-01-31T00:00:00+05:30",
          "2024-02-01T00:00:00+05:30",
          "2024-02-02T00:00:00+05:30",
          "2024-02-05T00:00:00+05:30",
          "2024-02-06T00:00:00+05:30",
          "2024-02-07T00:00:00+05:30",
          "2024-02-08T00:00:00+05:30",
          "2024-02-09T00:00:00+05:30",
          "2024-02-12T00:00:00+05:30",
          "2024-02-13T00:00:00+05:30",
          "2024-02-14T00:00:00+05:30",
          "2024-02-15T00:00:00+05:30",
          "2024-02-16T00:00:00+05:30",
          "2024-02-19T00:00:00+05:30",
          "2024-02-20T00:00:00+05:30",
          "2024-02-21T00:00:00+05:30",
          "2024-02-22T00:00:00+05:30",
          "2024-02-23T00:00:00+05:30",
          "2024-02-26T00:00:00+05:30",
          "2024-02-27T00:00:00+05:30",
          "2024-02-28T00:00:00+05:30",
          "2024-02-29T00:00:00+05:30",
          "2024-03-01T00:00:00+05:30",
          "2024-03-04T00:00:00+05:30",
          "2024-03-05T00:00:00+05:30",
          "2024-03-06T00:00:00+05:30",
          "2024-03-07T00:00:00+05:30",
          "2024-03-11T00:00:00+05:30",
          "2024-03-12T00:00:00+05:30",
          "2024-03-13T00:00:00+05:30",
          "2024-03-14T00:00:00+05:30",
          "2024-03-15T00:00:00+05:30",
          "2024-03-18T00:00:00+05:30",
          "2024-03-19T00:00:00+05:30",
          "2024-03-20T00:00:00+05:30",
          "2024-03-21T00:00:00+05:30",
          "2024-03-22T00:00:00+05:30",
          "2024-03-26T00:00:00+05:30",
          "2024-03-27T00:00:00+05:30",
          "2024-03-28T00:00:00+05:30",
          "2024-04-01T00:00:00+05:30",
          "2024-04-02T00:00:00+05:30",
          "2024-04-03T00:00:00+05:30",
          "2024-04-04T00:00:00+05:30",
          "2024-04-05T00:00:00+05:30",
          "2024-04-08T00:00:00+05:30",
          "2024-04-09T00:00:00+05:30",
          "2024-04-10T00:00:00+05:30",
          "2024-04-12T00:00:00+05:30",
          "2024-04-15T00:00:00+05:30",
          "2024-04-16T00:00:00+05:30",
          "2024-04-18T00:00:00+05:30",
          "2024-04-19T00:00:00+05:30",
          "2024-04-22T00:00:00+05:30",
          "2024-04-23T00:00:00+05:30",
          "2024-04-24T00:00:00+05:30",
          "2024-04-25T00:00:00+05:30",
          "2024-04-26T00:00:00+05:30",
          "2024-04-29T00:00:00+05:30",
          "2024-04-30T00:00:00+05:30",
          "2024-05-02T00:00:00+05:30",
          "2024-05-03T00:00:00+05:30",
          "2024-05-06T00:00:00+05:30",
          "2024-05-07T00:00:00+05:30",
          "2024-05-08T00:00:00+05:30",
          "2024-05-09T00:00:00+05:30",
          "2024-05-10T00:00:00+05:30",
          "2024-05-13T00:00:00+05:30",
          "2024-05-14T00:00:00+05:30",
          "2024-05-15T00:00:00+05:30",
          "2024-05-16T00:00:00+05:30",
          "2024-05-17T00:00:00+05:30",
          "2024-05-21T00:00:00+05:30",
          "2024-05-22T00:00:00+05:30",
          "2024-05-23T00:00:00+05:30",
          "2024-05-24T00:00:00+05:30",
          "2024-05-27T00:00:00+05:30",
          "2024-05-28T00:00:00+05:30",
          "2024-05-29T00:00:00+05:30",
          "2024-05-30T00:00:00+05:30",
          "2024-05-31T00:00:00+05:30",
          "2024-06-03T00:00:00+05:30",
          "2024-06-04T00:00:00+05:30",
          "2024-06-05T00:00:00+05:30",
          "2024-06-06T00:00:00+05:30",
          "2024-06-07T00:00:00+05:30",
          "2024-06-10T00:00:00+05:30",
          "2024-06-11T00:00:00+05:30",
          "2024-06-12T00:00:00+05:30",
          "2024-06-13T00:00:00+05:30",
          "2024-06-14T00:00:00+05:30",
          "2024-06-18T00:00:00+05:30",
          "2024-06-19T00:00:00+05:30",
          "2024-06-20T00:00:00+05:30",
          "2024-06-21T00:00:00+05:30",
          "2024-06-24T00:00:00+05:30",
          "2024-06-25T00:00:00+05:30",
          "2024-06-26T00:00:00+05:30",
          "2024-06-27T00:00:00+05:30",
          "2024-06-28T00:00:00+05:30",
          "2024-07-01T00:00:00+05:30",
          "2024-07-02T00:00:00+05:30",
          "2024-07-03T00:00:00+05:30",
          "2024-07-04T00:00:00+05:30",
          "2024-07-05T00:00:00+05:30",
          "2024-07-08T00:00:00+05:30",
          "2024-07-09T00:00:00+05:30",
          "2024-07-10T00:00:00+05:30",
          "2024-07-11T00:00:00+05:30",
          "2024-07-12T00:00:00+05:30",
          "2024-07-15T00:00:00+05:30",
          "2024-07-16T00:00:00+05:30",
          "2024-07-18T00:00:00+05:30",
          "2024-07-19T00:00:00+05:30",
          "2024-07-22T00:00:00+05:30",
          "2024-07-23T00:00:00+05:30",
          "2024-07-24T00:00:00+05:30",
          "2024-07-25T00:00:00+05:30",
          "2024-07-26T00:00:00+05:30",
          "2024-07-29T00:00:00+05:30",
          "2024-07-30T00:00:00+05:30",
          "2024-07-31T00:00:00+05:30",
          "2024-08-01T00:00:00+05:30",
          "2024-08-02T00:00:00+05:30",
          "2024-08-05T00:00:00+05:30",
          "2024-08-06T00:00:00+05:30",
          "2024-08-07T00:00:00+05:30",
          "2024-08-08T00:00:00+05:30",
          "2024-08-09T00:00:00+05:30",
          "2024-08-12T00:00:00+05:30",
          "2024-08-13T00:00:00+05:30",
          "2024-08-14T00:00:00+05:30",
          "2024-08-16T00:00:00+05:30",
          "2024-08-19T00:00:00+05:30",
          "2024-08-20T00:00:00+05:30",
          "2024-08-21T00:00:00+05:30",
          "2024-08-22T00:00:00+05:30",
          "2024-08-23T00:00:00+05:30",
          "2024-08-26T00:00:00+05:30",
          "2024-08-27T00:00:00+05:30",
          "2024-08-28T00:00:00+05:30",
          "2024-08-29T00:00:00+05:30",
          "2024-08-30T00:00:00+05:30",
          "2024-09-02T00:00:00+05:30",
          "2024-09-03T00:00:00+05:30",
          "2024-09-04T00:00:00+05:30",
          "2024-09-05T00:00:00+05:30",
          "2024-09-06T00:00:00+05:30",
          "2024-09-09T00:00:00+05:30",
          "2024-09-10T00:00:00+05:30",
          "2024-09-11T00:00:00+05:30",
          "2024-09-12T00:00:00+05:30",
          "2024-09-13T00:00:00+05:30",
          "2024-09-16T00:00:00+05:30",
          "2024-09-17T00:00:00+05:30",
          "2024-09-18T00:00:00+05:30",
          "2024-09-19T00:00:00+05:30",
          "2024-09-20T00:00:00+05:30",
          "2024-09-23T00:00:00+05:30",
          "2024-09-24T00:00:00+05:30",
          "2024-09-25T00:00:00+05:30",
          "2024-09-26T00:00:00+05:30",
          "2024-09-27T00:00:00+05:30",
          "2024-09-30T00:00:00+05:30",
          "2024-10-01T00:00:00+05:30",
          "2024-10-03T00:00:00+05:30",
          "2024-10-04T00:00:00+05:30",
          "2024-10-07T00:00:00+05:30",
          "2024-10-08T00:00:00+05:30",
          "2024-10-09T00:00:00+05:30",
          "2024-10-10T00:00:00+05:30",
          "2024-10-11T00:00:00+05:30"
         ],
         "y": [
          47.511926176790084,
          51.365507633610385,
          55.78074044666028,
          55.07417332586368,
          54.53547944758089,
          53.22722281119118,
          56.356624088140734,
          57.128873673297065,
          58.16065000732073,
          65.58109595452531,
          68.49148854673875,
          68.85995361913172,
          63.79477608857134,
          66.50315874444851,
          66.14315845858535,
          65.19292940570418,
          60.5119251806177,
          69.49444734639903,
          73.53902510003769,
          69.55954354324982,
          68.91828042069947,
          68.96692644365353,
          70.09274317032032,
          74.16083179753387,
          73.76068593671812,
          67.91916037018106,
          70.07477187248244,
          65.95146665649601,
          67.80281197343584,
          67.36009793598879,
          71.90424100889783,
          70.5660528329542,
          68.96782261364943,
          52.54812657102874,
          54.326887484429,
          61.219576085320355,
          58.148918484012704,
          65.80604037967635,
          69.46899086601658,
          75.20161444289502,
          77.0951137792284,
          73.57315452054308,
          71.89029702572435,
          74.88873734202396,
          72.10829678726732,
          71.0139137508805,
          73.51732299450397,
          75.36930143898932,
          76.82223532953545,
          76.98467751320528,
          74.18489663226936,
          75.70719709524558,
          66.88073859734074,
          70.62445266669137,
          71.76997263749338,
          59.042053918765724,
          62.299316078728104,
          62.590563616586984,
          70.1986421156827,
          73.72280179896849,
          77.74743623659847,
          74.96707970842165,
          75.00928803115193,
          81.4750969663067,
          82.75043518287143,
          80.07311121998004,
          75.71452135390483,
          71.60540605487319,
          70.10737498796641,
          67.98993027219004,
          70.33066887602797,
          70.78474774390844,
          74.1965825259796,
          71.21919643555333,
          68.15132446851953,
          65.57181285900083,
          68.31339134906655,
          69.49917061363125,
          69.25291691846081,
          74.76340616498857,
          72.24537420606117,
          68.07699696852848,
          73.73240415559548,
          75.42187210475281,
          80.26258036868671,
          78.2303145396591,
          80.88543204273337,
          75.69609826384767,
          70.72324250650696,
          55.846618859881666,
          54.29841728117517,
          48.48219384597744,
          54.81339196597686,
          51.077627024564556,
          47.01641854120799,
          52.73610799240508,
          55.86307726019579,
          57.17371860172297,
          55.095241078450336,
          58.16486918979071,
          57.99889901873753,
          60.72009035143028,
          61.69012796064577,
          62.236898305630675,
          60.52808184643007,
          62.049229716574985,
          60.126569188595404,
          61.49353071813943,
          62.86455760803699,
          54.61376940740236,
          52.35976776833548,
          45.180689828861006,
          42.78058828132155,
          46.65610566923401,
          51.19616411209605,
          52.80202496301809,
          55.86598913105044,
          55.16297495202199,
          55.54166410892025,
          58.07263955264037,
          64.07638821701195,
          57.64397212093218,
          58.51601087412078,
          48.00529668449194,
          55.35995237017417,
          60.06169689189423,
          63.75497913258313,
          41.68871756991305,
          42.88903752059229,
          39.767564296304535,
          37.90127817931265,
          40.468363259913225,
          42.02253703346482,
          41.23583984178364,
          45.527572311448665,
          45.09764078328484,
          44.5812814451303,
          41.82646329632416,
          40.845953261400695,
          36.28847802746714,
          36.07888506930422,
          45.816942271387276,
          35.84430798396356,
          43.28411334653344,
          45.454503421195156,
          52.98328667466976,
          53.96982672169239,
          57.09638977617847,
          57.429667629124246,
          56.5864680044835,
          58.33181849437572,
          55.926506536554065,
          53.2316961413863,
          53.48577392958474,
          48.318890628391244,
          47.19951050843176,
          46.26081353465025,
          45.259662194148426,
          52.392432663588636,
          57.58066693319228,
          60.787744505372764,
          53.446599368760076,
          51.6186399354861,
          57.81939581297541,
          56.252791761303314,
          58.62740857423682,
          61.715554532941496,
          58.1394917663082,
          61.9806209617515,
          60.4006704264833,
          62.36493153614429,
          60.96913400983727,
          61.91493357480108,
          48.93761334885305,
          52.97740339163068,
          52.51802585893105,
          59.73204008385829,
          71.22836127301771,
          74.60462886557832,
          75.25630783083061,
          79.09294815464966,
          77.31919870880472,
          73.15691754570996,
          59.67229534736546,
          44.75189292617967,
          44.34984678924309,
          46.56152194948695,
          49.631794504755284,
          54.17369845382604,
          55.49408822404507,
          51.02911549884964,
          52.63809272175842,
          58.567951379192756,
          56.32137497496877,
          56.147164888637,
          55.752465714597676,
          51.88263246151054,
          55.219974773288286,
          56.626437740133184,
          52.8882333973615,
          52.22653170940839,
          61.3184666339158,
          58.68806177187574,
          54.14667029925674,
          52.38415424691462,
          51.277084940992246,
          48.589733477296896,
          44.216883420842755,
          42.0260581037211,
          41.42420397106393,
          31.466838925646897,
          34.283097083382884,
          35.994104594945384,
          35.37727321665771,
          33.15309044964543,
          31.13147586116017,
          32.82420541844998,
          34.179288010711076,
          34.530241517668486,
          36.636653441301945,
          33.725877529324364,
          44.05124134837905,
          44.01374938680659,
          39.5768509990326,
          37.48134985705652,
          30.267425855851414,
          32.06758665051119,
          31.563669547270436,
          30.147477806894514,
          37.416345166573166,
          35.24261197995003,
          36.06887138226259
         ]
        }
       ],
       "layout": {
        "font": {
         "size": 14
        },
        "hovermode": "x unified",
        "legend": {
         "font": {
          "size": 12
         },
         "x": 0.01,
         "y": 0.99
        },
        "plot_bgcolor": "white",
        "shapes": [
         {
          "line": {
           "color": "red",
           "dash": "dash",
           "width": 2
          },
          "type": "line",
          "x0": 0,
          "x1": 1,
          "xref": "x domain",
          "y0": 70,
          "y1": 70,
          "yref": "y"
         },
         {
          "line": {
           "color": "green",
           "dash": "dash",
           "width": 2
          },
          "type": "line",
          "x0": 0,
          "x1": 1,
          "xref": "x domain",
          "y0": 30,
          "y1": 30,
          "yref": "y"
         }
        ],
        "showlegend": true,
        "template": {
         "data": {
          "bar": [
           {
            "error_x": {
             "color": "#2a3f5f"
            },
            "error_y": {
             "color": "#2a3f5f"
            },
            "marker": {
             "line": {
              "color": "#E5ECF6",
              "width": 0.5
             },
             "pattern": {
              "fillmode": "overlay",
              "size": 10,
              "solidity": 0.2
             }
            },
            "type": "bar"
           }
          ],
          "barpolar": [
           {
            "marker": {
             "line": {
              "color": "#E5ECF6",
              "width": 0.5
             },
             "pattern": {
              "fillmode": "overlay",
              "size": 10,
              "solidity": 0.2
             }
            },
            "type": "barpolar"
           }
          ],
          "carpet": [
           {
            "aaxis": {
             "endlinecolor": "#2a3f5f",
             "gridcolor": "white",
             "linecolor": "white",
             "minorgridcolor": "white",
             "startlinecolor": "#2a3f5f"
            },
            "baxis": {
             "endlinecolor": "#2a3f5f",
             "gridcolor": "white",
             "linecolor": "white",
             "minorgridcolor": "white",
             "startlinecolor": "#2a3f5f"
            },
            "type": "carpet"
           }
          ],
          "choropleth": [
           {
            "colorbar": {
             "outlinewidth": 0,
             "ticks": ""
            },
            "type": "choropleth"
           }
          ],
          "contour": [
           {
            "colorbar": {
             "outlinewidth": 0,
             "ticks": ""
            },
            "colorscale": [
             [
              0,
              "#0d0887"
             ],
             [
              0.1111111111111111,
              "#46039f"
             ],
             [
              0.2222222222222222,
              "#7201a8"
             ],
             [
              0.3333333333333333,
              "#9c179e"
             ],
             [
              0.4444444444444444,
              "#bd3786"
             ],
             [
              0.5555555555555556,
              "#d8576b"
             ],
             [
              0.6666666666666666,
              "#ed7953"
             ],
             [
              0.7777777777777778,
              "#fb9f3a"
             ],
             [
              0.8888888888888888,
              "#fdca26"
             ],
             [
              1,
              "#f0f921"
             ]
            ],
            "type": "contour"
           }
          ],
          "contourcarpet": [
           {
            "colorbar": {
             "outlinewidth": 0,
             "ticks": ""
            },
            "type": "contourcarpet"
           }
          ],
          "heatmap": [
           {
            "colorbar": {
             "outlinewidth": 0,
             "ticks": ""
            },
            "colorscale": [
             [
              0,
              "#0d0887"
             ],
             [
              0.1111111111111111,
              "#46039f"
             ],
             [
              0.2222222222222222,
              "#7201a8"
             ],
             [
              0.3333333333333333,
              "#9c179e"
             ],
             [
              0.4444444444444444,
              "#bd3786"
             ],
             [
              0.5555555555555556,
              "#d8576b"
             ],
             [
              0.6666666666666666,
              "#ed7953"
             ],
             [
              0.7777777777777778,
              "#fb9f3a"
             ],
             [
              0.8888888888888888,
              "#fdca26"
             ],
             [
              1,
              "#f0f921"
             ]
            ],
            "type": "heatmap"
           }
          ],
          "heatmapgl": [
           {
            "colorbar": {
             "outlinewidth": 0,
             "ticks": ""
            },
            "colorscale": [
             [
              0,
              "#0d0887"
             ],
             [
              0.1111111111111111,
              "#46039f"
             ],
             [
              0.2222222222222222,
              "#7201a8"
             ],
             [
              0.3333333333333333,
              "#9c179e"
             ],
             [
              0.4444444444444444,
              "#bd3786"
             ],
             [
              0.5555555555555556,
              "#d8576b"
             ],
             [
              0.6666666666666666,
              "#ed7953"
             ],
             [
              0.7777777777777778,
              "#fb9f3a"
             ],
             [
              0.8888888888888888,
              "#fdca26"
             ],
             [
              1,
              "#f0f921"
             ]
            ],
            "type": "heatmapgl"
           }
          ],
          "histogram": [
           {
            "marker": {
             "pattern": {
              "fillmode": "overlay",
              "size": 10,
              "solidity": 0.2
             }
            },
            "type": "histogram"
           }
          ],
          "histogram2d": [
           {
            "colorbar": {
             "outlinewidth": 0,
             "ticks": ""
            },
            "colorscale": [
             [
              0,
              "#0d0887"
             ],
             [
              0.1111111111111111,
              "#46039f"
             ],
             [
              0.2222222222222222,
              "#7201a8"
             ],
             [
              0.3333333333333333,
              "#9c179e"
             ],
             [
              0.4444444444444444,
              "#bd3786"
             ],
             [
              0.5555555555555556,
              "#d8576b"
             ],
             [
              0.6666666666666666,
              "#ed7953"
             ],
             [
              0.7777777777777778,
              "#fb9f3a"
             ],
             [
              0.8888888888888888,
              "#fdca26"
             ],
             [
              1,
              "#f0f921"
             ]
            ],
            "type": "histogram2d"
           }
          ],
          "histogram2dcontour": [
           {
            "colorbar": {
             "outlinewidth": 0,
             "ticks": ""
            },
            "colorscale": [
             [
              0,
              "#0d0887"
             ],
             [
              0.1111111111111111,
              "#46039f"
             ],
             [
              0.2222222222222222,
              "#7201a8"
             ],
             [
              0.3333333333333333,
              "#9c179e"
             ],
             [
              0.4444444444444444,
              "#bd3786"
             ],
             [
              0.5555555555555556,
              "#d8576b"
             ],
             [
              0.6666666666666666,
              "#ed7953"
             ],
             [
              0.7777777777777778,
              "#fb9f3a"
             ],
             [
              0.8888888888888888,
              "#fdca26"
             ],
             [
              1,
              "#f0f921"
             ]
            ],
            "type": "histogram2dcontour"
           }
          ],
          "mesh3d": [
           {
            "colorbar": {
             "outlinewidth": 0,
             "ticks": ""
            },
            "type": "mesh3d"
           }
          ],
          "parcoords": [
           {
            "line": {
             "colorbar": {
              "outlinewidth": 0,
              "ticks": ""
             }
            },
            "type": "parcoords"
           }
          ],
          "pie": [
           {
            "automargin": true,
            "type": "pie"
           }
          ],
          "scatter": [
           {
            "fillpattern": {
             "fillmode": "overlay",
             "size": 10,
             "solidity": 0.2
            },
            "type": "scatter"
           }
          ],
          "scatter3d": [
           {
            "line": {
             "colorbar": {
              "outlinewidth": 0,
              "ticks": ""
             }
            },
            "marker": {
             "colorbar": {
              "outlinewidth": 0,
              "ticks": ""
             }
            },
            "type": "scatter3d"
           }
          ],
          "scattercarpet": [
           {
            "marker": {
             "colorbar": {
              "outlinewidth": 0,
              "ticks": ""
             }
            },
            "type": "scattercarpet"
           }
          ],
          "scattergeo": [
           {
            "marker": {
             "colorbar": {
              "outlinewidth": 0,
              "ticks": ""
             }
            },
            "type": "scattergeo"
           }
          ],
          "scattergl": [
           {
            "marker": {
             "colorbar": {
              "outlinewidth": 0,
              "ticks": ""
             }
            },
            "type": "scattergl"
           }
          ],
          "scattermapbox": [
           {
            "marker": {
             "colorbar": {
              "outlinewidth": 0,
              "ticks": ""
             }
            },
            "type": "scattermapbox"
           }
          ],
          "scatterpolar": [
           {
            "marker": {
             "colorbar": {
              "outlinewidth": 0,
              "ticks": ""
             }
            },
            "type": "scatterpolar"
           }
          ],
          "scatterpolargl": [
           {
            "marker": {
             "colorbar": {
              "outlinewidth": 0,
              "ticks": ""
             }
            },
            "type": "scatterpolargl"
           }
          ],
          "scatterternary": [
           {
            "marker": {
             "colorbar": {
              "outlinewidth": 0,
              "ticks": ""
             }
            },
            "type": "scatterternary"
           }
          ],
          "surface": [
           {
            "colorbar": {
             "outlinewidth": 0,
             "ticks": ""
            },
            "colorscale": [
             [
              0,
              "#0d0887"
             ],
             [
              0.1111111111111111,
              "#46039f"
             ],
             [
              0.2222222222222222,
              "#7201a8"
             ],
             [
              0.3333333333333333,
              "#9c179e"
             ],
             [
              0.4444444444444444,
              "#bd3786"
             ],
             [
              0.5555555555555556,
              "#d8576b"
             ],
             [
              0.6666666666666666,
              "#ed7953"
             ],
             [
              0.7777777777777778,
              "#fb9f3a"
             ],
             [
              0.8888888888888888,
              "#fdca26"
             ],
             [
              1,
              "#f0f921"
             ]
            ],
            "type": "surface"
           }
          ],
          "table": [
           {
            "cells": {
             "fill": {
              "color": "#EBF0F8"
             },
             "line": {
              "color": "white"
             }
            },
            "header": {
             "fill": {
              "color": "#C8D4E3"
             },
             "line": {
              "color": "white"
             }
            },
            "type": "table"
           }
          ]
         },
         "layout": {
          "annotationdefaults": {
           "arrowcolor": "#2a3f5f",
           "arrowhead": 0,
           "arrowwidth": 1
          },
          "autotypenumbers": "strict",
          "coloraxis": {
           "colorbar": {
            "outlinewidth": 0,
            "ticks": ""
           }
          },
          "colorscale": {
           "diverging": [
            [
             0,
             "#8e0152"
            ],
            [
             0.1,
             "#c51b7d"
            ],
            [
             0.2,
             "#de77ae"
            ],
            [
             0.3,
             "#f1b6da"
            ],
            [
             0.4,
             "#fde0ef"
            ],
            [
             0.5,
             "#f7f7f7"
            ],
            [
             0.6,
             "#e6f5d0"
            ],
            [
             0.7,
             "#b8e186"
            ],
            [
             0.8,
             "#7fbc41"
            ],
            [
             0.9,
             "#4d9221"
            ],
            [
             1,
             "#276419"
            ]
           ],
           "sequential": [
            [
             0,
             "#0d0887"
            ],
            [
             0.1111111111111111,
             "#46039f"
            ],
            [
             0.2222222222222222,
             "#7201a8"
            ],
            [
             0.3333333333333333,
             "#9c179e"
            ],
            [
             0.4444444444444444,
             "#bd3786"
            ],
            [
             0.5555555555555556,
             "#d8576b"
            ],
            [
             0.6666666666666666,
             "#ed7953"
            ],
            [
             0.7777777777777778,
             "#fb9f3a"
            ],
            [
             0.8888888888888888,
             "#fdca26"
            ],
            [
             1,
             "#f0f921"
            ]
           ],
           "sequentialminus": [
            [
             0,
             "#0d0887"
            ],
            [
             0.1111111111111111,
             "#46039f"
            ],
            [
             0.2222222222222222,
             "#7201a8"
            ],
            [
             0.3333333333333333,
             "#9c179e"
            ],
            [
             0.4444444444444444,
             "#bd3786"
            ],
            [
             0.5555555555555556,
             "#d8576b"
            ],
            [
             0.6666666666666666,
             "#ed7953"
            ],
            [
             0.7777777777777778,
             "#fb9f3a"
            ],
            [
             0.8888888888888888,
             "#fdca26"
            ],
            [
             1,
             "#f0f921"
            ]
           ]
          },
          "colorway": [
           "#636efa",
           "#EF553B",
           "#00cc96",
           "#ab63fa",
           "#FFA15A",
           "#19d3f3",
           "#FF6692",
           "#B6E880",
           "#FF97FF",
           "#FECB52"
          ],
          "font": {
           "color": "#2a3f5f"
          },
          "geo": {
           "bgcolor": "white",
           "lakecolor": "white",
           "landcolor": "#E5ECF6",
           "showlakes": true,
           "showland": true,
           "subunitcolor": "white"
          },
          "hoverlabel": {
           "align": "left"
          },
          "hovermode": "closest",
          "mapbox": {
           "style": "light"
          },
          "paper_bgcolor": "white",
          "plot_bgcolor": "#E5ECF6",
          "polar": {
           "angularaxis": {
            "gridcolor": "white",
            "linecolor": "white",
            "ticks": ""
           },
           "bgcolor": "#E5ECF6",
           "radialaxis": {
            "gridcolor": "white",
            "linecolor": "white",
            "ticks": ""
           }
          },
          "scene": {
           "xaxis": {
            "backgroundcolor": "#E5ECF6",
            "gridcolor": "white",
            "gridwidth": 2,
            "linecolor": "white",
            "showbackground": true,
            "ticks": "",
            "zerolinecolor": "white"
           },
           "yaxis": {
            "backgroundcolor": "#E5ECF6",
            "gridcolor": "white",
            "gridwidth": 2,
            "linecolor": "white",
            "showbackground": true,
            "ticks": "",
            "zerolinecolor": "white"
           },
           "zaxis": {
            "backgroundcolor": "#E5ECF6",
            "gridcolor": "white",
            "gridwidth": 2,
            "linecolor": "white",
            "showbackground": true,
            "ticks": "",
            "zerolinecolor": "white"
           }
          },
          "shapedefaults": {
           "line": {
            "color": "#2a3f5f"
           }
          },
          "ternary": {
           "aaxis": {
            "gridcolor": "white",
            "linecolor": "white",
            "ticks": ""
           },
           "baxis": {
            "gridcolor": "white",
            "linecolor": "white",
            "ticks": ""
           },
           "bgcolor": "#E5ECF6",
           "caxis": {
            "gridcolor": "white",
            "linecolor": "white",
            "ticks": ""
           }
          },
          "title": {
           "x": 0.05
          },
          "xaxis": {
           "automargin": true,
           "gridcolor": "white",
           "linecolor": "white",
           "ticks": "",
           "title": {
            "standoff": 15
           },
           "zerolinecolor": "white",
           "zerolinewidth": 2
          },
          "yaxis": {
           "automargin": true,
           "gridcolor": "white",
           "linecolor": "white",
           "ticks": "",
           "title": {
            "standoff": 15
           },
           "zerolinecolor": "white",
           "zerolinewidth": 2
          }
         }
        },
        "title": {
         "text": "RSI (Relative Strength Index)"
        },
        "xaxis": {
         "nticks": 10,
         "range": [
          "2023-11-20T00:00:00+05:30",
          "2024-10-31T00:00:00+05:30"
         ],
         "showgrid": true,
         "showline": true,
         "showticklabels": true,
         "tickmode": "auto",
         "title": {
          "text": "Date"
         },
         "zeroline": false
        },
        "yaxis": {
         "dtick": 10,
         "range": [
          0,
          100
         ],
         "showgrid": true,
         "showline": true,
         "showticklabels": true,
         "tick0": 0,
         "tickmode": "linear",
         "title": {
          "text": "RSI Value"
         },
         "zeroline": false
        }
       }
      },
      "text/html": [
       "<div>                            <div id=\"54e53a2a-60cc-4681-8418-b1c6d9bf4fad\" class=\"plotly-graph-div\" style=\"height:525px; width:100%;\"></div>            <script type=\"text/javascript\">                require([\"plotly\"], function(Plotly) {                    window.PLOTLYENV=window.PLOTLYENV || {};                                    if (document.getElementById(\"54e53a2a-60cc-4681-8418-b1c6d9bf4fad\")) {                    Plotly.newPlot(                        \"54e53a2a-60cc-4681-8418-b1c6d9bf4fad\",                        [{\"hovertemplate\":\"Date: %{x|%b %d}\\u003cbr\\u003eRSI: %{y:.2f}\\u003cextra\\u003e\\u003c\\u002fextra\\u003e\",\"line\":{\"color\":\"dodgerblue\",\"width\":2},\"mode\":\"lines\",\"name\":\"RSI\",\"x\":[\"2023-11-01T00:00:00+05:30\",\"2023-11-02T00:00:00+05:30\",\"2023-11-03T00:00:00+05:30\",\"2023-11-06T00:00:00+05:30\",\"2023-11-07T00:00:00+05:30\",\"2023-11-08T00:00:00+05:30\",\"2023-11-09T00:00:00+05:30\",\"2023-11-10T00:00:00+05:30\",\"2023-11-13T00:00:00+05:30\",\"2023-11-15T00:00:00+05:30\",\"2023-11-16T00:00:00+05:30\",\"2023-11-17T00:00:00+05:30\",\"2023-11-20T00:00:00+05:30\",\"2023-11-21T00:00:00+05:30\",\"2023-11-22T00:00:00+05:30\",\"2023-11-23T00:00:00+05:30\",\"2023-11-24T00:00:00+05:30\",\"2023-11-28T00:00:00+05:30\",\"2023-11-29T00:00:00+05:30\",\"2023-11-30T00:00:00+05:30\",\"2023-12-01T00:00:00+05:30\",\"2023-12-04T00:00:00+05:30\",\"2023-12-05T00:00:00+05:30\",\"2023-12-06T00:00:00+05:30\",\"2023-12-07T00:00:00+05:30\",\"2023-12-08T00:00:00+05:30\",\"2023-12-11T00:00:00+05:30\",\"2023-12-12T00:00:00+05:30\",\"2023-12-13T00:00:00+05:30\",\"2023-12-14T00:00:00+05:30\",\"2023-12-15T00:00:00+05:30\",\"2023-12-18T00:00:00+05:30\",\"2023-12-19T00:00:00+05:30\",\"2023-12-20T00:00:00+05:30\",\"2023-12-21T00:00:00+05:30\",\"2023-12-22T00:00:00+05:30\",\"2023-12-26T00:00:00+05:30\",\"2023-12-27T00:00:00+05:30\",\"2023-12-28T00:00:00+05:30\",\"2023-12-29T00:00:00+05:30\",\"2024-01-01T00:00:00+05:30\",\"2024-01-02T00:00:00+05:30\",\"2024-01-03T00:00:00+05:30\",\"2024-01-04T00:00:00+05:30\",\"2024-01-05T00:00:00+05:30\",\"2024-01-08T00:00:00+05:30\",\"2024-01-09T00:00:00+05:30\",\"2024-01-10T00:00:00+05:30\",\"2024-01-11T00:00:00+05:30\",\"2024-01-12T00:00:00+05:30\",\"2024-01-15T00:00:00+05:30\",\"2024-01-16T00:00:00+05:30\",\"2024-01-17T00:00:00+05:30\",\"2024-01-18T00:00:00+05:30\",\"2024-01-19T00:00:00+05:30\",\"2024-01-23T00:00:00+05:30\",\"2024-01-24T00:00:00+05:30\",\"2024-01-25T00:00:00+05:30\",\"2024-01-29T00:00:00+05:30\",\"2024-01-30T00:00:00+05:30\",\"2024-01-31T00:00:00+05:30\",\"2024-02-01T00:00:00+05:30\",\"2024-02-02T00:00:00+05:30\",\"2024-02-05T00:00:00+05:30\",\"2024-02-06T00:00:00+05:30\",\"2024-02-07T00:00:00+05:30\",\"2024-02-08T00:00:00+05:30\",\"2024-02-09T00:00:00+05:30\",\"2024-02-12T00:00:00+05:30\",\"2024-02-13T00:00:00+05:30\",\"2024-02-14T00:00:00+05:30\",\"2024-02-15T00:00:00+05:30\",\"2024-02-16T00:00:00+05:30\",\"2024-02-19T00:00:00+05:30\",\"2024-02-20T00:00:00+05:30\",\"2024-02-21T00:00:00+05:30\",\"2024-02-22T00:00:00+05:30\",\"2024-02-23T00:00:00+05:30\",\"2024-02-26T00:00:00+05:30\",\"2024-02-27T00:00:00+05:30\",\"2024-02-28T00:00:00+05:30\",\"2024-02-29T00:00:00+05:30\",\"2024-03-01T00:00:00+05:30\",\"2024-03-04T00:00:00+05:30\",\"2024-03-05T00:00:00+05:30\",\"2024-03-06T00:00:00+05:30\",\"2024-03-07T00:00:00+05:30\",\"2024-03-11T00:00:00+05:30\",\"2024-03-12T00:00:00+05:30\",\"2024-03-13T00:00:00+05:30\",\"2024-03-14T00:00:00+05:30\",\"2024-03-15T00:00:00+05:30\",\"2024-03-18T00:00:00+05:30\",\"2024-03-19T00:00:00+05:30\",\"2024-03-20T00:00:00+05:30\",\"2024-03-21T00:00:00+05:30\",\"2024-03-22T00:00:00+05:30\",\"2024-03-26T00:00:00+05:30\",\"2024-03-27T00:00:00+05:30\",\"2024-03-28T00:00:00+05:30\",\"2024-04-01T00:00:00+05:30\",\"2024-04-02T00:00:00+05:30\",\"2024-04-03T00:00:00+05:30\",\"2024-04-04T00:00:00+05:30\",\"2024-04-05T00:00:00+05:30\",\"2024-04-08T00:00:00+05:30\",\"2024-04-09T00:00:00+05:30\",\"2024-04-10T00:00:00+05:30\",\"2024-04-12T00:00:00+05:30\",\"2024-04-15T00:00:00+05:30\",\"2024-04-16T00:00:00+05:30\",\"2024-04-18T00:00:00+05:30\",\"2024-04-19T00:00:00+05:30\",\"2024-04-22T00:00:00+05:30\",\"2024-04-23T00:00:00+05:30\",\"2024-04-24T00:00:00+05:30\",\"2024-04-25T00:00:00+05:30\",\"2024-04-26T00:00:00+05:30\",\"2024-04-29T00:00:00+05:30\",\"2024-04-30T00:00:00+05:30\",\"2024-05-02T00:00:00+05:30\",\"2024-05-03T00:00:00+05:30\",\"2024-05-06T00:00:00+05:30\",\"2024-05-07T00:00:00+05:30\",\"2024-05-08T00:00:00+05:30\",\"2024-05-09T00:00:00+05:30\",\"2024-05-10T00:00:00+05:30\",\"2024-05-13T00:00:00+05:30\",\"2024-05-14T00:00:00+05:30\",\"2024-05-15T00:00:00+05:30\",\"2024-05-16T00:00:00+05:30\",\"2024-05-17T00:00:00+05:30\",\"2024-05-21T00:00:00+05:30\",\"2024-05-22T00:00:00+05:30\",\"2024-05-23T00:00:00+05:30\",\"2024-05-24T00:00:00+05:30\",\"2024-05-27T00:00:00+05:30\",\"2024-05-28T00:00:00+05:30\",\"2024-05-29T00:00:00+05:30\",\"2024-05-30T00:00:00+05:30\",\"2024-05-31T00:00:00+05:30\",\"2024-06-03T00:00:00+05:30\",\"2024-06-04T00:00:00+05:30\",\"2024-06-05T00:00:00+05:30\",\"2024-06-06T00:00:00+05:30\",\"2024-06-07T00:00:00+05:30\",\"2024-06-10T00:00:00+05:30\",\"2024-06-11T00:00:00+05:30\",\"2024-06-12T00:00:00+05:30\",\"2024-06-13T00:00:00+05:30\",\"2024-06-14T00:00:00+05:30\",\"2024-06-18T00:00:00+05:30\",\"2024-06-19T00:00:00+05:30\",\"2024-06-20T00:00:00+05:30\",\"2024-06-21T00:00:00+05:30\",\"2024-06-24T00:00:00+05:30\",\"2024-06-25T00:00:00+05:30\",\"2024-06-26T00:00:00+05:30\",\"2024-06-27T00:00:00+05:30\",\"2024-06-28T00:00:00+05:30\",\"2024-07-01T00:00:00+05:30\",\"2024-07-02T00:00:00+05:30\",\"2024-07-03T00:00:00+05:30\",\"2024-07-04T00:00:00+05:30\",\"2024-07-05T00:00:00+05:30\",\"2024-07-08T00:00:00+05:30\",\"2024-07-09T00:00:00+05:30\",\"2024-07-10T00:00:00+05:30\",\"2024-07-11T00:00:00+05:30\",\"2024-07-12T00:00:00+05:30\",\"2024-07-15T00:00:00+05:30\",\"2024-07-16T00:00:00+05:30\",\"2024-07-18T00:00:00+05:30\",\"2024-07-19T00:00:00+05:30\",\"2024-07-22T00:00:00+05:30\",\"2024-07-23T00:00:00+05:30\",\"2024-07-24T00:00:00+05:30\",\"2024-07-25T00:00:00+05:30\",\"2024-07-26T00:00:00+05:30\",\"2024-07-29T00:00:00+05:30\",\"2024-07-30T00:00:00+05:30\",\"2024-07-31T00:00:00+05:30\",\"2024-08-01T00:00:00+05:30\",\"2024-08-02T00:00:00+05:30\",\"2024-08-05T00:00:00+05:30\",\"2024-08-06T00:00:00+05:30\",\"2024-08-07T00:00:00+05:30\",\"2024-08-08T00:00:00+05:30\",\"2024-08-09T00:00:00+05:30\",\"2024-08-12T00:00:00+05:30\",\"2024-08-13T00:00:00+05:30\",\"2024-08-14T00:00:00+05:30\",\"2024-08-16T00:00:00+05:30\",\"2024-08-19T00:00:00+05:30\",\"2024-08-20T00:00:00+05:30\",\"2024-08-21T00:00:00+05:30\",\"2024-08-22T00:00:00+05:30\",\"2024-08-23T00:00:00+05:30\",\"2024-08-26T00:00:00+05:30\",\"2024-08-27T00:00:00+05:30\",\"2024-08-28T00:00:00+05:30\",\"2024-08-29T00:00:00+05:30\",\"2024-08-30T00:00:00+05:30\",\"2024-09-02T00:00:00+05:30\",\"2024-09-03T00:00:00+05:30\",\"2024-09-04T00:00:00+05:30\",\"2024-09-05T00:00:00+05:30\",\"2024-09-06T00:00:00+05:30\",\"2024-09-09T00:00:00+05:30\",\"2024-09-10T00:00:00+05:30\",\"2024-09-11T00:00:00+05:30\",\"2024-09-12T00:00:00+05:30\",\"2024-09-13T00:00:00+05:30\",\"2024-09-16T00:00:00+05:30\",\"2024-09-17T00:00:00+05:30\",\"2024-09-18T00:00:00+05:30\",\"2024-09-19T00:00:00+05:30\",\"2024-09-20T00:00:00+05:30\",\"2024-09-23T00:00:00+05:30\",\"2024-09-24T00:00:00+05:30\",\"2024-09-25T00:00:00+05:30\",\"2024-09-26T00:00:00+05:30\",\"2024-09-27T00:00:00+05:30\",\"2024-09-30T00:00:00+05:30\",\"2024-10-01T00:00:00+05:30\",\"2024-10-03T00:00:00+05:30\",\"2024-10-04T00:00:00+05:30\",\"2024-10-07T00:00:00+05:30\",\"2024-10-08T00:00:00+05:30\",\"2024-10-09T00:00:00+05:30\",\"2024-10-10T00:00:00+05:30\",\"2024-10-11T00:00:00+05:30\"],\"y\":[47.511926176790084,51.365507633610385,55.78074044666028,55.07417332586368,54.53547944758089,53.22722281119118,56.356624088140734,57.128873673297065,58.16065000732073,65.58109595452531,68.49148854673875,68.85995361913172,63.79477608857134,66.50315874444851,66.14315845858535,65.19292940570418,60.5119251806177,69.49444734639903,73.53902510003769,69.55954354324982,68.91828042069947,68.96692644365353,70.09274317032032,74.16083179753387,73.76068593671812,67.91916037018106,70.07477187248244,65.95146665649601,67.80281197343584,67.36009793598879,71.90424100889783,70.5660528329542,68.96782261364943,52.54812657102874,54.326887484429,61.219576085320355,58.148918484012704,65.80604037967635,69.46899086601658,75.20161444289502,77.0951137792284,73.57315452054308,71.89029702572435,74.88873734202396,72.10829678726732,71.0139137508805,73.51732299450397,75.36930143898932,76.82223532953545,76.98467751320528,74.18489663226936,75.70719709524558,66.88073859734074,70.62445266669137,71.76997263749338,59.042053918765724,62.299316078728104,62.590563616586984,70.1986421156827,73.72280179896849,77.74743623659847,74.96707970842165,75.00928803115193,81.4750969663067,82.75043518287143,80.07311121998004,75.71452135390483,71.60540605487319,70.10737498796641,67.98993027219004,70.33066887602797,70.78474774390844,74.1965825259796,71.21919643555333,68.15132446851953,65.57181285900083,68.31339134906655,69.49917061363125,69.25291691846081,74.76340616498857,72.24537420606117,68.07699696852848,73.73240415559548,75.42187210475281,80.26258036868671,78.2303145396591,80.88543204273337,75.69609826384767,70.72324250650696,55.846618859881666,54.29841728117517,48.48219384597744,54.81339196597686,51.077627024564556,47.01641854120799,52.73610799240508,55.86307726019579,57.17371860172297,55.095241078450336,58.16486918979071,57.99889901873753,60.72009035143028,61.69012796064577,62.236898305630675,60.52808184643007,62.049229716574985,60.126569188595404,61.49353071813943,62.86455760803699,54.61376940740236,52.35976776833548,45.180689828861006,42.78058828132155,46.65610566923401,51.19616411209605,52.80202496301809,55.86598913105044,55.16297495202199,55.54166410892025,58.07263955264037,64.07638821701195,57.64397212093218,58.51601087412078,48.00529668449194,55.35995237017417,60.06169689189423,63.75497913258313,41.68871756991305,42.88903752059229,39.767564296304535,37.90127817931265,40.468363259913225,42.02253703346482,41.23583984178364,45.527572311448665,45.09764078328484,44.5812814451303,41.82646329632416,40.845953261400695,36.28847802746714,36.07888506930422,45.816942271387276,35.84430798396356,43.28411334653344,45.454503421195156,52.98328667466976,53.96982672169239,57.09638977617847,57.429667629124246,56.5864680044835,58.33181849437572,55.926506536554065,53.2316961413863,53.48577392958474,48.318890628391244,47.19951050843176,46.26081353465025,45.259662194148426,52.392432663588636,57.58066693319228,60.787744505372764,53.446599368760076,51.6186399354861,57.81939581297541,56.252791761303314,58.62740857423682,61.715554532941496,58.1394917663082,61.9806209617515,60.4006704264833,62.36493153614429,60.96913400983727,61.91493357480108,48.93761334885305,52.97740339163068,52.51802585893105,59.73204008385829,71.22836127301771,74.60462886557832,75.25630783083061,79.09294815464966,77.31919870880472,73.15691754570996,59.67229534736546,44.75189292617967,44.34984678924309,46.56152194948695,49.631794504755284,54.17369845382604,55.49408822404507,51.02911549884964,52.63809272175842,58.567951379192756,56.32137497496877,56.147164888637,55.752465714597676,51.88263246151054,55.219974773288286,56.626437740133184,52.8882333973615,52.22653170940839,61.3184666339158,58.68806177187574,54.14667029925674,52.38415424691462,51.277084940992246,48.589733477296896,44.216883420842755,42.0260581037211,41.42420397106393,31.466838925646897,34.283097083382884,35.994104594945384,35.37727321665771,33.15309044964543,31.13147586116017,32.82420541844998,34.179288010711076,34.530241517668486,36.636653441301945,33.725877529324364,44.05124134837905,44.01374938680659,39.5768509990326,37.48134985705652,30.267425855851414,32.06758665051119,31.563669547270436,30.147477806894514,37.416345166573166,35.24261197995003,36.06887138226259],\"type\":\"scatter\"}],                        {\"template\":{\"data\":{\"histogram2dcontour\":[{\"type\":\"histogram2dcontour\",\"colorbar\":{\"outlinewidth\":0,\"ticks\":\"\"},\"colorscale\":[[0.0,\"#0d0887\"],[0.1111111111111111,\"#46039f\"],[0.2222222222222222,\"#7201a8\"],[0.3333333333333333,\"#9c179e\"],[0.4444444444444444,\"#bd3786\"],[0.5555555555555556,\"#d8576b\"],[0.6666666666666666,\"#ed7953\"],[0.7777777777777778,\"#fb9f3a\"],[0.8888888888888888,\"#fdca26\"],[1.0,\"#f0f921\"]]}],\"choropleth\":[{\"type\":\"choropleth\",\"colorbar\":{\"outlinewidth\":0,\"ticks\":\"\"}}],\"histogram2d\":[{\"type\":\"histogram2d\",\"colorbar\":{\"outlinewidth\":0,\"ticks\":\"\"},\"colorscale\":[[0.0,\"#0d0887\"],[0.1111111111111111,\"#46039f\"],[0.2222222222222222,\"#7201a8\"],[0.3333333333333333,\"#9c179e\"],[0.4444444444444444,\"#bd3786\"],[0.5555555555555556,\"#d8576b\"],[0.6666666666666666,\"#ed7953\"],[0.7777777777777778,\"#fb9f3a\"],[0.8888888888888888,\"#fdca26\"],[1.0,\"#f0f921\"]]}],\"heatmap\":[{\"type\":\"heatmap\",\"colorbar\":{\"outlinewidth\":0,\"ticks\":\"\"},\"colorscale\":[[0.0,\"#0d0887\"],[0.1111111111111111,\"#46039f\"],[0.2222222222222222,\"#7201a8\"],[0.3333333333333333,\"#9c179e\"],[0.4444444444444444,\"#bd3786\"],[0.5555555555555556,\"#d8576b\"],[0.6666666666666666,\"#ed7953\"],[0.7777777777777778,\"#fb9f3a\"],[0.8888888888888888,\"#fdca26\"],[1.0,\"#f0f921\"]]}],\"heatmapgl\":[{\"type\":\"heatmapgl\",\"colorbar\":{\"outlinewidth\":0,\"ticks\":\"\"},\"colorscale\":[[0.0,\"#0d0887\"],[0.1111111111111111,\"#46039f\"],[0.2222222222222222,\"#7201a8\"],[0.3333333333333333,\"#9c179e\"],[0.4444444444444444,\"#bd3786\"],[0.5555555555555556,\"#d8576b\"],[0.6666666666666666,\"#ed7953\"],[0.7777777777777778,\"#fb9f3a\"],[0.8888888888888888,\"#fdca26\"],[1.0,\"#f0f921\"]]}],\"contourcarpet\":[{\"type\":\"contourcarpet\",\"colorbar\":{\"outlinewidth\":0,\"ticks\":\"\"}}],\"contour\":[{\"type\":\"contour\",\"colorbar\":{\"outlinewidth\":0,\"ticks\":\"\"},\"colorscale\":[[0.0,\"#0d0887\"],[0.1111111111111111,\"#46039f\"],[0.2222222222222222,\"#7201a8\"],[0.3333333333333333,\"#9c179e\"],[0.4444444444444444,\"#bd3786\"],[0.5555555555555556,\"#d8576b\"],[0.6666666666666666,\"#ed7953\"],[0.7777777777777778,\"#fb9f3a\"],[0.8888888888888888,\"#fdca26\"],[1.0,\"#f0f921\"]]}],\"surface\":[{\"type\":\"surface\",\"colorbar\":{\"outlinewidth\":0,\"ticks\":\"\"},\"colorscale\":[[0.0,\"#0d0887\"],[0.1111111111111111,\"#46039f\"],[0.2222222222222222,\"#7201a8\"],[0.3333333333333333,\"#9c179e\"],[0.4444444444444444,\"#bd3786\"],[0.5555555555555556,\"#d8576b\"],[0.6666666666666666,\"#ed7953\"],[0.7777777777777778,\"#fb9f3a\"],[0.8888888888888888,\"#fdca26\"],[1.0,\"#f0f921\"]]}],\"mesh3d\":[{\"type\":\"mesh3d\",\"colorbar\":{\"outlinewidth\":0,\"ticks\":\"\"}}],\"scatter\":[{\"fillpattern\":{\"fillmode\":\"overlay\",\"size\":10,\"solidity\":0.2},\"type\":\"scatter\"}],\"parcoords\":[{\"type\":\"parcoords\",\"line\":{\"colorbar\":{\"outlinewidth\":0,\"ticks\":\"\"}}}],\"scatterpolargl\":[{\"type\":\"scatterpolargl\",\"marker\":{\"colorbar\":{\"outlinewidth\":0,\"ticks\":\"\"}}}],\"bar\":[{\"error_x\":{\"color\":\"#2a3f5f\"},\"error_y\":{\"color\":\"#2a3f5f\"},\"marker\":{\"line\":{\"color\":\"#E5ECF6\",\"width\":0.5},\"pattern\":{\"fillmode\":\"overlay\",\"size\":10,\"solidity\":0.2}},\"type\":\"bar\"}],\"scattergeo\":[{\"type\":\"scattergeo\",\"marker\":{\"colorbar\":{\"outlinewidth\":0,\"ticks\":\"\"}}}],\"scatterpolar\":[{\"type\":\"scatterpolar\",\"marker\":{\"colorbar\":{\"outlinewidth\":0,\"ticks\":\"\"}}}],\"histogram\":[{\"marker\":{\"pattern\":{\"fillmode\":\"overlay\",\"size\":10,\"solidity\":0.2}},\"type\":\"histogram\"}],\"scattergl\":[{\"type\":\"scattergl\",\"marker\":{\"colorbar\":{\"outlinewidth\":0,\"ticks\":\"\"}}}],\"scatter3d\":[{\"type\":\"scatter3d\",\"line\":{\"colorbar\":{\"outlinewidth\":0,\"ticks\":\"\"}},\"marker\":{\"colorbar\":{\"outlinewidth\":0,\"ticks\":\"\"}}}],\"scattermapbox\":[{\"type\":\"scattermapbox\",\"marker\":{\"colorbar\":{\"outlinewidth\":0,\"ticks\":\"\"}}}],\"scatterternary\":[{\"type\":\"scatterternary\",\"marker\":{\"colorbar\":{\"outlinewidth\":0,\"ticks\":\"\"}}}],\"scattercarpet\":[{\"type\":\"scattercarpet\",\"marker\":{\"colorbar\":{\"outlinewidth\":0,\"ticks\":\"\"}}}],\"carpet\":[{\"aaxis\":{\"endlinecolor\":\"#2a3f5f\",\"gridcolor\":\"white\",\"linecolor\":\"white\",\"minorgridcolor\":\"white\",\"startlinecolor\":\"#2a3f5f\"},\"baxis\":{\"endlinecolor\":\"#2a3f5f\",\"gridcolor\":\"white\",\"linecolor\":\"white\",\"minorgridcolor\":\"white\",\"startlinecolor\":\"#2a3f5f\"},\"type\":\"carpet\"}],\"table\":[{\"cells\":{\"fill\":{\"color\":\"#EBF0F8\"},\"line\":{\"color\":\"white\"}},\"header\":{\"fill\":{\"color\":\"#C8D4E3\"},\"line\":{\"color\":\"white\"}},\"type\":\"table\"}],\"barpolar\":[{\"marker\":{\"line\":{\"color\":\"#E5ECF6\",\"width\":0.5},\"pattern\":{\"fillmode\":\"overlay\",\"size\":10,\"solidity\":0.2}},\"type\":\"barpolar\"}],\"pie\":[{\"automargin\":true,\"type\":\"pie\"}]},\"layout\":{\"autotypenumbers\":\"strict\",\"colorway\":[\"#636efa\",\"#EF553B\",\"#00cc96\",\"#ab63fa\",\"#FFA15A\",\"#19d3f3\",\"#FF6692\",\"#B6E880\",\"#FF97FF\",\"#FECB52\"],\"font\":{\"color\":\"#2a3f5f\"},\"hovermode\":\"closest\",\"hoverlabel\":{\"align\":\"left\"},\"paper_bgcolor\":\"white\",\"plot_bgcolor\":\"#E5ECF6\",\"polar\":{\"bgcolor\":\"#E5ECF6\",\"angularaxis\":{\"gridcolor\":\"white\",\"linecolor\":\"white\",\"ticks\":\"\"},\"radialaxis\":{\"gridcolor\":\"white\",\"linecolor\":\"white\",\"ticks\":\"\"}},\"ternary\":{\"bgcolor\":\"#E5ECF6\",\"aaxis\":{\"gridcolor\":\"white\",\"linecolor\":\"white\",\"ticks\":\"\"},\"baxis\":{\"gridcolor\":\"white\",\"linecolor\":\"white\",\"ticks\":\"\"},\"caxis\":{\"gridcolor\":\"white\",\"linecolor\":\"white\",\"ticks\":\"\"}},\"coloraxis\":{\"colorbar\":{\"outlinewidth\":0,\"ticks\":\"\"}},\"colorscale\":{\"sequential\":[[0.0,\"#0d0887\"],[0.1111111111111111,\"#46039f\"],[0.2222222222222222,\"#7201a8\"],[0.3333333333333333,\"#9c179e\"],[0.4444444444444444,\"#bd3786\"],[0.5555555555555556,\"#d8576b\"],[0.6666666666666666,\"#ed7953\"],[0.7777777777777778,\"#fb9f3a\"],[0.8888888888888888,\"#fdca26\"],[1.0,\"#f0f921\"]],\"sequentialminus\":[[0.0,\"#0d0887\"],[0.1111111111111111,\"#46039f\"],[0.2222222222222222,\"#7201a8\"],[0.3333333333333333,\"#9c179e\"],[0.4444444444444444,\"#bd3786\"],[0.5555555555555556,\"#d8576b\"],[0.6666666666666666,\"#ed7953\"],[0.7777777777777778,\"#fb9f3a\"],[0.8888888888888888,\"#fdca26\"],[1.0,\"#f0f921\"]],\"diverging\":[[0,\"#8e0152\"],[0.1,\"#c51b7d\"],[0.2,\"#de77ae\"],[0.3,\"#f1b6da\"],[0.4,\"#fde0ef\"],[0.5,\"#f7f7f7\"],[0.6,\"#e6f5d0\"],[0.7,\"#b8e186\"],[0.8,\"#7fbc41\"],[0.9,\"#4d9221\"],[1,\"#276419\"]]},\"xaxis\":{\"gridcolor\":\"white\",\"linecolor\":\"white\",\"ticks\":\"\",\"title\":{\"standoff\":15},\"zerolinecolor\":\"white\",\"automargin\":true,\"zerolinewidth\":2},\"yaxis\":{\"gridcolor\":\"white\",\"linecolor\":\"white\",\"ticks\":\"\",\"title\":{\"standoff\":15},\"zerolinecolor\":\"white\",\"automargin\":true,\"zerolinewidth\":2},\"scene\":{\"xaxis\":{\"backgroundcolor\":\"#E5ECF6\",\"gridcolor\":\"white\",\"linecolor\":\"white\",\"showbackground\":true,\"ticks\":\"\",\"zerolinecolor\":\"white\",\"gridwidth\":2},\"yaxis\":{\"backgroundcolor\":\"#E5ECF6\",\"gridcolor\":\"white\",\"linecolor\":\"white\",\"showbackground\":true,\"ticks\":\"\",\"zerolinecolor\":\"white\",\"gridwidth\":2},\"zaxis\":{\"backgroundcolor\":\"#E5ECF6\",\"gridcolor\":\"white\",\"linecolor\":\"white\",\"showbackground\":true,\"ticks\":\"\",\"zerolinecolor\":\"white\",\"gridwidth\":2}},\"shapedefaults\":{\"line\":{\"color\":\"#2a3f5f\"}},\"annotationdefaults\":{\"arrowcolor\":\"#2a3f5f\",\"arrowhead\":0,\"arrowwidth\":1},\"geo\":{\"bgcolor\":\"white\",\"landcolor\":\"#E5ECF6\",\"subunitcolor\":\"white\",\"showland\":true,\"showlakes\":true,\"lakecolor\":\"white\"},\"title\":{\"x\":0.05},\"mapbox\":{\"style\":\"light\"}}},\"shapes\":[{\"line\":{\"color\":\"red\",\"dash\":\"dash\",\"width\":2},\"type\":\"line\",\"x0\":0,\"x1\":1,\"xref\":\"x domain\",\"y0\":70,\"y1\":70,\"yref\":\"y\"},{\"line\":{\"color\":\"green\",\"dash\":\"dash\",\"width\":2},\"type\":\"line\",\"x0\":0,\"x1\":1,\"xref\":\"x domain\",\"y0\":30,\"y1\":30,\"yref\":\"y\"}],\"font\":{\"size\":14},\"legend\":{\"font\":{\"size\":12},\"x\":0.01,\"y\":0.99},\"title\":{\"text\":\"RSI (Relative Strength Index)\"},\"yaxis\":{\"title\":{\"text\":\"RSI Value\"},\"range\":[0,100],\"tickmode\":\"linear\",\"tick0\":0,\"dtick\":10,\"showgrid\":true,\"zeroline\":false,\"showline\":true,\"showticklabels\":true},\"xaxis\":{\"title\":{\"text\":\"Date\"},\"range\":[\"2023-11-20T00:00:00+05:30\",\"2024-10-31T00:00:00+05:30\"],\"tickmode\":\"auto\",\"nticks\":10,\"showgrid\":true,\"zeroline\":false,\"showline\":true,\"showticklabels\":true},\"showlegend\":true,\"hovermode\":\"x unified\",\"plot_bgcolor\":\"white\"},                        {\"responsive\": true}                    ).then(function(){\n",
       "                            \n",
       "var gd = document.getElementById('54e53a2a-60cc-4681-8418-b1c6d9bf4fad');\n",
       "var x = new MutationObserver(function (mutations, observer) {{\n",
       "        var display = window.getComputedStyle(gd).display;\n",
       "        if (!display || display === 'none') {{\n",
       "            console.log([gd, 'removed!']);\n",
       "            Plotly.purge(gd);\n",
       "            observer.disconnect();\n",
       "        }}\n",
       "}});\n",
       "\n",
       "// Listen for the removal of the full notebook cells\n",
       "var notebookContainer = gd.closest('#notebook-container');\n",
       "if (notebookContainer) {{\n",
       "    x.observe(notebookContainer, {childList: true});\n",
       "}}\n",
       "\n",
       "// Listen for the clearing of the current output cell\n",
       "var outputEl = gd.closest('.output');\n",
       "if (outputEl) {{\n",
       "    x.observe(outputEl, {childList: true});\n",
       "}}\n",
       "\n",
       "                        })                };                });            </script>        </div>"
      ]
     },
     "metadata": {},
     "output_type": "display_data"
    },
    {
     "name": "stdout",
     "output_type": "stream",
     "text": [
      "RSI is 36.07 and rising from oversold levels. Consider initiating buying.\n"
     ]
    },
    {
     "data": {
      "application/vnd.plotly.v1+json": {
       "config": {
        "plotlyServerURL": "https://plot.ly"
       },
       "data": [
        {
         "hovertemplate": "<b>Date:</b> %{x|%d %b %y}<br><b>Close:</b> %{y:.2f}<extra></extra>",
         "line": {
          "color": "#1e90ff",
          "width": 3
         },
         "name": "Close Price",
         "type": "scatter",
         "x": [
          "2023-10-11T00:00:00+05:30",
          "2023-10-12T00:00:00+05:30",
          "2023-10-13T00:00:00+05:30",
          "2023-10-16T00:00:00+05:30",
          "2023-10-17T00:00:00+05:30",
          "2023-10-18T00:00:00+05:30",
          "2023-10-19T00:00:00+05:30",
          "2023-10-20T00:00:00+05:30",
          "2023-10-23T00:00:00+05:30",
          "2023-10-25T00:00:00+05:30",
          "2023-10-26T00:00:00+05:30",
          "2023-10-27T00:00:00+05:30",
          "2023-10-30T00:00:00+05:30",
          "2023-10-31T00:00:00+05:30",
          "2023-11-01T00:00:00+05:30",
          "2023-11-02T00:00:00+05:30",
          "2023-11-03T00:00:00+05:30",
          "2023-11-06T00:00:00+05:30",
          "2023-11-07T00:00:00+05:30",
          "2023-11-08T00:00:00+05:30",
          "2023-11-09T00:00:00+05:30",
          "2023-11-10T00:00:00+05:30",
          "2023-11-13T00:00:00+05:30",
          "2023-11-15T00:00:00+05:30",
          "2023-11-16T00:00:00+05:30",
          "2023-11-17T00:00:00+05:30",
          "2023-11-20T00:00:00+05:30",
          "2023-11-21T00:00:00+05:30",
          "2023-11-22T00:00:00+05:30",
          "2023-11-23T00:00:00+05:30",
          "2023-11-24T00:00:00+05:30",
          "2023-11-28T00:00:00+05:30",
          "2023-11-29T00:00:00+05:30",
          "2023-11-30T00:00:00+05:30",
          "2023-12-01T00:00:00+05:30",
          "2023-12-04T00:00:00+05:30",
          "2023-12-05T00:00:00+05:30",
          "2023-12-06T00:00:00+05:30",
          "2023-12-07T00:00:00+05:30",
          "2023-12-08T00:00:00+05:30",
          "2023-12-11T00:00:00+05:30",
          "2023-12-12T00:00:00+05:30",
          "2023-12-13T00:00:00+05:30",
          "2023-12-14T00:00:00+05:30",
          "2023-12-15T00:00:00+05:30",
          "2023-12-18T00:00:00+05:30",
          "2023-12-19T00:00:00+05:30",
          "2023-12-20T00:00:00+05:30",
          "2023-12-21T00:00:00+05:30",
          "2023-12-22T00:00:00+05:30",
          "2023-12-26T00:00:00+05:30",
          "2023-12-27T00:00:00+05:30",
          "2023-12-28T00:00:00+05:30",
          "2023-12-29T00:00:00+05:30",
          "2024-01-01T00:00:00+05:30",
          "2024-01-02T00:00:00+05:30",
          "2024-01-03T00:00:00+05:30",
          "2024-01-04T00:00:00+05:30",
          "2024-01-05T00:00:00+05:30",
          "2024-01-08T00:00:00+05:30",
          "2024-01-09T00:00:00+05:30",
          "2024-01-10T00:00:00+05:30",
          "2024-01-11T00:00:00+05:30",
          "2024-01-12T00:00:00+05:30",
          "2024-01-15T00:00:00+05:30",
          "2024-01-16T00:00:00+05:30",
          "2024-01-17T00:00:00+05:30",
          "2024-01-18T00:00:00+05:30",
          "2024-01-19T00:00:00+05:30",
          "2024-01-23T00:00:00+05:30",
          "2024-01-24T00:00:00+05:30",
          "2024-01-25T00:00:00+05:30",
          "2024-01-29T00:00:00+05:30",
          "2024-01-30T00:00:00+05:30",
          "2024-01-31T00:00:00+05:30",
          "2024-02-01T00:00:00+05:30",
          "2024-02-02T00:00:00+05:30",
          "2024-02-05T00:00:00+05:30",
          "2024-02-06T00:00:00+05:30",
          "2024-02-07T00:00:00+05:30",
          "2024-02-08T00:00:00+05:30",
          "2024-02-09T00:00:00+05:30",
          "2024-02-12T00:00:00+05:30",
          "2024-02-13T00:00:00+05:30",
          "2024-02-14T00:00:00+05:30",
          "2024-02-15T00:00:00+05:30",
          "2024-02-16T00:00:00+05:30",
          "2024-02-19T00:00:00+05:30",
          "2024-02-20T00:00:00+05:30",
          "2024-02-21T00:00:00+05:30",
          "2024-02-22T00:00:00+05:30",
          "2024-02-23T00:00:00+05:30",
          "2024-02-26T00:00:00+05:30",
          "2024-02-27T00:00:00+05:30",
          "2024-02-28T00:00:00+05:30",
          "2024-02-29T00:00:00+05:30",
          "2024-03-01T00:00:00+05:30",
          "2024-03-04T00:00:00+05:30",
          "2024-03-05T00:00:00+05:30",
          "2024-03-06T00:00:00+05:30",
          "2024-03-07T00:00:00+05:30",
          "2024-03-11T00:00:00+05:30",
          "2024-03-12T00:00:00+05:30",
          "2024-03-13T00:00:00+05:30",
          "2024-03-14T00:00:00+05:30",
          "2024-03-15T00:00:00+05:30",
          "2024-03-18T00:00:00+05:30",
          "2024-03-19T00:00:00+05:30",
          "2024-03-20T00:00:00+05:30",
          "2024-03-21T00:00:00+05:30",
          "2024-03-22T00:00:00+05:30",
          "2024-03-26T00:00:00+05:30",
          "2024-03-27T00:00:00+05:30",
          "2024-03-28T00:00:00+05:30",
          "2024-04-01T00:00:00+05:30",
          "2024-04-02T00:00:00+05:30",
          "2024-04-03T00:00:00+05:30",
          "2024-04-04T00:00:00+05:30",
          "2024-04-05T00:00:00+05:30",
          "2024-04-08T00:00:00+05:30",
          "2024-04-09T00:00:00+05:30",
          "2024-04-10T00:00:00+05:30",
          "2024-04-12T00:00:00+05:30",
          "2024-04-15T00:00:00+05:30",
          "2024-04-16T00:00:00+05:30",
          "2024-04-18T00:00:00+05:30",
          "2024-04-19T00:00:00+05:30",
          "2024-04-22T00:00:00+05:30",
          "2024-04-23T00:00:00+05:30",
          "2024-04-24T00:00:00+05:30",
          "2024-04-25T00:00:00+05:30",
          "2024-04-26T00:00:00+05:30",
          "2024-04-29T00:00:00+05:30",
          "2024-04-30T00:00:00+05:30",
          "2024-05-02T00:00:00+05:30",
          "2024-05-03T00:00:00+05:30",
          "2024-05-06T00:00:00+05:30",
          "2024-05-07T00:00:00+05:30",
          "2024-05-08T00:00:00+05:30",
          "2024-05-09T00:00:00+05:30",
          "2024-05-10T00:00:00+05:30",
          "2024-05-13T00:00:00+05:30",
          "2024-05-14T00:00:00+05:30",
          "2024-05-15T00:00:00+05:30",
          "2024-05-16T00:00:00+05:30",
          "2024-05-17T00:00:00+05:30",
          "2024-05-21T00:00:00+05:30",
          "2024-05-22T00:00:00+05:30",
          "2024-05-23T00:00:00+05:30",
          "2024-05-24T00:00:00+05:30",
          "2024-05-27T00:00:00+05:30",
          "2024-05-28T00:00:00+05:30",
          "2024-05-29T00:00:00+05:30",
          "2024-05-30T00:00:00+05:30",
          "2024-05-31T00:00:00+05:30",
          "2024-06-03T00:00:00+05:30",
          "2024-06-04T00:00:00+05:30",
          "2024-06-05T00:00:00+05:30",
          "2024-06-06T00:00:00+05:30",
          "2024-06-07T00:00:00+05:30",
          "2024-06-10T00:00:00+05:30",
          "2024-06-11T00:00:00+05:30",
          "2024-06-12T00:00:00+05:30",
          "2024-06-13T00:00:00+05:30",
          "2024-06-14T00:00:00+05:30",
          "2024-06-18T00:00:00+05:30",
          "2024-06-19T00:00:00+05:30",
          "2024-06-20T00:00:00+05:30",
          "2024-06-21T00:00:00+05:30",
          "2024-06-24T00:00:00+05:30",
          "2024-06-25T00:00:00+05:30",
          "2024-06-26T00:00:00+05:30",
          "2024-06-27T00:00:00+05:30",
          "2024-06-28T00:00:00+05:30",
          "2024-07-01T00:00:00+05:30",
          "2024-07-02T00:00:00+05:30",
          "2024-07-03T00:00:00+05:30",
          "2024-07-04T00:00:00+05:30",
          "2024-07-05T00:00:00+05:30",
          "2024-07-08T00:00:00+05:30",
          "2024-07-09T00:00:00+05:30",
          "2024-07-10T00:00:00+05:30",
          "2024-07-11T00:00:00+05:30",
          "2024-07-12T00:00:00+05:30",
          "2024-07-15T00:00:00+05:30",
          "2024-07-16T00:00:00+05:30",
          "2024-07-18T00:00:00+05:30",
          "2024-07-19T00:00:00+05:30",
          "2024-07-22T00:00:00+05:30",
          "2024-07-23T00:00:00+05:30",
          "2024-07-24T00:00:00+05:30",
          "2024-07-25T00:00:00+05:30",
          "2024-07-26T00:00:00+05:30",
          "2024-07-29T00:00:00+05:30",
          "2024-07-30T00:00:00+05:30",
          "2024-07-31T00:00:00+05:30",
          "2024-08-01T00:00:00+05:30",
          "2024-08-02T00:00:00+05:30",
          "2024-08-05T00:00:00+05:30",
          "2024-08-06T00:00:00+05:30",
          "2024-08-07T00:00:00+05:30",
          "2024-08-08T00:00:00+05:30",
          "2024-08-09T00:00:00+05:30",
          "2024-08-12T00:00:00+05:30",
          "2024-08-13T00:00:00+05:30",
          "2024-08-14T00:00:00+05:30",
          "2024-08-16T00:00:00+05:30",
          "2024-08-19T00:00:00+05:30",
          "2024-08-20T00:00:00+05:30",
          "2024-08-21T00:00:00+05:30",
          "2024-08-22T00:00:00+05:30",
          "2024-08-23T00:00:00+05:30",
          "2024-08-26T00:00:00+05:30",
          "2024-08-27T00:00:00+05:30",
          "2024-08-28T00:00:00+05:30",
          "2024-08-29T00:00:00+05:30",
          "2024-08-30T00:00:00+05:30",
          "2024-09-02T00:00:00+05:30",
          "2024-09-03T00:00:00+05:30",
          "2024-09-04T00:00:00+05:30",
          "2024-09-05T00:00:00+05:30",
          "2024-09-06T00:00:00+05:30",
          "2024-09-09T00:00:00+05:30",
          "2024-09-10T00:00:00+05:30",
          "2024-09-11T00:00:00+05:30",
          "2024-09-12T00:00:00+05:30",
          "2024-09-13T00:00:00+05:30",
          "2024-09-16T00:00:00+05:30",
          "2024-09-17T00:00:00+05:30",
          "2024-09-18T00:00:00+05:30",
          "2024-09-19T00:00:00+05:30",
          "2024-09-20T00:00:00+05:30",
          "2024-09-23T00:00:00+05:30",
          "2024-09-24T00:00:00+05:30",
          "2024-09-25T00:00:00+05:30",
          "2024-09-26T00:00:00+05:30",
          "2024-09-27T00:00:00+05:30",
          "2024-09-30T00:00:00+05:30",
          "2024-10-01T00:00:00+05:30",
          "2024-10-03T00:00:00+05:30",
          "2024-10-04T00:00:00+05:30",
          "2024-10-07T00:00:00+05:30",
          "2024-10-08T00:00:00+05:30",
          "2024-10-09T00:00:00+05:30",
          "2024-10-10T00:00:00+05:30",
          "2024-10-11T00:00:00+05:30"
         ],
         "y": [
          632.049560546875,
          634.990478515625,
          665.0476684570312,
          664.1505126953125,
          653.6828002929688,
          666.4434204101562,
          666.7424926757812,
          661.1597290039062,
          645.3584594726562,
          635.8876953125,
          624.6224365234375,
          639.0778198242188,
          626.5664672851562,
          626.7160034179688,
          625.7689208984375,
          634.4920043945312,
          645.5079956054688,
          644.0624389648438,
          643.0156860351562,
          640.5732421875,
          647.352294921875,
          649.0470581054688,
          651.2402954101562,
          669.4840087890625,
          678.3068237304688,
          679.4532470703125,
          672.2255249023438,
          679.602783203125,
          679.1043701171875,
          677.8582153320312,
          671.62744140625,
          695.3541870117188,
          710.1585083007812,
          704.226806640625,
          703.2797241210938,
          703.4292602539062,
          706.7689819335938,
          720.2274169921875,
          719.72900390625,
          712.3517456054688,
          718.58251953125,
          713.1991577148438,
          718.0840454101562,
          717.5357666015625,
          730.1468505859375,
          728.5517578125,
          726.7074584960938,
          703.080322265625,
          706.6692504882812,
          722.4705200195312,
          717.3363647460938,
          738.6206665039062,
          751.5806884765625,
          777.550537109375,
          788.167724609375,
          781.9868774414062,
          779.0459594726562,
          793.3019409179688,
          788.5167236328125,
          786.67236328125,
          797.3394775390625,
          805.962890625,
          813.1407470703125,
          813.938232421875,
          809.9505615234375,
          816.330810546875,
          803.07177734375,
          816.5302124023438,
          821.0164184570312,
          797.9874877929688,
          808.4053344726562,
          809.3523559570312,
          838.4127197265625,
          856.207763671875,
          881.4798583984375,
          875.79736328125,
          876.0465698242188,
          923.94873046875,
          936.6595458984375,
          930.9271850585938,
          921.4564208984375,
          912.18505859375,
          908.7954711914062,
          904.1099853515625,
          915.4749145507812,
          917.7179565429688,
          935.7124633789062,
          929.7308959960938,
          923.5001220703125,
          918.2164306640625,
          929.4318237304688,
          934.5161743164062,
          934.0675659179688,
          959.7383422851562,
          955.1026000976562,
          947.2767944335938,
          974.3931274414062,
          984.1629638671875,
          1018.7562255859375,
          1014.519287109375,
          1036.1026611328125,
          1024.83740234375,
          1013.372802734375,
          970.2060546875,
          964.7727661132812,
          942.9401245117188,
          969.4583129882812,
          954.8035278320312,
          937.5567626953125,
          961.9315795898438,
          976.7857055664062,
          983.166015625,
          975.6392822265625,
          989.7457275390625,
          989.1973876953125,
          1001.5592651367188,
          1006.0454711914062,
          1008.4878540039062,
          1004.001708984375,
          1010.0829467773438,
          1005.3973999023438,
          1010.3820190429688,
          1015.3666381835938,
          995.7272338867188,
          989.7457275390625,
          968.3616943359375,
          960.23681640625,
          970.554931640625,
          983.71435546875,
          988.5993041992188,
          998.1697387695312,
          996.4251098632812,
          997.5216674804688,
          1004.79931640625,
          1024.6380615234375,
          1010.2823486328125,
          1013.07373046875,
          985.5087890625,
          1008.986328125,
          1027.13037109375,
          1043.4300537109375,
          956.79736328125,
          961.6823120117188,
          944.3856811523438,
          933.5192260742188,
          942.7906494140625,
          948.3733520507812,
          944.5850830078125,
          959.3893432617188,
          957.5949096679688,
          955.5512084960938,
          944.6348876953125,
          940.6970825195312,
          921.1075439453125,
          920.1604614257812,
          947.5260009765625,
          901.1192626953125,
          927.089111328125,
          935.363525390625,
          967.5143432617188,
          972.1500244140625,
          987.0999755859375,
          988.7000122070312,
          985.8499755859375,
          993.4000244140625,
          985.9000244140625,
          977.3499755859375,
          978.25,
          961.7999877929688,
          958.0499877929688,
          955,
          951.8499755859375,
          972.0999755859375,
          989.75,
          1002.0499877929688,
          981.2999877929688,
          975.6500244140625,
          998.2000122070312,
          993.6500244140625,
          1002.5999755859375,
          1014.9500122070312,
          1005.5,
          1020.7999877929688,
          1016.75,
          1024.449951171875,
          1021.1500244140625,
          1024.550048828125,
          990,
          1003.1500244140625,
          1001.7999877929688,
          1027.699951171875,
          1090.949951171875,
          1118.300048828125,
          1124,
          1161.8499755859375,
          1156.6500244140625,
          1144.4000244140625,
          1096.6500244140625,
          1016.4500122070312,
          1013.75,
          1025.300048828125,
          1041.75,
          1068.0999755859375,
          1076.1500244140625,
          1053.449951171875,
          1062.3499755859375,
          1098.3499755859375,
          1087.699951171875,
          1086.9000244140625,
          1085.199951171875,
          1068.449951171875,
          1085.1500244140625,
          1092.4000244140625,
          1077.25,
          1074.550048828125,
          1121.6500244140625,
          1111.3499755859375,
          1092.6500244140625,
          1085.0999755859375,
          1080.449951171875,
          1069.1500244140625,
          1049.3499755859375,
          1038.699951171875,
          1035.800048828125,
          976.2999877929688,
          986.1500244140625,
          992.0999755859375,
          988.4000244140625,
          974.9500122070312,
          962.0499877929688,
          967,
          970.8499755859375,
          971.7999877929688,
          977.2999877929688,
          963.5999755859375,
          993.1500244140625,
          993,
          974.6500244140625,
          965.2000122070312,
          925.7000122070312,
          930.75,
          927.8499755859375,
          919.7999877929688,
          939.1500244140625,
          928.5,
          930.7000122070312
         ]
        },
        {
         "line": {
          "color": "#FF4136",
          "dash": "dot",
          "width": 2
         },
         "mode": "lines",
         "name": "200% (1066.5)",
         "type": "scatter",
         "x": [
          "2023-10-11T00:00:00+05:30",
          "2024-10-11T00:00:00+05:30"
         ],
         "y": [
          1066.5000610351562,
          1066.5000610351562
         ]
        },
        {
         "line": {
          "color": "#FF851B",
          "dash": "dot",
          "width": 2
         },
         "mode": "lines",
         "name": "161.8% (1038.48)",
         "type": "scatter",
         "x": [
          "2023-10-11T00:00:00+05:30",
          "2024-10-11T00:00:00+05:30"
         ],
         "y": [
          1038.4803470458985,
          1038.4803470458985
         ]
        },
        {
         "line": {
          "color": "#FFDC00",
          "dash": "dot",
          "width": 2
         },
         "mode": "lines",
         "name": "150% (1029.83)",
         "type": "scatter",
         "x": [
          "2023-10-11T00:00:00+05:30",
          "2024-10-11T00:00:00+05:30"
         ],
         "y": [
          1029.8250427246094,
          1029.8250427246094
         ]
        },
        {
         "line": {
          "color": "#2ECC40",
          "dash": "dot",
          "width": 2
         },
         "mode": "lines",
         "name": "138.2% (1021.17)",
         "type": "scatter",
         "x": [
          "2023-10-11T00:00:00+05:30",
          "2024-10-11T00:00:00+05:30"
         ],
         "y": [
          1021.1697384033204,
          1021.1697384033204
         ]
        },
        {
         "line": {
          "color": "#0074D9",
          "dash": "dot",
          "width": 2
         },
         "mode": "lines",
         "name": "123.6% (1010.46)",
         "type": "scatter",
         "x": [
          "2023-10-11T00:00:00+05:30",
          "2024-10-11T00:00:00+05:30"
         ],
         "y": [
          1010.4606330566406,
          1010.4606330566406
         ]
        },
        {
         "line": {
          "color": "#B10DC9",
          "dash": "dash",
          "width": 2
         },
         "mode": "lines",
         "name": "23.6% (937.11)",
         "type": "scatter",
         "x": [
          "2023-10-11T00:00:00+05:30",
          "2024-10-11T00:00:00+05:30"
         ],
         "y": [
          937.1105964355469,
          937.1105964355469
         ]
        },
        {
         "line": {
          "color": "#F012BE",
          "dash": "dash",
          "width": 2
         },
         "mode": "lines",
         "name": "38.2% (947.82)",
         "type": "scatter",
         "x": [
          "2023-10-11T00:00:00+05:30",
          "2024-10-11T00:00:00+05:30"
         ],
         "y": [
          947.8197017822266,
          947.8197017822266
         ]
        },
        {
         "line": {
          "color": "#85144b",
          "dash": "dash",
          "width": 2
         },
         "mode": "lines",
         "name": "50% (956.48)",
         "type": "scatter",
         "x": [
          "2023-10-11T00:00:00+05:30",
          "2024-10-11T00:00:00+05:30"
         ],
         "y": [
          956.4750061035156,
          956.4750061035156
         ]
        },
        {
         "line": {
          "color": "#001f3f",
          "dash": "dash",
          "width": 2
         },
         "mode": "lines",
         "name": "61.8% (965.13)",
         "type": "scatter",
         "x": [
          "2023-10-11T00:00:00+05:30",
          "2024-10-11T00:00:00+05:30"
         ],
         "y": [
          965.1303104248046,
          965.1303104248046
         ]
        },
        {
         "line": {
          "color": "#39CCCC",
          "dash": "dash",
          "width": 2
         },
         "mode": "lines",
         "name": "78.6% (977.45)",
         "type": "scatter",
         "x": [
          "2023-10-11T00:00:00+05:30",
          "2024-10-11T00:00:00+05:30"
         ],
         "y": [
          977.4531165771484,
          977.4531165771484
         ]
        }
       ],
       "layout": {
        "annotations": [
         {
          "bgcolor": "white",
          "bordercolor": "#FF4136",
          "borderpad": 4,
          "borderwidth": 2,
          "font": {
           "color": "#FF4136",
           "size": 10
          },
          "opacity": 0.8,
          "showarrow": false,
          "text": "200% (1066.5)",
          "x": "2024-10-11T00:00:00+05:30",
          "xanchor": "left",
          "xshift": 10,
          "y": 1066.5000610351562
         },
         {
          "bgcolor": "white",
          "bordercolor": "#FF851B",
          "borderpad": 4,
          "borderwidth": 2,
          "font": {
           "color": "#FF851B",
           "size": 10
          },
          "opacity": 0.8,
          "showarrow": false,
          "text": "161.8% (1038.48)",
          "x": "2024-10-11T00:00:00+05:30",
          "xanchor": "left",
          "xshift": 10,
          "y": 1038.4803470458985
         },
         {
          "bgcolor": "white",
          "bordercolor": "#FFDC00",
          "borderpad": 4,
          "borderwidth": 2,
          "font": {
           "color": "#FFDC00",
           "size": 10
          },
          "opacity": 0.8,
          "showarrow": false,
          "text": "150% (1029.83)",
          "x": "2024-10-11T00:00:00+05:30",
          "xanchor": "left",
          "xshift": 10,
          "y": 1029.8250427246094
         },
         {
          "bgcolor": "white",
          "bordercolor": "#2ECC40",
          "borderpad": 4,
          "borderwidth": 2,
          "font": {
           "color": "#2ECC40",
           "size": 10
          },
          "opacity": 0.8,
          "showarrow": false,
          "text": "138.2% (1021.17)",
          "x": "2024-10-11T00:00:00+05:30",
          "xanchor": "left",
          "xshift": 10,
          "y": 1021.1697384033204
         },
         {
          "bgcolor": "white",
          "bordercolor": "#0074D9",
          "borderpad": 4,
          "borderwidth": 2,
          "font": {
           "color": "#0074D9",
           "size": 10
          },
          "opacity": 0.8,
          "showarrow": false,
          "text": "123.6% (1010.46)",
          "x": "2024-10-11T00:00:00+05:30",
          "xanchor": "left",
          "xshift": 10,
          "y": 1010.4606330566406
         },
         {
          "bgcolor": "white",
          "bordercolor": "#B10DC9",
          "borderpad": 4,
          "borderwidth": 2,
          "font": {
           "color": "#B10DC9",
           "size": 10
          },
          "opacity": 0.8,
          "showarrow": false,
          "text": "23.6% (937.11)",
          "x": "2024-10-11T00:00:00+05:30",
          "xanchor": "left",
          "xshift": 10,
          "y": 937.1105964355469
         },
         {
          "bgcolor": "white",
          "bordercolor": "#F012BE",
          "borderpad": 4,
          "borderwidth": 2,
          "font": {
           "color": "#F012BE",
           "size": 10
          },
          "opacity": 0.8,
          "showarrow": false,
          "text": "38.2% (947.82)",
          "x": "2024-10-11T00:00:00+05:30",
          "xanchor": "left",
          "xshift": 10,
          "y": 947.8197017822266
         },
         {
          "bgcolor": "white",
          "bordercolor": "#85144b",
          "borderpad": 4,
          "borderwidth": 2,
          "font": {
           "color": "#85144b",
           "size": 10
          },
          "opacity": 0.8,
          "showarrow": false,
          "text": "50% (956.48)",
          "x": "2024-10-11T00:00:00+05:30",
          "xanchor": "left",
          "xshift": 10,
          "y": 956.4750061035156
         },
         {
          "bgcolor": "white",
          "bordercolor": "#001f3f",
          "borderpad": 4,
          "borderwidth": 2,
          "font": {
           "color": "#001f3f",
           "size": 10
          },
          "opacity": 0.8,
          "showarrow": false,
          "text": "61.8% (965.13)",
          "x": "2024-10-11T00:00:00+05:30",
          "xanchor": "left",
          "xshift": 10,
          "y": 965.1303104248046
         },
         {
          "bgcolor": "white",
          "bordercolor": "#39CCCC",
          "borderpad": 4,
          "borderwidth": 2,
          "font": {
           "color": "#39CCCC",
           "size": 10
          },
          "opacity": 0.8,
          "showarrow": false,
          "text": "78.6% (977.45)",
          "x": "2024-10-11T00:00:00+05:30",
          "xanchor": "left",
          "xshift": 10,
          "y": 977.4531165771484
         }
        ],
        "hovermode": "x unified",
        "legend": {
         "title": {
          "text": "Levels"
         }
        },
        "showlegend": true,
        "template": {
         "data": {
          "bar": [
           {
            "error_x": {
             "color": "#2a3f5f"
            },
            "error_y": {
             "color": "#2a3f5f"
            },
            "marker": {
             "line": {
              "color": "#E5ECF6",
              "width": 0.5
             },
             "pattern": {
              "fillmode": "overlay",
              "size": 10,
              "solidity": 0.2
             }
            },
            "type": "bar"
           }
          ],
          "barpolar": [
           {
            "marker": {
             "line": {
              "color": "#E5ECF6",
              "width": 0.5
             },
             "pattern": {
              "fillmode": "overlay",
              "size": 10,
              "solidity": 0.2
             }
            },
            "type": "barpolar"
           }
          ],
          "carpet": [
           {
            "aaxis": {
             "endlinecolor": "#2a3f5f",
             "gridcolor": "white",
             "linecolor": "white",
             "minorgridcolor": "white",
             "startlinecolor": "#2a3f5f"
            },
            "baxis": {
             "endlinecolor": "#2a3f5f",
             "gridcolor": "white",
             "linecolor": "white",
             "minorgridcolor": "white",
             "startlinecolor": "#2a3f5f"
            },
            "type": "carpet"
           }
          ],
          "choropleth": [
           {
            "colorbar": {
             "outlinewidth": 0,
             "ticks": ""
            },
            "type": "choropleth"
           }
          ],
          "contour": [
           {
            "colorbar": {
             "outlinewidth": 0,
             "ticks": ""
            },
            "colorscale": [
             [
              0,
              "#0d0887"
             ],
             [
              0.1111111111111111,
              "#46039f"
             ],
             [
              0.2222222222222222,
              "#7201a8"
             ],
             [
              0.3333333333333333,
              "#9c179e"
             ],
             [
              0.4444444444444444,
              "#bd3786"
             ],
             [
              0.5555555555555556,
              "#d8576b"
             ],
             [
              0.6666666666666666,
              "#ed7953"
             ],
             [
              0.7777777777777778,
              "#fb9f3a"
             ],
             [
              0.8888888888888888,
              "#fdca26"
             ],
             [
              1,
              "#f0f921"
             ]
            ],
            "type": "contour"
           }
          ],
          "contourcarpet": [
           {
            "colorbar": {
             "outlinewidth": 0,
             "ticks": ""
            },
            "type": "contourcarpet"
           }
          ],
          "heatmap": [
           {
            "colorbar": {
             "outlinewidth": 0,
             "ticks": ""
            },
            "colorscale": [
             [
              0,
              "#0d0887"
             ],
             [
              0.1111111111111111,
              "#46039f"
             ],
             [
              0.2222222222222222,
              "#7201a8"
             ],
             [
              0.3333333333333333,
              "#9c179e"
             ],
             [
              0.4444444444444444,
              "#bd3786"
             ],
             [
              0.5555555555555556,
              "#d8576b"
             ],
             [
              0.6666666666666666,
              "#ed7953"
             ],
             [
              0.7777777777777778,
              "#fb9f3a"
             ],
             [
              0.8888888888888888,
              "#fdca26"
             ],
             [
              1,
              "#f0f921"
             ]
            ],
            "type": "heatmap"
           }
          ],
          "heatmapgl": [
           {
            "colorbar": {
             "outlinewidth": 0,
             "ticks": ""
            },
            "colorscale": [
             [
              0,
              "#0d0887"
             ],
             [
              0.1111111111111111,
              "#46039f"
             ],
             [
              0.2222222222222222,
              "#7201a8"
             ],
             [
              0.3333333333333333,
              "#9c179e"
             ],
             [
              0.4444444444444444,
              "#bd3786"
             ],
             [
              0.5555555555555556,
              "#d8576b"
             ],
             [
              0.6666666666666666,
              "#ed7953"
             ],
             [
              0.7777777777777778,
              "#fb9f3a"
             ],
             [
              0.8888888888888888,
              "#fdca26"
             ],
             [
              1,
              "#f0f921"
             ]
            ],
            "type": "heatmapgl"
           }
          ],
          "histogram": [
           {
            "marker": {
             "pattern": {
              "fillmode": "overlay",
              "size": 10,
              "solidity": 0.2
             }
            },
            "type": "histogram"
           }
          ],
          "histogram2d": [
           {
            "colorbar": {
             "outlinewidth": 0,
             "ticks": ""
            },
            "colorscale": [
             [
              0,
              "#0d0887"
             ],
             [
              0.1111111111111111,
              "#46039f"
             ],
             [
              0.2222222222222222,
              "#7201a8"
             ],
             [
              0.3333333333333333,
              "#9c179e"
             ],
             [
              0.4444444444444444,
              "#bd3786"
             ],
             [
              0.5555555555555556,
              "#d8576b"
             ],
             [
              0.6666666666666666,
              "#ed7953"
             ],
             [
              0.7777777777777778,
              "#fb9f3a"
             ],
             [
              0.8888888888888888,
              "#fdca26"
             ],
             [
              1,
              "#f0f921"
             ]
            ],
            "type": "histogram2d"
           }
          ],
          "histogram2dcontour": [
           {
            "colorbar": {
             "outlinewidth": 0,
             "ticks": ""
            },
            "colorscale": [
             [
              0,
              "#0d0887"
             ],
             [
              0.1111111111111111,
              "#46039f"
             ],
             [
              0.2222222222222222,
              "#7201a8"
             ],
             [
              0.3333333333333333,
              "#9c179e"
             ],
             [
              0.4444444444444444,
              "#bd3786"
             ],
             [
              0.5555555555555556,
              "#d8576b"
             ],
             [
              0.6666666666666666,
              "#ed7953"
             ],
             [
              0.7777777777777778,
              "#fb9f3a"
             ],
             [
              0.8888888888888888,
              "#fdca26"
             ],
             [
              1,
              "#f0f921"
             ]
            ],
            "type": "histogram2dcontour"
           }
          ],
          "mesh3d": [
           {
            "colorbar": {
             "outlinewidth": 0,
             "ticks": ""
            },
            "type": "mesh3d"
           }
          ],
          "parcoords": [
           {
            "line": {
             "colorbar": {
              "outlinewidth": 0,
              "ticks": ""
             }
            },
            "type": "parcoords"
           }
          ],
          "pie": [
           {
            "automargin": true,
            "type": "pie"
           }
          ],
          "scatter": [
           {
            "fillpattern": {
             "fillmode": "overlay",
             "size": 10,
             "solidity": 0.2
            },
            "type": "scatter"
           }
          ],
          "scatter3d": [
           {
            "line": {
             "colorbar": {
              "outlinewidth": 0,
              "ticks": ""
             }
            },
            "marker": {
             "colorbar": {
              "outlinewidth": 0,
              "ticks": ""
             }
            },
            "type": "scatter3d"
           }
          ],
          "scattercarpet": [
           {
            "marker": {
             "colorbar": {
              "outlinewidth": 0,
              "ticks": ""
             }
            },
            "type": "scattercarpet"
           }
          ],
          "scattergeo": [
           {
            "marker": {
             "colorbar": {
              "outlinewidth": 0,
              "ticks": ""
             }
            },
            "type": "scattergeo"
           }
          ],
          "scattergl": [
           {
            "marker": {
             "colorbar": {
              "outlinewidth": 0,
              "ticks": ""
             }
            },
            "type": "scattergl"
           }
          ],
          "scattermapbox": [
           {
            "marker": {
             "colorbar": {
              "outlinewidth": 0,
              "ticks": ""
             }
            },
            "type": "scattermapbox"
           }
          ],
          "scatterpolar": [
           {
            "marker": {
             "colorbar": {
              "outlinewidth": 0,
              "ticks": ""
             }
            },
            "type": "scatterpolar"
           }
          ],
          "scatterpolargl": [
           {
            "marker": {
             "colorbar": {
              "outlinewidth": 0,
              "ticks": ""
             }
            },
            "type": "scatterpolargl"
           }
          ],
          "scatterternary": [
           {
            "marker": {
             "colorbar": {
              "outlinewidth": 0,
              "ticks": ""
             }
            },
            "type": "scatterternary"
           }
          ],
          "surface": [
           {
            "colorbar": {
             "outlinewidth": 0,
             "ticks": ""
            },
            "colorscale": [
             [
              0,
              "#0d0887"
             ],
             [
              0.1111111111111111,
              "#46039f"
             ],
             [
              0.2222222222222222,
              "#7201a8"
             ],
             [
              0.3333333333333333,
              "#9c179e"
             ],
             [
              0.4444444444444444,
              "#bd3786"
             ],
             [
              0.5555555555555556,
              "#d8576b"
             ],
             [
              0.6666666666666666,
              "#ed7953"
             ],
             [
              0.7777777777777778,
              "#fb9f3a"
             ],
             [
              0.8888888888888888,
              "#fdca26"
             ],
             [
              1,
              "#f0f921"
             ]
            ],
            "type": "surface"
           }
          ],
          "table": [
           {
            "cells": {
             "fill": {
              "color": "#EBF0F8"
             },
             "line": {
              "color": "white"
             }
            },
            "header": {
             "fill": {
              "color": "#C8D4E3"
             },
             "line": {
              "color": "white"
             }
            },
            "type": "table"
           }
          ]
         },
         "layout": {
          "annotationdefaults": {
           "arrowcolor": "#2a3f5f",
           "arrowhead": 0,
           "arrowwidth": 1
          },
          "autotypenumbers": "strict",
          "coloraxis": {
           "colorbar": {
            "outlinewidth": 0,
            "ticks": ""
           }
          },
          "colorscale": {
           "diverging": [
            [
             0,
             "#8e0152"
            ],
            [
             0.1,
             "#c51b7d"
            ],
            [
             0.2,
             "#de77ae"
            ],
            [
             0.3,
             "#f1b6da"
            ],
            [
             0.4,
             "#fde0ef"
            ],
            [
             0.5,
             "#f7f7f7"
            ],
            [
             0.6,
             "#e6f5d0"
            ],
            [
             0.7,
             "#b8e186"
            ],
            [
             0.8,
             "#7fbc41"
            ],
            [
             0.9,
             "#4d9221"
            ],
            [
             1,
             "#276419"
            ]
           ],
           "sequential": [
            [
             0,
             "#0d0887"
            ],
            [
             0.1111111111111111,
             "#46039f"
            ],
            [
             0.2222222222222222,
             "#7201a8"
            ],
            [
             0.3333333333333333,
             "#9c179e"
            ],
            [
             0.4444444444444444,
             "#bd3786"
            ],
            [
             0.5555555555555556,
             "#d8576b"
            ],
            [
             0.6666666666666666,
             "#ed7953"
            ],
            [
             0.7777777777777778,
             "#fb9f3a"
            ],
            [
             0.8888888888888888,
             "#fdca26"
            ],
            [
             1,
             "#f0f921"
            ]
           ],
           "sequentialminus": [
            [
             0,
             "#0d0887"
            ],
            [
             0.1111111111111111,
             "#46039f"
            ],
            [
             0.2222222222222222,
             "#7201a8"
            ],
            [
             0.3333333333333333,
             "#9c179e"
            ],
            [
             0.4444444444444444,
             "#bd3786"
            ],
            [
             0.5555555555555556,
             "#d8576b"
            ],
            [
             0.6666666666666666,
             "#ed7953"
            ],
            [
             0.7777777777777778,
             "#fb9f3a"
            ],
            [
             0.8888888888888888,
             "#fdca26"
            ],
            [
             1,
             "#f0f921"
            ]
           ]
          },
          "colorway": [
           "#636efa",
           "#EF553B",
           "#00cc96",
           "#ab63fa",
           "#FFA15A",
           "#19d3f3",
           "#FF6692",
           "#B6E880",
           "#FF97FF",
           "#FECB52"
          ],
          "font": {
           "color": "#2a3f5f"
          },
          "geo": {
           "bgcolor": "white",
           "lakecolor": "white",
           "landcolor": "#E5ECF6",
           "showlakes": true,
           "showland": true,
           "subunitcolor": "white"
          },
          "hoverlabel": {
           "align": "left"
          },
          "hovermode": "closest",
          "mapbox": {
           "style": "light"
          },
          "paper_bgcolor": "white",
          "plot_bgcolor": "#E5ECF6",
          "polar": {
           "angularaxis": {
            "gridcolor": "white",
            "linecolor": "white",
            "ticks": ""
           },
           "bgcolor": "#E5ECF6",
           "radialaxis": {
            "gridcolor": "white",
            "linecolor": "white",
            "ticks": ""
           }
          },
          "scene": {
           "xaxis": {
            "backgroundcolor": "#E5ECF6",
            "gridcolor": "white",
            "gridwidth": 2,
            "linecolor": "white",
            "showbackground": true,
            "ticks": "",
            "zerolinecolor": "white"
           },
           "yaxis": {
            "backgroundcolor": "#E5ECF6",
            "gridcolor": "white",
            "gridwidth": 2,
            "linecolor": "white",
            "showbackground": true,
            "ticks": "",
            "zerolinecolor": "white"
           },
           "zaxis": {
            "backgroundcolor": "#E5ECF6",
            "gridcolor": "white",
            "gridwidth": 2,
            "linecolor": "white",
            "showbackground": true,
            "ticks": "",
            "zerolinecolor": "white"
           }
          },
          "shapedefaults": {
           "line": {
            "color": "#2a3f5f"
           }
          },
          "ternary": {
           "aaxis": {
            "gridcolor": "white",
            "linecolor": "white",
            "ticks": ""
           },
           "baxis": {
            "gridcolor": "white",
            "linecolor": "white",
            "ticks": ""
           },
           "bgcolor": "#E5ECF6",
           "caxis": {
            "gridcolor": "white",
            "linecolor": "white",
            "ticks": ""
           }
          },
          "title": {
           "x": 0.05
          },
          "xaxis": {
           "automargin": true,
           "gridcolor": "white",
           "linecolor": "white",
           "ticks": "",
           "title": {
            "standoff": 15
           },
           "zerolinecolor": "white",
           "zerolinewidth": 2
          },
          "yaxis": {
           "automargin": true,
           "gridcolor": "white",
           "linecolor": "white",
           "ticks": "",
           "title": {
            "standoff": 15
           },
           "zerolinecolor": "white",
           "zerolinewidth": 2
          }
         }
        },
        "title": {
         "text": "Fibonacci Retracement and Extension Levels"
        },
        "xaxis": {
         "anchor": "y",
         "domain": [
          0,
          0.94
         ],
         "range": [
          "2024-01-17T00:00:00+05:30",
          "2024-10-31T00:00:00+05:30"
         ],
         "tickangle": 45,
         "tickformat": "%d %b %y",
         "tickmode": "array",
         "ticktext": [
          "01 Feb 24",
          "01 Mar 24",
          "01 Apr 24",
          "01 May 24",
          "01 Jun 24",
          "01 Jul 24",
          "01 Aug 24",
          "01 Sep 24",
          "01 Oct 24"
         ],
         "tickvals": [
          "2024-02-01T00:00:00+05:30",
          "2024-03-01T00:00:00+05:30",
          "2024-04-01T00:00:00+05:30",
          "2024-05-01T00:00:00+05:30",
          "2024-06-01T00:00:00+05:30",
          "2024-07-01T00:00:00+05:30",
          "2024-08-01T00:00:00+05:30",
          "2024-09-01T00:00:00+05:30",
          "2024-10-01T00:00:00+05:30"
         ],
         "title": {
          "text": "Date"
         }
        },
        "yaxis": {
         "anchor": "x",
         "domain": [
          0,
          1
         ],
         "tickformat": ".2f",
         "title": {
          "text": "Price"
         }
        },
        "yaxis2": {
         "anchor": "x",
         "overlaying": "y",
         "side": "right",
         "tickformat": ".2f"
        }
       }
      },
      "text/html": [
       "<div>                            <div id=\"96f4cb6d-6524-435e-8dd5-ea3a400a5254\" class=\"plotly-graph-div\" style=\"height:525px; width:100%;\"></div>            <script type=\"text/javascript\">                require([\"plotly\"], function(Plotly) {                    window.PLOTLYENV=window.PLOTLYENV || {};                                    if (document.getElementById(\"96f4cb6d-6524-435e-8dd5-ea3a400a5254\")) {                    Plotly.newPlot(                        \"96f4cb6d-6524-435e-8dd5-ea3a400a5254\",                        [{\"hovertemplate\":\"\\u003cb\\u003eDate:\\u003c\\u002fb\\u003e %{x|%d %b %y}\\u003cbr\\u003e\\u003cb\\u003eClose:\\u003c\\u002fb\\u003e %{y:.2f}\\u003cextra\\u003e\\u003c\\u002fextra\\u003e\",\"line\":{\"color\":\"#1e90ff\",\"width\":3},\"name\":\"Close Price\",\"x\":[\"2023-10-11T00:00:00+05:30\",\"2023-10-12T00:00:00+05:30\",\"2023-10-13T00:00:00+05:30\",\"2023-10-16T00:00:00+05:30\",\"2023-10-17T00:00:00+05:30\",\"2023-10-18T00:00:00+05:30\",\"2023-10-19T00:00:00+05:30\",\"2023-10-20T00:00:00+05:30\",\"2023-10-23T00:00:00+05:30\",\"2023-10-25T00:00:00+05:30\",\"2023-10-26T00:00:00+05:30\",\"2023-10-27T00:00:00+05:30\",\"2023-10-30T00:00:00+05:30\",\"2023-10-31T00:00:00+05:30\",\"2023-11-01T00:00:00+05:30\",\"2023-11-02T00:00:00+05:30\",\"2023-11-03T00:00:00+05:30\",\"2023-11-06T00:00:00+05:30\",\"2023-11-07T00:00:00+05:30\",\"2023-11-08T00:00:00+05:30\",\"2023-11-09T00:00:00+05:30\",\"2023-11-10T00:00:00+05:30\",\"2023-11-13T00:00:00+05:30\",\"2023-11-15T00:00:00+05:30\",\"2023-11-16T00:00:00+05:30\",\"2023-11-17T00:00:00+05:30\",\"2023-11-20T00:00:00+05:30\",\"2023-11-21T00:00:00+05:30\",\"2023-11-22T00:00:00+05:30\",\"2023-11-23T00:00:00+05:30\",\"2023-11-24T00:00:00+05:30\",\"2023-11-28T00:00:00+05:30\",\"2023-11-29T00:00:00+05:30\",\"2023-11-30T00:00:00+05:30\",\"2023-12-01T00:00:00+05:30\",\"2023-12-04T00:00:00+05:30\",\"2023-12-05T00:00:00+05:30\",\"2023-12-06T00:00:00+05:30\",\"2023-12-07T00:00:00+05:30\",\"2023-12-08T00:00:00+05:30\",\"2023-12-11T00:00:00+05:30\",\"2023-12-12T00:00:00+05:30\",\"2023-12-13T00:00:00+05:30\",\"2023-12-14T00:00:00+05:30\",\"2023-12-15T00:00:00+05:30\",\"2023-12-18T00:00:00+05:30\",\"2023-12-19T00:00:00+05:30\",\"2023-12-20T00:00:00+05:30\",\"2023-12-21T00:00:00+05:30\",\"2023-12-22T00:00:00+05:30\",\"2023-12-26T00:00:00+05:30\",\"2023-12-27T00:00:00+05:30\",\"2023-12-28T00:00:00+05:30\",\"2023-12-29T00:00:00+05:30\",\"2024-01-01T00:00:00+05:30\",\"2024-01-02T00:00:00+05:30\",\"2024-01-03T00:00:00+05:30\",\"2024-01-04T00:00:00+05:30\",\"2024-01-05T00:00:00+05:30\",\"2024-01-08T00:00:00+05:30\",\"2024-01-09T00:00:00+05:30\",\"2024-01-10T00:00:00+05:30\",\"2024-01-11T00:00:00+05:30\",\"2024-01-12T00:00:00+05:30\",\"2024-01-15T00:00:00+05:30\",\"2024-01-16T00:00:00+05:30\",\"2024-01-17T00:00:00+05:30\",\"2024-01-18T00:00:00+05:30\",\"2024-01-19T00:00:00+05:30\",\"2024-01-23T00:00:00+05:30\",\"2024-01-24T00:00:00+05:30\",\"2024-01-25T00:00:00+05:30\",\"2024-01-29T00:00:00+05:30\",\"2024-01-30T00:00:00+05:30\",\"2024-01-31T00:00:00+05:30\",\"2024-02-01T00:00:00+05:30\",\"2024-02-02T00:00:00+05:30\",\"2024-02-05T00:00:00+05:30\",\"2024-02-06T00:00:00+05:30\",\"2024-02-07T00:00:00+05:30\",\"2024-02-08T00:00:00+05:30\",\"2024-02-09T00:00:00+05:30\",\"2024-02-12T00:00:00+05:30\",\"2024-02-13T00:00:00+05:30\",\"2024-02-14T00:00:00+05:30\",\"2024-02-15T00:00:00+05:30\",\"2024-02-16T00:00:00+05:30\",\"2024-02-19T00:00:00+05:30\",\"2024-02-20T00:00:00+05:30\",\"2024-02-21T00:00:00+05:30\",\"2024-02-22T00:00:00+05:30\",\"2024-02-23T00:00:00+05:30\",\"2024-02-26T00:00:00+05:30\",\"2024-02-27T00:00:00+05:30\",\"2024-02-28T00:00:00+05:30\",\"2024-02-29T00:00:00+05:30\",\"2024-03-01T00:00:00+05:30\",\"2024-03-04T00:00:00+05:30\",\"2024-03-05T00:00:00+05:30\",\"2024-03-06T00:00:00+05:30\",\"2024-03-07T00:00:00+05:30\",\"2024-03-11T00:00:00+05:30\",\"2024-03-12T00:00:00+05:30\",\"2024-03-13T00:00:00+05:30\",\"2024-03-14T00:00:00+05:30\",\"2024-03-15T00:00:00+05:30\",\"2024-03-18T00:00:00+05:30\",\"2024-03-19T00:00:00+05:30\",\"2024-03-20T00:00:00+05:30\",\"2024-03-21T00:00:00+05:30\",\"2024-03-22T00:00:00+05:30\",\"2024-03-26T00:00:00+05:30\",\"2024-03-27T00:00:00+05:30\",\"2024-03-28T00:00:00+05:30\",\"2024-04-01T00:00:00+05:30\",\"2024-04-02T00:00:00+05:30\",\"2024-04-03T00:00:00+05:30\",\"2024-04-04T00:00:00+05:30\",\"2024-04-05T00:00:00+05:30\",\"2024-04-08T00:00:00+05:30\",\"2024-04-09T00:00:00+05:30\",\"2024-04-10T00:00:00+05:30\",\"2024-04-12T00:00:00+05:30\",\"2024-04-15T00:00:00+05:30\",\"2024-04-16T00:00:00+05:30\",\"2024-04-18T00:00:00+05:30\",\"2024-04-19T00:00:00+05:30\",\"2024-04-22T00:00:00+05:30\",\"2024-04-23T00:00:00+05:30\",\"2024-04-24T00:00:00+05:30\",\"2024-04-25T00:00:00+05:30\",\"2024-04-26T00:00:00+05:30\",\"2024-04-29T00:00:00+05:30\",\"2024-04-30T00:00:00+05:30\",\"2024-05-02T00:00:00+05:30\",\"2024-05-03T00:00:00+05:30\",\"2024-05-06T00:00:00+05:30\",\"2024-05-07T00:00:00+05:30\",\"2024-05-08T00:00:00+05:30\",\"2024-05-09T00:00:00+05:30\",\"2024-05-10T00:00:00+05:30\",\"2024-05-13T00:00:00+05:30\",\"2024-05-14T00:00:00+05:30\",\"2024-05-15T00:00:00+05:30\",\"2024-05-16T00:00:00+05:30\",\"2024-05-17T00:00:00+05:30\",\"2024-05-21T00:00:00+05:30\",\"2024-05-22T00:00:00+05:30\",\"2024-05-23T00:00:00+05:30\",\"2024-05-24T00:00:00+05:30\",\"2024-05-27T00:00:00+05:30\",\"2024-05-28T00:00:00+05:30\",\"2024-05-29T00:00:00+05:30\",\"2024-05-30T00:00:00+05:30\",\"2024-05-31T00:00:00+05:30\",\"2024-06-03T00:00:00+05:30\",\"2024-06-04T00:00:00+05:30\",\"2024-06-05T00:00:00+05:30\",\"2024-06-06T00:00:00+05:30\",\"2024-06-07T00:00:00+05:30\",\"2024-06-10T00:00:00+05:30\",\"2024-06-11T00:00:00+05:30\",\"2024-06-12T00:00:00+05:30\",\"2024-06-13T00:00:00+05:30\",\"2024-06-14T00:00:00+05:30\",\"2024-06-18T00:00:00+05:30\",\"2024-06-19T00:00:00+05:30\",\"2024-06-20T00:00:00+05:30\",\"2024-06-21T00:00:00+05:30\",\"2024-06-24T00:00:00+05:30\",\"2024-06-25T00:00:00+05:30\",\"2024-06-26T00:00:00+05:30\",\"2024-06-27T00:00:00+05:30\",\"2024-06-28T00:00:00+05:30\",\"2024-07-01T00:00:00+05:30\",\"2024-07-02T00:00:00+05:30\",\"2024-07-03T00:00:00+05:30\",\"2024-07-04T00:00:00+05:30\",\"2024-07-05T00:00:00+05:30\",\"2024-07-08T00:00:00+05:30\",\"2024-07-09T00:00:00+05:30\",\"2024-07-10T00:00:00+05:30\",\"2024-07-11T00:00:00+05:30\",\"2024-07-12T00:00:00+05:30\",\"2024-07-15T00:00:00+05:30\",\"2024-07-16T00:00:00+05:30\",\"2024-07-18T00:00:00+05:30\",\"2024-07-19T00:00:00+05:30\",\"2024-07-22T00:00:00+05:30\",\"2024-07-23T00:00:00+05:30\",\"2024-07-24T00:00:00+05:30\",\"2024-07-25T00:00:00+05:30\",\"2024-07-26T00:00:00+05:30\",\"2024-07-29T00:00:00+05:30\",\"2024-07-30T00:00:00+05:30\",\"2024-07-31T00:00:00+05:30\",\"2024-08-01T00:00:00+05:30\",\"2024-08-02T00:00:00+05:30\",\"2024-08-05T00:00:00+05:30\",\"2024-08-06T00:00:00+05:30\",\"2024-08-07T00:00:00+05:30\",\"2024-08-08T00:00:00+05:30\",\"2024-08-09T00:00:00+05:30\",\"2024-08-12T00:00:00+05:30\",\"2024-08-13T00:00:00+05:30\",\"2024-08-14T00:00:00+05:30\",\"2024-08-16T00:00:00+05:30\",\"2024-08-19T00:00:00+05:30\",\"2024-08-20T00:00:00+05:30\",\"2024-08-21T00:00:00+05:30\",\"2024-08-22T00:00:00+05:30\",\"2024-08-23T00:00:00+05:30\",\"2024-08-26T00:00:00+05:30\",\"2024-08-27T00:00:00+05:30\",\"2024-08-28T00:00:00+05:30\",\"2024-08-29T00:00:00+05:30\",\"2024-08-30T00:00:00+05:30\",\"2024-09-02T00:00:00+05:30\",\"2024-09-03T00:00:00+05:30\",\"2024-09-04T00:00:00+05:30\",\"2024-09-05T00:00:00+05:30\",\"2024-09-06T00:00:00+05:30\",\"2024-09-09T00:00:00+05:30\",\"2024-09-10T00:00:00+05:30\",\"2024-09-11T00:00:00+05:30\",\"2024-09-12T00:00:00+05:30\",\"2024-09-13T00:00:00+05:30\",\"2024-09-16T00:00:00+05:30\",\"2024-09-17T00:00:00+05:30\",\"2024-09-18T00:00:00+05:30\",\"2024-09-19T00:00:00+05:30\",\"2024-09-20T00:00:00+05:30\",\"2024-09-23T00:00:00+05:30\",\"2024-09-24T00:00:00+05:30\",\"2024-09-25T00:00:00+05:30\",\"2024-09-26T00:00:00+05:30\",\"2024-09-27T00:00:00+05:30\",\"2024-09-30T00:00:00+05:30\",\"2024-10-01T00:00:00+05:30\",\"2024-10-03T00:00:00+05:30\",\"2024-10-04T00:00:00+05:30\",\"2024-10-07T00:00:00+05:30\",\"2024-10-08T00:00:00+05:30\",\"2024-10-09T00:00:00+05:30\",\"2024-10-10T00:00:00+05:30\",\"2024-10-11T00:00:00+05:30\"],\"y\":[632.049560546875,634.990478515625,665.0476684570312,664.1505126953125,653.6828002929688,666.4434204101562,666.7424926757812,661.1597290039062,645.3584594726562,635.8876953125,624.6224365234375,639.0778198242188,626.5664672851562,626.7160034179688,625.7689208984375,634.4920043945312,645.5079956054688,644.0624389648438,643.0156860351562,640.5732421875,647.352294921875,649.0470581054688,651.2402954101562,669.4840087890625,678.3068237304688,679.4532470703125,672.2255249023438,679.602783203125,679.1043701171875,677.8582153320312,671.62744140625,695.3541870117188,710.1585083007812,704.226806640625,703.2797241210938,703.4292602539062,706.7689819335938,720.2274169921875,719.72900390625,712.3517456054688,718.58251953125,713.1991577148438,718.0840454101562,717.5357666015625,730.1468505859375,728.5517578125,726.7074584960938,703.080322265625,706.6692504882812,722.4705200195312,717.3363647460938,738.6206665039062,751.5806884765625,777.550537109375,788.167724609375,781.9868774414062,779.0459594726562,793.3019409179688,788.5167236328125,786.67236328125,797.3394775390625,805.962890625,813.1407470703125,813.938232421875,809.9505615234375,816.330810546875,803.07177734375,816.5302124023438,821.0164184570312,797.9874877929688,808.4053344726562,809.3523559570312,838.4127197265625,856.207763671875,881.4798583984375,875.79736328125,876.0465698242188,923.94873046875,936.6595458984375,930.9271850585938,921.4564208984375,912.18505859375,908.7954711914062,904.1099853515625,915.4749145507812,917.7179565429688,935.7124633789062,929.7308959960938,923.5001220703125,918.2164306640625,929.4318237304688,934.5161743164062,934.0675659179688,959.7383422851562,955.1026000976562,947.2767944335938,974.3931274414062,984.1629638671875,1018.7562255859375,1014.519287109375,1036.1026611328125,1024.83740234375,1013.372802734375,970.2060546875,964.7727661132812,942.9401245117188,969.4583129882812,954.8035278320312,937.5567626953125,961.9315795898438,976.7857055664062,983.166015625,975.6392822265625,989.7457275390625,989.1973876953125,1001.5592651367188,1006.0454711914062,1008.4878540039062,1004.001708984375,1010.0829467773438,1005.3973999023438,1010.3820190429688,1015.3666381835938,995.7272338867188,989.7457275390625,968.3616943359375,960.23681640625,970.554931640625,983.71435546875,988.5993041992188,998.1697387695312,996.4251098632812,997.5216674804688,1004.79931640625,1024.6380615234375,1010.2823486328125,1013.07373046875,985.5087890625,1008.986328125,1027.13037109375,1043.4300537109375,956.79736328125,961.6823120117188,944.3856811523438,933.5192260742188,942.7906494140625,948.3733520507812,944.5850830078125,959.3893432617188,957.5949096679688,955.5512084960938,944.6348876953125,940.6970825195312,921.1075439453125,920.1604614257812,947.5260009765625,901.1192626953125,927.089111328125,935.363525390625,967.5143432617188,972.1500244140625,987.0999755859375,988.7000122070312,985.8499755859375,993.4000244140625,985.9000244140625,977.3499755859375,978.25,961.7999877929688,958.0499877929688,955.0,951.8499755859375,972.0999755859375,989.75,1002.0499877929688,981.2999877929688,975.6500244140625,998.2000122070312,993.6500244140625,1002.5999755859375,1014.9500122070312,1005.5,1020.7999877929688,1016.75,1024.449951171875,1021.1500244140625,1024.550048828125,990.0,1003.1500244140625,1001.7999877929688,1027.699951171875,1090.949951171875,1118.300048828125,1124.0,1161.8499755859375,1156.6500244140625,1144.4000244140625,1096.6500244140625,1016.4500122070312,1013.75,1025.300048828125,1041.75,1068.0999755859375,1076.1500244140625,1053.449951171875,1062.3499755859375,1098.3499755859375,1087.699951171875,1086.9000244140625,1085.199951171875,1068.449951171875,1085.1500244140625,1092.4000244140625,1077.25,1074.550048828125,1121.6500244140625,1111.3499755859375,1092.6500244140625,1085.0999755859375,1080.449951171875,1069.1500244140625,1049.3499755859375,1038.699951171875,1035.800048828125,976.2999877929688,986.1500244140625,992.0999755859375,988.4000244140625,974.9500122070312,962.0499877929688,967.0,970.8499755859375,971.7999877929688,977.2999877929688,963.5999755859375,993.1500244140625,993.0,974.6500244140625,965.2000122070312,925.7000122070312,930.75,927.8499755859375,919.7999877929688,939.1500244140625,928.5,930.7000122070312],\"type\":\"scatter\"},{\"line\":{\"color\":\"#FF4136\",\"dash\":\"dot\",\"width\":2},\"mode\":\"lines\",\"name\":\"200% (1066.5)\",\"x\":[\"2023-10-11T00:00:00+05:30\",\"2024-10-11T00:00:00+05:30\"],\"y\":[1066.5000610351562,1066.5000610351562],\"type\":\"scatter\"},{\"line\":{\"color\":\"#FF851B\",\"dash\":\"dot\",\"width\":2},\"mode\":\"lines\",\"name\":\"161.8% (1038.48)\",\"x\":[\"2023-10-11T00:00:00+05:30\",\"2024-10-11T00:00:00+05:30\"],\"y\":[1038.4803470458985,1038.4803470458985],\"type\":\"scatter\"},{\"line\":{\"color\":\"#FFDC00\",\"dash\":\"dot\",\"width\":2},\"mode\":\"lines\",\"name\":\"150% (1029.83)\",\"x\":[\"2023-10-11T00:00:00+05:30\",\"2024-10-11T00:00:00+05:30\"],\"y\":[1029.8250427246094,1029.8250427246094],\"type\":\"scatter\"},{\"line\":{\"color\":\"#2ECC40\",\"dash\":\"dot\",\"width\":2},\"mode\":\"lines\",\"name\":\"138.2% (1021.17)\",\"x\":[\"2023-10-11T00:00:00+05:30\",\"2024-10-11T00:00:00+05:30\"],\"y\":[1021.1697384033204,1021.1697384033204],\"type\":\"scatter\"},{\"line\":{\"color\":\"#0074D9\",\"dash\":\"dot\",\"width\":2},\"mode\":\"lines\",\"name\":\"123.6% (1010.46)\",\"x\":[\"2023-10-11T00:00:00+05:30\",\"2024-10-11T00:00:00+05:30\"],\"y\":[1010.4606330566406,1010.4606330566406],\"type\":\"scatter\"},{\"line\":{\"color\":\"#B10DC9\",\"dash\":\"dash\",\"width\":2},\"mode\":\"lines\",\"name\":\"23.6% (937.11)\",\"x\":[\"2023-10-11T00:00:00+05:30\",\"2024-10-11T00:00:00+05:30\"],\"y\":[937.1105964355469,937.1105964355469],\"type\":\"scatter\"},{\"line\":{\"color\":\"#F012BE\",\"dash\":\"dash\",\"width\":2},\"mode\":\"lines\",\"name\":\"38.2% (947.82)\",\"x\":[\"2023-10-11T00:00:00+05:30\",\"2024-10-11T00:00:00+05:30\"],\"y\":[947.8197017822266,947.8197017822266],\"type\":\"scatter\"},{\"line\":{\"color\":\"#85144b\",\"dash\":\"dash\",\"width\":2},\"mode\":\"lines\",\"name\":\"50% (956.48)\",\"x\":[\"2023-10-11T00:00:00+05:30\",\"2024-10-11T00:00:00+05:30\"],\"y\":[956.4750061035156,956.4750061035156],\"type\":\"scatter\"},{\"line\":{\"color\":\"#001f3f\",\"dash\":\"dash\",\"width\":2},\"mode\":\"lines\",\"name\":\"61.8% (965.13)\",\"x\":[\"2023-10-11T00:00:00+05:30\",\"2024-10-11T00:00:00+05:30\"],\"y\":[965.1303104248046,965.1303104248046],\"type\":\"scatter\"},{\"line\":{\"color\":\"#39CCCC\",\"dash\":\"dash\",\"width\":2},\"mode\":\"lines\",\"name\":\"78.6% (977.45)\",\"x\":[\"2023-10-11T00:00:00+05:30\",\"2024-10-11T00:00:00+05:30\"],\"y\":[977.4531165771484,977.4531165771484],\"type\":\"scatter\"}],                        {\"template\":{\"data\":{\"histogram2dcontour\":[{\"type\":\"histogram2dcontour\",\"colorbar\":{\"outlinewidth\":0,\"ticks\":\"\"},\"colorscale\":[[0.0,\"#0d0887\"],[0.1111111111111111,\"#46039f\"],[0.2222222222222222,\"#7201a8\"],[0.3333333333333333,\"#9c179e\"],[0.4444444444444444,\"#bd3786\"],[0.5555555555555556,\"#d8576b\"],[0.6666666666666666,\"#ed7953\"],[0.7777777777777778,\"#fb9f3a\"],[0.8888888888888888,\"#fdca26\"],[1.0,\"#f0f921\"]]}],\"choropleth\":[{\"type\":\"choropleth\",\"colorbar\":{\"outlinewidth\":0,\"ticks\":\"\"}}],\"histogram2d\":[{\"type\":\"histogram2d\",\"colorbar\":{\"outlinewidth\":0,\"ticks\":\"\"},\"colorscale\":[[0.0,\"#0d0887\"],[0.1111111111111111,\"#46039f\"],[0.2222222222222222,\"#7201a8\"],[0.3333333333333333,\"#9c179e\"],[0.4444444444444444,\"#bd3786\"],[0.5555555555555556,\"#d8576b\"],[0.6666666666666666,\"#ed7953\"],[0.7777777777777778,\"#fb9f3a\"],[0.8888888888888888,\"#fdca26\"],[1.0,\"#f0f921\"]]}],\"heatmap\":[{\"type\":\"heatmap\",\"colorbar\":{\"outlinewidth\":0,\"ticks\":\"\"},\"colorscale\":[[0.0,\"#0d0887\"],[0.1111111111111111,\"#46039f\"],[0.2222222222222222,\"#7201a8\"],[0.3333333333333333,\"#9c179e\"],[0.4444444444444444,\"#bd3786\"],[0.5555555555555556,\"#d8576b\"],[0.6666666666666666,\"#ed7953\"],[0.7777777777777778,\"#fb9f3a\"],[0.8888888888888888,\"#fdca26\"],[1.0,\"#f0f921\"]]}],\"heatmapgl\":[{\"type\":\"heatmapgl\",\"colorbar\":{\"outlinewidth\":0,\"ticks\":\"\"},\"colorscale\":[[0.0,\"#0d0887\"],[0.1111111111111111,\"#46039f\"],[0.2222222222222222,\"#7201a8\"],[0.3333333333333333,\"#9c179e\"],[0.4444444444444444,\"#bd3786\"],[0.5555555555555556,\"#d8576b\"],[0.6666666666666666,\"#ed7953\"],[0.7777777777777778,\"#fb9f3a\"],[0.8888888888888888,\"#fdca26\"],[1.0,\"#f0f921\"]]}],\"contourcarpet\":[{\"type\":\"contourcarpet\",\"colorbar\":{\"outlinewidth\":0,\"ticks\":\"\"}}],\"contour\":[{\"type\":\"contour\",\"colorbar\":{\"outlinewidth\":0,\"ticks\":\"\"},\"colorscale\":[[0.0,\"#0d0887\"],[0.1111111111111111,\"#46039f\"],[0.2222222222222222,\"#7201a8\"],[0.3333333333333333,\"#9c179e\"],[0.4444444444444444,\"#bd3786\"],[0.5555555555555556,\"#d8576b\"],[0.6666666666666666,\"#ed7953\"],[0.7777777777777778,\"#fb9f3a\"],[0.8888888888888888,\"#fdca26\"],[1.0,\"#f0f921\"]]}],\"surface\":[{\"type\":\"surface\",\"colorbar\":{\"outlinewidth\":0,\"ticks\":\"\"},\"colorscale\":[[0.0,\"#0d0887\"],[0.1111111111111111,\"#46039f\"],[0.2222222222222222,\"#7201a8\"],[0.3333333333333333,\"#9c179e\"],[0.4444444444444444,\"#bd3786\"],[0.5555555555555556,\"#d8576b\"],[0.6666666666666666,\"#ed7953\"],[0.7777777777777778,\"#fb9f3a\"],[0.8888888888888888,\"#fdca26\"],[1.0,\"#f0f921\"]]}],\"mesh3d\":[{\"type\":\"mesh3d\",\"colorbar\":{\"outlinewidth\":0,\"ticks\":\"\"}}],\"scatter\":[{\"fillpattern\":{\"fillmode\":\"overlay\",\"size\":10,\"solidity\":0.2},\"type\":\"scatter\"}],\"parcoords\":[{\"type\":\"parcoords\",\"line\":{\"colorbar\":{\"outlinewidth\":0,\"ticks\":\"\"}}}],\"scatterpolargl\":[{\"type\":\"scatterpolargl\",\"marker\":{\"colorbar\":{\"outlinewidth\":0,\"ticks\":\"\"}}}],\"bar\":[{\"error_x\":{\"color\":\"#2a3f5f\"},\"error_y\":{\"color\":\"#2a3f5f\"},\"marker\":{\"line\":{\"color\":\"#E5ECF6\",\"width\":0.5},\"pattern\":{\"fillmode\":\"overlay\",\"size\":10,\"solidity\":0.2}},\"type\":\"bar\"}],\"scattergeo\":[{\"type\":\"scattergeo\",\"marker\":{\"colorbar\":{\"outlinewidth\":0,\"ticks\":\"\"}}}],\"scatterpolar\":[{\"type\":\"scatterpolar\",\"marker\":{\"colorbar\":{\"outlinewidth\":0,\"ticks\":\"\"}}}],\"histogram\":[{\"marker\":{\"pattern\":{\"fillmode\":\"overlay\",\"size\":10,\"solidity\":0.2}},\"type\":\"histogram\"}],\"scattergl\":[{\"type\":\"scattergl\",\"marker\":{\"colorbar\":{\"outlinewidth\":0,\"ticks\":\"\"}}}],\"scatter3d\":[{\"type\":\"scatter3d\",\"line\":{\"colorbar\":{\"outlinewidth\":0,\"ticks\":\"\"}},\"marker\":{\"colorbar\":{\"outlinewidth\":0,\"ticks\":\"\"}}}],\"scattermapbox\":[{\"type\":\"scattermapbox\",\"marker\":{\"colorbar\":{\"outlinewidth\":0,\"ticks\":\"\"}}}],\"scatterternary\":[{\"type\":\"scatterternary\",\"marker\":{\"colorbar\":{\"outlinewidth\":0,\"ticks\":\"\"}}}],\"scattercarpet\":[{\"type\":\"scattercarpet\",\"marker\":{\"colorbar\":{\"outlinewidth\":0,\"ticks\":\"\"}}}],\"carpet\":[{\"aaxis\":{\"endlinecolor\":\"#2a3f5f\",\"gridcolor\":\"white\",\"linecolor\":\"white\",\"minorgridcolor\":\"white\",\"startlinecolor\":\"#2a3f5f\"},\"baxis\":{\"endlinecolor\":\"#2a3f5f\",\"gridcolor\":\"white\",\"linecolor\":\"white\",\"minorgridcolor\":\"white\",\"startlinecolor\":\"#2a3f5f\"},\"type\":\"carpet\"}],\"table\":[{\"cells\":{\"fill\":{\"color\":\"#EBF0F8\"},\"line\":{\"color\":\"white\"}},\"header\":{\"fill\":{\"color\":\"#C8D4E3\"},\"line\":{\"color\":\"white\"}},\"type\":\"table\"}],\"barpolar\":[{\"marker\":{\"line\":{\"color\":\"#E5ECF6\",\"width\":0.5},\"pattern\":{\"fillmode\":\"overlay\",\"size\":10,\"solidity\":0.2}},\"type\":\"barpolar\"}],\"pie\":[{\"automargin\":true,\"type\":\"pie\"}]},\"layout\":{\"autotypenumbers\":\"strict\",\"colorway\":[\"#636efa\",\"#EF553B\",\"#00cc96\",\"#ab63fa\",\"#FFA15A\",\"#19d3f3\",\"#FF6692\",\"#B6E880\",\"#FF97FF\",\"#FECB52\"],\"font\":{\"color\":\"#2a3f5f\"},\"hovermode\":\"closest\",\"hoverlabel\":{\"align\":\"left\"},\"paper_bgcolor\":\"white\",\"plot_bgcolor\":\"#E5ECF6\",\"polar\":{\"bgcolor\":\"#E5ECF6\",\"angularaxis\":{\"gridcolor\":\"white\",\"linecolor\":\"white\",\"ticks\":\"\"},\"radialaxis\":{\"gridcolor\":\"white\",\"linecolor\":\"white\",\"ticks\":\"\"}},\"ternary\":{\"bgcolor\":\"#E5ECF6\",\"aaxis\":{\"gridcolor\":\"white\",\"linecolor\":\"white\",\"ticks\":\"\"},\"baxis\":{\"gridcolor\":\"white\",\"linecolor\":\"white\",\"ticks\":\"\"},\"caxis\":{\"gridcolor\":\"white\",\"linecolor\":\"white\",\"ticks\":\"\"}},\"coloraxis\":{\"colorbar\":{\"outlinewidth\":0,\"ticks\":\"\"}},\"colorscale\":{\"sequential\":[[0.0,\"#0d0887\"],[0.1111111111111111,\"#46039f\"],[0.2222222222222222,\"#7201a8\"],[0.3333333333333333,\"#9c179e\"],[0.4444444444444444,\"#bd3786\"],[0.5555555555555556,\"#d8576b\"],[0.6666666666666666,\"#ed7953\"],[0.7777777777777778,\"#fb9f3a\"],[0.8888888888888888,\"#fdca26\"],[1.0,\"#f0f921\"]],\"sequentialminus\":[[0.0,\"#0d0887\"],[0.1111111111111111,\"#46039f\"],[0.2222222222222222,\"#7201a8\"],[0.3333333333333333,\"#9c179e\"],[0.4444444444444444,\"#bd3786\"],[0.5555555555555556,\"#d8576b\"],[0.6666666666666666,\"#ed7953\"],[0.7777777777777778,\"#fb9f3a\"],[0.8888888888888888,\"#fdca26\"],[1.0,\"#f0f921\"]],\"diverging\":[[0,\"#8e0152\"],[0.1,\"#c51b7d\"],[0.2,\"#de77ae\"],[0.3,\"#f1b6da\"],[0.4,\"#fde0ef\"],[0.5,\"#f7f7f7\"],[0.6,\"#e6f5d0\"],[0.7,\"#b8e186\"],[0.8,\"#7fbc41\"],[0.9,\"#4d9221\"],[1,\"#276419\"]]},\"xaxis\":{\"gridcolor\":\"white\",\"linecolor\":\"white\",\"ticks\":\"\",\"title\":{\"standoff\":15},\"zerolinecolor\":\"white\",\"automargin\":true,\"zerolinewidth\":2},\"yaxis\":{\"gridcolor\":\"white\",\"linecolor\":\"white\",\"ticks\":\"\",\"title\":{\"standoff\":15},\"zerolinecolor\":\"white\",\"automargin\":true,\"zerolinewidth\":2},\"scene\":{\"xaxis\":{\"backgroundcolor\":\"#E5ECF6\",\"gridcolor\":\"white\",\"linecolor\":\"white\",\"showbackground\":true,\"ticks\":\"\",\"zerolinecolor\":\"white\",\"gridwidth\":2},\"yaxis\":{\"backgroundcolor\":\"#E5ECF6\",\"gridcolor\":\"white\",\"linecolor\":\"white\",\"showbackground\":true,\"ticks\":\"\",\"zerolinecolor\":\"white\",\"gridwidth\":2},\"zaxis\":{\"backgroundcolor\":\"#E5ECF6\",\"gridcolor\":\"white\",\"linecolor\":\"white\",\"showbackground\":true,\"ticks\":\"\",\"zerolinecolor\":\"white\",\"gridwidth\":2}},\"shapedefaults\":{\"line\":{\"color\":\"#2a3f5f\"}},\"annotationdefaults\":{\"arrowcolor\":\"#2a3f5f\",\"arrowhead\":0,\"arrowwidth\":1},\"geo\":{\"bgcolor\":\"white\",\"landcolor\":\"#E5ECF6\",\"subunitcolor\":\"white\",\"showland\":true,\"showlakes\":true,\"lakecolor\":\"white\"},\"title\":{\"x\":0.05},\"mapbox\":{\"style\":\"light\"}}},\"xaxis\":{\"anchor\":\"y\",\"domain\":[0.0,0.94],\"title\":{\"text\":\"Date\"},\"tickformat\":\"%d %b %y\",\"tickangle\":45,\"range\":[\"2024-01-17T00:00:00+05:30\",\"2024-10-31T00:00:00+05:30\"],\"tickmode\":\"array\",\"tickvals\":[\"2024-02-01T00:00:00+05:30\",\"2024-03-01T00:00:00+05:30\",\"2024-04-01T00:00:00+05:30\",\"2024-05-01T00:00:00+05:30\",\"2024-06-01T00:00:00+05:30\",\"2024-07-01T00:00:00+05:30\",\"2024-08-01T00:00:00+05:30\",\"2024-09-01T00:00:00+05:30\",\"2024-10-01T00:00:00+05:30\"],\"ticktext\":[\"01 Feb 24\",\"01 Mar 24\",\"01 Apr 24\",\"01 May 24\",\"01 Jun 24\",\"01 Jul 24\",\"01 Aug 24\",\"01 Sep 24\",\"01 Oct 24\"]},\"yaxis\":{\"anchor\":\"x\",\"domain\":[0.0,1.0],\"title\":{\"text\":\"Price\"},\"tickformat\":\".2f\"},\"yaxis2\":{\"anchor\":\"x\",\"overlaying\":\"y\",\"side\":\"right\",\"tickformat\":\".2f\"},\"annotations\":[{\"bgcolor\":\"white\",\"bordercolor\":\"#FF4136\",\"borderpad\":4,\"borderwidth\":2,\"font\":{\"color\":\"#FF4136\",\"size\":10},\"opacity\":0.8,\"showarrow\":false,\"text\":\"200% (1066.5)\",\"x\":\"2024-10-11T00:00:00+05:30\",\"xanchor\":\"left\",\"xshift\":10,\"y\":1066.5000610351562},{\"bgcolor\":\"white\",\"bordercolor\":\"#FF851B\",\"borderpad\":4,\"borderwidth\":2,\"font\":{\"color\":\"#FF851B\",\"size\":10},\"opacity\":0.8,\"showarrow\":false,\"text\":\"161.8% (1038.48)\",\"x\":\"2024-10-11T00:00:00+05:30\",\"xanchor\":\"left\",\"xshift\":10,\"y\":1038.4803470458985},{\"bgcolor\":\"white\",\"bordercolor\":\"#FFDC00\",\"borderpad\":4,\"borderwidth\":2,\"font\":{\"color\":\"#FFDC00\",\"size\":10},\"opacity\":0.8,\"showarrow\":false,\"text\":\"150% (1029.83)\",\"x\":\"2024-10-11T00:00:00+05:30\",\"xanchor\":\"left\",\"xshift\":10,\"y\":1029.8250427246094},{\"bgcolor\":\"white\",\"bordercolor\":\"#2ECC40\",\"borderpad\":4,\"borderwidth\":2,\"font\":{\"color\":\"#2ECC40\",\"size\":10},\"opacity\":0.8,\"showarrow\":false,\"text\":\"138.2% (1021.17)\",\"x\":\"2024-10-11T00:00:00+05:30\",\"xanchor\":\"left\",\"xshift\":10,\"y\":1021.1697384033204},{\"bgcolor\":\"white\",\"bordercolor\":\"#0074D9\",\"borderpad\":4,\"borderwidth\":2,\"font\":{\"color\":\"#0074D9\",\"size\":10},\"opacity\":0.8,\"showarrow\":false,\"text\":\"123.6% (1010.46)\",\"x\":\"2024-10-11T00:00:00+05:30\",\"xanchor\":\"left\",\"xshift\":10,\"y\":1010.4606330566406},{\"bgcolor\":\"white\",\"bordercolor\":\"#B10DC9\",\"borderpad\":4,\"borderwidth\":2,\"font\":{\"color\":\"#B10DC9\",\"size\":10},\"opacity\":0.8,\"showarrow\":false,\"text\":\"23.6% (937.11)\",\"x\":\"2024-10-11T00:00:00+05:30\",\"xanchor\":\"left\",\"xshift\":10,\"y\":937.1105964355469},{\"bgcolor\":\"white\",\"bordercolor\":\"#F012BE\",\"borderpad\":4,\"borderwidth\":2,\"font\":{\"color\":\"#F012BE\",\"size\":10},\"opacity\":0.8,\"showarrow\":false,\"text\":\"38.2% (947.82)\",\"x\":\"2024-10-11T00:00:00+05:30\",\"xanchor\":\"left\",\"xshift\":10,\"y\":947.8197017822266},{\"bgcolor\":\"white\",\"bordercolor\":\"#85144b\",\"borderpad\":4,\"borderwidth\":2,\"font\":{\"color\":\"#85144b\",\"size\":10},\"opacity\":0.8,\"showarrow\":false,\"text\":\"50% (956.48)\",\"x\":\"2024-10-11T00:00:00+05:30\",\"xanchor\":\"left\",\"xshift\":10,\"y\":956.4750061035156},{\"bgcolor\":\"white\",\"bordercolor\":\"#001f3f\",\"borderpad\":4,\"borderwidth\":2,\"font\":{\"color\":\"#001f3f\",\"size\":10},\"opacity\":0.8,\"showarrow\":false,\"text\":\"61.8% (965.13)\",\"x\":\"2024-10-11T00:00:00+05:30\",\"xanchor\":\"left\",\"xshift\":10,\"y\":965.1303104248046},{\"bgcolor\":\"white\",\"bordercolor\":\"#39CCCC\",\"borderpad\":4,\"borderwidth\":2,\"font\":{\"color\":\"#39CCCC\",\"size\":10},\"opacity\":0.8,\"showarrow\":false,\"text\":\"78.6% (977.45)\",\"x\":\"2024-10-11T00:00:00+05:30\",\"xanchor\":\"left\",\"xshift\":10,\"y\":977.4531165771484}],\"title\":{\"text\":\"Fibonacci Retracement and Extension Levels\"},\"legend\":{\"title\":{\"text\":\"Levels\"}},\"hovermode\":\"x unified\",\"showlegend\":true},                        {\"responsive\": true}                    ).then(function(){\n",
       "                            \n",
       "var gd = document.getElementById('96f4cb6d-6524-435e-8dd5-ea3a400a5254');\n",
       "var x = new MutationObserver(function (mutations, observer) {{\n",
       "        var display = window.getComputedStyle(gd).display;\n",
       "        if (!display || display === 'none') {{\n",
       "            console.log([gd, 'removed!']);\n",
       "            Plotly.purge(gd);\n",
       "            observer.disconnect();\n",
       "        }}\n",
       "}});\n",
       "\n",
       "// Listen for the removal of the full notebook cells\n",
       "var notebookContainer = gd.closest('#notebook-container');\n",
       "if (notebookContainer) {{\n",
       "    x.observe(notebookContainer, {childList: true});\n",
       "}}\n",
       "\n",
       "// Listen for the clearing of the current output cell\n",
       "var outputEl = gd.closest('.output');\n",
       "if (outputEl) {{\n",
       "    x.observe(outputEl, {childList: true});\n",
       "}}\n",
       "\n",
       "                        })                };                });            </script>        </div>"
      ]
     },
     "metadata": {},
     "output_type": "display_data"
    },
    {
     "name": "stdout",
     "output_type": "stream",
     "text": [
      "Price is very close to 23.6% retracement level (937.11), indicating potential support. Price is moving upwards. Recommendation: Hold or Sell in the future when the oppurtunity turns up. Overall, price is trending upwards. Recommendation: Hold or Buy in the future when the oppurtunity turns up.\n",
      "\n",
      "The stock is in a strong downtrend, with both short-term and long-term indicators showing bearish signals.\n"
     ]
    },
    {
     "data": {
      "application/vnd.plotly.v1+json": {
       "config": {
        "plotlyServerURL": "https://plot.ly"
       },
       "data": [
        {
         "close": [
          625.7689208984375,
          634.4920043945312,
          645.5079956054688,
          644.0624389648438,
          643.0156860351562,
          640.5732421875,
          647.352294921875,
          649.0470581054688,
          651.2402954101562,
          669.4840087890625,
          678.3068237304688,
          679.4532470703125,
          672.2255249023438,
          679.602783203125,
          679.1043701171875,
          677.8582153320312,
          671.62744140625,
          695.3541870117188,
          710.1585083007812,
          704.226806640625,
          703.2797241210938,
          703.4292602539062,
          706.7689819335938,
          720.2274169921875,
          719.72900390625,
          712.3517456054688,
          718.58251953125,
          713.1991577148438,
          718.0840454101562,
          717.5357666015625,
          730.1468505859375,
          728.5517578125,
          726.7074584960938,
          703.080322265625,
          706.6692504882812,
          722.4705200195312,
          717.3363647460938,
          738.6206665039062,
          751.5806884765625,
          777.550537109375,
          788.167724609375,
          781.9868774414062,
          779.0459594726562,
          793.3019409179688,
          788.5167236328125,
          786.67236328125,
          797.3394775390625,
          805.962890625,
          813.1407470703125,
          813.938232421875,
          809.9505615234375,
          816.330810546875,
          803.07177734375,
          816.5302124023438,
          821.0164184570312,
          797.9874877929688,
          808.4053344726562,
          809.3523559570312,
          838.4127197265625,
          856.207763671875,
          881.4798583984375,
          875.79736328125,
          876.0465698242188,
          923.94873046875,
          936.6595458984375,
          930.9271850585938,
          921.4564208984375,
          912.18505859375,
          908.7954711914062,
          904.1099853515625,
          915.4749145507812,
          917.7179565429688,
          935.7124633789062,
          929.7308959960938,
          923.5001220703125,
          918.2164306640625,
          929.4318237304688,
          934.5161743164062,
          934.0675659179688,
          959.7383422851562,
          955.1026000976562,
          947.2767944335938,
          974.3931274414062,
          984.1629638671875,
          1018.7562255859375,
          1014.519287109375,
          1036.1026611328125,
          1024.83740234375,
          1013.372802734375,
          970.2060546875,
          964.7727661132812,
          942.9401245117188,
          969.4583129882812,
          954.8035278320312,
          937.5567626953125,
          961.9315795898438,
          976.7857055664062,
          983.166015625,
          975.6392822265625,
          989.7457275390625,
          989.1973876953125,
          1001.5592651367188,
          1006.0454711914062,
          1008.4878540039062,
          1004.001708984375,
          1010.0829467773438,
          1005.3973999023438,
          1010.3820190429688,
          1015.3666381835938,
          995.7272338867188,
          989.7457275390625,
          968.3616943359375,
          960.23681640625,
          970.554931640625,
          983.71435546875,
          988.5993041992188,
          998.1697387695312,
          996.4251098632812,
          997.5216674804688,
          1004.79931640625,
          1024.6380615234375,
          1010.2823486328125,
          1013.07373046875,
          985.5087890625,
          1008.986328125,
          1027.13037109375,
          1043.4300537109375,
          956.79736328125,
          961.6823120117188,
          944.3856811523438,
          933.5192260742188,
          942.7906494140625,
          948.3733520507812,
          944.5850830078125,
          959.3893432617188,
          957.5949096679688,
          955.5512084960938,
          944.6348876953125,
          940.6970825195312,
          921.1075439453125,
          920.1604614257812,
          947.5260009765625,
          901.1192626953125,
          927.089111328125,
          935.363525390625,
          967.5143432617188,
          972.1500244140625,
          987.0999755859375,
          988.7000122070312,
          985.8499755859375,
          993.4000244140625,
          985.9000244140625,
          977.3499755859375,
          978.25,
          961.7999877929688,
          958.0499877929688,
          955,
          951.8499755859375,
          972.0999755859375,
          989.75,
          1002.0499877929688,
          981.2999877929688,
          975.6500244140625,
          998.2000122070312,
          993.6500244140625,
          1002.5999755859375,
          1014.9500122070312,
          1005.5,
          1020.7999877929688,
          1016.75,
          1024.449951171875,
          1021.1500244140625,
          1024.550048828125,
          990,
          1003.1500244140625,
          1001.7999877929688,
          1027.699951171875,
          1090.949951171875,
          1118.300048828125,
          1124,
          1161.8499755859375,
          1156.6500244140625,
          1144.4000244140625,
          1096.6500244140625,
          1016.4500122070312,
          1013.75,
          1025.300048828125,
          1041.75,
          1068.0999755859375,
          1076.1500244140625,
          1053.449951171875,
          1062.3499755859375,
          1098.3499755859375,
          1087.699951171875,
          1086.9000244140625,
          1085.199951171875,
          1068.449951171875,
          1085.1500244140625,
          1092.4000244140625,
          1077.25,
          1074.550048828125,
          1121.6500244140625,
          1111.3499755859375,
          1092.6500244140625,
          1085.0999755859375,
          1080.449951171875,
          1069.1500244140625,
          1049.3499755859375,
          1038.699951171875,
          1035.800048828125,
          976.2999877929688,
          986.1500244140625,
          992.0999755859375,
          988.4000244140625,
          974.9500122070312,
          962.0499877929688,
          967,
          970.8499755859375,
          971.7999877929688,
          977.2999877929688,
          963.5999755859375,
          993.1500244140625,
          993,
          974.6500244140625,
          965.2000122070312,
          925.7000122070312,
          930.75,
          927.8499755859375,
          919.7999877929688,
          939.1500244140625,
          928.5,
          930.7000122070312
         ],
         "decreasing": {
          "fillcolor": "#EF5350",
          "line": {
           "color": "#EF5350"
          }
         },
         "high": [
          631.8501301794402,
          636.2366206038075,
          663.9510811941965,
          650.8415068475508,
          647.9006357408887,
          647.0532455387106,
          651.6391149447002,
          650.9412371691323,
          651.9879880570106,
          671.4280219128531,
          683.3911096162302,
          685.5345173566953,
          684.6372350349587,
          681.1978365136565,
          685.2354137634501,
          683.789922933257,
          679.8520611052309,
          697.2982001341319,
          712.2022503764758,
          715.0434026130719,
          708.8126376037984,
          714.7942135106028,
          712.7006893849618,
          722.5701629506019,
          725.2619177069076,
          725.361586404941,
          724.2649962272178,
          722.5702029141743,
          719.2305318707499,
          722.4705506288765,
          731.7419039668016,
          732.4896182187439,
          730.3461930681092,
          730.7449503306673,
          709.709916064297,
          728.7511263121148,
          725.2619195414886,
          739.5676951779454,
          755.6182166834715,
          800.4299448136563,
          796.2428417736129,
          801.526555194252,
          787.5696440840888,
          799.3333164237081,
          803.4207434340957,
          797.8877534228383,
          806.7105836525363,
          808.5050336167095,
          814.9850313650279,
          816.0317475066829,
          817.876116024583,
          824.4557616786715,
          811.1967288561051,
          820.4182385431777,
          823.4588934460521,
          825.0539263462871,
          809.5019260433669,
          811.645328789254,
          841.2040935442844,
          883.2244282935891,
          893.7420064965648,
          897.3807830841079,
          892.9942701792819,
          947.0773689105692,
          938.4041621792303,
          941.0958172877474,
          936.8090678374625,
          924.5469350928817,
          922.1542709144172,
          916.2724038964512,
          917.119862802497,
          924.1481255732302,
          945.8810962331506,
          940.0490914424062,
          931.7746363553856,
          934.3167704601162,
          930.9770430805079,
          936.9087543643499,
          942.0927886144665,
          962.031254348842,
          972.9973900868661,
          956.2989406302397,
          977.3838981691608,
          991.9389555705244,
          1062.321737133582,
          1027.479293414112,
          1043.7789235449698,
          1032.7628958337734,
          1033.8097357949305,
          1017.8589903523438,
          978.9789267096277,
          976.7358575212209,
          971.8010589788295,
          967.6139710813223,
          962.1807864953793,
          966.268172791921,
          983.166040778508,
          991.9389306816523,
          991.9389583591376,
          996.8239215333233,
          1006.7432177513575,
          1004.8989346778949,
          1011.3291540804612,
          1013.871265593801,
          1009.3851206333742,
          1013.2731142870745,
          1026.3327944466662,
          1017.8589456762418,
          1025.8343354844556,
          1003.852185193392,
          1001.80853948109,
          1000.0140179761577,
          964.9722034703329,
          975.7389463860485,
          991.4405133150968,
          992.8362294645907,
          1000.2134199478468,
          1005.8460497848425,
          1002.6558480385609,
          1016.3137717666636,
          1026.8312446301773,
          1036.9998267222027,
          1016.6626309338477,
          1014.8183665411239,
          1011.8774308377767,
          1039.9905873933412,
          1047.118622153057,
          1005.5967825177934,
          965.0219815137478,
          969.9567949388908,
          951.4638497726754,
          950.4669732117342,
          953.7069295016887,
          951.9623417681472,
          960.4859956628709,
          967.9629389906398,
          963.4767627704676,
          958.9407769957431,
          947.5758796831192,
          948.5229420987141,
          934.3666223957892,
          960.0373793689552,
          945.0835689366378,
          930.8774088277726,
          943.0896829411471,
          970.0066522345722,
          981.8700290294881,
          992.5499877929688,
          1010.25,
          1002,
          997.25,
          1003.5499877929688,
          994.9000244140625,
          988.4000244140625,
          980.9000244140625,
          963.5,
          962.8499755859375,
          962.5,
          974.8499755859375,
          998.5,
          1005.5,
          1005,
          987.3499755859375,
          1004,
          1006.5999755859375,
          1016.5999755859375,
          1017,
          1019.8499755859375,
          1025.5,
          1025.9000244140625,
          1029.800048828125,
          1029.5999755859375,
          1027,
          1024,
          1008,
          1008.6500244140625,
          1034.25,
          1094,
          1120.5,
          1139.9000244140625,
          1179,
          1167.9000244140625,
          1176,
          1120,
          1065,
          1060.6500244140625,
          1040.199951171875,
          1056.4000244140625,
          1082.949951171875,
          1079.9000244140625,
          1075.5,
          1067.050048828125,
          1099.949951171875,
          1107,
          1098.050048828125,
          1095.300048828125,
          1094.75,
          1092.5999755859375,
          1103.3499755859375,
          1096.6500244140625,
          1088.699951171875,
          1142,
          1115,
          1105,
          1100,
          1085,
          1085.8499755859375,
          1072.949951171875,
          1049.949951171875,
          1049,
          1011.5499877929688,
          988,
          1006,
          999.9000244140625,
          995,
          983.7000122070312,
          978.9500122070312,
          977.5,
          979.2000122070312,
          985,
          982.5,
          994.9500122070312,
          1000.4000244140625,
          996.9500122070312,
          984.5,
          950.1500244140625,
          949.2000122070312,
          944.4500122070312,
          924.7999877929688,
          948.4500122070312,
          943.5999755859375,
          937
         ],
         "increasing": {
          "fillcolor": "#26A69A",
          "line": {
           "color": "#26A69A"
          }
         },
         "line": {
          "width": 1
         },
         "low": [
          624.3732035975265,
          628.1615033552984,
          644.212007166008,
          641.2212312231026,
          641.3209038404705,
          639.9252783608113,
          640.7227896992147,
          642.0187593227324,
          647.3024353005799,
          654.5301552943442,
          668.8360497824684,
          677.5092339390312,
          668.6366245290644,
          672.9233833764305,
          673.9701892259266,
          674.9671125473501,
          669.1849664170752,
          672.1757141113281,
          692.2138833446287,
          694.8557011102281,
          700.8372492763295,
          702.6317335519632,
          702.8311216358023,
          706.8187833335206,
          713.7972963273482,
          705.3234464009159,
          714.3455942264108,
          710.8065167696518,
          711.3049772082029,
          716.389280113817,
          719.0311283869968,
          725.8600519115619,
          723.7665217547479,
          700.8870783216224,
          694.1080378055482,
          709.8095785693922,
          714.3954279544205,
          722.9191209321718,
          736.7763372547169,
          751.6803587469493,
          778.6471169933009,
          776.6034657914456,
          773.8619445826253,
          788.8656188055634,
          784.678531312845,
          785.0773099111784,
          790.7099721538192,
          790.2115100310447,
          805.9628850833083,
          806.6607027849429,
          807.8071515224598,
          809.9505364449744,
          801.5265579649118,
          794.5480605381124,
          816.9788900472636,
          793.8502306176879,
          786.0742225187129,
          797.8379011776647,
          808.5548467297244,
          840.256986926025,
          862.5383100175844,
          873.604119240152,
          874.1523907396991,
          912.5339436950352,
          925.5438843892472,
          925.1948747308346,
          915.973341398412,
          903.2625805505963,
          905.2065708003145,
          891.2496473098162,
          891.5985825566821,
          913.5308654873995,
          921.2570712289926,
          928.185676633811,
          917.5684755238078,
          913.6804406459355,
          911.7862645316782,
          926.5407857951564,
          927.8367935064974,
          932.6220087495768,
          947.3764425431755,
          939.9992644955904,
          953.7567972504222,
          977.0847699873481,
          1002.2570917425157,
          1005.8958739599614,
          1010.9302814511313,
          1017.8589375417984,
          1008.1887880324643,
          960.5857176581433,
          952.4607846020682,
          937.1081460269942,
          933.7684622657706,
          948.6724236745789,
          918.3659844002173,
          943.0896997277866,
          947.4262941447125,
          972.9973832616007,
          973.6952690834165,
          975.9881941727041,
          984.4121668479715,
          990.3438752407601,
          989.4965029902119,
          995.0792807327128,
          1001.3100640072616,
          1000.9112380046372,
          1001.90816747829,
          1006.892786614108,
          1010.3820204212786,
          975.4896979034717,
          979.0786329613645,
          963.2774084208725,
          941.0958712619531,
          963.0281708392571,
          971.0534136671944,
          984.9605087500032,
          986.4558866541336,
          993.5340071665445,
          995.9266141591074,
          994.4312866724147,
          1008.4379931758202,
          992.9358545457699,
          1001.9081744644453,
          979.028785817335,
          973.9943349049339,
          1004.2010688452552,
          1027.230046089197,
          944.2859850790886,
          950.3173593780787,
          942.1924371394084,
          916.1727321600905,
          938.1050963806224,
          945.7813751840451,
          939.6502991645742,
          942.1425782092996,
          955.0527667693228,
          949.071205517247,
          943.0896683785454,
          935.911861419699,
          918.1666072466522,
          917.2693587139829,
          931.1265963973044,
          852.7684682929635,
          887.2620014529773,
          928.3352264980141,
          932.3727867444848,
          966.1185882568394,
          966.6500244140625,
          987,
          980.75,
          981.4000244140625,
          984,
          975.1500244140625,
          976.3499755859375,
          958.0999755859375,
          950.0499877929688,
          949.2999877929688,
          950.0999755859375,
          948.0499877929688,
          972.5499877929688,
          985.2000122070312,
          979.0999755859375,
          973.5,
          979.5999755859375,
          989.9500122070312,
          996.2000122070312,
          998.0999755859375,
          986.0499877929688,
          1007.0499877929688,
          1015,
          1017.2999877929688,
          1019.2000122070312,
          1008,
          986.6500244140625,
          976.5499877929688,
          967.2000122070312,
          995.1500244140625,
          1024.3499755859375,
          1083.5999755859375,
          1118.5999755859375,
          1118.5999755859375,
          1145.300048828125,
          1136.5,
          1090.050048828125,
          1014.0499877929688,
          1008.4000244140625,
          1015.0499877929688,
          1027,
          1052.050048828125,
          1055,
          1048.199951171875,
          1047,
          1070,
          1085,
          1082.050048828125,
          1083.300048828125,
          1064.949951171875,
          1071,
          1082.8499755859375,
          1075,
          1070.0999755859375,
          1066,
          1097.449951171875,
          1087.3499755859375,
          1082.199951171875,
          1072.0999755859375,
          1066.949951171875,
          1040.5,
          1026.25,
          1032.199951171875,
          971.25,
          958,
          988,
          984.5,
          960,
          957.1500244140625,
          956.3499755859375,
          949.2000122070312,
          966.0499877929688,
          972.5999755859375,
          959.25,
          965.5999755859375,
          989.1500244140625,
          971.7999877929688,
          958.9000244140625,
          925,
          920,
          915,
          893.8499755859375,
          925.5,
          912.3499755859375,
          928.5
         ],
         "open": [
          628.0618328807475,
          630.055682435752,
          659.9633870128499,
          650.8415068475508,
          643.0156860351562,
          646.0064879360694,
          642.0187781688983,
          647.3522759191462,
          650.9910645278715,
          657.9695537676065,
          671.9264885212825,
          680.4003366314379,
          679.9018482618739,
          674.9172304382865,
          681.8459100237585,
          681.0982170384483,
          679.3037652947763,
          675.3658816907515,
          700.5880659964552,
          714.0963130891407,
          705.8218669809976,
          713.7972899213273,
          703.7283771938664,
          706.8686173405837,
          722.7696087113513,
          719.828672599118,
          715.5917487278341,
          722.5702029141743,
          713.7972861682878,
          721.7726919340483,
          721.6730001994009,
          730.6453338898465,
          730.3461930681092,
          728.7012692556995,
          700.8372719243093,
          714.5947995138661,
          725.1622515203692,
          725.7603286490562,
          740.3652985421573,
          752.6772822996642,
          782.584977136906,
          798.037322677859,
          783.6317836941909,
          795.5450189789997,
          796.5419463419998,
          795.9438011428715,
          797.4890404169724,
          797.5388740978639,
          810.9973370219574,
          815.6330146010633,
          817.477322260136,
          809.9505364449744,
          808.5050230218203,
          804.5172959275492,
          821.3154833674978,
          822.3622813716463,
          799.9314842616111,
          811.495765918497,
          809.3523734137327,
          840.4065497969711,
          862.5383100175844,
          897.2312202084519,
          883.2742655638781,
          931.1265921710228,
          933.5192731014428,
          941.0958172877474,
          934.1173620952459,
          923.1512177681011,
          913.2816271039628,
          908.7954773250602,
          897.2312251423639,
          920.8582900464917,
          922.1543268048388,
          940.0490914424062,
          931.5752394724828,
          923.5001133504758,
          921.805394997417,
          930.229354308326,
          934.217067947412,
          933.868163224122,
          963.1777174049638,
          956.0497097361479,
          955.9998752962381,
          990.1943393170084,
          1023.8405114792558,
          1021.8466509504067,
          1021.8466061447888,
          1031.5666362599177,
          1024.6380876846872,
          1015.8651431626232,
          961.9813923410198,
          965.4207994586787,
          942.9401101969772,
          965.5702899779665,
          957.9438614172414,
          948.0743175910413,
          961.931580823292,
          973.9943068100245,
          988.5493938609659,
          979.4774267361406,
          996.9235451703829,
          995.926622761128,
          1000.9112903333113,
          1012.8743420288121,
          1008.4878650760788,
          1006.9426132753277,
          1017.8589442739643,
          1009.1358646040899,
          1010.8804821975102,
          995.0293752292167,
          986.9543536577906,
          993.2847838164258,
          961.0343431107234,
          975.7389463860485,
          972.997426843172,
          989.346996893108,
          989.446657407001,
          1004.6995633384917,
          999.9641423173026,
          1001.9082136398765,
          1016.8620092454183,
          1034.8066435928806,
          1011.8774100312557,
          1013.0737502828102,
          983.9137366673529,
          1007.8896981096933,
          1033.8097171535346,
          1001.9081532666385,
          962.1308789243916,
          967.9629478084743,
          950.2675293566348,
          941.0958671448539,
          951.0650577800128,
          949.0712390748681,
          947.0773618960241,
          959.5389227718927,
          961.9315434603733,
          956.0496743922041,
          944.036813080503,
          940.5973875539809,
          928.7838747044248,
          960.0373793689552,
          945.0835689366378,
          922.1044933424341,
          937.1081416117106,
          937.1081737929064,
          973.9943086431638,
          973.7999877929688,
          994.5,
          1002,
          990,
          1000,
          990,
          980,
          979,
          960.9000244140625,
          960,
          956,
          952.5,
          975,
          989.75,
          1004.0499877929688,
          984.9500122070312,
          984,
          1005,
          1005,
          1000.9500122070312,
          1015,
          1008,
          1023.8499755859375,
          1021.3499755859375,
          1025.5,
          1022.9500122070312,
          1024,
          990,
          1007.9000244140625,
          997.7999877929688,
          1029,
          1111.949951171875,
          1124,
          1125.800048828125,
          1164,
          1167,
          1120,
          1059.949951171875,
          1030,
          1036.050048828125,
          1034.949951171875,
          1055,
          1065,
          1074.8499755859375,
          1057,
          1072,
          1105.9000244140625,
          1097,
          1089,
          1090,
          1073,
          1089,
          1093.050048828125,
          1082.949951171875,
          1079.050048828125,
          1113.949951171875,
          1105,
          1097.5999755859375,
          1079,
          1081,
          1068.800048828125,
          1049.3499755859375,
          1049,
          1000,
          976.2999877929688,
          994.9000244140625,
          997,
          995,
          978.2000122070312,
          970.4000244140625,
          967,
          973.5,
          974,
          982.4000244140625,
          970.7999877929688,
          996,
          993,
          976.9000244140625,
          939,
          930,
          942,
          916,
          926.7999877929688,
          933.75,
          932
         ],
         "type": "candlestick",
         "x": [
          "2023-11-01T00:00:00+05:30",
          "2023-11-02T00:00:00+05:30",
          "2023-11-03T00:00:00+05:30",
          "2023-11-06T00:00:00+05:30",
          "2023-11-07T00:00:00+05:30",
          "2023-11-08T00:00:00+05:30",
          "2023-11-09T00:00:00+05:30",
          "2023-11-10T00:00:00+05:30",
          "2023-11-13T00:00:00+05:30",
          "2023-11-15T00:00:00+05:30",
          "2023-11-16T00:00:00+05:30",
          "2023-11-17T00:00:00+05:30",
          "2023-11-20T00:00:00+05:30",
          "2023-11-21T00:00:00+05:30",
          "2023-11-22T00:00:00+05:30",
          "2023-11-23T00:00:00+05:30",
          "2023-11-24T00:00:00+05:30",
          "2023-11-28T00:00:00+05:30",
          "2023-11-29T00:00:00+05:30",
          "2023-11-30T00:00:00+05:30",
          "2023-12-01T00:00:00+05:30",
          "2023-12-04T00:00:00+05:30",
          "2023-12-05T00:00:00+05:30",
          "2023-12-06T00:00:00+05:30",
          "2023-12-07T00:00:00+05:30",
          "2023-12-08T00:00:00+05:30",
          "2023-12-11T00:00:00+05:30",
          "2023-12-12T00:00:00+05:30",
          "2023-12-13T00:00:00+05:30",
          "2023-12-14T00:00:00+05:30",
          "2023-12-15T00:00:00+05:30",
          "2023-12-18T00:00:00+05:30",
          "2023-12-19T00:00:00+05:30",
          "2023-12-20T00:00:00+05:30",
          "2023-12-21T00:00:00+05:30",
          "2023-12-22T00:00:00+05:30",
          "2023-12-26T00:00:00+05:30",
          "2023-12-27T00:00:00+05:30",
          "2023-12-28T00:00:00+05:30",
          "2023-12-29T00:00:00+05:30",
          "2024-01-01T00:00:00+05:30",
          "2024-01-02T00:00:00+05:30",
          "2024-01-03T00:00:00+05:30",
          "2024-01-04T00:00:00+05:30",
          "2024-01-05T00:00:00+05:30",
          "2024-01-08T00:00:00+05:30",
          "2024-01-09T00:00:00+05:30",
          "2024-01-10T00:00:00+05:30",
          "2024-01-11T00:00:00+05:30",
          "2024-01-12T00:00:00+05:30",
          "2024-01-15T00:00:00+05:30",
          "2024-01-16T00:00:00+05:30",
          "2024-01-17T00:00:00+05:30",
          "2024-01-18T00:00:00+05:30",
          "2024-01-19T00:00:00+05:30",
          "2024-01-23T00:00:00+05:30",
          "2024-01-24T00:00:00+05:30",
          "2024-01-25T00:00:00+05:30",
          "2024-01-29T00:00:00+05:30",
          "2024-01-30T00:00:00+05:30",
          "2024-01-31T00:00:00+05:30",
          "2024-02-01T00:00:00+05:30",
          "2024-02-02T00:00:00+05:30",
          "2024-02-05T00:00:00+05:30",
          "2024-02-06T00:00:00+05:30",
          "2024-02-07T00:00:00+05:30",
          "2024-02-08T00:00:00+05:30",
          "2024-02-09T00:00:00+05:30",
          "2024-02-12T00:00:00+05:30",
          "2024-02-13T00:00:00+05:30",
          "2024-02-14T00:00:00+05:30",
          "2024-02-15T00:00:00+05:30",
          "2024-02-16T00:00:00+05:30",
          "2024-02-19T00:00:00+05:30",
          "2024-02-20T00:00:00+05:30",
          "2024-02-21T00:00:00+05:30",
          "2024-02-22T00:00:00+05:30",
          "2024-02-23T00:00:00+05:30",
          "2024-02-26T00:00:00+05:30",
          "2024-02-27T00:00:00+05:30",
          "2024-02-28T00:00:00+05:30",
          "2024-02-29T00:00:00+05:30",
          "2024-03-01T00:00:00+05:30",
          "2024-03-04T00:00:00+05:30",
          "2024-03-05T00:00:00+05:30",
          "2024-03-06T00:00:00+05:30",
          "2024-03-07T00:00:00+05:30",
          "2024-03-11T00:00:00+05:30",
          "2024-03-12T00:00:00+05:30",
          "2024-03-13T00:00:00+05:30",
          "2024-03-14T00:00:00+05:30",
          "2024-03-15T00:00:00+05:30",
          "2024-03-18T00:00:00+05:30",
          "2024-03-19T00:00:00+05:30",
          "2024-03-20T00:00:00+05:30",
          "2024-03-21T00:00:00+05:30",
          "2024-03-22T00:00:00+05:30",
          "2024-03-26T00:00:00+05:30",
          "2024-03-27T00:00:00+05:30",
          "2024-03-28T00:00:00+05:30",
          "2024-04-01T00:00:00+05:30",
          "2024-04-02T00:00:00+05:30",
          "2024-04-03T00:00:00+05:30",
          "2024-04-04T00:00:00+05:30",
          "2024-04-05T00:00:00+05:30",
          "2024-04-08T00:00:00+05:30",
          "2024-04-09T00:00:00+05:30",
          "2024-04-10T00:00:00+05:30",
          "2024-04-12T00:00:00+05:30",
          "2024-04-15T00:00:00+05:30",
          "2024-04-16T00:00:00+05:30",
          "2024-04-18T00:00:00+05:30",
          "2024-04-19T00:00:00+05:30",
          "2024-04-22T00:00:00+05:30",
          "2024-04-23T00:00:00+05:30",
          "2024-04-24T00:00:00+05:30",
          "2024-04-25T00:00:00+05:30",
          "2024-04-26T00:00:00+05:30",
          "2024-04-29T00:00:00+05:30",
          "2024-04-30T00:00:00+05:30",
          "2024-05-02T00:00:00+05:30",
          "2024-05-03T00:00:00+05:30",
          "2024-05-06T00:00:00+05:30",
          "2024-05-07T00:00:00+05:30",
          "2024-05-08T00:00:00+05:30",
          "2024-05-09T00:00:00+05:30",
          "2024-05-10T00:00:00+05:30",
          "2024-05-13T00:00:00+05:30",
          "2024-05-14T00:00:00+05:30",
          "2024-05-15T00:00:00+05:30",
          "2024-05-16T00:00:00+05:30",
          "2024-05-17T00:00:00+05:30",
          "2024-05-21T00:00:00+05:30",
          "2024-05-22T00:00:00+05:30",
          "2024-05-23T00:00:00+05:30",
          "2024-05-24T00:00:00+05:30",
          "2024-05-27T00:00:00+05:30",
          "2024-05-28T00:00:00+05:30",
          "2024-05-29T00:00:00+05:30",
          "2024-05-30T00:00:00+05:30",
          "2024-05-31T00:00:00+05:30",
          "2024-06-03T00:00:00+05:30",
          "2024-06-04T00:00:00+05:30",
          "2024-06-05T00:00:00+05:30",
          "2024-06-06T00:00:00+05:30",
          "2024-06-07T00:00:00+05:30",
          "2024-06-10T00:00:00+05:30",
          "2024-06-11T00:00:00+05:30",
          "2024-06-12T00:00:00+05:30",
          "2024-06-13T00:00:00+05:30",
          "2024-06-14T00:00:00+05:30",
          "2024-06-18T00:00:00+05:30",
          "2024-06-19T00:00:00+05:30",
          "2024-06-20T00:00:00+05:30",
          "2024-06-21T00:00:00+05:30",
          "2024-06-24T00:00:00+05:30",
          "2024-06-25T00:00:00+05:30",
          "2024-06-26T00:00:00+05:30",
          "2024-06-27T00:00:00+05:30",
          "2024-06-28T00:00:00+05:30",
          "2024-07-01T00:00:00+05:30",
          "2024-07-02T00:00:00+05:30",
          "2024-07-03T00:00:00+05:30",
          "2024-07-04T00:00:00+05:30",
          "2024-07-05T00:00:00+05:30",
          "2024-07-08T00:00:00+05:30",
          "2024-07-09T00:00:00+05:30",
          "2024-07-10T00:00:00+05:30",
          "2024-07-11T00:00:00+05:30",
          "2024-07-12T00:00:00+05:30",
          "2024-07-15T00:00:00+05:30",
          "2024-07-16T00:00:00+05:30",
          "2024-07-18T00:00:00+05:30",
          "2024-07-19T00:00:00+05:30",
          "2024-07-22T00:00:00+05:30",
          "2024-07-23T00:00:00+05:30",
          "2024-07-24T00:00:00+05:30",
          "2024-07-25T00:00:00+05:30",
          "2024-07-26T00:00:00+05:30",
          "2024-07-29T00:00:00+05:30",
          "2024-07-30T00:00:00+05:30",
          "2024-07-31T00:00:00+05:30",
          "2024-08-01T00:00:00+05:30",
          "2024-08-02T00:00:00+05:30",
          "2024-08-05T00:00:00+05:30",
          "2024-08-06T00:00:00+05:30",
          "2024-08-07T00:00:00+05:30",
          "2024-08-08T00:00:00+05:30",
          "2024-08-09T00:00:00+05:30",
          "2024-08-12T00:00:00+05:30",
          "2024-08-13T00:00:00+05:30",
          "2024-08-14T00:00:00+05:30",
          "2024-08-16T00:00:00+05:30",
          "2024-08-19T00:00:00+05:30",
          "2024-08-20T00:00:00+05:30",
          "2024-08-21T00:00:00+05:30",
          "2024-08-22T00:00:00+05:30",
          "2024-08-23T00:00:00+05:30",
          "2024-08-26T00:00:00+05:30",
          "2024-08-27T00:00:00+05:30",
          "2024-08-28T00:00:00+05:30",
          "2024-08-29T00:00:00+05:30",
          "2024-08-30T00:00:00+05:30",
          "2024-09-02T00:00:00+05:30",
          "2024-09-03T00:00:00+05:30",
          "2024-09-04T00:00:00+05:30",
          "2024-09-05T00:00:00+05:30",
          "2024-09-06T00:00:00+05:30",
          "2024-09-09T00:00:00+05:30",
          "2024-09-10T00:00:00+05:30",
          "2024-09-11T00:00:00+05:30",
          "2024-09-12T00:00:00+05:30",
          "2024-09-13T00:00:00+05:30",
          "2024-09-16T00:00:00+05:30",
          "2024-09-17T00:00:00+05:30",
          "2024-09-18T00:00:00+05:30",
          "2024-09-19T00:00:00+05:30",
          "2024-09-20T00:00:00+05:30",
          "2024-09-23T00:00:00+05:30",
          "2024-09-24T00:00:00+05:30",
          "2024-09-25T00:00:00+05:30",
          "2024-09-26T00:00:00+05:30",
          "2024-09-27T00:00:00+05:30",
          "2024-09-30T00:00:00+05:30",
          "2024-10-01T00:00:00+05:30",
          "2024-10-03T00:00:00+05:30",
          "2024-10-04T00:00:00+05:30",
          "2024-10-07T00:00:00+05:30",
          "2024-10-08T00:00:00+05:30",
          "2024-10-09T00:00:00+05:30",
          "2024-10-10T00:00:00+05:30",
          "2024-10-11T00:00:00+05:30"
         ]
        }
       ],
       "layout": {
        "hovermode": "x unified",
        "margin": {
         "b": 0,
         "l": 0,
         "r": 0,
         "t": 0
        },
        "plot_bgcolor": "white",
        "showlegend": false,
        "template": {
         "data": {
          "bar": [
           {
            "error_x": {
             "color": "#2a3f5f"
            },
            "error_y": {
             "color": "#2a3f5f"
            },
            "marker": {
             "line": {
              "color": "#E5ECF6",
              "width": 0.5
             },
             "pattern": {
              "fillmode": "overlay",
              "size": 10,
              "solidity": 0.2
             }
            },
            "type": "bar"
           }
          ],
          "barpolar": [
           {
            "marker": {
             "line": {
              "color": "#E5ECF6",
              "width": 0.5
             },
             "pattern": {
              "fillmode": "overlay",
              "size": 10,
              "solidity": 0.2
             }
            },
            "type": "barpolar"
           }
          ],
          "carpet": [
           {
            "aaxis": {
             "endlinecolor": "#2a3f5f",
             "gridcolor": "white",
             "linecolor": "white",
             "minorgridcolor": "white",
             "startlinecolor": "#2a3f5f"
            },
            "baxis": {
             "endlinecolor": "#2a3f5f",
             "gridcolor": "white",
             "linecolor": "white",
             "minorgridcolor": "white",
             "startlinecolor": "#2a3f5f"
            },
            "type": "carpet"
           }
          ],
          "choropleth": [
           {
            "colorbar": {
             "outlinewidth": 0,
             "ticks": ""
            },
            "type": "choropleth"
           }
          ],
          "contour": [
           {
            "colorbar": {
             "outlinewidth": 0,
             "ticks": ""
            },
            "colorscale": [
             [
              0,
              "#0d0887"
             ],
             [
              0.1111111111111111,
              "#46039f"
             ],
             [
              0.2222222222222222,
              "#7201a8"
             ],
             [
              0.3333333333333333,
              "#9c179e"
             ],
             [
              0.4444444444444444,
              "#bd3786"
             ],
             [
              0.5555555555555556,
              "#d8576b"
             ],
             [
              0.6666666666666666,
              "#ed7953"
             ],
             [
              0.7777777777777778,
              "#fb9f3a"
             ],
             [
              0.8888888888888888,
              "#fdca26"
             ],
             [
              1,
              "#f0f921"
             ]
            ],
            "type": "contour"
           }
          ],
          "contourcarpet": [
           {
            "colorbar": {
             "outlinewidth": 0,
             "ticks": ""
            },
            "type": "contourcarpet"
           }
          ],
          "heatmap": [
           {
            "colorbar": {
             "outlinewidth": 0,
             "ticks": ""
            },
            "colorscale": [
             [
              0,
              "#0d0887"
             ],
             [
              0.1111111111111111,
              "#46039f"
             ],
             [
              0.2222222222222222,
              "#7201a8"
             ],
             [
              0.3333333333333333,
              "#9c179e"
             ],
             [
              0.4444444444444444,
              "#bd3786"
             ],
             [
              0.5555555555555556,
              "#d8576b"
             ],
             [
              0.6666666666666666,
              "#ed7953"
             ],
             [
              0.7777777777777778,
              "#fb9f3a"
             ],
             [
              0.8888888888888888,
              "#fdca26"
             ],
             [
              1,
              "#f0f921"
             ]
            ],
            "type": "heatmap"
           }
          ],
          "heatmapgl": [
           {
            "colorbar": {
             "outlinewidth": 0,
             "ticks": ""
            },
            "colorscale": [
             [
              0,
              "#0d0887"
             ],
             [
              0.1111111111111111,
              "#46039f"
             ],
             [
              0.2222222222222222,
              "#7201a8"
             ],
             [
              0.3333333333333333,
              "#9c179e"
             ],
             [
              0.4444444444444444,
              "#bd3786"
             ],
             [
              0.5555555555555556,
              "#d8576b"
             ],
             [
              0.6666666666666666,
              "#ed7953"
             ],
             [
              0.7777777777777778,
              "#fb9f3a"
             ],
             [
              0.8888888888888888,
              "#fdca26"
             ],
             [
              1,
              "#f0f921"
             ]
            ],
            "type": "heatmapgl"
           }
          ],
          "histogram": [
           {
            "marker": {
             "pattern": {
              "fillmode": "overlay",
              "size": 10,
              "solidity": 0.2
             }
            },
            "type": "histogram"
           }
          ],
          "histogram2d": [
           {
            "colorbar": {
             "outlinewidth": 0,
             "ticks": ""
            },
            "colorscale": [
             [
              0,
              "#0d0887"
             ],
             [
              0.1111111111111111,
              "#46039f"
             ],
             [
              0.2222222222222222,
              "#7201a8"
             ],
             [
              0.3333333333333333,
              "#9c179e"
             ],
             [
              0.4444444444444444,
              "#bd3786"
             ],
             [
              0.5555555555555556,
              "#d8576b"
             ],
             [
              0.6666666666666666,
              "#ed7953"
             ],
             [
              0.7777777777777778,
              "#fb9f3a"
             ],
             [
              0.8888888888888888,
              "#fdca26"
             ],
             [
              1,
              "#f0f921"
             ]
            ],
            "type": "histogram2d"
           }
          ],
          "histogram2dcontour": [
           {
            "colorbar": {
             "outlinewidth": 0,
             "ticks": ""
            },
            "colorscale": [
             [
              0,
              "#0d0887"
             ],
             [
              0.1111111111111111,
              "#46039f"
             ],
             [
              0.2222222222222222,
              "#7201a8"
             ],
             [
              0.3333333333333333,
              "#9c179e"
             ],
             [
              0.4444444444444444,
              "#bd3786"
             ],
             [
              0.5555555555555556,
              "#d8576b"
             ],
             [
              0.6666666666666666,
              "#ed7953"
             ],
             [
              0.7777777777777778,
              "#fb9f3a"
             ],
             [
              0.8888888888888888,
              "#fdca26"
             ],
             [
              1,
              "#f0f921"
             ]
            ],
            "type": "histogram2dcontour"
           }
          ],
          "mesh3d": [
           {
            "colorbar": {
             "outlinewidth": 0,
             "ticks": ""
            },
            "type": "mesh3d"
           }
          ],
          "parcoords": [
           {
            "line": {
             "colorbar": {
              "outlinewidth": 0,
              "ticks": ""
             }
            },
            "type": "parcoords"
           }
          ],
          "pie": [
           {
            "automargin": true,
            "type": "pie"
           }
          ],
          "scatter": [
           {
            "fillpattern": {
             "fillmode": "overlay",
             "size": 10,
             "solidity": 0.2
            },
            "type": "scatter"
           }
          ],
          "scatter3d": [
           {
            "line": {
             "colorbar": {
              "outlinewidth": 0,
              "ticks": ""
             }
            },
            "marker": {
             "colorbar": {
              "outlinewidth": 0,
              "ticks": ""
             }
            },
            "type": "scatter3d"
           }
          ],
          "scattercarpet": [
           {
            "marker": {
             "colorbar": {
              "outlinewidth": 0,
              "ticks": ""
             }
            },
            "type": "scattercarpet"
           }
          ],
          "scattergeo": [
           {
            "marker": {
             "colorbar": {
              "outlinewidth": 0,
              "ticks": ""
             }
            },
            "type": "scattergeo"
           }
          ],
          "scattergl": [
           {
            "marker": {
             "colorbar": {
              "outlinewidth": 0,
              "ticks": ""
             }
            },
            "type": "scattergl"
           }
          ],
          "scattermapbox": [
           {
            "marker": {
             "colorbar": {
              "outlinewidth": 0,
              "ticks": ""
             }
            },
            "type": "scattermapbox"
           }
          ],
          "scatterpolar": [
           {
            "marker": {
             "colorbar": {
              "outlinewidth": 0,
              "ticks": ""
             }
            },
            "type": "scatterpolar"
           }
          ],
          "scatterpolargl": [
           {
            "marker": {
             "colorbar": {
              "outlinewidth": 0,
              "ticks": ""
             }
            },
            "type": "scatterpolargl"
           }
          ],
          "scatterternary": [
           {
            "marker": {
             "colorbar": {
              "outlinewidth": 0,
              "ticks": ""
             }
            },
            "type": "scatterternary"
           }
          ],
          "surface": [
           {
            "colorbar": {
             "outlinewidth": 0,
             "ticks": ""
            },
            "colorscale": [
             [
              0,
              "#0d0887"
             ],
             [
              0.1111111111111111,
              "#46039f"
             ],
             [
              0.2222222222222222,
              "#7201a8"
             ],
             [
              0.3333333333333333,
              "#9c179e"
             ],
             [
              0.4444444444444444,
              "#bd3786"
             ],
             [
              0.5555555555555556,
              "#d8576b"
             ],
             [
              0.6666666666666666,
              "#ed7953"
             ],
             [
              0.7777777777777778,
              "#fb9f3a"
             ],
             [
              0.8888888888888888,
              "#fdca26"
             ],
             [
              1,
              "#f0f921"
             ]
            ],
            "type": "surface"
           }
          ],
          "table": [
           {
            "cells": {
             "fill": {
              "color": "#EBF0F8"
             },
             "line": {
              "color": "white"
             }
            },
            "header": {
             "fill": {
              "color": "#C8D4E3"
             },
             "line": {
              "color": "white"
             }
            },
            "type": "table"
           }
          ]
         },
         "layout": {
          "annotationdefaults": {
           "arrowcolor": "#2a3f5f",
           "arrowhead": 0,
           "arrowwidth": 1
          },
          "autotypenumbers": "strict",
          "coloraxis": {
           "colorbar": {
            "outlinewidth": 0,
            "ticks": ""
           }
          },
          "colorscale": {
           "diverging": [
            [
             0,
             "#8e0152"
            ],
            [
             0.1,
             "#c51b7d"
            ],
            [
             0.2,
             "#de77ae"
            ],
            [
             0.3,
             "#f1b6da"
            ],
            [
             0.4,
             "#fde0ef"
            ],
            [
             0.5,
             "#f7f7f7"
            ],
            [
             0.6,
             "#e6f5d0"
            ],
            [
             0.7,
             "#b8e186"
            ],
            [
             0.8,
             "#7fbc41"
            ],
            [
             0.9,
             "#4d9221"
            ],
            [
             1,
             "#276419"
            ]
           ],
           "sequential": [
            [
             0,
             "#0d0887"
            ],
            [
             0.1111111111111111,
             "#46039f"
            ],
            [
             0.2222222222222222,
             "#7201a8"
            ],
            [
             0.3333333333333333,
             "#9c179e"
            ],
            [
             0.4444444444444444,
             "#bd3786"
            ],
            [
             0.5555555555555556,
             "#d8576b"
            ],
            [
             0.6666666666666666,
             "#ed7953"
            ],
            [
             0.7777777777777778,
             "#fb9f3a"
            ],
            [
             0.8888888888888888,
             "#fdca26"
            ],
            [
             1,
             "#f0f921"
            ]
           ],
           "sequentialminus": [
            [
             0,
             "#0d0887"
            ],
            [
             0.1111111111111111,
             "#46039f"
            ],
            [
             0.2222222222222222,
             "#7201a8"
            ],
            [
             0.3333333333333333,
             "#9c179e"
            ],
            [
             0.4444444444444444,
             "#bd3786"
            ],
            [
             0.5555555555555556,
             "#d8576b"
            ],
            [
             0.6666666666666666,
             "#ed7953"
            ],
            [
             0.7777777777777778,
             "#fb9f3a"
            ],
            [
             0.8888888888888888,
             "#fdca26"
            ],
            [
             1,
             "#f0f921"
            ]
           ]
          },
          "colorway": [
           "#636efa",
           "#EF553B",
           "#00cc96",
           "#ab63fa",
           "#FFA15A",
           "#19d3f3",
           "#FF6692",
           "#B6E880",
           "#FF97FF",
           "#FECB52"
          ],
          "font": {
           "color": "#2a3f5f"
          },
          "geo": {
           "bgcolor": "white",
           "lakecolor": "white",
           "landcolor": "#E5ECF6",
           "showlakes": true,
           "showland": true,
           "subunitcolor": "white"
          },
          "hoverlabel": {
           "align": "left"
          },
          "hovermode": "closest",
          "mapbox": {
           "style": "light"
          },
          "paper_bgcolor": "white",
          "plot_bgcolor": "#E5ECF6",
          "polar": {
           "angularaxis": {
            "gridcolor": "white",
            "linecolor": "white",
            "ticks": ""
           },
           "bgcolor": "#E5ECF6",
           "radialaxis": {
            "gridcolor": "white",
            "linecolor": "white",
            "ticks": ""
           }
          },
          "scene": {
           "xaxis": {
            "backgroundcolor": "#E5ECF6",
            "gridcolor": "white",
            "gridwidth": 2,
            "linecolor": "white",
            "showbackground": true,
            "ticks": "",
            "zerolinecolor": "white"
           },
           "yaxis": {
            "backgroundcolor": "#E5ECF6",
            "gridcolor": "white",
            "gridwidth": 2,
            "linecolor": "white",
            "showbackground": true,
            "ticks": "",
            "zerolinecolor": "white"
           },
           "zaxis": {
            "backgroundcolor": "#E5ECF6",
            "gridcolor": "white",
            "gridwidth": 2,
            "linecolor": "white",
            "showbackground": true,
            "ticks": "",
            "zerolinecolor": "white"
           }
          },
          "shapedefaults": {
           "line": {
            "color": "#2a3f5f"
           }
          },
          "ternary": {
           "aaxis": {
            "gridcolor": "white",
            "linecolor": "white",
            "ticks": ""
           },
           "baxis": {
            "gridcolor": "white",
            "linecolor": "white",
            "ticks": ""
           },
           "bgcolor": "#E5ECF6",
           "caxis": {
            "gridcolor": "white",
            "linecolor": "white",
            "ticks": ""
           }
          },
          "title": {
           "x": 0.05
          },
          "xaxis": {
           "automargin": true,
           "gridcolor": "white",
           "linecolor": "white",
           "ticks": "",
           "title": {
            "standoff": 15
           },
           "zerolinecolor": "white",
           "zerolinewidth": 2
          },
          "yaxis": {
           "automargin": true,
           "gridcolor": "white",
           "linecolor": "white",
           "ticks": "",
           "title": {
            "standoff": 15
           },
           "zerolinecolor": "white",
           "zerolinewidth": 2
          }
         }
        },
        "title": {
         "text": "Candle Chart"
        },
        "xaxis": {
         "gridcolor": "lightgrey",
         "gridwidth": 1,
         "rangebreaks": [
          {
           "bounds": [
            "sat",
            "mon"
           ]
          }
         ],
         "rangeslider": {
          "visible": false
         },
         "showgrid": true,
         "showticklabels": true,
         "title": {
          "text": "Date"
         },
         "zeroline": false
        },
        "yaxis": {
         "gridcolor": "lightgrey",
         "gridwidth": 1,
         "showgrid": true,
         "showticklabels": true,
         "title": {
          "text": "Price"
         },
         "zeroline": false
        }
       }
      },
      "text/html": [
       "<div>                            <div id=\"2f587086-2b90-4bb2-9b5b-41677dd85b3f\" class=\"plotly-graph-div\" style=\"height:525px; width:100%;\"></div>            <script type=\"text/javascript\">                require([\"plotly\"], function(Plotly) {                    window.PLOTLYENV=window.PLOTLYENV || {};                                    if (document.getElementById(\"2f587086-2b90-4bb2-9b5b-41677dd85b3f\")) {                    Plotly.newPlot(                        \"2f587086-2b90-4bb2-9b5b-41677dd85b3f\",                        [{\"close\":[625.7689208984375,634.4920043945312,645.5079956054688,644.0624389648438,643.0156860351562,640.5732421875,647.352294921875,649.0470581054688,651.2402954101562,669.4840087890625,678.3068237304688,679.4532470703125,672.2255249023438,679.602783203125,679.1043701171875,677.8582153320312,671.62744140625,695.3541870117188,710.1585083007812,704.226806640625,703.2797241210938,703.4292602539062,706.7689819335938,720.2274169921875,719.72900390625,712.3517456054688,718.58251953125,713.1991577148438,718.0840454101562,717.5357666015625,730.1468505859375,728.5517578125,726.7074584960938,703.080322265625,706.6692504882812,722.4705200195312,717.3363647460938,738.6206665039062,751.5806884765625,777.550537109375,788.167724609375,781.9868774414062,779.0459594726562,793.3019409179688,788.5167236328125,786.67236328125,797.3394775390625,805.962890625,813.1407470703125,813.938232421875,809.9505615234375,816.330810546875,803.07177734375,816.5302124023438,821.0164184570312,797.9874877929688,808.4053344726562,809.3523559570312,838.4127197265625,856.207763671875,881.4798583984375,875.79736328125,876.0465698242188,923.94873046875,936.6595458984375,930.9271850585938,921.4564208984375,912.18505859375,908.7954711914062,904.1099853515625,915.4749145507812,917.7179565429688,935.7124633789062,929.7308959960938,923.5001220703125,918.2164306640625,929.4318237304688,934.5161743164062,934.0675659179688,959.7383422851562,955.1026000976562,947.2767944335938,974.3931274414062,984.1629638671875,1018.7562255859375,1014.519287109375,1036.1026611328125,1024.83740234375,1013.372802734375,970.2060546875,964.7727661132812,942.9401245117188,969.4583129882812,954.8035278320312,937.5567626953125,961.9315795898438,976.7857055664062,983.166015625,975.6392822265625,989.7457275390625,989.1973876953125,1001.5592651367188,1006.0454711914062,1008.4878540039062,1004.001708984375,1010.0829467773438,1005.3973999023438,1010.3820190429688,1015.3666381835938,995.7272338867188,989.7457275390625,968.3616943359375,960.23681640625,970.554931640625,983.71435546875,988.5993041992188,998.1697387695312,996.4251098632812,997.5216674804688,1004.79931640625,1024.6380615234375,1010.2823486328125,1013.07373046875,985.5087890625,1008.986328125,1027.13037109375,1043.4300537109375,956.79736328125,961.6823120117188,944.3856811523438,933.5192260742188,942.7906494140625,948.3733520507812,944.5850830078125,959.3893432617188,957.5949096679688,955.5512084960938,944.6348876953125,940.6970825195312,921.1075439453125,920.1604614257812,947.5260009765625,901.1192626953125,927.089111328125,935.363525390625,967.5143432617188,972.1500244140625,987.0999755859375,988.7000122070312,985.8499755859375,993.4000244140625,985.9000244140625,977.3499755859375,978.25,961.7999877929688,958.0499877929688,955.0,951.8499755859375,972.0999755859375,989.75,1002.0499877929688,981.2999877929688,975.6500244140625,998.2000122070312,993.6500244140625,1002.5999755859375,1014.9500122070312,1005.5,1020.7999877929688,1016.75,1024.449951171875,1021.1500244140625,1024.550048828125,990.0,1003.1500244140625,1001.7999877929688,1027.699951171875,1090.949951171875,1118.300048828125,1124.0,1161.8499755859375,1156.6500244140625,1144.4000244140625,1096.6500244140625,1016.4500122070312,1013.75,1025.300048828125,1041.75,1068.0999755859375,1076.1500244140625,1053.449951171875,1062.3499755859375,1098.3499755859375,1087.699951171875,1086.9000244140625,1085.199951171875,1068.449951171875,1085.1500244140625,1092.4000244140625,1077.25,1074.550048828125,1121.6500244140625,1111.3499755859375,1092.6500244140625,1085.0999755859375,1080.449951171875,1069.1500244140625,1049.3499755859375,1038.699951171875,1035.800048828125,976.2999877929688,986.1500244140625,992.0999755859375,988.4000244140625,974.9500122070312,962.0499877929688,967.0,970.8499755859375,971.7999877929688,977.2999877929688,963.5999755859375,993.1500244140625,993.0,974.6500244140625,965.2000122070312,925.7000122070312,930.75,927.8499755859375,919.7999877929688,939.1500244140625,928.5,930.7000122070312],\"decreasing\":{\"fillcolor\":\"#EF5350\",\"line\":{\"color\":\"#EF5350\"}},\"high\":[631.8501301794402,636.2366206038075,663.9510811941965,650.8415068475508,647.9006357408887,647.0532455387106,651.6391149447002,650.9412371691323,651.9879880570106,671.4280219128531,683.3911096162302,685.5345173566953,684.6372350349587,681.1978365136565,685.2354137634501,683.789922933257,679.8520611052309,697.2982001341319,712.2022503764758,715.0434026130719,708.8126376037984,714.7942135106028,712.7006893849618,722.5701629506019,725.2619177069076,725.361586404941,724.2649962272178,722.5702029141743,719.2305318707499,722.4705506288765,731.7419039668016,732.4896182187439,730.3461930681092,730.7449503306673,709.709916064297,728.7511263121148,725.2619195414886,739.5676951779454,755.6182166834715,800.4299448136563,796.2428417736129,801.526555194252,787.5696440840888,799.3333164237081,803.4207434340957,797.8877534228383,806.7105836525363,808.5050336167095,814.9850313650279,816.0317475066829,817.876116024583,824.4557616786715,811.1967288561051,820.4182385431777,823.4588934460521,825.0539263462871,809.5019260433669,811.645328789254,841.2040935442844,883.2244282935891,893.7420064965648,897.3807830841079,892.9942701792819,947.0773689105692,938.4041621792303,941.0958172877474,936.8090678374625,924.5469350928817,922.1542709144172,916.2724038964512,917.119862802497,924.1481255732302,945.8810962331506,940.0490914424062,931.7746363553856,934.3167704601162,930.9770430805079,936.9087543643499,942.0927886144665,962.031254348842,972.9973900868661,956.2989406302397,977.3838981691608,991.9389555705244,1062.321737133582,1027.479293414112,1043.7789235449698,1032.7628958337734,1033.8097357949305,1017.8589903523438,978.9789267096277,976.7358575212209,971.8010589788295,967.6139710813223,962.1807864953793,966.268172791921,983.166040778508,991.9389306816523,991.9389583591376,996.8239215333233,1006.7432177513575,1004.8989346778949,1011.3291540804612,1013.871265593801,1009.3851206333742,1013.2731142870745,1026.3327944466662,1017.8589456762418,1025.8343354844556,1003.852185193392,1001.80853948109,1000.0140179761577,964.9722034703329,975.7389463860485,991.4405133150968,992.8362294645907,1000.2134199478468,1005.8460497848425,1002.6558480385609,1016.3137717666636,1026.8312446301773,1036.9998267222027,1016.6626309338477,1014.8183665411239,1011.8774308377767,1039.9905873933412,1047.118622153057,1005.5967825177934,965.0219815137478,969.9567949388908,951.4638497726754,950.4669732117342,953.7069295016887,951.9623417681472,960.4859956628709,967.9629389906398,963.4767627704676,958.9407769957431,947.5758796831192,948.5229420987141,934.3666223957892,960.0373793689552,945.0835689366378,930.8774088277726,943.0896829411471,970.0066522345722,981.8700290294881,992.5499877929688,1010.25,1002.0,997.25,1003.5499877929688,994.9000244140625,988.4000244140625,980.9000244140625,963.5,962.8499755859375,962.5,974.8499755859375,998.5,1005.5,1005.0,987.3499755859375,1004.0,1006.5999755859375,1016.5999755859375,1017.0,1019.8499755859375,1025.5,1025.9000244140625,1029.800048828125,1029.5999755859375,1027.0,1024.0,1008.0,1008.6500244140625,1034.25,1094.0,1120.5,1139.9000244140625,1179.0,1167.9000244140625,1176.0,1120.0,1065.0,1060.6500244140625,1040.199951171875,1056.4000244140625,1082.949951171875,1079.9000244140625,1075.5,1067.050048828125,1099.949951171875,1107.0,1098.050048828125,1095.300048828125,1094.75,1092.5999755859375,1103.3499755859375,1096.6500244140625,1088.699951171875,1142.0,1115.0,1105.0,1100.0,1085.0,1085.8499755859375,1072.949951171875,1049.949951171875,1049.0,1011.5499877929688,988.0,1006.0,999.9000244140625,995.0,983.7000122070312,978.9500122070312,977.5,979.2000122070312,985.0,982.5,994.9500122070312,1000.4000244140625,996.9500122070312,984.5,950.1500244140625,949.2000122070312,944.4500122070312,924.7999877929688,948.4500122070312,943.5999755859375,937.0],\"increasing\":{\"fillcolor\":\"#26A69A\",\"line\":{\"color\":\"#26A69A\"}},\"line\":{\"width\":1},\"low\":[624.3732035975265,628.1615033552984,644.212007166008,641.2212312231026,641.3209038404705,639.9252783608113,640.7227896992147,642.0187593227324,647.3024353005799,654.5301552943442,668.8360497824684,677.5092339390312,668.6366245290644,672.9233833764305,673.9701892259266,674.9671125473501,669.1849664170752,672.1757141113281,692.2138833446287,694.8557011102281,700.8372492763295,702.6317335519632,702.8311216358023,706.8187833335206,713.7972963273482,705.3234464009159,714.3455942264108,710.8065167696518,711.3049772082029,716.389280113817,719.0311283869968,725.8600519115619,723.7665217547479,700.8870783216224,694.1080378055482,709.8095785693922,714.3954279544205,722.9191209321718,736.7763372547169,751.6803587469493,778.6471169933009,776.6034657914456,773.8619445826253,788.8656188055634,784.678531312845,785.0773099111784,790.7099721538192,790.2115100310447,805.9628850833083,806.6607027849429,807.8071515224598,809.9505364449744,801.5265579649118,794.5480605381124,816.9788900472636,793.8502306176879,786.0742225187129,797.8379011776647,808.5548467297244,840.256986926025,862.5383100175844,873.604119240152,874.1523907396991,912.5339436950352,925.5438843892472,925.1948747308346,915.973341398412,903.2625805505963,905.2065708003145,891.2496473098162,891.5985825566821,913.5308654873995,921.2570712289926,928.185676633811,917.5684755238078,913.6804406459355,911.7862645316782,926.5407857951564,927.8367935064974,932.6220087495768,947.3764425431755,939.9992644955904,953.7567972504222,977.0847699873481,1002.2570917425157,1005.8958739599614,1010.9302814511313,1017.8589375417984,1008.1887880324643,960.5857176581433,952.4607846020682,937.1081460269942,933.7684622657706,948.6724236745789,918.3659844002173,943.0896997277866,947.4262941447125,972.9973832616007,973.6952690834165,975.9881941727041,984.4121668479715,990.3438752407601,989.4965029902119,995.0792807327128,1001.3100640072616,1000.9112380046372,1001.90816747829,1006.892786614108,1010.3820204212786,975.4896979034717,979.0786329613645,963.2774084208725,941.0958712619531,963.0281708392571,971.0534136671944,984.9605087500032,986.4558866541336,993.5340071665445,995.9266141591074,994.4312866724147,1008.4379931758202,992.9358545457699,1001.9081744644453,979.028785817335,973.9943349049339,1004.2010688452552,1027.230046089197,944.2859850790886,950.3173593780787,942.1924371394084,916.1727321600905,938.1050963806224,945.7813751840451,939.6502991645742,942.1425782092996,955.0527667693228,949.071205517247,943.0896683785454,935.911861419699,918.1666072466522,917.2693587139829,931.1265963973044,852.7684682929635,887.2620014529773,928.3352264980141,932.3727867444848,966.1185882568394,966.6500244140625,987.0,980.75,981.4000244140625,984.0,975.1500244140625,976.3499755859375,958.0999755859375,950.0499877929688,949.2999877929688,950.0999755859375,948.0499877929688,972.5499877929688,985.2000122070312,979.0999755859375,973.5,979.5999755859375,989.9500122070312,996.2000122070312,998.0999755859375,986.0499877929688,1007.0499877929688,1015.0,1017.2999877929688,1019.2000122070312,1008.0,986.6500244140625,976.5499877929688,967.2000122070312,995.1500244140625,1024.3499755859375,1083.5999755859375,1118.5999755859375,1118.5999755859375,1145.300048828125,1136.5,1090.050048828125,1014.0499877929688,1008.4000244140625,1015.0499877929688,1027.0,1052.050048828125,1055.0,1048.199951171875,1047.0,1070.0,1085.0,1082.050048828125,1083.300048828125,1064.949951171875,1071.0,1082.8499755859375,1075.0,1070.0999755859375,1066.0,1097.449951171875,1087.3499755859375,1082.199951171875,1072.0999755859375,1066.949951171875,1040.5,1026.25,1032.199951171875,971.25,958.0,988.0,984.5,960.0,957.1500244140625,956.3499755859375,949.2000122070312,966.0499877929688,972.5999755859375,959.25,965.5999755859375,989.1500244140625,971.7999877929688,958.9000244140625,925.0,920.0,915.0,893.8499755859375,925.5,912.3499755859375,928.5],\"open\":[628.0618328807475,630.055682435752,659.9633870128499,650.8415068475508,643.0156860351562,646.0064879360694,642.0187781688983,647.3522759191462,650.9910645278715,657.9695537676065,671.9264885212825,680.4003366314379,679.9018482618739,674.9172304382865,681.8459100237585,681.0982170384483,679.3037652947763,675.3658816907515,700.5880659964552,714.0963130891407,705.8218669809976,713.7972899213273,703.7283771938664,706.8686173405837,722.7696087113513,719.828672599118,715.5917487278341,722.5702029141743,713.7972861682878,721.7726919340483,721.6730001994009,730.6453338898465,730.3461930681092,728.7012692556995,700.8372719243093,714.5947995138661,725.1622515203692,725.7603286490562,740.3652985421573,752.6772822996642,782.584977136906,798.037322677859,783.6317836941909,795.5450189789997,796.5419463419998,795.9438011428715,797.4890404169724,797.5388740978639,810.9973370219574,815.6330146010633,817.477322260136,809.9505364449744,808.5050230218203,804.5172959275492,821.3154833674978,822.3622813716463,799.9314842616111,811.495765918497,809.3523734137327,840.4065497969711,862.5383100175844,897.2312202084519,883.2742655638781,931.1265921710228,933.5192731014428,941.0958172877474,934.1173620952459,923.1512177681011,913.2816271039628,908.7954773250602,897.2312251423639,920.8582900464917,922.1543268048388,940.0490914424062,931.5752394724828,923.5001133504758,921.805394997417,930.229354308326,934.217067947412,933.868163224122,963.1777174049638,956.0497097361479,955.9998752962381,990.1943393170084,1023.8405114792558,1021.8466509504067,1021.8466061447888,1031.5666362599177,1024.6380876846872,1015.8651431626232,961.9813923410198,965.4207994586787,942.9401101969772,965.5702899779665,957.9438614172414,948.0743175910413,961.931580823292,973.9943068100245,988.5493938609659,979.4774267361406,996.9235451703829,995.926622761128,1000.9112903333113,1012.8743420288121,1008.4878650760788,1006.9426132753277,1017.8589442739643,1009.1358646040899,1010.8804821975102,995.0293752292167,986.9543536577906,993.2847838164258,961.0343431107234,975.7389463860485,972.997426843172,989.346996893108,989.446657407001,1004.6995633384917,999.9641423173026,1001.9082136398765,1016.8620092454183,1034.8066435928806,1011.8774100312557,1013.0737502828102,983.9137366673529,1007.8896981096933,1033.8097171535346,1001.9081532666385,962.1308789243916,967.9629478084743,950.2675293566348,941.0958671448539,951.0650577800128,949.0712390748681,947.0773618960241,959.5389227718927,961.9315434603733,956.0496743922041,944.036813080503,940.5973875539809,928.7838747044248,960.0373793689552,945.0835689366378,922.1044933424341,937.1081416117106,937.1081737929064,973.9943086431638,973.7999877929688,994.5,1002.0,990.0,1000.0,990.0,980.0,979.0,960.9000244140625,960.0,956.0,952.5,975.0,989.75,1004.0499877929688,984.9500122070312,984.0,1005.0,1005.0,1000.9500122070312,1015.0,1008.0,1023.8499755859375,1021.3499755859375,1025.5,1022.9500122070312,1024.0,990.0,1007.9000244140625,997.7999877929688,1029.0,1111.949951171875,1124.0,1125.800048828125,1164.0,1167.0,1120.0,1059.949951171875,1030.0,1036.050048828125,1034.949951171875,1055.0,1065.0,1074.8499755859375,1057.0,1072.0,1105.9000244140625,1097.0,1089.0,1090.0,1073.0,1089.0,1093.050048828125,1082.949951171875,1079.050048828125,1113.949951171875,1105.0,1097.5999755859375,1079.0,1081.0,1068.800048828125,1049.3499755859375,1049.0,1000.0,976.2999877929688,994.9000244140625,997.0,995.0,978.2000122070312,970.4000244140625,967.0,973.5,974.0,982.4000244140625,970.7999877929688,996.0,993.0,976.9000244140625,939.0,930.0,942.0,916.0,926.7999877929688,933.75,932.0],\"x\":[\"2023-11-01T00:00:00+05:30\",\"2023-11-02T00:00:00+05:30\",\"2023-11-03T00:00:00+05:30\",\"2023-11-06T00:00:00+05:30\",\"2023-11-07T00:00:00+05:30\",\"2023-11-08T00:00:00+05:30\",\"2023-11-09T00:00:00+05:30\",\"2023-11-10T00:00:00+05:30\",\"2023-11-13T00:00:00+05:30\",\"2023-11-15T00:00:00+05:30\",\"2023-11-16T00:00:00+05:30\",\"2023-11-17T00:00:00+05:30\",\"2023-11-20T00:00:00+05:30\",\"2023-11-21T00:00:00+05:30\",\"2023-11-22T00:00:00+05:30\",\"2023-11-23T00:00:00+05:30\",\"2023-11-24T00:00:00+05:30\",\"2023-11-28T00:00:00+05:30\",\"2023-11-29T00:00:00+05:30\",\"2023-11-30T00:00:00+05:30\",\"2023-12-01T00:00:00+05:30\",\"2023-12-04T00:00:00+05:30\",\"2023-12-05T00:00:00+05:30\",\"2023-12-06T00:00:00+05:30\",\"2023-12-07T00:00:00+05:30\",\"2023-12-08T00:00:00+05:30\",\"2023-12-11T00:00:00+05:30\",\"2023-12-12T00:00:00+05:30\",\"2023-12-13T00:00:00+05:30\",\"2023-12-14T00:00:00+05:30\",\"2023-12-15T00:00:00+05:30\",\"2023-12-18T00:00:00+05:30\",\"2023-12-19T00:00:00+05:30\",\"2023-12-20T00:00:00+05:30\",\"2023-12-21T00:00:00+05:30\",\"2023-12-22T00:00:00+05:30\",\"2023-12-26T00:00:00+05:30\",\"2023-12-27T00:00:00+05:30\",\"2023-12-28T00:00:00+05:30\",\"2023-12-29T00:00:00+05:30\",\"2024-01-01T00:00:00+05:30\",\"2024-01-02T00:00:00+05:30\",\"2024-01-03T00:00:00+05:30\",\"2024-01-04T00:00:00+05:30\",\"2024-01-05T00:00:00+05:30\",\"2024-01-08T00:00:00+05:30\",\"2024-01-09T00:00:00+05:30\",\"2024-01-10T00:00:00+05:30\",\"2024-01-11T00:00:00+05:30\",\"2024-01-12T00:00:00+05:30\",\"2024-01-15T00:00:00+05:30\",\"2024-01-16T00:00:00+05:30\",\"2024-01-17T00:00:00+05:30\",\"2024-01-18T00:00:00+05:30\",\"2024-01-19T00:00:00+05:30\",\"2024-01-23T00:00:00+05:30\",\"2024-01-24T00:00:00+05:30\",\"2024-01-25T00:00:00+05:30\",\"2024-01-29T00:00:00+05:30\",\"2024-01-30T00:00:00+05:30\",\"2024-01-31T00:00:00+05:30\",\"2024-02-01T00:00:00+05:30\",\"2024-02-02T00:00:00+05:30\",\"2024-02-05T00:00:00+05:30\",\"2024-02-06T00:00:00+05:30\",\"2024-02-07T00:00:00+05:30\",\"2024-02-08T00:00:00+05:30\",\"2024-02-09T00:00:00+05:30\",\"2024-02-12T00:00:00+05:30\",\"2024-02-13T00:00:00+05:30\",\"2024-02-14T00:00:00+05:30\",\"2024-02-15T00:00:00+05:30\",\"2024-02-16T00:00:00+05:30\",\"2024-02-19T00:00:00+05:30\",\"2024-02-20T00:00:00+05:30\",\"2024-02-21T00:00:00+05:30\",\"2024-02-22T00:00:00+05:30\",\"2024-02-23T00:00:00+05:30\",\"2024-02-26T00:00:00+05:30\",\"2024-02-27T00:00:00+05:30\",\"2024-02-28T00:00:00+05:30\",\"2024-02-29T00:00:00+05:30\",\"2024-03-01T00:00:00+05:30\",\"2024-03-04T00:00:00+05:30\",\"2024-03-05T00:00:00+05:30\",\"2024-03-06T00:00:00+05:30\",\"2024-03-07T00:00:00+05:30\",\"2024-03-11T00:00:00+05:30\",\"2024-03-12T00:00:00+05:30\",\"2024-03-13T00:00:00+05:30\",\"2024-03-14T00:00:00+05:30\",\"2024-03-15T00:00:00+05:30\",\"2024-03-18T00:00:00+05:30\",\"2024-03-19T00:00:00+05:30\",\"2024-03-20T00:00:00+05:30\",\"2024-03-21T00:00:00+05:30\",\"2024-03-22T00:00:00+05:30\",\"2024-03-26T00:00:00+05:30\",\"2024-03-27T00:00:00+05:30\",\"2024-03-28T00:00:00+05:30\",\"2024-04-01T00:00:00+05:30\",\"2024-04-02T00:00:00+05:30\",\"2024-04-03T00:00:00+05:30\",\"2024-04-04T00:00:00+05:30\",\"2024-04-05T00:00:00+05:30\",\"2024-04-08T00:00:00+05:30\",\"2024-04-09T00:00:00+05:30\",\"2024-04-10T00:00:00+05:30\",\"2024-04-12T00:00:00+05:30\",\"2024-04-15T00:00:00+05:30\",\"2024-04-16T00:00:00+05:30\",\"2024-04-18T00:00:00+05:30\",\"2024-04-19T00:00:00+05:30\",\"2024-04-22T00:00:00+05:30\",\"2024-04-23T00:00:00+05:30\",\"2024-04-24T00:00:00+05:30\",\"2024-04-25T00:00:00+05:30\",\"2024-04-26T00:00:00+05:30\",\"2024-04-29T00:00:00+05:30\",\"2024-04-30T00:00:00+05:30\",\"2024-05-02T00:00:00+05:30\",\"2024-05-03T00:00:00+05:30\",\"2024-05-06T00:00:00+05:30\",\"2024-05-07T00:00:00+05:30\",\"2024-05-08T00:00:00+05:30\",\"2024-05-09T00:00:00+05:30\",\"2024-05-10T00:00:00+05:30\",\"2024-05-13T00:00:00+05:30\",\"2024-05-14T00:00:00+05:30\",\"2024-05-15T00:00:00+05:30\",\"2024-05-16T00:00:00+05:30\",\"2024-05-17T00:00:00+05:30\",\"2024-05-21T00:00:00+05:30\",\"2024-05-22T00:00:00+05:30\",\"2024-05-23T00:00:00+05:30\",\"2024-05-24T00:00:00+05:30\",\"2024-05-27T00:00:00+05:30\",\"2024-05-28T00:00:00+05:30\",\"2024-05-29T00:00:00+05:30\",\"2024-05-30T00:00:00+05:30\",\"2024-05-31T00:00:00+05:30\",\"2024-06-03T00:00:00+05:30\",\"2024-06-04T00:00:00+05:30\",\"2024-06-05T00:00:00+05:30\",\"2024-06-06T00:00:00+05:30\",\"2024-06-07T00:00:00+05:30\",\"2024-06-10T00:00:00+05:30\",\"2024-06-11T00:00:00+05:30\",\"2024-06-12T00:00:00+05:30\",\"2024-06-13T00:00:00+05:30\",\"2024-06-14T00:00:00+05:30\",\"2024-06-18T00:00:00+05:30\",\"2024-06-19T00:00:00+05:30\",\"2024-06-20T00:00:00+05:30\",\"2024-06-21T00:00:00+05:30\",\"2024-06-24T00:00:00+05:30\",\"2024-06-25T00:00:00+05:30\",\"2024-06-26T00:00:00+05:30\",\"2024-06-27T00:00:00+05:30\",\"2024-06-28T00:00:00+05:30\",\"2024-07-01T00:00:00+05:30\",\"2024-07-02T00:00:00+05:30\",\"2024-07-03T00:00:00+05:30\",\"2024-07-04T00:00:00+05:30\",\"2024-07-05T00:00:00+05:30\",\"2024-07-08T00:00:00+05:30\",\"2024-07-09T00:00:00+05:30\",\"2024-07-10T00:00:00+05:30\",\"2024-07-11T00:00:00+05:30\",\"2024-07-12T00:00:00+05:30\",\"2024-07-15T00:00:00+05:30\",\"2024-07-16T00:00:00+05:30\",\"2024-07-18T00:00:00+05:30\",\"2024-07-19T00:00:00+05:30\",\"2024-07-22T00:00:00+05:30\",\"2024-07-23T00:00:00+05:30\",\"2024-07-24T00:00:00+05:30\",\"2024-07-25T00:00:00+05:30\",\"2024-07-26T00:00:00+05:30\",\"2024-07-29T00:00:00+05:30\",\"2024-07-30T00:00:00+05:30\",\"2024-07-31T00:00:00+05:30\",\"2024-08-01T00:00:00+05:30\",\"2024-08-02T00:00:00+05:30\",\"2024-08-05T00:00:00+05:30\",\"2024-08-06T00:00:00+05:30\",\"2024-08-07T00:00:00+05:30\",\"2024-08-08T00:00:00+05:30\",\"2024-08-09T00:00:00+05:30\",\"2024-08-12T00:00:00+05:30\",\"2024-08-13T00:00:00+05:30\",\"2024-08-14T00:00:00+05:30\",\"2024-08-16T00:00:00+05:30\",\"2024-08-19T00:00:00+05:30\",\"2024-08-20T00:00:00+05:30\",\"2024-08-21T00:00:00+05:30\",\"2024-08-22T00:00:00+05:30\",\"2024-08-23T00:00:00+05:30\",\"2024-08-26T00:00:00+05:30\",\"2024-08-27T00:00:00+05:30\",\"2024-08-28T00:00:00+05:30\",\"2024-08-29T00:00:00+05:30\",\"2024-08-30T00:00:00+05:30\",\"2024-09-02T00:00:00+05:30\",\"2024-09-03T00:00:00+05:30\",\"2024-09-04T00:00:00+05:30\",\"2024-09-05T00:00:00+05:30\",\"2024-09-06T00:00:00+05:30\",\"2024-09-09T00:00:00+05:30\",\"2024-09-10T00:00:00+05:30\",\"2024-09-11T00:00:00+05:30\",\"2024-09-12T00:00:00+05:30\",\"2024-09-13T00:00:00+05:30\",\"2024-09-16T00:00:00+05:30\",\"2024-09-17T00:00:00+05:30\",\"2024-09-18T00:00:00+05:30\",\"2024-09-19T00:00:00+05:30\",\"2024-09-20T00:00:00+05:30\",\"2024-09-23T00:00:00+05:30\",\"2024-09-24T00:00:00+05:30\",\"2024-09-25T00:00:00+05:30\",\"2024-09-26T00:00:00+05:30\",\"2024-09-27T00:00:00+05:30\",\"2024-09-30T00:00:00+05:30\",\"2024-10-01T00:00:00+05:30\",\"2024-10-03T00:00:00+05:30\",\"2024-10-04T00:00:00+05:30\",\"2024-10-07T00:00:00+05:30\",\"2024-10-08T00:00:00+05:30\",\"2024-10-09T00:00:00+05:30\",\"2024-10-10T00:00:00+05:30\",\"2024-10-11T00:00:00+05:30\"],\"type\":\"candlestick\"}],                        {\"template\":{\"data\":{\"histogram2dcontour\":[{\"type\":\"histogram2dcontour\",\"colorbar\":{\"outlinewidth\":0,\"ticks\":\"\"},\"colorscale\":[[0.0,\"#0d0887\"],[0.1111111111111111,\"#46039f\"],[0.2222222222222222,\"#7201a8\"],[0.3333333333333333,\"#9c179e\"],[0.4444444444444444,\"#bd3786\"],[0.5555555555555556,\"#d8576b\"],[0.6666666666666666,\"#ed7953\"],[0.7777777777777778,\"#fb9f3a\"],[0.8888888888888888,\"#fdca26\"],[1.0,\"#f0f921\"]]}],\"choropleth\":[{\"type\":\"choropleth\",\"colorbar\":{\"outlinewidth\":0,\"ticks\":\"\"}}],\"histogram2d\":[{\"type\":\"histogram2d\",\"colorbar\":{\"outlinewidth\":0,\"ticks\":\"\"},\"colorscale\":[[0.0,\"#0d0887\"],[0.1111111111111111,\"#46039f\"],[0.2222222222222222,\"#7201a8\"],[0.3333333333333333,\"#9c179e\"],[0.4444444444444444,\"#bd3786\"],[0.5555555555555556,\"#d8576b\"],[0.6666666666666666,\"#ed7953\"],[0.7777777777777778,\"#fb9f3a\"],[0.8888888888888888,\"#fdca26\"],[1.0,\"#f0f921\"]]}],\"heatmap\":[{\"type\":\"heatmap\",\"colorbar\":{\"outlinewidth\":0,\"ticks\":\"\"},\"colorscale\":[[0.0,\"#0d0887\"],[0.1111111111111111,\"#46039f\"],[0.2222222222222222,\"#7201a8\"],[0.3333333333333333,\"#9c179e\"],[0.4444444444444444,\"#bd3786\"],[0.5555555555555556,\"#d8576b\"],[0.6666666666666666,\"#ed7953\"],[0.7777777777777778,\"#fb9f3a\"],[0.8888888888888888,\"#fdca26\"],[1.0,\"#f0f921\"]]}],\"heatmapgl\":[{\"type\":\"heatmapgl\",\"colorbar\":{\"outlinewidth\":0,\"ticks\":\"\"},\"colorscale\":[[0.0,\"#0d0887\"],[0.1111111111111111,\"#46039f\"],[0.2222222222222222,\"#7201a8\"],[0.3333333333333333,\"#9c179e\"],[0.4444444444444444,\"#bd3786\"],[0.5555555555555556,\"#d8576b\"],[0.6666666666666666,\"#ed7953\"],[0.7777777777777778,\"#fb9f3a\"],[0.8888888888888888,\"#fdca26\"],[1.0,\"#f0f921\"]]}],\"contourcarpet\":[{\"type\":\"contourcarpet\",\"colorbar\":{\"outlinewidth\":0,\"ticks\":\"\"}}],\"contour\":[{\"type\":\"contour\",\"colorbar\":{\"outlinewidth\":0,\"ticks\":\"\"},\"colorscale\":[[0.0,\"#0d0887\"],[0.1111111111111111,\"#46039f\"],[0.2222222222222222,\"#7201a8\"],[0.3333333333333333,\"#9c179e\"],[0.4444444444444444,\"#bd3786\"],[0.5555555555555556,\"#d8576b\"],[0.6666666666666666,\"#ed7953\"],[0.7777777777777778,\"#fb9f3a\"],[0.8888888888888888,\"#fdca26\"],[1.0,\"#f0f921\"]]}],\"surface\":[{\"type\":\"surface\",\"colorbar\":{\"outlinewidth\":0,\"ticks\":\"\"},\"colorscale\":[[0.0,\"#0d0887\"],[0.1111111111111111,\"#46039f\"],[0.2222222222222222,\"#7201a8\"],[0.3333333333333333,\"#9c179e\"],[0.4444444444444444,\"#bd3786\"],[0.5555555555555556,\"#d8576b\"],[0.6666666666666666,\"#ed7953\"],[0.7777777777777778,\"#fb9f3a\"],[0.8888888888888888,\"#fdca26\"],[1.0,\"#f0f921\"]]}],\"mesh3d\":[{\"type\":\"mesh3d\",\"colorbar\":{\"outlinewidth\":0,\"ticks\":\"\"}}],\"scatter\":[{\"fillpattern\":{\"fillmode\":\"overlay\",\"size\":10,\"solidity\":0.2},\"type\":\"scatter\"}],\"parcoords\":[{\"type\":\"parcoords\",\"line\":{\"colorbar\":{\"outlinewidth\":0,\"ticks\":\"\"}}}],\"scatterpolargl\":[{\"type\":\"scatterpolargl\",\"marker\":{\"colorbar\":{\"outlinewidth\":0,\"ticks\":\"\"}}}],\"bar\":[{\"error_x\":{\"color\":\"#2a3f5f\"},\"error_y\":{\"color\":\"#2a3f5f\"},\"marker\":{\"line\":{\"color\":\"#E5ECF6\",\"width\":0.5},\"pattern\":{\"fillmode\":\"overlay\",\"size\":10,\"solidity\":0.2}},\"type\":\"bar\"}],\"scattergeo\":[{\"type\":\"scattergeo\",\"marker\":{\"colorbar\":{\"outlinewidth\":0,\"ticks\":\"\"}}}],\"scatterpolar\":[{\"type\":\"scatterpolar\",\"marker\":{\"colorbar\":{\"outlinewidth\":0,\"ticks\":\"\"}}}],\"histogram\":[{\"marker\":{\"pattern\":{\"fillmode\":\"overlay\",\"size\":10,\"solidity\":0.2}},\"type\":\"histogram\"}],\"scattergl\":[{\"type\":\"scattergl\",\"marker\":{\"colorbar\":{\"outlinewidth\":0,\"ticks\":\"\"}}}],\"scatter3d\":[{\"type\":\"scatter3d\",\"line\":{\"colorbar\":{\"outlinewidth\":0,\"ticks\":\"\"}},\"marker\":{\"colorbar\":{\"outlinewidth\":0,\"ticks\":\"\"}}}],\"scattermapbox\":[{\"type\":\"scattermapbox\",\"marker\":{\"colorbar\":{\"outlinewidth\":0,\"ticks\":\"\"}}}],\"scatterternary\":[{\"type\":\"scatterternary\",\"marker\":{\"colorbar\":{\"outlinewidth\":0,\"ticks\":\"\"}}}],\"scattercarpet\":[{\"type\":\"scattercarpet\",\"marker\":{\"colorbar\":{\"outlinewidth\":0,\"ticks\":\"\"}}}],\"carpet\":[{\"aaxis\":{\"endlinecolor\":\"#2a3f5f\",\"gridcolor\":\"white\",\"linecolor\":\"white\",\"minorgridcolor\":\"white\",\"startlinecolor\":\"#2a3f5f\"},\"baxis\":{\"endlinecolor\":\"#2a3f5f\",\"gridcolor\":\"white\",\"linecolor\":\"white\",\"minorgridcolor\":\"white\",\"startlinecolor\":\"#2a3f5f\"},\"type\":\"carpet\"}],\"table\":[{\"cells\":{\"fill\":{\"color\":\"#EBF0F8\"},\"line\":{\"color\":\"white\"}},\"header\":{\"fill\":{\"color\":\"#C8D4E3\"},\"line\":{\"color\":\"white\"}},\"type\":\"table\"}],\"barpolar\":[{\"marker\":{\"line\":{\"color\":\"#E5ECF6\",\"width\":0.5},\"pattern\":{\"fillmode\":\"overlay\",\"size\":10,\"solidity\":0.2}},\"type\":\"barpolar\"}],\"pie\":[{\"automargin\":true,\"type\":\"pie\"}]},\"layout\":{\"autotypenumbers\":\"strict\",\"colorway\":[\"#636efa\",\"#EF553B\",\"#00cc96\",\"#ab63fa\",\"#FFA15A\",\"#19d3f3\",\"#FF6692\",\"#B6E880\",\"#FF97FF\",\"#FECB52\"],\"font\":{\"color\":\"#2a3f5f\"},\"hovermode\":\"closest\",\"hoverlabel\":{\"align\":\"left\"},\"paper_bgcolor\":\"white\",\"plot_bgcolor\":\"#E5ECF6\",\"polar\":{\"bgcolor\":\"#E5ECF6\",\"angularaxis\":{\"gridcolor\":\"white\",\"linecolor\":\"white\",\"ticks\":\"\"},\"radialaxis\":{\"gridcolor\":\"white\",\"linecolor\":\"white\",\"ticks\":\"\"}},\"ternary\":{\"bgcolor\":\"#E5ECF6\",\"aaxis\":{\"gridcolor\":\"white\",\"linecolor\":\"white\",\"ticks\":\"\"},\"baxis\":{\"gridcolor\":\"white\",\"linecolor\":\"white\",\"ticks\":\"\"},\"caxis\":{\"gridcolor\":\"white\",\"linecolor\":\"white\",\"ticks\":\"\"}},\"coloraxis\":{\"colorbar\":{\"outlinewidth\":0,\"ticks\":\"\"}},\"colorscale\":{\"sequential\":[[0.0,\"#0d0887\"],[0.1111111111111111,\"#46039f\"],[0.2222222222222222,\"#7201a8\"],[0.3333333333333333,\"#9c179e\"],[0.4444444444444444,\"#bd3786\"],[0.5555555555555556,\"#d8576b\"],[0.6666666666666666,\"#ed7953\"],[0.7777777777777778,\"#fb9f3a\"],[0.8888888888888888,\"#fdca26\"],[1.0,\"#f0f921\"]],\"sequentialminus\":[[0.0,\"#0d0887\"],[0.1111111111111111,\"#46039f\"],[0.2222222222222222,\"#7201a8\"],[0.3333333333333333,\"#9c179e\"],[0.4444444444444444,\"#bd3786\"],[0.5555555555555556,\"#d8576b\"],[0.6666666666666666,\"#ed7953\"],[0.7777777777777778,\"#fb9f3a\"],[0.8888888888888888,\"#fdca26\"],[1.0,\"#f0f921\"]],\"diverging\":[[0,\"#8e0152\"],[0.1,\"#c51b7d\"],[0.2,\"#de77ae\"],[0.3,\"#f1b6da\"],[0.4,\"#fde0ef\"],[0.5,\"#f7f7f7\"],[0.6,\"#e6f5d0\"],[0.7,\"#b8e186\"],[0.8,\"#7fbc41\"],[0.9,\"#4d9221\"],[1,\"#276419\"]]},\"xaxis\":{\"gridcolor\":\"white\",\"linecolor\":\"white\",\"ticks\":\"\",\"title\":{\"standoff\":15},\"zerolinecolor\":\"white\",\"automargin\":true,\"zerolinewidth\":2},\"yaxis\":{\"gridcolor\":\"white\",\"linecolor\":\"white\",\"ticks\":\"\",\"title\":{\"standoff\":15},\"zerolinecolor\":\"white\",\"automargin\":true,\"zerolinewidth\":2},\"scene\":{\"xaxis\":{\"backgroundcolor\":\"#E5ECF6\",\"gridcolor\":\"white\",\"linecolor\":\"white\",\"showbackground\":true,\"ticks\":\"\",\"zerolinecolor\":\"white\",\"gridwidth\":2},\"yaxis\":{\"backgroundcolor\":\"#E5ECF6\",\"gridcolor\":\"white\",\"linecolor\":\"white\",\"showbackground\":true,\"ticks\":\"\",\"zerolinecolor\":\"white\",\"gridwidth\":2},\"zaxis\":{\"backgroundcolor\":\"#E5ECF6\",\"gridcolor\":\"white\",\"linecolor\":\"white\",\"showbackground\":true,\"ticks\":\"\",\"zerolinecolor\":\"white\",\"gridwidth\":2}},\"shapedefaults\":{\"line\":{\"color\":\"#2a3f5f\"}},\"annotationdefaults\":{\"arrowcolor\":\"#2a3f5f\",\"arrowhead\":0,\"arrowwidth\":1},\"geo\":{\"bgcolor\":\"white\",\"landcolor\":\"#E5ECF6\",\"subunitcolor\":\"white\",\"showland\":true,\"showlakes\":true,\"lakecolor\":\"white\"},\"title\":{\"x\":0.05},\"mapbox\":{\"style\":\"light\"}}},\"xaxis\":{\"rangeslider\":{\"visible\":false},\"title\":{\"text\":\"Date\"},\"showgrid\":true,\"gridwidth\":1,\"gridcolor\":\"lightgrey\",\"zeroline\":false,\"showticklabels\":true,\"rangebreaks\":[{\"bounds\":[\"sat\",\"mon\"]}]},\"margin\":{\"l\":0,\"r\":0,\"t\":0,\"b\":0},\"title\":{\"text\":\"Candle Chart\"},\"yaxis\":{\"title\":{\"text\":\"Price\"},\"showgrid\":true,\"gridwidth\":1,\"gridcolor\":\"lightgrey\",\"zeroline\":false,\"showticklabels\":true},\"plot_bgcolor\":\"white\",\"hovermode\":\"x unified\",\"showlegend\":false},                        {\"responsive\": true}                    ).then(function(){\n",
       "                            \n",
       "var gd = document.getElementById('2f587086-2b90-4bb2-9b5b-41677dd85b3f');\n",
       "var x = new MutationObserver(function (mutations, observer) {{\n",
       "        var display = window.getComputedStyle(gd).display;\n",
       "        if (!display || display === 'none') {{\n",
       "            console.log([gd, 'removed!']);\n",
       "            Plotly.purge(gd);\n",
       "            observer.disconnect();\n",
       "        }}\n",
       "}});\n",
       "\n",
       "// Listen for the removal of the full notebook cells\n",
       "var notebookContainer = gd.closest('#notebook-container');\n",
       "if (notebookContainer) {{\n",
       "    x.observe(notebookContainer, {childList: true});\n",
       "}}\n",
       "\n",
       "// Listen for the clearing of the current output cell\n",
       "var outputEl = gd.closest('.output');\n",
       "if (outputEl) {{\n",
       "    x.observe(outputEl, {childList: true});\n",
       "}}\n",
       "\n",
       "                        })                };                });            </script>        </div>"
      ]
     },
     "metadata": {},
     "output_type": "display_data"
    }
   ],
   "source": [
    "#INPUT\n",
    "name = input('Enter a name: ')\n",
    "\n",
    "# PREPROCESSING THE NAME\n",
    "symbol,st_name = search_stock_symbol(name)\n",
    "symbol = symbol_changes(symbol)\n",
    "\n",
    "# API CALL\n",
    "comp = yf.Ticker(symbol)\n",
    "data = comp.history(period='1y', interval='1d')\n",
    "info = comp.info\n",
    "\n",
    "curr_price = info['currentPrice']\n",
    "\n",
    "weights = {\n",
    "    'pe': 0.3,\n",
    "    'rsi': 0.5,\n",
    "    'macd': 0.5,\n",
    "    'fib': 0.4,\n",
    "    'trend': 0.4\n",
    "}\n",
    "\n",
    "# PE RATIO AND CAP ID\n",
    "info = pe_and_market_cap(info)\n",
    "\n",
    "if info[2] != 1:\n",
    "    print('The company is not large cap')\n",
    "    \n",
    "\n",
    "pe = info[1]\n",
    "\n",
    "if pe <= 20:\n",
    "    pe_score = 1  # Buy\n",
    "    pe_response = f'The P/E ratio is {round(pe,2)}, which is below 20, hence BUY'\n",
    "\n",
    "else:\n",
    "    pe_score = -1  # Sell\n",
    "    pe_response = f'The P/E ratio is {round(pe,2)}, which is above 20, hence SELL'\n",
    "\n",
    "\n",
    "# RSI\n",
    "r, window = rsi(data)\n",
    "rsi_score, rsi_response = analyze_rsi(r)\n",
    "\n",
    "# MACD\n",
    "ma = macd(data)\n",
    "macd_score, macd_response = interpret_macd(ma)\n",
    "\n",
    "\n",
    "# Fibonacci Retracement\n",
    "fib = fibonacci_retracement(data)\n",
    "\n",
    "current_price = data['Close'].iloc[-1]\n",
    "prev_price = data['Close'].iloc[-2]\n",
    "\n",
    "trend = fib['trend']\n",
    "\n",
    "levels = dict()\n",
    "levels['retracement'] = fib['retracement_levels']\n",
    "levels ['extension'] = fib['extension_levels']\n",
    "\n",
    "fib_response, fib_score = fib_insight(current_price=current_price, trend=trend, levels=levels, previous_price=prev_price)\n",
    "\n",
    "data_trend = calculate_trend(data, short_window=14, long_window=50)\n",
    "trend_score, trend_response = analyze_trend(data_trend)\n",
    "\n",
    "final_score = (\n",
    "    (pe_score * weights['pe']) + \n",
    "    (rsi_score * weights['rsi']) + \n",
    "    (macd_score * weights['macd']) + \n",
    "    (fib_score * weights['fib']) +\n",
    "    (trend_score * weights['trend'])\n",
    ")\n",
    "\n",
    "# Decision based on final score\n",
    "if final_score > 0:\n",
    "    print(f'\\nBuy stocks of {st_name}')\n",
    "else:\n",
    "    print(f'\\nSell your stocks of {st_name}')\n",
    "\n",
    "\n",
    "print(f'Current Price of {st_name}: {curr_price}')\n",
    "print(f'Market Cap of {st_name}: {round(info[0] / (10 ** 7) , 2)} Crores')\n",
    "\n",
    "print(pe_response)  \n",
    "\n",
    "visualise_macd(ma)\n",
    "print(macd_response)\n",
    "\n",
    "visualise_rsi(r, window)\n",
    "print(rsi_response)\n",
    "\n",
    "fig = visualise_fib(fib, data)\n",
    "fig.show()\n",
    "print(*fib_response)\n",
    "\n",
    "print('\\n' + trend_response)\n",
    "plot_stock_trends_candlestick(a)"
   ]
  },
  {
   "cell_type": "markdown",
   "id": "61f9b94d",
   "metadata": {},
   "source": [
    "<center> <h1>BACKTESTING</h1> </center>"
   ]
  },
  {
   "cell_type": "code",
   "execution_count": 42,
   "id": "b5524591",
   "metadata": {},
   "outputs": [],
   "source": [
    "def calculate_signal(symbol, data, current_date):\n",
    "    # Slice the data up to the current date\n",
    "    current_data = data.loc[:current_date]\n",
    "    \n",
    "    # Get the latest info\n",
    "    comp = yf.Ticker(symbol)\n",
    "    info = comp.info\n",
    "    \n",
    "    curr_price = current_data['Close'].iloc[-1]\n",
    "    \n",
    "    weights = {\n",
    "    'pe': 0.5,\n",
    "    'rsi': 0.8,\n",
    "    'macd': 0.8,\n",
    "    'fib': 0.6,\n",
    "    'trend': 0.6\n",
    "}\n",
    "    \n",
    "    # PE RATIO AND CAP ID\n",
    "    market_cap, pe, is_large_cap = pe_and_market_cap(info)\n",
    "    \n",
    "    if not is_large_cap:\n",
    "        return 0  \n",
    "    \n",
    "    if pe <= 20:\n",
    "        pe_score = 1  # Buy\n",
    "    else:\n",
    "        pe_score = -1  # Sell\n",
    "    \n",
    "    # RSI\n",
    "    r, window = rsi(current_data)\n",
    "    rsi_score, _ = analyze_rsi(r)\n",
    "    \n",
    "    # MACD\n",
    "    ma = macd(current_data)\n",
    "    macd_score, _ = interpret_macd(ma)\n",
    "    \n",
    "    # Fibonacci Retracement\n",
    "    fib = fibonacci_retracement(current_data)\n",
    "    current_price = current_data['Close'].iloc[-1]\n",
    "    prev_price = current_data['Close'].iloc[-2]\n",
    "    trend = fib['trend']\n",
    "    levels = {\n",
    "        'retracement': fib['retracement_levels'],\n",
    "        'extension': fib['extension_levels']\n",
    "    }\n",
    "    _, fib_score = fib_insight(current_price=current_price, trend=trend, levels=levels,previous_price=prev_price)\n",
    "    \n",
    "    trend_score, _ = analyze_trend(data_trend)\n",
    "    \n",
    "    final_score = (\n",
    "    (pe_score * weights['pe']) + \n",
    "    (rsi_score * weights['rsi']) + \n",
    "    (macd_score * weights['macd']) + \n",
    "    (fib_score * weights['fib']) +\n",
    "    (trend_score * weights['trend']))\n",
    "    \n",
    "    if final_score > -0.3 and final_score < 0.3:\n",
    "        ans = 0\n",
    "        \n",
    "    elif final_score >= 0.3:\n",
    "        ans = 1\n",
    "        \n",
    "    elif final_score <= -0.3:\n",
    "        ans = -1\n",
    "    \n",
    "    return ans"
   ]
  },
  {
   "cell_type": "code",
   "execution_count": 44,
   "id": "304caf75",
   "metadata": {},
   "outputs": [],
   "source": [
    "def backtest(symbol, initial_balance=10000, holding_period=5, stop_loss=-5, take_profit=10, future_window=5):\n",
    "    # Download data\n",
    "    stock = yf.Ticker(symbol)\n",
    "    data = stock.history(period='2y', interval='1d')\n",
    "    \n",
    "    # Initialize variables\n",
    "    position = 0\n",
    "    balance = initial_balance\n",
    "    shares = 0\n",
    "    trades = []\n",
    "    good_predictions = 0\n",
    "    bad_predictions = 0\n",
    "    \n",
    "    # Iterate through each day\n",
    "    for i, current_date in enumerate(data.index[:-future_window]):\n",
    "        current_price = data.loc[current_date, 'Close']\n",
    "        \n",
    "        if len(data.loc[:current_date]) < 60:  # Skip the first 60 days to have enough data for indicators\n",
    "            continue\n",
    "        \n",
    "        # Get the signal\n",
    "        signal = calculate_signal(symbol, data, current_date)\n",
    "        \n",
    "        # Check if we need to sell due to stop loss, take profit, or holding period\n",
    "        if position == 1:\n",
    "            days_held = (current_date - trade_entry_date).days\n",
    "            price_change = (current_price - entry_price) / entry_price * 100\n",
    "            \n",
    "            if price_change <= stop_loss or price_change >= take_profit or days_held >= holding_period:\n",
    "                # Sell\n",
    "                balance += shares * current_price\n",
    "                trade_type = 'sell'\n",
    "                trades.append((trade_type, current_date, current_price, shares, balance))\n",
    "                \n",
    "                future_price = data['Close'].iloc[i + future_window]\n",
    "                if (signal == 1 and future_price > current_price) or (signal == -1 and future_price < current_price):\n",
    "                    good_predictions += 1\n",
    "                else:\n",
    "                    bad_predictions += 1\n",
    "                \n",
    "                shares = 0\n",
    "                position = 0\n",
    "        \n",
    "        # Execute trades based on signal\n",
    "        if signal == 1 and position == 0:  # Buy signal\n",
    "            shares_to_buy = balance // current_price\n",
    "            cost = shares_to_buy * current_price\n",
    "            balance -= cost\n",
    "            shares += shares_to_buy\n",
    "            position = 1\n",
    "            trade_type = 'buy'\n",
    "            trades.append((trade_type, current_date, current_price, shares_to_buy, balance))\n",
    "            entry_price = current_price\n",
    "            trade_entry_date = current_date\n",
    "            \n",
    "            # Check if the buy prediction was good\n",
    "            future_price = data['Close'].iloc[i + future_window]\n",
    "            if future_price > current_price:\n",
    "                good_predictions += 1\n",
    "            else:\n",
    "                bad_predictions += 1\n",
    "            \n",
    "        elif signal == -1 and position == 1:  # Sell signal\n",
    "            balance += shares * current_price\n",
    "            trade_type = 'sell'\n",
    "            trades.append((trade_type, current_date, current_price, shares, balance))\n",
    "            \n",
    "            # Check if the sell prediction was good\n",
    "            future_price = data['Close'].iloc[i + future_window]\n",
    "            if future_price < current_price:\n",
    "                good_predictions += 1\n",
    "            else:\n",
    "                bad_predictions += 1\n",
    "            \n",
    "            shares = 0\n",
    "            position = 0\n",
    "    \n",
    "    # Final value\n",
    "    final_balance = balance + shares * data['Close'].iloc[-1]\n",
    "    return_pct = (final_balance - initial_balance) / initial_balance * 100\n",
    "    \n",
    "    total_predictions = good_predictions + bad_predictions\n",
    "    prediction_accuracy = (good_predictions / total_predictions * 100) if total_predictions > 0 else 0\n",
    "    \n",
    "    return {\n",
    "        'final_balance': final_balance,\n",
    "        'return_pct': return_pct,\n",
    "        'trades': trades,\n",
    "        'good_predictions': good_predictions,\n",
    "        'bad_predictions': bad_predictions,\n",
    "        'prediction_accuracy': prediction_accuracy\n",
    "    }"
   ]
  },
  {
   "cell_type": "code",
   "execution_count": 45,
   "id": "f3d23284",
   "metadata": {},
   "outputs": [
    {
     "name": "stdout",
     "output_type": "stream",
     "text": [
      "\n",
      "Results for RELIANCE.NS:\n",
      "Final Balance: Rs9526.10\n",
      "Return: -4.74%\n",
      "Number of trades: 11\n",
      "Good trades: 6\n",
      "Bad trades: 5\n",
      "Accuracy: 54.55%\n",
      "\n",
      "Results for TCS.NS:\n",
      "Final Balance: Rs10237.68\n",
      "Return: 2.38%\n",
      "Number of trades: 6\n",
      "Good trades: 3\n",
      "Bad trades: 3\n",
      "Accuracy: 50.00%\n",
      "\n",
      "Results for HDFCBANK.NS:\n",
      "Final Balance: Rs10896.84\n",
      "Return: 8.97%\n",
      "Number of trades: 69\n",
      "Good trades: 34\n",
      "Bad trades: 35\n",
      "Accuracy: 49.28%\n",
      "\n",
      "Results for INFY.NS:\n",
      "Final Balance: Rs11099.92\n",
      "Return: 11.00%\n",
      "Number of trades: 14\n",
      "Good trades: 7\n",
      "Bad trades: 7\n",
      "Accuracy: 50.00%\n",
      "\n",
      "Results for HINDUNILVR.NS:\n",
      "Final Balance: Rs10581.04\n",
      "Return: 5.81%\n",
      "Number of trades: 26\n",
      "Good trades: 15\n",
      "Bad trades: 11\n",
      "Accuracy: 57.69%\n",
      "\n",
      "Results for BHARTIARTL.NS:\n",
      "Final Balance: Rs10152.59\n",
      "Return: 1.53%\n",
      "Number of trades: 6\n",
      "Good trades: 3\n",
      "Bad trades: 3\n",
      "Accuracy: 50.00%\n",
      "\n",
      "Results for ICICIBANK.NS:\n",
      "Final Balance: Rs12261.87\n",
      "Return: 22.62%\n",
      "Number of trades: 59\n",
      "Good trades: 28\n",
      "Bad trades: 31\n",
      "Accuracy: 47.46%\n",
      "\n",
      "Results for SBIN.NS:\n",
      "Final Balance: Rs13920.74\n",
      "Return: 39.21%\n",
      "Number of trades: 61\n",
      "Good trades: 31\n",
      "Bad trades: 30\n",
      "Accuracy: 50.82%\n",
      "\n",
      "Results for LICI.NS:\n",
      "Final Balance: Rs12113.87\n",
      "Return: 21.14%\n",
      "Number of trades: 61\n",
      "Good trades: 27\n",
      "Bad trades: 34\n",
      "Accuracy: 44.26%\n",
      "\n",
      "Results for ITC.NS:\n",
      "Final Balance: Rs10187.61\n",
      "Return: 1.88%\n",
      "Number of trades: 10\n",
      "Good trades: 5\n",
      "Bad trades: 5\n",
      "Accuracy: 50.00%\n"
     ]
    }
   ],
   "source": [
    "symbols = ['RELIANCE.NS','TCS.NS', 'HDFCBANK.NS', 'INFY.NS', 'HINDUNILVR.NS', 'BHARTIARTL.NS', 'ICICIBANK.NS','SBIN.NS', 'LICI.NS', 'ITC.NS'] \n",
    "results = {}\n",
    "for symbol in symbols:\n",
    "    result = backtest(symbol, holding_period=26, future_window=26)\n",
    "    results[symbol] = result\n",
    "\n",
    "# Analyze results\n",
    "for symbol, result in results.items():\n",
    "    print(f\"\\nResults for {symbol}:\")\n",
    "    print(f\"Final Balance: Rs{result['final_balance']:.2f}\")\n",
    "    print(f\"Return: {result['return_pct']:.2f}%\")\n",
    "    print(f\"Number of trades: {len(result['trades'])}\")\n",
    "    print(f\"Good trades: {result['good_predictions']}\")\n",
    "    print(f\"Bad trades: {result['bad_predictions']}\")\n",
    "    print(f\"Accuracy: {result['prediction_accuracy']:.2f}%\")"
   ]
  },
  {
   "cell_type": "code",
   "execution_count": 47,
   "id": "e6f9ac5f",
   "metadata": {},
   "outputs": [
    {
     "data": {
      "text/plain": [
       "10.97826644897461"
      ]
     },
     "execution_count": 47,
     "metadata": {},
     "output_type": "execute_result"
    }
   ],
   "source": [
    "avg26 = 0\n",
    "for i in symbols:\n",
    "    avg26 += results[i]['return_pct']\n",
    "\n",
    "avg26 /= len(symbols)\n",
    "avg26"
   ]
  },
  {
   "cell_type": "code",
   "execution_count": 31,
   "id": "368182b4",
   "metadata": {},
   "outputs": [
    {
     "data": {
      "text/plain": [
       "9.688069030761719"
      ]
     },
     "execution_count": 31,
     "metadata": {},
     "output_type": "execute_result"
    }
   ],
   "source": [
    "avg26 = 0\n",
    "for i in symbols:\n",
    "    avg26 += results[i]['return_pct']\n",
    "\n",
    "avg26 /= len(symbols)\n",
    "avg26"
   ]
  },
  {
   "cell_type": "code",
   "execution_count": 46,
   "id": "0c33a053",
   "metadata": {},
   "outputs": [
    {
     "data": {
      "text/plain": [
       "50.40527188883616"
      ]
     },
     "execution_count": 46,
     "metadata": {},
     "output_type": "execute_result"
    }
   ],
   "source": [
    "avg26 = 0\n",
    "for i in symbols:\n",
    "    avg26 += results[i]['prediction_accuracy']\n",
    "\n",
    "avg26 /= len(symbols)\n",
    "avg26"
   ]
  },
  {
   "cell_type": "code",
   "execution_count": 32,
   "id": "8eed4be9",
   "metadata": {},
   "outputs": [
    {
     "data": {
      "text/plain": [
       "50.42578022504941"
      ]
     },
     "execution_count": 32,
     "metadata": {},
     "output_type": "execute_result"
    }
   ],
   "source": [
    "avg26 = 0\n",
    "for i in symbols:\n",
    "    avg26 += results[i]['prediction_accuracy']\n",
    "\n",
    "avg26 /= len(symbols)\n",
    "avg26"
   ]
  },
  {
   "cell_type": "code",
   "execution_count": null,
   "id": "c73134b6",
   "metadata": {},
   "outputs": [],
   "source": [
    "Results for RELIANCE.NS:\n",
    "Final Balance: Rs9716.33\n",
    "Return: -2.84%\n",
    "Number of trades: 42\n",
    "Good trades: 19\n",
    "Bad trades: 23\n",
    "Accuracy: 45.24%\n",
    "\n",
    "Results for TCS.NS:\n",
    "Final Balance: Rs11302.42\n",
    "Return: 13.02%\n",
    "Number of trades: 44\n",
    "Good trades: 25\n",
    "Bad trades: 19\n",
    "Accuracy: 56.82%\n",
    "\n",
    "Results for HDFCBANK.NS:\n",
    "Final Balance: Rs9939.17\n",
    "Return: -0.61%\n",
    "Number of trades: 48\n",
    "Good trades: 23\n",
    "Bad trades: 25\n",
    "Accuracy: 47.92%\n",
    "\n",
    "Results for INFY.NS:\n",
    "Final Balance: Rs11382.55\n",
    "Return: 13.83%\n",
    "Number of trades: 20\n",
    "Good trades: 12\n",
    "Bad trades: 8\n",
    "Accuracy: 60.00%\n",
    "\n",
    "Results for HINDUNILVR.NS:\n",
    "Final Balance: Rs10929.69\n",
    "Return: 9.30%\n",
    "Number of trades: 32\n",
    "Good trades: 17\n",
    "Bad trades: 15\n",
    "Accuracy: 53.12%\n",
    "\n",
    "Results for BHARTIARTL.NS:\n",
    "Final Balance: Rs10597.87\n",
    "Return: 5.98%\n",
    "Number of trades: 44\n",
    "Good trades: 21\n",
    "Bad trades: 23\n",
    "Accuracy: 47.73%\n",
    "\n",
    "Results for ICICIBANK.NS:\n",
    "Final Balance: Rs12160.42\n",
    "Return: 21.60%\n",
    "Number of trades: 48\n",
    "Good trades: 26\n",
    "Bad trades: 22\n",
    "Accuracy: 54.17%\n",
    "\n",
    "Results for SBIN.NS:\n",
    "Final Balance: Rs11457.46\n",
    "Return: 14.57%\n",
    "Number of trades: 49\n",
    "Good trades: 22\n",
    "Bad trades: 27\n",
    "Accuracy: 44.90%\n",
    "\n",
    "Results for LICI.NS:\n",
    "Final Balance: Rs13059.52\n",
    "Return: 30.60%\n",
    "Number of trades: 47\n",
    "Good trades: 25\n",
    "Bad trades: 22\n",
    "Accuracy: 53.19%\n",
    "\n",
    "Results for ITC.NS:\n",
    "Final Balance: Rs9142.65\n",
    "Return: -8.57%\n",
    "Number of trades: 34\n",
    "Good trades: 14\n",
    "Bad trades: 20\n",
    "Accuracy: 41.18%"
   ]
  },
  {
   "cell_type": "code",
   "execution_count": 105,
   "id": "311d857a",
   "metadata": {},
   "outputs": [
    {
     "name": "stdout",
     "output_type": "stream",
     "text": [
      "Buy on 2024-01-30 00:00:00+05:30: Price Rs 2805.73, Shares: 3.0, Balance: 1582.82\n",
      "Sell on 2024-02-02 00:00:00+05:30: Price Rs 2905.54, Shares: 3.0, Balance: 10299.43\n",
      "Buy on 2024-02-05 00:00:00+05:30: Price Rs 2868.31, Shares: 3.0, Balance: 1694.49\n",
      "Sell on 2024-02-06 00:00:00+05:30: Price Rs 2845.94, Shares: 3.0, Balance: 10232.31\n",
      "Buy on 2024-02-08 00:00:00+05:30: Price Rs 2890.44, Shares: 3.0, Balance: 1560.99\n",
      "Sell on 2024-02-12 00:00:00+05:30: Price Rs 2894.87, Shares: 3.0, Balance: 10245.62\n",
      "Buy on 2024-02-14 00:00:00+05:30: Price Rs 2952.73, Shares: 3.0, Balance: 1387.43\n",
      "Sell on 2024-02-15 00:00:00+05:30: Price Rs 2931.25, Shares: 3.0, Balance: 10181.18\n",
      "Buy on 2024-03-21 00:00:00+05:30: Price Rs 2892.13, Shares: 3.0, Balance: 1504.78\n",
      "Sell on 2024-03-26 00:00:00+05:30: Price Rs 2873.40, Shares: 3.0, Balance: 10124.98\n",
      "Buy on 2024-03-27 00:00:00+05:30: Price Rs 2975.60, Shares: 3.0, Balance: 1198.17\n",
      "Sell on 2024-03-28 00:00:00+05:30: Price Rs 2961.65, Shares: 3.0, Balance: 10083.12\n",
      "Buy on 2024-03-28 00:00:00+05:30: Price Rs 2961.65, Shares: 3.0, Balance: 1198.17\n",
      "Sell on 2024-04-01 00:00:00+05:30: Price Rs 2959.51, Shares: 3.0, Balance: 10076.69\n",
      "Buy on 2024-04-01 00:00:00+05:30: Price Rs 2959.51, Shares: 3.0, Balance: 1198.17\n",
      "Sell on 2024-04-03 00:00:00+05:30: Price Rs 2933.24, Shares: 3.0, Balance: 9997.91\n",
      "Buy on 2024-04-08 00:00:00+05:30: Price Rs 2961.90, Shares: 3.0, Balance: 1112.22\n",
      "Sell on 2024-04-09 00:00:00+05:30: Price Rs 2917.40, Shares: 3.0, Balance: 9864.41\n",
      "Buy on 2024-04-10 00:00:00+05:30: Price Rs 2949.14, Shares: 3.0, Balance: 1016.99\n",
      "Sell on 2024-04-12 00:00:00+05:30: Price Rs 2924.37, Shares: 3.0, Balance: 9790.11\n",
      "Buy on 2024-04-29 00:00:00+05:30: Price Rs 2920.14, Shares: 3.0, Balance: 1029.7\n",
      "Sell on 2024-04-30 00:00:00+05:30: Price Rs 2924.08, Shares: 3.0, Balance: 9801.92\n",
      "Buy on 2024-05-14 00:00:00+05:30: Price Rs 2830.54, Shares: 3.0, Balance: 1310.29\n",
      "Sell on 2024-05-15 00:00:00+05:30: Price Rs 2822.97, Shares: 3.0, Balance: 9779.2\n",
      "Buy on 2024-05-16 00:00:00+05:30: Price Rs 2841.06, Shares: 3.0, Balance: 1256.03\n",
      "Sell on 2024-05-29 00:00:00+05:30: Price Rs 2871.80, Shares: 3.0, Balance: 9871.44\n",
      "Buy on 2024-05-31 00:00:00+05:30: Price Rs 2851.12, Shares: 3.0, Balance: 1318.07\n",
      "Sell on 2024-06-04 00:00:00+05:30: Price Rs 2785.10, Shares: 3.0, Balance: 9673.36\n",
      "Buy on 2024-06-07 00:00:00+05:30: Price Rs 2929.96, Shares: 3.0, Balance: 883.49\n",
      "Sell on 2024-06-11 00:00:00+05:30: Price Rs 2903.50, Shares: 3.0, Balance: 9593.98\n",
      "Buy on 2024-06-11 00:00:00+05:30: Price Rs 2903.50, Shares: 3.0, Balance: 883.49\n",
      "Sell on 2024-06-19 00:00:00+05:30: Price Rs 2907.43, Shares: 3.0, Balance: 9605.79\n",
      "Buy on 2024-06-20 00:00:00+05:30: Price Rs 2937.43, Shares: 3.0, Balance: 793.5\n",
      "Sell on 2024-06-21 00:00:00+05:30: Price Rs 2898.56, Shares: 3.0, Balance: 9489.19\n",
      "Buy on 2024-06-26 00:00:00+05:30: Price Rs 3017.81, Shares: 3.0, Balance: 435.76\n",
      "Sell on 2024-07-11 00:00:00+05:30: Price Rs 3150.61, Shares: 3.0, Balance: 9887.58\n",
      "Buy on 2024-07-12 00:00:00+05:30: Price Rs 3182.65, Shares: 3.0, Balance: 339.64\n",
      "Sell on 2024-07-15 00:00:00+05:30: Price Rs 3183.64, Shares: 3.0, Balance: 9890.57\n",
      "Buy on 2024-08-09 00:00:00+05:30: Price Rs 2938.63, Shares: 3.0, Balance: 1074.69\n",
      "Sell on 2024-08-12 00:00:00+05:30: Price Rs 2911.37, Shares: 3.0, Balance: 9808.8\n",
      "Buy on 2024-08-16 00:00:00+05:30: Price Rs 2946.40, Shares: 3.0, Balance: 969.6\n"
     ]
    }
   ],
   "source": [
    "for trade in results['RELIANCE.NS']['trades']:\n",
    "            print(f\"{trade[0].capitalize()} on {trade[1]}: Price Rs {trade[2]:.2f}, Shares: {trade[3]}, Balance: {round(trade[4],2)}\")"
   ]
  },
  {
   "cell_type": "code",
   "execution_count": 94,
   "id": "4464c38f",
   "metadata": {},
   "outputs": [],
   "source": [
    "avg26 = 0\n",
    "for i in symbols:\n",
    "    avg26 += results[i]['prediction_accuracy']"
   ]
  },
  {
   "cell_type": "code",
   "execution_count": 95,
   "id": "74d4202d",
   "metadata": {},
   "outputs": [],
   "source": [
    "avg26 /= len(symbols)"
   ]
  },
  {
   "cell_type": "code",
   "execution_count": 96,
   "id": "1c2789b8",
   "metadata": {},
   "outputs": [
    {
     "data": {
      "text/plain": [
       "48.29285109916386"
      ]
     },
     "execution_count": 96,
     "metadata": {},
     "output_type": "execute_result"
    }
   ],
   "source": [
    "avg26 "
   ]
  },
  {
   "cell_type": "code",
   "execution_count": 41,
   "id": "ec02061f",
   "metadata": {},
   "outputs": [],
   "source": [
    "avg12 = 57.58 + 51.85 + 45.76 + 53.33 + 55.56"
   ]
  },
  {
   "cell_type": "code",
   "execution_count": 42,
   "id": "fc2a89a9",
   "metadata": {},
   "outputs": [],
   "source": [
    "avg12 /= 5"
   ]
  },
  {
   "cell_type": "code",
   "execution_count": 43,
   "id": "def27151",
   "metadata": {},
   "outputs": [
    {
     "data": {
      "text/plain": [
       "52.815999999999995"
      ]
     },
     "execution_count": 43,
     "metadata": {},
     "output_type": "execute_result"
    }
   ],
   "source": [
    "avg12  #Loss in 4 out of 5 stock. "
   ]
  },
  {
   "cell_type": "code",
   "execution_count": 45,
   "id": "a20d0005",
   "metadata": {},
   "outputs": [
    {
     "data": {
      "text/plain": [
       "51.56764906919706"
      ]
     },
     "execution_count": 45,
     "metadata": {},
     "output_type": "execute_result"
    }
   ],
   "source": [
    "avg5 = 0\n",
    "for i in symbols:\n",
    "    avg5 += results[i]['prediction_accuracy']\n",
    "    \n",
    "avg5 /= 5\n",
    "avg5 # Loss in 2 out of 5 stocks. The profits are low and are nearly around 2.5%"
   ]
  },
  {
   "cell_type": "code",
   "execution_count": null,
   "id": "a31cceb2",
   "metadata": {},
   "outputs": [],
   "source": []
  }
 ],
 "metadata": {
  "kernelspec": {
   "display_name": "Python 3 (ipykernel)",
   "language": "python",
   "name": "python3"
  },
  "language_info": {
   "codemirror_mode": {
    "name": "ipython",
    "version": 3
   },
   "file_extension": ".py",
   "mimetype": "text/x-python",
   "name": "python",
   "nbconvert_exporter": "python",
   "pygments_lexer": "ipython3",
   "version": "3.11.7"
  }
 },
 "nbformat": 4,
 "nbformat_minor": 5
}
